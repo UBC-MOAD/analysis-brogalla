{
 "cells": [
  {
   "cell_type": "markdown",
   "metadata": {},
   "source": [
    "## Time series of glacial and continental river contributions across boundaries"
   ]
  },
  {
   "cell_type": "code",
   "execution_count": 1,
   "metadata": {},
   "outputs": [],
   "source": [
    "import pickle\n",
    "import numpy as np\n",
    "import matplotlib.pyplot as plt\n",
    "import matplotlib\n",
    "from mpl_toolkits.basemap import Basemap, cm\n",
    "import cmocean\n",
    "import netCDF4 as nc\n",
    "from itertools import compress\n",
    "import datetime as dt\n",
    "import matplotlib.dates as mdates\n",
    "import seaborn as sns; sns.set()\n",
    "from matplotlib.ticker import FormatStrFormatter\n",
    "import warnings\n",
    "import os \n",
    "from datetime import date\n",
    "warnings.filterwarnings('ignore')\n",
    "\n",
    "%matplotlib inline"
   ]
  },
  {
   "cell_type": "markdown",
   "metadata": {},
   "source": [
    "##### Parameters:"
   ]
  },
  {
   "cell_type": "code",
   "execution_count": 2,
   "metadata": {},
   "outputs": [],
   "source": [
    "# Domain dimensions:\n",
    "imin, imax = 1480, 2180\n",
    "jmin, jmax = 160, 800\n",
    "\n",
    "# Time series folders:\n",
    "folder_ref   = '/ocean/brogalla/GEOTRACES/time-series/Mn-set4-202004/'\n",
    "folder_riv2a = '/ocean/brogalla/GEOTRACES/time-series/riv-2a-202005/'\n",
    "folder_riv2b = '/ocean/brogalla/GEOTRACES/time-series/riv-2b-202005/'\n",
    "\n",
    "# Set boundary coordinates:\n",
    "l1i = 2013-imin;                      l1j = np.arange(300-jmin,392-jmin)\n",
    "l2i = 1935-imin;                      l2j = np.arange(450-jmin,530-jmin)\n",
    "l3i = np.arange(1850-imin,1885-imin); l3j = 555-jmin\n",
    "l4i = np.arange(1753-imin,1837-imin); l4j = 568-jmin\n",
    "l5i = np.arange(1720-imin,1790-imin); l5j = 605-jmin\n",
    "l6i = 1730-imin;                      l6j = np.arange(660-jmin,690-jmin)\n",
    "t1i = np.arange(1635-imin,1653-imin); t1j = 760-jmin\n",
    "r1i = 1520-imin;                      r1j = np.arange(505-jmin,673-jmin)\n",
    "r2i = 1520-imin;                      r2j = np.arange(385-jmin,405-jmin)\n",
    "N1i = np.arange(1570-imin,1630-imin); N1j = 635-jmin #Nares\n",
    "P1i = 1585-imin;                      P1j = np.arange(485-jmin,538-jmin)  #Parry channel\n",
    "\n",
    "# Colours for the boundaries:\n",
    "bdy_colours  = ['#386c82','#6e8bce','#992622','#36ab92','#085965','#ce9169']"
   ]
  },
  {
   "cell_type": "markdown",
   "metadata": {},
   "source": [
    "##### Load files:"
   ]
  },
  {
   "cell_type": "code",
   "execution_count": 3,
   "metadata": {},
   "outputs": [],
   "source": [
    "mask  = nc.Dataset('/ocean/brogalla/GEOTRACES/ariane_runs/ANHA12_Ariane_mesh.nc')\n",
    "tmask = np.array(mask.variables['tmask'])\n",
    "cond = (tmask[0,:,:,:] > 0.1) \n",
    "land_mask = np.ma.masked_where(cond, tmask[0,:,:,:])\n",
    "\n",
    "mesh  = nc.Dataset('/ocean/brogalla/GEOTRACES/data/ANHA12-EXH006_5d_gridT_y2002m01d05.nc')\n",
    "lons  = np.array(mesh.variables['nav_lon'])\n",
    "lats  = np.array(mesh.variables['nav_lat'])\n",
    "tmask = tmask[0,:,imin:imax,jmin:jmax]"
   ]
  },
  {
   "cell_type": "code",
   "execution_count": 4,
   "metadata": {},
   "outputs": [],
   "source": [
    "ref   = nc.Dataset('/data/brogalla/run_storage/Mn-set4-202004/ref-2003/ANHA12_EXH006_2003_monthly.nc',  'r')\n",
    "tlons = np.array(ref.variables['nav_lon'])\n",
    "tlats = np.array(ref.variables['nav_lat'])\n",
    "depth = np.array(ref.variables['deptht'])"
   ]
  },
  {
   "cell_type": "markdown",
   "metadata": {},
   "source": [
    "##### Functions:"
   ]
  },
  {
   "cell_type": "code",
   "execution_count": 5,
   "metadata": {},
   "outputs": [],
   "source": [
    "def time_series_pickle(year, riv_2a=False, riv_2b=False):\n",
    "    \n",
    "    # Load calculated time series of fluxes:\n",
    "    if riv_2a:\n",
    "        time_series_V1, time_series_V2, time_series_V3, time_series_V4, time_series_V5, time_series_V6,time_series_V7,\\\n",
    "        time_series_V8, time_series_V9, time_series_V10, time_series_V11, time_series_mn1, time_series_mn2, \\\n",
    "        time_series_mn3, time_series_mn4, time_series_mn5, time_series_mn6, time_series_mn7, time_series_mn8, \\\n",
    "        time_series_mn9, time_series_mn10, time_series_mn11 =  \\\n",
    "                                pickle.load(open(folder_riv2a+'time-series-'+str(year)+'.pickle','rb'))  \n",
    "    elif riv_2b:\n",
    "        time_series_V1, time_series_V2, time_series_V3, time_series_V4, time_series_V5, time_series_V6,time_series_V7,\\\n",
    "        time_series_V8, time_series_V9, time_series_V10, time_series_V11, time_series_mn1, time_series_mn2, \\\n",
    "        time_series_mn3, time_series_mn4, time_series_mn5, time_series_mn6, time_series_mn7, time_series_mn8, \\\n",
    "        time_series_mn9, time_series_mn10, time_series_mn11 =  \\\n",
    "                                pickle.load(open(folder_riv2b+'time-series-'+str(year)+'.pickle','rb'))  \n",
    "    else:\n",
    "        time_series_V1, time_series_V2, time_series_V3, time_series_V4, time_series_V5, time_series_V6,time_series_V7,\\\n",
    "        time_series_V8, time_series_V9, time_series_V10, time_series_V11, time_series_mn1, time_series_mn2, \\\n",
    "        time_series_mn3, time_series_mn4, time_series_mn5, time_series_mn6, time_series_mn7, time_series_mn8, \\\n",
    "        time_series_mn9, time_series_mn10, time_series_mn11 =  \\\n",
    "                                pickle.load(open(folder_ref+'time-series-'+str(year)+'.pickle','rb'))\n",
    "    \n",
    "    # Conservation of volume check:\n",
    "    sum_V = -1*np.sum(time_series_V1,axis=2) - np.sum(time_series_V2,axis=2) - np.sum(time_series_V7,axis=2) - \\\n",
    "           (np.sum(time_series_V3,axis=2) + np.sum(time_series_V4,axis=2) + np.sum(time_series_V5,axis=2) + \\\n",
    "            np.sum(time_series_V6,axis=2)) + np.sum(time_series_V8,axis=2) + np.sum(time_series_V9,axis=2)\n",
    "#     print('Total volume change at end of time period: ', np.sum(sum_V))\n",
    "    \n",
    "    # Combine western CAA time series:\n",
    "    time_series_mn_WCAA = np.sum(np.sum(time_series_mn3,axis=2),axis=1) + \\\n",
    "                    np.sum(np.sum(time_series_mn4,axis=2),axis=1) + \\\n",
    "                    np.sum(np.sum(time_series_mn5,axis=2),axis=1) + \\\n",
    "                    np.sum(np.sum(time_series_mn6,axis=2),axis=1)\n",
    "    time_series_V_WCAA = np.sum(np.sum(time_series_V3,axis=2),axis=1) + \\\n",
    "                    np.sum(np.sum(time_series_V4,axis=2),axis=1) + \\\n",
    "                    np.sum(np.sum(time_series_V5,axis=2),axis=1) + \\\n",
    "                    np.sum(np.sum(time_series_V6,axis=2),axis=1)\n",
    "    \n",
    "    return time_series_mn1, time_series_mn2, time_series_mn_WCAA, time_series_mn7, time_series_mn8, \\\n",
    "            time_series_mn9, time_series_mn10, time_series_mn11"
   ]
  },
  {
   "cell_type": "code",
   "execution_count": 6,
   "metadata": {},
   "outputs": [],
   "source": [
    "def file_dates(year):\n",
    "    #start_date and end_date are datetime objects\n",
    "    start_date = dt.datetime(year,1,1)\n",
    "    end_date   = dt.datetime(year,12,31)\n",
    "    \n",
    "    file_list1 = np.sort(os.listdir('/data/brogalla/run_storage/Mn-set4-202004/ref-'+str(year)+'/'))\n",
    "    file_list2 = np.sort(os.listdir('/data/brogalla/ANHA12/'))\n",
    "    \n",
    "    Vlist = [i[26:31]=='gridV' for i in file_list2]\n",
    "    gridV_list = list(compress(file_list2, Vlist))\n",
    "    dateV_list = [dt.datetime.strptime(i[14:25], \"y%Ym%md%d\") for i in gridV_list]\n",
    "    gridV_file_list = list(compress(gridV_list, [V > start_date and V < end_date for V in dateV_list]))\n",
    "    \n",
    "    dates = [dt.datetime.strptime(i[14:25], \"y%Ym%md%d\") for i in gridV_file_list]\n",
    "    \n",
    "    return dates"
   ]
  },
  {
   "cell_type": "code",
   "execution_count": 7,
   "metadata": {},
   "outputs": [],
   "source": [
    "def calculate_fluxes(year, Baffin, Nares, Parry):\n",
    "    ts_ref1, ts_ref2, ts_ref_WCAA, ts_ref7, ts_ref8, ts_ref9, ts_ref10, ts_ref11 = time_series_pickle(year)\n",
    "    ts_2a1, ts_2a2, ts_2a_WCAA, ts_2a7, ts_2a8, ts_2a9, ts_2a10, ts_2a11 = time_series_pickle(year, riv_2a=True)\n",
    "    ts_2b1, ts_2b2, ts_2b_WCAA, ts_2b7, ts_2b8, ts_2b9, ts_2b10, ts_2b11 = time_series_pickle(year, riv_2b=True)\n",
    "    \n",
    "    if Baffin:\n",
    "        # Baffin Bay:\n",
    "        cumsum_BB_ref = np.cumsum(np.sum(np.sum(-1*ts_ref8, axis=2), axis=1))\n",
    "        cumsum_BB_riv = np.cumsum(np.sum(np.sum(-1*ts_2a8,  axis=2), axis=1))\n",
    "        cumsum_BB_con = np.cumsum(np.sum(np.sum(-1*ts_2b8,  axis=2), axis=1))\n",
    "        \n",
    "        return cumsum_BB_ref, cumsum_BB_riv, cumsum_BB_con\n",
    "        \n",
    "    if Parry:\n",
    "        # Parry Channel:\n",
    "        cumsum_Pout_ref = np.cumsum(np.sum(np.sum(-1*ts_ref11, axis=2), axis=1))\n",
    "        cumsum_Pout_riv = np.cumsum(np.sum(np.sum(-1*ts_2a11,  axis=2), axis=1))\n",
    "        cumsum_Pout_con = np.cumsum(np.sum(np.sum(-1*ts_2b11,  axis=2), axis=1))\n",
    "        cumsum_Pin_ref  = np.cumsum(np.sum(np.sum(-1*ts_ref2, axis=2), axis=1))\n",
    "        cumsum_Pin_riv  = np.cumsum(np.sum(np.sum(-1*ts_2a2,  axis=2), axis=1))\n",
    "        cumsum_Pin_con  = np.cumsum(np.sum(np.sum(-1*ts_2b2,  axis=2), axis=1))\n",
    "\n",
    "#         cumsum_Parry_ref = -cumsum_Pin_ref + cumsum_Pout_ref\n",
    "#         cumsum_Parry_riv = -cumsum_Pin_riv + cumsum_Pout_riv\n",
    "#         cumsum_Parry_con = -cumsum_Pin_con + cumsum_Pout_con\n",
    "        \n",
    "        cumsum_Parry_ref = cumsum_Pout_ref\n",
    "        cumsum_Parry_riv = cumsum_Pout_riv\n",
    "        cumsum_Parry_con = cumsum_Pout_con\n",
    "        \n",
    "        return cumsum_Parry_ref, cumsum_Parry_riv, cumsum_Parry_con\n",
    "    \n",
    "    if Nares:\n",
    "        # Nares Strait:\n",
    "        cumsum_Nout_ref = np.cumsum(np.sum(np.sum(-1*ts_ref10, axis=2), axis=1))\n",
    "        cumsum_Nout_riv = np.cumsum(np.sum(np.sum(-1*ts_2a10,  axis=2), axis=1))\n",
    "        cumsum_Nout_con = np.cumsum(np.sum(np.sum(-1*ts_2b10,  axis=2), axis=1))\n",
    "        cumsum_Nin_ref  = np.cumsum(np.sum(np.sum(-1*ts_ref7,  axis=2), axis=1))\n",
    "        cumsum_Nin_riv  = np.cumsum(np.sum(np.sum(-1*ts_2a7,  axis=2), axis=1))\n",
    "        cumsum_Nin_con  = np.cumsum(np.sum(np.sum(-1*ts_2b7,  axis=2), axis=1))\n",
    "\n",
    "#         cumsum_Nares_ref  = -cumsum_Nin_ref + cumsum_Nout_ref\n",
    "#         cumsum_Nares_riv  = -cumsum_Nin_riv + cumsum_Nout_riv\n",
    "#         cumsum_Nares_con  = -cumsum_Nin_con + cumsum_Nout_con\n",
    "        cumsum_Nares_ref = cumsum_Nout_ref\n",
    "        cumsum_Nares_riv = cumsum_Nout_riv\n",
    "        cumsum_Nares_con = cumsum_Nout_con\n",
    "        \n",
    "        return cumsum_Nares_ref, cumsum_Nares_riv, cumsum_Nares_con"
   ]
  },
  {
   "cell_type": "code",
   "execution_count": 8,
   "metadata": {},
   "outputs": [],
   "source": [
    "def calculate_proportion(cumsum_ref, cumsum_riv, cumsum_con):\n",
    "      \n",
    "    # Proportional contributions:\n",
    "    riv_prop    = np.divide(cumsum_riv - cumsum_ref, cumsum_ref)*100\n",
    "    con_prop    = np.divide(cumsum_con - cumsum_ref, cumsum_ref)*100\n",
    "                \n",
    "    return riv_prop, con_prop"
   ]
  },
  {
   "cell_type": "code",
   "execution_count": 9,
   "metadata": {},
   "outputs": [],
   "source": [
    "def plot_fluxes(start_year, end_year, Baffin=False, Nares=False, Parry=False, savefig=False, amin=0, amax=6.5):\n",
    "    \n",
    "    st = sns.axes_style(\"whitegrid\")\n",
    "    \n",
    "    with st:\n",
    "        fig, ax = plt.subplots(1,1, figsize=(8,4))\n",
    "        \n",
    "        # Flux at the end of the previous year:\n",
    "        prev_year_ref = 0; prev_year_riv = 0; prev_year_con = 0; \n",
    "        \n",
    "        for year in range(start_year, end_year+1):\n",
    "            # Calculate volume and Mn fluxes\n",
    "            ref, riv, con = calculate_fluxes(year, Baffin, Nares, Parry)\n",
    "            cumsum_ref    = prev_year_ref + ref\n",
    "            cumsum_riv    = prev_year_riv + riv\n",
    "            cumsum_con    = prev_year_con + con\n",
    "            prev_year_ref = cumsum_ref[-1]\n",
    "            prev_year_riv = cumsum_riv[-1]\n",
    "            prev_year_con = cumsum_con[-1]\n",
    "            \n",
    "            # Calculate proportion:\n",
    "            riv_prop, con_prop = calculate_proportion(cumsum_ref, cumsum_riv, cumsum_con)\n",
    "            dates_year         = file_dates(year)\n",
    "            print('Year: ', year, '----------------------------------------')\n",
    "            print('Average glacial proportion:     ', '{:.2f}'.format(np.mean(riv_prop)))\n",
    "            print('Average continental proportion: ', '{:.2f}'.format(np.mean(con_prop)))\n",
    "            \n",
    "            # Plot lines:\n",
    "            sns.lineplot(dates_year, riv_prop, linewidth=4.5, color=bdy_colours[3], ax=ax)\n",
    "            sns.lineplot(dates_year, con_prop, linewidth=4.5, color=bdy_colours[5], ax=ax)\n",
    "\n",
    "        # Figure settings:\n",
    "        ax.yaxis.set_major_formatter(FormatStrFormatter('%.1f'))\n",
    "        ax.set(ylim=(amin, amax), xlim=(dt.datetime(2002,1,1), dt.datetime(2020,1,1)))\n",
    "        ax.set_xlabel('Year', fontsize=14)\n",
    "        ax.set_ylabel('Contribution to Mn flux [%]', fontsize=14)\n",
    "        ax.tick_params(axis='both', which='major', labelsize=14)\n",
    "        ax.spines['left'].set_linewidth(1.5);   ax.spines['left'].set_color('black');\n",
    "        ax.spines['bottom'].set_linewidth(1.5); ax.spines['bottom'].set_color('black');\n",
    "        ax.spines['right'].set_linewidth(1.5);  ax.spines['right'].set_color('black');\n",
    "        ax.spines['top'].set_linewidth(1.5);    ax.spines['top'].set_color('black');\n",
    "\n",
    "    # Choose whether or not to save the figure\n",
    "    if savefig:\n",
    "        if Baffin:\n",
    "            fig.savefig('/ocean/brogalla/GEOTRACES/figures/rivers/R1-time-series-Baffin-'+ \\\n",
    "                str(date.today().strftime('%Y%m%d'))+'.png', bbox_inches='tight', dpi=300)\n",
    "        if Nares:\n",
    "            fig.savefig('/ocean/brogalla/GEOTRACES/figures/rivers/R1-time-series-Nares-'+ \\\n",
    "                str(date.today().strftime('%Y%m%d'))+'.png', bbox_inches='tight', dpi=300)\n",
    "        if Parry:\n",
    "            fig.savefig('/ocean/brogalla/GEOTRACES/figures/rivers/R1-time-series-Parry-'+ \\\n",
    "                str(date.today().strftime('%Y%m%d'))+'.png', bbox_inches='tight', dpi=300)\n",
    "    \n",
    "    return"
   ]
  },
  {
   "cell_type": "markdown",
   "metadata": {},
   "source": [
    "##### Figures:"
   ]
  },
  {
   "cell_type": "markdown",
   "metadata": {},
   "source": [
    "Time series across boundaries\n",
    "- Positive --- into domain\n",
    "- Negative --- out of domain"
   ]
  },
  {
   "cell_type": "code",
   "execution_count": 10,
   "metadata": {},
   "outputs": [
    {
     "name": "stdout",
     "output_type": "stream",
     "text": [
      "Year:  2002 ----------------------------------------\n",
      "Average glacial proportion:      1.82\n",
      "Average continental proportion:  1.12\n",
      "Year:  2003 ----------------------------------------\n",
      "Average glacial proportion:      1.99\n",
      "Average continental proportion:  1.30\n",
      "Year:  2004 ----------------------------------------\n",
      "Average glacial proportion:      2.08\n",
      "Average continental proportion:  1.49\n",
      "Year:  2005 ----------------------------------------\n",
      "Average glacial proportion:      2.14\n",
      "Average continental proportion:  1.70\n",
      "Year:  2006 ----------------------------------------\n",
      "Average glacial proportion:      2.17\n",
      "Average continental proportion:  1.75\n",
      "Year:  2007 ----------------------------------------\n",
      "Average glacial proportion:      2.23\n",
      "Average continental proportion:  1.71\n",
      "Year:  2008 ----------------------------------------\n",
      "Average glacial proportion:      2.31\n",
      "Average continental proportion:  1.64\n",
      "Year:  2009 ----------------------------------------\n",
      "Average glacial proportion:      2.37\n",
      "Average continental proportion:  1.55\n",
      "Year:  2010 ----------------------------------------\n",
      "Average glacial proportion:      2.47\n",
      "Average continental proportion:  1.51\n",
      "Year:  2011 ----------------------------------------\n",
      "Average glacial proportion:      2.54\n",
      "Average continental proportion:  1.48\n",
      "Year:  2012 ----------------------------------------\n",
      "Average glacial proportion:      2.64\n",
      "Average continental proportion:  1.41\n",
      "Year:  2013 ----------------------------------------\n",
      "Average glacial proportion:      2.69\n",
      "Average continental proportion:  1.37\n",
      "Year:  2014 ----------------------------------------\n",
      "Average glacial proportion:      2.73\n",
      "Average continental proportion:  1.32\n",
      "Year:  2015 ----------------------------------------\n",
      "Average glacial proportion:      2.74\n",
      "Average continental proportion:  1.29\n",
      "Year:  2016 ----------------------------------------\n",
      "Average glacial proportion:      2.71\n",
      "Average continental proportion:  1.26\n",
      "Year:  2017 ----------------------------------------\n",
      "Average glacial proportion:      2.66\n",
      "Average continental proportion:  1.23\n",
      "Year:  2018 ----------------------------------------\n",
      "Average glacial proportion:      2.67\n",
      "Average continental proportion:  1.21\n",
      "Year:  2019 ----------------------------------------\n",
      "Average glacial proportion:      2.63\n",
      "Average continental proportion:  1.18\n"
     ]
    },
    {
     "data": {
      "image/png": "[encoded data removed]",
      "text/plain": [
       "<Figure size 576x288 with 1 Axes>"
      ]
     },
     "metadata": {},
     "output_type": "display_data"
    }
   ],
   "source": [
    "plot_fluxes(2002, 2019, amin=0, amax=4, Baffin=True, savefig=True)"
   ]
  },
  {
   "cell_type": "code",
   "execution_count": 11,
   "metadata": {},
   "outputs": [
    {
     "name": "stdout",
     "output_type": "stream",
     "text": [
      "Year:  2002 ----------------------------------------\n",
      "Average glacial proportion:      0.24\n",
      "Average continental proportion:  1.87\n",
      "Year:  2003 ----------------------------------------\n",
      "Average glacial proportion:      0.25\n",
      "Average continental proportion:  2.06\n",
      "Year:  2004 ----------------------------------------\n",
      "Average glacial proportion:      0.22\n",
      "Average continental proportion:  2.44\n",
      "Year:  2005 ----------------------------------------\n",
      "Average glacial proportion:      0.19\n",
      "Average continental proportion:  2.72\n",
      "Year:  2006 ----------------------------------------\n",
      "Average glacial proportion:      0.17\n",
      "Average continental proportion:  2.77\n",
      "Year:  2007 ----------------------------------------\n",
      "Average glacial proportion:      0.19\n",
      "Average continental proportion:  2.74\n",
      "Year:  2008 ----------------------------------------\n",
      "Average glacial proportion:      0.20\n",
      "Average continental proportion:  2.65\n",
      "Year:  2009 ----------------------------------------\n",
      "Average glacial proportion:      0.21\n",
      "Average continental proportion:  2.56\n",
      "Year:  2010 ----------------------------------------\n",
      "Average glacial proportion:      0.21\n",
      "Average continental proportion:  2.52\n",
      "Year:  2011 ----------------------------------------\n",
      "Average glacial proportion:      0.20\n",
      "Average continental proportion:  2.47\n",
      "Year:  2012 ----------------------------------------\n",
      "Average glacial proportion:      0.23\n",
      "Average continental proportion:  2.41\n",
      "Year:  2013 ----------------------------------------\n",
      "Average glacial proportion:      0.26\n",
      "Average continental proportion:  2.34\n",
      "Year:  2014 ----------------------------------------\n",
      "Average glacial proportion:      0.30\n",
      "Average continental proportion:  2.28\n",
      "Year:  2015 ----------------------------------------\n",
      "Average glacial proportion:      0.35\n",
      "Average continental proportion:  2.24\n",
      "Year:  2016 ----------------------------------------\n",
      "Average glacial proportion:      0.39\n",
      "Average continental proportion:  2.19\n",
      "Year:  2017 ----------------------------------------\n",
      "Average glacial proportion:      0.44\n",
      "Average continental proportion:  2.12\n",
      "Year:  2018 ----------------------------------------\n",
      "Average glacial proportion:      0.49\n",
      "Average continental proportion:  2.07\n",
      "Year:  2019 ----------------------------------------\n",
      "Average glacial proportion:      0.50\n",
      "Average continental proportion:  2.01\n"
     ]
    },
    {
     "data": {
      "image/png": "[encoded data removed]",
      "text/plain": [
       "<Figure size 576x288 with 1 Axes>"
      ]
     },
     "metadata": {},
     "output_type": "display_data"
    }
   ],
   "source": [
    "plot_fluxes(2002, 2019, amin=0, amax=4, Parry=True, savefig=True)"
   ]
  },
  {
   "cell_type": "code",
   "execution_count": 12,
   "metadata": {},
   "outputs": [
    {
     "name": "stdout",
     "output_type": "stream",
     "text": [
      "Year:  2002 ----------------------------------------\n",
      "Average glacial proportion:      1.59\n",
      "Average continental proportion:  0.04\n",
      "Year:  2003 ----------------------------------------\n",
      "Average glacial proportion:      1.87\n",
      "Average continental proportion:  0.04\n",
      "Year:  2004 ----------------------------------------\n",
      "Average glacial proportion:      2.00\n",
      "Average continental proportion:  0.04\n",
      "Year:  2005 ----------------------------------------\n",
      "Average glacial proportion:      2.08\n",
      "Average continental proportion:  0.05\n",
      "Year:  2006 ----------------------------------------\n",
      "Average glacial proportion:      2.14\n",
      "Average continental proportion:  0.04\n",
      "Year:  2007 ----------------------------------------\n",
      "Average glacial proportion:      2.21\n",
      "Average continental proportion:  0.03\n",
      "Year:  2008 ----------------------------------------\n",
      "Average glacial proportion:      2.26\n",
      "Average continental proportion:  0.03\n",
      "Year:  2009 ----------------------------------------\n",
      "Average glacial proportion:      2.34\n",
      "Average continental proportion:  0.03\n",
      "Year:  2010 ----------------------------------------\n",
      "Average glacial proportion:      2.39\n",
      "Average continental proportion:  0.02\n",
      "Year:  2011 ----------------------------------------\n",
      "Average glacial proportion:      2.43\n",
      "Average continental proportion:  0.02\n",
      "Year:  2012 ----------------------------------------\n",
      "Average glacial proportion:      2.43\n",
      "Average continental proportion:  0.02\n",
      "Year:  2013 ----------------------------------------\n",
      "Average glacial proportion:      2.43\n",
      "Average continental proportion:  0.02\n",
      "Year:  2014 ----------------------------------------\n",
      "Average glacial proportion:      2.41\n",
      "Average continental proportion:  0.02\n",
      "Year:  2015 ----------------------------------------\n",
      "Average glacial proportion:      2.38\n",
      "Average continental proportion:  0.02\n",
      "Year:  2016 ----------------------------------------\n",
      "Average glacial proportion:      2.34\n",
      "Average continental proportion:  0.01\n",
      "Year:  2017 ----------------------------------------\n",
      "Average glacial proportion:      2.30\n",
      "Average continental proportion:  0.01\n",
      "Year:  2018 ----------------------------------------\n",
      "Average glacial proportion:      2.31\n",
      "Average continental proportion:  0.01\n",
      "Year:  2019 ----------------------------------------\n",
      "Average glacial proportion:      2.29\n",
      "Average continental proportion:  0.01\n"
     ]
    },
    {
     "data": {
      "image/png": "[encoded data removed]",
      "text/plain": [
       "<Figure size 576x288 with 1 Axes>"
      ]
     },
     "metadata": {},
     "output_type": "display_data"
    }
   ],
   "source": [
    "plot_fluxes(2002, 2019, Nares=True, amin=0, amax=4, savefig=True)"
   ]
  },
  {
   "cell_type": "markdown",
   "metadata": {},
   "source": [
    "The time series are very similar so far for Parry Channel and Baffin Bay, however, there's a big difference for Nares Strait in the first two years(much larger than before). The only difference that I can think of in terms of running is that I'm spinning up for longer than I was previously... Maybe I'm using different Greenland melt runoff files than before?\n",
    "\n",
    "For Parry Channel, previously spike at start as well, then a gradual increase from 4% in 2004 to 7% in 2018."
   ]
  },
  {
   "cell_type": "code",
   "execution_count": null,
   "metadata": {},
   "outputs": [],
   "source": []
  }
 ],
 "metadata": {
  "kernelspec": {
   "display_name": "Python 3",
   "language": "python",
   "name": "python3"
  },
  "language_info": {
   "codemirror_mode": {
    "name": "ipython",
    "version": 3
   },
   "file_extension": ".py",
   "mimetype": "text/x-python",
   "name": "python",
   "nbconvert_exporter": "python",
   "pygments_lexer": "ipython3",
   "version": "3.7.3"
  }
 },
 "nbformat": 4,
 "nbformat_minor": 2
}
