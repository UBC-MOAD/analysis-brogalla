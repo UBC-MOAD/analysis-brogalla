{
 "cells": [
  {
   "cell_type": "markdown",
   "metadata": {},
   "source": [
    "### River seasonal cycle"
   ]
  },
  {
   "cell_type": "code",
   "execution_count": 5,
   "metadata": {},
   "outputs": [],
   "source": [
    "import numpy as np\n",
    "import matplotlib.pyplot as plt\n",
    "import pandas as pd\n",
    "from datetime import datetime\n",
    "import datetime as dt\n",
    "import pickle\n",
    "import calendar\n",
    "\n",
    "%matplotlib inline"
   ]
  },
  {
   "cell_type": "markdown",
   "metadata": {},
   "source": [
    "### Small Arctic rivers data:\n",
    "https://www.r-arcticnet.sr.unh.edu/v4.0/Tiles/arctic4.html"
   ]
  },
  {
   "cell_type": "code",
   "execution_count": 6,
   "metadata": {},
   "outputs": [],
   "source": [
    "# Coppermine from (https://www.r-arcticnet.sr.unh.edu/v4.0/ViewPoint.pl?Point=3678):\n",
    "# Point ID: 3678\n",
    "coppermine_dates = pd.Series(pd.date_range('1983-01-01', '1987-01-01', freq='1M'))\n",
    "coppermine_discharge = np.array([np.nan, np.nan, np.nan, np.nan, np.nan, np.nan, np.nan, 469, 775, 439, 325, 216, \\\n",
    "                       159, 133, 112, 90.6, 182, 856, 754, 700, 565, 384, 189, 152, \\\n",
    "                       124, 104, 87.1, 72.9, 311, 711, 500, 561, 513, 368, 244, 180, \\\n",
    "                       136, 108, 89, 72.4, 116, 1500, 773, 432, 339, 245, 164, 131])"
   ]
  },
  {
   "cell_type": "markdown",
   "metadata": {},
   "source": [
    "Burnside river (https://www.r-arcticnet.sr.unh.edu/v4.0/ViewPoint.pl?Point=3681)\n",
    "Point ID: 3681"
   ]
  },
  {
   "cell_type": "code",
   "execution_count": 7,
   "metadata": {},
   "outputs": [],
   "source": [
    "burnside_dates = pd.Series(pd.date_range('1976-01-01', '2001-01-01', freq='1M'))\n",
    "burnside_discharge = np.array([np.nan, np.nan, np.nan, np.nan, np.nan, np.nan, np.nan, np.nan, 89.4, 53.2, np.nan, np.nan, \\\n",
    "                     7.17, 4.31, 3.92, 4.76, 13.4, 172, 252, 163, 102, 58.6, 31.8, 17.5, \\\n",
    "                     11.5, 9.8, 8.86, 8.21, 10.2, 184, 488, 253, 118, 48, 29.7, 22.7, \\\n",
    "                     15.3, 6.5, 2.97, 4.72, 10.9, 192, 349, 158, 105, 40.9, 20.7, 9.19, \\\n",
    "                     3.16, 1.78, 1.51, 1.86, 26, 343, 162, 133, 87.1, 32.3, 12.6, 5.59, \\\n",
    "                     3.33, 2.73, np.nan, np.nan, np.nan, np.nan, 340, 185, 359, 168, 34.8, 12.4, \\\n",
    "                     5.71, 3.62, 2.98, 4.26, np.nan, np.nan, 305, 233, 167, 76.3, 9.71, 4.67, \\\n",
    "                     2.52, 0.68, 0, 0, 5.4, 613, 452, 258, 306, 127, 33.9, 29.9, \\\n",
    "                     28.7, 25.6, 21.2, 17.9, 64.5, 749, 382, 327, 210, 98.7, 42.1, 22.2, \\\n",
    "                     9.48, 6.78, 6, 8.75, 274, 887, 358, 262, 249, 126, 41.8, 17.4, \\\n",
    "                     15.8, 15.6, 15.1, 14.4, 14.3, 776, 513, 202, 176, 92.8, 46.1, 24.9, \\\n",
    "                     19.5, 15.2, 12.4, 11.7, 11.5, 744, 299, 190, 181, 102, 44.3, 31, \\\n",
    "                     18.8, 8.06, 6.88, 7.21, 9.28, 849, 262, 140, 171, 120, 41.3, 23.5, \\\n",
    "                     13.8, 5.15, 3.09, 3.21, 3.55, 683, 224, 137, 110, 68.2, 26.6, 16, \\\n",
    "                     7.96, 3.03, 2.54, 2.52, 2.62, 386, 295, 164, 178, 82.1, 28.4, 18.5, \\\n",
    "                     12.7, 9.05, 6.95, 5.52, 15.8, 332, 240, 193, 162, 79, 40, 24.2, \\\n",
    "                     16.6, 12.2, 8.72, 6.19, 4.8, 817, 336, 191, 110, 58.6, 35.3, 25, \\\n",
    "                     19.8, 17.2, 14.6, 12.7, 12.1, 960, 505, 232, 132, 72.9, 44.5, 28.6, \\\n",
    "                     20.9, 15.5, 12.3, 11.6, 41.7, 548, 156, 134, 155, 86.8, 40.4, 21.8, \\\n",
    "                     13.4, 10.4, 9.43, 8.68, 7.3, 565, 208, 178, 140, 89.9, 55.8, 36.5, \\\n",
    "                     24.2, 18.6, 14.9, 11.4, 16.2, 745, 273, 299, 574, 199, 78.4, 45.5, \\\n",
    "                     30.2, 21.4, 15.6, 11.9, 9.52, np.nan, 241, 129, 184, 62.6, 32.4, 23.9, \\\n",
    "                     np.nan, np.nan, np.nan, np.nan, np.nan, 513, 198, 151, 200, 107, np.nan, np.nan, \\\n",
    "                     np.nan, np.nan, np.nan, np.nan, np.nan, np.nan, 365, 203, 344, 126, np.nan, np.nan, \\\n",
    "                     30.8, 24.1, 19.4, 16.6, 16.8, 645, 284, 219, 290, 109, 50.6, 32.8])"
   ]
  },
  {
   "cell_type": "markdown",
   "metadata": {},
   "source": [
    "Ellice river (https://www.r-arcticnet.sr.unh.edu/v4.0/ViewPoint.pl?Point=3683)\n",
    "Point ID: 3683"
   ]
  },
  {
   "cell_type": "code",
   "execution_count": 8,
   "metadata": {},
   "outputs": [],
   "source": [
    "ellice_dates = pd.Series(pd.date_range('1971-01-01', '2001-01-01', freq='1M'))\n",
    "ellice_discharge = np.array([0.00,0.00,0.00,0.00,0.00,510.00,270.00,61.90,138.00,66.10,10.40,2.53,\\\n",
    "                    1.11,0.53,0.08,0.00,0.00,576.00,334.00,64.30,43.30,12.00,0.61,0.00,\\\n",
    "                    0.00,0.00,0.00,0.00,0.27,422.00,77.00,187.00,229.00,30.30,5.80,2.01,\\\n",
    "                    0.54,0.00,0.00,0.00,0.00,418.00,140.00,57.20,32.90,7.36,1.91,0.38,\\\n",
    "                    0.01,0.00,0.00,0.00,0.00,638.00,120.00,31.40,25.20,13.10,3.16,0.22,\\\n",
    "                    0.00,0.00,0.00,0.00,0.60,284.00,205.00,42.20,24.70,8.20,1.13,0.02,\\\n",
    "                    0.00,0.00,0.00,0.00,0.00,367.00,151.00,49.10,62.90,37.40,10.30,4.17,\\\n",
    "                    1.49,0.58,0.07,0.00,0.00,95.90,598.00,123.00,44.60,10.20,2.36,0.51,\\\n",
    "                    0.00,0.00,0.00,0.00,0.00,375.00,364.00,61.00,45.60,10.30,1.70,0.22,\\\n",
    "                    0.00,0.00,0.00,0.00,0.00,379.00,119.00,64.50,67.30,13.10,1.48,0.00,\\\n",
    "                    0.00,0.00,0.00,0.00,0.00,494.00,178.00,56.70,88.30,64.80,10.70,0.18,\\\n",
    "                    0.00,0.00,0.00,0.00,0.00,232.00,298.00,144.0,242.0,46.60,12.50,1.25,\\\n",
    "                    0.00,0.00,0.00,0.00,0.00,450.00,196.00,105.0,153.0,57.50,11.20,1.68,\\\n",
    "                    0.00,0.00,0.00,0.00,2.42,613.00,145.00,115.0,102.0,37.90,6.77,0.43,\\\n",
    "                    0.00,0.00,0.00,0.00,47.1,768.00,291.00,189.0,271.0,69.80,9.78,0.10,\\\n",
    "                    0.00,0.00,0.00,0.00,0.26,662.00,412.00,106.0,120.0,55.10,19.90,0.57,\\\n",
    "                    0.00,0.00,0.00,0.00,0.00,389.00,541.00,251.0,203.0,94.80,18.50,0.99,\\\n",
    "                    0.00,0.00,0.00,0.00,0.00,718.00,275.00,154.0,141.0,84.90,5.97,0.47,\\\n",
    "                    0.00,0.00,0.00,0.00,0.00,678.00,205.00,58.50,46.90,27.20,2.47,0.00,\\\n",
    "                    0.00,0.00,0.00,0.00,0.00,590.00,374.00,97.20,72.70,28.20,0.59,0.00,\\\n",
    "                    0.00,0.00,0.00,0.00,2.18,444.00,150.00,58.50,49.80,17.10,0.10,0.00,\\\n",
    "                    0.00,0.00,0.00,0.00,0.00,642.00,245.00,65.00,37.00,15.60,2.95,0.00,\\\n",
    "                    0.00,0.00,0.00,0.00,0.08,712.00,322.00,67.10,46.40,12.40,0.17,0.00,\\\n",
    "                    0.00,0.00,0.00,0.00,139,527.00,87.90,28.80,106.00,48.50,5.43,0.03,\\\n",
    "                    0.00,0.00,0.00,0.00,0.00,528.00,181.00,53.30,41.40,17.00,1.32,0.00,\\\n",
    "                    0.00,0.00,0.00,0.00,4.39,601.00,110.00,101.00,388.00,78.00,5.65,0.00,\\\n",
    "                    0.00,0.00,0.00,0.00, np.nan, np.nan,224.00,57.30,173.00,29.80, np.nan, np.nan,\\\n",
    "                    np.nan, np.nan, np.nan, np.nan, np.nan, np.nan, 199.00, 47.60, 98.70, np.nan, np.nan, np.nan, \\\n",
    "                    np.nan, np.nan, np.nan, np.nan, np.nan, np.nan, np.nan, np.nan, 146.00, np.nan, np.nan, np.nan, \\\n",
    "                    np.nan, np.nan, np.nan, np.nan, np.nan, np.nan, 256.00, 52.70, 178.00, np.nan, np.nan, np.nan])"
   ]
  },
  {
   "cell_type": "code",
   "execution_count": 9,
   "metadata": {},
   "outputs": [],
   "source": [
    "pickle.dump((coppermine_dates, coppermine_discharge), \\\n",
    "            open('/ocean/brogalla/GEOTRACES/data/rivers/coppermine_data.pickle','wb'))\n",
    "pickle.dump((burnside_dates, burnside_discharge), \\\n",
    "            open('/ocean/brogalla/GEOTRACES/data/rivers/burnside_data.pickle','wb'))\n",
    "pickle.dump((ellice_dates, ellice_discharge), \\\n",
    "            open('/ocean/brogalla/GEOTRACES/data/rivers/ellice_data.pickle','wb'))"
   ]
  },
  {
   "cell_type": "code",
   "execution_count": null,
   "metadata": {},
   "outputs": [],
   "source": []
  },
  {
   "cell_type": "code",
   "execution_count": null,
   "metadata": {},
   "outputs": [],
   "source": []
  }
 ],
 "metadata": {
  "kernelspec": {
   "display_name": "Python 3",
   "language": "python",
   "name": "python3"
  },
  "language_info": {
   "codemirror_mode": {
    "name": "ipython",
    "version": 3
   },
   "file_extension": ".py",
   "mimetype": "text/x-python",
   "name": "python",
   "nbconvert_exporter": "python",
   "pygments_lexer": "ipython3",
   "version": "3.7.3"
  }
 },
 "nbformat": 4,
 "nbformat_minor": 2
}
