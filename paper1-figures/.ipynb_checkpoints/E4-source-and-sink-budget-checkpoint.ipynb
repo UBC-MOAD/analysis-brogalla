{
 "cells": [
  {
   "cell_type": "markdown",
   "metadata": {},
   "source": [
    "# Source and Sink contributions"
   ]
  },
  {
   "cell_type": "code",
   "execution_count": 2,
   "metadata": {},
   "outputs": [],
   "source": [
    "import numpy as np\n",
    "import matplotlib.pyplot as plt\n",
    "import matplotlib\n",
    "from mpl_toolkits.basemap import Basemap, cm\n",
    "import cmocean\n",
    "import netCDF4 as nc\n",
    "import seaborn as sns; sns.set()\n",
    "\n",
    "%matplotlib notebook"
   ]
  },
  {
   "cell_type": "markdown",
   "metadata": {},
   "source": [
    "###### Parameters:"
   ]
  },
  {
   "cell_type": "code",
   "execution_count": null,
   "metadata": {},
   "outputs": [],
   "source": [
    "imin, imax = 1480, 2180\n",
    "jmin, jmax = 160, 800\n",
    "isize = imax-imin\n",
    "jsize = jmax-jmin\n",
    "\n",
    "# model results:\n",
    "year = 2003\n",
    "results_folder1 = '/data/brogalla/run_storage/Mn-set5-202008/ref-'+str(year)+'/'\n",
    "results_folder2 = '/data/brogalla/run_storage/Mn-set4-202004/ref-'+str(year)+'/'\n",
    "results_folder3 = '/data/brogalla/run_storage/Mn-cleanice-202011/clean-ice-'+str(year)+'/'\n",
    "results_folder4 = '/data/brogalla/run_storage/Mn-upperriv-202011/upper-riv-'+str(year)+'/'\n",
    "results_folder5 = '/data/brogalla/run_storage/Mn-set6-202011/ref-'+str(year)+'/'\n",
    "results_folder6 = '/data/brogalla/run_storage/Mn-nosed-202005/nosed-'+str(year)+'/'\n",
    "\n",
    "# colours:\n",
    "land_color = \"#8b7765\"\n",
    "colors = ['#ccb598', '#367073', '#81a885', '#CC8741', '#cee7fd', '#c7cdd2']"
   ]
  },
  {
   "cell_type": "markdown",
   "metadata": {},
   "source": [
    "###### Load files:"
   ]
  },
  {
   "cell_type": "code",
   "execution_count": null,
   "metadata": {},
   "outputs": [],
   "source": [
    "mask      = nc.Dataset('/ocean/brogalla/GEOTRACES/ariane_runs/ANHA12_Ariane_mesh.nc')\n",
    "tmask     = np.array(mask.variables['tmask'])[0,:,imin:imax,jmin:jmax]\n",
    "land_mask = np.ma.masked_where((tmask[:,:,:] > 0.1), tmask[:,:,:]) \n",
    "\n",
    "e1t_base   = np.array(mask.variables['e1t'])[0,imin:imax,jmin:jmax]\n",
    "e2t_base   = np.array(mask.variables['e2t'])[0,imin:imax,jmin:jmax]\n",
    "e3t        = np.array(mask.variables['e3t_0'])[0,:,imin:imax,jmin:jmax]\n",
    "e3t_masked = np.ma.masked_where((tmask[:,:,:] < 0.1), e3t)\n",
    "\n",
    "e1t      = np.tile(e1t_base, (50,1,1))\n",
    "e2t      = np.tile(e2t_base, (50,1,1))\n",
    "volume   = e1t*e2t*e3t\n",
    "volume_masked = np.ma.masked_where((tmask[:,:,:] < 0.1), volume)"
   ]
  },
  {
   "cell_type": "code",
   "execution_count": null,
   "metadata": {},
   "outputs": [],
   "source": [
    "ref   = nc.Dataset(results_folder2+'ANHA12_EXH006_2003_monthly.nc',  'r')\n",
    "lons  = np.array(ref.variables['nav_lon'])\n",
    "lats  = np.array(ref.variables['nav_lat'])\n",
    "depth = np.array(ref.variables['deptht'])"
   ]
  },
  {
   "cell_type": "code",
   "execution_count": null,
   "metadata": {},
   "outputs": [],
   "source": [
    "months = ['Jan', 'Feb', 'Mar', 'Apr', 'May', 'Jun', 'Jul', 'Aug', 'Sep', 'Oct', 'Nov', 'Dec']"
   ]
  },
  {
   "cell_type": "markdown",
   "metadata": {},
   "source": [
    "##### Functions:"
   ]
  },
  {
   "cell_type": "code",
   "execution_count": null,
   "metadata": {},
   "outputs": [],
   "source": [
    "def load_results(folder_ref, year):\n",
    "    \n",
    "    months  = ['01', '02', '03', '04', '05', '06', '07', '08', '09', '10', '11', '12']\n",
    "    dmn_riv = np.empty((12,isize,jsize))   ; dmn_sed = np.empty((12,isize,jsize)); \n",
    "    dmn_atm = np.empty((12,isize,jsize))   ; dmn_ice = np.empty((12,isize,jsize));\n",
    "    dmn_sedice = np.empty((12,isize,jsize));\n",
    "    dmn_red = np.empty((12,50,isize,jsize)); dmn_oxi = np.empty((12,50,isize,jsize))\n",
    "    \n",
    "    i=0\n",
    "    for month in months:\n",
    "        file        = 'ANHA12_EXH006_1m_'+str(year)+'0101_'+str(year)+'1231_comp_'+str(year)+month+'-'+str(year)+month+'.nc'\n",
    "        ref_monthly = nc.Dataset(folder_ref+file)\n",
    "        \n",
    "        dmn_riv[i,:,:]    = np.array(ref_monthly.variables['dmnriv'])[0,:,:]\n",
    "        dmn_sed[i,:,:]    = np.array(ref_monthly.variables['dmnsed'])[0,:,:]\n",
    "        dmn_sedice[i,:,:] = np.array(ref_monthly.variables['dmnsedice'])[0,:,:]\n",
    "        dmn_atm[i,:,:]    = np.array(ref_monthly.variables['dmnatm'])[0,:,:]\n",
    "        dmn_ice[i,:,:]    = np.array(ref_monthly.variables['dmnice'])[0,:,:]\n",
    "        dmn_red[i,:,:,:]  = np.array(ref_monthly.variables['dmnred'])[0,:,:,:]\n",
    "        dmn_oxi[i,:,:,:]  = np.array(ref_monthly.variables['dmnoxi'])[0,:,:,:]\n",
    "        i+=1\n",
    "    \n",
    "    tmask_surf    = np.empty(dmn_riv.shape)\n",
    "    tmask_surf[:] = tmask[0,:,:]\n",
    "    tmask_full    = np.empty(dmn_red.shape)\n",
    "    tmask_full[:] = tmask\n",
    "    \n",
    "    # Mask points on land:\n",
    "    dmn_mriv    = np.ma.masked_where((tmask_surf < 0.1), dmn_riv); \n",
    "    dmn_msed    = np.ma.masked_where((tmask_surf < 0.1), dmn_sed)\n",
    "    dmn_msedice = np.ma.masked_where((tmask_surf < 0.1), dmn_sedice)\n",
    "    dmn_matm    = np.ma.masked_where((tmask_surf < 0.1), dmn_atm)\n",
    "    dmn_mice    = np.ma.masked_where((tmask_surf < 0.1), dmn_ice)\n",
    "    dmn_mred    = np.ma.masked_where((tmask_full < 0.1), dmn_red)\n",
    "    dmn_moxi    = np.ma.masked_where((tmask_full < 0.1), dmn_oxi)\n",
    "\n",
    "    return dmn_mriv, dmn_msed, dmn_msedice, dmn_matm, dmn_mice, dmn_mred , dmn_moxi"
   ]
  },
  {
   "cell_type": "code",
   "execution_count": null,
   "metadata": {},
   "outputs": [],
   "source": [
    "def plot_experiment(ax, variable, month=0, vmin=0, vmax=7, cmap=cmocean.cm.dense, southern=False):\n",
    "    \n",
    "    if southern: \n",
    "        proj1 = Basemap(projection='stere',lat_0 = 72.5, lon_0 = -95, resolution='i', width=1.8e6, height=1.1e6, ax=ax)\n",
    "        proj1.fillcontinents(color=land_color, lake_color=land_color, zorder=5);\n",
    "    else:\n",
    "        proj1 = Basemap(projection='stere',lat_0 = 77.1, lon_0 = -95, resolution='i', width=3.5e6, height=2.98e6, ax=ax)\n",
    "        proj1.fillcontinents(color=land_color, lake_color=land_color, zorder=5);\n",
    "    x, y = proj1(lons, lats)\n",
    "    \n",
    "    c1 = proj1.contourf(x, y, variable[month,:,:], 20, cmap=cmap, vmin=vmin, vmax=vmax, extend='both')\n",
    "    \n",
    "    return c1"
   ]
  },
  {
   "cell_type": "markdown",
   "metadata": {},
   "source": [
    "##### Figures"
   ]
  },
  {
   "cell_type": "code",
   "execution_count": null,
   "metadata": {},
   "outputs": [],
   "source": [
    "dmn_riv1, dmn_sed1, dmn_sedice1, dmn_atm1, dmn_ice1, dmn_red1, dmn_oxi1 = load_results(results_folder1, 2003)\n",
    "dmn_riv2, dmn_sed2, dmn_sedice2, dmn_atm2, dmn_ice2, dmn_red2, dmn_oxi2 = load_results(results_folder2, 2003)\n",
    "dmn_riv3, dmn_sed3, dmn_sedice3, dmn_atm3, dmn_ice3, dmn_red3, dmn_oxi3 = load_results(results_folder3, 2003)\n",
    "dmn_riv4, dmn_sed4, dmn_sedice4, dmn_atm4, dmn_ice4, dmn_red4, dmn_oxi4 = load_results(results_folder4, 2003)\n",
    "dmn_riv5, dmn_sed5, dmn_sedice5, dmn_atm5, dmn_ice5, dmn_red5, dmn_oxi5 = load_results(results_folder5, 2003)\n",
    "dmn_riv6, dmn_sed6, dmn_sedice6, dmn_atm6, dmn_ice6, dmn_red6, dmn_oxi6 = load_results(results_folder6, 2003)"
   ]
  },
  {
   "cell_type": "code",
   "execution_count": null,
   "metadata": {},
   "outputs": [],
   "source": [
    "month=6; \n",
    "#---------------------------------------\n",
    "fig, ax = plt.subplots(2,2, figsize=(8,6))\n",
    "\n",
    "plot_experiment(ax[0,0], dmn_riv2, month=month, vmin=0, vmax=5e-13)\n",
    "plot_experiment(ax[0,1], dmn_riv5, month=month, vmin=0, vmax=5e-13)\n",
    "plot_experiment(ax[1,0], dmn_riv1, month=month, vmin=0, vmax=5e-13)\n",
    "plot_experiment(ax[1,1], dmn_riv4, month=month, vmin=0, vmax=5e-13)\n",
    "\n",
    "ax[0,0].set_title('Old reference: river')\n",
    "ax[0,1].set_title('New reference: river')\n",
    "ax[1,0].set_title('Old upper bound: river')\n",
    "ax[1,1].set_title('New upper bound: river')"
   ]
  },
  {
   "cell_type": "code",
   "execution_count": null,
   "metadata": {},
   "outputs": [],
   "source": [
    "month=6; \n",
    "#---------------------------------------\n",
    "fig, ax = plt.subplots(2,2, figsize=(8,6))\n",
    "\n",
    "plot_experiment(ax[0,0], dmn_sedice2, month=month, vmin=0, vmax=1e-13)\n",
    "plot_experiment(ax[0,1], dmn_sedice5, month=month, vmin=0, vmax=1e-13)\n",
    "plot_experiment(ax[1,0], dmn_sedice3, month=month, vmin=0, vmax=1e-13)\n",
    "plot_experiment(ax[1,1], dmn_sedice6, month=month, vmin=0, vmax=1e-13)\n",
    "\n",
    "ax[0,0].set_title('Old reference: sediment from ice')\n",
    "ax[0,1].set_title('New reference: sediment from ice')\n",
    "ax[1,0].set_title('Old clean: sediment from ice')\n",
    "ax[1,1].set_title('New clean: sediment from ice')"
   ]
  },
  {
   "cell_type": "code",
   "execution_count": null,
   "metadata": {},
   "outputs": [],
   "source": [
    "month=6; \n",
    "#---------------------------------------\n",
    "fig, ax = plt.subplots(2,2, figsize=(8,6))\n",
    "\n",
    "plot_experiment(ax[0,0], dmn_atm2, month=month, vmin=0, vmax=1e-19)\n",
    "plot_experiment(ax[0,1], dmn_atm5, month=month, vmin=0, vmax=1e-17)\n",
    "plot_experiment(ax[1,0], dmn_atm1, month=month, vmin=0, vmax=1e-19)\n",
    "plot_experiment(ax[1,1], dmn_atm4, month=month, vmin=0, vmax=1e-17)\n",
    "\n",
    "ax[0,0].set_title('Old reference: dust')\n",
    "ax[0,1].set_title('New reference: dust')\n",
    "ax[1,0].set_title('Old upper bound: dust')\n",
    "ax[1,1].set_title('New upper bound: dust')"
   ]
  },
  {
   "cell_type": "code",
   "execution_count": null,
   "metadata": {},
   "outputs": [],
   "source": [
    "month=6;\n",
    "#---------------------------------------\n",
    "fig, ax = plt.subplots(2,2, figsize=(8,6))\n",
    "\n",
    "plot_experiment(ax[0,0], dmn_ice2, month=month, vmin=0, vmax=1e-16)\n",
    "plot_experiment(ax[0,1], dmn_ice5, month=month, vmin=0, vmax=1e-16)\n",
    "plot_experiment(ax[1,0], dmn_ice1, month=month, vmin=0, vmax=1e-16)\n",
    "plot_experiment(ax[1,1], dmn_ice4, month=month, vmin=0, vmax=1e-16)\n",
    "\n",
    "ax[0,0].set_title('Old reference: dust from ice')\n",
    "ax[0,1].set_title('New reference: dust from ice')\n",
    "ax[1,0].set_title('Old upper bound: dust from ice')\n",
    "ax[1,1].set_title('New upper bound: dust from ice')"
   ]
  },
  {
   "cell_type": "code",
   "execution_count": null,
   "metadata": {},
   "outputs": [],
   "source": [
    "month=6;\n",
    "#---------------------------------------\n",
    "fig, ax = plt.subplots(2,2, figsize=(8,6))\n",
    "\n",
    "plot_experiment(ax[0,0], dmn_sed2, month=month, vmin=0, vmax=5e-14, southern=True)\n",
    "plot_experiment(ax[0,1], dmn_sed5, month=month, vmin=0, vmax=5e-14, southern=True)\n",
    "plot_experiment(ax[1,0], dmn_sed1, month=month, vmin=0, vmax=5e-14, southern=True)\n",
    "plot_experiment(ax[1,1], dmn_sed4, month=month, vmin=0, vmax=5e-14, southern=True)\n",
    "\n",
    "ax[0,0].set_title('Old reference: sediment resus')\n",
    "ax[0,1].set_title('New reference: sediment resus')\n",
    "ax[1,0].set_title('Old upper bound: sediment resus')\n",
    "ax[1,1].set_title('New upper bound: sediment resus')"
   ]
  },
  {
   "cell_type": "code",
   "execution_count": null,
   "metadata": {
    "scrolled": false
   },
   "outputs": [],
   "source": [
    "month=6; layer=0;\n",
    "#---------------------------------------\n",
    "fig, ax = plt.subplots(2,2, figsize=(8,6))\n",
    "\n",
    "plot_experiment(ax[0,0], dmn_red2[:,layer,:,:], month=month, vmin=0, vmax=5e-14)\n",
    "plot_experiment(ax[0,1], dmn_red5[:,layer,:,:], month=month, vmin=0, vmax=5e-14)\n",
    "plot_experiment(ax[1,0], dmn_red1[:,layer,:,:], month=month, vmin=0, vmax=5e-14)\n",
    "plot_experiment(ax[1,1], dmn_red4[:,layer,:,:], month=month, vmin=0, vmax=5e-14)\n",
    "\n",
    "ax[0,0].set_title('Old reference: reduction')\n",
    "ax[0,1].set_title('New reference: reduction')\n",
    "ax[1,0].set_title('Old upper bound: reduction')\n",
    "ax[1,1].set_title('New upper bound: reduction')"
   ]
  },
  {
   "cell_type": "code",
   "execution_count": null,
   "metadata": {},
   "outputs": [],
   "source": [
    "month=6; layer=0;\n",
    "#---------------------------------------\n",
    "fig, ax = plt.subplots(2,2, figsize=(8,6))\n",
    "\n",
    "plot_experiment(ax[0,0], dmn_oxi2[:,layer,:,:], month=month, vmin=0, vmax=5e-14)\n",
    "plot_experiment(ax[0,1], dmn_oxi5[:,layer,:,:], month=month, vmin=0, vmax=5e-14)\n",
    "plot_experiment(ax[1,0], dmn_oxi1[:,layer,:,:], month=month, vmin=0, vmax=5e-14)\n",
    "plot_experiment(ax[1,1], dmn_oxi4[:,layer,:,:], month=month, vmin=0, vmax=5e-14)\n",
    "\n",
    "ax[0,0].set_title('Old reference: oxidation')\n",
    "ax[0,1].set_title('New reference: oxidation')\n",
    "ax[1,0].set_title('Old upper bound: oxidation')\n",
    "ax[1,1].set_title('New upper bound: oxidation')"
   ]
  },
  {
   "cell_type": "code",
   "execution_count": null,
   "metadata": {},
   "outputs": [],
   "source": [
    "month=6; layer=15;\n",
    "#---------------------------------------\n",
    "fig, ax = plt.subplots(2,2, figsize=(8,6))\n",
    "\n",
    "plot_experiment(ax[0,0], dmn_oxi2[:,layer,:,:], month=month, vmin=0, vmax=5e-14)\n",
    "plot_experiment(ax[0,1], dmn_oxi5[:,layer,:,:], month=month, vmin=0, vmax=5e-14)\n",
    "plot_experiment(ax[1,0], dmn_oxi1[:,layer,:,:], month=month, vmin=0, vmax=5e-14)\n",
    "plot_experiment(ax[1,1], dmn_oxi4[:,layer,:,:], month=month, vmin=0, vmax=5e-14)\n",
    "\n",
    "ax[0,0].set_title('Old reference: oxidation')\n",
    "ax[0,1].set_title('New reference: oxidation')\n",
    "ax[1,0].set_title('Old upper bound: oxidation')\n",
    "ax[1,1].set_title('New upper bound: oxidation')"
   ]
  },
  {
   "cell_type": "code",
   "execution_count": null,
   "metadata": {},
   "outputs": [],
   "source": [
    "month=6; layer=0;\n",
    "#---------------------------------------\n",
    "fig, ax = plt.subplots(2,2, figsize=(8,6))\n",
    "\n",
    "plot_experiment(ax[0,0], dmn_red2[:,layer,:,:]-dmn_oxi2[:,layer,:,:], month=month, vmin=0, vmax=8e-15)\n",
    "plot_experiment(ax[0,1], dmn_red5[:,layer,:,:]-dmn_oxi5[:,layer,:,:], month=month, vmin=0, vmax=8e-15)\n",
    "plot_experiment(ax[1,0], dmn_red1[:,layer,:,:]-dmn_oxi1[:,layer,:,:], month=month, vmin=0, vmax=8e-15)\n",
    "plot_experiment(ax[1,1], dmn_red4[:,layer,:,:]-dmn_oxi4[:,layer,:,:], month=month, vmin=0, vmax=8e-15)\n",
    "\n",
    "ax[0,0].set_title('Old reference: redox')\n",
    "ax[0,1].set_title('New reference: redox')\n",
    "ax[1,0].set_title('Old upper bound: redox')\n",
    "ax[1,1].set_title('New upper bound: redox')"
   ]
  },
  {
   "cell_type": "code",
   "execution_count": null,
   "metadata": {},
   "outputs": [],
   "source": []
  }
 ],
 "metadata": {
  "kernelspec": {
   "display_name": "Python 3",
   "language": "python",
   "name": "python3"
  },
  "language_info": {
   "codemirror_mode": {
    "name": "ipython",
    "version": 3
   },
   "file_extension": ".py",
   "mimetype": "text/x-python",
   "name": "python",
   "nbconvert_exporter": "python",
   "pygments_lexer": "ipython3",
   "version": "3.7.3"
  }
 },
 "nbformat": 4,
 "nbformat_minor": 2
}
