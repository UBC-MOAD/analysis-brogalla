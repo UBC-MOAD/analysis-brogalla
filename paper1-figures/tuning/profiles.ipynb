{
 "cells": [
  {
   "cell_type": "markdown",
   "metadata": {},
   "source": [
    "# Mn profiles"
   ]
  },
  {
   "cell_type": "code",
   "execution_count": 2,
   "metadata": {},
   "outputs": [],
   "source": [
    "import datetime as dt\n",
    "import glob\n",
    "import matplotlib.pyplot as plt\n",
    "import netCDF4 as nc\n",
    "import numpy as np\n",
    "import pandas as pd\n",
    "from pathlib import Path\n",
    "import xarray as xr\n",
    "\n",
    "%matplotlib inline"
   ]
  },
  {
   "cell_type": "markdown",
   "metadata": {},
   "source": [
    "Load data:"
   ]
  },
  {
   "cell_type": "code",
   "execution_count": null,
   "metadata": {},
   "outputs": [],
   "source": [
    "folder  = '/data/brogalla/run_storage/Mn-tuning-202012/'\n",
    "tuning5 = nc.Dataset(folder+'ref-2015-tuning5/ANHA12-EXH006_2015_monthly.nc')\n",
    "tuning5.variables['dissolmn']"
   ]
  },
  {
   "cell_type": "code",
   "execution_count": null,
   "metadata": {},
   "outputs": [],
   "source": [
    "drop_vars = [\n",
    "    \"time_centered\",\n",
    "    \"time_centered_bounds\",\n",
    "    \"time_counter_bounds\",\n",
    "    \"nav_lat\",\n",
    "    \"bounds_lat\",\n",
    "    \"nav_lon\",\n",
    "    \"bounds_lon\",\n",
    "    \"area\",\n",
    "    \"deptht_bounds\",\n",
    "]\n",
    "chunks = {\n",
    "    \"time_counter\": 1,\n",
    "    \"deptht\": 1,\n",
    "}"
   ]
  },
  {
   "cell_type": "code",
   "execution_count": null,
   "metadata": {},
   "outputs": [],
   "source": [
    "def prep_timeseries(dir_path, file_pattern, n_days): \n",
    "    ds_files = sorted(dir_path.glob(file_pattern))\n",
    "    ds = xr.open_mfdataset(\n",
    "        ds_files[:n_days],\n",
    "        chunks=chunks,\n",
    "        drop_variables=drop_vars,\n",
    "    )\n",
    "    timeseries = ds.isel(deptht = 1, y = places.PLACES['S3']['NEMO grid ji'][0], \n",
    "                             x = places.PLACES['S3']['NEMO grid ji'][1] )\n",
    "    \n",
    "    return timeseries"
   ]
  },
  {
   "cell_type": "code",
   "execution_count": null,
   "metadata": {},
   "outputs": [],
   "source": [
    "def get_the_data(dir_path, year, numberdays):\n",
    "    evenlessink = []\n",
    "    for filename in sorted(dir_path.glob(f\"SalishSea_1d_{year}0[23]*ptrc_T*.nc\"))[:numberdays]:\n",
    "        data = xr.load_dataset(filename)\n",
    "        data_extract = data.isel(deptht = 1, y = places.PLACES['S3']['NEMO grid ji'][0], \n",
    "                             x = places.PLACES['S3']['NEMO grid ji'][1] )\n",
    "        evenlessink.append(data_extract)\n",
    "  \n",
    "    timeseries = xr.concat(evenlessink, dim='time_counter')\n",
    "    return timeseries"
   ]
  },
  {
   "cell_type": "code",
   "execution_count": null,
   "metadata": {},
   "outputs": [],
   "source": [
    "def get_the_data_numpy(dir_path, year):\n",
    "    timeseries = {'diatoms': np.zeros(61),\n",
    "                 'nitrate': np.zeros(61)}\n",
    "    for it, filename in enumerate(sorted(dir_path.glob(f\"SalishSea_1d_{year}0[23]*ptrc_T*.nc\"))):\n",
    "        data = xr.open_dataset(filename)\n",
    "        timeseries['diatoms'][it] = data['diatoms'].isel(deptht = 1, y = places.PLACES['S3']['NEMO grid ji'][0], \n",
    "                             x = places.PLACES['S3']['NEMO grid ji'][1] )[0]\n",
    "        timeseries['nitrate'][it] = data['nitrate'].isel(deptht = 1, y = places.PLACES['S3']['NEMO grid ji'][0], \n",
    "                             x = places.PLACES['S3']['NEMO grid ji'][1] )[0]\n",
    "        data.close()\n",
    "\n",
    "    return timeseries"
   ]
  },
  {
   "cell_type": "code",
   "execution_count": null,
   "metadata": {},
   "outputs": [],
   "source": [
    "def get_the_data_nc(dir_path, year):\n",
    "    timeseries = {'diatoms': np.zeros(61),\n",
    "                 'nitrate': np.zeros(61)}\n",
    "    for it, filename in enumerate(sorted(dir_path.glob(f\"SalishSea_1d_{year}0[23]*ptrc_T*.nc\"))):\n",
    "        data = xr.open_dataset(filename)\n",
    "        timeseries['diatoms'][it] = data['diatoms'][0, 1, places.PLACES['S3']['NEMO grid ji'][0], \n",
    "                             places.PLACES['S3']['NEMO grid ji'][1]]\n",
    "        timeseries['nitrate'][it] = data['nitrate'][0, 1, places.PLACES['S3']['NEMO grid ji'][0], \n",
    "                             places.PLACES['S3']['NEMO grid ji'][1]]\n",
    "        data.close()\n",
    "\n",
    "    return timeseries"
   ]
  },
  {
   "cell_type": "code",
   "execution_count": null,
   "metadata": {},
   "outputs": [],
   "source": [
    "def get_the_data_H201812(year):\n",
    "    evenlessink = []\n",
    "    thestring = f'/results/SalishSea/nowcast-green.201812/*/SalishSea_1d_{year}02*ptrc_T*.nc'\n",
    "    for filename in sorted(glob.glob(thestring)):\n",
    "        data = xr.open_dataset(filename)\n",
    "        data_extract = data.isel(deptht = 1, y = places.PLACES['S3']['NEMO grid ji'][0], \n",
    "                             x = places.PLACES['S3']['NEMO grid ji'][1] )\n",
    "        evenlessink.append(data_extract)\n",
    "        data.close()\n",
    "    thestring = f'/results/SalishSea/nowcast-green.201812/*/SalishSea_1d_{year}03*ptrc_T*.nc'\n",
    "    for filename in sorted(glob.glob(thestring)):\n",
    "        data = xr.open_dataset(filename)\n",
    "        data_extract = data.isel(deptht = 1, y = places.PLACES['S3']['NEMO grid ji'][0], \n",
    "                             x = places.PLACES['S3']['NEMO grid ji'][1] )\n",
    "        evenlessink.append(data_extract)\n",
    "        data.close()    \n",
    "\n",
    "    timeseries = xr.concat(evenlessink, dim='time_counter')\n",
    "    return timeseries"
   ]
  },
  {
   "cell_type": "code",
   "execution_count": null,
   "metadata": {},
   "outputs": [],
   "source": [
    "directory = '202007C'\n",
    "dir_path = Path(f\"/data/sallen/results/MEOPAR/202007/{directory}\")\n",
    "year = 2015\n",
    "months_regex = '0[23]'\n",
    "file_pattern = f\"SalishSea_1d_{year}{months_regex}*ptrc_T*.nc\"\n",
    "timeseries2015 = prep_timeseries(dir_path, file_pattern, -1)"
   ]
  },
  {
   "cell_type": "code",
   "execution_count": null,
   "metadata": {},
   "outputs": [],
   "source": [
    "timeseries2015.load(scheduler='processes', num_workers=4)"
   ]
  },
  {
   "cell_type": "code",
   "execution_count": null,
   "metadata": {},
   "outputs": [],
   "source": [
    "\n",
    "fig, ax = plt.subplots(1, 1)\n",
    "timeseries2015.diatoms.plot(ax=ax, color='g')\n",
    "ax2 = ax.twinx()\n",
    "timeseries2015.nitrate.plot(ax=ax2);\n",
    "ax.grid()"
   ]
  },
  {
   "cell_type": "code",
   "execution_count": null,
   "metadata": {},
   "outputs": [],
   "source": []
  },
  {
   "cell_type": "code",
   "execution_count": null,
   "metadata": {},
   "outputs": [],
   "source": []
  }
 ],
 "metadata": {
  "kernelspec": {
   "display_name": "Python 3",
   "language": "python",
   "name": "python3"
  },
  "language_info": {
   "codemirror_mode": {
    "name": "ipython",
    "version": 3
   },
   "file_extension": ".py",
   "mimetype": "text/x-python",
   "name": "python",
   "nbconvert_exporter": "python",
   "pygments_lexer": "ipython3",
   "version": "3.7.3"
  }
 },
 "nbformat": 4,
 "nbformat_minor": 4
}
