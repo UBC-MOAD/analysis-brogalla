{
 "cells": [
  {
   "cell_type": "markdown",
   "metadata": {},
   "source": [
    "# Create photoreduction forcing files"
   ]
  },
  {
   "cell_type": "code",
   "execution_count": 3,
   "metadata": {},
   "outputs": [],
   "source": [
    "import numpy as np\n",
    "import matplotlib.pyplot as plt\n",
    "import matplotlib\n",
    "from mpl_toolkits.basemap import Basemap, cm\n",
    "import cmocean\n",
    "import netCDF4 as nc\n",
    "import datetime as dt\n",
    "import pickle\n",
    "\n",
    "%matplotlib notebook"
   ]
  },
  {
   "cell_type": "markdown",
   "metadata": {},
   "source": [
    "Parameterization for photo reduction:\n",
    "- Higher sol_flux means stronger photo reduction.\n",
    "- Background reduction value: 1\n",
    "- Photo-enhanced reduction value maximum: 58"
   ]
  },
  {
   "cell_type": "markdown",
   "metadata": {},
   "source": [
    "##### Load files"
   ]
  },
  {
   "cell_type": "code",
   "execution_count": 4,
   "metadata": {},
   "outputs": [],
   "source": [
    "mask  = nc.Dataset('/ocean/brogalla/GEOTRACES/ariane_runs/ANHA12_Ariane_mesh.nc')\n",
    "tmask = np.array(mask.variables['tmask'])\n",
    "cond = (tmask[0,:,:,:] > 0.1) \n",
    "land_mask = np.ma.masked_where(cond, tmask[0,:,:,:])\n",
    "\n",
    "mesh  = nc.Dataset('/ocean/brogalla/GEOTRACES/data/ANHA12-EXH006_5d_gridT_y2002m01d05.nc')\n",
    "lons  = np.array(mesh.variables['nav_lon'])\n",
    "lats  = np.array(mesh.variables['nav_lat'])\n",
    "tmask = tmask[0,:,imin:imax,jmin:jmax]"
   ]
  },
  {
   "cell_type": "markdown",
   "metadata": {},
   "source": [
    "##### Functions"
   ]
  },
  {
   "cell_type": "code",
   "execution_count": 12,
   "metadata": {},
   "outputs": [],
   "source": [
    "def load_variables(filename):\n",
    "    a = nc.Dataset(filename)\n",
    "    \n",
    "    sol_flux = np.array(a.variables['iocesflx'][:,0,:,:])     \n",
    "    \n",
    "    return sol_flux"
   ]
  },
  {
   "cell_type": "code",
   "execution_count": 27,
   "metadata": {},
   "outputs": [],
   "source": [
    "def red_rate_calc(year):\n",
    "    \n",
    "    imin, imax = 1480, 2180\n",
    "    jmin, jmax = 160, 800\n",
    "    \n",
    "    sol_flux = load_variables('/data/brogalla/ANHA12/icemod_ave/ANHA12_EXH006_'+str(year)+'_monthly.nc')\n",
    "    red_rate = (np.abs((sol_flux - \\\n",
    "                        sol_flux[:,imin:imax,jmin:jmax].mean()))/sol_flux[:,imin:imax,jmin:jmax].max())*58\n",
    "    red_rate[red_rate < 1] = 1\n",
    "    \n",
    "    return red_rate"
   ]
  },
  {
   "cell_type": "code",
   "execution_count": 28,
   "metadata": {},
   "outputs": [],
   "source": [
    "def save_file(filename, field1):\n",
    "    ncd = nc.Dataset(filename, 'w', zlib=True)\n",
    "\n",
    "    ncd.createDimension('x',len(mesh.dimensions['x']))\n",
    "    ncd.createDimension('y',len(mesh.dimensions['y']))\n",
    "    ncd.createDimension('time_counter',None)\n",
    "    \n",
    "    # variables\n",
    "    red             = ncd.createVariable('kred', 'float64', ('y','x'))\n",
    "    red.units       = 'Unitless'\n",
    "    red.long_name   = 'Photoreduction multiplier'  \n",
    "    red.coordinates = 'nav_lon nav_lat'\n",
    "    red[:]          = field1[:]\n",
    "\n",
    "    ncd.close()\n",
    "    return"
   ]
  },
  {
   "cell_type": "code",
   "execution_count": 29,
   "metadata": {},
   "outputs": [],
   "source": [
    "def red_year(year, savefile=False):\n",
    "    \n",
    "    red_rateyear = red_rate_calc(year)\n",
    "    \n",
    "    if savefile:\n",
    "        location='/data/brogalla/reduction_forcing/'\n",
    "        \n",
    "        for i in range(1,13):\n",
    "            if i < 10:\n",
    "                save_file(location+'red_y'+str(year)+'m0'+str(i)+'.nc',red_rateyear[i-1,:,:])\n",
    "            else:\n",
    "                save_file(location+'red_y'+str(year)+'m'+str(i)+'.nc',red_rateyear[i-1,:,:])\n",
    "        \n",
    "    \n",
    "    return red_rateyear"
   ]
  },
  {
   "cell_type": "markdown",
   "metadata": {},
   "source": [
    "##### Calculations"
   ]
  },
  {
   "cell_type": "code",
   "execution_count": 30,
   "metadata": {},
   "outputs": [],
   "source": [
    "red_rate = red_year(2002, savefile=False)"
   ]
  }
 ],
 "metadata": {
  "kernelspec": {
   "display_name": "Python 3",
   "language": "python",
   "name": "python3"
  },
  "language_info": {
   "codemirror_mode": {
    "name": "ipython",
    "version": 3
   },
   "file_extension": ".py",
   "mimetype": "text/x-python",
   "name": "python",
   "nbconvert_exporter": "python",
   "pygments_lexer": "ipython3",
   "version": "3.7.3"
  }
 },
 "nbformat": 4,
 "nbformat_minor": 2
}
