{
 "cells": [
  {
   "cell_type": "markdown",
   "metadata": {},
   "source": [
    "# Look at river forcing files"
   ]
  },
  {
   "cell_type": "code",
   "execution_count": 2,
   "metadata": {},
   "outputs": [],
   "source": [
    "import matplotlib.pyplot as plt\n",
    "import numpy as np\n",
    "import netCDF4 as nc\n",
    "import datetime\n",
    "from mpl_toolkits.basemap import Basemap, cm\n",
    "import cmocean\n",
    "\n",
    "%matplotlib inline"
   ]
  },
  {
   "cell_type": "markdown",
   "metadata": {},
   "source": [
    "## River categories:\n",
    "\n",
    "1. Glaciers\n",
    "2. Continental\n",
    "3. Other"
   ]
  },
  {
   "cell_type": "code",
   "execution_count": 11,
   "metadata": {},
   "outputs": [],
   "source": [
    "rclass = nc.Dataset('/ocean/brogalla/GEOTRACES/data/river_class-202005.nc','r')\n",
    "river_class = rclass.variables['rclass']\n",
    "river_class = np.array(river_class)"
   ]
  },
  {
   "cell_type": "markdown",
   "metadata": {},
   "source": [
    "Check files:"
   ]
  },
  {
   "cell_type": "code",
   "execution_count": 12,
   "metadata": {},
   "outputs": [],
   "source": [
    "old = nc.Dataset('/ocean/brogalla/GEOTRACES/data/river-forcing-20200429.nc')\n",
    "new = nc.Dataset('/ocean/brogalla/GEOTRACES/data/paper1-forcing-files/river-forcing-base-20201125.nc')\n",
    "\n",
    "old_dmn = np.array(old.variables['dmn_rivers'])\n",
    "old_pmn = np.array(old.variables['pmn_rivers'])\n",
    "new_dmn = np.array(new.variables['dmn_rivers'])\n",
    "new_pmn = np.array(new.variables['spm_rivers'])"
   ]
  },
  {
   "cell_type": "code",
   "execution_count": 16,
   "metadata": {},
   "outputs": [],
   "source": [
    "change = old_dmn-new_dmn"
   ]
  },
  {
   "cell_type": "code",
   "execution_count": 17,
   "metadata": {},
   "outputs": [
    {
     "name": "stdout",
     "output_type": "stream",
     "text": [
      "2.8e-09\n",
      "0.0\n",
      "7.331442e-12\n"
     ]
    }
   ],
   "source": [
    "print(np.amax(change))\n",
    "print(np.amin(change))\n",
    "print(np.mean(change))"
   ]
  },
  {
   "cell_type": "code",
   "execution_count": 15,
   "metadata": {},
   "outputs": [
    {
     "name": "stdout",
     "output_type": "stream",
     "text": [
      "dMn class 1: 1.64e-07\n",
      "dMn class 2: 3.00e-08\n",
      "dMn class 3: 5.00e-09\n"
     ]
    }
   ],
   "source": [
    "print('dMn class 1: %.2e' % np.average(old_dmn[river_class == 1]))\n",
    "print('dMn class 2: %.2e' % np.average(old_dmn[river_class == 2]))\n",
    "print('dMn class 3: %.2e' % np.average(old_dmn[river_class == 3]))"
   ]
  },
  {
   "cell_type": "code",
   "execution_count": 14,
   "metadata": {},
   "outputs": [
    {
     "name": "stdout",
     "output_type": "stream",
     "text": [
      "dMn class 1: 1.64e-07\n",
      "dMn class 2: 2.98e-08\n",
      "dMn class 3: 2.20e-09\n",
      "------------------\n",
      "pMn class 1: 2.61e-04\n",
      "pMn class 2: 1.20e-05\n",
      "pMn class 3: 4.08e-06\n"
     ]
    }
   ],
   "source": [
    "print('dMn class 1: %.2e' % np.average(new_dmn[river_class == 1]))\n",
    "print('dMn class 2: %.2e' % np.average(new_dmn[river_class == 2]))\n",
    "print('dMn class 3: %.2e' % np.average(new_dmn[river_class == 3]))\n",
    "print('------------------')\n",
    "print('pMn class 1: %.2e' % np.average(new_pmn[river_class == 1]))\n",
    "print('pMn class 2: %.2e' % np.average(new_pmn[river_class == 2]))\n",
    "print('pMn class 3: %.2e' % np.average(new_pmn[river_class == 3]))"
   ]
  },
  {
   "cell_type": "code",
   "execution_count": null,
   "metadata": {},
   "outputs": [],
   "source": []
  }
 ],
 "metadata": {
  "kernelspec": {
   "display_name": "Python 3",
   "language": "python",
   "name": "python3"
  },
  "language_info": {
   "codemirror_mode": {
    "name": "ipython",
    "version": 3
   },
   "file_extension": ".py",
   "mimetype": "text/x-python",
   "name": "python",
   "nbconvert_exporter": "python",
   "pygments_lexer": "ipython3",
   "version": "3.7.3"
  }
 },
 "nbformat": 4,
 "nbformat_minor": 2
}
