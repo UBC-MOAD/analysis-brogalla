{
 "cells": [
  {
   "cell_type": "markdown",
   "metadata": {},
   "source": [
    "# Apply trace metal concentrations to river classification"
   ]
  },
  {
   "cell_type": "code",
   "execution_count": 1,
   "metadata": {},
   "outputs": [],
   "source": [
    "import matplotlib.pyplot as plt\n",
    "import numpy as np\n",
    "import netCDF4 as nc\n",
    "import datetime\n",
    "from mpl_toolkits.basemap import Basemap, cm\n",
    "import cmocean\n",
    "\n",
    "%matplotlib inline"
   ]
  },
  {
   "cell_type": "markdown",
   "metadata": {},
   "source": [
    "## River categories:\n",
    "\n",
    "1. Glaciers\n",
    "2. Continental\n",
    "3. Other"
   ]
  },
  {
   "cell_type": "code",
   "execution_count": 2,
   "metadata": {},
   "outputs": [],
   "source": [
    "rclass = nc.Dataset('/ocean/brogalla/GEOTRACES/data/river_class-202005.nc','r')\n",
    "river_class = rclass.variables['rclass']\n",
    "river_class = np.array(river_class)"
   ]
  },
  {
   "cell_type": "markdown",
   "metadata": {},
   "source": [
    "### Apply trace metal concentrations"
   ]
  },
  {
   "cell_type": "markdown",
   "metadata": {},
   "source": [
    "Notebook to find these concentratons: /analysis-brogalla/forcing/rivers/find_characteristic_tracer_concentrations.ipynb"
   ]
  },
  {
   "cell_type": "code",
   "execution_count": 14,
   "metadata": {},
   "outputs": [],
   "source": [
    "pMn_rivers = np.zeros(river_class.shape)\n",
    "SPM_rivers = np.zeros(river_class.shape)\n",
    "dMn_rivers = np.zeros(river_class.shape)\n",
    "pPb_rivers = np.zeros(river_class.shape)\n",
    "dPb_rivers = np.zeros(river_class.shape)"
   ]
  },
  {
   "cell_type": "code",
   "execution_count": 15,
   "metadata": {},
   "outputs": [],
   "source": [
    "multiplication_factor_glacial     = 1\n",
    "multiplication_factor_continental = 1\n",
    "\n",
    "SPM_factor = 0.35"
   ]
  },
  {
   "cell_type": "markdown",
   "metadata": {},
   "source": [
    "Manganese:"
   ]
  },
  {
   "cell_type": "code",
   "execution_count": 16,
   "metadata": {},
   "outputs": [],
   "source": [
    "dMn_rivers[river_class==1.0] = 164*multiplication_factor_glacial # glaciers\n",
    "dMn_rivers[river_class==2.0] = 30*multiplication_factor_continental  # continental\n",
    "dMn_rivers[river_class==3.0] = 5   # other\n",
    "dMn_rivers[river_class==4.0] = 5   # Gulf of Boothia"
   ]
  },
  {
   "cell_type": "code",
   "execution_count": 17,
   "metadata": {},
   "outputs": [],
   "source": [
    "SPM_rivers[river_class==1.0] = SPM_factor*261e-6*multiplication_factor_glacial # glaciers\n",
    "SPM_rivers[river_class==2.0] = SPM_factor*1.196e-5*multiplication_factor_continental  # continental\n",
    "SPM_rivers[river_class==3.0] = SPM_factor*3.372e-6   # other\n",
    "SPM_rivers[river_class==4.0] = SPM_factor*3.372e-6   # Gulf of Boothia"
   ]
  },
  {
   "cell_type": "code",
   "execution_count": 18,
   "metadata": {},
   "outputs": [],
   "source": [
    "pMn_rivers[river_class==1.0] = 151*multiplication_factor_glacial # glaciers\n",
    "pMn_rivers[river_class==2.0] = 13*multiplication_factor_continental  # continental\n",
    "pMn_rivers[river_class==3.0] = 2   # other\n",
    "pMn_rivers[river_class==4.0] = 2   # Gulf of Boothia"
   ]
  },
  {
   "cell_type": "markdown",
   "metadata": {},
   "source": [
    "Lead:"
   ]
  },
  {
   "cell_type": "code",
   "execution_count": 19,
   "metadata": {},
   "outputs": [],
   "source": [
    "pPb_rivers[river_class==1.0] = 5*multiplication_factor_glacial # glaciers\n",
    "pPb_rivers[river_class==2.0] = 1*multiplication_factor_continental  # continental\n",
    "pPb_rivers[river_class==3.0] = 0.2   # other\n",
    "pPb_rivers[river_class==4.0] = 0.2   # other"
   ]
  },
  {
   "cell_type": "code",
   "execution_count": 20,
   "metadata": {},
   "outputs": [],
   "source": [
    "dPb_rivers[river_class==1.0] = 35*multiplication_factor_glacial # glaciers\n",
    "dPb_rivers[river_class==2.0] = 43*multiplication_factor_continental  # continental\n",
    "dPb_rivers[river_class==3.0] = 2   # other\n",
    "dPb_rivers[river_class==4.0] = 2   # other"
   ]
  },
  {
   "cell_type": "markdown",
   "metadata": {},
   "source": [
    "#### Convert units to mol/L:"
   ]
  },
  {
   "cell_type": "code",
   "execution_count": 21,
   "metadata": {},
   "outputs": [],
   "source": [
    "dMn_rivers = dMn_rivers*10**(-9)      # nM --> 10^-3 mol/L\n",
    "pMn_rivers = pMn_rivers*(1/54.938049)*10**(-6) # micro g/L --> 1.82*10^-2 mol/L"
   ]
  },
  {
   "cell_type": "code",
   "execution_count": 22,
   "metadata": {},
   "outputs": [
    {
     "name": "stdout",
     "output_type": "stream",
     "text": [
      "1.64e-07 0.0 2.0868923611111135e-10\n",
      "2.748550462722111e-06\n"
     ]
    }
   ],
   "source": [
    "print(np.amax(dMn_rivers), np.amin(dMn_rivers), np.average(dMn_rivers))\n",
    "print(np.amax(pMn_rivers))"
   ]
  },
  {
   "cell_type": "code",
   "execution_count": 23,
   "metadata": {},
   "outputs": [],
   "source": [
    "dPb_rivers = dPb_rivers*10**(-12)           # pM --> 10^-3 mol/L\n",
    "pPb_rivers = pPb_rivers*(1/207.2)*10**(-6) # micro g/L --> 1.82*10^-2 mol/L"
   ]
  },
  {
   "cell_type": "code",
   "execution_count": 24,
   "metadata": {},
   "outputs": [
    {
     "name": "stdout",
     "output_type": "stream",
     "text": [
      "4.3e-11\n",
      "2.413127413127413e-08\n"
     ]
    }
   ],
   "source": [
    "print(np.amax(dPb_rivers))\n",
    "print(np.amax(pPb_rivers))"
   ]
  },
  {
   "cell_type": "markdown",
   "metadata": {},
   "source": [
    "##### Write to NetCDF file"
   ]
  },
  {
   "cell_type": "code",
   "execution_count": 25,
   "metadata": {},
   "outputs": [],
   "source": [
    "c = nc.Dataset('/ocean/brogalla/GEOTRACES/data/runoff/ANHA12_runoff_monthly_combined_Dai_Trenberth_Bamber_y2002.nc','r')\n",
    "lon_rf = np.array(c.variables['nav_lon'])\n",
    "lat_rf = np.array(c.variables['nav_lat'])"
   ]
  },
  {
   "cell_type": "code",
   "execution_count": 26,
   "metadata": {},
   "outputs": [
    {
     "data": {
      "text/plain": [
       "<class 'netCDF4._netCDF4.Dimension'>: name = 'y', size = 2400"
      ]
     },
     "execution_count": 26,
     "metadata": {},
     "output_type": "execute_result"
    }
   ],
   "source": [
    "ncd = nc.Dataset('/ocean/brogalla/GEOTRACES/data/river-forcing-best-guess-20201113.nc', 'w', zlib=True)\n",
    "ncd.createDimension('x',len(c.dimensions['x']))\n",
    "ncd.createDimension('y',len(c.dimensions['y']))"
   ]
  },
  {
   "cell_type": "code",
   "execution_count": 27,
   "metadata": {},
   "outputs": [],
   "source": [
    "ncd = nc.Dataset('/ocean/brogalla/GEOTRACES/data/river-forcing-best-guess-20201113.nc', 'w', zlib=True)\n",
    "ncd.createDimension('x',len(c.dimensions['x']))\n",
    "ncd.createDimension('y',len(c.dimensions['y']))\n",
    "\n",
    "# variables\n",
    "nav_lat = ncd.createVariable('nav_lat', 'float32', ('y','x'))\n",
    "nav_lat.long_name = 'Latitude'\n",
    "nav_lat.units = 'degrees_north'\n",
    "nav_lat[:] = lat_rf\n",
    "\n",
    "nav_lon = ncd.createVariable('nav_lon', 'float32', ('y','x'))\n",
    "nav_lon.long_name = 'Longitude'\n",
    "nav_lon.units = 'degrees_east'\n",
    "nav_lon[:] = lon_rf\n",
    "\n",
    "spm_rivers = ncd.createVariable('pmn_rivers', 'float32', ('y','x'))\n",
    "spm_rivers.units = 'kg/L'\n",
    "spm_rivers.long_name = 'Suspended Particulate Matter content'  \n",
    "spm_rivers.coordinates = 'nav_lon nav_lat'\n",
    "spm_rivers[:] = SPM_rivers\n",
    "\n",
    "dmn_rivers = ncd.createVariable('dmn_rivers', 'float32', ('y','x'))\n",
    "dmn_rivers.units = 'mol/L'\n",
    "dmn_rivers.long_name = 'Dissolved Mn concentration'  \n",
    "dmn_rivers.coordinates = 'nav_lon nav_lat'\n",
    "dmn_rivers[:] = dMn_rivers\n",
    "\n",
    "ppb_rivers = ncd.createVariable('ppb_rivers', 'float32', ('y','x'))\n",
    "ppb_rivers.units = 'mol/L'\n",
    "ppb_rivers.long_name = 'Particulate Pb concentration'  \n",
    "ppb_rivers.coordinates = 'nav_lon nav_lat'\n",
    "ppb_rivers[:] = pPb_rivers\n",
    "\n",
    "dpb_rivers = ncd.createVariable('dpb_rivers', 'float32', ('y','x'))\n",
    "dpb_rivers.units = 'mol/L'\n",
    "dpb_rivers.long_name = 'Dissolved Pb concentration'  \n",
    "dpb_rivers.coordinates = 'nav_lon nav_lat'\n",
    "dpb_rivers[:] = dPb_rivers\n",
    "\n",
    "ncd.close()"
   ]
  },
  {
   "cell_type": "code",
   "execution_count": null,
   "metadata": {},
   "outputs": [],
   "source": []
  }
 ],
 "metadata": {
  "kernelspec": {
   "display_name": "Python 3",
   "language": "python",
   "name": "python3"
  },
  "language_info": {
   "codemirror_mode": {
    "name": "ipython",
    "version": 3
   },
   "file_extension": ".py",
   "mimetype": "text/x-python",
   "name": "python",
   "nbconvert_exporter": "python",
   "pygments_lexer": "ipython3",
   "version": "3.7.3"
  }
 },
 "nbformat": 4,
 "nbformat_minor": 2
}
