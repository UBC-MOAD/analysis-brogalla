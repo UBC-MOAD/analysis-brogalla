{
 "cells": [
  {
   "cell_type": "markdown",
   "metadata": {},
   "source": [
    "# Estimate amount of SPM that needs to be added"
   ]
  },
  {
   "cell_type": "code",
   "execution_count": 1,
   "metadata": {},
   "outputs": [],
   "source": [
    "import numpy as np\n",
    "import matplotlib.pyplot as plt\n",
    "import netCDF4 as nc\n",
    "import cmocean\n",
    "import pandas as pd \n",
    "import warnings\n",
    "warnings.filterwarnings('ignore')\n",
    "import sys\n",
    "sys.path.insert(0, '/ocean/brogalla/GEOTRACES/analysis-brogalla/modules')\n",
    "import ariane as ar\n",
    "import seaborn as sns\n",
    "\n",
    "%matplotlib inline"
   ]
  },
  {
   "cell_type": "markdown",
   "metadata": {},
   "source": [
    "###### Parameters:"
   ]
  },
  {
   "cell_type": "code",
   "execution_count": 8,
   "metadata": {},
   "outputs": [],
   "source": [
    "# domain dimensions:\n",
    "imin, imax = 1480, 2180\n",
    "jmin, jmax = 160, 800\n",
    "\n",
    "# results to plot:\n",
    "year    = 2015\n",
    "month   = 8\n",
    "folder_ref = f'/data/brogalla/run_storage/Mn-reference-202103/ref-{year}-202103/'\n",
    "folder_spm = f'/data/brogalla/run_storage/Mn-spm-202103/ref-{year}-spm-202103/'\n",
    "folder_cleanice = f'/data/brogalla/run_storage/Mn-clean-ice-202103/ref-{year}-clean-ice-202103/'\n",
    "\n",
    "# colours:\n",
    "rivers = '#bada55'\n",
    "dirty  = '#64707b'\n",
    "clean  = '#cee7fd'"
   ]
  },
  {
   "cell_type": "markdown",
   "metadata": {},
   "source": [
    "##### Load files:"
   ]
  },
  {
   "cell_type": "markdown",
   "metadata": {},
   "source": [
    "Model results"
   ]
  },
  {
   "cell_type": "code",
   "execution_count": 9,
   "metadata": {},
   "outputs": [],
   "source": [
    "file1 = f'ANHA12_EXH006_{year}_monthly.nc'\n",
    "file2 = f'ANHA12_EXH006_{year}_monthly.nc'\n",
    "file3 = f'ANHA12_EXH006_{year}_monthly.nc'\n",
    "\n",
    "Mn_model_ref = nc.Dataset(folder_ref+file1)\n",
    "Mn_model_spm = nc.Dataset(folder_spm+file2)\n",
    "Mn_model_cleanice = nc.Dataset(folder_cleanice+file3)\n",
    "lon_model    = np.array(Mn_model_ref.variables['nav_lon'])\n",
    "lat_model    = np.array(Mn_model_ref.variables['nav_lat'])\n",
    "depths_model = np.array(Mn_model_ref.variables['deptht'])\n",
    "mn_dis_ref      = np.array(Mn_model_ref.variables['dissolmn'])\n",
    "mn_dis_spm      = np.array(Mn_model_spm.variables['dissolmn'])\n",
    "mn_dis_cleanice = np.array(Mn_model_cleanice.variables['dissolmn'])"
   ]
  },
  {
   "cell_type": "markdown",
   "metadata": {},
   "source": [
    "Meshes"
   ]
  },
  {
   "cell_type": "code",
   "execution_count": 10,
   "metadata": {},
   "outputs": [],
   "source": [
    "mesh       = nc.Dataset('/ocean/brogalla/GEOTRACES/data/ANHA12/ANHA12_mesh1.nc')\n",
    "mesh_lon   = np.array(mesh.variables['nav_lon'])\n",
    "mesh_lat   = np.array(mesh.variables['nav_lat'])\n",
    "mesh_bathy = np.array(mesh.variables['hdept'][0])\n",
    "tmask    = np.array(mesh.variables['tmask'][0,:,:,:])\n",
    "mlons    = np.array(mesh.variables['nav_lon'])\n",
    "mlats    = np.array(mesh.variables['nav_lat'])\n",
    "Z_masked = np.ma.masked_where((tmask > 0.1), tmask) "
   ]
  },
  {
   "cell_type": "markdown",
   "metadata": {},
   "source": [
    "Observations"
   ]
  },
  {
   "cell_type": "code",
   "execution_count": 11,
   "metadata": {},
   "outputs": [],
   "source": [
    "Mn_data  = pd.read_csv('/ocean/brogalla/GEOTRACES/data/Mn_Integrated_Data_UBC-UVic_4-17-19.csv')\n",
    "\n",
    "dMn_BB1  = Mn_data['BB1'].dropna()[1:].astype('float'); dMn_BB2 = Mn_data['BB2'].dropna()[1:].astype('float');\n",
    "dMn_BB3  = Mn_data['BB3'].dropna()[1:].astype('float'); dMn_CB1 = Mn_data['CB1'].dropna()[1:].astype('float');\n",
    "dMn_CB2  = Mn_data['CB2'].dropna()[1:].astype('float'); dMn_CB3 = Mn_data['CB3'].dropna()[1:].astype('float');\n",
    "dMn_CB4  = Mn_data['CB4'].dropna()[1:].astype('float'); dMn_CAA1 = Mn_data['CAA1'].dropna()[1:].astype('float');\n",
    "dMn_CAA2 = Mn_data['CAA2'].dropna()[1:].astype('float'); dMn_CAA3 = Mn_data['CAA3'].dropna()[1:].astype('float');\n",
    "dMn_CAA4 = Mn_data['CAA4'].dropna()[1:].astype('float'); dMn_CAA5 = Mn_data['CAA5'].dropna()[1:].astype('float');\n",
    "dMn_CAA6 = Mn_data['CAA6'].dropna()[1:].astype('float'); dMn_CAA7 = Mn_data['CAA7'].dropna()[1:].astype('float');\n",
    "dMn_CAA8 = Mn_data['CAA8'].dropna()[1:].astype('float'); dMn_CAA9 = Mn_data['CAA9'].dropna()[1:].astype('float');\n",
    "\n",
    "std_BB1  = Mn_data['Unnamed: 8'].dropna()[1:].astype('float');  std_BB2 = Mn_data['Unnamed: 11'].dropna()[1:].astype('float');\n",
    "std_BB3  = Mn_data['Unnamed: 14'].dropna()[1:].astype('float'); std_CB1 = Mn_data['Unnamed: 44'][1:].astype('float').fillna(0)[0:11];\n",
    "std_CB2  = Mn_data['Unnamed: 47'].dropna()[1:].astype('float'); std_CB3 = Mn_data['Unnamed: 50'][1:].astype('float').fillna(0)[0:22];\n",
    "std_CB4  = Mn_data['Unnamed: 53'].dropna()[1:].astype('float'); std_CAA1 = Mn_data['Unnamed: 17'].dropna()[1:].astype('float');\n",
    "std_CAA2 = Mn_data['Unnamed: 20'].dropna()[1:].astype('float'); std_CAA3 = Mn_data['Unnamed: 23'].dropna()[1:].astype('float');\n",
    "std_CAA4 = Mn_data['Unnamed: 26'].dropna()[1:].astype('float'); std_CAA5 = Mn_data['Unnamed: 29'].dropna()[1:].astype('float');\n",
    "std_CAA6 = Mn_data['Unnamed: 32'].dropna()[1:].astype('float'); std_CAA7 = Mn_data['Unnamed: 35'].dropna()[1:].astype('float');\n",
    "std_CAA8 = Mn_data['Unnamed: 38'].dropna()[1:].astype('float'); std_CAA9 = Mn_data['Unnamed: 41'].dropna()[1:].astype('float');\n",
    "\n",
    "depth_BB1  = Mn_data['Depth.2'].dropna(); depth_BB2 = Mn_data['Depth.3'].dropna();\n",
    "depth_BB3  = Mn_data['Depth.4'].dropna(); depth_CB1 = Mn_data['Depth.14'].dropna();\n",
    "depth_CB2  = Mn_data['Depth.15'].dropna(); depth_CB3 = Mn_data['Depth.16'].dropna();\n",
    "depth_CB4  = Mn_data['Depth.17'].dropna(); depth_CAA1 = Mn_data['Depth.5'].dropna();\n",
    "depth_CAA2 = Mn_data['Depth.6'].dropna(); depth_CAA3 = Mn_data['Depth.7'].dropna();\n",
    "depth_CAA4 = Mn_data['Depth.8'].dropna(); depth_CAA5 = Mn_data['Depth.9'].dropna();\n",
    "depth_CAA6 = Mn_data['Depth.10'].dropna(); depth_CAA7 = Mn_data['Depth.11'].dropna();\n",
    "depth_CAA8 = Mn_data['Depth.12'].dropna(); depth_CAA9 = Mn_data['Depth.13'].dropna();"
   ]
  },
  {
   "cell_type": "code",
   "execution_count": 12,
   "metadata": {},
   "outputs": [],
   "source": [
    "bottom_depths =[np.amax(d) for d in [depth_CAA1, depth_CAA2, depth_CAA3, depth_CAA4, depth_CAA5, depth_CAA6, \\\n",
    "                            depth_CAA7, depth_CAA8, depth_CAA9, depth_CB1, depth_CB2, depth_CB3, depth_CB4]]"
   ]
  },
  {
   "cell_type": "code",
   "execution_count": 13,
   "metadata": {},
   "outputs": [],
   "source": [
    "Pb_data   = pd.read_csv('/ocean/brogalla/GEOTRACES/data/Pb-paper-data.csv')\n",
    "stn_names = Pb_data['Station names'].dropna().astype('str')\n",
    "lons      = Pb_data['station lon'].astype('float').dropna().values\n",
    "lats      = Pb_data['Station lat'].astype('float').dropna().values"
   ]
  },
  {
   "cell_type": "markdown",
   "metadata": {},
   "source": [
    "##### Define functions"
   ]
  },
  {
   "cell_type": "code",
   "execution_count": 14,
   "metadata": {},
   "outputs": [],
   "source": [
    "def find_index_ANHA12_full(transect_lons, transect_lats, ANHA12_lon=mesh_lon, ANHA12_lat=mesh_lat):\n",
    "    # input:   ANHA12_lon, ANHA12_lat       --- 2400x1632 coordinates\n",
    "    #          transect_lons, transect_lats --- list of lat and lon values to include in the transect\n",
    "    # output:  i, j                         --- lists of coordinates associated with these points\n",
    "    \n",
    "    transect_i = np.array([])\n",
    "    transect_j = np.array([])\n",
    "    if isinstance(transect_lons,float):\n",
    "        i, j = ar.find_closest_model_point(transect_lons, transect_lats, ANHA12_lon, ANHA12_lat)\n",
    "        transect_i = i\n",
    "        transect_j = j\n",
    "    else:\n",
    "        for k in range(0,len(transect_lons)):\n",
    "            i, j = ar.find_closest_model_point(transect_lons[k], transect_lats[k], ANHA12_lon, ANHA12_lat)\n",
    "            transect_i = np.append(transect_i, i)\n",
    "            transect_j = np.append(transect_j, j)\n",
    "    \n",
    "    return transect_i, transect_j"
   ]
  },
  {
   "cell_type": "code",
   "execution_count": 15,
   "metadata": {},
   "outputs": [],
   "source": [
    "def find_index_ANHA12_sub(transect_lons, transect_lats, ANHA12sub_lon=lon_model, ANHA12sub_lat=lat_model):\n",
    "    # input:   ANHA12sub_lon, ANHA12sub_lat --- 570x600 coordinates\n",
    "    #          transect_lons, transect_lats --- list of lat and lon values to include in the transect\n",
    "    # output:  i, j                         --- lists of coordinates associated with these points\n",
    "    \n",
    "    transect_i = np.array([])\n",
    "    transect_j = np.array([])\n",
    "    \n",
    "    if isinstance(transect_lons,float):\n",
    "        i, j = ar.find_closest_model_point(transect_lons, transect_lats, ANHA12sub_lon, ANHA12sub_lat)\n",
    "        transect_i = i\n",
    "        transect_j = j\n",
    "    else:\n",
    "        for k in range(0,len(transect_lons)):\n",
    "            i, j = ar.find_closest_model_point(transect_lons[k], transect_lats[k], ANHA12sub_lon, ANHA12sub_lat)\n",
    "            transect_i = np.append(transect_i, i)\n",
    "            transect_j = np.append(transect_j, j)\n",
    "    \n",
    "    return transect_i, transect_j"
   ]
  },
  {
   "cell_type": "code",
   "execution_count": 20,
   "metadata": {},
   "outputs": [],
   "source": [
    "def calc_scatter(name, dmn_stn, depth_stn):\n",
    "    lon_station = lons[stn_names==name]\n",
    "    lat_station = lats[stn_names==name]\n",
    "    model_stni, model_stnj = find_index_ANHA12_sub(lon_station, lat_station)\n",
    "    model_i, model_j = find_index_ANHA12_full(lon_station, lat_station)\n",
    "    model_i = int(model_i); model_j = int(model_j);\n",
    "    model_stni = int(model_stni); model_stnj = int(model_stnj);\n",
    "    \n",
    "    mn_ij1 = mn_dis_ref[8, 0, :, model_stni, model_stnj]*10**9\n",
    "    mn_ij2 = mn_dis_spm[8, 0, :, model_stni, model_stnj]*10**9\n",
    "    mn_ij3 = mn_dis_cleanice[8, 0, :, model_stni, model_stnj]*10**9\n",
    "    mn_ij1_masked = np.ma.masked_where((tmask[:, model_i, model_j] < 0.1), mn_ij1)\n",
    "    mn_ij2_masked = np.ma.masked_where((tmask[:, model_i, model_j] < 0.1), mn_ij2)\n",
    "    mn_ij3_masked = np.ma.masked_where((tmask[:, model_i, model_j] < 0.1), mn_ij3)\n",
    "    \n",
    "    m1 = []; m2 = []; m3 = [];\n",
    "    for depth_obs in depth_stn[(depth_stn < 50) & (depth_stn > 5)]:\n",
    "        d1 = np.argmin(np.abs(depths_model-depth_obs))\n",
    "        m1.append(mn_ij1_masked[d1])\n",
    "        m2.append(mn_ij2_masked[d1])\n",
    "        m3.append(mn_ij3_masked[d1])\n",
    "    \n",
    "    dmn_m1  = m1; dmn_m2  = m2; dmn_m3  = m3;\n",
    "    dmn_obs = list(dmn_stn[(depth_stn < 50) & (depth_stn > 5)])\n",
    "    \n",
    "    return dmn_m1, dmn_m2, dmn_m3, dmn_obs"
   ]
  },
  {
   "cell_type": "markdown",
   "metadata": {},
   "source": [
    "#### Figure:"
   ]
  },
  {
   "cell_type": "code",
   "execution_count": 21,
   "metadata": {},
   "outputs": [],
   "source": [
    "dmn_m1CAA1, dmn_m2CAA1, dmn_m3CAA1, dmn_obCAA1 = calc_scatter('CAA1', dMn_CAA1, depth_CAA1)\n",
    "dmn_m1CAA2, dmn_m2CAA2, dmn_m3CAA2, dmn_obCAA2 = calc_scatter('CAA2', dMn_CAA2, depth_CAA2)\n",
    "dmn_m1CAA3, dmn_m2CAA3, dmn_m3CAA3, dmn_obCAA3 = calc_scatter('CAA3', dMn_CAA3, depth_CAA3)\n",
    "dmn_m1CAA4, dmn_m2CAA4, dmn_m3CAA4, dmn_obCAA4 = calc_scatter('CAA4', dMn_CAA4, depth_CAA4)\n",
    "dmn_m1CAA5, dmn_m2CAA5, dmn_m3CAA5, dmn_obCAA5 = calc_scatter('CAA5', dMn_CAA5, depth_CAA5)\n",
    "dmn_m1CAA6, dmn_m2CAA6, dmn_m3CAA6, dmn_obCAA6 = calc_scatter('CAA6', dMn_CAA6, depth_CAA6)\n",
    "dmn_m1CAA7, dmn_m2CAA7, dmn_m3CAA7, dmn_obCAA7 = calc_scatter('CAA7', dMn_CAA7, depth_CAA7)\n",
    "dmn_m1CAA8, dmn_m2CAA8, dmn_m3CAA8, dmn_obCAA8 = calc_scatter('CAA8', dMn_CAA8, depth_CAA8)\n",
    "dmn_m1CAA9, dmn_m2CAA9, dmn_m3CAA9, dmn_obCAA9 = calc_scatter('CAA9', dMn_CAA9, depth_CAA9)\n",
    "\n",
    "dmn_m1CB1, dmn_m2CB1, dmn_m3CB1, dmn_obCB1 = calc_scatter('CB1', dMn_CB1, depth_CB1)\n",
    "dmn_m1CB2, dmn_m2CB2, dmn_m3CB2, dmn_obCB2 = calc_scatter('CB2', dMn_CB2, depth_CB2)\n",
    "dmn_m1CB3, dmn_m2CB3, dmn_m3CB3, dmn_obCB3 = calc_scatter('CB3', dMn_CB3, depth_CB3)\n",
    "dmn_m1CB4, dmn_m2CB4, dmn_m3CB4, dmn_obCB4 = calc_scatter('CB4', dMn_CB4, depth_CB4)"
   ]
  },
  {
   "cell_type": "code",
   "execution_count": 22,
   "metadata": {},
   "outputs": [],
   "source": [
    "dmn_dirty = dmn_m1CAA1 + dmn_m1CAA2 + dmn_m1CAA3 + dmn_m1CAA4 + dmn_m1CAA5 + \\\n",
    "            dmn_m1CAA6 + dmn_m1CAA7 + dmn_m1CAA8 + dmn_m1CAA9 + dmn_m1CB1 + \\\n",
    "            dmn_m1CB2  + dmn_m1CB3  + dmn_m1CB4\n",
    "dmn_dirty_CB = dmn_m1CB1 + dmn_m1CB2  + dmn_m1CB3  + dmn_m1CB4\n",
    "\n",
    "dmn_clean = dmn_m3CAA1 + dmn_m3CAA2 + dmn_m3CAA3 + dmn_m3CAA4 + dmn_m3CAA5 + \\\n",
    "            dmn_m3CAA6 + dmn_m3CAA7 + dmn_m3CAA8 + dmn_m3CAA9 + dmn_m3CB1 + \\\n",
    "            dmn_m3CB2  + dmn_m3CB3  + dmn_m3CB4\n",
    "dmn_clean_CB = dmn_m3CB1 + dmn_m3CB2  + dmn_m3CB3  + dmn_m3CB4\n",
    "\n",
    "dmn_rivers = dmn_m2CAA1 + dmn_m2CAA2 + dmn_m2CAA3 + dmn_m2CAA4 + dmn_m2CAA5 + \\\n",
    "            dmn_m2CAA6 + dmn_m2CAA7 + dmn_m2CAA8 + dmn_m2CAA9 + dmn_m2CB1 + \\\n",
    "            dmn_m2CB2  + dmn_m2CB3  + dmn_m2CB4\n",
    "dmn_rivers_CB = dmn_m2CB1 + dmn_m2CB2  + dmn_m2CB3  + dmn_m2CB4\n",
    "\n",
    "dmn_observ = dmn_obCAA1 + dmn_obCAA2 + dmn_obCAA3 + dmn_obCAA4 + dmn_obCAA5 + \\\n",
    "             dmn_obCAA6 + dmn_obCAA7 + dmn_obCAA8 + dmn_obCAA9 + dmn_obCB1 + \\\n",
    "             dmn_obCB2  + dmn_obCB3  + dmn_obCB4\n",
    "dmn_observ_CB = dmn_obCB1 + dmn_obCB2  + dmn_obCB3  + dmn_obCB4\n",
    "\n",
    "delta_dmn_ice         = np.array(dmn_dirty)  - np.array(dmn_clean)\n",
    "delta_dmn_rivers      = np.array(dmn_rivers) - np.array(dmn_dirty)\n",
    "dmn_clean_rivers      = np.array(dmn_rivers) - delta_dmn_ice"
   ]
  },
  {
   "cell_type": "code",
   "execution_count": 23,
   "metadata": {},
   "outputs": [],
   "source": [
    "dmn_dirty_continental = dmn_m1CB4 + dmn_m1CB3 + dmn_m1CB2 + dmn_m1CB1 + dmn_m1CAA8 + dmn_m1CAA6 + dmn_m1CAA7 +\\\n",
    "                        dmn_m1CAA5 + dmn_m1CAA4\n",
    "dmn_clean_continental = dmn_m3CB4 + dmn_m3CB3 + dmn_m3CB2 + dmn_m3CB1 + dmn_m3CAA8 + dmn_m3CAA6 + dmn_m3CAA7 +\\\n",
    "                        dmn_m3CAA5 + dmn_m3CAA4\n",
    "dmn_river_continental = dmn_m2CB4 + dmn_m2CB3 + dmn_m2CB2 + dmn_m2CB1 + dmn_m2CAA8 + dmn_m2CAA6 + dmn_m2CAA7 +\\\n",
    "                        dmn_m2CAA5 + dmn_m2CAA4\n",
    "\n",
    "dmn_dirty_glacial = dmn_m1CAA1 + dmn_m1CAA9 + dmn_m1CAA2 + dmn_m1CAA3\n",
    "dmn_clean_glacial = dmn_m3CAA1 + dmn_m3CAA9 + dmn_m3CAA2 + dmn_m3CAA3\n",
    "dmn_river_glacial = dmn_m2CAA1 + dmn_m2CAA9 + dmn_m2CAA2 + dmn_m2CAA3\n",
    "\n",
    "\n",
    "dmn_obs_continental = dmn_obCB4 + dmn_obCB3 + dmn_obCB2 + dmn_obCB1 + dmn_obCAA8 + dmn_obCAA6 + dmn_obCAA7 +\\\n",
    "                        dmn_obCAA5 + dmn_obCAA4\n",
    "dmn_obs_glacial     = dmn_obCAA1 + dmn_obCAA9 + dmn_obCAA2 + dmn_obCAA3"
   ]
  },
  {
   "cell_type": "markdown",
   "metadata": {},
   "source": [
    "Estimate SPM contribution objectively:"
   ]
  },
  {
   "cell_type": "code",
   "execution_count": 29,
   "metadata": {},
   "outputs": [],
   "source": [
    "def willmott_score(Obs, Pred):\n",
    "    N = np.count_nonzero(~np.isnan(Obs))\n",
    "    \n",
    "    numerator   = np.sum([(Pred[i]-Obs[i])**2 for i in range(0,N)])\n",
    "    term1       = np.abs(Pred - np.nanmean(Pred))\n",
    "    term2       = np.abs(Obs - np.nanmean(Obs))\n",
    "    denominator = np.sum([(term1[i]+term2[i])**2 for i in range(0,N)])\n",
    "    deviation   = numerator / denominator\n",
    "    \n",
    "    willmott    = 1 - deviation\n",
    "#     print('Willmott skill score: ', willmott)\n",
    "        \n",
    "    return willmott"
   ]
  },
  {
   "cell_type": "code",
   "execution_count": 27,
   "metadata": {},
   "outputs": [
    {
     "name": "stdout",
     "output_type": "stream",
     "text": [
      "Willmott skill score:  0.6429167491099699\n",
      "Willmott skill score:  0.6312208976946837\n",
      "Willmott skill score:  -0.2412436950321737\n",
      "----------------------------------------------------\n",
      "Willmott skill score:  0.5208864977067664\n",
      "Willmott skill score:  0.8103222868949875\n",
      "Willmott skill score:  0.6535145638056926\n"
     ]
    },
    {
     "data": {
      "text/plain": [
       "0.6535145638056926"
      ]
     },
     "execution_count": 27,
     "metadata": {},
     "output_type": "execute_result"
    }
   ],
   "source": [
    "willmott_score(dmn_obs_continental, dmn_river_continental)\n",
    "willmott_score(dmn_obs_continental, dmn_dirty_continental)\n",
    "willmott_score(dmn_obs_continental, dmn_clean_continental)\n",
    "print('----------------------------------------------------')\n",
    "willmott_score(dmn_obs_glacial, dmn_river_glacial)\n",
    "willmott_score(dmn_obs_glacial, dmn_dirty_glacial)\n",
    "willmott_score(dmn_obs_glacial, dmn_clean_glacial)"
   ]
  },
  {
   "cell_type": "code",
   "execution_count": 35,
   "metadata": {},
   "outputs": [
    {
     "name": "stdout",
     "output_type": "stream",
     "text": [
      "Best fit SPM content: (glacial, continental)       0.0 1.1211211211211212\n",
      "Associated Willmott score: (glacial, continental)  0.8103222868949875 0.6312208976946837\n"
     ]
    }
   ],
   "source": [
    "delta_dmn_rivers_glacial = np.array(dmn_river_glacial) - np.array(dmn_dirty_glacial)\n",
    "delta_dmn_rivers_continental = np.array(dmn_river_continental) - np.array(dmn_dirty_continental)\n",
    "\n",
    "willmotts_glacial = []\n",
    "a_values  = np.linspace(0,10,1000)\n",
    "for a in a_values:\n",
    "    dmn_test = dmn_dirty_glacial + a*delta_dmn_rivers_glacial\n",
    "    w = willmott_score(dmn_obs_glacial, dmn_test)\n",
    "    \n",
    "    willmotts_glacial.append(w)\n",
    "    \n",
    "\n",
    "willmotts_continental = []\n",
    "a_values  = np.linspace(0,10,1000)\n",
    "for a in a_values:\n",
    "    dmn_test = dmn_dirty_continental + a*delta_dmn_rivers_continental\n",
    "    w = willmott_score(dmn_obs_continental, dmn_test)\n",
    "    \n",
    "    willmotts_continental.append(w)\n",
    "    \n",
    "ind_max_glacial     = np.argmax(willmotts_glacial)\n",
    "ind_max_continental = np.argmax(willmotts_continental)\n",
    "a_best_glacial      = a_values[ind_max_glacial]\n",
    "a_best_continental  = a_values[ind_max_continental]\n",
    "willmotts_glacial     = np.array(willmotts_glacial)\n",
    "willmotts_continental = np.array(willmotts_continental)\n",
    "print('Best fit SPM content: (glacial, continental)      ', a_best_glacial, a_best_continental)\n",
    "print('Associated Willmott score: (glacial, continental) ', willmotts_glacial[ind_max_glacial], \\\n",
    "                                                            willmotts_continental[ind_max_glacial])"
   ]
  },
  {
   "cell_type": "code",
   "execution_count": 31,
   "metadata": {},
   "outputs": [],
   "source": [
    "score_rivers = willmott_score(dmn_observ, dmn_rivers)\n",
    "score_dirty  = willmott_score(dmn_observ, dmn_dirty)\n",
    "score_clean  = willmott_score(dmn_observ, dmn_clean)\n",
    "score_observ = willmott_score(dmn_observ, dmn_clean_rivers)"
   ]
  },
  {
   "cell_type": "code",
   "execution_count": 36,
   "metadata": {},
   "outputs": [
    {
     "name": "stdout",
     "output_type": "stream",
     "text": [
      "Best fit SPM content:  0.04504504504504503\n",
      "Associated Willmott score:  0.6827630038015802\n"
     ]
    }
   ],
   "source": [
    "willmotts = []\n",
    "a_values  = np.linspace(-5,10,1000)\n",
    "\n",
    "for a in a_values:\n",
    "    dmn_test = dmn_dirty + a*delta_dmn_rivers\n",
    "    w = willmott_score(dmn_observ, dmn_test)\n",
    "    \n",
    "    willmotts.append(w)\n",
    "    \n",
    "ind_max = np.argmax(willmotts)\n",
    "a_best  = a_values[ind_max]\n",
    "willmotts = np.array(willmotts)\n",
    "print('Best fit SPM content: ', a_best)\n",
    "print('Associated Willmott score: ', willmotts[ind_max])"
   ]
  },
  {
   "cell_type": "code",
   "execution_count": 34,
   "metadata": {},
   "outputs": [
    {
     "data": {
      "text/plain": [
       "(-0.05, 1.05)"
      ]
     },
     "execution_count": 34,
     "metadata": {},
     "output_type": "execute_result"
    },
    {
     "data": {
      "image/png": "[encoded data removed]",
      "text/plain": [
       "<Figure size 432x288 with 1 Axes>"
      ]
     },
     "metadata": {
      "needs_background": "light"
     },
     "output_type": "display_data"
    }
   ],
   "source": [
    "fig, ax = plt.subplots(1,1)\n",
    "\n",
    "ax.plot(a_values, willmotts, '.k', markersize=5)\n",
    "ax.plot([0,0], [-10,10], '--k')\n",
    "ax.plot([1,1], [-10,10], '--k')\n",
    "ax.plot([-10,10], [0,0], '-k')\n",
    "ax.plot(a_best, willmotts[ind_max], '.r', markersize=20)\n",
    "\n",
    "ax.set_xlabel('SPM content relative to value in upper bound river experiment')\n",
    "ax.set_ylabel('Willmott score')\n",
    "ax.set_ylim(0,1)\n",
    "ax.set_xlim(-0.05,1.05)"
   ]
  },
  {
   "cell_type": "code",
   "execution_count": 37,
   "metadata": {},
   "outputs": [
    {
     "data": {
      "text/plain": [
       "(-5.0, 10.0)"
      ]
     },
     "execution_count": 37,
     "metadata": {},
     "output_type": "execute_result"
    },
    {
     "data": {
      "image/png": "[encoded data removed]",
      "text/plain": [
       "<Figure size 432x288 with 1 Axes>"
      ]
     },
     "metadata": {
      "needs_background": "light"
     },
     "output_type": "display_data"
    }
   ],
   "source": [
    "fig, ax = plt.subplots(1,1)\n",
    "\n",
    "ax.plot(a_values, willmotts, '.k', markersize=5)\n",
    "ax.plot([0,0], [-10,10], '--k')\n",
    "ax.plot([-10,10], [0,0], '-k')\n",
    "\n",
    "ax.set_xlabel('SPM content relative to previous maximum value used')\n",
    "ax.set_ylabel('Willmott score')\n",
    "ax.set_ylim(-2,1)\n",
    "ax.set_xlim(-5,10)"
   ]
  },
  {
   "cell_type": "code",
   "execution_count": 38,
   "metadata": {},
   "outputs": [],
   "source": [
    "dmn_best  = dmn_dirty + a_best*delta_dmn_rivers\n",
    "obs_best2 = np.concatenate((dmn_obs_glacial, dmn_obs_continental))\n",
    "dmn_best2 = np.concatenate((dmn_dirty_glacial + a_best_glacial*delta_dmn_rivers_glacial, \\\n",
    "            dmn_dirty_continental + a_best_continental*delta_dmn_rivers_continental))"
   ]
  },
  {
   "cell_type": "code",
   "execution_count": 39,
   "metadata": {},
   "outputs": [
    {
     "data": {
      "image/png": "[encoded data removed]",
      "text/plain": [
       "<Figure size 324x266.4 with 1 Axes>"
      ]
     },
     "metadata": {
      "needs_background": "light"
     },
     "output_type": "display_data"
    }
   ],
   "source": [
    "fig = plt.figure(figsize=(6,5))\n",
    "st  = sns.axes_style(\"ticks\")\n",
    "\n",
    "with st:\n",
    "    ax = sns.lineplot([0, 20],[0, 20], c='k', linewidth=2.0, zorder=1)\n",
    "    ax.lines[0].set_linestyle('--')\n",
    "    \n",
    "#     sns.scatterplot(dmn_observ, dmn_clean_rivers, label=r'No sediment in sea ice, upper limit rivers', s=40, edgecolor='k', color='r', zorder=2)\n",
    "    sns.scatterplot(dmn_observ, dmn_rivers, label=r'upper limit rivers', s=40, edgecolor='k', color=rivers, zorder=2)\n",
    "    sns.scatterplot(dmn_observ, dmn_dirty, label=r'lower bound rivers', s=40, edgecolor='k', color=dirty, zorder=2)\n",
    "    sns.scatterplot(dmn_observ, dmn_best, label=r'best fit rivers', s=40, edgecolor='k', color='#dda0dd', zorder=2)\n",
    "    sns.scatterplot(obs_best2, dmn_best2, label=r'best fit rivers2', s=40, edgecolor='k', color='r', zorder=2)\n",
    "    \n",
    "#     sns.scatterplot([np.mean(dmn_observ)], [np.mean(dmn_clean_rivers)], s=100, linewidth=1.0, edgecolor='k', marker='s', color='r', zorder=3)\n",
    "    sns.scatterplot([np.mean(dmn_observ)], [np.mean(dmn_rivers)], s=100, linewidth=1.0, edgecolor='k', marker='s', color=rivers, zorder=3)\n",
    "    sns.scatterplot([np.mean(dmn_observ)], [np.mean(dmn_dirty)], s=100, linewidth=1.0, edgecolor='k', marker='s', color=dirty, zorder=3)\n",
    "    sns.scatterplot([np.mean(dmn_observ)], [np.mean(dmn_best)], s=100, linewidth=1.0, edgecolor='k', marker='s', color='#dda0dd', zorder=3)\n",
    "\n",
    "    ax.set_xlabel('Observed Mn [nM]', fontsize=8)\n",
    "    ax.set_ylabel('Modelled Mn [nM]',fontsize=8)\n",
    "    ax.set(xlim=(0, 14.), ylim=(0, 14.))\n",
    "    ax.tick_params(axis='both', which='major', labelsize=8)\n",
    "    ax.legend(loc=(0.01, 0.8), frameon=False, fontsize=8)\n",
    "    \n",
    "    ax.spines['left'].set_linewidth(1.0);   ax.spines['left'].set_color('black');\n",
    "    ax.spines['bottom'].set_linewidth(1.0); ax.spines['bottom'].set_color('black');\n",
    "    ax.spines['right'].set_linewidth(1.0);  ax.spines['right'].set_color('black');\n",
    "    ax.spines['top'].set_linewidth(1.0);    ax.spines['top'].set_color('black');    \n",
    "    \n",
    "figure = plt.gcf()\n",
    "figure.set_size_inches(4.5, 3.7)\n",
    "# figure.savefig('/ocean/brogalla/GEOTRACES/figures/paper1/R3-model-vs-observations-3.png', \\\n",
    "#                bbox_inches='tight', dpi=300, transparent=True)\n",
    "# # figure.savefig('/ocean/brogalla/GEOTRACES/figures/paper1/R3-model-vs-observations.svg', \\\n",
    "# #                bbox_inches='tight', dpi=300, format='svg')"
   ]
  },
  {
   "cell_type": "code",
   "execution_count": null,
   "metadata": {},
   "outputs": [],
   "source": []
  }
 ],
 "metadata": {
  "kernelspec": {
   "display_name": "Python 3",
   "language": "python",
   "name": "python3"
  },
  "language_info": {
   "codemirror_mode": {
    "name": "ipython",
    "version": 3
   },
   "file_extension": ".py",
   "mimetype": "text/x-python",
   "name": "python",
   "nbconvert_exporter": "python",
   "pygments_lexer": "ipython3",
   "version": "3.6.11"
  }
 },
 "nbformat": 4,
 "nbformat_minor": 4
}
