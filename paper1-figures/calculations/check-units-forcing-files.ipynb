{
 "cells": [
  {
   "cell_type": "markdown",
   "metadata": {},
   "source": [
    "### Check units of Mn model forcing files"
   ]
  },
  {
   "cell_type": "code",
   "execution_count": 1,
   "metadata": {},
   "outputs": [],
   "source": [
    "import netCDF4 as nc\n",
    "import numpy as np"
   ]
  },
  {
   "cell_type": "markdown",
   "metadata": {},
   "source": [
    "Parameters"
   ]
  },
  {
   "cell_type": "code",
   "execution_count": 2,
   "metadata": {},
   "outputs": [],
   "source": [
    "imin, imax = 1480, 2180\n",
    "jmin, jmax = 160, 800\n",
    "isize, jsize = imax-imin, jmax-jmin"
   ]
  },
  {
   "cell_type": "markdown",
   "metadata": {},
   "source": [
    "Load files"
   ]
  },
  {
   "cell_type": "code",
   "execution_count": 3,
   "metadata": {},
   "outputs": [],
   "source": [
    "folder = '/ocean/brogalla/GEOTRACES/data/paper1-forcing-files/'\n",
    "\n",
    "file_ice    = 'ANHA12-EXH006_5d_icemod_y2002m01d05.nc'\n",
    "file_resus  = 'erosion_rate-20200406.nc'\n",
    "file_icesed = 'ice_sediment-20200428.nc'\n",
    "file_rivers = 'river-forcing-base-20201113.nc'\n",
    "file_ice_NCAR = 'ice_flux_y2002m01.nc'\n",
    "file_atm_NCAR = 'atm_flux_y2002m01.nc'\n",
    "file_red    = 'red_y2002m01.nc'\n",
    "file_runoff = 'runoff_monthly_y2002.nc'"
   ]
  },
  {
   "cell_type": "markdown",
   "metadata": {},
   "source": [
    "##### River runoff:"
   ]
  },
  {
   "cell_type": "code",
   "execution_count": 8,
   "metadata": {},
   "outputs": [],
   "source": [
    "river = nc.Dataset(folder+file_runoff)\n",
    "discharge = np.array(river.variables['runoff'])[:,imin:imax,jmin:jmax]"
   ]
  },
  {
   "cell_type": "code",
   "execution_count": 13,
   "metadata": {},
   "outputs": [
    {
     "name": "stdout",
     "output_type": "stream",
     "text": [
      "River discharge forcing field -----\n",
      "Maximum value:  0.1038591 kg/m2/s\n",
      "Minimum value:  0.0 kg/m2/s\n",
      "Average value:  6.5087315e-06 kg/m2/s\n"
     ]
    }
   ],
   "source": [
    "print('River discharge forcing field -----')\n",
    "print('Maximum value: ', np.amax(discharge), 'kg/m2/s')\n",
    "print('Minimum value: ', np.amin(discharge), 'kg/m2/s')\n",
    "print('Average value: ', np.average(discharge), 'kg/m2/s')"
   ]
  },
  {
   "cell_type": "code",
   "execution_count": 16,
   "metadata": {},
   "outputs": [
    {
     "name": "stdout",
     "output_type": "stream",
     "text": [
      "River discharge forcing field -----\n",
      "Maximum value:  8973.425960540771 kg/m2/day\n",
      "Minimum value:  0.0 kg/m2/day\n",
      "Average value:  0.5623544042464346 kg/m2/day\n"
     ]
    }
   ],
   "source": [
    "print('River discharge forcing field -----')\n",
    "print('Maximum value: ', np.amax(discharge)*3600*24, 'kg/m2/day')\n",
    "print('Minimum value: ', np.amin(discharge)*3600*24, 'kg/m2/day')\n",
    "print('Average value: ', np.average(discharge)*3600*24, 'kg/m2/day')"
   ]
  },
  {
   "cell_type": "markdown",
   "metadata": {},
   "source": [
    "##### Resuspension rate:"
   ]
  },
  {
   "cell_type": "code",
   "execution_count": 19,
   "metadata": {},
   "outputs": [],
   "source": [
    "resus = nc.Dataset(folder+file_resus)\n",
    "resus_rate = np.array(resus.variables['er_rate'])[imin:imax,jmin:jmax]"
   ]
  },
  {
   "cell_type": "code",
   "execution_count": 20,
   "metadata": {},
   "outputs": [
    {
     "name": "stdout",
     "output_type": "stream",
     "text": [
      "Resuspension rate forcing field -----\n",
      "Maximum value:  4510.484515549251\n",
      "Minimum value:  0.0\n",
      "Average value:  9.104849602259435\n"
     ]
    }
   ],
   "source": [
    "print('Resuspension rate forcing field -----')\n",
    "print('Maximum value: ', np.amax(resus_rate)*24*365*3600*1000)\n",
    "print('Minimum value: ', np.amin(resus_rate)*24*365*3600*1000)\n",
    "print('Average value: ', np.average(resus_rate)*24*365*3600*1000)"
   ]
  },
  {
   "cell_type": "markdown",
   "metadata": {},
   "source": [
    "##### Ice production units:"
   ]
  },
  {
   "cell_type": "code",
   "execution_count": 5,
   "metadata": {},
   "outputs": [],
   "source": [
    "ice = nc.Dataset(folder+file_ice)\n",
    "iiceprod = np.array(ice.variables['iiceprod'])"
   ]
  },
  {
   "cell_type": "code",
   "execution_count": 10,
   "metadata": {},
   "outputs": [
    {
     "name": "stdout",
     "output_type": "stream",
     "text": [
      "0.03292301116744056\n"
     ]
    }
   ],
   "source": [
    "print(np.average(iiceprod[0, imin:imax, jmin:jmax])*3600*24*5/180) # maximum amount of ice built is 0.03 m."
   ]
  },
  {
   "cell_type": "markdown",
   "metadata": {},
   "source": [
    "##### Reduction:"
   ]
  },
  {
   "cell_type": "code",
   "execution_count": 34,
   "metadata": {},
   "outputs": [],
   "source": [
    "red = nc.Dataset(folder+file_red)\n",
    "kred = np.array(red.variables['kred'])[imin:imax, jmin:jmax]"
   ]
  },
  {
   "cell_type": "code",
   "execution_count": 36,
   "metadata": {},
   "outputs": [
    {
     "name": "stdout",
     "output_type": "stream",
     "text": [
      "Reduction forcing field -----\n",
      "Maximum value:  1.6891131401062012\n",
      "Minimum value:  1.6150246858596802\n",
      "Average value:  1.6885367850557502\n"
     ]
    }
   ],
   "source": [
    "print('Reduction forcing field -----')\n",
    "print('Maximum value: ', np.amax(kred))\n",
    "print('Minimum value: ', np.amin(kred))\n",
    "print('Average value: ', np.average(kred))"
   ]
  },
  {
   "cell_type": "markdown",
   "metadata": {},
   "source": [
    "Matches forcing file notebook! All good."
   ]
  },
  {
   "cell_type": "markdown",
   "metadata": {},
   "source": [
    "##### NCAR files:"
   ]
  },
  {
   "cell_type": "code",
   "execution_count": 24,
   "metadata": {},
   "outputs": [],
   "source": [
    "ice_NCAR = nc.Dataset(folder+file_ice_NCAR)\n",
    "dust_ice = np.array(ice_NCAR.variables['dust'])[imin:imax,jmin:jmax]\n",
    "\n",
    "atm_NCAR = nc.Dataset(folder+file_atm_NCAR)\n",
    "fdust = np.array(atm_NCAR.variables['fdust'])[imin:imax,jmin:jmax]\n",
    "cdust = np.array(atm_NCAR.variables['cdust'])[imin:imax,jmin:jmax]\n",
    "dust = fdust + cdust"
   ]
  },
  {
   "cell_type": "code",
   "execution_count": 16,
   "metadata": {},
   "outputs": [
    {
     "name": "stdout",
     "output_type": "stream",
     "text": [
      "NCAR dust flux from ice forcing field -----\n",
      "Maximum value:  4.706913783540278e-12\n",
      "Minimum value:  1.1065360118701454e-15\n",
      "Average value:  6.143279295617878e-14\n"
     ]
    }
   ],
   "source": [
    "print('NCAR dust flux from ice forcing field -----')\n",
    "print('Maximum value: ', np.amax(dust_ice))\n",
    "print('Minimum value: ', np.amin(dust_ice))\n",
    "print('Average value: ', np.average(dust_ice))"
   ]
  },
  {
   "cell_type": "markdown",
   "metadata": {},
   "source": [
    "Matches forcing file! All good."
   ]
  },
  {
   "cell_type": "code",
   "execution_count": 25,
   "metadata": {},
   "outputs": [
    {
     "name": "stdout",
     "output_type": "stream",
     "text": [
      "NCAR dust flux from the atmosphere forcing field -----\n",
      "Maximum value:  5.790318192017799e-14\n",
      "Minimum value:  3.1634936473561423e-15\n",
      "Average value:  2.40146750076932e-14\n"
     ]
    }
   ],
   "source": [
    "print('NCAR dust flux from the atmosphere forcing field -----')\n",
    "print('Maximum value: ', np.amax(dust))\n",
    "print('Minimum value: ', np.amin(dust))\n",
    "print('Average value: ', np.average(dust))"
   ]
  },
  {
   "cell_type": "markdown",
   "metadata": {},
   "source": [
    "Matches forcing file! All good."
   ]
  },
  {
   "cell_type": "code",
   "execution_count": null,
   "metadata": {},
   "outputs": [],
   "source": []
  }
 ],
 "metadata": {
  "kernelspec": {
   "display_name": "Python 3",
   "language": "python",
   "name": "python3"
  },
  "language_info": {
   "codemirror_mode": {
    "name": "ipython",
    "version": 3
   },
   "file_extension": ".py",
   "mimetype": "text/x-python",
   "name": "python",
   "nbconvert_exporter": "python",
   "pygments_lexer": "ipython3",
   "version": "3.7.3"
  }
 },
 "nbformat": 4,
 "nbformat_minor": 2
}
