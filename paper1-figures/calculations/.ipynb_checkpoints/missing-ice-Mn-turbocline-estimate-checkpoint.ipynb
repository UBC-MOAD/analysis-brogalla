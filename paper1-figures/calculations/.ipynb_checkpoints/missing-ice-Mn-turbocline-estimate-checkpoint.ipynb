{
 "cells": [
  {
   "cell_type": "markdown",
   "metadata": {},
   "source": [
    "#### Estimate the amount of missing sediment input in Canada Basin using the turbocline depth"
   ]
  },
  {
   "cell_type": "code",
   "execution_count": 4,
   "metadata": {},
   "outputs": [],
   "source": [
    "import numpy as np\n",
    "import netCDF4 as nc\n",
    "import glob\n",
    "\n",
    "%matplotlib inline"
   ]
  },
  {
   "cell_type": "markdown",
   "metadata": {},
   "source": [
    "##### Parameters"
   ]
  },
  {
   "cell_type": "code",
   "execution_count": 37,
   "metadata": {},
   "outputs": [],
   "source": [
    "imin, imax = 1480, 2180\n",
    "jmin, jmax = 160, 800\n",
    "isize, jsize = imax-imin, jmax-jmin"
   ]
  },
  {
   "cell_type": "markdown",
   "metadata": {},
   "source": [
    "###### Load files"
   ]
  },
  {
   "cell_type": "code",
   "execution_count": 10,
   "metadata": {},
   "outputs": [],
   "source": [
    "mask  = nc.Dataset('/ocean/brogalla/GEOTRACES/ariane_runs/ANHA12_Ariane_mesh.nc')\n",
    "tmask = np.array(mask.variables['tmask'])"
   ]
  },
  {
   "cell_type": "code",
   "execution_count": 11,
   "metadata": {},
   "outputs": [],
   "source": [
    "file_list = glob.glob('/data/brogalla/ANHA12/ANHA12-EXH006_5d_gridT_y2015*')"
   ]
  },
  {
   "cell_type": "markdown",
   "metadata": {},
   "source": [
    "##### Calculations"
   ]
  },
  {
   "cell_type": "code",
   "execution_count": 52,
   "metadata": {},
   "outputs": [],
   "source": [
    "# Find indices to separate out Canada Basin:\n",
    "x_ind = np.arange(1620, 2100, 1)\n",
    "y_ind = (-7/8)*x_ind + 1517 + 700\n",
    "\n",
    "CB_indx = []\n",
    "CB_indy = []\n",
    "for index in range(0,len(x_ind)):\n",
    "    CB_x = np.arange(x_ind[index],2180,1)\n",
    "    CB_y = np.ones(CB_x.shape)*y_ind[index]\n",
    "    \n",
    "    CB_indx = np.append(CB_x, CB_indx)\n",
    "    CB_indy = np.append(CB_y, CB_indy)"
   ]
  },
  {
   "cell_type": "code",
   "execution_count": 53,
   "metadata": {},
   "outputs": [],
   "source": [
    "# Separate Canada Basin:\n",
    "mask_CB  = np.zeros((isize,jsize))\n",
    "for i, j in zip(CB_indx, CB_indy):\n",
    "    mask_CB[int(i-imin),int(j-jmin)]  = 1\n",
    "    \n",
    "mask_CB[150:-1 ,-8:-1] = 1"
   ]
  },
  {
   "cell_type": "code",
   "execution_count": 59,
   "metadata": {},
   "outputs": [],
   "source": [
    "turbo_maxs = np.zeros((len(file_list),1))\n",
    "turbo_mins = np.zeros((len(file_list),1))\n",
    "turbo_aves = np.zeros((len(file_list),1))\n",
    "\n",
    "i=0\n",
    "for file in file_list:\n",
    "    ds = nc.Dataset(file)\n",
    "    \n",
    "    # Load turbocline depth variable and mask land values\n",
    "    turbo   = np.array(ds.variables['sohmld'])[0,imin:imax,jmin:jmax]\n",
    "    turbo_m = np.ma.masked_where((tmask[0,0,imin:imax,jmin:jmax] < 0.1) & (mask_CB==0), turbo)\n",
    "    \n",
    "    turbo_maxs[i] = np.ma.amax(turbo_m)\n",
    "    turbo_mins[i] = np.ma.amin(turbo_m[turbo_m > 0]) # don't want to bias by zero\n",
    "    turbo_aves[i] = np.ma.mean(turbo_m)\n",
    "    \n",
    "    i+=1\n",
    "    "
   ]
  },
  {
   "cell_type": "code",
   "execution_count": 60,
   "metadata": {},
   "outputs": [
    {
     "name": "stdout",
     "output_type": "stream",
     "text": [
      "Maximum turbocline depth seen in 2015:  152.41\n",
      "Minimum turbocline depth seen in 2015:  10.00\n",
      "Average turbocline depth seen in 2015:  32.67\n"
     ]
    }
   ],
   "source": [
    "print('Maximum turbocline depth seen in 2015: ', '{:.2f}'.format(np.amax(turbo_maxs)))\n",
    "print('Minimum turbocline depth seen in 2015: ', '{:.2f}'.format(np.amin(turbo_mins)))\n",
    "print('Average turbocline depth seen in 2015: ', '{:.2f}'.format(np.average(turbo_aves)))"
   ]
  },
  {
   "cell_type": "markdown",
   "metadata": {},
   "source": [
    "Now, to calculate the missing contribution in grams of sediment per meter squared:"
   ]
  },
  {
   "cell_type": "code",
   "execution_count": 61,
   "metadata": {},
   "outputs": [],
   "source": [
    "turbo_max = np.amax(turbo_maxs)\n",
    "turbo_min = np.amin(turbo_mins)\n",
    "turbo_ave = np.average(turbo_aves)"
   ]
  },
  {
   "cell_type": "code",
   "execution_count": 62,
   "metadata": {},
   "outputs": [],
   "source": [
    "max_missing = (4e-9*54.938*1e3*1e3*turbo_max)/(0.274*0.65)\n",
    "min_missing = (4e-9*54.938*1e3*1e3*turbo_min)/(0.274*0.65)\n",
    "ave_missing = (4e-9*54.938*1e3*1e3*turbo_ave)/(0.274*0.65)"
   ]
  },
  {
   "cell_type": "code",
   "execution_count": 65,
   "metadata": {},
   "outputs": [
    {
     "name": "stdout",
     "output_type": "stream",
     "text": [
      "Maximum missing in 2015:  188.06 g/m2\n",
      "Minimum missing in 2015:  12.34 g/m2\n",
      "Average missing in 2015:  40.31 g/m2\n"
     ]
    }
   ],
   "source": [
    "print('Maximum missing in 2015: ', '{:.2f}'.format(max_missing), 'g/m2')\n",
    "print('Minimum missing in 2015: ', '{:.2f}'.format(min_missing), 'g/m2')\n",
    "print('Average missing in 2015: ', '{:.2f}'.format(ave_missing), 'g/m2')"
   ]
  },
  {
   "cell_type": "code",
   "execution_count": null,
   "metadata": {},
   "outputs": [],
   "source": []
  }
 ],
 "metadata": {
  "kernelspec": {
   "display_name": "Python 3",
   "language": "python",
   "name": "python3"
  },
  "language_info": {
   "codemirror_mode": {
    "name": "ipython",
    "version": 3
   },
   "file_extension": ".py",
   "mimetype": "text/x-python",
   "name": "python",
   "nbconvert_exporter": "python",
   "pygments_lexer": "ipython3",
   "version": "3.7.3"
  }
 },
 "nbformat": 4,
 "nbformat_minor": 2
}
