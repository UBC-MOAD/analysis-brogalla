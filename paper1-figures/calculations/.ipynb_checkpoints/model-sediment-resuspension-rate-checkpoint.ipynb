{
 "cells": [
  {
   "cell_type": "markdown",
   "metadata": {},
   "source": [
    "## What is the range of sediment resuspension rates in our model?"
   ]
  },
  {
   "cell_type": "code",
   "execution_count": 2,
   "metadata": {},
   "outputs": [],
   "source": [
    "import numpy as np\n",
    "import netCDF4 as nc\n",
    "\n",
    "%matplotlib inline"
   ]
  },
  {
   "cell_type": "markdown",
   "metadata": {},
   "source": [
    "##### Parameters"
   ]
  },
  {
   "cell_type": "code",
   "execution_count": 5,
   "metadata": {},
   "outputs": [],
   "source": [
    "imin, imax = 1480, 2180\n",
    "jmin, jmax = 160, 800\n",
    "isize, jsize = imax-imin, jmax-jmin"
   ]
  },
  {
   "cell_type": "markdown",
   "metadata": {},
   "source": [
    "###### Load files"
   ]
  },
  {
   "cell_type": "code",
   "execution_count": 14,
   "metadata": {},
   "outputs": [],
   "source": [
    "mask  = nc.Dataset('/ocean/brogalla/GEOTRACES/ariane_runs/ANHA12_Ariane_mesh.nc')\n",
    "tmask = np.array(mask.variables['tmask'])\n",
    "\n",
    "e1t_base = np.array(mask.variables['e1t'])[0,imin:imax,jmin:jmax]\n",
    "e2t_base = np.array(mask.variables['e2t'])[0,imin:imax,jmin:jmax]\n",
    "e3t      = np.array(mask.variables['e3t_0'])[0,:,imin:imax,jmin:jmax]"
   ]
  },
  {
   "cell_type": "code",
   "execution_count": 7,
   "metadata": {},
   "outputs": [],
   "source": [
    "forcing_file = '/ocean/brogalla/GEOTRACES/data/paper1-forcing-files/erosion_rate-20200406.nc'\n",
    "\n",
    "ds           = nc.Dataset(forcing_file)\n",
    "erosion_rate = np.array(ds.variables['er_rate'])[imin:imax,jmin:jmax]"
   ]
  },
  {
   "cell_type": "markdown",
   "metadata": {},
   "source": [
    "##### Calculations"
   ]
  },
  {
   "cell_type": "code",
   "execution_count": 24,
   "metadata": {},
   "outputs": [],
   "source": [
    "erosion_rate_m = np.ma.masked_where((tmask[0,14,imin:imax,jmin:jmax] < 0.1), erosion_rate)"
   ]
  },
  {
   "cell_type": "code",
   "execution_count": 25,
   "metadata": {},
   "outputs": [
    {
     "name": "stdout",
     "output_type": "stream",
     "text": [
      "Everywhere in domain ------\n",
      "Maximum sediment resuspension rate  4510.48 g/m2/year\n",
      "Minimum sediment resuspension rate:  0.00 g/m2/year\n",
      "Average sediment resuspension rate:  14.05 g/m2/year\n"
     ]
    }
   ],
   "source": [
    "print('Everywhere in domain ------')\n",
    "print('Maximum sediment resuspension rate ', '{:.2f}'.format(np.ma.amax(erosion_rate_m)*1e3*3600*24*365),'g/m2/year')\n",
    "print('Minimum sediment resuspension rate: ', '{:.2f}'.format(np.ma.amin(erosion_rate_m)*1e3*3600*24*365),'g/m2/year')\n",
    "print('Average sediment resuspension rate: ', '{:.2f}'.format(np.ma.mean(erosion_rate_m)*1e3*3600*24*365),'g/m2/year')"
   ]
  },
  {
   "cell_type": "code",
   "execution_count": null,
   "metadata": {},
   "outputs": [],
   "source": []
  }
 ],
 "metadata": {
  "kernelspec": {
   "display_name": "Python 3",
   "language": "python",
   "name": "python3"
  },
  "language_info": {
   "codemirror_mode": {
    "name": "ipython",
    "version": 3
   },
   "file_extension": ".py",
   "mimetype": "text/x-python",
   "name": "python",
   "nbconvert_exporter": "python",
   "pygments_lexer": "ipython3",
   "version": "3.7.3"
  }
 },
 "nbformat": 4,
 "nbformat_minor": 2
}
