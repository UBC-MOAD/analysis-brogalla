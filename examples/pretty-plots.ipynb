{
 "cells": [
  {
   "cell_type": "markdown",
   "id": "bright-radical",
   "metadata": {},
   "source": [
    "# Python Play: bring your own plot day"
   ]
  },
  {
   "cell_type": "code",
   "execution_count": null,
   "id": "greatest-immigration",
   "metadata": {},
   "outputs": [],
   "source": [
    "import pickle\n",
    "import numpy as np\n",
    "import matplotlib.pyplot as plt\n",
    "import matplotlib\n",
    "from mpl_toolkits.basemap import Basemap, cm\n",
    "import cmocean\n",
    "import netCDF4 as nc\n",
    "import os\n",
    "from itertools import compress\n",
    "import datetime as dt\n",
    "from datetime import date\n",
    "from matplotlib.colors import ListedColormap, LinearSegmentedColormap\n",
    "from matplotlib import cm\n",
    "from math import sin, cos, sqrt, atan2, radians\n",
    "from matplotlib import rc\n",
    "from IPython.display import HTML\n",
    "import glob\n",
    "from IPython.display import Image\n",
    "\n",
    "%matplotlib inline"
   ]
  },
  {
   "cell_type": "markdown",
   "id": "younger-median",
   "metadata": {},
   "source": [
    "## Option 1: wind streamlines & ocean surface"
   ]
  },
  {
   "cell_type": "code",
   "execution_count": null,
   "id": "general-collector",
   "metadata": {},
   "outputs": [],
   "source": [
    "def plot_5d_mackenzie(ax, fday, time, files_ref, overlap_dates, overlap_uwind, overlap_vwind, wind=False, lw=0, \\\n",
    "                     set_lw=False):\n",
    "\n",
    "    proj2 = Basemap(projection='stere',lat_0 = 71, lon_0 = -135, resolution='i', width=1.5e6, height=1.0e6, ax=ax)\n",
    "    \n",
    "    x_land, y_land = proj2(lon, lat)\n",
    "    proj2.drawcoastlines(color='#373736', linewidth=1.8)\n",
    "    proj2.fillcontinents(color=land_color, lake_color=land_color, zorder=5);\n",
    "    proj2.drawparallels(np.arange(int(60),int(90),2),labels=[1,0,0,0], linewidth=0.0, fontsize=10)\n",
    "    proj2.drawmeridians(np.arange(int(-150),int(-30),10),labels=[0,0,0,1], linewidth=0.0, fontsize=10)\n",
    "\n",
    "    #--------------------- five day surface continental runoff field------------------------------\n",
    "    x_model, y_model = proj2(lons, lats)\n",
    "\n",
    "    CS2 = proj2.contourf(x_model, y_model, fday, \\\n",
    "                         20, cmap=cont_cmap, vmin=0.01, vmax=0.15, extend='both')\n",
    "\n",
    "    ax.set_title(files_ref[time][93:97]+'-'+files_ref[time][97:99]+'-'+files_ref[time][99:101]+' to '\\\n",
    "                 +files_ref[time][102:106]+'-'+files_ref[time][106:108]+'-'+files_ref[time][108:110])\n",
    "\n",
    "    #--------------------- wind stream plot ------------------------------------------------------\n",
    "    if wind:\n",
    "        startt = np.datetime64(dt.datetime.strptime(files_ref[time][93:101],  '%Y%m%d'))\n",
    "        endt   = np.datetime64(dt.datetime.strptime(files_ref[time][102:110], '%Y%m%d'))\n",
    "        \n",
    "        time_ind = np.array(np.where((overlap_dates > startt) & (overlap_dates < endt)))[0]\n",
    "        \n",
    "        u_1h_wind = np.zeros(overlap_uwind[0,:,:].shape); v_1h_wind=np.zeros(overlap_vwind[0,:,:].shape);\n",
    "        for t in time_ind:\n",
    "            u_1h_wind = np.add(overlap_uwind[t,:,:], u_1h_wind)\n",
    "            v_1h_wind = np.add(overlap_vwind[t,:,:], v_1h_wind)\n",
    "            \n",
    "        u_5d_wind = u_1h_wind/len(time_ind)\n",
    "        v_5d_wind = v_1h_wind/len(time_ind)\n",
    "        \n",
    "        speed = np.sqrt(u_5d_wind**2 + v_5d_wind**2)\n",
    "        \n",
    "        wlons, wlats   = np.meshgrid(wind_lons, wind_lats)\n",
    "        x_wind, y_wind = proj2(wlons, wlats)\n",
    "        \n",
    "        # Streamline thickness is related to speed and set during the first time period, so that it is\n",
    "        # the same for all plots\n",
    "        if time==0:\n",
    "            lw = 4*speed / speed.max()\n",
    "        elif set_lw:\n",
    "            lw = 6*speed / speed.max()\n",
    "        \n",
    "        ax.streamplot(x_wind[0,:], y_wind[:,0], u_5d_wind, v_5d_wind, \\\n",
    "                      arrowsize=2.5, density=1, color='#323232', linewidth=lw, arrowstyle='->')\n",
    "\n",
    "\n",
    "    proj2.drawmapscale(-147, 67.5, -140, 75, 400, barstyle='fancy', zorder=5, fontsize=12)\n",
    "    return lw"
   ]
  },
  {
   "cell_type": "markdown",
   "id": "moral-roots",
   "metadata": {},
   "source": [
    "## Option 2: pretty basemap contour plots"
   ]
  },
  {
   "cell_type": "code",
   "execution_count": null,
   "id": "introductory-football",
   "metadata": {},
   "outputs": [],
   "source": []
  },
  {
   "cell_type": "markdown",
   "id": "abandoned-trade",
   "metadata": {},
   "source": [
    "## Option 3: making colormaps with colorblindness in mind"
   ]
  },
  {
   "cell_type": "code",
   "execution_count": null,
   "id": "complex-strengthening",
   "metadata": {},
   "outputs": [],
   "source": []
  },
  {
   "cell_type": "markdown",
   "id": "hungarian-hebrew",
   "metadata": {},
   "source": [
    "## Option 4: showing sparse observations and model results on a transect plot with inset"
   ]
  },
  {
   "cell_type": "code",
   "execution_count": null,
   "id": "durable-violence",
   "metadata": {},
   "outputs": [],
   "source": []
  }
 ],
 "metadata": {
  "kernelspec": {
   "display_name": "Python 3",
   "language": "python",
   "name": "python3"
  },
  "language_info": {
   "codemirror_mode": {
    "name": "ipython",
    "version": 3
   },
   "file_extension": ".py",
   "mimetype": "text/x-python",
   "name": "python",
   "nbconvert_exporter": "python",
   "pygments_lexer": "ipython3",
   "version": "3.6.11"
  }
 },
 "nbformat": 4,
 "nbformat_minor": 5
}
