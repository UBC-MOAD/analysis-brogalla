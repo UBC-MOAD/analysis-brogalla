{
 "cells": [
  {
   "cell_type": "markdown",
   "metadata": {},
   "source": [
    "## Selecting coordinate based on latitude and longitude"
   ]
  },
  {
   "cell_type": "code",
   "execution_count": 2,
   "metadata": {},
   "outputs": [],
   "source": [
    "import matplotlib.pyplot as plt\n",
    "import numpy as np\n",
    "import netCDF4 as nc\n",
    "import datetime\n",
    "import scipy.io\n",
    "\n",
    "%matplotlib inline"
   ]
  },
  {
   "cell_type": "markdown",
   "metadata": {},
   "source": [
    "Load tidal speed matrix:"
   ]
  },
  {
   "cell_type": "code",
   "execution_count": 3,
   "metadata": {},
   "outputs": [],
   "source": [
    "mat         = scipy.io.loadmat('/ocean/brogalla/GEOTRACES/data/mean_tide_speed.mat')\n",
    "tidal_speed = mat['mean_speed']\n",
    "\n",
    "ts_mesh     = nc.Dataset('/ocean/brogalla/GEOTRACES/data/hsquare.nc')\n",
    "ts_lons     = np.array(ts_mesh.variables['nav_lon'])\n",
    "ts_lats     = np.array(ts_mesh.variables['nav_lat'])"
   ]
  },
  {
   "cell_type": "markdown",
   "metadata": {},
   "source": [
    "Functions:"
   ]
  },
  {
   "cell_type": "code",
   "execution_count": 32,
   "metadata": {},
   "outputs": [],
   "source": [
    "def find_closest_model_point(lon, lat, model_lons, model_lats, grid='NEMO',\n",
    "                                tols={'NEMO': {'tol_lon': 0.104, 'tol_lat': 0.0388},\n",
    "                                    'GEM2.5': {'tol_lon': 0.016, 'tol_lat': 0.012}}):\n",
    "\n",
    "    # Search for a grid point with longitude and latitude within\n",
    "    # tolerance of measured location\n",
    "    j_list, i_list = np.where(\n",
    "        np.logical_and(\n",
    "            (np.logical_and(model_lons > lon - tols[grid]['tol_lon'],\n",
    "                            model_lons < lon + tols[grid]['tol_lon'])),\n",
    "            (np.logical_and(model_lats > lat - tols[grid]['tol_lat'],\n",
    "                            model_lats < lat + tols[grid]['tol_lat']))\n",
    "        )\n",
    "    )\n",
    "\n",
    "    if len(j_list) == 0:\n",
    "        # If including points outside of domain:\n",
    "        return np.nan, np.nan\n",
    "    try:\n",
    "        j, i = map(np.asscalar, (j_list, i_list))\n",
    "    except ValueError:\n",
    "        # Several points within tolerance\n",
    "        # Calculate distances for all and choose the closest\n",
    "        lons = [model_lons[j_list[n], i_list[n]] for n in range(len(j_list))]\n",
    "        lats = [model_lats[j_list[n], i_list[n]] for n in range(len(j_list))]\n",
    "        dists = haversine(\n",
    "            np.array([lon] * i_list.size), np.array([lat] * j_list.size),\n",
    "            lons, lats)\n",
    "        n = dists.argmin()\n",
    "        j, i = map(np.asscalar, (j_list[n], i_list[n]))\n",
    "\n",
    "    return j, i\n",
    "\n",
    "def haversine(lon1, lat1, lon2, lat2):\n",
    "    \"\"\"Calculate the great-circle distance in kilometers between two points\n",
    "    on a sphere from their longitudes and latitudes.\n",
    "\n",
    "    \"\"\"\n",
    "    lon1, lat1, lon2, lat2 = map(np.radians, [lon1, lat1, lon2, lat2])\n",
    "    dlon = lon2 - lon1\n",
    "    dlat = lat2 - lat1\n",
    "    a = np.sin(dlat/2)**2 + np.cos(lat1) * np.cos(lat2) * np.sin(dlon/2)**2\n",
    "    c = 2 * np.arcsin(np.sqrt(a))\n",
    "    km = 6367 * c\n",
    "    return km"
   ]
  },
  {
   "cell_type": "markdown",
   "metadata": {},
   "source": [
    "#### Example: \n",
    "\n",
    "Find nearest model point to let's say (72.00N, -67.00W)"
   ]
  },
  {
   "cell_type": "code",
   "execution_count": 33,
   "metadata": {},
   "outputs": [],
   "source": [
    "stn_lon , stn_lat = -67.00, 72.00"
   ]
  },
  {
   "cell_type": "markdown",
   "metadata": {},
   "source": [
    "Call functions:"
   ]
  },
  {
   "cell_type": "code",
   "execution_count": 34,
   "metadata": {},
   "outputs": [],
   "source": [
    "stn_indx , stn_indy  = find_closest_model_point(stn_lon, stn_lat, ts_lons, ts_lats)"
   ]
  },
  {
   "cell_type": "code",
   "execution_count": 35,
   "metadata": {},
   "outputs": [
    {
     "name": "stdout",
     "output_type": "stream",
     "text": [
      "(x, y) index of station in tidal speed matrix: (nan, nan)\n"
     ]
    }
   ],
   "source": [
    "print(f'(x, y) index of station in tidal speed matrix: ({stn_indx}, {stn_indy})')"
   ]
  },
  {
   "cell_type": "markdown",
   "metadata": {},
   "source": [
    "Gives \"nan\" if the coordinate is not within the specified tolerance. So, let's increase the tolerance of closeness for the latitude and longitude:"
   ]
  },
  {
   "cell_type": "code",
   "execution_count": 36,
   "metadata": {},
   "outputs": [
    {
     "name": "stderr",
     "output_type": "stream",
     "text": [
      "/home/brogalla/miniconda3/envs/julab/lib/python3.6/site-packages/ipykernel_launcher.py:20: DeprecationWarning: np.asscalar(a) is deprecated since NumPy v1.16, use a.item() instead\n"
     ]
    }
   ],
   "source": [
    "stn_indx , stn_indy  = find_closest_model_point(stn_lon, stn_lat, ts_lons, ts_lats, \\\n",
    "                                                tols={'NEMO': {'tol_lon': 0.1, 'tol_lat': 0.1}})"
   ]
  },
  {
   "cell_type": "code",
   "execution_count": 37,
   "metadata": {},
   "outputs": [
    {
     "name": "stdout",
     "output_type": "stream",
     "text": [
      "(x, y) index of station: (486, 187)\n"
     ]
    }
   ],
   "source": [
    "print(f'(x, y) index of station: ({stn_indx}, {stn_indy})')"
   ]
  },
  {
   "cell_type": "markdown",
   "metadata": {},
   "source": [
    "So, we have found the coordinate of the specified station latitude and longitude that falls within 0.1 degrees latitude and longitude of the tidal speed grid."
   ]
  },
  {
   "cell_type": "code",
   "execution_count": 42,
   "metadata": {},
   "outputs": [
    {
     "name": "stdout",
     "output_type": "stream",
     "text": [
      "Location that we were searching for: (-67.0,72.0)\n",
      "Closest location that we found in array: (-66.93526458740234, 71.91983795166016)\n",
      "The tidal speed associated with this coordinate is: 0.03341489260568193\n"
     ]
    }
   ],
   "source": [
    "print(f'Location that we were searching for: ({stn_lon},{stn_lat})')\n",
    "print(f'Closest location that we found in array: ({ts_lons[stn_indx,stn_indy]}, {ts_lats[stn_indx,stn_indy]})')\n",
    "print(f'The tidal speed associated with this coordinate is: {tidal_speed[stn_indx, stn_indy]}')"
   ]
  }
 ],
 "metadata": {
  "kernelspec": {
   "display_name": "Python 3",
   "language": "python",
   "name": "python3"
  },
  "language_info": {
   "codemirror_mode": {
    "name": "ipython",
    "version": 3
   },
   "file_extension": ".py",
   "mimetype": "text/x-python",
   "name": "python",
   "nbconvert_exporter": "python",
   "pygments_lexer": "ipython3",
   "version": "3.6.11"
  }
 },
 "nbformat": 4,
 "nbformat_minor": 4
}
