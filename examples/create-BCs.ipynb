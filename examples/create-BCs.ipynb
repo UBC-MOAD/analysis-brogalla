{
 "cells": [
  {
   "cell_type": "markdown",
   "metadata": {},
   "source": [
    "## Create monthly boundary condition forcing files based on Temperature and Salinity"
   ]
  },
  {
   "cell_type": "code",
   "execution_count": 1,
   "metadata": {},
   "outputs": [],
   "source": [
    "import netCDF4 as nc\n",
    "import numpy as np\n",
    "import xarray as xr\n",
    "\n",
    "%matplotlib inline"
   ]
  },
  {
   "cell_type": "markdown",
   "metadata": {},
   "source": [
    "#### Parameters"
   ]
  },
  {
   "cell_type": "code",
   "execution_count": 2,
   "metadata": {},
   "outputs": [],
   "source": [
    "# domain dimensions:\n",
    "imin, imax = 1139, 2179\n",
    "jmin, jmax = 159, 799\n",
    "\n",
    "# Rimwidths:\n",
    "rimwidthE  = 10\n",
    "\n",
    "# Boundary start and end coordinates: (i1,i2,j1,j2)\n",
    "bdy_NCB = (1598,2177,788,798) # Northern Canada Basin "
   ]
  },
  {
   "cell_type": "markdown",
   "metadata": {},
   "source": [
    "Stuff to be careful of: \n",
    "- Python indexing starts at 0, Fortran at 1\n",
    "- Python indexing does not include the end digit, Fortran does"
   ]
  },
  {
   "cell_type": "markdown",
   "metadata": {},
   "source": [
    "#### Files"
   ]
  },
  {
   "cell_type": "code",
   "execution_count": 5,
   "metadata": {},
   "outputs": [],
   "source": [
    "# Modified ANHA12 mesh mask file (http://knossos.eas.ualberta.ca/anha/anhatable.php)\n",
    "mesh         = nc.Dataset('/ocean/brogalla/GEOTRACES/data/ANHA12/ANHA12_mask_Pb-20230213.nc')\n",
    "mesh_lon     = np.array(mesh.variables['nav_lon'])\n",
    "mesh_lat     = np.array(mesh.variables['nav_lat'])"
   ]
  },
  {
   "cell_type": "markdown",
   "metadata": {},
   "source": [
    "#### Functions"
   ]
  },
  {
   "cell_type": "code",
   "execution_count": 16,
   "metadata": {},
   "outputs": [],
   "source": [
    "def load_climatology(year, month):        \n",
    "    # load climatology of ANHA12 gridT file:\n",
    "    with xr.open_dataset(f'/data/brogalla/ANHA12/new_averages/gridT_{year}_{month}.nc') as df_gridT:    \n",
    "        return df_gridT['votemper'].values[:,:,:], df_gridT['vosaline'].values[:,:,:]"
   ]
  },
  {
   "cell_type": "code",
   "execution_count": 7,
   "metadata": {},
   "outputs": [],
   "source": [
    "def create_AO_BC(bdy_temp, bdy_sal):\n",
    "    # Pb end-members:\n",
    "    PML_Pb   = 3e-12   # Polar Mixed Layer Pb\n",
    "    ACW_Pb   = 10e-12  # Alaskan Coastal Water Pb\n",
    "    \n",
    "    PML_temp  = 0      # Polar mixed layer temperature\n",
    "    ACW_temp  = 2.5    # ACW temperature\n",
    "    \n",
    "    # Linear interpolate endpoints between PML and ACW:\n",
    "    end_temp = [PML_temp, ACW_temp]\n",
    "    end_dPb = [PML_Pb, ACW_Pb]\n",
    "    dPb_BC  = np.interp(bdy_temp, end_temp, end_dPb)    \n",
    "    \n",
    "    return dPb_BC"
   ]
  },
  {
   "cell_type": "code",
   "execution_count": 17,
   "metadata": {},
   "outputs": [],
   "source": [
    "def flatten_input(var, order):\n",
    "    # Flatten dimensions of the array that you supply based on order of either \"C\" (Python) style or \"F\" (Fortran) style\n",
    "    b = var[0,:,:].flatten(order=order)\n",
    "    for i in range(1,len(var)):\n",
    "        a = var[i,:,:].flatten(order=order)\n",
    "        b = np.vstack((b,a))\n",
    "    return b"
   ]
  },
  {
   "cell_type": "code",
   "execution_count": 18,
   "metadata": {},
   "outputs": [],
   "source": [
    "def reshape_boundary(rimwidth, boundary_dPb, order):\n",
    "    # Function that converts the boundary condition array to the dimensions that Fortran is happy with\n",
    "    \n",
    "    dPb_O = flatten_input(boundary_dPb, order)\n",
    "    \n",
    "    # dimensions: (1 (or time_counter I think), # of depth_levels, 1, boundary_length*rimwidth)\n",
    "    dPb_OBC = np.reshape(dPb_O, (1,50,1,np.max(boundary_dPb.shape)*rimwidth))\n",
    "\n",
    "    return dPb_OBC"
   ]
  },
  {
   "cell_type": "code",
   "execution_count": 19,
   "metadata": {},
   "outputs": [],
   "source": [
    "def save_file(year, month):    \n",
    "    file_write = xr.Dataset(\n",
    "        {'dPb_E' : ((\"time_counter\",\"deptht\",\"y\",\"x1\"), dPb_east_BC)}, \n",
    "        coords = {\n",
    "            \"time_counter\": np.zeros(1),\n",
    "            \"deptht\": np.zeros(50),\n",
    "            \"y\": np.zeros(1),\n",
    "            \"x1\": np.zeros(np.max(dPb_east_BC.shape))\n",
    "        },\n",
    "    )\n",
    "    file_write.to_netcdf(f'/ocean/brogalla/GEOTRACES/data/Pb-tuning-202303/Labrador_Sea/Pb_OBC_y{year}m{month:02}.nc', \\\n",
    "                         unlimited_dims='time_counter')\n",
    "    \n",
    "    return"
   ]
  },
  {
   "cell_type": "markdown",
   "metadata": {},
   "source": [
    "#### Calculate"
   ]
  },
  {
   "cell_type": "code",
   "execution_count": 22,
   "metadata": {},
   "outputs": [
    {
     "name": "stdout",
     "output_type": "stream",
     "text": [
      "2002\n",
      "East BC # of NaNs:  0\n"
     ]
    }
   ],
   "source": [
    "for year in range(2002,2003):\n",
    "\n",
    "    print(year)\n",
    "    nCB_T = np.zeros((12,50,bdy_NCB[1]-bdy_NCB[0],bdy_NCB[3]-bdy_NCB[2])); \n",
    "    nCB_S = np.zeros((12,50,bdy_NCB[1]-bdy_NCB[0],bdy_NCB[3]-bdy_NCB[2]));\n",
    "\n",
    "    for month in range(1,13):\n",
    "        temp, sal  = load_climatology(year, f'{month:02}')\n",
    "\n",
    "        nCB_T[month-1,:,:,:] = temp[:,bdy_NCB[0]:bdy_NCB[1],bdy_NCB[2]:bdy_NCB[3]]\n",
    "        nCB_S[month-1,:,:,:] = sal[:,bdy_NCB[0]:bdy_NCB[1],bdy_NCB[2]:bdy_NCB[3]]\n",
    "    \n",
    "    # Create boundary conditions:\n",
    "    dPb_nCB  = np.zeros((12,50,bdy_NCB[1]-bdy_NCB[0],bdy_NCB[3]-bdy_NCB[2]))\n",
    "    for month in range(1,13):\n",
    "        dPb_nCB[month-1,:,:,:] = create_AO_BC(nCB_T[month-1], nCB_S[month-1])\n",
    "    \n",
    "    # fill any NaNs with a reasonable constant value \n",
    "    dPb_nCB[np.isnan(dPb_nCB)] = 3e-12\n",
    "    \n",
    "    # Flip the order of the layers (necessary for my use case, but depends a bit on what you're doing)\n",
    "    dPb_nCBr = np.flip(dPb_nCB, axis=3)\n",
    "    \n",
    "    for month in range(1,13):\n",
    "        dPb_east_BC  = reshape_boundary(rimwidthE, dPb_nCBr[month-1], 'F')\n",
    "\n",
    "#         save_file(year, month)\n",
    "        \n",
    "    # Check that there are no NaN values in the files:\n",
    "    print('East BC # of NaNs: ', sum(dPb_east_BC[np.isnan(dPb_east_BC)]))"
   ]
  },
  {
   "cell_type": "code",
   "execution_count": 23,
   "metadata": {},
   "outputs": [
    {
     "name": "stdout",
     "output_type": "stream",
     "text": [
      "(50, 579, 10)\n",
      "(1, 50, 1, 5790)\n"
     ]
    }
   ],
   "source": [
    "# shape of underlying temperature and salinity variables:\n",
    "# (depth dimension, i, j)\n",
    "print(nCB_T[0,:,:,:].shape)\n",
    "\n",
    "# shape in the boundary condition file:\n",
    "# Flattened array(1, depth dimension, 1, rimwidth*boundary length) \n",
    "print(dPb_east_BC.shape)"
   ]
  },
  {
   "cell_type": "code",
   "execution_count": null,
   "metadata": {},
   "outputs": [],
   "source": []
  }
 ],
 "metadata": {
  "kernelspec": {
   "display_name": "Python 3",
   "language": "python",
   "name": "python3"
  },
  "language_info": {
   "codemirror_mode": {
    "name": "ipython",
    "version": 3
   },
   "file_extension": ".py",
   "mimetype": "text/x-python",
   "name": "python",
   "nbconvert_exporter": "python",
   "pygments_lexer": "ipython3",
   "version": "3.7.3"
  }
 },
 "nbformat": 4,
 "nbformat_minor": 4
}
