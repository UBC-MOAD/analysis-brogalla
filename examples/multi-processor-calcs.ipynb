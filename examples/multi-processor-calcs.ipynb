{
 "cells": [
  {
   "cell_type": "markdown",
   "metadata": {},
   "source": [
    "### Example for how to use joblib Parallel to speed up calculations by running them on multiple processors"
   ]
  },
  {
   "cell_type": "code",
   "execution_count": 8,
   "metadata": {},
   "outputs": [],
   "source": [
    "import numpy as np\n",
    "import netCDF4 as nc\n",
    "import time\n",
    "\n",
    "# Library for running on multiple cores:\n",
    "from joblib import Parallel"
   ]
  },
  {
   "cell_type": "markdown",
   "metadata": {},
   "source": [
    "The main calculation for this example:"
   ]
  },
  {
   "cell_type": "code",
   "execution_count": 3,
   "metadata": {},
   "outputs": [],
   "source": [
    "def main_calc(filenameU):\n",
    "    # Load file\n",
    "    folder  = '/data/brogalla/ANHA12/'\n",
    "    file_u  = nc.Dataset(folder + filenameU)\n",
    "    u_vel   = np.array(file_u.variables['vozocrtx'])\n",
    "\n",
    "    # Whatever larger computation I want to do (I usually end up calling another function)\n",
    "    calc = np.multiply(u_vel, u_vel)\n",
    "\n",
    "    return calc"
   ]
  },
  {
   "cell_type": "code",
   "execution_count": 13,
   "metadata": {},
   "outputs": [],
   "source": [
    "# Files I want to loop over\n",
    "gridU_files=['ANHA12-EXH006_y2015m01d05_gridU.nc', 'ANHA12-EXH006_y2015m01d10_gridU.nc', \\\n",
    "            'ANHA12-EXH006_y2015m01d15_gridU.nc', 'ANHA12-EXH006_y2015m01d20_gridU.nc', \\\n",
    "            'ANHA12-EXH006_y2015m01d25_gridU.nc', 'ANHA12-EXH006_y2015m01d30_gridU.nc', \\\n",
    "            'ANHA12-EXH006_y2015m02d04_gridU.nc', 'ANHA12-EXH006_y2015m02d09_gridU.nc']"
   ]
  },
  {
   "cell_type": "markdown",
   "metadata": {},
   "source": [
    "Time the calculation without threading:"
   ]
  },
  {
   "cell_type": "code",
   "execution_count": 14,
   "metadata": {},
   "outputs": [
    {
     "name": "stdout",
     "output_type": "stream",
     "text": [
      "Calculation took:  42.54135608673096\n"
     ]
    }
   ],
   "source": [
    "start = time.time()\n",
    "\n",
    "for fileU in gridU_files:\n",
    "    calc = main_calc(fileU)\n",
    "    \n",
    "end = time.time()\n",
    "print('Calculation took: ', end - start)"
   ]
  },
  {
   "cell_type": "code",
   "execution_count": 15,
   "metadata": {},
   "outputs": [],
   "source": [
    "# Define joblib solver such that it passes a file to the main calculation and returns what you want\n",
    "def joblib_solver(main_calc, fileU):\n",
    "    calc = main_calc(fileU)\n",
    "    return calc\n",
    "\n",
    "# Add items to the list of jobs that need to be calculated\n",
    "# In this case, I want to read in a bunch of files, so each job reads in a file and performs a \n",
    "# calculation on it.\n",
    "\n",
    "joblist=[]\n",
    "for fileU in gridU_files:\n",
    "    positional_args=[main_calc, fileU]\n",
    "    keyword_args={}\n",
    "    joblist.append((joblib_solver,positional_args,keyword_args))"
   ]
  },
  {
   "cell_type": "code",
   "execution_count": 16,
   "metadata": {},
   "outputs": [
    {
     "name": "stdout",
     "output_type": "stream",
     "text": [
      "Calculation took:  29.805630207061768\n"
     ]
    }
   ],
   "source": [
    "start = time.time()\n",
    "\n",
    "# Indicate the number of cores that you want to use (6 in this case)\n",
    "# and then perform the calculations. \n",
    "ncores=8\n",
    "with Parallel(n_jobs=ncores,backend='threading') as parallel:\n",
    "    results = parallel(joblist)\n",
    "\n",
    "    \n",
    "end = time.time()\n",
    "print('Calculation took: ', end - start)"
   ]
  },
  {
   "cell_type": "markdown",
   "metadata": {},
   "source": [
    "If your calculation function returns multiple variables, it is easiest to zip the results at the end:"
   ]
  },
  {
   "cell_type": "code",
   "execution_count": 40,
   "metadata": {},
   "outputs": [],
   "source": [
    "results_zip = zip(*results)"
   ]
  },
  {
   "cell_type": "code",
   "execution_count": null,
   "metadata": {},
   "outputs": [],
   "source": []
  }
 ],
 "metadata": {
  "kernelspec": {
   "display_name": "Python 3",
   "language": "python",
   "name": "python3"
  },
  "language_info": {
   "codemirror_mode": {
    "name": "ipython",
    "version": 3
   },
   "file_extension": ".py",
   "mimetype": "text/x-python",
   "name": "python",
   "nbconvert_exporter": "python",
   "pygments_lexer": "ipython3",
   "version": "3.7.3"
  }
 },
 "nbformat": 4,
 "nbformat_minor": 2
}
