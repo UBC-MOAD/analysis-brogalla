{
 "cells": [
  {
   "cell_type": "markdown",
   "metadata": {},
   "source": [
    "### Example for how to use joblib Parallel to speed up calculations by running them on multiple processors"
   ]
  },
  {
   "cell_type": "code",
   "execution_count": 1,
   "metadata": {},
   "outputs": [],
   "source": [
    "%matplotlib inline"
   ]
  },
  {
   "cell_type": "code",
   "execution_count": 13,
   "metadata": {},
   "outputs": [],
   "source": [
    "import numpy as np\n",
    "import netCDF4 as nc\n",
    "import time\n",
    "from datetime import datetime, timedelta\n",
    "import functools\n",
    "import sys\n",
    "import dask\n",
    "import dask.distributed\n",
    "import matplotlib.pyplot as plt\n",
    "import netCDF4\n",
    "import numpy\n",
    "sys.path.append(\"/ocean/brogalla/GEOTRACES/analysis-brogalla/modules\")\n",
    "import evaltools\n",
    "\n",
    "# Library for running on multiple cores:\n",
    "from joblib import Parallel"
   ]
  },
  {
   "cell_type": "code",
   "execution_count": 18,
   "metadata": {},
   "outputs": [],
   "source": [
    "def function_timer(func):\n",
    "    @functools.wraps(func)\n",
    "    def wrapper_function_timer(*args, **kwargs):\n",
    "        t_start = time.time()\n",
    "        return_value = func(*args, **kwargs)\n",
    "        t_end = time.time()\n",
    "        print(f\"{t_end - t_start}s\")\n",
    "        return return_value\n",
    "\n",
    "    return wrapper_function_timer"
   ]
  },
  {
   "cell_type": "markdown",
   "metadata": {},
   "source": [
    "### Elise's calculation:"
   ]
  },
  {
   "cell_type": "code",
   "execution_count": 28,
   "metadata": {},
   "outputs": [],
   "source": [
    "j0, j1, i0, i1 = 230, 470, 0, 200"
   ]
  },
  {
   "cell_type": "code",
   "execution_count": 29,
   "metadata": {},
   "outputs": [],
   "source": [
    "with netCDF4.Dataset(\"/ocean/eolson/MEOPAR/NEMO-forcing/grid/mesh_mask201702_noLPE.nc\") as mesh:\n",
    "    tmask=numpy.copy(mesh.variables['tmask'][:,:,j0:j1,i0:i1])\n",
    "    e3t0=numpy.copy(mesh.variables['e3t_0'][:,:,j0:j1,i0:i1])"
   ]
  },
  {
   "cell_type": "code",
   "execution_count": 32,
   "metadata": {},
   "outputs": [
    {
     "name": "stdout",
     "output_type": "stream",
     "text": [
      "first file starts on  2015-05-31 00:00:00\n"
     ]
    }
   ],
   "source": [
    "flistmuZ = evaltools.index_model_files(\n",
    "    datetime(2015, 6, 1), datetime(2015, 6, 9),\n",
    "    \"/data/eolson/results/MEOPAR/SS36runs/CedarRuns/testmuZ/\",\n",
    "    \"long\", 10, \"ptrc_T\", 1\n",
    ")"
   ]
  },
  {
   "cell_type": "code",
   "execution_count": 20,
   "metadata": {},
   "outputs": [
    {
     "name": "stdout",
     "output_type": "stream",
     "text": [
      "167.27834725379944s\n"
     ]
    }
   ],
   "source": [
    "diatoms_muZ_Int, uZ_muZ_Int = calc_depth_avgs(flistmuZ, tmask, e3t0)"
   ]
  },
  {
   "cell_type": "markdown",
   "metadata": {},
   "source": [
    "My way of calculating it:"
   ]
  },
  {
   "cell_type": "code",
   "execution_count": null,
   "metadata": {},
   "outputs": [],
   "source": [
    "def calc_depth_avgs(flist, tmask, e3t0):\n",
    "    sum1 = numpy.empty((len(flist)*24*10, j1-j0, i1-i0))\n",
    "    sum1uZ = numpy.empty((len(flist)*24*10, j1-j0, i1-i0))\n",
    "    for ind, row in flist.iterrows():\n",
    "        ds = netCDF4.Dataset(row['paths'])\n",
    "        diatoms = ds.variables['diatoms'][:,:,j0:j1,i0:i1]\n",
    "        uZ = ds.variables['microzooplankton'][:,:,j0:j1,i0:i1]\n",
    "        sum1[(24*10*ind):(24*10*(ind+1)),:,:] = numpy.sum(tmask*e3t0*diatoms, 1)\n",
    "        sum1uZ[(24*10*ind):(24*10*(ind+1)),:,:] = numpy.sum(tmask*e3t0*uZ, 1)\n",
    "    diatom_int = numpy.mean(sum1, 0)\n",
    "    microzoo_int = numpy.mean(sum1uZ, 0)\n",
    "    return diatom_int, microzoo_int"
   ]
  },
  {
   "cell_type": "code",
   "execution_count": null,
   "metadata": {},
   "outputs": [],
   "source": [
    "# Define joblib solver such that it passes a file to the main calculation and returns what you want\n",
    "def joblib_solver(main_calc, fileU):\n",
    "    calc = main_calc(fileU)\n",
    "    return calc\n",
    "\n",
    "# Add items to the list of jobs that need to be calculated\n",
    "# In this case, I want to read in a bunch of files, so each job reads in a file and performs a \n",
    "# calculation on it.\n",
    "\n",
    "joblist=[]\n",
    "for fileU in gridU_files:\n",
    "    positional_args=[main_calc, fileU]\n",
    "    keyword_args={}\n",
    "    joblist.append((joblib_solver,positional_args,keyword_args))"
   ]
  },
  {
   "cell_type": "code",
   "execution_count": null,
   "metadata": {},
   "outputs": [],
   "source": [
    "# Indicate the number of cores that you want to use (6 in this case)\n",
    "# and then perform the calculations. \n",
    "ncores=8\n",
    "with Parallel(n_jobs=ncores,backend='threading') as parallel:\n",
    "    results = parallel(joblist)"
   ]
  },
  {
   "cell_type": "code",
   "execution_count": null,
   "metadata": {},
   "outputs": [],
   "source": []
  },
  {
   "cell_type": "code",
   "execution_count": null,
   "metadata": {},
   "outputs": [],
   "source": []
  },
  {
   "cell_type": "markdown",
   "metadata": {},
   "source": [
    "The main calculation for this example:"
   ]
  },
  {
   "cell_type": "code",
   "execution_count": 3,
   "metadata": {},
   "outputs": [],
   "source": [
    "def main_calc(filenameU):\n",
    "    # Load file\n",
    "    folder  = '/data/brogalla/ANHA12/'\n",
    "    file_u  = nc.Dataset(folder + filenameU)\n",
    "    u_vel   = np.array(file_u.variables['vozocrtx'])\n",
    "\n",
    "    # Whatever larger computation I want to do (I usually end up calling another function)\n",
    "    calc = np.multiply(u_vel, u_vel)\n",
    "\n",
    "    return calc"
   ]
  },
  {
   "cell_type": "code",
   "execution_count": 13,
   "metadata": {},
   "outputs": [],
   "source": [
    "# Files I want to loop over\n",
    "gridU_files=['ANHA12-EXH006_y2015m01d05_gridU.nc', 'ANHA12-EXH006_y2015m01d10_gridU.nc', \\\n",
    "            'ANHA12-EXH006_y2015m01d15_gridU.nc', 'ANHA12-EXH006_y2015m01d20_gridU.nc', \\\n",
    "            'ANHA12-EXH006_y2015m01d25_gridU.nc', 'ANHA12-EXH006_y2015m01d30_gridU.nc', \\\n",
    "            'ANHA12-EXH006_y2015m02d04_gridU.nc', 'ANHA12-EXH006_y2015m02d09_gridU.nc']"
   ]
  },
  {
   "cell_type": "markdown",
   "metadata": {},
   "source": [
    "Time the calculation without threading:"
   ]
  },
  {
   "cell_type": "code",
   "execution_count": 14,
   "metadata": {},
   "outputs": [
    {
     "name": "stdout",
     "output_type": "stream",
     "text": [
      "Calculation took:  42.54135608673096\n"
     ]
    }
   ],
   "source": [
    "start = time.time()\n",
    "\n",
    "for fileU in gridU_files:\n",
    "    calc = main_calc(fileU)\n",
    "    \n",
    "end = time.time()\n",
    "print('Calculation took: ', end - start)"
   ]
  },
  {
   "cell_type": "code",
   "execution_count": 15,
   "metadata": {},
   "outputs": [],
   "source": [
    "# Define joblib solver such that it passes a file to the main calculation and returns what you want\n",
    "def joblib_solver(main_calc, fileU):\n",
    "    calc = main_calc(fileU)\n",
    "    return calc\n",
    "\n",
    "# Add items to the list of jobs that need to be calculated\n",
    "# In this case, I want to read in a bunch of files, so each job reads in a file and performs a \n",
    "# calculation on it.\n",
    "\n",
    "joblist=[]\n",
    "for fileU in gridU_files:\n",
    "    positional_args=[main_calc, fileU]\n",
    "    keyword_args={}\n",
    "    joblist.append((joblib_solver,positional_args,keyword_args))"
   ]
  },
  {
   "cell_type": "code",
   "execution_count": 16,
   "metadata": {},
   "outputs": [
    {
     "name": "stdout",
     "output_type": "stream",
     "text": [
      "Calculation took:  29.805630207061768\n"
     ]
    }
   ],
   "source": [
    "start = time.time()\n",
    "\n",
    "# Indicate the number of cores that you want to use (6 in this case)\n",
    "# and then perform the calculations. \n",
    "ncores=8\n",
    "with Parallel(n_jobs=ncores,backend='threading') as parallel:\n",
    "    results = parallel(joblist)\n",
    "\n",
    "    \n",
    "end = time.time()\n",
    "print('Calculation took: ', end - start)"
   ]
  },
  {
   "cell_type": "markdown",
   "metadata": {},
   "source": [
    "If your calculation function returns multiple variables, it is easiest to zip the results at the end:"
   ]
  },
  {
   "cell_type": "code",
   "execution_count": 40,
   "metadata": {},
   "outputs": [],
   "source": [
    "results_zip = zip(*results)"
   ]
  },
  {
   "cell_type": "code",
   "execution_count": null,
   "metadata": {},
   "outputs": [],
   "source": []
  }
 ],
 "metadata": {
  "kernelspec": {
   "display_name": "Python 3",
   "language": "python",
   "name": "python3"
  },
  "language_info": {
   "codemirror_mode": {
    "name": "ipython",
    "version": 3
   },
   "file_extension": ".py",
   "mimetype": "text/x-python",
   "name": "python",
   "nbconvert_exporter": "python",
   "pygments_lexer": "ipython3",
   "version": "3.7.3"
  }
 },
 "nbformat": 4,
 "nbformat_minor": 2
}
