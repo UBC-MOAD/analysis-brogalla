{
 "cells": [
  {
   "cell_type": "markdown",
   "metadata": {},
   "source": [
    "# Create boundary conditions for Pb\n",
    "\n",
    "June, 2019"
   ]
  },
  {
   "cell_type": "code",
   "execution_count": 2,
   "metadata": {},
   "outputs": [],
   "source": [
    "import matplotlib.pyplot as plt\n",
    "import netCDF4 as nc\n",
    "import numpy as np\n",
    "import datetime\n",
    "import matplotlib\n",
    "from mpl_toolkits.basemap import Basemap\n",
    "import cmocean\n",
    "import csv\n",
    "import pandas as pd\n",
    "import pickle\n",
    "from matplotlib.patches import Polygon \n",
    "from scipy.signal import savgol_filter\n",
    "import scipy as sc\n",
    "from matplotlib.patches import ConnectionPatch\n",
    "import gsw\n",
    "\n",
    "%matplotlib notebook"
   ]
  },
  {
   "cell_type": "markdown",
   "metadata": {},
   "source": [
    "Load extended domain"
   ]
  },
  {
   "cell_type": "code",
   "execution_count": 3,
   "metadata": {},
   "outputs": [],
   "source": [
    "mesh       = nc.Dataset('/data/brogalla/old/meshmasks/ANHA12_mesh1.nc')\n",
    "mesh_lon   = np.array(mesh.variables['nav_lon'])\n",
    "mesh_lat   = np.array(mesh.variables['nav_lat'])\n",
    "mesh_bathy = np.array(mesh.variables['tmask'][0,:,:,:])\n",
    "\n",
    "bathy_masked = np.ma.masked_where((mesh_bathy > 0.1), mesh_bathy)\n",
    "ocean_masked = np.ma.masked_where((mesh_bathy < 0.1), mesh_bathy)"
   ]
  },
  {
   "cell_type": "code",
   "execution_count": 4,
   "metadata": {},
   "outputs": [],
   "source": [
    "m      = nc.Dataset('/data/brogalla/run_storage/spin-up0-low-case/ANHA12_EXH006_2002_monthly.nc', 'r')\n",
    "mdepth = np.array(m.variables['deptht'])\n",
    "mlons  = np.array(m.variables['nav_lon'])\n",
    "mlats  = np.array(m.variables['nav_lat'])"
   ]
  },
  {
   "cell_type": "markdown",
   "metadata": {},
   "source": [
    "Load Pb data"
   ]
  },
  {
   "cell_type": "code",
   "execution_count": 5,
   "metadata": {},
   "outputs": [],
   "source": [
    "folder= '/ocean/brogalla/GEOTRACES/data/'\n",
    "\n",
    "CAA = pd.read_csv(folder+'Pb-paper-data.csv')\n",
    "CAA_lons     = CAA['station lon'].dropna().astype('float').values[1:]\n",
    "CAA_lats     = CAA['Station lat'].dropna().astype('float').values[1:]\n",
    "CAA_names    = CAA['Station names'].dropna().astype('str')\n",
    "CAA_Pb_short = [CAA['CB3'].dropna().astype('float').values, \\\n",
    "                CAA['CB4'].dropna().astype('float').values, \\\n",
    "                CAA['LS2'].dropna().astype('float').values, \\\n",
    "                CAA['BB1'].dropna().astype('float').values]\n",
    "\n",
    "dPb_BB1  = CAA['BB1'][np.isfinite(CAA['BB1'])].astype('float')\n",
    "dPb_BB2  = CAA['BB2'][np.isfinite(CAA['BB2'])].astype('float')\n",
    "dPb_BB3  = CAA['BB3'][np.isfinite(CAA['BB3'])].astype('float')\n",
    "dPb_CB1  = CAA['CB1'][np.isfinite(CAA['CB1'])].astype('float')\n",
    "dPb_CB2  = CAA['CB2'][np.isfinite(CAA['CB2'])].astype('float')\n",
    "dPb_CB3  = CAA['CB3'][np.isfinite(CAA['CB3'])].astype('float')\n",
    "dPb_CB4  = CAA['CB4'][np.isfinite(CAA['CB4'])].astype('float')\n",
    "dPb_CAA1 = CAA['CAA1'][np.isfinite(CAA['CAA1'])].astype('float')\n",
    "dPb_CAA2 = CAA['CAA2'][np.isfinite(CAA['CAA2'])].astype('float')\n",
    "dPb_CAA3 = CAA['CAA3'][np.isfinite(CAA['CAA3'])].astype('float')\n",
    "dPb_CAA4 = CAA['CAA4'][np.isfinite(CAA['CAA4'])].astype('float')\n",
    "dPb_CAA5 = CAA['CAA5'][np.isfinite(CAA['CAA5'])].astype('float')\n",
    "dPb_CAA6 = CAA['CAA6'][np.isfinite(CAA['CAA6'])].astype('float')\n",
    "dPb_CAA7 = CAA['CAA7'][np.isfinite(CAA['CAA7'])].astype('float')\n",
    "dPb_CAA8 = CAA['CAA8'][np.isfinite(CAA['CAA8'])].astype('float')\n",
    "dPb_CAA9 = CAA['CAA9'][np.isfinite(CAA['CAA9'])].astype('float')\n",
    "\n",
    "depth_BB1  = CAA['Depth.1'][np.isfinite(CAA['BB1'])].astype('float')\n",
    "depth_BB2  = CAA['Depth.2'][np.isfinite(CAA['BB2'])].astype('float')\n",
    "depth_BB3  = CAA['Depth.3'][np.isfinite(CAA['BB3'])].astype('float')\n",
    "depth_CB1  = CAA['Depth.13'][np.isfinite(CAA['CB1'])].astype('float')\n",
    "depth_CB2  = CAA['Depth.14'][np.isfinite(CAA['CB2'])].astype('float')\n",
    "depth_CB3  = CAA['Depth.15'][np.isfinite(CAA['CB3'])].astype('float')\n",
    "depth_CB4  = CAA['Depth.16'][np.isfinite(CAA['CB4'])].astype('float')\n",
    "depth_CAA1 = CAA['Depth.4'][np.isfinite(CAA['CAA1'])].astype('float')\n",
    "depth_CAA2 = CAA['Depth.5'][np.isfinite(CAA['CAA2'])].astype('float')\n",
    "depth_CAA3 = CAA['Depth.6'][np.isfinite(CAA['CAA3'])].astype('float')\n",
    "depth_CAA4 = CAA['Depth.7'][np.isfinite(CAA['CAA4'])].astype('float')\n",
    "depth_CAA5 = CAA['Depth.8'][np.isfinite(CAA['CAA5'])].astype('float')\n",
    "depth_CAA6 = CAA['Depth.9'][np.isfinite(CAA['CAA6'])].astype('float')\n",
    "depth_CAA7 = CAA['Depth.10'][np.isfinite(CAA['CAA7'])].astype('float')\n",
    "depth_CAA8 = CAA['Depth.11'][np.isfinite(CAA['CAA8'])].astype('float')\n",
    "depth_CAA9 = CAA['Depth.12'][np.isfinite(CAA['CAA9'])].astype('float')"
   ]
  },
  {
   "cell_type": "markdown",
   "metadata": {},
   "source": [
    "GEOTRACES cruise North Atlantic:"
   ]
  },
  {
   "cell_type": "code",
   "execution_count": 6,
   "metadata": {},
   "outputs": [],
   "source": [
    "Pb_NA = nc.Dataset(folder+'GEOTRACES_IDP2017_v2_Discrete_Sample_Data_5024209a_1.nc')\n",
    "\n",
    "NA_lats   = np.array(Pb_NA.variables['latitude'])\n",
    "NA_lons   = np.array(Pb_NA.variables['longitude'])\n",
    "NA_depths = np.array(Pb_NA.variables['var2'])\n",
    "NA_time   = np.array(Pb_NA.variables['date_time'])\n",
    "Pb_NA     = np.array(Pb_NA.variables['var5']) # in pmol/kg"
   ]
  },
  {
   "cell_type": "code",
   "execution_count": 7,
   "metadata": {},
   "outputs": [],
   "source": [
    "condNA           = np.logical_or( Pb_NA > 1e5, Pb_NA < -1e5)\n",
    "masked_Pb_NA     = np.ma.masked_where(condNA, Pb_NA)\n",
    "masked_depths_NA = np.ma.masked_where(condNA, NA_depths)"
   ]
  },
  {
   "cell_type": "markdown",
   "metadata": {},
   "source": [
    "Pb from Arctic Ocean:"
   ]
  },
  {
   "cell_type": "code",
   "execution_count": 8,
   "metadata": {},
   "outputs": [],
   "source": [
    "df = pd.read_csv(folder+'Pb_rob_rember.csv', parse_dates=['DATE']).dropna()\n",
    "AO_depths = np.array(df['CTDDEPTH'])\n",
    "AO_lats   = np.array(df['LATITUDE'])\n",
    "AO_lons   = np.array(df['LONGITUDE'])\n",
    "AO_dPb    = np.array(df['Pb_(pMol)'])"
   ]
  },
  {
   "cell_type": "markdown",
   "metadata": {},
   "source": [
    "Boundary coordinates:"
   ]
  },
  {
   "cell_type": "code",
   "execution_count": 9,
   "metadata": {},
   "outputs": [],
   "source": [
    "imin, imax = 160, 800\n",
    "jmin, jmax = 1100, 2050"
   ]
  },
  {
   "cell_type": "markdown",
   "metadata": {},
   "source": [
    "# Northern boundary"
   ]
  },
  {
   "cell_type": "code",
   "execution_count": 10,
   "metadata": {},
   "outputs": [],
   "source": [
    "ANHA12lat_CB = mesh_lat[jmax,imin+42:imax-1]\n",
    "Pb_CB        = np.empty_like(mesh_bathy[:,jmax,imin+42:imax-1])\n",
    "yy_CB, zz_CB = np.meshgrid(ANHA12lat_CB, mdepth)"
   ]
  },
  {
   "cell_type": "code",
   "execution_count": 11,
   "metadata": {},
   "outputs": [],
   "source": [
    "Pb_CB[zz_CB < 20]                                   = 5 \n",
    "Pb_CB[(zz_CB > 20) & (zz_CB < 50)]                  = 4\n",
    "Pb_CB[(zz_CB < 50) & (yy_CB < 72.3)]                = 3 \n",
    "Pb_CB[(zz_CB > 50) & (zz_CB < 100) & (yy_CB < 74)]  = 12\n",
    "Pb_CB[(zz_CB > 50) & (zz_CB < 100) & (yy_CB > 74)]  = 8  \n",
    "Pb_CB[(zz_CB > 100) & (zz_CB < 400)]                = 6\n",
    "Pb_CB[(zz_CB > 400) & (zz_CB < 800)]                = 5 \n",
    "Pb_CB[(zz_CB > 300) & (zz_CB < 700) & (yy_CB > 75)] = 5\n",
    "Pb_CB[(zz_CB > 250) & (zz_CB < 700) & (yy_CB > 77)] = 4\n",
    "Pb_CB[(zz_CB > 700) & (zz_CB < 800) & (yy_CB > 75)] = 3 \n",
    "Pb_CB[(zz_CB > 800) & (zz_CB < 2000)]               = 4 \n",
    "Pb_CB[zz_CB > 2000]                                 = 3"
   ]
  },
  {
   "cell_type": "code",
   "execution_count": 12,
   "metadata": {},
   "outputs": [],
   "source": [
    "smoothed_Pb_CB1 = np.empty_like(Pb_CB)\n",
    "smoothed_Pb_CB = np.empty_like(Pb_CB)\n",
    "\n",
    "# Smooth vertically (along depth)\n",
    "for i in range(0, len(Pb_CB[0,:])):\n",
    "    smoothed_Pb_CB1[:,i] = savgol_filter(Pb_CB[:,i], 15, 3)\n",
    "\n",
    "# Smooth horizontally along cross section\n",
    "for depth in range(0, len(Pb_CB[:,0])):\n",
    "    smoothed_Pb_CB[depth,:] = savgol_filter(smoothed_Pb_CB1[depth,:], 31, 3)"
   ]
  },
  {
   "cell_type": "markdown",
   "metadata": {},
   "source": [
    "Variable to save to file:"
   ]
  },
  {
   "cell_type": "code",
   "execution_count": 13,
   "metadata": {},
   "outputs": [],
   "source": [
    "rimwidthN          = 10\n",
    "dPb_North          = np.empty((1,50,1,yy_CB.shape[1]*rimwidthN))\n",
    "dPb_North[0,:,0,:] = np.tile(smoothed_Pb_CB, rimwidthN)"
   ]
  },
  {
   "cell_type": "code",
   "execution_count": 14,
   "metadata": {},
   "outputs": [
    {
     "name": "stdout",
     "output_type": "stream",
     "text": [
      "Northern boundary condition shape:  (1, 50, 1, 5970)\n"
     ]
    }
   ],
   "source": [
    "print('Northern boundary condition shape: ', dPb_North.shape)"
   ]
  },
  {
   "cell_type": "markdown",
   "metadata": {},
   "source": [
    "# Eastern boundary"
   ]
  },
  {
   "cell_type": "markdown",
   "metadata": {},
   "source": [
    "Arctic Ocean section:"
   ]
  },
  {
   "cell_type": "code",
   "execution_count": 15,
   "metadata": {},
   "outputs": [],
   "source": [
    "ANHA12lon_AO = mesh_lon[1600:jmax,799]\n",
    "Pb_AO        = np.empty_like(mesh_bathy[:,1600:jmax,799])\n",
    "xx_AO, zz_AO = np.meshgrid(ANHA12lon_AO, mdepth)"
   ]
  },
  {
   "cell_type": "code",
   "execution_count": 16,
   "metadata": {},
   "outputs": [],
   "source": [
    "Pb_AO.fill(3) \n",
    "Pb_AO[zz_AO < 50]                     = 5 \n",
    "Pb_AO[(zz_AO > 50)  & (zz_AO < 100)]  = 8 \n",
    "Pb_AO[(zz_AO > 100) & (zz_AO < 400)]  = 6 \n",
    "Pb_AO[(zz_AO > 400) & (zz_AO < 800)]  = 3 \n",
    "Pb_AO[(zz_AO > 800) & (zz_AO < 2000)] = 4\n",
    "Pb_AO[zz_AO > 2000]                   = 3"
   ]
  },
  {
   "cell_type": "code",
   "execution_count": 17,
   "metadata": {},
   "outputs": [],
   "source": [
    "smoothed_Pb_AO1 = np.empty_like(Pb_AO)\n",
    "smoothed_Pb_AO = np.empty_like(Pb_AO)\n",
    "\n",
    "# Smooth vertically (along depth)\n",
    "for i in range(0, len(Pb_AO[0,:])):\n",
    "    smoothed_Pb_AO1[:,i] = savgol_filter(Pb_AO[:,i], 15, 3)\n",
    "\n",
    "# Smooth horizontally along cross section\n",
    "for depth in range(0, len(Pb_AO[:,0])):\n",
    "    smoothed_Pb_AO[depth,:] = savgol_filter(smoothed_Pb_AO1[depth,:], 31, 3)"
   ]
  },
  {
   "cell_type": "markdown",
   "metadata": {},
   "source": [
    "Greenland section:"
   ]
  },
  {
   "cell_type": "code",
   "execution_count": 18,
   "metadata": {},
   "outputs": [],
   "source": [
    "ANHA12lon_GR = mesh_lon[jmin:1290,799]\n",
    "Pb_GR        = np.empty_like(mesh_bathy[:,jmin:1290,799])\n",
    "yy_GR, zz_GR = np.meshgrid(ANHA12lon_GR, mdepth)"
   ]
  },
  {
   "cell_type": "code",
   "execution_count": 19,
   "metadata": {},
   "outputs": [],
   "source": [
    "Pb_GR.fill(20) \n",
    "Pb_GR[zz_GR < 50]                                                        = 16 \n",
    "Pb_GR[(zz_GR > 350) & (zz_GR < 1500) & (yy_GR < 63.5) & (yy_GR > 61.5)]  = 23 \n",
    "Pb_GR[(zz_GR > 350) & (zz_GR < 1500) & (yy_GR < 64) & (yy_GR < 61)]      = 18 \n",
    "Pb_GR[zz_GR > 2000]                                                      = 10"
   ]
  },
  {
   "cell_type": "code",
   "execution_count": 20,
   "metadata": {},
   "outputs": [],
   "source": [
    "smoothed_Pb_GR1 = np.empty_like(Pb_GR)\n",
    "smoothed_Pb_GR = np.empty_like(Pb_GR)\n",
    "\n",
    "# Smooth vertically (along depth)\n",
    "for i in range(0, len(Pb_GR[0,:])):\n",
    "    smoothed_Pb_GR1[:,i] = savgol_filter(Pb_GR[:,i], 15, 3)\n",
    "\n",
    "# Smooth horizontally along cross section\n",
    "for depth in range(0, len(Pb_GR[:,0])):\n",
    "    smoothed_Pb_GR[depth,:] = savgol_filter(smoothed_Pb_GR1[depth,:], 31, 3)"
   ]
  },
  {
   "cell_type": "code",
   "execution_count": 21,
   "metadata": {},
   "outputs": [],
   "source": [
    "filtered_Pb_GR = sc.ndimage.filters.gaussian_filter(smoothed_Pb_GR, 1.8, order=0, mode='wrap')"
   ]
  },
  {
   "cell_type": "markdown",
   "metadata": {},
   "source": [
    "Combined boundary condition:"
   ]
  },
  {
   "cell_type": "code",
   "execution_count": 22,
   "metadata": {},
   "outputs": [],
   "source": [
    "filtered_Pb_E = np.empty_like(mesh_bathy[:,jmin+2:jmax-1,799])\n",
    "filtered_Pb_E.fill(3) \n",
    "filtered_Pb_E[:,(1600-jmin-4):-1] = smoothed_Pb_AO\n",
    "filtered_Pb_E[:,0:(1290-jmin)]    = filtered_Pb_GR"
   ]
  },
  {
   "cell_type": "code",
   "execution_count": 23,
   "metadata": {},
   "outputs": [],
   "source": [
    "xx_E, zz_E  = np.meshgrid(mesh_lon[jmin+2:jmax-1,799], mdepth) "
   ]
  },
  {
   "cell_type": "code",
   "execution_count": 24,
   "metadata": {},
   "outputs": [],
   "source": [
    "rimwidthE = 20\n",
    "dPb_East  = np.empty((1,50,1,xx_E.shape[1]*rimwidthE))\n",
    "dPb_East[0,:,0,:]  = np.tile(filtered_Pb_E , rimwidthE) "
   ]
  },
  {
   "cell_type": "code",
   "execution_count": 25,
   "metadata": {},
   "outputs": [
    {
     "name": "stdout",
     "output_type": "stream",
     "text": [
      "Eastern boundary condition shape:  (1, 50, 1, 18940)\n"
     ]
    }
   ],
   "source": [
    "print('Eastern boundary condition shape: ', dPb_East.shape)"
   ]
  },
  {
   "cell_type": "markdown",
   "metadata": {},
   "source": [
    "# Southern boundary"
   ]
  },
  {
   "cell_type": "code",
   "execution_count": 26,
   "metadata": {},
   "outputs": [],
   "source": [
    "ANHA12lon_BB = mesh_lon[jmin,imin+42:imax-1]\n",
    "xx, zz = np.meshgrid(ANHA12lon_BB, mdepth) "
   ]
  },
  {
   "cell_type": "code",
   "execution_count": 29,
   "metadata": {},
   "outputs": [],
   "source": [
    "Pb_BB = np.empty_like(mesh_bathy[:,jmin,imin+42:imax-1])\n",
    "\n",
    "Pb_BB.fill(20)\n",
    "Pb_BB[zz < 20]                               = 12\n",
    "Pb_BB[(zz < 20)  & (xx > -50)]               = 16\n",
    "Pb_BB[(zz < 100) & (zz > 20)]                = 18\n",
    "Pb_BB[(zz < 100) & (zz > 20) & (xx < -50)]   = 14 \n",
    "Pb_BB[(zz > 350) & (zz < 1500)]              = 33\n",
    "Pb_BB[(zz > 350) & (zz < 1500) & (xx < -41)] = 23 \n",
    "Pb_BB[(zz > 350) & (zz < 1500) & (xx > -36)] = 23 \n",
    "Pb_BB[zz > 2500]                             = 10"
   ]
  },
  {
   "cell_type": "code",
   "execution_count": 30,
   "metadata": {},
   "outputs": [],
   "source": [
    "smoothed_Pb_BB1 = np.empty_like(Pb_BB)\n",
    "smoothed_Pb_BB = np.empty_like(Pb_BB)\n",
    "\n",
    "# Smooth vertically (along depth)\n",
    "for i in range(0, len(Pb_BB[0,:])):\n",
    "    smoothed_Pb_BB1[:,i] = savgol_filter(Pb_BB[:,i], 21, 3)\n",
    "\n",
    "# Smooth horizontally along cross section\n",
    "for depth in range(0, len(Pb_BB[:,0])):\n",
    "    smoothed_Pb_BB[depth,:] = savgol_filter(smoothed_Pb_BB1[depth,:], 81, 3)"
   ]
  },
  {
   "cell_type": "code",
   "execution_count": 31,
   "metadata": {},
   "outputs": [],
   "source": [
    "filtered_Pb_BB = sc.ndimage.filters.gaussian_filter(smoothed_Pb_BB, 1.8, order=0, mode='wrap')"
   ]
  },
  {
   "cell_type": "code",
   "execution_count": 32,
   "metadata": {},
   "outputs": [],
   "source": [
    "rimwidthS          = 10\n",
    "dPb_South          = np.empty((1,50,1,xx.shape[1]*rimwidthS))\n",
    "dPb_South[0,:,0,:] = np.tile(filtered_Pb_BB, rimwidthS) "
   ]
  },
  {
   "cell_type": "code",
   "execution_count": 33,
   "metadata": {},
   "outputs": [
    {
     "name": "stdout",
     "output_type": "stream",
     "text": [
      "Southern boundary condition shape:  (1, 50, 1, 5970)\n"
     ]
    }
   ],
   "source": [
    "print('Southern boundary condition shape: ', dPb_South.shape)"
   ]
  },
  {
   "cell_type": "markdown",
   "metadata": {},
   "source": [
    "# Write NetCDF BC files:"
   ]
  },
  {
   "cell_type": "code",
   "execution_count": 34,
   "metadata": {},
   "outputs": [
    {
     "name": "stdout",
     "output_type": "stream",
     "text": [
      "0 0 0\n"
     ]
    }
   ],
   "source": [
    "# Check whether any of the values are zero\n",
    "print(np.count_nonzero(dPb_South==0), np.count_nonzero(dPb_East==0), np.count_nonzero(dPb_North==0))"
   ]
  },
  {
   "cell_type": "code",
   "execution_count": 37,
   "metadata": {},
   "outputs": [
    {
     "data": {
      "text/plain": [
       "<class 'netCDF4._netCDF4.Dimension'> (unlimited): name = 'time_counter', size = 0"
      ]
     },
     "execution_count": 37,
     "metadata": {},
     "output_type": "execute_result"
    }
   ],
   "source": [
    "# Setup the new NetCDF file:\n",
    "ncd = nc.Dataset('/ocean/brogalla/GEOTRACES/data/Pb_OBC-20200403.nc', 'w', zlib=True)\n",
    "ncd.createDimension('x1',yy_CB.shape[1]*rimwidthN)\n",
    "ncd.createDimension('x2',xx.shape[1]*rimwidthS)\n",
    "ncd.createDimension('x3',xx_E.shape[1]*rimwidthE)\n",
    "ncd.createDimension('y',1)\n",
    "ncd.createDimension('deptht',50)\n",
    "ncd.createDimension('time_counter',None)"
   ]
  },
  {
   "cell_type": "code",
   "execution_count": 38,
   "metadata": {},
   "outputs": [],
   "source": [
    "#Northern BC: Canada Basin\n",
    "dpb_N = ncd.createVariable('dPb_N', 'float64', ('time_counter','deptht','y','x1'))\n",
    "dpb_N.units       = 'pmol/kg'\n",
    "dpb_N.long_name   = 'Dissolved Pb concentration, northern boundary'  \n",
    "dpb_N.coordinates = 'nav_lon nav_lat deptht time_counter'\n",
    "dpb_N[:,:,:,:]    = dPb_North*10**(-12)\n",
    "\n",
    "#Southern BC: Baffin Bay / Labrador Sea\n",
    "dpb_S = ncd.createVariable('dPb_S', 'float64', ('time_counter','deptht','y','x2'))\n",
    "dpb_S.units       = 'pmol/kg'\n",
    "dpb_S.long_name   = 'Dissolved Pb concentration, southern boundary'  \n",
    "dpb_S.coordinates = 'nav_lon nav_lat deptht time_counter'\n",
    "dpb_S[:,:,:,:]    = dPb_South*10**(-12)\n",
    "\n",
    "#Eastern BC: East Greenland and Arctic Ocean\n",
    "dpb_E = ncd.createVariable('dPb_E', 'float64', ('time_counter','deptht','y','x3'))\n",
    "dpb_E.units       = 'pmol/kg'\n",
    "dpb_E.long_name   = 'Dissolved Pb concentration, eastern boundary'  \n",
    "dpb_E.coordinates = 'nav_lon nav_lat deptht time_counter'\n",
    "dpb_E[:,:,:,:]    = dPb_East*10**(-12)"
   ]
  },
  {
   "cell_type": "code",
   "execution_count": 39,
   "metadata": {},
   "outputs": [],
   "source": [
    "ncd.close()"
   ]
  },
  {
   "cell_type": "code",
   "execution_count": null,
   "metadata": {
    "scrolled": true
   },
   "outputs": [],
   "source": []
  }
 ],
 "metadata": {
  "kernelspec": {
   "display_name": "Python 3",
   "language": "python",
   "name": "python3"
  },
  "language_info": {
   "codemirror_mode": {
    "name": "ipython",
    "version": 3
   },
   "file_extension": ".py",
   "mimetype": "text/x-python",
   "name": "python",
   "nbconvert_exporter": "python",
   "pygments_lexer": "ipython3",
   "version": "3.7.3"
  }
 },
 "nbformat": 4,
 "nbformat_minor": 2
}
