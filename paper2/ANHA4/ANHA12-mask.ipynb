{
 "cells": [
  {
   "cell_type": "markdown",
   "id": "coral-berkeley",
   "metadata": {},
   "source": [
    "# ANHA12 surface mask for remapping of ANHA4 rivers"
   ]
  },
  {
   "cell_type": "code",
   "execution_count": 2,
   "id": "massive-criticism",
   "metadata": {},
   "outputs": [],
   "source": [
    "import numpy as np\n",
    "import xarray as xr\n",
    "import netCDF4 as nc\n",
    "\n",
    "%matplotlib inline"
   ]
  },
  {
   "cell_type": "code",
   "execution_count": 3,
   "id": "variable-university",
   "metadata": {},
   "outputs": [],
   "source": [
    "nc_ANHA12= nc.Dataset('/data/brogalla/ANHA4/RUNOFF/ANHA12_mask.nc')\n",
    "lon_ANHA12 = np.array(nc_ANHA12.variables['nav_lon'])\n",
    "lat_ANHA12 = np.array(nc_ANHA12.variables['nav_lat'])\n",
    "tmask_ANHA12 = np.array(nc_ANHA12.variables['tmask'])[0,0,:,:]"
   ]
  },
  {
   "cell_type": "code",
   "execution_count": 4,
   "id": "brown-portsmouth",
   "metadata": {},
   "outputs": [],
   "source": [
    "def reshape_mask():\n",
    "\n",
    "    # Write interpolated values to file:\n",
    "    file_write = xr.Dataset(\n",
    "        {'nav_lon': ((\"y\",\"x\"), lon_ANHA12),\n",
    "         'nav_lat': ((\"y\",\"x\"), lat_ANHA12),\n",
    "         'tmask': ((\"y\",\"x\"), tmask_ANHA12)\n",
    "        }, \n",
    "        coords = {\n",
    "            \"y\": np.zeros(2400),\n",
    "            \"x\": np.zeros(1632),\n",
    "        },\n",
    "    )\n",
    "    file_write.to_netcdf('/data/brogalla/ANHA4/RUNOFF/ANHA12_mask-for-remap.nc')\n",
    "    return"
   ]
  },
  {
   "cell_type": "code",
   "execution_count": 5,
   "id": "moving-harvard",
   "metadata": {},
   "outputs": [],
   "source": [
    "reshape_mask()"
   ]
  },
  {
   "cell_type": "code",
   "execution_count": null,
   "id": "veterinary-packet",
   "metadata": {},
   "outputs": [],
   "source": []
  }
 ],
 "metadata": {
  "kernelspec": {
   "display_name": "Python 3",
   "language": "python",
   "name": "python3"
  },
  "language_info": {
   "codemirror_mode": {
    "name": "ipython",
    "version": 3
   },
   "file_extension": ".py",
   "mimetype": "text/x-python",
   "name": "python",
   "nbconvert_exporter": "python",
   "pygments_lexer": "ipython3",
   "version": "3.6.11"
  }
 },
 "nbformat": 4,
 "nbformat_minor": 5
}
