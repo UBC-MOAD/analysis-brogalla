{
 "cells": [
  {
   "cell_type": "markdown",
   "metadata": {},
   "source": [
    "# Figure of station profile model evaluation\n"
   ]
  },
  {
   "cell_type": "code",
   "execution_count": 2,
   "metadata": {},
   "outputs": [],
   "source": [
    "import numpy as np\n",
    "import netCDF4 as nc\n",
    "import pandas as pd\n",
    "import pickle\n",
    "import matplotlib.pyplot as plt\n",
    "\n",
    "%matplotlib inline"
   ]
  },
  {
   "cell_type": "code",
   "execution_count": 3,
   "metadata": {},
   "outputs": [],
   "source": [
    "# colours:\n",
    "profile_colors = ['#e54141']"
   ]
  },
  {
   "cell_type": "markdown",
   "metadata": {},
   "source": [
    "#### Load files:"
   ]
  },
  {
   "cell_type": "markdown",
   "metadata": {},
   "source": [
    "Observations"
   ]
  },
  {
   "cell_type": "code",
   "execution_count": 4,
   "metadata": {},
   "outputs": [],
   "source": [
    "# Station information:\n",
    "GEOTRACES = pd.read_csv('/ocean/brogalla/GEOTRACES/data/Pb-paper-data.csv')\n",
    "stn_names = GEOTRACES['Station names'].dropna().astype('str')\n",
    "lons      = GEOTRACES['station lon'].astype('float').dropna().values\n",
    "lats      = GEOTRACES['Station lat'].astype('float').dropna().values"
   ]
  },
  {
   "cell_type": "code",
   "execution_count": 5,
   "metadata": {},
   "outputs": [],
   "source": [
    "# Connect these points with straight line segments:\n",
    "transect_lons = [lons[stn_names=='CB4'], lons[stn_names=='CB3'],lons[stn_names=='CB2'], lons[stn_names=='CB1'], \\\n",
    "                 lons[stn_names=='CAA8'], lons[stn_names=='CAA6'], lons[stn_names=='CAA7'], lons[stn_names=='CAA4'],\\\n",
    "                 lons[stn_names=='CAA5'], lons[stn_names=='CAA1'], lons[stn_names=='CAA2'], lons[stn_names=='CAA3']]\n",
    "transect_lats = [lats[stn_names=='CB4'], lats[stn_names=='CB3'],lats[stn_names=='CB2'], lats[stn_names=='CB1'], \\\n",
    "                 lats[stn_names=='CAA8'], lats[stn_names=='CAA6'], lats[stn_names=='CAA7'], lats[stn_names=='CAA4'],\\\n",
    "                 lats[stn_names=='CAA5'], lats[stn_names=='CAA1'], lats[stn_names=='CAA2'], lats[stn_names=='CAA3']]\n",
    "transect_names = ['CB4','CB3', 'CB2', 'CB1', 'CAA8', 'CAA6', 'CAA7', 'CAA4', 'CAA5', 'CAA1', 'CAA2', 'CAA3']"
   ]
  },
  {
   "cell_type": "code",
   "execution_count": 6,
   "metadata": {},
   "outputs": [],
   "source": [
    "# Create vectors of many points along these segments:\n",
    "transect_vlons = np.array([])\n",
    "transect_vlats = np.array([])\n",
    "for i in range(0,len(transect_lons)-1):\n",
    "    diff_lons = transect_lons[i+1] - transect_lons[i]\n",
    "    diff_lats = transect_lats[i+1] - transect_lats[i]\n",
    "    vector_lons = transect_lons[i] + np.linspace(0,diff_lons,30)\n",
    "    vector_lats = transect_lats[i] + np.linspace(0,diff_lats,30)\n",
    "    transect_vlons = np.append(transect_vlons, vector_lons)\n",
    "    transect_vlats = np.append(transect_vlats, vector_lats)"
   ]
  },
  {
   "cell_type": "code",
   "execution_count": 34,
   "metadata": {},
   "outputs": [
    {
     "data": {
      "text/plain": [
       "5     CAA1\n",
       "6     CAA2\n",
       "7     CAA3\n",
       "8     CAA4\n",
       "9     CAA5\n",
       "10    CAA6\n",
       "11    CAA7\n",
       "12    CAA8\n",
       "13    CAA9\n",
       "14     CB1\n",
       "15     CB2\n",
       "16     CB3\n",
       "17     CB4\n",
       "Name: Station names, dtype: object"
      ]
     },
     "execution_count": 34,
     "metadata": {},
     "output_type": "execute_result"
    }
   ],
   "source": [
    "stn_names[5:]"
   ]
  },
  {
   "cell_type": "markdown",
   "metadata": {},
   "source": [
    "#### Define functions"
   ]
  },
  {
   "cell_type": "code",
   "execution_count": 35,
   "metadata": {},
   "outputs": [],
   "source": [
    "def summary_figure(savefig=False):\n",
    "    \n",
    "    fig, ax, proj1 = pickle.load(open('/ocean/brogalla/GEOTRACES/pickles/rivers-CAA.pickle','rb'))\n",
    "\n",
    "    x_GEOTRACES, y_GEOTRACES = proj1(lons[5:], lats[5:])\n",
    "    x_GEOTRACES[8] = np.nan; y_GEOTRACES[8] = np.nan;\n",
    "    ax.scatter(x_GEOTRACES, y_GEOTRACES, marker='o', s=10, zorder=7, edgecolor='k', linewidth=0.4, color='#e54141')\n",
    "\n",
    "    # Transect: \n",
    "    xt, yt = proj1(transect_vlons, transect_vlats)\n",
    "    proj1.plot(xt, yt, c='#e54141', linewidth=1.3, zorder=2)  \n",
    "\n",
    "    if savefig:\n",
    "        fig.savefig('/ocean/brogalla/GEOTRACES/figures/rivers-paper-202212/S11-summary-figure.jpg', \\\n",
    "                    dpi=300, bbox_inches='tight')\n",
    "        fig.savefig('/ocean/brogalla/GEOTRACES/figures/rivers-paper-202212/S11-summary-figure.svg', \\\n",
    "                    dpi=300, bbox_inches='tight', format='svg')\n",
    "        \n",
    "    return"
   ]
  },
  {
   "cell_type": "markdown",
   "metadata": {},
   "source": [
    "#### Figure:"
   ]
  },
  {
   "cell_type": "code",
   "execution_count": null,
   "metadata": {},
   "outputs": [],
   "source": [
    "summary_figure(savefig=True)"
   ]
  },
  {
   "cell_type": "code",
   "execution_count": null,
   "metadata": {},
   "outputs": [],
   "source": []
  }
 ],
 "metadata": {
  "kernelspec": {
   "display_name": "Python 3",
   "language": "python",
   "name": "python3"
  },
  "language_info": {
   "codemirror_mode": {
    "name": "ipython",
    "version": 3
   },
   "file_extension": ".py",
   "mimetype": "text/x-python",
   "name": "python",
   "nbconvert_exporter": "python",
   "pygments_lexer": "ipython3",
   "version": "3.6.11"
  }
 },
 "nbformat": 4,
 "nbformat_minor": 4
}
