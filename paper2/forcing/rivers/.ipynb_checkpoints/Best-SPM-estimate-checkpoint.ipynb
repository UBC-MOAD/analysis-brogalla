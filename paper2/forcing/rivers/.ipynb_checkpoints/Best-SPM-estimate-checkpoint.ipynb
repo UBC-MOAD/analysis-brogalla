{
 "cells": [
  {
   "cell_type": "markdown",
   "metadata": {},
   "source": [
    "# Estimate amount of SPM that needs to be added"
   ]
  },
  {
   "cell_type": "code",
   "execution_count": 1,
   "metadata": {},
   "outputs": [],
   "source": [
    "import numpy as np\n",
    "import matplotlib.pyplot as plt\n",
    "import netCDF4 as nc\n",
    "import pandas as pd \n",
    "import warnings\n",
    "warnings.filterwarnings('ignore')\n",
    "import sys\n",
    "sys.path.insert(0, '/ocean/brogalla/GEOTRACES/analysis-brogalla/modules')\n",
    "import ariane as ar\n",
    "import seaborn as sns\n",
    "\n",
    "%matplotlib inline"
   ]
  },
  {
   "cell_type": "markdown",
   "metadata": {},
   "source": [
    "###### Parameters:"
   ]
  },
  {
   "cell_type": "code",
   "execution_count": 2,
   "metadata": {},
   "outputs": [],
   "source": [
    "# domain dimensions:\n",
    "imin, imax = 1479, 2179\n",
    "jmin, jmax = 159, 799\n",
    "\n",
    "# results to plot:\n",
    "year    = 2015\n",
    "month   = 8\n",
    "folder_ref = f'/data/brogalla/run_storage/Mn-reference-202110/ANHA12_ref-{year}_20211012/'\n",
    "folder_spm = f'/data/brogalla/run_storage/Mn-spm-202110/ANHA12_spm-{year}_20211026/'\n",
    "\n",
    "# colours:\n",
    "rivers = '#bada55'\n",
    "dirty  = '#64707b'\n",
    "clean  = '#cee7fd'"
   ]
  },
  {
   "cell_type": "markdown",
   "metadata": {},
   "source": [
    "##### Load files:"
   ]
  },
  {
   "cell_type": "markdown",
   "metadata": {},
   "source": [
    "Model results"
   ]
  },
  {
   "cell_type": "code",
   "execution_count": 3,
   "metadata": {},
   "outputs": [],
   "source": [
    "file = f'ANHA12_EXH006_{year}_monthly.nc'\n",
    "\n",
    "Mn_model_ref = nc.Dataset(folder_ref+file)\n",
    "Mn_model_spm = nc.Dataset(folder_spm+file)\n",
    "\n",
    "lon_model    = np.array(Mn_model_ref.variables['nav_lon'])\n",
    "lat_model    = np.array(Mn_model_ref.variables['nav_lat'])\n",
    "depths_model = np.array(Mn_model_ref.variables['deptht'])\n",
    "mn_dis_ref   = np.array(Mn_model_ref.variables['dissolmn'])\n",
    "mn_dis_spm   = np.array(Mn_model_spm.variables['dissolmn'])"
   ]
  },
  {
   "cell_type": "markdown",
   "metadata": {},
   "source": [
    "Meshes"
   ]
  },
  {
   "cell_type": "code",
   "execution_count": null,
   "metadata": {},
   "outputs": [],
   "source": [
    "mesh       = nc.Dataset('/ocean/brogalla/GEOTRACES/data/ANHA12/ANHA12_mesh1.nc')\n",
    "mesh_lon   = np.array(mesh.variables['nav_lon'])\n",
    "mesh_lat   = np.array(mesh.variables['nav_lat'])\n",
    "mesh_bathy = np.array(mesh.variables['hdept'][0])\n",
    "tmask      = np.array(mesh.variables['tmask'][0,:,:,:])\n",
    "Z_masked   = np.ma.masked_where((tmask > 0.1), tmask) "
   ]
  },
  {
   "cell_type": "markdown",
   "metadata": {},
   "source": [
    "Observations"
   ]
  },
  {
   "cell_type": "code",
   "execution_count": null,
   "metadata": {},
   "outputs": [],
   "source": [
    "Mn_data  = pd.read_csv('/ocean/brogalla/GEOTRACES/data/Mn_Integrated_Data_UBC-UVic_4-17-19.csv')\n",
    "\n",
    "dMn_CB1 = Mn_data['CB1'].dropna()[1:].astype('float');\n",
    "dMn_CB2  = Mn_data['CB2'].dropna()[1:].astype('float'); dMn_CB3 = Mn_data['CB3'].dropna()[1:].astype('float');\n",
    "dMn_CB4  = Mn_data['CB4'].dropna()[1:].astype('float'); dMn_CAA1 = Mn_data['CAA1'].dropna()[1:].astype('float');\n",
    "dMn_CAA2 = Mn_data['CAA2'].dropna()[1:].astype('float'); dMn_CAA3 = Mn_data['CAA3'].dropna()[1:].astype('float');\n",
    "dMn_CAA4 = Mn_data['CAA4'].dropna()[1:].astype('float'); dMn_CAA5 = Mn_data['CAA5'].dropna()[1:].astype('float');\n",
    "dMn_CAA6 = Mn_data['CAA6'].dropna()[1:].astype('float'); dMn_CAA7 = Mn_data['CAA7'].dropna()[1:].astype('float');\n",
    "dMn_CAA8 = Mn_data['CAA8'].dropna()[1:].astype('float'); dMn_CAA9 = Mn_data['CAA9'].dropna()[1:].astype('float');\n",
    "\n",
    "std_CB1 = Mn_data['Unnamed: 44'][1:].astype('float').fillna(0)[0:11];\n",
    "std_CB2  = Mn_data['Unnamed: 47'].dropna()[1:].astype('float'); std_CB3 = Mn_data['Unnamed: 50'][1:].astype('float').fillna(0)[0:22];\n",
    "std_CB4  = Mn_data['Unnamed: 53'].dropna()[1:].astype('float'); std_CAA1 = Mn_data['Unnamed: 17'].dropna()[1:].astype('float');\n",
    "std_CAA2 = Mn_data['Unnamed: 20'].dropna()[1:].astype('float'); std_CAA3 = Mn_data['Unnamed: 23'].dropna()[1:].astype('float');\n",
    "std_CAA4 = Mn_data['Unnamed: 26'].dropna()[1:].astype('float'); std_CAA5 = Mn_data['Unnamed: 29'].dropna()[1:].astype('float');\n",
    "std_CAA6 = Mn_data['Unnamed: 32'].dropna()[1:].astype('float'); std_CAA7 = Mn_data['Unnamed: 35'].dropna()[1:].astype('float');\n",
    "std_CAA8 = Mn_data['Unnamed: 38'].dropna()[1:].astype('float'); std_CAA9 = Mn_data['Unnamed: 41'].dropna()[1:].astype('float');\n",
    "\n",
    "depth_CB1 = Mn_data['Depth.14'].dropna();\n",
    "depth_CB2  = Mn_data['Depth.15'].dropna(); depth_CB3 = Mn_data['Depth.16'].dropna();\n",
    "depth_CB4  = Mn_data['Depth.17'].dropna(); depth_CAA1 = Mn_data['Depth.5'].dropna();\n",
    "depth_CAA2 = Mn_data['Depth.6'].dropna(); depth_CAA3 = Mn_data['Depth.7'].dropna();\n",
    "depth_CAA4 = Mn_data['Depth.8'].dropna(); depth_CAA5 = Mn_data['Depth.9'].dropna();\n",
    "depth_CAA6 = Mn_data['Depth.10'].dropna(); depth_CAA7 = Mn_data['Depth.11'].dropna();\n",
    "depth_CAA8 = Mn_data['Depth.12'].dropna(); depth_CAA9 = Mn_data['Depth.13'].dropna();"
   ]
  },
  {
   "cell_type": "code",
   "execution_count": null,
   "metadata": {},
   "outputs": [],
   "source": [
    "Pb_data   = pd.read_csv('/ocean/brogalla/GEOTRACES/data/Pb-paper-data.csv')\n",
    "stn_names = Pb_data['Station names'].dropna().astype('str')\n",
    "lons      = Pb_data['station lon'].astype('float').dropna().values\n",
    "lats      = Pb_data['Station lat'].astype('float').dropna().values"
   ]
  },
  {
   "cell_type": "markdown",
   "metadata": {},
   "source": [
    "##### Define functions"
   ]
  },
  {
   "cell_type": "code",
   "execution_count": null,
   "metadata": {},
   "outputs": [],
   "source": [
    "def find_index_ANHA12_full(transect_lons, transect_lats, ANHA12_lon=mesh_lon, ANHA12_lat=mesh_lat):\n",
    "    # input:   ANHA12_lon, ANHA12_lat       --- 2400x1632 coordinates\n",
    "    #          transect_lons, transect_lats --- list of lat and lon values to include in the transect\n",
    "    # output:  i, j                         --- lists of coordinates associated with these points\n",
    "    \n",
    "    transect_i = np.array([])\n",
    "    transect_j = np.array([])\n",
    "    if isinstance(transect_lons,float):\n",
    "        i, j = ar.find_closest_model_point(transect_lons, transect_lats, ANHA12_lon, ANHA12_lat)\n",
    "        transect_i = i\n",
    "        transect_j = j\n",
    "    else:\n",
    "        for k in range(0,len(transect_lons)):\n",
    "            i, j = ar.find_closest_model_point(transect_lons[k], transect_lats[k], ANHA12_lon, ANHA12_lat)\n",
    "            transect_i = np.append(transect_i, i)\n",
    "            transect_j = np.append(transect_j, j)\n",
    "    \n",
    "    return transect_i, transect_j"
   ]
  },
  {
   "cell_type": "code",
   "execution_count": null,
   "metadata": {},
   "outputs": [],
   "source": [
    "def find_index_ANHA12_sub(transect_lons, transect_lats, ANHA12sub_lon=lon_model, ANHA12sub_lat=lat_model):\n",
    "    # input:   ANHA12sub_lon, ANHA12sub_lat --- 570x600 coordinates\n",
    "    #          transect_lons, transect_lats --- list of lat and lon values to include in the transect\n",
    "    # output:  i, j                         --- lists of coordinates associated with these points\n",
    "    \n",
    "    transect_i = np.array([])\n",
    "    transect_j = np.array([])\n",
    "    \n",
    "    if isinstance(transect_lons,float):\n",
    "        i, j = ar.find_closest_model_point(transect_lons, transect_lats, ANHA12sub_lon, ANHA12sub_lat)\n",
    "        transect_i = i\n",
    "        transect_j = j\n",
    "    else:\n",
    "        for k in range(0,len(transect_lons)):\n",
    "            i, j = ar.find_closest_model_point(transect_lons[k], transect_lats[k], ANHA12sub_lon, ANHA12sub_lat)\n",
    "            transect_i = np.append(transect_i, i)\n",
    "            transect_j = np.append(transect_j, j)\n",
    "    \n",
    "    return transect_i, transect_j"
   ]
  },
  {
   "cell_type": "code",
   "execution_count": null,
   "metadata": {},
   "outputs": [],
   "source": [
    "def calc_scatter(name, dmn_stn, depth_stn):\n",
    "    lon_station = lons[stn_names==name]\n",
    "    lat_station = lats[stn_names==name]\n",
    "    model_stni, model_stnj = find_index_ANHA12_sub(lon_station, lat_station)\n",
    "    model_i, model_j = find_index_ANHA12_full(lon_station, lat_station)\n",
    "    model_i    = int(model_i);    model_j    = int(model_j);\n",
    "    model_stni = int(model_stni); model_stnj = int(model_stnj);\n",
    "    \n",
    "    mn_ij1 = mn_dis_ref[8, 0, :, model_stni, model_stnj]*10**9\n",
    "    mn_ij2 = mn_dis_spm[8, 0, :, model_stni, model_stnj]*10**9\n",
    "    mn_ij1_masked = np.ma.masked_where((tmask[:, model_i, model_j] < 0.1), mn_ij1)\n",
    "    mn_ij2_masked = np.ma.masked_where((tmask[:, model_i, model_j] < 0.1), mn_ij2)\n",
    "    \n",
    "    m1 = []; m2 = [];\n",
    "    for depth_obs in depth_stn[(depth_stn < 50) & (depth_stn > 5)]:\n",
    "        d1 = np.argmin(np.abs(depths_model-depth_obs))\n",
    "        m1.append(mn_ij1_masked[d1])\n",
    "        m2.append(mn_ij2_masked[d1])\n",
    "    \n",
    "    dmn_m1  = m1; dmn_m2  = m2;\n",
    "    dmn_obs = list(dmn_stn[(depth_stn < 50) & (depth_stn > 5)])\n",
    "    \n",
    "    return dmn_m1, dmn_m2, dmn_obs"
   ]
  },
  {
   "cell_type": "markdown",
   "metadata": {},
   "source": [
    "#### Figure:"
   ]
  },
  {
   "cell_type": "code",
   "execution_count": null,
   "metadata": {},
   "outputs": [],
   "source": [
    "dmn_m1CAA1, dmn_m2CAA1, dmn_obCAA1 = calc_scatter('CAA1', dMn_CAA1, depth_CAA1)\n",
    "dmn_m1CAA2, dmn_m2CAA2, dmn_obCAA2 = calc_scatter('CAA2', dMn_CAA2, depth_CAA2)\n",
    "dmn_m1CAA3, dmn_m2CAA3, dmn_obCAA3 = calc_scatter('CAA3', dMn_CAA3, depth_CAA3)\n",
    "dmn_m1CAA4, dmn_m2CAA4, dmn_obCAA4 = calc_scatter('CAA4', dMn_CAA4, depth_CAA4)\n",
    "dmn_m1CAA5, dmn_m2CAA5, dmn_obCAA5 = calc_scatter('CAA5', dMn_CAA5, depth_CAA5)\n",
    "dmn_m1CAA6, dmn_m2CAA6, dmn_obCAA6 = calc_scatter('CAA6', dMn_CAA6, depth_CAA6)\n",
    "dmn_m1CAA7, dmn_m2CAA7, dmn_obCAA7 = calc_scatter('CAA7', dMn_CAA7, depth_CAA7)\n",
    "dmn_m1CAA8, dmn_m2CAA8, dmn_obCAA8 = calc_scatter('CAA8', dMn_CAA8, depth_CAA8)\n",
    "dmn_m1CAA9, dmn_m2CAA9, dmn_obCAA9 = calc_scatter('CAA9', dMn_CAA9, depth_CAA9)\n",
    "\n",
    "dmn_m1CB1, dmn_m2CB1, dmn_obCB1 = calc_scatter('CB1', dMn_CB1, depth_CB1)\n",
    "dmn_m1CB2, dmn_m2CB2, dmn_obCB2 = calc_scatter('CB2', dMn_CB2, depth_CB2)\n",
    "dmn_m1CB3, dmn_m2CB3, dmn_obCB3 = calc_scatter('CB3', dMn_CB3, depth_CB3)\n",
    "dmn_m1CB4, dmn_m2CB4, dmn_obCB4 = calc_scatter('CB4', dMn_CB4, depth_CB4)"
   ]
  },
  {
   "cell_type": "code",
   "execution_count": null,
   "metadata": {},
   "outputs": [],
   "source": [
    "dmn_dirty = dmn_m1CAA1 + dmn_m1CAA2 + dmn_m1CAA3 + dmn_m1CAA4 + dmn_m1CAA5 + \\\n",
    "            dmn_m1CAA6 + dmn_m1CAA7 + dmn_m1CAA8 + dmn_m1CAA9 + dmn_m1CB1 + \\\n",
    "            dmn_m1CB2  + dmn_m1CB3  + dmn_m1CB4\n",
    "dmn_dirty_CB = dmn_m1CB1 + dmn_m1CB2  + dmn_m1CB3  + dmn_m1CB4\n",
    "\n",
    "dmn_spm = dmn_m2CAA1 + dmn_m2CAA2 + dmn_m2CAA3 + dmn_m2CAA4 + dmn_m2CAA5 + \\\n",
    "            dmn_m2CAA6 + dmn_m2CAA7 + dmn_m2CAA8 + dmn_m2CAA9 + dmn_m2CB1 + \\\n",
    "            dmn_m2CB2  + dmn_m2CB3  + dmn_m2CB4\n",
    "dmn_spm_CB = dmn_m2CB1 + dmn_m2CB2  + dmn_m2CB3  + dmn_m2CB4\n",
    "\n",
    "dmn_observ = dmn_obCAA1 + dmn_obCAA2 + dmn_obCAA3 + dmn_obCAA4 + dmn_obCAA5 + \\\n",
    "             dmn_obCAA6 + dmn_obCAA7 + dmn_obCAA8 + dmn_obCAA9 + dmn_obCB1 + \\\n",
    "             dmn_obCB2  + dmn_obCB3  + dmn_obCB4\n",
    "dmn_observ_CB = dmn_obCB1 + dmn_obCB2  + dmn_obCB3  + dmn_obCB4\n",
    "\n",
    "delta_dmn_spm = np.array(dmn_spm) - np.array(dmn_dirty)"
   ]
  },
  {
   "cell_type": "code",
   "execution_count": null,
   "metadata": {},
   "outputs": [],
   "source": [
    "dmn_dirty_continental = dmn_m1CB1  + dmn_m1CAA8 + dmn_m1CAA6 + dmn_m1CAA7 + dmn_m1CAA5 + dmn_m1CAA4\n",
    "dmn_dirty_glacial     = dmn_m1CAA1 + dmn_m1CAA9 + dmn_m1CAA2 + dmn_m1CAA3\n",
    "dmn_spm_continental   = dmn_m2CB1  + dmn_m2CAA8 + dmn_m2CAA6 + dmn_m2CAA7 + dmn_m2CAA5 + dmn_m2CAA4\n",
    "dmn_spm_glacial       = dmn_m2CAA1 + dmn_m2CAA9 + dmn_m2CAA2 + dmn_m2CAA3\n",
    "dmn_obs_continental   = dmn_obCB1  + dmn_obCAA8 + dmn_obCAA6 + dmn_obCAA7 + dmn_obCAA5 + dmn_obCAA4\n",
    "dmn_obs_glacial       = dmn_obCAA1 + dmn_obCAA9 + dmn_obCAA2 + dmn_obCAA3"
   ]
  },
  {
   "cell_type": "markdown",
   "metadata": {},
   "source": [
    "Estimate SPM contribution objectively:"
   ]
  },
  {
   "cell_type": "code",
   "execution_count": null,
   "metadata": {},
   "outputs": [],
   "source": [
    "def susans_willmott_score(Obs, Pred, print_on=False):\n",
    "    N = np.count_nonzero(~np.isnan(Obs))\n",
    "    \n",
    "    numerator   = np.sum([(Pred[i]-Obs[i])**2 for i in range(0,N)])\n",
    "    term1       = np.abs(Pred - np.nanmean(Pred))\n",
    "    term2       = np.abs(Obs - np.nanmean(Obs))\n",
    "    denominator = np.sum([(term1[i]+term2[i])**2 for i in range(0,N)])\n",
    "    deviation   = numerator / denominator\n",
    "    \n",
    "    willmott    = 1 - (1 - deviation)\n",
    "    if print_on:\n",
    "        print(f'Willmott skill score: {willmott:.2f}')\n",
    "        \n",
    "    return willmott"
   ]
  },
  {
   "cell_type": "code",
   "execution_count": null,
   "metadata": {},
   "outputs": [],
   "source": [
    "def bias(Obs, Pred, print_on=False):\n",
    "    N = np.count_nonzero(~np.isnan(Obs))\n",
    "    \n",
    "#     bias_total = np.average([np.abs(Pred[i] - Obs[i]) for i in range(0, N)])\n",
    "    bias_total = np.average(Pred) - np.average(Obs)\n",
    "    \n",
    "    if print_on:\n",
    "        print(f'Bias: {bias_total:.2f}')\n",
    "    \n",
    "    return bias_total"
   ]
  },
  {
   "cell_type": "code",
   "execution_count": null,
   "metadata": {},
   "outputs": [],
   "source": [
    "w_dirty_continental = susans_willmott_score(dmn_obs_continental, dmn_dirty_continental, print_on=True)\n",
    "w_spm_continental   = susans_willmott_score(dmn_obs_continental, dmn_spm_continental, print_on=True)\n",
    "w_dirty_glacial     = susans_willmott_score(dmn_obs_glacial, dmn_dirty_glacial, print_on=True)\n",
    "w_spm_glacial       = susans_willmott_score(dmn_obs_glacial, dmn_spm_glacial, print_on=True)\n",
    "\n",
    "w_spm_all       = susans_willmott_score(dmn_observ, dmn_dirty, print_on=True)"
   ]
  },
  {
   "cell_type": "code",
   "execution_count": null,
   "metadata": {},
   "outputs": [],
   "source": [
    "b_dirty_continental = bias(dmn_obs_continental, dmn_dirty_continental, print_on=True)\n",
    "b_spm_continental   = bias(dmn_obs_continental, dmn_spm_continental, print_on=True)\n",
    "b_dirty_glacial     = bias(dmn_obs_glacial, dmn_dirty_glacial, print_on=True)\n",
    "b_spm_glacial       = bias(dmn_obs_glacial, dmn_spm_glacial, print_on=True)\n",
    "\n",
    "b_spm_all           = bias(dmn_observ, dmn_dirty, print_on=True)"
   ]
  },
  {
   "cell_type": "code",
   "execution_count": null,
   "metadata": {},
   "outputs": [],
   "source": [
    "def predict_spm(dmn_obs, dmn_dirty, delta_dmn, a_values):\n",
    "    \n",
    "    willmotts = []\n",
    "    biases    = []\n",
    "\n",
    "    for a in a_values:\n",
    "        dmn_test = dmn_dirty + a*delta_dmn\n",
    "        w = susans_willmott_score(dmn_obs, dmn_test)\n",
    "        b = bias(dmn_obs, dmn_test)\n",
    "\n",
    "        willmotts.append(w)\n",
    "        biases.append(b)\n",
    "    \n",
    "    return np.array(willmotts), np.array(biases)"
   ]
  },
  {
   "cell_type": "code",
   "execution_count": null,
   "metadata": {},
   "outputs": [],
   "source": [
    "delta_dmn_glacial     = np.array(dmn_spm_glacial)     - np.array(dmn_dirty_glacial)\n",
    "delta_dmn_continental = np.array(dmn_spm_continental) - np.array(dmn_dirty_continental)\n",
    "\n",
    "# multipliers to range over\n",
    "a_values  = np.linspace(-5,10,1000)\n",
    "\n",
    "willmotts_glacial    , bias_glacial     = predict_spm(dmn_obs_glacial, dmn_dirty_glacial, delta_dmn_glacial, a_values)\n",
    "willmotts_continental, bias_continental = predict_spm(dmn_obs_continental, dmn_dirty_continental, delta_dmn_continental, a_values)\n",
    "    \n",
    "ind_opt_glacial     = np.argmin(willmotts_glacial)\n",
    "ind_opt_continental = np.argmin(willmotts_continental)\n",
    "print(f'------- SWillmott based metrics: ----------')\n",
    "print(f'Best fit SPM content multiplier: glacial ({a_values[ind_opt_glacial]:.2f}), continental ({a_values[ind_opt_continental]:.2f})')\n",
    "print(f'Associated Willmott score: glacial (optimal: {willmotts_glacial[ind_opt_glacial]:.2f}, was: {w_dirty_glacial:.2f}), ' + \\\n",
    "      f'continental (optimal: {willmotts_continental[ind_opt_continental]:.2f}, was: {w_dirty_continental:.2f})')\n",
    "\n",
    "bind_opt_glacial     = np.argmin(np.abs(bias_glacial))\n",
    "bind_opt_continental = np.argmin(np.abs(bias_continental))\n",
    "print(f'------- Bias based metrics: ----------')\n",
    "print(f'Best fit SPM content multiplier: glacial ({a_values[bind_opt_glacial]:.2f}), continental ({a_values[bind_opt_continental]:.2f})')\n",
    "print(f'Associated bias: glacial (optimal: {bias_glacial[bind_opt_glacial]:.2f}, was: {b_dirty_glacial:.2f}), ' + \\\n",
    "      f'continental (optimal: {bias_continental[bind_opt_continental]:.2f}, was: {b_dirty_continental:.2f})')"
   ]
  },
  {
   "cell_type": "code",
   "execution_count": null,
   "metadata": {},
   "outputs": [],
   "source": [
    "a_values  = np.linspace(-5,10,1000)\n",
    "\n",
    "willmotts, biases = predict_spm(dmn_observ, dmn_dirty, delta_dmn_spm, a_values)\n",
    "    \n",
    "ind_opt  = np.argmin(willmotts)\n",
    "bind_opt = np.argmin(np.abs(biases))\n",
    "print(f'------- SWillmott based metrics: ----------')\n",
    "print(f'SPM content: optimal ({a_values[ind_opt]:.2f}), was ({1.00})')\n",
    "print(f'Associated Willmott score: optimal ({willmotts[ind_opt]:.2f}), was ({w_spm_all:.2f})')\n",
    "\n",
    "print(f'------- Bias based metrics: ----------')\n",
    "print(f'SPM content: optimal ({a_values[bind_opt]:.2f}), was ({1.00})')\n",
    "print(f'Associated bias: optimal({biases[bind_opt]:.2f}), was ({b_spm_all:.2f})')"
   ]
  },
  {
   "cell_type": "code",
   "execution_count": null,
   "metadata": {},
   "outputs": [],
   "source": [
    "fig, ax = plt.subplots(1,1, figsize=(10,6))\n",
    "\n",
    "ax.plot(a_values, willmotts            , '-' , c='#5e5e5e', linewidth=2.0, markersize=5, label='SWillmott, all rivers')\n",
    "ax.plot(a_values, willmotts_continental, '-' , c='#c38370', linewidth=2.0, markersize=5, label='SWillmott, continental')\n",
    "ax.plot(a_values, willmotts_glacial    , '-' , c='#99cccc', linewidth=2.0, markersize=5, label='SWillmott, glacial')\n",
    "ax.plot(a_values, biases               , '--', c='#5e5e5e', linewidth=2.0, markersize=5, label='Bias, all rivers')\n",
    "ax.plot(a_values, bias_continental     , '--', c='#c38370', linewidth=2.0, markersize=5, label='Bias, continental')\n",
    "ax.plot(a_values, bias_glacial         , '--', c='#99cccc', linewidth=2.0, markersize=5, label='Bias, glacial')\n",
    "# ax.plot([0,0], [-10,10], '--k')\n",
    "plt.axvspan(-1.0, 0.0, facecolor='#a3a3a3', alpha=0.5)\n",
    "plt.axvspan(1.0, 3.0, facecolor='#a3a3a3', alpha=0.5)\n",
    "# ax.plot([1,1], [-10,10], '--k')\n",
    "ax.plot([-10,10], [0,0], '-k')\n",
    "ax.plot(a_values[ind_opt], willmotts[ind_opt], '.', c='#5e5e5e', markersize=30, markeredgecolor='k')\n",
    "ax.plot(a_values[bind_opt], biases[bind_opt], 's', c='#5e5e5e', markersize=15, markeredgecolor='k')\n",
    "ax.plot(a_values[ind_opt_continental], willmotts_continental[ind_opt_continental], '.', c='#c38370', markersize=30, markeredgecolor='k')\n",
    "ax.plot(a_values[bind_opt_continental], bias_continental[bind_opt_continental], 's', c='#c38370', markersize=15, markeredgecolor='k')\n",
    "ax.plot(a_values[ind_opt_glacial], willmotts_glacial[ind_opt_glacial], '.', c='#99cccc', markersize=30, markeredgecolor='k')\n",
    "ax.plot(a_values[bind_opt_glacial], bias_glacial[bind_opt_glacial], 's', c='#99cccc', markersize=15, markeredgecolor='k')\n",
    "\n",
    "ax.set_xlabel('SPM content (1.0 is the upper bound river experiment, 0.0 is the reference)', fontsize=12)\n",
    "ax.set_ylabel('SWillmott (solid line) / Bias (dashed line) ', fontsize=12)\n",
    "ax.set_ylim(-1,1)\n",
    "ax.set_xlim(-1,2.5)\n",
    "ax.legend(fontsize=12)"
   ]
  },
  {
   "cell_type": "code",
   "execution_count": null,
   "metadata": {},
   "outputs": [],
   "source": [
    "fig, ax = plt.subplots(1,1)\n",
    "\n",
    "ax.plot(a_values, willmotts, '.k', markersize=5)\n",
    "ax.plot([0,0], [-10,10], '--k')\n",
    "ax.plot([-10,10], [0,0], '-k')\n",
    "\n",
    "ax.set_xlabel('SPM content relative to previous value used')\n",
    "ax.set_ylabel('Willmott score')\n",
    "ax.set_ylim(0,2)\n",
    "ax.set_xlim(-1,10)"
   ]
  },
  {
   "cell_type": "code",
   "execution_count": null,
   "metadata": {},
   "outputs": [],
   "source": []
  }
 ],
 "metadata": {
  "kernelspec": {
   "display_name": "Python 3",
   "language": "python",
   "name": "python3"
  },
  "language_info": {
   "codemirror_mode": {
    "name": "ipython",
    "version": 3
   },
   "file_extension": ".py",
   "mimetype": "text/x-python",
   "name": "python",
   "nbconvert_exporter": "python",
   "pygments_lexer": "ipython3",
   "version": "3.6.11"
  }
 },
 "nbformat": 4,
 "nbformat_minor": 4
}
