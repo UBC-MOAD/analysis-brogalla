{
 "cells": [
  {
   "cell_type": "code",
   "execution_count": 4,
   "id": "756e4434-5f8a-4254-99ae-d6dbbb966826",
   "metadata": {},
   "outputs": [],
   "source": [
    "import numpy as np\n",
    "import netCDF4 as nc\n",
    "import xarray as xr\n",
    "import matplotlib.pyplot as plt\n",
    "import cmocean\n",
    "\n",
    "%matplotlib inline"
   ]
  },
  {
   "cell_type": "code",
   "execution_count": 5,
   "id": "01a1e8bc-b40b-4e3b-8f49-db74b08b17dd",
   "metadata": {},
   "outputs": [],
   "source": [
    "rclass      = nc.Dataset('/ocean/brogalla/GEOTRACES/data/river_class-202005.nc','r')\n",
    "river_class = np.array(rclass.variables['rclass'])\n",
    "\n",
    "rseas       = nc.Dataset('/ocean/brogalla/GEOTRACES/river_seasonal_m07.nc','r')\n",
    "dmn_rseas   = np.array(rseas.variables['dmn_rivers'])"
   ]
  },
  {
   "cell_type": "code",
   "execution_count": 24,
   "id": "0be76b3b-b4d4-44c9-8ef0-e47d06b71aeb",
   "metadata": {},
   "outputs": [
    {
     "name": "stdout",
     "output_type": "stream",
     "text": [
      "2.2632002583122812e-06\n",
      "4.1124005178971856e-07\n",
      "3.0360002511997664e-08\n"
     ]
    }
   ],
   "source": [
    "print(np.amax(dmn_rseas[river_class==1]))\n",
    "print(np.amax(dmn_rseas[river_class==2]))\n",
    "print(np.amax(dmn_rseas[river_class==3]))"
   ]
  },
  {
   "cell_type": "code",
   "execution_count": 34,
   "id": "f8035cd9-6909-4c5e-9731-bf360dd4bc8f",
   "metadata": {},
   "outputs": [
    {
     "data": {
      "text/plain": [
       "2.2632e-06"
      ]
     },
     "execution_count": 34,
     "metadata": {},
     "output_type": "execute_result"
    }
   ],
   "source": [
    "164e-9*13.8"
   ]
  },
  {
   "cell_type": "code",
   "execution_count": 32,
   "id": "f06edafd-5f26-4abd-ad12-4ed23fa06144",
   "metadata": {},
   "outputs": [
    {
     "data": {
      "text/plain": [
       "2.98e-08"
      ]
     },
     "execution_count": 32,
     "metadata": {},
     "output_type": "execute_result"
    }
   ],
   "source": [
    "29.8e-9"
   ]
  },
  {
   "cell_type": "code",
   "execution_count": 33,
   "id": "d5ebec30-24bc-44ce-ac03-aeed1227eb57",
   "metadata": {},
   "outputs": [
    {
     "data": {
      "text/plain": [
       "2.2e-09"
      ]
     },
     "execution_count": 33,
     "metadata": {},
     "output_type": "execute_result"
    }
   ],
   "source": [
    "2.2e-9"
   ]
  },
  {
   "cell_type": "code",
   "execution_count": 39,
   "id": "74b8bfc0-7428-493c-beed-09c9c62bace2",
   "metadata": {},
   "outputs": [],
   "source": [
    "rbase = nc.Dataset('/ocean/brogalla/GEOTRACES/data/paper2-forcing-files/river-forcing-glacial-202112.nc')\n",
    "dmn_rbase = np.array(rbase.variables['dmn_rivers'])"
   ]
  },
  {
   "cell_type": "code",
   "execution_count": 40,
   "id": "bd3a7dad-7394-4a2e-962e-337a4f557c95",
   "metadata": {},
   "outputs": [
    {
     "name": "stdout",
     "output_type": "stream",
     "text": [
      "2.46e-07\n",
      "2.98e-08\n",
      "2.2e-09\n"
     ]
    }
   ],
   "source": [
    "print(np.amax(dmn_rbase[river_class==1]))\n",
    "print(np.amax(dmn_rbase[river_class==2]))\n",
    "print(np.amax(dmn_rbase[river_class==3]))"
   ]
  },
  {
   "cell_type": "code",
   "execution_count": null,
   "id": "5d4b7c4f-ef2f-457d-aa56-e7cb7212c004",
   "metadata": {},
   "outputs": [],
   "source": []
  }
 ],
 "metadata": {
  "kernelspec": {
   "display_name": "Python 3",
   "language": "python",
   "name": "python3"
  },
  "language_info": {
   "codemirror_mode": {
    "name": "ipython",
    "version": 3
   },
   "file_extension": ".py",
   "mimetype": "text/x-python",
   "name": "python",
   "nbconvert_exporter": "python",
   "pygments_lexer": "ipython3",
   "version": "3.6.11"
  }
 },
 "nbformat": 4,
 "nbformat_minor": 5
}
