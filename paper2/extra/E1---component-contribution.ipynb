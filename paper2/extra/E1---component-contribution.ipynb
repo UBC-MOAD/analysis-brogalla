{
 "cells": [
  {
   "cell_type": "markdown",
   "metadata": {},
   "source": [
    "# Source contributions"
   ]
  },
  {
   "cell_type": "code",
   "execution_count": 1,
   "metadata": {},
   "outputs": [],
   "source": [
    "import pickle\n",
    "import numpy as np\n",
    "import matplotlib\n",
    "import netCDF4 as nc"
   ]
  },
  {
   "cell_type": "markdown",
   "metadata": {},
   "source": [
    "###### Parameters:"
   ]
  },
  {
   "cell_type": "code",
   "execution_count": 2,
   "metadata": {},
   "outputs": [],
   "source": [
    "# domain dimensions:\n",
    "imin, imax = 1480, 2180\n",
    "jmin, jmax = 160, 800\n",
    "isize = imax-imin\n",
    "jsize = jmax-jmin\n",
    "\n",
    "# model result set:\n",
    "folder_ref      = '/data/brogalla/run_storage/Mn-reference-202103/' # Mn-reference experiment\n",
    "folder_cleanice = '/data/brogalla/run_storage/Mn-clean-ice-202103/' # Mn-clean-ice\n",
    "folder_spm      = '/data/brogalla/run_storage/Mn-spm-202103/'       # Mn-upper-bound-rivers"
   ]
  },
  {
   "cell_type": "code",
   "execution_count": 36,
   "metadata": {},
   "outputs": [],
   "source": [
    "years = [2015] # [2002, 2003, 2004, 2005, 2006, 2007, 2008, 2009, 2010, 2011, 2012, 2013, 2014, 2015, 2016, \\\n",
    "#         2017, 2018, 2019]"
   ]
  },
  {
   "cell_type": "markdown",
   "metadata": {},
   "source": [
    "###### Load files:"
   ]
  },
  {
   "cell_type": "code",
   "execution_count": 11,
   "metadata": {},
   "outputs": [],
   "source": [
    "mask      = nc.Dataset('/ocean/brogalla/GEOTRACES/data/ANHA12/ANHA12_mesh1.nc')\n",
    "tmask     = np.array(mask.variables['tmask'])[0,:,imin:imax,jmin:jmax]\n",
    "land_mask = np.ma.masked_where((tmask[:,:,:] > 0.1), tmask[:,:,:]) \n",
    "e1t_base  = np.array(mask.variables['e1t'])[0,imin:imax,jmin:jmax]\n",
    "e2t_base  = np.array(mask.variables['e2t'])[0,imin:imax,jmin:jmax]\n",
    "e3t       = np.array(mask.variables['e3t_0'])[0,:,imin:imax,jmin:jmax]\n",
    "e3t_masked = np.ma.masked_where((tmask[:,:,:] < 0.1), e3t)\n",
    "\n",
    "e1t       = np.tile(e1t_base, (50,1,1))\n",
    "e2t       = np.tile(e2t_base, (50,1,1))\n",
    "volume    = e1t*e2t*e3t\n",
    "area_base = e1t_base*e2t_base\n",
    "volume_masked = np.ma.masked_where((tmask[:,:,:] < 0.1), volume)\n",
    "area_masked   = np.ma.masked_where((tmask[0,:,:] < 0.1), area_base)\n",
    "\n",
    "lons      = np.array(mask.variables['nav_lon'])\n",
    "lats      = np.array(mask.variables['nav_lat'])"
   ]
  },
  {
   "cell_type": "markdown",
   "metadata": {},
   "source": [
    "##### Functions:"
   ]
  },
  {
   "cell_type": "code",
   "execution_count": 12,
   "metadata": {},
   "outputs": [],
   "source": [
    "def load_results(folder_ref, year, experiment):\n",
    "    \n",
    "    months  = ['01', '02', '03', '04', '05', '06', '07', '08', '09', '10', '11', '12']\n",
    "    dmn_riv = np.empty((12,isize,jsize))   ; dmn_sed = np.empty((12,isize,jsize)); \n",
    "    dmn_atm = np.empty((12,isize,jsize))   ; dmn_ice = np.empty((12,isize,jsize));\n",
    "    dmn_sedice = np.empty((12,isize,jsize));\n",
    "    dmn_red = np.empty((12,50,isize,jsize)); dmn_oxi = np.empty((12,50,isize,jsize));\n",
    "    dmn_priv = np.empty((12,isize,jsize))   ;\n",
    "    \n",
    "    for i, month in enumerate(months):\n",
    "        file        = f'ANHA12_EXH006_1m_{year}0101_{year}1231_comp_{year}{month}-{year}{month}.nc'\n",
    "        ref_monthly = nc.Dataset(folder_ref+file)\n",
    "        \n",
    "        dmn_riv[i,:,:]    = np.array(ref_monthly.variables['dmnriv'])[0,:,:]\n",
    "        \n",
    "        if experiment=='spm': # particle origin riverine Mn contribution included\n",
    "            dmn_priv[i,:,:] = np.array(ref_monthly.variables['pmnriv'])[0,:,:]\n",
    "        else: # no particle origin riverine Mn\n",
    "            dmn_priv[i,:,:] = 0\n",
    "        \n",
    "        dmn_sed[i,:,:]    = np.array(ref_monthly.variables['dmnsed'])[0,:,:]\n",
    "        dmn_sedice[i,:,:] = np.array(ref_monthly.variables['dmnsedice'])[0,:,:]\n",
    "        dmn_atm[i,:,:]    = np.array(ref_monthly.variables['dmnatm'])[0,:,:]\n",
    "        dmn_ice[i,:,:]    = np.array(ref_monthly.variables['dmnice'])[0,:,:]\n",
    "        dmn_red[i,:,:,:]  = np.array(ref_monthly.variables['dmnred'])[0,:,:,:]\n",
    "        dmn_oxi[i,:,:,:]  = np.array(ref_monthly.variables['dmnoxi'])[0,:,:,:]\n",
    "    \n",
    "    tmask_surf    = np.empty(dmn_riv.shape)\n",
    "    tmask_surf[:] = tmask[0,:,:]\n",
    "    tmask_full    = np.empty(dmn_red.shape)\n",
    "    tmask_full[:] = tmask\n",
    "    \n",
    "    # Mask points on land:\n",
    "    dmn_mriv    = np.ma.masked_where((tmask_surf < 0.1), dmn_riv); \n",
    "    dmn_mpriv   = np.ma.masked_where((tmask_surf < 0.1), dmn_priv); \n",
    "    dmn_msed    = np.ma.masked_where((tmask_surf < 0.1), dmn_sed)\n",
    "    dmn_msedice = np.ma.masked_where((tmask_surf < 0.1), dmn_sedice)\n",
    "    dmn_matm    = np.ma.masked_where((tmask_surf < 0.1), dmn_atm)\n",
    "    dmn_mice    = np.ma.masked_where((tmask_surf < 0.1), dmn_ice)\n",
    "    dmn_mred    = np.ma.masked_where((tmask_full < 0.1), dmn_red)\n",
    "    dmn_moxi    = np.ma.masked_where((tmask_full < 0.1), dmn_oxi)\n",
    "\n",
    "    return dmn_mriv, dmn_mpriv, dmn_msed, dmn_msedice, dmn_matm, dmn_mice, dmn_mred , dmn_moxi"
   ]
  },
  {
   "cell_type": "code",
   "execution_count": 13,
   "metadata": {},
   "outputs": [],
   "source": [
    "def calculate_contribution(year, mask, experiment='ref'):\n",
    "    # Calculate the contribution of the model components by region:\n",
    "    \n",
    "    if experiment=='spm':\n",
    "        folder_year = folder_spm + f'ref-{year}-spm-202103/'\n",
    "    else:\n",
    "        folder_year = folder_ref + f'ref-{year}-202103/'\n",
    "    \n",
    "    dmn_mriv, dmn_mpriv, dmn_msed, dmn_msedice, dmn_matm, dmn_mice, dmn_mred, dmn_moxi = \\\n",
    "                    load_results(folder_year, year, experiment)\n",
    "    \n",
    "    # Calculate contributions to the upper water column, so mask locations where sediment resuspension is added in the deep.\n",
    "    indexes_bottom = np.tile(index_bottom, (12,1,1))\n",
    "    dmn_msed = np.ma.masked_where(indexes_bottom > 19, dmn_msed)\n",
    " \n",
    "\n",
    "    # moles per second\n",
    "    priv   = np.ma.masked_where(mask==0, dmn_mpriv)   * volume_masked[0,:,:] * 1e3\n",
    "    riv    = np.ma.masked_where(mask==0, dmn_mriv)    * volume_masked[0,:,:] * 1e3\n",
    "    sed    = np.ma.masked_where(mask==0, dmn_msed)    * volume_bottom * 1e3\n",
    "    sedice = np.ma.masked_where(mask==0, dmn_msedice) * volume_masked[0,:,:] * 1e3\n",
    "    atm    = np.ma.masked_where(mask==0, dmn_matm)    * volume_masked[0,:,:] * 1e3\n",
    "    ice    = np.ma.masked_where(mask==0, dmn_mice)    * volume_masked[0,:,:] * 1e3\n",
    "\n",
    "    # May and June contribution to domain: moles / 2 months\n",
    "    atm_year    = np.ma.sum(atm[4:6,:,:], axis=(0,1,2))   *3600*24*(31+30)\n",
    "    riv_year    = np.ma.sum(riv[4:6,:,:], axis=(0,1,2))   *3600*24*(31+30)\n",
    "    priv_year   = np.ma.sum(priv[4:6,:,:], axis=(0,1,2))  *3600*24*(31+30)\n",
    "    sed_year    = np.ma.sum(sed[4:6,:,:], axis=(0,1,2))   *3600*24*(31+30)\n",
    "    sedice_year = np.ma.sum(sedice[4:6,:,:], axis=(0,1,2))*3600*24*(31+30)\n",
    "    ice_year    = np.ma.sum(ice[4:6,:,:], axis=(0,1,2))   *3600*24*(31+30)\n",
    "  \n",
    "    \n",
    "#     # Yearly contribution to domain: moles / year\n",
    "#     atm_year    = np.ma.sum(atm[:,:,:], axis=(0,1,2))   *3600*24*365 / 12\n",
    "#     riv_year    = np.ma.sum(riv[:,:,:], axis=(0,1,2))   *3600*24*365 / 12\n",
    "#     priv_year   = np.ma.sum(priv[:,:,:], axis=(0,1,2))  *3600*24*365 / 12\n",
    "#     sed_year    = np.ma.sum(sed[:,:,:], axis=(0,1,2))   *3600*24*365 / 12\n",
    "#     sedice_year = np.ma.sum(sedice[:,:,:], axis=(0,1,2))*3600*24*365 / 12\n",
    "#     ice_year    = np.ma.sum(ice[:,:,:], axis=(0,1,2))   *3600*24*365 / 12\n",
    "    \n",
    "    # Average yearly contribution over domain: moles / m2 / year\n",
    "    total_area     = np.ma.sum(np.ma.masked_where(mask[0,:,:]==0, area_masked[:,:]))\n",
    "    atmm2_year     =  atm_year    / total_area\n",
    "    rivm2_year     =  riv_year    / total_area\n",
    "    privm2_year    =  priv_year   / total_area\n",
    "    sedm2_year     =  sed_year    / total_area \n",
    "    sedicem2_year  =  sedice_year / total_area\n",
    "    icem2_year     =  ice_year    / total_area                                   \n",
    "    \n",
    "    total_yearly_contribution = np.array([priv_year, riv_year, sed_year, sedice_year, ice_year, atm_year])  # mol/yr\n",
    "    ave_yearly_contribution   = np.array([privm2_year, rivm2_year, sedm2_year, sedicem2_year, icem2_year, \\\n",
    "                                          atmm2_year]) # mol/m2/yr\n",
    "    \n",
    "    return total_yearly_contribution, ave_yearly_contribution"
   ]
  },
  {
   "cell_type": "code",
   "execution_count": 14,
   "metadata": {},
   "outputs": [],
   "source": [
    "def calculate_regional_contributions(mask):\n",
    "    \n",
    "    totals_ref   = np.empty((len(years),6)); totals_spm   = np.empty((len(years),6))\n",
    "    averages_ref = np.empty((len(years),6)); averages_spm = np.empty((len(years),6))\n",
    "\n",
    "    totals_ref[:]   = np.NaN; totals_spm[:]    = np.NaN;\n",
    "    averages_ref[:] = np.NaN; averages_spm[:]  = np.NaN;\n",
    "\n",
    "    for i, year in enumerate(years):\n",
    "        total_ref_year, ave_ref_year           = calculate_contribution(year, mask, experiment='ref')\n",
    "        total_spm_year, ave_spm_year           = calculate_contribution(year, mask, experiment='spm')\n",
    "\n",
    "        totals_ref[i,:]        = total_ref_year \n",
    "        totals_spm[i,:]        = total_spm_year \n",
    "        averages_ref[i,:]      = ave_ref_year  \n",
    "        averages_spm[i,:]      = ave_spm_year \n",
    "    \n",
    "    return totals_ref, totals_spm, averages_ref, averages_spm"
   ]
  },
  {
   "cell_type": "code",
   "execution_count": 15,
   "metadata": {},
   "outputs": [],
   "source": [
    "def reshape_arrays(array_in):\n",
    "    fixed      = np.zeros((len(years),5))\n",
    "    \n",
    "    for i in range(0,5):\n",
    "        if i==0: # Sum the particulate and dissolved river contributions\n",
    "            fixed[:,i] = array_in[:,i]+array_in[:,i+1]\n",
    "        else:\n",
    "            fixed[:,i] = array_in[:,i+1]\n",
    "    \n",
    "    return fixed"
   ]
  },
  {
   "cell_type": "code",
   "execution_count": 16,
   "metadata": {},
   "outputs": [],
   "source": [
    "def pipeline(totals_input_ref, totals_input_spm, averages_input_ref, averages_input_spm):\n",
    "    \n",
    "    regions = ['CB', 'CAA', 'wCAA', 'eCAA']\n",
    "    \n",
    "    totals_fixed_ref = totals_input_ref.copy(); averages_fixed_ref = averages_input_ref.copy();\n",
    "    totals_fixed_spm = totals_input_spm.copy(); averages_fixed_spm = averages_input_spm.copy();\n",
    "    \n",
    "    # Reshape arrays so that particulate and dissolved river contributions are combined into one.\n",
    "    for region in regions:\n",
    "\n",
    "        totals_fixed_ref[region]   = reshape_arrays(totals_input_ref[region])\n",
    "        totals_fixed_spm[region]   = reshape_arrays(totals_input_spm[region])\n",
    "        averages_fixed_ref[region] = reshape_arrays(averages_input_ref[region])\n",
    "        averages_fixed_spm[region] = reshape_arrays(averages_input_spm[region])\n",
    "    \n",
    "    return totals_fixed_ref, totals_fixed_spm, averages_fixed_ref, averages_fixed_spm"
   ]
  },
  {
   "cell_type": "code",
   "execution_count": 17,
   "metadata": {},
   "outputs": [],
   "source": [
    "def print_interannual_averages(totals_ref, totals_spm, averages_ref, averages_spm, location='Full'):\n",
    "\n",
    "    print('Interannual average values in ' + location)\n",
    "    print('----------------------------------------------------------------')\n",
    "    total_ref_annual = np.sum(totals_ref[location], axis=1)\n",
    "    total_spm_annual = np.sum(totals_spm[location], axis=1)\n",
    "    \n",
    "    print(f\"{'Total annual contribution of Mn [Mmol/yr]:':<55}\" +\n",
    "          f\"{np.average(total_ref_annual)*1e-6:<5.0f} ({np.average(total_spm_annual)*1e-6:<5.0f})\")\n",
    "    print(f\"{'-- River discharge ---':<40}\" +\n",
    "          f\" {np.average(totals_ref[location][:,0])*1e-6:<8.2f} ({np.average(totals_spm[location][:,0])*1e-6:<8.2f})\")\n",
    "    print(f\"{'-- Sediment resuspension ---':<40}\" +\n",
    "          f\" {np.average(totals_ref[location][:,1])*1e-6:<8.2f} ({np.average(totals_spm[location][:,1])*1e-6:<8.2f})\")\n",
    "    print(f\"{'-- Sediment released by sea ice ---':<40}\" +\n",
    "          f\" {np.average(totals_ref[location][:,2])*1e-6:<8.2f} ({np.average(totals_spm[location][:,2])*1e-6:<8.2f})\")\n",
    "    print(f\"{'-- Dust released by sea ice ---':<40}\" +\n",
    "          f\" {np.average(totals_ref[location][:,3])*1e-6:<8.2f} ({np.average(totals_spm[location][:,3])*1e-6:<8.2f})\")\n",
    "    print(f\"{'-- Dust deposition ---':<40}\" +\n",
    "          f\" {np.average(totals_ref[location][:,4])*1e-6:<8.2f} ({np.average(totals_spm[location][:,4])*1e-6:<8.2f})\") \n",
    "\n",
    "    tref = np.sum(totals_ref[location], axis=(0,1))\n",
    "    tspm = np.sum(totals_spm[location], axis=(0,1))\n",
    "\n",
    "    print('----------------------------------------------------------------')\n",
    "    print('Total annual contribution of Mn [%]:') \n",
    "    print(f\"{'-- River discharge ---':<40}\" +\n",
    "          f\"{np.sum(totals_ref[location][:,0])*100/tref:<5.2f} ({np.sum(totals_spm[location][:,0])*100/tspm:<5.2f})\")\n",
    "    print(f\"{'-- Sediment resuspension ---':<40}\" +\n",
    "          f\"{np.sum(totals_ref[location][:,1])*100/tref:<5.2f} ({np.sum(totals_spm[location][:,1])*100/tspm:<5.2f})\")\n",
    "    print(f\"{'-- Sediment released by sea ice ---':<40}\" +\n",
    "          f\"{np.sum(totals_ref[location][:,2])*100/tref:<5.2f} ({np.sum(totals_spm[location][:,2])*100/tspm:<5.2f})\")\n",
    "    print(f\"{'-- Dust released by sea ice ---':<40}\" +\n",
    "          f\"{np.sum(totals_ref[location][:,3])*100/tref:<5.2f} ({np.sum(totals_spm[location][:,3])*100/tspm:<5.2f})\")\n",
    "    print(f\"{'-- Dust deposition ---':<40}\" +\n",
    "          f\"{np.sum(totals_ref[location][:,4])*100/tref:<5.2f} ({np.sum(totals_spm[location][:,4])*100/tspm:<5.2f})\")\n",
    "\n",
    "    print('----------------------------------------------------------------')\n",
    "    print(f\"{'Average annual contribution of Mn [micromol/m2/yr]:':<55}\" +\n",
    "          f\"{np.average(np.sum(averages_ref[location], axis=1)*1e6):<5.0f}\" +\n",
    "          f\"({np.average(np.sum(averages_spm[location], axis=1)*1e6):<5.0f})\")\n",
    "    print(f\"{'-- River discharge ---':<40}\" +\n",
    "          f\"{np.average(averages_ref[location][:,0])*1e6:<8.2f} ({np.average(averages_spm[location][:,0])*1e6:<8.2f})\")\n",
    "    print(f\"{'-- Sediment resuspension ---':<40}\" +\n",
    "          f\"{np.average(averages_ref[location][:,1])*1e6:<8.2f} ({np.average(averages_spm[location][:,1])*1e6:<8.2f})\")\n",
    "    print(f\"{'-- Sediment released by sea ice ---':<40}\" +\n",
    "          f\"{np.average(averages_ref[location][:,2])*1e6:<8.2f} ({np.average(averages_spm[location][:,2])*1e6:<8.2f})\")\n",
    "    print(f\"{'-- Dust released by sea ice ---':<40}\" +\n",
    "          f\"{np.average(averages_ref[location][:,3])*1e6:<8.2f} ({np.average(averages_spm[location][:,3])*1e6:<8.2f})\")\n",
    "    print(f\"{'-- Dust deposition ---':<40}\" +\n",
    "          f\"{np.average(averages_ref[location][:,4])*1e6:<8.2f} ({np.average(averages_spm[location][:,4])*1e6:<8.2f})\")\n",
    "\n",
    "    return"
   ]
  },
  {
   "cell_type": "markdown",
   "metadata": {},
   "source": [
    "### Calculations:"
   ]
  },
  {
   "cell_type": "markdown",
   "metadata": {},
   "source": [
    "Find grid cell volume and thickness at ocean floor:"
   ]
  },
  {
   "cell_type": "code",
   "execution_count": 18,
   "metadata": {},
   "outputs": [],
   "source": [
    "tmask_bot = np.copy(tmask)\n",
    "tmask_bot[0,:,:] = 1\n",
    "e3t_mask = np.ma.masked_where((tmask_bot[:,:,:] < 0.1), e3t[:,:,:])\n",
    "\n",
    "# find bottom grid cell index:\n",
    "ind = np.array(np.ma.notmasked_edges(e3t_mask[:,:,:], axis=0))\n",
    "\n",
    "# array of shape (isize, jsize) containing bottom grid cell index\n",
    "index_bottom = np.ma.masked_where((tmask[0,:,:] < 0.1), ind[1][0][:].reshape(isize,jsize))\n",
    "# index_bottom = np.ma.argmax(e3t_masked[:,:,:], axis=0)"
   ]
  },
  {
   "cell_type": "code",
   "execution_count": 19,
   "metadata": {},
   "outputs": [],
   "source": [
    "e3t_bot = np.zeros((isize,jsize))\n",
    "vol_bot = np.zeros((isize,jsize))\n",
    "\n",
    "for i in range(0, isize):\n",
    "    for j in range(0,jsize):\n",
    "        k = index_bottom[i,j]\n",
    "        try:\n",
    "            e3t_bot[i,j] = e3t[k,i,j]\n",
    "            vol_bot[i,j] = volume[k,i,j]\n",
    "        except:\n",
    "            e3t_bot[i,j] = np.nan\n",
    "            vol_bot[i,j] = np.nan\n",
    "        \n",
    "e3t_bottom    = np.ma.masked_where((tmask[0,:,:] < 0.1), np.ma.masked_where(np.isnan(e3t_bot), e3t_bot))\n",
    "volume_bottom = np.ma.masked_where((tmask[0,:,:] < 0.1), np.ma.masked_where(np.isnan(vol_bot), vol_bot))"
   ]
  },
  {
   "cell_type": "markdown",
   "metadata": {},
   "source": [
    "Create masks for specific subregions:\n",
    "- Canada Basin\n",
    "- CAA\n",
    "- Full domain\n",
    "- Western CAA (separated by Barrow Sill)\n",
    "- Eastern CAA (separated by Barrow Sill)"
   ]
  },
  {
   "cell_type": "code",
   "execution_count": 20,
   "metadata": {},
   "outputs": [],
   "source": [
    "# Find indices to separate out Canada Basin:\n",
    "\n",
    "x_ind = np.arange(1620, 2100, 1)\n",
    "y_ind = (-7/8)*x_ind + 1517 + 700\n",
    "\n",
    "CB_indx = []\n",
    "CB_indy = []\n",
    "\n",
    "for index in range(0,len(x_ind)):\n",
    "    CB_x = np.arange(x_ind[index],2180,1)\n",
    "    CB_y = np.ones(CB_x.shape)*y_ind[index]\n",
    "    \n",
    "    CB_indx = np.append(CB_x, CB_indx)\n",
    "    CB_indy = np.append(CB_y, CB_indy)"
   ]
  },
  {
   "cell_type": "code",
   "execution_count": 21,
   "metadata": {},
   "outputs": [],
   "source": [
    "# Separate Canada Basin and the CAA:\n",
    "mask_ini_CB  = np.zeros((isize,jsize))\n",
    "mask_ini_CAA = np.ones((isize,jsize))\n",
    "\n",
    "for i, j in zip(CB_indx, CB_indy):\n",
    "    mask_ini_CB[int(i-imin),int(j-jmin)]  = 1\n",
    "    mask_ini_CAA[int(i-imin),int(j-jmin)] = 0\n",
    "    \n",
    "mask_ini_CB[150:-1 ,-8:-1] = 1\n",
    "mask_ini_CAA[150:-1,-8:-1] = 0\n"
   ]
  },
  {
   "cell_type": "code",
   "execution_count": 22,
   "metadata": {},
   "outputs": [],
   "source": [
    "mask_ini_wCAA = np.zeros((isize,jsize))\n",
    "mask_ini_eCAA = np.zeros((isize,jsize))\n",
    "\n",
    "# Separate the western and eastern CAA:\n",
    "mask_ini_wCAA = np.where(lons[imin:imax,jmin:jmax] < -100, 1, 0)\n",
    "mask_ini_eCAA = np.where(lons[imin:imax,jmin:jmax] > -100, 1, 0)\n",
    "\n",
    "for i, j in zip(CB_indx, CB_indy):\n",
    "    mask_ini_wCAA[int(i-imin),int(j-jmin)] = 0\n",
    "    mask_ini_eCAA[int(i-imin),int(j-jmin)] = 0\n",
    "    \n",
    "mask_ini_wCAA[150:-1,-8:-1] = 0\n",
    "mask_ini_eCAA[150:-1,-8:-1] = 0"
   ]
  },
  {
   "cell_type": "code",
   "execution_count": 23,
   "metadata": {},
   "outputs": [],
   "source": [
    "mask_CB_yr    = np.tile(mask_ini_CB  , (12,1,1))\n",
    "mask_CAA_yr   = np.tile(mask_ini_CAA , (12,1,1))\n",
    "mask_full_yr  = np.ones((12, isize, jsize))\n",
    "mask_wCAA_yr  = np.tile(mask_ini_wCAA, (12,1,1))\n",
    "mask_eCAA_yr  = np.tile(mask_ini_eCAA, (12,1,1))"
   ]
  },
  {
   "cell_type": "code",
   "execution_count": 24,
   "metadata": {},
   "outputs": [],
   "source": [
    "mask_CB_depth = np.tile(mask_CB_yr  , (50,1,1,1))\n",
    "mask_CB_depth = mask_CB_depth.reshape(12,50,700,640)"
   ]
  },
  {
   "cell_type": "markdown",
   "metadata": {},
   "source": [
    "### Calculate:"
   ]
  },
  {
   "cell_type": "code",
   "execution_count": 29,
   "metadata": {},
   "outputs": [],
   "source": [
    "CB_totals_ref, CB_totals_spm, CB_averages_ref, CB_averages_spm = calculate_regional_contributions(mask_CB_yr)"
   ]
  },
  {
   "cell_type": "code",
   "execution_count": 30,
   "metadata": {},
   "outputs": [],
   "source": [
    "CAA_totals_ref, CAA_totals_spm, CAA_averages_ref, CAA_averages_spm = calculate_regional_contributions(mask_CAA_yr)"
   ]
  },
  {
   "cell_type": "code",
   "execution_count": 31,
   "metadata": {},
   "outputs": [],
   "source": [
    "wCAA_totals_ref, wCAA_totals_spm, wCAA_averages_ref, wCAA_averages_spm = calculate_regional_contributions(mask_wCAA_yr)"
   ]
  },
  {
   "cell_type": "code",
   "execution_count": 32,
   "metadata": {},
   "outputs": [],
   "source": [
    "eCAA_totals_ref, eCAA_totals_spm, eCAA_averages_ref, eCAA_averages_spm = calculate_regional_contributions(mask_eCAA_yr)"
   ]
  },
  {
   "cell_type": "markdown",
   "metadata": {},
   "source": [
    "### Pickle the results from these calculations:"
   ]
  },
  {
   "cell_type": "code",
   "execution_count": null,
   "metadata": {},
   "outputs": [],
   "source": [
    "pickle.dump((CB_totals_ref, CAA_totals_ref, wCAA_totals_ref, eCAA_totals_ref),\\\n",
    "            open('calculations/ref-total-June2015_component_contributions.pickle','wb'))"
   ]
  },
  {
   "cell_type": "code",
   "execution_count": null,
   "metadata": {},
   "outputs": [],
   "source": [
    "pickle.dump((CB_totals_spm, CAA_totals_spm, wCAA_totals_spm, eCAA_totals_spm),\\\n",
    "            open('calculations/spm-total-June2015_component_contributions.pickle','wb'))"
   ]
  },
  {
   "cell_type": "code",
   "execution_count": null,
   "metadata": {},
   "outputs": [],
   "source": [
    "pickle.dump((CB_averages_ref, CAA_averages_ref, wCAA_averages_ref, eCAA_averages_ref),\\\n",
    "            open('calculations/ref-ave-June2015_component_contributions.pickle','wb'))"
   ]
  },
  {
   "cell_type": "code",
   "execution_count": null,
   "metadata": {},
   "outputs": [],
   "source": [
    "pickle.dump((CB_averages_spm, CAA_averages_spm, wCAA_averages_spm, eCAA_averages_spm),\\\n",
    "            open('calculations/spm-ave-June2015_component_contributions.pickle','wb'))"
   ]
  },
  {
   "cell_type": "markdown",
   "metadata": {},
   "source": [
    "### Overview:"
   ]
  },
  {
   "cell_type": "code",
   "execution_count": null,
   "metadata": {},
   "outputs": [],
   "source": [
    "folder = '/ocean/brogalla/GEOTRACES/analysis-brogalla/paper2/calculations'\n",
    "CB_totals_ref, CAA_totals_ref, wCAA_totals_ref, eCAA_totals_ref = \\\n",
    "                pickle.load(open(f'{folder}/ref-total-June2015_component_contributions.pickle','rb')) \n",
    "CB_totals_spm, CAA_totals_spm, wCAA_totals_spm, eCAA_totals_spm = \\\n",
    "                pickle.load(open(f'{folder}/spm-total-June2015_component_contributions.pickle','rb')) \n",
    "CB_averages_ref, CAA_averages_ref, wCAA_averages_ref, eCAA_averages_ref = \\\n",
    "                pickle.load(open(f'{folder}/ref-ave-June2015_component_contributions.pickle','rb')) \n",
    "CB_averages_spm, CAA_averages_spm, wCAA_averages_spm, eCAA_averages_spm = \\\n",
    "                pickle.load(open(f'{folder}/spm-ave-June2015_component_contributions.pickle','rb')) "
   ]
  },
  {
   "cell_type": "code",
   "execution_count": 33,
   "metadata": {},
   "outputs": [],
   "source": [
    "folder = '/ocean/brogalla/GEOTRACES/analysis-brogalla/paper1/calculations/'\n",
    "CB_totals_ref, CAA_totals_ref, wCAA_totals_ref, eCAA_totals_ref = \\\n",
    "                pickle.load(open(f'{folder}/ref-total_component_contributions-20210418.pickle','rb')) \n",
    "CB_totals_spm, CAA_totals_spm, wCAA_totals_spm, eCAA_totals_spm = \\\n",
    "                pickle.load(open(f'{folder}/spm-total_component_contributions-20210418.pickle','rb')) \n",
    "CB_averages_ref, CAA_averages_ref, wCAA_averages_ref, eCAA_averages_ref = \\\n",
    "                pickle.load(open(f'{folder}/ref-averages_component_contributions-20210418.pickle','rb')) \n",
    "CB_averages_spm, CAA_averages_spm, wCAA_averages_spm, eCAA_averages_spm = \\\n",
    "                pickle.load(open(f'{folder}/spm-averages_component_contributions-20210418.pickle','rb')) "
   ]
  },
  {
   "cell_type": "code",
   "execution_count": 34,
   "metadata": {},
   "outputs": [],
   "source": [
    "ref_totals   = {'CB': CB_totals_ref, 'CAA':CAA_totals_ref, 'wCAA':wCAA_totals_ref, 'eCAA':eCAA_totals_ref}\n",
    "spm_totals   = {'CB': CB_totals_spm, 'CAA':CAA_totals_spm, 'wCAA':wCAA_totals_spm, 'eCAA':eCAA_totals_spm}\n",
    "ref_averages = {'CB': CB_averages_ref, 'CAA':CAA_averages_ref, 'wCAA':wCAA_averages_ref, 'eCAA':eCAA_averages_ref}\n",
    "spm_averages = {'CB': CB_averages_spm, 'CAA':CAA_averages_spm, 'wCAA':wCAA_averages_spm, 'eCAA':eCAA_averages_spm}"
   ]
  },
  {
   "cell_type": "code",
   "execution_count": 37,
   "metadata": {},
   "outputs": [],
   "source": [
    "ref_totals   = {'CB': CB_totals_ref[14:15,:], 'CAA':CAA_totals_ref[14:15,:], 'wCAA':wCAA_totals_ref[14:15,:], 'eCAA':eCAA_totals_ref[14:15,:]}\n",
    "spm_totals   = {'CB': CB_totals_spm[14:15,:], 'CAA':CAA_totals_spm[14:15,:], 'wCAA':wCAA_totals_spm[14:15,:], 'eCAA':eCAA_totals_spm[14:15,:]}\n",
    "ref_averages = {'CB': CB_averages_ref[14:15,:], 'CAA':CAA_averages_ref[14:15,:], 'wCAA':wCAA_averages_ref[14:15,:], 'eCAA':eCAA_averages_ref[14:15,:]}\n",
    "spm_averages = {'CB': CB_averages_spm[14:15,:], 'CAA':CAA_averages_spm[14:15,:], 'wCAA':wCAA_averages_spm[14:15,:], 'eCAA':eCAA_averages_spm[14:15,:]}"
   ]
  },
  {
   "cell_type": "code",
   "execution_count": 38,
   "metadata": {},
   "outputs": [],
   "source": [
    "final_ref_totals, final_spm_totals, \\\n",
    "    final_ref_averages, final_spm_averages = pipeline(ref_totals, spm_totals, ref_averages, spm_averages)"
   ]
  },
  {
   "cell_type": "code",
   "execution_count": 107,
   "metadata": {},
   "outputs": [
    {
     "name": "stdout",
     "output_type": "stream",
     "text": [
      "Interannual average values in CB\n",
      "----------------------------------------------------------------\n",
      "Total annual contribution of Mn [Mmol/yr]:             164   (182  )\n",
      "-- River discharge ---                   5.75     (23.79   )\n",
      "-- Sediment resuspension ---             14.14    (14.14   )\n",
      "-- Sediment released by sea ice ---      144.19   (144.19  )\n",
      "-- Dust released by sea ice ---          0.02     (0.02    )\n",
      "-- Dust deposition ---                   0.04     (0.04    )\n",
      "----------------------------------------------------------------\n",
      "Total annual contribution of Mn [%]:\n",
      "-- River discharge ---                  3.50  (13.06)\n",
      "-- Sediment resuspension ---            8.61  (7.76 )\n",
      "-- Sediment released by sea ice ---     87.85 (79.15)\n",
      "-- Dust released by sea ice ---         0.01  (0.01 )\n",
      "-- Dust deposition ---                  0.02  (0.02 )\n",
      "----------------------------------------------------------------\n",
      "Average annual contribution of Mn [micromol/m2/yr]:    82   (91   )\n",
      "-- River discharge ---                  2.89     (11.95   )\n",
      "-- Sediment resuspension ---            7.10     (7.10    )\n",
      "-- Sediment released by sea ice ---     72.42    (72.42   )\n",
      "-- Dust released by sea ice ---         0.01     (0.01    )\n",
      "-- Dust deposition ---                  0.02     (0.02    )\n"
     ]
    }
   ],
   "source": [
    "print_interannual_averages(final_ref_totals, final_spm_totals, final_ref_averages, final_spm_averages, location='CB')"
   ]
  },
  {
   "cell_type": "code",
   "execution_count": 39,
   "metadata": {},
   "outputs": [
    {
     "name": "stdout",
     "output_type": "stream",
     "text": [
      "Interannual average values in CB\n",
      "----------------------------------------------------------------\n",
      "Total annual contribution of Mn [Mmol/yr]:             383   (414  )\n",
      "-- River discharge ---                   10.20    (41.41   )\n",
      "-- Sediment resuspension ---             42.30    (42.30   )\n",
      "-- Sediment released by sea ice ---      330.07   (330.08  )\n",
      "-- Dust released by sea ice ---          0.34     (0.34    )\n",
      "-- Dust deposition ---                   0.03     (0.03    )\n",
      "----------------------------------------------------------------\n",
      "Total annual contribution of Mn [%]:\n",
      "-- River discharge ---                  2.66  (10.00)\n",
      "-- Sediment resuspension ---            11.05 (10.21)\n",
      "-- Sediment released by sea ice ---     86.20 (79.70)\n",
      "-- Dust released by sea ice ---         0.09  (0.08 )\n",
      "-- Dust deposition ---                  0.01  (0.01 )\n",
      "----------------------------------------------------------------\n",
      "Average annual contribution of Mn [micromol/m2/yr]:    717  (732  )\n",
      "-- River discharge ---                  5.12     (20.80   )\n",
      "-- Sediment resuspension ---            545.51   (545.51  )\n",
      "-- Sediment released by sea ice ---     165.78   (165.78  )\n",
      "-- Dust released by sea ice ---         0.17     (0.17    )\n",
      "-- Dust deposition ---                  0.01     (0.01    )\n"
     ]
    }
   ],
   "source": [
    "print_interannual_averages(final_ref_totals, final_spm_totals, final_ref_averages, final_spm_averages, location='CB')"
   ]
  },
  {
   "cell_type": "code",
   "execution_count": 108,
   "metadata": {},
   "outputs": [
    {
     "name": "stdout",
     "output_type": "stream",
     "text": [
      "Interannual average values in CAA\n",
      "----------------------------------------------------------------\n",
      "Total annual contribution of Mn [Mmol/yr]:             184   (267  )\n",
      "-- River discharge ---                   10.03    (92.31   )\n",
      "-- Sediment resuspension ---             144.36   (144.36  )\n",
      "-- Sediment released by sea ice ---      29.94    (29.94   )\n",
      "-- Dust released by sea ice ---          0.01     (0.01    )\n",
      "-- Dust deposition ---                   0.06     (0.06    )\n",
      "----------------------------------------------------------------\n",
      "Total annual contribution of Mn [%]:\n",
      "-- River discharge ---                  5.44  (34.61)\n",
      "-- Sediment resuspension ---            78.29 (54.13)\n",
      "-- Sediment released by sea ice ---     16.24 (11.23)\n",
      "-- Dust released by sea ice ---         0.01  (0.01 )\n",
      "-- Dust deposition ---                  0.03  (0.02 )\n",
      "----------------------------------------------------------------\n",
      "Average annual contribution of Mn [micromol/m2/yr]:    154  (223  )\n",
      "-- River discharge ---                  8.39     (77.25   )\n",
      "-- Sediment resuspension ---            120.81   (120.81  )\n",
      "-- Sediment released by sea ice ---     25.06    (25.06   )\n",
      "-- Dust released by sea ice ---         0.01     (0.01    )\n",
      "-- Dust deposition ---                  0.05     (0.05    )\n"
     ]
    }
   ],
   "source": [
    "print_interannual_averages(final_ref_totals, final_spm_totals, final_ref_averages, final_spm_averages, location='CAA')"
   ]
  },
  {
   "cell_type": "code",
   "execution_count": 40,
   "metadata": {},
   "outputs": [
    {
     "name": "stdout",
     "output_type": "stream",
     "text": [
      "Interannual average values in CAA\n",
      "----------------------------------------------------------------\n",
      "Total annual contribution of Mn [Mmol/yr]:             507   (657  )\n",
      "-- River discharge ---                   17.78    (167.80  )\n",
      "-- Sediment resuspension ---             431.89   (431.89  )\n",
      "-- Sediment released by sea ice ---      56.66    (56.66   )\n",
      "-- Dust released by sea ice ---          0.26     (0.26    )\n",
      "-- Dust deposition ---                   0.02     (0.02    )\n",
      "----------------------------------------------------------------\n",
      "Total annual contribution of Mn [%]:\n",
      "-- River discharge ---                  3.51  (25.56)\n",
      "-- Sediment resuspension ---            85.25 (65.77)\n",
      "-- Sediment released by sea ice ---     11.18 (8.63 )\n",
      "-- Dust released by sea ice ---         0.05  (0.04 )\n",
      "-- Dust deposition ---                  0.00  (0.00 )\n",
      "----------------------------------------------------------------\n",
      "Average annual contribution of Mn [micromol/m2/yr]:    1666 (1791 )\n",
      "-- River discharge ---                  14.88    (140.43  )\n",
      "-- Sediment resuspension ---            1603.15  (1603.15 )\n",
      "-- Sediment released by sea ice ---     47.41    (47.42   )\n",
      "-- Dust released by sea ice ---         0.22     (0.22    )\n",
      "-- Dust deposition ---                  0.02     (0.02    )\n"
     ]
    }
   ],
   "source": [
    "print_interannual_averages(final_ref_totals, final_spm_totals, final_ref_averages, final_spm_averages, location='CAA')"
   ]
  },
  {
   "cell_type": "code",
   "execution_count": 58,
   "metadata": {},
   "outputs": [
    {
     "name": "stdout",
     "output_type": "stream",
     "text": [
      "Interannual average values in wCAA\n",
      "----------------------------------------------------------------\n",
      "Total annual contribution of Mn [Mmol/yr]:             18    (20   )\n",
      "-- River discharge ---                   0.56     (2.34    )\n",
      "-- Sediment resuspension ---             11.42    (11.42   )\n",
      "-- Sediment released by sea ice ---      5.86     (5.86    )\n",
      "-- Dust released by sea ice ---          0.00     (0.00    )\n",
      "-- Dust deposition ---                   0.00     (0.00    )\n",
      "----------------------------------------------------------------\n",
      "Total annual contribution of Mn [%]:\n",
      "-- River discharge ---                  3.16  (11.92)\n",
      "-- Sediment resuspension ---            63.97 (58.19)\n",
      "-- Sediment released by sea ice ---     32.84 (29.87)\n",
      "-- Dust released by sea ice ---         0.01  (0.01 )\n",
      "-- Dust deposition ---                  0.02  (0.02 )\n",
      "----------------------------------------------------------------\n",
      "Average annual contribution of Mn [micromol/m2/yr]:    35   (39   )\n",
      "-- River discharge ---                  1.11     (4.60    )\n",
      "-- Sediment resuspension ---            22.46    (22.46   )\n",
      "-- Sediment released by sea ice ---     11.53    (11.53   )\n",
      "-- Dust released by sea ice ---         0.00     (0.00    )\n",
      "-- Dust deposition ---                  0.01     (0.01    )\n"
     ]
    }
   ],
   "source": [
    "print_interannual_averages(final_ref_totals, final_spm_totals, final_ref_averages, final_spm_averages, location='wCAA')"
   ]
  },
  {
   "cell_type": "code",
   "execution_count": 59,
   "metadata": {},
   "outputs": [
    {
     "name": "stdout",
     "output_type": "stream",
     "text": [
      "Interannual average values in eCAA\n",
      "----------------------------------------------------------------\n",
      "Total annual contribution of Mn [Mmol/yr]:             33    (57   )\n",
      "-- River discharge ---                   2.48     (25.77   )\n",
      "-- Sediment resuspension ---             24.08    (24.08   )\n",
      "-- Sediment released by sea ice ---      6.77     (6.77    )\n",
      "-- Dust released by sea ice ---          0.00     (0.00    )\n",
      "-- Dust deposition ---                   0.00     (0.00    )\n",
      "----------------------------------------------------------------\n",
      "Total annual contribution of Mn [%]:\n",
      "-- River discharge ---                  7.45  (45.51)\n",
      "-- Sediment resuspension ---            72.23 (42.53)\n",
      "-- Sediment released by sea ice ---     20.30 (11.95)\n",
      "-- Dust released by sea ice ---         0.01  (0.01 )\n",
      "-- Dust deposition ---                  0.01  (0.01 )\n",
      "----------------------------------------------------------------\n",
      "Average annual contribution of Mn [micromol/m2/yr]:    49   (82   )\n",
      "-- River discharge ---                  3.62     (37.53   )\n",
      "-- Sediment resuspension ---            35.07    (35.07   )\n",
      "-- Sediment released by sea ice ---     9.85     (9.85    )\n",
      "-- Dust released by sea ice ---         0.01     (0.01    )\n",
      "-- Dust deposition ---                  0.00     (0.00    )\n"
     ]
    }
   ],
   "source": [
    "print_interannual_averages(final_ref_totals, final_spm_totals, final_ref_averages, final_spm_averages, location='eCAA')"
   ]
  },
  {
   "cell_type": "code",
   "execution_count": null,
   "metadata": {},
   "outputs": [],
   "source": []
  }
 ],
 "metadata": {
  "kernelspec": {
   "display_name": "Python 3",
   "language": "python",
   "name": "python3"
  },
  "language_info": {
   "codemirror_mode": {
    "name": "ipython",
    "version": 3
   },
   "file_extension": ".py",
   "mimetype": "text/x-python",
   "name": "python",
   "nbconvert_exporter": "python",
   "pygments_lexer": "ipython3",
   "version": "3.6.11"
  }
 },
 "nbformat": 4,
 "nbformat_minor": 4
}
