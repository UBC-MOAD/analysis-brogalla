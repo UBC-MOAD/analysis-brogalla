{
 "cells": [
  {
   "cell_type": "markdown",
   "metadata": {},
   "source": [
    "# Results Figure --- cross-section plots of continental vs. glacial river contributions "
   ]
  },
  {
   "cell_type": "code",
   "execution_count": 1,
   "metadata": {},
   "outputs": [],
   "source": [
    "import pickle\n",
    "import numpy as np\n",
    "import matplotlib.pyplot as plt\n",
    "import netCDF4 as nc\n",
    "import os\n",
    "from itertools import compress\n",
    "import datetime as dt\n",
    "from matplotlib.colors import ListedColormap\n",
    "from math import sin, cos, sqrt, atan2, radians\n",
    "import xarray as xr\n",
    "\n",
    "%matplotlib inline"
   ]
  },
  {
   "cell_type": "markdown",
   "metadata": {},
   "source": [
    "#### Parameters:"
   ]
  },
  {
   "cell_type": "code",
   "execution_count": 2,
   "metadata": {},
   "outputs": [],
   "source": [
    "month = 8\n",
    "\n",
    "# Domain dimensions:\n",
    "imin, imax = 1479, 2179\n",
    "jmin, jmax = 159, 799\n",
    "isize = imax - imin\n",
    "jsize = jmax - jmin\n",
    "\n",
    "# Results folders:\n",
    "folder_ref  = '/data/brogalla/run_storage/Mn-reference-202110/'\n",
    "folder_glac = '/data/brogalla/run_storage/river-glacial-202112/'\n",
    "folder_cont = '/data/brogalla/run_storage/river-continental-202112/'\n",
    "\n",
    "# Time series folders:\n",
    "folder_ts_ref  = '/ocean/brogalla/GEOTRACES/time-series/Mn-reference-202110/'\n",
    "folder_ts_glac = '/ocean/brogalla/GEOTRACES/time-series/river-glacial-202112/'\n",
    "folder_ts_cont = '/ocean/brogalla/GEOTRACES/time-series/river-continental-202112/'\n",
    "\n",
    "# Boundary coordinates:\n",
    "xmin=imin+1; ymin=jmin+1;\n",
    "r1i = 1520-xmin;                      r1j = np.arange(505-ymin,673-ymin)\n",
    "N1i = np.arange(1570-xmin,1630-xmin); N1j = 635-ymin #Nares\n",
    "P1i = 1585-xmin;                      P1j = np.arange(485-ymin,538-ymin)  #Parry channel\n",
    "P1j = P1j[10:-5]; N1i = N1i[11:-8]\n",
    "P2i = 1664-xmin;                      P2j = np.arange(465-ymin,490-ymin);\n",
    "\n",
    "land_color = '#a9a7a2'\n",
    "\n",
    "# Color map:\n",
    "N = 256\n",
    "vals_cont = np.ones((N, 4))\n",
    "vals_cont[:, 0] = np.linspace(171/N, 1, N)\n",
    "vals_cont[:, 1] = np.linspace(92/N, 1, N)\n",
    "vals_cont[:, 2] = np.linspace(41/N, 1, N)\n",
    "cont_cmap = ListedColormap(vals_cont).reversed()\n",
    "\n",
    "vals_glac = np.ones((N, 4))\n",
    "vals_glac[:, 0] = np.linspace(8/N, 1, N)\n",
    "vals_glac[:, 1] = np.linspace(115/N, 1, N)\n",
    "vals_glac[:, 2] = np.linspace(180/N, 1, N)\n",
    "glac_cmap = ListedColormap(vals_glac).reversed()"
   ]
  },
  {
   "cell_type": "markdown",
   "metadata": {},
   "source": [
    "#### Load files:"
   ]
  },
  {
   "cell_type": "code",
   "execution_count": 3,
   "metadata": {},
   "outputs": [],
   "source": [
    "# ANHA12 mesh:\n",
    "mesh          = nc.Dataset('/ocean/brogalla/GEOTRACES/data/ANHA12/ANHA12_mesh1.nc')\n",
    "tmask         = np.array(mesh.variables['tmask'])\n",
    "land_mask     = np.ma.masked_where((tmask[0,:,:,:] > 0.1) , tmask[0,:,:,:]) \n",
    "tmask_full    = np.empty((12,50,isize,jsize))\n",
    "tmask_full[:] = tmask[0,:,imin:imax,jmin:jmax]\n",
    "lon_ANHA12    = np.array(mesh.variables['nav_lon'])\n",
    "lat_ANHA12    = np.array(mesh.variables['nav_lat'])\n",
    "e3t           = np.array(mesh.variables['e3t_0'])[0,:,imin:imax,jmin:jmax]\n",
    "hdept         = np.array(mesh.variables['hdept'])[0,imin:imax,jmin:jmax]"
   ]
  },
  {
   "cell_type": "code",
   "execution_count": 4,
   "metadata": {},
   "outputs": [],
   "source": [
    "# Mn model mesh:\n",
    "ref         = nc.Dataset('/data/brogalla/run_storage/Mn-reference-202110/ANHA12_ref-2002_20211012/ANHA12_EXH006_2002_monthly.nc','r')\n",
    "lon_sub     = np.array(ref.variables['nav_lon'])\n",
    "lat_sub     = np.array(ref.variables['nav_lat'])\n",
    "depth_model = np.array(ref.variables['deptht'])"
   ]
  },
  {
   "cell_type": "markdown",
   "metadata": {},
   "source": [
    "#### Functions:"
   ]
  },
  {
   "cell_type": "code",
   "execution_count": 5,
   "metadata": {},
   "outputs": [],
   "source": [
    "def load_Mn_results():\n",
    "    \n",
    "    file = f'climatology.nc'\n",
    "    path_ref  = f'{folder_ref}/{file}'\n",
    "    path_glac = f'{folder_glac}/{file}'\n",
    "    path_cont = f'{folder_cont}/{file}'\n",
    "    \n",
    "    with xr.open_dataset(f'{path_ref}') as monthly_ref:\n",
    "        dmn_ref = monthly_ref['dissolmn'].values[:,0,:,:,:]\n",
    "    \n",
    "    with xr.open_dataset(f'{path_glac}') as monthly_glac:\n",
    "        dmn_glac = monthly_glac['dissolmn'].values[:,0,:,:,:]\n",
    "        \n",
    "    with xr.open_dataset(f'{path_cont}') as monthly_cont:\n",
    "        dmn_cont = monthly_cont['dissolmn'].values[:,0,:,:,:]\n",
    "    \n",
    "    return dmn_ref, dmn_glac, dmn_cont"
   ]
  },
  {
   "cell_type": "markdown",
   "metadata": {},
   "source": [
    "Calculate the proportional contribution of glacial rivers to each grid cell:\n",
    "\n",
    "$$ prop = \\frac{Mn_{glacier}-Mn_{base}}{Mn_{base}} = \\frac{Mn_{glacier}}{Mn_{base}} - 1 $$"
   ]
  },
  {
   "cell_type": "code",
   "execution_count": 6,
   "metadata": {},
   "outputs": [],
   "source": [
    "def calculate_prop(dmn_riv_off, dmn_riv_on):\n",
    "    # Input arguments:\n",
    "    # - dmn_riv_on (t,z,y,x) --- concentration of dMn with riverine contribution on\n",
    "    # - dmn_riv_off(t,z,y,x) --- concentration of dMn with rivers off\n",
    "    \n",
    "    # Contribution of rivers / total concentration (with rivers on):\n",
    "    # should be an elementwise operation\n",
    "    prop_river  = np.divide(dmn_riv_on - dmn_riv_off, dmn_riv_off)*100*2 # times two so that 100% \n",
    "    \n",
    "    # Output:\n",
    "    # - prop_river(t,z,y,x)  --- proportional contribution of river to observed [dMn]\n",
    "    return prop_river"
   ]
  },
  {
   "cell_type": "code",
   "execution_count": 8,
   "metadata": {},
   "outputs": [],
   "source": [
    "def time_series_pickle(year):\n",
    "    # Load calculated time series of fluxes:\n",
    "    time_series_V1, time_series_V2, time_series_V3, time_series_V4, time_series_V5, time_series_V6,time_series_V7,\\\n",
    "    time_series_V8, time_series_V9, time_series_V10, time_series_V11, time_series_mn1, time_series_mn2, \\\n",
    "    time_series_mn3, time_series_mn4, time_series_mn5, time_series_mn6, time_series_mn7, time_series_mn8, \\\n",
    "    time_series_mn9, time_series_mn10, time_series_mn11 = \\\n",
    "            pickle.load(open(f'{folder_ts_ref}time-series-{year}.pickle','rb'))\n",
    "    \n",
    "    return time_series_V8, time_series_V10, time_series_V11"
   ]
  },
  {
   "cell_type": "code",
   "execution_count": 9,
   "metadata": {},
   "outputs": [],
   "source": [
    "def file_dates(year):\n",
    "    #start_date and end_date are datetime objects\n",
    "    start_date = dt.datetime(year,1,1)\n",
    "    end_date   = dt.datetime(year,12,31)\n",
    "    \n",
    "    file_list1E = np.sort(os.listdir(f'{folder_ref}ANHA12_ref-{year}_20211012/'))\n",
    "    file_list2 = np.sort(os.listdir('/data/brogalla/ANHA12/'))\n",
    "    \n",
    "    Vlist = [i[26:31]=='gridV' for i in file_list2]\n",
    "    gridV_list = list(compress(file_list2, Vlist))\n",
    "    dateV_list = [dt.datetime.strptime(i[14:25], \"y%Ym%md%d\") for i in gridV_list]\n",
    "    gridV_file_list = list(compress(gridV_list, [V > start_date and V < end_date for V in dateV_list]))\n",
    "    \n",
    "    dates = [dt.datetime.strptime(i[14:25], \"y%Ym%md%d\") for i in gridV_file_list]\n",
    "    \n",
    "    return dates"
   ]
  },
  {
   "cell_type": "code",
   "execution_count": 10,
   "metadata": {},
   "outputs": [],
   "source": [
    "def calc_distance(i,j):\n",
    "    R = 6373.0 # approximate radius of earth in km\n",
    "\n",
    "    lats_rad = [radians(l) for l in lat_sub[i,j]]\n",
    "    lons_rad = [radians(l) for l in lon_sub[i,j]]\n",
    "\n",
    "    dlon = [lon_step - lons_rad[0] for lon_step in lons_rad]\n",
    "    dlat = [lat_step - lats_rad[0] for lat_step in lats_rad]\n",
    "\n",
    "    distance = np.empty((len(dlon)))\n",
    "    for i in range(0,len(dlon)):\n",
    "        a = sin(dlat[i] / 2)**2 + cos(lats_rad[0]) * cos(lats_rad[i]) * sin(dlon[i] / 2)**2\n",
    "        c = 2 * atan2(sqrt(a), sqrt(1 - a))\n",
    "        distance[i] = R * c\n",
    "        \n",
    "    return distance"
   ]
  },
  {
   "cell_type": "code",
   "execution_count": 18,
   "metadata": {},
   "outputs": [],
   "source": [
    "def transect_PC(axis, month):\n",
    "    \n",
    "    vmin_cont = 0; vmax_cont = 0.2;\n",
    "    vmin_glac = 0; vmax_glac = 8;\n",
    "    vmin_both = 0; vmax_both = 3;\n",
    "\n",
    "    # Coloured in contours for river Mn:\n",
    "    CS1 = axis.pcolormesh(distance_PC, depth_model, np.transpose(ma_cont_xs_low[month,:,P1i,P1j]), \\\n",
    "                        vmin=vmin_cont, vmax=vmax_cont, cmap=cont_cmap)\n",
    "    CS2 = axis.pcolormesh(distance_PC, depth_model, np.transpose(ma_glac_xs_low[month,:,P1i,P1j]), \\\n",
    "                        vmin=vmin_glac, vmax=vmax_glac, cmap=glac_cmap)\n",
    "\n",
    "    # Contour lines for river Mn:\n",
    "    glac_levels = [1, 2, 3, 4, 5, 6, 7, 8]\n",
    "    cont_levels = [0.1, 0.15, 0.2]\n",
    "    glac = axis.contour(distance_PC, depth_model, np.transpose(ma_glac_xs_low[month,:,P1i,P1j]), \\\n",
    "               levels=glac_levels, colors='#04395a', linewidths=0.7)\n",
    "    cont = axis.contour(distance_PC, depth_model, np.transpose(ma_cont_xs_low[month,:,P1i,P1j]), \\\n",
    "               levels=cont_levels, colors='#ab5c29', linewidths=0.7)\n",
    "\n",
    "    # Volume flux:\n",
    "    axis.contour(distance_PC, depth_model, V11[8,:,10:-4], [-400, 400], colors='k', linewidths=0.7)\n",
    "    \n",
    "    # Colour bars + figure features:\n",
    "    cb1axes = fig.add_axes([0.92, 0.78, 0.06, 0.10]) \n",
    "    cb2axes = fig.add_axes([0.92, 0.66, 0.06, 0.10]) \n",
    "    CBar1 = fig.colorbar(CS1, cax=cb1axes, ticks=[0,0.1,0.2])\n",
    "    CBar2 = fig.colorbar(CS2, cax=cb2axes, ticks=[0,4,8,12])\n",
    "    CBar1.add_lines(cont)\n",
    "    CBar2.add_lines(glac)\n",
    "    for CBar in [CBar1, CBar2]:\n",
    "        CBar.ax.tick_params(axis='y', length=3, labelsize=6.5, pad=-0.1)\n",
    "        CBar.ax.set_yticklabels([f'{i:.1f}%' for i in CBar.get_ticks()])\n",
    "        \n",
    "    axis.tick_params(axis='both', labelsize=7, length=2)\n",
    "\n",
    "    manual_locations_glac = [(75, 200), (75, 100), (75, 50), (115, 60), (25, 175), (20, 30)]\n",
    "    manual_locations_cont = [(25, 125), (22, 90)]\n",
    "    axis.clabel(glac, [1, 2, 4, 6, 8], inline=1, fontsize=5, manual=manual_locations_glac, fmt='%.1f')\n",
    "    axis.clabel(cont, [0.1, 0.15], inline=1, fontsize=5, manual=manual_locations_cont, colors='#624532', fmt='%.2f')\n",
    " \n",
    "    axis.pcolormesh(distance_PC, depth_model, land_mask[:,imin+P1i,jmin+P1j], cmap=ListedColormap([land_color]), zorder=2) \n",
    "    return"
   ]
  },
  {
   "cell_type": "code",
   "execution_count": 19,
   "metadata": {},
   "outputs": [],
   "source": [
    "def transect_NS(axis, month):\n",
    "    axis.set_xlim([0, 160])\n",
    "\n",
    "    vmin_glac = 0; vmax_glac = 30;\n",
    "    vmin_both = 0; vmax_both = 3;\n",
    "\n",
    "    # Coloured in contours:\n",
    "    CS1 = axis.pcolormesh(distance_NS[::-1], depth_model, np.transpose(ma_glac_xs_low[month,:,N1i,N1j]), \\\n",
    "                      vmin=vmin_glac, vmax=vmax_glac, cmap=glac_cmap)\n",
    "\n",
    "    # Contour lines:\n",
    "    glac_levels = [1, 5, 10, 15, 20, 25, 30]\n",
    "    glac = axis.contour(distance_NS[::-1], depth_model, np.transpose(ma_glac_xs_low[month,:,N1i,N1j]), \\\n",
    "                      levels=glac_levels, colors='#04395a', linewidths=0.7)\n",
    "\n",
    "    # Volume flux:\n",
    "    axis.contour(distance_NS[::-1], depth_model, V10[8,:,11:-7], [-400, 400], colors='k', linewidths=0.7)\n",
    "\n",
    "    # Colour bars + figure features:\n",
    "    cb1axes = fig.add_axes([0.92, 0.392, 0.06, 0.12]) \n",
    "    CBar1 = fig.colorbar(CS1, cax=cb1axes, ticks=[0,10,20,30])\n",
    "    CBar1.ax.tick_params(axis='y', length=3, labelsize=6.5, pad=-0.1)\n",
    "    CBar1.add_lines(glac)\n",
    "    CBar1.ax.set_yticklabels([f'{i:.1f}%' for i in CBar1.get_ticks()])\n",
    "    \n",
    "    axis.tick_params(axis='both', labelsize=7, length=2)\n",
    "\n",
    "    manual_locations_glac = [(60, 150), (91, 70), (91, 40), (91, 30), (40,200)]\n",
    "    axis.clabel(glac, [1.0, 5, 10, 20, 30], inline=1, fontsize=5, manual=manual_locations_glac, fmt='%.1f')\n",
    "\n",
    "    axis.pcolormesh(distance_NS[::-1], depth_model, land_mask[:,imin+N1i,jmin+N1j], \\\n",
    "                       cmap=ListedColormap([land_color]), zorder=2)  \n",
    "    return"
   ]
  },
  {
   "cell_type": "code",
   "execution_count": 20,
   "metadata": {},
   "outputs": [],
   "source": [
    "def transect_BB(axis, month):\n",
    "    \n",
    "    vmin_cont = 0; vmax_cont = 0.1;\n",
    "    vmin_glac = 0; vmax_glac = 12; \n",
    "    \n",
    "    # Coloured in contours:\n",
    "    CS1 = axis.pcolormesh(distance_BB, depth_model, np.transpose(ma_cont_xs_low[month,:,r1i,r1j]), \\\n",
    "                      vmin=vmin_cont, vmax=vmax_cont, cmap=cont_cmap)\n",
    "    CS2 = axis.pcolormesh(distance_BB, depth_model, np.transpose(ma_glac_xs_low[month,:,r1i,r1j]), \\\n",
    "                      vmin=vmin_glac, vmax=vmax_glac, cmap=glac_cmap)\n",
    "\n",
    "    # Contour lines:\n",
    "    glac_levels = [2, 4, 6, 8, 10, 12]\n",
    "    cont_levels = [0.06, 0.1] \n",
    "    cont = axis.contour(distance_BB, depth_model, np.transpose(ma_cont_xs_low[month,:,r1i,r1j]), \\\n",
    "               levels=cont_levels, colors='#ab5c29', zorder=3, linewidths=0.7)\n",
    "    glac = axis.contour(distance_BB, depth_model, np.transpose(ma_glac_xs_low[month,:,r1i,r1j]), \\\n",
    "               levels=glac_levels, colors='#04395a', zorder=2, linewidths=0.7)\n",
    "\n",
    "    manual_locations_glac = [(495,130), (500,100), (495,60)]\n",
    "    manual_locations_cont = [(70, 180), (50, 125)] \n",
    "    # Contour line labels:\n",
    "    axis.clabel(glac, [2, 4, 6, 8, 10, 12], inline=1, fontsize=5, manual=manual_locations_glac, fmt='%.1f')\n",
    "    clabels = axis.clabel(cont, [0.06, 0.10], inline=1, fontsize=5, manual=manual_locations_cont, colors='#624532', fmt='%.2f')\n",
    "    \n",
    "    # Volume flux:\n",
    "    axis.contour(distance_BB[0:-1], depth_model, V08[8,:,:], [-2500, 2500], linewidths=0.7, colors='k', zorder=1)\n",
    "\n",
    "    # Colour bars + figure features:\n",
    "    cb1axes = fig.add_axes([0.92, 0.248, 0.06, 0.10]) \n",
    "    cb2axes = fig.add_axes([0.92, 0.125, 0.06, 0.10]) \n",
    "    CBar1 = fig.colorbar(CS1, cax=cb1axes, ticks=[0, 0.1])\n",
    "    CBar2 = fig.colorbar(CS2, cax=cb2axes, ticks=[0, 4, 8, 12])\n",
    "    CBar1.add_lines(cont)\n",
    "    CBar2.add_lines(glac)\n",
    "    for CBar in [CBar1, CBar2]:\n",
    "        CBar.ax.tick_params(axis='y', length=3, labelsize=6.5, pad=-0.1)\n",
    "        CBar.ax.set_yticklabels([f'{i:.1f}%' for i in CBar.get_ticks()])\n",
    "        \n",
    "    axis.tick_params(axis='both', labelsize=7, length=2)\n",
    "    \n",
    "    # Mask land:\n",
    "    axis.pcolormesh(distance_BB, depth_model, land_mask[:,imin+r1i,jmin+r1j], cmap=ListedColormap([land_color]), zorder=2)    \n",
    "    return"
   ]
  },
  {
   "cell_type": "markdown",
   "metadata": {},
   "source": [
    "#### Calculations:"
   ]
  },
  {
   "cell_type": "code",
   "execution_count": 14,
   "metadata": {},
   "outputs": [
    {
     "name": "stderr",
     "output_type": "stream",
     "text": [
      "/home/brogalla/miniconda3/envs/julab/lib/python3.6/site-packages/ipykernel_launcher.py:8: RuntimeWarning: invalid value encountered in true_divide\n",
      "  \n"
     ]
    }
   ],
   "source": [
    "dmn_ref, dmn_glac, dmn_cont = load_Mn_results()\n",
    "\n",
    "glacier_prop     = calculate_prop(dmn_ref, dmn_glac)\n",
    "continental_prop = calculate_prop(dmn_ref, dmn_cont)"
   ]
  },
  {
   "cell_type": "code",
   "execution_count": 15,
   "metadata": {},
   "outputs": [],
   "source": [
    "# Load volume fluxes:\n",
    "ts_V8, ts_V10, ts_V11 = time_series_pickle(2015)\n",
    "\n",
    "V08   = np.empty((12, 50, 167)); V10   = np.empty((12, 50, 59)); V11   = np.empty((12, 50, 52));\n",
    "dates = file_dates(2015)\n",
    "\n",
    "for months in np.arange(1, 13):\n",
    "    Volume08 = np.zeros((50,167))\n",
    "    Volume10 = np.zeros((50,59))\n",
    "    Volume11 = np.zeros((50,52))\n",
    "    n = 0\n",
    "    for i in range(0,len(dates)):\n",
    "        if dates[i].month == months:\n",
    "            Volume08 = Volume08 + ts_V8[i,:,:]\n",
    "            Volume10 = Volume10 + ts_V10[i,:,:]\n",
    "            Volume11 = Volume11 + ts_V11[i,:,:]\n",
    "            n+=1\n",
    "            \n",
    "    # m3/s\n",
    "    V08[months-1] = Volume08/(n)            \n",
    "    V10[months-1] = Volume10/(n)\n",
    "    V11[months-1] = Volume11/(n)"
   ]
  },
  {
   "cell_type": "code",
   "execution_count": 16,
   "metadata": {},
   "outputs": [],
   "source": [
    "# Mask small values in cross section\n",
    "ma_glac_xs = np.ma.masked_where((glacier_prop[:,:,:,:] < 0.05), glacier_prop[:,:,:,:])\n",
    "ma_cont_xs = np.ma.masked_where((continental_prop[:,:,:,:] < glacier_prop[:,:,:,:]), continental_prop[:,:,:,:])\n",
    "\n",
    "# only mask lower values for contour lines:\n",
    "ma_glac_xs_low = np.ma.masked_where((glacier_prop[:,:,:,:] < 0.05)    , glacier_prop[:,:,:,:])\n",
    "ma_cont_xs_low = np.ma.masked_where((continental_prop[:,:,:,:] < 0.05), continental_prop[:,:,:,:])\n",
    "\n",
    "# Calculate distance along cross section\n",
    "distance_PC  = calc_distance(P1i, P1j)\n",
    "distance_PC2 = calc_distance(P2i, P2j)\n",
    "distance_NS  = calc_distance(N1i, N1j)\n",
    "distance_BB  = calc_distance(r1i, r1j)"
   ]
  },
  {
   "cell_type": "markdown",
   "metadata": {},
   "source": [
    "#### Figures"
   ]
  },
  {
   "cell_type": "code",
   "execution_count": null,
   "metadata": {},
   "outputs": [],
   "source": [
    "fig, ax = plt.subplots(3,1,figsize=(2, 6), dpi=300)\n",
    "\n",
    "for axis in ax.ravel():\n",
    "    axis.invert_yaxis()\n",
    "    axis.tick_params(axis='both', labelsize=5)\n",
    "    axis.set_ylim([250, 0])\n",
    "    axis.tick_params(axis='both', which='major', pad=-0.1)\n",
    "    \n",
    "transect_PC(ax[0], 8)\n",
    "transect_NS(ax[1], 8)\n",
    "transect_BB(ax[2], 8)\n",
    "\n",
    "ax[2].set_xlabel('Distance [km]', fontsize=6)\n",
    "ax[1].set_ylabel('Depth [m]', fontsize=6)\n",
    "\n",
    "fig.savefig('/ocean/brogalla/GEOTRACES/figures/rivers-paper-202206/R2-cross-section.jpg', bbox_inches='tight', dpi=300)"
   ]
  },
  {
   "cell_type": "code",
   "execution_count": null,
   "metadata": {},
   "outputs": [],
   "source": []
  }
 ],
 "metadata": {
  "kernelspec": {
   "display_name": "Python 3",
   "language": "python",
   "name": "python3"
  },
  "language_info": {
   "codemirror_mode": {
    "name": "ipython",
    "version": 3
   },
   "file_extension": ".py",
   "mimetype": "text/x-python",
   "name": "python",
   "nbconvert_exporter": "python",
   "pygments_lexer": "ipython3",
   "version": "3.6.11"
  }
 },
 "nbformat": 4,
 "nbformat_minor": 4
}
