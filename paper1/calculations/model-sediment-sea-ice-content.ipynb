{
 "cells": [
  {
   "cell_type": "markdown",
   "metadata": {},
   "source": [
    "## What is the range of sediment contents in the sea ice in our model?"
   ]
  },
  {
   "cell_type": "code",
   "execution_count": 1,
   "metadata": {},
   "outputs": [],
   "source": [
    "import numpy as np\n",
    "import netCDF4 as nc\n",
    "\n",
    "%matplotlib inline"
   ]
  },
  {
   "cell_type": "markdown",
   "metadata": {},
   "source": [
    "##### Parameters"
   ]
  },
  {
   "cell_type": "code",
   "execution_count": 2,
   "metadata": {},
   "outputs": [],
   "source": [
    "imin, imax = 1480, 2180\n",
    "jmin, jmax = 160, 800\n",
    "isize, jsize = imax-imin, jmax-jmin"
   ]
  },
  {
   "cell_type": "markdown",
   "metadata": {},
   "source": [
    "###### Load files"
   ]
  },
  {
   "cell_type": "code",
   "execution_count": 3,
   "metadata": {},
   "outputs": [],
   "source": [
    "mask  = nc.Dataset('/ocean/brogalla/GEOTRACES/data/ANHA12/ANHA12_mesh1.nc')\n",
    "tmask = np.array(mask.variables['tmask'])"
   ]
  },
  {
   "cell_type": "code",
   "execution_count": 4,
   "metadata": {},
   "outputs": [],
   "source": [
    "ds             = nc.Dataset('/ocean/brogalla/GEOTRACES/data/ice_sediment-20210309.nc')\n",
    "prop_sediments = 0.5*np.array(ds.variables['prop_shelf'])[imin:imax,jmin:jmax] # 0.5 is the factor in namelist_mn.constants"
   ]
  },
  {
   "cell_type": "markdown",
   "metadata": {},
   "source": [
    "##### Calculations"
   ]
  },
  {
   "cell_type": "code",
   "execution_count": 5,
   "metadata": {},
   "outputs": [],
   "source": [
    "# Find indices to separate out Canada Basin:\n",
    "x_ind = np.arange(1620, 2100, 1)\n",
    "y_ind = (-7/8)*x_ind + 1517 + 700\n",
    "\n",
    "CB_indx = []\n",
    "CB_indy = []\n",
    "for index in range(0,len(x_ind)):\n",
    "    CB_x = np.arange(x_ind[index],2180,1)\n",
    "    CB_y = np.ones(CB_x.shape)*y_ind[index]\n",
    "    \n",
    "    CB_indx = np.append(CB_x, CB_indx)\n",
    "    CB_indy = np.append(CB_y, CB_indy)"
   ]
  },
  {
   "cell_type": "code",
   "execution_count": 6,
   "metadata": {},
   "outputs": [],
   "source": [
    "# Separate Canada Basin:\n",
    "mask_CB  = np.zeros((isize,jsize))\n",
    "for i, j in zip(CB_indx, CB_indy):\n",
    "    mask_CB[int(i-imin),int(j-jmin)]  = 1\n",
    "    \n",
    "mask_CB[150:-1 ,-8:-1] = 1"
   ]
  },
  {
   "cell_type": "code",
   "execution_count": 7,
   "metadata": {},
   "outputs": [],
   "source": [
    "sediments_ice_CB = np.ma.masked_where((tmask[0,0,imin:imax,jmin:jmax] < 0.1) & (mask_CB==0), prop_sediments)"
   ]
  },
  {
   "cell_type": "code",
   "execution_count": 8,
   "metadata": {},
   "outputs": [
    {
     "name": "stdout",
     "output_type": "stream",
     "text": [
      "In Canada Basin ------\n",
      "Maximum sediment content in sea ice:  156.86 g/m3\n",
      "Minimum sediment content in sea ice:  0.45 g/m3\n",
      "Average sediment content in sea ice:  32.46 g/m3\n"
     ]
    }
   ],
   "source": [
    "print('In Canada Basin ------')\n",
    "print('Maximum sediment content in sea ice: ', '{:.2f}'.format(np.ma.amax(sediments_ice_CB)*1e3),'g/m3')\n",
    "print('Minimum sediment content in sea ice: ', '{:.2f}'.format(np.ma.amin(sediments_ice_CB)*1e3),'g/m3')\n",
    "print('Average sediment content in sea ice: ', '{:.2f}'.format(np.ma.mean(sediments_ice_CB)*1e3),'g/m3')"
   ]
  },
  {
   "cell_type": "code",
   "execution_count": null,
   "metadata": {},
   "outputs": [],
   "source": []
  }
 ],
 "metadata": {
  "kernelspec": {
   "display_name": "Python 3",
   "language": "python",
   "name": "python3"
  },
  "language_info": {
   "codemirror_mode": {
    "name": "ipython",
    "version": 3
   },
   "file_extension": ".py",
   "mimetype": "text/x-python",
   "name": "python",
   "nbconvert_exporter": "python",
   "pygments_lexer": "ipython3",
   "version": "3.6.11"
  }
 },
 "nbformat": 4,
 "nbformat_minor": 4
}
