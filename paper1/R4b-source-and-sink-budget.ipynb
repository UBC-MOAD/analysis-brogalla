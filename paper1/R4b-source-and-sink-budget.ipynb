{
 "cells": [
  {
   "cell_type": "markdown",
   "metadata": {},
   "source": [
    "# Source and Sink contributions"
   ]
  },
  {
   "cell_type": "code",
   "execution_count": 1,
   "metadata": {},
   "outputs": [],
   "source": [
    "import pickle\n",
    "import numpy as np\n",
    "import matplotlib.pyplot as plt\n",
    "import matplotlib\n",
    "import matplotlib.colors\n",
    "from mpl_toolkits.basemap import Basemap, cm\n",
    "import cmocean\n",
    "import netCDF4 as nc\n",
    "from itertools import compress\n",
    "import datetime as dt\n",
    "import seaborn as sns; sns.set()\n",
    "from datetime import date\n",
    "import warnings\n",
    "warnings.filterwarnings(\"ignore\")\n",
    "\n",
    "%matplotlib inline"
   ]
  },
  {
   "cell_type": "markdown",
   "metadata": {},
   "source": [
    "###### Parameters:"
   ]
  },
  {
   "cell_type": "code",
   "execution_count": 2,
   "metadata": {},
   "outputs": [],
   "source": [
    "imin, imax = 1480, 2180\n",
    "jmin, jmax = 160, 800\n",
    "isize = imax-imin\n",
    "jsize = jmax-jmin\n",
    "\n",
    "# model results:\n",
    "results_folder = '/data/brogalla/run_storage/Mn-reference-202103/'\n",
    "month = 8\n",
    "\n",
    "# colours:\n",
    "land_color = \"#8b7765\"\n",
    "colors = ['#ccb598', '#367073', '#81a885', '#CC8741', '#cee7fd', '#c7cdd2']"
   ]
  },
  {
   "cell_type": "markdown",
   "metadata": {},
   "source": [
    "###### Load files:"
   ]
  },
  {
   "cell_type": "code",
   "execution_count": 12,
   "metadata": {},
   "outputs": [],
   "source": [
    "mask      = nc.Dataset('/ocean/brogalla/GEOTRACES/data/ANHA12/ANHA12_mesh1.nc')\n",
    "tmask     = np.array(mask.variables['tmask'])[0,:,imin:imax,jmin:jmax]\n",
    "land_mask = np.ma.masked_where((tmask[:,:,:] > 0.1), tmask[:,:,:]) \n",
    "\n",
    "e1t_base   = np.array(mask.variables['e1t'])[0,imin:imax,jmin:jmax]\n",
    "e2t_base   = np.array(mask.variables['e2t'])[0,imin:imax,jmin:jmax]\n",
    "e3t        = np.array(mask.variables['e3t_0'])[0,:,imin:imax,jmin:jmax]\n",
    "e3t_masked = np.ma.masked_where((tmask[:,:,:] < 0.1), e3t)\n",
    "\n",
    "e1t       = np.tile(e1t_base, (50,1,1))\n",
    "e2t       = np.tile(e2t_base, (50,1,1))\n",
    "volume    = e1t*e2t*e3t\n",
    "area_base = e1t_base*e2t_base\n",
    "volume_masked = np.ma.masked_where((tmask[:,:,:] < 0.1), volume)\n",
    "area_masked   = np.ma.masked_where((tmask[0,:,:] < 0.1), area_base)\n",
    "\n",
    "lons  = np.array(mask.variables['nav_lon'])[imin:imax,jmin:jmax]\n",
    "lats  = np.array(mask.variables['nav_lat'])[imin:imax,jmin:jmax]\n",
    "depth = np.array(mask.variables['hdept'])[:,imin:imax,jmin:jmax]"
   ]
  },
  {
   "cell_type": "code",
   "execution_count": 4,
   "metadata": {},
   "outputs": [],
   "source": [
    "months = ['Jan', 'Feb', 'Mar', 'Apr', 'May', 'Jun', 'Jul', 'Aug', 'Sep', 'Oct', 'Nov', 'Dec']"
   ]
  },
  {
   "cell_type": "markdown",
   "metadata": {},
   "source": [
    "##### Functions:"
   ]
  },
  {
   "cell_type": "code",
   "execution_count": 5,
   "metadata": {},
   "outputs": [],
   "source": [
    "def load_results(folder_ref, year):\n",
    "    \n",
    "    months  = ['01', '02', '03', '04', '05', '06', '07', '08', '09', '10', '11', '12']\n",
    "    dmn_riv = np.empty((12,isize,jsize))   ; dmn_sed = np.empty((12,isize,jsize)); \n",
    "    dmn_atm = np.empty((12,isize,jsize))   ; dmn_ice = np.empty((12,isize,jsize));\n",
    "    dmn_sedice = np.empty((12,isize,jsize));\n",
    "    dmn_red = np.empty((12,50,isize,jsize)); dmn_oxi = np.empty((12,50,isize,jsize))\n",
    "    \n",
    "    for i, month in enumerate(months):\n",
    "        file        = f'ANHA12_EXH006_1m_{year}0101_{year}1231_comp_{year}{month}-{year}{month}.nc'\n",
    "        ref_monthly = nc.Dataset(folder_ref+file)\n",
    "        \n",
    "        dmn_riv[i,:,:]    = np.array(ref_monthly.variables['dmnriv'])[0,:,:]\n",
    "        dmn_sed[i,:,:]    = np.array(ref_monthly.variables['dmnsed'])[0,:,:]\n",
    "        dmn_sedice[i,:,:] = np.array(ref_monthly.variables['dmnsedice'])[0,:,:]\n",
    "        dmn_atm[i,:,:]    = np.array(ref_monthly.variables['dmnatm'])[0,:,:]\n",
    "        dmn_ice[i,:,:]    = np.array(ref_monthly.variables['dmnice'])[0,:,:]\n",
    "        dmn_red[i,:,:,:]  = np.array(ref_monthly.variables['dmnred'])[0,:,:,:]\n",
    "        dmn_oxi[i,:,:,:]  = np.array(ref_monthly.variables['dmnoxi'])[0,:,:,:]\n",
    "    \n",
    "    tmask_surf    = np.empty(dmn_riv.shape)\n",
    "    tmask_surf[:] = tmask[0,:,:]\n",
    "    tmask_full    = np.empty(dmn_red.shape)\n",
    "    tmask_full[:] = tmask\n",
    "    \n",
    "    # Mask points on land:\n",
    "    dmn_mriv    = np.ma.masked_where((tmask_surf < 0.1), dmn_riv); \n",
    "    dmn_msed    = np.ma.masked_where((tmask_surf < 0.1), dmn_sed)\n",
    "    dmn_msedice = np.ma.masked_where((tmask_surf < 0.1), dmn_sedice)\n",
    "    dmn_matm    = np.ma.masked_where((tmask_surf < 0.1), dmn_atm)\n",
    "    dmn_mice    = np.ma.masked_where((tmask_surf < 0.1), dmn_ice)\n",
    "    dmn_mred    = np.ma.masked_where((tmask_full < 0.1), dmn_red)\n",
    "    dmn_moxi    = np.ma.masked_where((tmask_full < 0.1), dmn_oxi)\n",
    "\n",
    "    return dmn_mriv, dmn_msed, dmn_msedice, dmn_matm, dmn_mice, dmn_mred , dmn_moxi"
   ]
  },
  {
   "cell_type": "code",
   "execution_count": 6,
   "metadata": {},
   "outputs": [],
   "source": [
    "def plot_year_importance(fig, ax, proj1):\n",
    "    \n",
    "    x, y = proj1(lons, lats)\n",
    "    \n",
    "    axes=[ax[0,0], ax[0,1], ax[0,2], ax[0,3], \\\n",
    "          ax[1,0], ax[1,1], ax[1,2], ax[1,3], \\\n",
    "          ax[2,0], ax[2,1], ax[2,2], ax[2,3]]\n",
    "    \n",
    "    for month in range(0,12):\n",
    "        riv_imp, sed_imp, sice_imp, red_imp, ice_imp, atm_imp = comp_importance(month, spatial)\n",
    "        \n",
    "        sz = 0.1\n",
    "    \n",
    "        proj1.plot(x[~atm_imp.mask], y[~atm_imp.mask],'p', markersize=sz,c=colors[0], ax=axes[month]  , zorder=2)\n",
    "        proj1.plot(x[~red_imp.mask], y[~red_imp.mask],'p', markersize=sz, c=colors[2], ax=axes[month] , zorder=2)\n",
    "        proj1.plot(x[~sed_imp.mask], y[~sed_imp.mask],'p', markersize=sz, c=colors[3], ax=axes[month] , zorder=2)\n",
    "        proj1.plot(x[~ice_imp.mask], y[~ice_imp.mask],'p', markersize=sz, c=colors[4], ax=axes[month] , zorder=2)\n",
    "        proj1.plot(x[~sice_imp.mask], y[~sice_imp.mask],'p', markersize=sz, c=colors[5], ax=axes[month],zorder=2)\n",
    "        proj1.plot(x[~riv_imp.mask], y[~riv_imp.mask],'p', markersize=sz, c=colors[1], ax=axes[month] , zorder=2)\n",
    "        \n",
    "        proj1.plot(x[-1,300:-1], y[-1,300:-1], '-w', linewidth=3, ax=axes[month])\n",
    "        proj1.plot(x[0,360:500], y[0,360:500], '-w', linewidth=3, ax=axes[month])\n",
    "        proj1.plot(x[150:-1,-1], y[150:-1,-1], '-w', linewidth=3, ax=axes[month])\n",
    "        \n",
    "        proj1.contourf(x, y, land_mask[0,:,:], vmax=0.3, ax=axes[month], \\\n",
    "                       cmap=matplotlib.colors.ListedColormap([\"#8b7765\"]), zorder=3)\n",
    "        \n",
    "        axes[month].set_title(months[month])\n",
    "    \n",
    "    return"
   ]
  },
  {
   "cell_type": "code",
   "execution_count": 7,
   "metadata": {},
   "outputs": [],
   "source": [
    "def comp_importance(month, spatial, output=False): \n",
    "    \n",
    "    riv_prop    = spatial[0,:,:,:]\n",
    "    sed_prop    = spatial[1,:,:,:]\n",
    "    sedice_prop = spatial[2,:,:,:]\n",
    "    ice_prop    = spatial[3,:,:,:]\n",
    "    atm_prop    = spatial[4,:,:,:]\n",
    "    red_prop    = spatial[5,:,:,:]\n",
    "    oxi_prop    = spatial[6,:,:,:]\n",
    "    scav_prop   = red_prop - oxi_prop\n",
    "                                                 \n",
    "    # Rivers\n",
    "    riv_imp = np.ma.masked_where((riv_prop[month,:,:] < sed_prop[month,:,:]), riv_prop[month,:,:])\n",
    "    riv_imp = np.ma.masked_where((riv_imp[:,:] < sedice_prop[month,:,:]), riv_imp[:,:])\n",
    "    riv_imp = np.ma.masked_where((riv_imp[:,:] < atm_prop[month,:,:])   , riv_imp[:,:])\n",
    "    riv_imp = np.ma.masked_where((riv_imp[:,:] < ice_prop[month,:,:])   , riv_imp[:,:])\n",
    "    riv_imp = np.ma.masked_where((riv_imp[:,:] < scav_prop[month,:,:])   , riv_imp[:,:])\n",
    "\n",
    "    # Sediment release from ice\n",
    "    sice_imp = np.ma.masked_where((sedice_prop[month,:,:] < riv_prop[month,:,:]), sedice_prop[month,:,:])\n",
    "    sice_imp = np.ma.masked_where((sice_imp[:,:] < sed_prop[month,:,:]) , sice_imp[:,:])\n",
    "    sice_imp = np.ma.masked_where((sice_imp[:,:] < atm_prop[month,:,:]) , sice_imp[:,:])\n",
    "    sice_imp = np.ma.masked_where((sice_imp[:,:] < ice_prop[month,:,:]) , sice_imp[:,:])\n",
    "    sice_imp = np.ma.masked_where((sice_imp[:,:] < scav_prop[month,:,:]) , sice_imp[:,:])\n",
    "    \n",
    "    # Sediment resuspension\n",
    "    sed_imp = np.ma.masked_where((sed_prop[month,:,:] < riv_prop[month,:,:]), sed_prop[month,:,:])\n",
    "    sed_imp = np.ma.masked_where((sed_imp[:,:] < sedice_prop[month,:,:]), sed_imp[:,:])\n",
    "    sed_imp = np.ma.masked_where((sed_imp[:,:] < atm_prop[month,:,:])   , sed_imp[:,:])\n",
    "    sed_imp = np.ma.masked_where((sed_imp[:,:] < ice_prop[month,:,:])   , sed_imp[:,:])\n",
    "    sed_imp = np.ma.masked_where((sed_imp[:,:] < scav_prop[month,:,:])   , sed_imp[:,:])\n",
    "\n",
    "    # Reduction\n",
    "    scav_imp = np.ma.masked_where((scav_prop[month,:,:] < sed_prop[month,:,:]), scav_prop[month,:,:])\n",
    "    scav_imp = np.ma.masked_where((scav_imp[:,:]  < sedice_prop[month,:,:]), scav_imp[:,:])\n",
    "    scav_imp = np.ma.masked_where((scav_imp[:,:]  < atm_prop[month,:,:])   , scav_imp[:,:])\n",
    "    scav_imp = np.ma.masked_where((scav_imp[:,:]  < ice_prop[month,:,:])   , scav_imp[:,:])\n",
    "    scav_imp = np.ma.masked_where((scav_imp[:,:]  < riv_prop[month,:,:])   , scav_imp[:,:])\n",
    "\n",
    "    # Dust from ice\n",
    "    ice_imp = np.ma.masked_where((ice_prop[month,:,:] < sed_prop[month,:,:]), ice_prop[month,:,:])\n",
    "    ice_imp = np.ma.masked_where((ice_imp[:,:]  < sedice_prop[month,:,:]), ice_imp[:,:])\n",
    "    ice_imp = np.ma.masked_where((ice_imp[:,:]  < atm_prop[month,:,:])   , ice_imp[:,:])\n",
    "    ice_imp = np.ma.masked_where((ice_imp[:,:]  < riv_prop[month,:,:])   , ice_imp[:,:])\n",
    "    ice_imp = np.ma.masked_where((ice_imp[:,:]  < scav_prop[month,:,:])   , ice_imp[:,:])\n",
    "\n",
    "    # Dust directly from atmosphere\n",
    "    atm_imp = np.ma.masked_where((atm_prop[month,:,:] < sed_prop[month,:,:]), atm_prop[month,:,:])\n",
    "    atm_imp = np.ma.masked_where((atm_imp[:,:]  < sedice_prop[month,:,:]), atm_imp[:,:])\n",
    "    atm_imp = np.ma.masked_where((atm_imp[:,:]  < riv_prop[month,:,:])   , atm_imp[:,:])\n",
    "    atm_imp = np.ma.masked_where((atm_imp[:,:]  < ice_prop[month,:,:])   , atm_imp[:,:])\n",
    "    atm_imp = np.ma.masked_where((atm_imp[:,:]  < scav_prop[month,:,:])   , atm_imp[:,:])\n",
    "    \n",
    "    # Mask all places where the maximum contribution is very small:\n",
    "    threshold = 5e-7 #5e-8\n",
    "    riv_imp  = np.ma.masked_where((riv_imp[:,:]  < threshold), riv_imp[:,:] )\n",
    "    sice_imp = np.ma.masked_where((sice_imp[:,:] < threshold), sice_imp[:,:])\n",
    "    sed_imp  = np.ma.masked_where((sed_imp[:,:]  < threshold), sed_imp[:,:] )\n",
    "    scav_imp = np.ma.masked_where((scav_imp[:,:] < threshold), scav_imp[:,:] )\n",
    "    ice_imp  = np.ma.masked_where((ice_imp[:,:]  < threshold), ice_imp[:,:] )\n",
    "    atm_imp  = np.ma.masked_where((atm_imp[:,:]  < threshold), atm_imp[:,:] )\n",
    "\n",
    "    if output:\n",
    "        print('Rivers       --- Masked values before: ', np.ma.count_masked(riv_prop[month,:,:]), ', after: ', \\\n",
    "          np.ma.count_masked(riv_imp[:,:]))\n",
    "        print('Rivers       --- Non-masked values:    ', np.ma.count(riv_imp[:,:]))\n",
    "        print('Sediment     --- Masked values before: ', np.ma.count_masked(sed_prop[month,:,:]), ', after: ', \\\n",
    "          np.ma.count_masked(sed_imp[:,:]))\n",
    "        print('Sediment     --- Non-masked values:    ', np.ma.count(sed_imp[:,:]))\n",
    "        print('Sediment ice --- Masked values before: ', np.ma.count_masked(sedice_prop[month,:,:]), ', after: ', \\\n",
    "        np.ma.count_masked(sice_imp[:,:]))\n",
    "        print('Sediment ice --- Non-masked values:    ', np.ma.count(sice_imp[:,:]))\n",
    "        print('Reduction    --- Masked values before: ', np.ma.count_masked(scav_prop[month,:,:]), ', after: ', \\\n",
    "          np.ma.count_masked(scav_imp[:,:]))\n",
    "        print('Reduction    --- Non-masked values:    ', np.ma.count(scav_imp[:,:]))\n",
    "        print('Dust ice     --- Masked values before: ', np.ma.count_masked(ice_prop[month,:,:]), ', after: ', \\\n",
    "          np.ma.count_masked(ice_imp[:,:]))\n",
    "        print('Dust ice     --- Non-masked values:    ', np.ma.count(ice_imp[:,:]))\n",
    "        print('Dust direct  --- Masked values before: ', np.ma.count_masked(atm_prop[month,:,:]), ', after: ', \\\n",
    "          np.ma.count_masked(atm_imp[:,:]))\n",
    "        print('Dust direct  --- Non-masked values:    ', np.ma.count(atm_imp[:,:]))\n",
    "\n",
    "    return riv_imp, sed_imp, sice_imp, scav_imp, ice_imp, atm_imp"
   ]
  },
  {
   "cell_type": "code",
   "execution_count": 15,
   "metadata": {},
   "outputs": [],
   "source": [
    "def calculate_contribution(year, output=False):\n",
    "    # Calculate the contribution of the model components to Canada Basin specifically\n",
    "    \n",
    "    \n",
    "    folder_year = f'ref-{year}-202103/'\n",
    "    dmn_mriv, dmn_msed, dmn_msedice, dmn_matm, dmn_mice, dmn_mred, dmn_moxi = load_results(results_folder+\\\n",
    "                                                                                           folder_year, year)\n",
    "    # moles per second\n",
    "    riv    = dmn_mriv    * volume_masked[0,:,:] * 1e3\n",
    "    sed    = dmn_msed    * volume_bottom * 1e3\n",
    "    sedice = dmn_msedice * volume_masked[0,:,:] * 1e3\n",
    "    atm    = dmn_matm    * volume_masked[0,:,:] * 1e3\n",
    "    ice    = dmn_mice    * volume_masked[0,:,:] * 1e3\n",
    "    red    = np.ma.average(dmn_mred[:,:,:,:] * volume_masked[:,:,:]* 1e3, axis=1) \n",
    "    oxi    = np.ma.average(dmn_moxi[:,:,:,:] * volume_masked[:,:,:]* 1e3, axis=1) \n",
    "    \n",
    "    # moles per meter squared per second\n",
    "    rivm2    = dmn_mriv    * e3t_masked[0,:,:] * 1e3\n",
    "    sedm2    = dmn_msed    * e3t_bottom * 1e3\n",
    "    sedicem2 = dmn_msedice * e3t_masked[0,:,:] * 1e3\n",
    "    atmm2    = dmn_matm    * e3t_masked[0,:,:] * 1e3\n",
    "    icem2    = dmn_mice    * e3t_masked[0,:,:] * 1e3\n",
    "    redm2    = np.ma.average(dmn_mred[:,:,:,:]* e3t_masked[:,:,:]*1e3, axis=1) #average contribution over PML (0:17)\n",
    "    oxim2    = np.ma.average(dmn_moxi[:,:,:,:]* e3t_masked[:,:,:]*1e3, axis=1) #average contribution over PML\n",
    "    \n",
    "    # Total monthly contribution to domain: (moles per month)\n",
    "    atm_mnth    = np.ma.sum(atm[:,:,:], axis=(1,2))   *3600*24*30\n",
    "    riv_mnth    = np.ma.sum(riv[:,:,:], axis=(1,2))   *3600*24*30\n",
    "    sed_mnth    = np.ma.sum(sed[:,:,:], axis=(1,2))   *3600*24*30\n",
    "    sedice_mnth = np.ma.sum(sedice[:,:,:], axis=(1,2))*3600*24*30\n",
    "    ice_mnth    = np.ma.sum(ice[:,:,:], axis=(1,2))   *3600*24*30\n",
    "    red_mnth    = np.ma.sum(red[:,:,:], axis=(1,2))   *3600*24*30\n",
    "    oxi_mnth    = np.ma.sum(oxi[:,:,:], axis=(1,2))   *3600*24*30\n",
    "    \n",
    "    # Average monthly contribution over domain: (moles per meter squared per month)\n",
    "    total_area     = np.ma.sum(area_masked[:,:])\n",
    "    atmm2_mnth    =  atm_mnth    / total_area\n",
    "    rivm2_mnth    =  riv_mnth    / total_area\n",
    "    sedm2_mnth    =  sed_mnth    / total_area\n",
    "    sedicem2_mnth =  sedice_mnth / total_area\n",
    "    icem2_mnth    =  ice_mnth    / total_area\n",
    "    redm2_mnth    =  red_mnth    / total_area\n",
    "    oxim2_mnth    =  oxi_mnth    / total_area\n",
    "    \n",
    "    # Average monthly contribution over domain: (moles per meter squared per month)\n",
    "#     atmm2_mnth    = np.ma.average(atmm2[:,:,:], axis=(1,2))   *3600*24*30\n",
    "#     rivm2_mnth    = np.ma.average(rivm2[:,:,:], axis=(1,2))   *3600*24*30\n",
    "#     sedm2_mnth    = np.ma.average(sedm2[:,:,:], axis=(1,2))   *3600*24*30\n",
    "#     sedicem2_mnth = np.ma.average(sedicem2[:,:,:], axis=(1,2))*3600*24*30\n",
    "#     icem2_mnth    = np.ma.average(icem2[:,:,:], axis=(1,2))   *3600*24*30\n",
    "#     redm2_mnth    = np.ma.average(redm2[:,:,:], axis=(1,2))   *3600*24*30\n",
    "#     oxim2_mnth    = np.ma.average(oxim2[:,:,:], axis=(1,2))   *3600*24*30\n",
    "\n",
    "    total_monthly_contribution = np.vstack((riv_mnth, sed_mnth, sedice_mnth, ice_mnth, \\\n",
    "                                            atm_mnth, red_mnth, oxi_mnth))           # mol/mnth\n",
    "    ave_monthly_contribution   = np.vstack((rivm2_mnth, sedm2_mnth, sedicem2_mnth, icem2_mnth, \\\n",
    "                                            atmm2_mnth, redm2_mnth, oxim2_mnth))     # mol/m2/mnth\n",
    "    monthly_contribution = np.vstack((rivm2*3600*24*30, sedm2*3600*24*30, sedicem2*3600*24*30, icem2*3600*24*30, \\\n",
    "                                      atmm2*3600*24*30, redm2*3600*24*30, oxim2*3600*24*30))\n",
    "    \n",
    "    monthly_contribution = monthly_contribution.reshape(7, 12, isize, jsize)\n",
    "    \n",
    "    return total_monthly_contribution, ave_monthly_contribution, monthly_contribution"
   ]
  },
  {
   "cell_type": "markdown",
   "metadata": {},
   "source": [
    "##### Calculations:"
   ]
  },
  {
   "cell_type": "markdown",
   "metadata": {},
   "source": [
    "Calculate the moles of Mn contributed to each grid cell"
   ]
  },
  {
   "cell_type": "code",
   "execution_count": 9,
   "metadata": {},
   "outputs": [],
   "source": [
    "tmask_bot = np.copy(tmask)\n",
    "tmask_bot[0,:,:] = 1\n",
    "e3t_mask = np.ma.masked_where((tmask_bot[:,:,:] < 0.1), e3t[:,:,:])\n",
    "\n",
    "# find bottom grid cell index:\n",
    "ind = np.array(np.ma.notmasked_edges(e3t_mask[:,:,:], axis=0))\n",
    "\n",
    "# array of shape (isize, jsize) containing bottom grid cell index\n",
    "index_bottom = np.ma.masked_where((tmask[0,:,:] < 0.1), ind[1][0][:].reshape(isize,jsize))"
   ]
  },
  {
   "cell_type": "code",
   "execution_count": 10,
   "metadata": {},
   "outputs": [],
   "source": [
    "e3t_bot = np.zeros((isize,jsize))\n",
    "vol_bot = np.zeros((isize,jsize))\n",
    "\n",
    "for i in range(0, isize):\n",
    "    for j in range(0,jsize):\n",
    "        k = index_bottom[i,j]\n",
    "        try:\n",
    "            e3t_bot[i,j] = e3t[k,i,j]\n",
    "            vol_bot[i,j] = volume[k,i,j]\n",
    "        except:\n",
    "            e3t_bot[i,j] = np.nan\n",
    "            vol_bot[i,j] = np.nan\n",
    "        \n",
    "e3t_bottom    = np.ma.masked_where((tmask[0,:,:] < 0.1), np.ma.masked_where(np.isnan(e3t_bot), e3t_bot))\n",
    "volume_bottom = np.ma.masked_where((tmask[0,:,:] < 0.1), np.ma.masked_where(np.isnan(vol_bot), vol_bot))"
   ]
  },
  {
   "cell_type": "code",
   "execution_count": 16,
   "metadata": {},
   "outputs": [],
   "source": [
    "total_2003, ave_2003, spatial_2003 = calculate_contribution(2003, output=False)\n",
    "total_2004, ave_2004, spatial_2004 = calculate_contribution(2004, output=False)\n",
    "total_2005, ave_2005, spatial_2005 = calculate_contribution(2005, output=False)\n",
    "total_2006, ave_2006, spatial_2006 = calculate_contribution(2006, output=False)\n",
    "total_2007, ave_2007, spatial_2007 = calculate_contribution(2007, output=False)\n",
    "total_2008, ave_2008, spatial_2008 = calculate_contribution(2008, output=False)\n",
    "total_2009, ave_2009, spatial_2009 = calculate_contribution(2009, output=False)\n",
    "total_2010, ave_2010, spatial_2010 = calculate_contribution(2010, output=False)\n",
    "total_2011, ave_2011, spatial_2011 = calculate_contribution(2011, output=False)\n",
    "total_2012, ave_2012, spatial_2012 = calculate_contribution(2012, output=False)\n",
    "total_2013, ave_2013, spatial_2013 = calculate_contribution(2013, output=False)\n",
    "total_2014, ave_2014, spatial_2014 = calculate_contribution(2014, output=False)\n",
    "total_2015, ave_2015, spatial_2015 = calculate_contribution(2015, output=False)\n",
    "total_2016, ave_2016, spatial_2016 = calculate_contribution(2016, output=False)\n",
    "total_2017, ave_2017, spatial_2017 = calculate_contribution(2017, output=False)\n",
    "total_2018, ave_2018, spatial_2018 = calculate_contribution(2018, output=False)\n",
    "total_2019, ave_2019, spatial_2019 = calculate_contribution(2019, output=False)"
   ]
  },
  {
   "cell_type": "code",
   "execution_count": 17,
   "metadata": {},
   "outputs": [],
   "source": [
    "spatial = np.vstack((spatial_2003, spatial_2004, spatial_2005, spatial_2006, spatial_2007, \\\n",
    "                     spatial_2008, spatial_2009, spatial_2010, spatial_2011, spatial_2012, \\\n",
    "                     spatial_2013, spatial_2014, spatial_2015, spatial_2016, spatial_2017, \\\n",
    "                     spatial_2018, spatial_2019))\n",
    "spatial_years = spatial.reshape(17,7,12,700,640)"
   ]
  },
  {
   "cell_type": "code",
   "execution_count": 18,
   "metadata": {},
   "outputs": [],
   "source": [
    "spatial_average = np.mean(spatial_years, axis=0)"
   ]
  },
  {
   "cell_type": "code",
   "execution_count": 19,
   "metadata": {},
   "outputs": [],
   "source": [
    "average = np.vstack((ave_2003, ave_2004, ave_2005, ave_2006, ave_2007, ave_2008, ave_2009, \\\n",
    "                     ave_2010, ave_2011, ave_2012, ave_2013, ave_2014, ave_2015, ave_2016, \\\n",
    "                     ave_2017, ave_2018, ave_2019))\n",
    "average_years = np.mean(average.reshape(17,7,12),axis=0)*1e6"
   ]
  },
  {
   "cell_type": "code",
   "execution_count": 20,
   "metadata": {},
   "outputs": [],
   "source": [
    "total = np.vstack((total_2003, total_2004, total_2005, total_2006, total_2007, total_2008, total_2009, \\\n",
    "                   total_2010, total_2011, total_2012, total_2013, total_2014, total_2015, total_2016, \\\n",
    "                   total_2017, total_2018, total_2019))\n",
    "total_years = np.mean(average.reshape(17,7,12),axis=0)*1e6"
   ]
  },
  {
   "cell_type": "markdown",
   "metadata": {},
   "source": [
    "##### Bar plot of monthly components\n",
    "\n",
    "- consider either: averaging scavenging over the full water column OR sediment resuspension into the PML, not both."
   ]
  },
  {
   "cell_type": "code",
   "execution_count": 22,
   "metadata": {},
   "outputs": [
    {
     "data": {
      "image/png": "[encoded data removed]",
      "text/plain": [
       "<Figure size 388.8x266.4 with 1 Axes>"
      ]
     },
     "metadata": {
      "needs_background": "light"
     },
     "output_type": "display_data"
    }
   ],
   "source": [
    "fig = plt.figure(figsize=(7,5))\n",
    "st  = sns.axes_style(\"whitegrid\")\n",
    "\n",
    "with st:\n",
    "    # sediment:\n",
    "    icp= sns.barplot(months, average_years[5,:] + average_years[2,:] + average_years[4,:] + \\\n",
    "                     average_years[0,:] + average_years[3,:] + average_years[1,:],\\\n",
    "                     color=colors[3], edgecolor=\".2\", label='Sediment resuspension')\n",
    "    # ice:\n",
    "    rip= sns.barplot(months, average_years[5,:] + average_years[2,:] + average_years[4,:] + \\\n",
    "                     average_years[0,:] + average_years[3,:], \\\n",
    "                     color=colors[4], edgecolor=\".2\", label='Dust released by ice')\n",
    "    # rivers:\n",
    "    sep= sns.barplot(months, average_years[5,:] + average_years[2,:] + average_years[4,:] + average_years[0,:], \\\n",
    "                     color=colors[1], edgecolor=\".2\", label='Rivers')\n",
    "    # dust:\n",
    "    dup= sns.barplot(months, average_years[5,:] + average_years[2,:] + average_years[4,:], \\\n",
    "                     color=colors[0], edgecolor=\".2\", label='Dust deposition')\n",
    "    \n",
    "    # sediment in ice:\n",
    "    icp= sns.barplot(months, average_years[5,:] + average_years[2,:], \\\n",
    "                     color=colors[5], edgecolor=\".2\", label='Sediment released by ice') \n",
    "\n",
    "    # Scavenging:\n",
    "    scp= sns.barplot(months, average_years[5,:], color=colors[2], edgecolor=\".2\", label='Scavenging') \n",
    "    scn= sns.barplot(months, -average_years[6,:], color=colors[2], edgecolor=\".2\") \n",
    "    \n",
    "    icp.set_ylabel(r'dMn contributed [$\\mu$mol m$^{-2}$ mo$^{-1}$]', fontsize=8)\n",
    "    icp.set(ylim=(-50,170))\n",
    "    icp.tick_params(axis='both', which='major', labelsize=8)\n",
    "    icp.spines['left'].set_linewidth(1.2);   icp.spines['left'].set_color('black');\n",
    "    icp.spines['bottom'].set_linewidth(1.2); icp.spines['bottom'].set_color('black');\n",
    "    icp.spines['right'].set_linewidth(1.2);  icp.spines['right'].set_color('black');\n",
    "    icp.spines['top'].set_linewidth(1.2);    icp.spines['top'].set_color('black');    \n",
    "    \n",
    "    icp.legend(loc=(0.01, 0.60), fontsize=8, frameon=False)\n",
    "    \n",
    "figure = plt.gcf()\n",
    "figure.set_size_inches(4.5*1.2, 3.7)    \n",
    "figure.savefig('/ocean/brogalla/GEOTRACES/figures/paper1-202104/R4a-budget.png', \\\n",
    "               bbox_inches='tight', dpi=300)\n",
    "figure.savefig('/ocean/brogalla/GEOTRACES/figures/paper1-202104/R4a-budget.svg', \\\n",
    "               bbox_inches='tight', dpi=300, format='svg')"
   ]
  },
  {
   "cell_type": "code",
   "execution_count": 29,
   "metadata": {},
   "outputs": [
    {
     "data": {
      "image/png": "[encoded data removed]",
      "text/plain": [
       "<Figure size 388.8x266.4 with 1 Axes>"
      ]
     },
     "metadata": {
      "needs_background": "light"
     },
     "output_type": "display_data"
    }
   ],
   "source": [
    "fig = plt.figure(figsize=(7,5))\n",
    "st  = sns.axes_style(\"whitegrid\")\n",
    "\n",
    "with st:\n",
    "    # sediment:\n",
    "    icp= sns.barplot(months, total_years[5,:] + total_years[2,:] + total_years[4,:] + \\\n",
    "                     total_years[0,:] + total_years[3,:] + total_years[1,:],\\\n",
    "                     color=colors[3], edgecolor=\".2\", label='Sediment resuspension')\n",
    "    # ice:\n",
    "    rip= sns.barplot(months, total_years[5,:] + total_years[2,:] + total_years[4,:] + \\\n",
    "                     total_years[0,:] + total_years[3,:], \\\n",
    "                     color=colors[4], edgecolor=\".2\", label='Dust released by ice')\n",
    "    # rivers:\n",
    "    sep= sns.barplot(months, total_years[5,:] + total_years[2,:] + total_years[4,:] + total_years[0,:], \\\n",
    "                     color=colors[1], edgecolor=\".2\", label='Rivers')\n",
    "    # dust:\n",
    "    dup= sns.barplot(months, total_years[5,:] + total_years[2,:] + total_years[4,:], \\\n",
    "                     color=colors[0], edgecolor=\".2\", label='Dust deposition')\n",
    "    \n",
    "    # sediment in ice:\n",
    "    icp= sns.barplot(months, total_years[5,:] + total_years[2,:], \\\n",
    "                     color=colors[5], edgecolor=\".2\", label='Sediment released by ice') \n",
    "\n",
    "    # Scavenging:\n",
    "    scp= sns.barplot(months, total_years[5,:], color=colors[2], edgecolor=\".2\", label='Scavenging') \n",
    "    scn= sns.barplot(months, -total_years[6,:], color=colors[2], edgecolor=\".2\") \n",
    "    \n",
    "    icp.set_ylabel(r'dMn contributed [$\\mu$mol m$^{-2}$ mo$^{-1}$]', fontsize=8)\n",
    "    icp.set(ylim=(-50,170))\n",
    "    icp.tick_params(axis='both', which='major', labelsize=8)\n",
    "    icp.spines['left'].set_linewidth(1.2);   icp.spines['left'].set_color('black');\n",
    "    icp.spines['bottom'].set_linewidth(1.2); icp.spines['bottom'].set_color('black');\n",
    "    icp.spines['right'].set_linewidth(1.2);  icp.spines['right'].set_color('black');\n",
    "    icp.spines['top'].set_linewidth(1.2);    icp.spines['top'].set_color('black');    \n",
    "    \n",
    "    icp.legend(loc=(0.01, 0.60), fontsize=8, frameon=False)\n",
    "    \n",
    "figure = plt.gcf()\n",
    "figure.set_size_inches(4.5*1.2, 3.7)    \n",
    "# figure.savefig('/ocean/brogalla/GEOTRACES/figures/paper1/R4a-budget.png', \\\n",
    "#                bbox_inches='tight', dpi=300)\n",
    "# figure.savefig('/ocean/brogalla/GEOTRACES/figures/paper1/R4a-budget.svg', \\\n",
    "#                bbox_inches='tight', dpi=300, format='svg')"
   ]
  },
  {
   "cell_type": "code",
   "execution_count": 84,
   "metadata": {},
   "outputs": [
    {
     "data": {
      "image/png": "[encoded data removed]",
      "text/plain": [
       "<Figure size 388.8x266.4 with 1 Axes>"
      ]
     },
     "metadata": {
      "needs_background": "light"
     },
     "output_type": "display_data"
    }
   ],
   "source": [
    "fig = plt.figure(figsize=(7,5))\n",
    "st  = sns.axes_style(\"whitegrid\")\n",
    "\n",
    "with st:\n",
    "    # sediment:\n",
    "    icp= sns.barplot(months, ave_2015[5,:] + ave_2015[2,:] + ave_2015[4,:] + \\\n",
    "                     ave_2015[0,:] + ave_2015[3,:] + ave_2015[1,:],\\\n",
    "                     color=colors[3], edgecolor=\".2\", label='Sediment resuspension')\n",
    "    # ice:\n",
    "    rip= sns.barplot(months, ave_2015[5,:] + ave_2015[2,:] + ave_2015[4,:] + \\\n",
    "                     ave_2015[0,:] + ave_2015[3,:], \\\n",
    "                     color=colors[4], edgecolor=\".2\", label='Dust released by ice')\n",
    "    # rivers:\n",
    "    sep= sns.barplot(months, ave_2015[5,:] + ave_2015[2,:] + ave_2015[4,:] + ave_2015[0,:], \\\n",
    "                     color=colors[1], edgecolor=\".2\", label='Rivers')\n",
    "    # dust:\n",
    "    dup= sns.barplot(months, ave_2015[5,:] + ave_2015[2,:] + ave_2015[4,:], \\\n",
    "                     color=colors[0], edgecolor=\".2\", label='Dust deposition')\n",
    "    \n",
    "    # sediment in ice:\n",
    "    icp= sns.barplot(months, ave_2015[5,:] + ave_2015[2,:], \\\n",
    "                     color=colors[5], edgecolor=\".2\", label='Sediment released by ice') \n",
    "\n",
    "    # Scavenging:\n",
    "    scp= sns.barplot(months, ave_2015[5,:], color=colors[2], edgecolor=\".2\", label='Scavenging') \n",
    "    scn= sns.barplot(months, -ave_2015[6,:], color=colors[2], edgecolor=\".2\") \n",
    "    \n",
    "    icp.set_ylabel(r'dMn contributed [$\\mu$mol m$^{-2}$ mo$^{-1}$]', fontsize=8)\n",
    "    icp.set(ylim=(-30,150))\n",
    "    icp.tick_params(axis='both', which='major', labelsize=8)\n",
    "    icp.spines['left'].set_linewidth(1.2);   icp.spines['left'].set_color('black');\n",
    "    icp.spines['bottom'].set_linewidth(1.2); icp.spines['bottom'].set_color('black');\n",
    "    icp.spines['right'].set_linewidth(1.2);  icp.spines['right'].set_color('black');\n",
    "    icp.spines['top'].set_linewidth(1.2);    icp.spines['top'].set_color('black');    \n",
    "    \n",
    "    icp.legend(loc=(0.03, 0.59), fontsize=8, frameon=False)\n",
    "    \n",
    "figure = plt.gcf()\n",
    "figure.set_size_inches(4.5*1.2, 3.7)    "
   ]
  },
  {
   "cell_type": "markdown",
   "metadata": {},
   "source": [
    "##### Figure of spatial variation in component importance:"
   ]
  },
  {
   "cell_type": "markdown",
   "metadata": {},
   "source": [
    "Sum the contribution of each model component over the course of a year"
   ]
  },
  {
   "cell_type": "code",
   "execution_count": 23,
   "metadata": {},
   "outputs": [
    {
     "name": "stdout",
     "output_type": "stream",
     "text": [
      "Rivers       --- Masked values before:  0 , after:  447204\n",
      "Rivers       --- Non-masked values:     796\n",
      "Sediment     --- Masked values before:  0 , after:  335993\n",
      "Sediment     --- Non-masked values:     112007\n",
      "Sediment ice --- Masked values before:  0 , after:  342012\n",
      "Sediment ice --- Non-masked values:     105988\n",
      "Reduction    --- Masked values before:  0 , after:  446162\n",
      "Reduction    --- Non-masked values:     1838\n",
      "Dust ice     --- Masked values before:  0 , after:  448000\n",
      "Dust ice     --- Non-masked values:     0\n",
      "Dust direct  --- Masked values before:  0 , after:  448000\n",
      "Dust direct  --- Non-masked values:     0\n"
     ]
    }
   ],
   "source": [
    "riv_imp, sed_imp, sedice_imp, red_imp, ice_imp, atm_imp = comp_importance(8, spatial_average, output=True)\n",
    "# riv_imp, sed_imp, sedice_imp, red_imp, ice_imp, atm_imp = comp_importance(8, spatial_2015, output=True)"
   ]
  },
  {
   "cell_type": "code",
   "execution_count": 24,
   "metadata": {},
   "outputs": [],
   "source": [
    "ice_imp = np.ma.masked_where((tmask[0,:,:] < 0.1), ice_imp)"
   ]
  },
  {
   "cell_type": "markdown",
   "metadata": {},
   "source": [
    "Only include contributions above 0.2 nM:"
   ]
  },
  {
   "cell_type": "code",
   "execution_count": 26,
   "metadata": {},
   "outputs": [
    {
     "data": {
      "image/png": "[encoded data removed]",
      "text/plain": [
       "<Figure size 388.8x266.4 with 1 Axes>"
      ]
     },
     "metadata": {},
     "output_type": "display_data"
    }
   ],
   "source": [
    "fig, ax1, proj1 = pickle.load(open('/ocean/brogalla/GEOTRACES/pickles/mn-zoom.pickle','rb'))\n",
    "\n",
    "ax1.set_frame_on(True)\n",
    "\n",
    "x, y = proj1(lons, lats)\n",
    "    \n",
    "sz = 1.2\n",
    "    \n",
    "proj1.plot(x[~atm_imp.mask], y[~atm_imp.mask],'p'  , markersize=sz, c=colors[0], zorder=2)\n",
    "proj1.plot(x[~red_imp.mask], y[~red_imp.mask],'p'  , markersize=sz, c=colors[2], zorder=2)\n",
    "proj1.plot(x[~sed_imp.mask], y[~sed_imp.mask],'p'  , markersize=sz, c=colors[3], zorder=2)\n",
    "proj1.plot(x[~ice_imp.mask], y[~ice_imp.mask],'p'  , markersize=sz, c=colors[4], zorder=2)\n",
    "proj1.plot(x[~sedice_imp.mask], y[~sedice_imp.mask],'p', markersize=sz, c=colors[5], zorder=2)\n",
    "proj1.plot(x[~riv_imp.mask], y[~riv_imp.mask],'p'  , markersize=sz, c=colors[1], zorder=2)\n",
    "\n",
    "# proj1.plot(x[:,-20:-1], y[:,-20:-1],'p'  , markersize=sz, c='w', zorder=2)\n",
    "# proj1.plot(x[1:10,240:], y[1:10,240:],'p'  , markersize=sz, c='w', zorder=2)\n",
    "# proj1.plot(x[-10:-1,270:], y[-10:-1,270:],'p'  , markersize=sz, c='w', zorder=2)\n",
    "       \n",
    "proj1.contourf(x, y, land_mask[0,:,:], vmax=0.3, cmap=matplotlib.colors.ListedColormap([\"#8b7765\"]), zorder=3)\n",
    "\n",
    "x_sub, y_sub  = proj1(lons, lats) \n",
    "proj1.plot(x_sub[:,-1]   , y_sub[:,-1]     , 'k-', lw=1.0, zorder=4)\n",
    "proj1.plot(x_sub[0,240:] , y_sub[0,240:]   , 'k-', lw=1.0, zorder=4)\n",
    "proj1.plot(x_sub[-1,310:], y_sub[-1,310:]  , 'k-', lw=1.0, zorder=4)\n",
    "\n",
    "\n",
    "figure = plt.gcf()\n",
    "figure.set_size_inches(4.5*1.2, 3.7)\n",
    "    \n",
    "figure.savefig('/ocean/brogalla/GEOTRACES/figures/paper1-202104/R4b-budget.png', \\\n",
    "               bbox_inches='tight', dpi=300)\n",
    "figure.savefig('/ocean/brogalla/GEOTRACES/figures/paper1-202104/R4b-budget.svg', \\\n",
    "               bbox_inches='tight', dpi=300, format='svg')"
   ]
  },
  {
   "cell_type": "code",
   "execution_count": 16,
   "metadata": {},
   "outputs": [],
   "source": [
    "dmn_mriv, dmn_msed, dmn_msedice, dmn_matm, dmn_mice, dmn_mred, dmn_moxi = load_results(results_folder+'ref-2015-202103/', 2015)"
   ]
  },
  {
   "cell_type": "code",
   "execution_count": 22,
   "metadata": {},
   "outputs": [
    {
     "data": {
      "text/plain": [
       "<matplotlib.contour.QuadContourSet at 0x7efde2d750f0>"
      ]
     },
     "execution_count": 22,
     "metadata": {},
     "output_type": "execute_result"
    },
    {
     "data": {
      "image/png": "[encoded data removed]",
      "text/plain": [
       "<Figure size 864x648 with 2 Axes>"
      ]
     },
     "metadata": {
      "needs_background": "light"
     },
     "output_type": "display_data"
    }
   ],
   "source": [
    "fig, ax1, proj1 = pickle.load(open('/ocean/brogalla/GEOTRACES/pickles/mn-zoom.pickle','rb'))\n",
    "\n",
    "ax1.set_frame_on(True)\n",
    "\n",
    "x, y = proj1(lons, lats)\n",
    "    \n",
    "sz = 1.5\n",
    "    \n",
    "CB1 = proj1.contourf(x, y, dmn_mred[2,0,:,:]-dmn_moxi[2,0,:,:], 20, vmin=-0.6e-14, extend='both')\n",
    "\n",
    "plt.colorbar(CB1)\n",
    "\n",
    "proj1.contourf(x, y, land_mask[0,:,:], vmax=0.3, cmap=matplotlib.colors.ListedColormap([\"#8b7765\"]), zorder=3)\n",
    "\n",
    "# fig.savefig('/ocean/brogalla/GEOTRACES/figures/R4-source-sink-map-' + \\\n",
    "#             str(date.today().strftime('%Y%m%d')) + '.png', bbox_inches='tight',dpi=300)"
   ]
  },
  {
   "cell_type": "code",
   "execution_count": null,
   "metadata": {},
   "outputs": [],
   "source": []
  }
 ],
 "metadata": {
  "kernelspec": {
   "display_name": "Python 3",
   "language": "python",
   "name": "python3"
  },
  "language_info": {
   "codemirror_mode": {
    "name": "ipython",
    "version": 3
   },
   "file_extension": ".py",
   "mimetype": "text/x-python",
   "name": "python",
   "nbconvert_exporter": "python",
   "pygments_lexer": "ipython3",
   "version": "3.6.11"
  }
 },
 "nbformat": 4,
 "nbformat_minor": 4
}
