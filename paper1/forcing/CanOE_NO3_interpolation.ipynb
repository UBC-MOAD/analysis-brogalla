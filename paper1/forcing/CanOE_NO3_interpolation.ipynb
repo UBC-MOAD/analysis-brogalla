{
 "cells": [
  {
   "cell_type": "markdown",
   "metadata": {},
   "source": [
    "# CanOE Nitrate\n",
    "\n",
    "Output from recent CanOE run provided by Hakase and Nadja. "
   ]
  },
  {
   "cell_type": "code",
   "execution_count": 1,
   "metadata": {},
   "outputs": [],
   "source": [
    "import matplotlib.pyplot as plt\n",
    "import numpy as np\n",
    "import netCDF4 as nc\n",
    "import datetime\n",
    "from mpl_toolkits.basemap import Basemap, cm\n",
    "import cmocean\n",
    "\n",
    "%matplotlib inline"
   ]
  },
  {
   "cell_type": "markdown",
   "metadata": {},
   "source": [
    "Load ANHA12 coordinate file:"
   ]
  },
  {
   "cell_type": "code",
   "execution_count": 2,
   "metadata": {},
   "outputs": [],
   "source": [
    "# Mesh:\n",
    "mesh     = nc.Dataset('/ocean/brogalla/GEOTRACES/data/ANHA12/ANHA12_mesh1.nc')\n",
    "tmask    = np.array(mesh.variables['tmask'])[0,:,:,:]\n",
    "Z_masked = np.ma.masked_where((tmask > 0.1), tmask) \n",
    "mdepth   = np.array(mesh.variables['nav_lev'])\n",
    "mlons    = np.array(mesh.variables['nav_lon'])\n",
    "mlats    = np.array(mesh.variables['nav_lat'])"
   ]
  },
  {
   "cell_type": "markdown",
   "metadata": {},
   "source": [
    "### Functions:"
   ]
  },
  {
   "cell_type": "code",
   "execution_count": 3,
   "metadata": {},
   "outputs": [],
   "source": [
    "def load_data(year):\n",
    "    folder = '/ocean/brogalla/GEOTRACES/data/bio/'\n",
    "    filename = f'NAA_730h_{year}0101_{year}1231_ptrc_T_no3.nc'\n",
    "    \n",
    "    data  = nc.Dataset(folder+filename)\n",
    "    NO3   = np.array(data.variables['no3'])\n",
    "    depth = np.array(data.variables['deptht'])\n",
    "    lat   = np.array(data.variables['nav_lat'])\n",
    "    lon   = np.array(data.variables['nav_lon'])\n",
    "    time  = np.array(data.variables['time_counter'])\n",
    "\n",
    "    return lat, lon, depth, NO3"
   ]
  },
  {
   "cell_type": "code",
   "execution_count": 4,
   "metadata": {},
   "outputs": [],
   "source": [
    "def interp_depths(var,CanOE_depth, mdepth,fill):\n",
    "    # constant extrapolation for values outside of the range\n",
    "    from scipy import interpolate\n",
    "    \n",
    "    interp_var = np.empty((12, 50, 400, 568))\n",
    "    x = CanOE_depth\n",
    "    \n",
    "    for t in range(0,12):\n",
    "        for i in range(0,400):\n",
    "            for j in range(0,568):\n",
    "                # interpolate over depths        \n",
    "                y = var[t,:,i,j]\n",
    "                f = interpolate.interp1d(x, y, fill_value = fill)\n",
    "                interp_var[t,:,i,j] = f(mdepth)\n",
    "    interp_var=np.array(interp_var)\n",
    "    return interp_var"
   ]
  },
  {
   "cell_type": "code",
   "execution_count": 5,
   "metadata": {},
   "outputs": [],
   "source": [
    "def interp_horizon(year, month, lon, lat, i_NO3, mlons=mlons, mlats=mlats):\n",
    "    NO3 = np.empty((50, 2400, 1632))\n",
    "    for i in range(0,50):\n",
    "        NO3[i,:,:] = interp_np(lon, lat, i_NO3[month-1,i,:,:], mlons, mlats)\n",
    "        \n",
    "    print(f'Saving y{year}m{month:02}')\n",
    "    save_NO3(f'/ocean/brogalla/GEOTRACES/data/bio/Mn_202110/NO3_y{year}m{month:02}.nc',NO3[:,:,:])\n",
    "    \n",
    "    return NO3\n",
    "\n",
    "def interp_np(nav_lon, nav_lat, var_in, lon_ANHA12, lat_ANHA12):\n",
    "    ''' Interpolate Mn model output from Marco to ANHA12 grid.\n",
    "        The function is based on the bilinear interpolation in scipy, griddata \n",
    "        =======================================================================\n",
    "            nav_lon, nav_lat        : Mn model lons/lats\n",
    "            lon_ANHA12, lat_ANHA12  : ANHA12 defined lons/lats\n",
    "            var_in                  : 2-D Mn model variable\n",
    "    '''\n",
    "    from scipy.interpolate import griddata\n",
    "\n",
    "    LatLonPair = (nav_lon.flatten(), nav_lat.flatten())\n",
    "    var_out = griddata(LatLonPair, var_in.flatten(), (lon_ANHA12, lat_ANHA12), method='linear')\n",
    "    # Take nearest neighbour interpolation to fill nans\n",
    "    var_fill = griddata(LatLonPair, var_in.flatten(), (lon_ANHA12, lat_ANHA12), method='nearest')\n",
    "    var_out[np.isnan(var_out)] = var_fill[np.isnan(var_out)]\n",
    "    return var_out"
   ]
  },
  {
   "cell_type": "code",
   "execution_count": 6,
   "metadata": {},
   "outputs": [],
   "source": [
    "def save_NO3(filename, field):\n",
    "    \n",
    "    ncd = nc.Dataset(filename, 'w', zlib=True)\n",
    "    \n",
    "    ncd.createDimension('x',1632)\n",
    "    ncd.createDimension('y',2400)\n",
    "    ncd.createDimension('deptht', 50)\n",
    "    \n",
    "    # variables\n",
    "    NO3_var = ncd.createVariable('NO3', 'float64', ('deptht','y','x'))\n",
    "    NO3_var.units = 'mmol/m3'\n",
    "    NO3_var.long_name = 'CanOE nitrate'  \n",
    "    NO3_var.coordinates = 'nav_lon nav_lat deptht'\n",
    "    NO3_var[:] = field\n",
    "    \n",
    "    ncd.close()\n",
    "    return"
   ]
  },
  {
   "cell_type": "code",
   "execution_count": 7,
   "metadata": {},
   "outputs": [],
   "source": [
    "def plot_sample(NO3, mlons=mlons, mlats=mlats):\n",
    "    fig,ax = plt.subplots(figsize=(15,15))\n",
    "    proj=Basemap(projection='eqdc',lat_0 = 77.5, lon_0 = -93, resolution='i', width=3.5e6, height=2.68e6)\n",
    "    proj.drawcoastlines(linestyle='-', color=[0.35, 0.35, 0.35], linewidth=1, zorder=1);\n",
    "\n",
    "    # model:\n",
    "    x, y = proj(mlons, mlats)\n",
    "\n",
    "    # plot all together:\n",
    "    CS = proj.pcolor(x, y, NO3[0,10,:,:], cmap=cmocean.cm.deep)\n",
    "    CBar = plt.colorbar(CS, shrink=0.6)\n",
    "    CBar.ax.tick_params(axis='y', length=0)\n",
    "    CBar.set_label('Interpolated NO3', fontsize=12)\n",
    "    ax.set_xlabel('Longitude')\n",
    "    ax.set_ylabel('Latitude')\n",
    "    plt.title('ANHA12 interpolation from CanOE model output')\n",
    "    return"
   ]
  },
  {
   "cell_type": "markdown",
   "metadata": {},
   "source": [
    "## Run:"
   ]
  },
  {
   "cell_type": "markdown",
   "metadata": {},
   "source": [
    "##### Choose year:"
   ]
  },
  {
   "cell_type": "code",
   "execution_count": 11,
   "metadata": {},
   "outputs": [],
   "source": [
    "year = 2016"
   ]
  },
  {
   "cell_type": "markdown",
   "metadata": {},
   "source": [
    "Load CanOE biology output:"
   ]
  },
  {
   "cell_type": "code",
   "execution_count": 12,
   "metadata": {},
   "outputs": [
    {
     "ename": "FileNotFoundError",
     "evalue": "[Errno 2] No such file or directory: b'/ocean/brogalla/GEOTRACES/data/bio/NAA_730h_20160101_20161231_ptrc_T_no3.nc'",
     "output_type": "error",
     "traceback": [
      "\u001b[0;31m---------------------------------------------------------------------------\u001b[0m",
      "\u001b[0;31mFileNotFoundError\u001b[0m                         Traceback (most recent call last)",
      "\u001b[0;32m<ipython-input-12-c5376211e4b7>\u001b[0m in \u001b[0;36m<module>\u001b[0;34m\u001b[0m\n\u001b[0;32m----> 1\u001b[0;31m \u001b[0mlat\u001b[0m\u001b[0;34m,\u001b[0m \u001b[0mlon\u001b[0m\u001b[0;34m,\u001b[0m \u001b[0mdepth\u001b[0m\u001b[0;34m,\u001b[0m \u001b[0mNO3\u001b[0m \u001b[0;34m=\u001b[0m \u001b[0mload_data\u001b[0m\u001b[0;34m(\u001b[0m\u001b[0myear\u001b[0m\u001b[0;34m)\u001b[0m\u001b[0;34m\u001b[0m\u001b[0;34m\u001b[0m\u001b[0m\n\u001b[0m",
      "\u001b[0;32m<ipython-input-3-f1f8554da287>\u001b[0m in \u001b[0;36mload_data\u001b[0;34m(year)\u001b[0m\n\u001b[1;32m      3\u001b[0m     \u001b[0mfilename\u001b[0m \u001b[0;34m=\u001b[0m \u001b[0;34mf'NAA_730h_{year}0101_{year}1231_ptrc_T_no3.nc'\u001b[0m\u001b[0;34m\u001b[0m\u001b[0;34m\u001b[0m\u001b[0m\n\u001b[1;32m      4\u001b[0m \u001b[0;34m\u001b[0m\u001b[0m\n\u001b[0;32m----> 5\u001b[0;31m     \u001b[0mdata\u001b[0m  \u001b[0;34m=\u001b[0m \u001b[0mnc\u001b[0m\u001b[0;34m.\u001b[0m\u001b[0mDataset\u001b[0m\u001b[0;34m(\u001b[0m\u001b[0mfolder\u001b[0m\u001b[0;34m+\u001b[0m\u001b[0mfilename\u001b[0m\u001b[0;34m)\u001b[0m\u001b[0;34m\u001b[0m\u001b[0;34m\u001b[0m\u001b[0m\n\u001b[0m\u001b[1;32m      6\u001b[0m     \u001b[0mNO3\u001b[0m   \u001b[0;34m=\u001b[0m \u001b[0mnp\u001b[0m\u001b[0;34m.\u001b[0m\u001b[0marray\u001b[0m\u001b[0;34m(\u001b[0m\u001b[0mdata\u001b[0m\u001b[0;34m.\u001b[0m\u001b[0mvariables\u001b[0m\u001b[0;34m[\u001b[0m\u001b[0;34m'no3'\u001b[0m\u001b[0;34m]\u001b[0m\u001b[0;34m)\u001b[0m\u001b[0;34m\u001b[0m\u001b[0;34m\u001b[0m\u001b[0m\n\u001b[1;32m      7\u001b[0m     \u001b[0mdepth\u001b[0m \u001b[0;34m=\u001b[0m \u001b[0mnp\u001b[0m\u001b[0;34m.\u001b[0m\u001b[0marray\u001b[0m\u001b[0;34m(\u001b[0m\u001b[0mdata\u001b[0m\u001b[0;34m.\u001b[0m\u001b[0mvariables\u001b[0m\u001b[0;34m[\u001b[0m\u001b[0;34m'deptht'\u001b[0m\u001b[0;34m]\u001b[0m\u001b[0;34m)\u001b[0m\u001b[0;34m\u001b[0m\u001b[0;34m\u001b[0m\u001b[0m\n",
      "\u001b[0;32mnetCDF4/_netCDF4.pyx\u001b[0m in \u001b[0;36mnetCDF4._netCDF4.Dataset.__init__\u001b[0;34m()\u001b[0m\n",
      "\u001b[0;32mnetCDF4/_netCDF4.pyx\u001b[0m in \u001b[0;36mnetCDF4._netCDF4._ensure_nc_success\u001b[0;34m()\u001b[0m\n",
      "\u001b[0;31mFileNotFoundError\u001b[0m: [Errno 2] No such file or directory: b'/ocean/brogalla/GEOTRACES/data/bio/NAA_730h_20160101_20161231_ptrc_T_no3.nc'"
     ]
    }
   ],
   "source": [
    "lat, lon, depth, NO3 = load_data(year)"
   ]
  },
  {
   "cell_type": "code",
   "execution_count": 10,
   "metadata": {},
   "outputs": [
    {
     "ename": "NameError",
     "evalue": "name 'lat' is not defined",
     "output_type": "error",
     "traceback": [
      "\u001b[0;31m---------------------------------------------------------------------------\u001b[0m",
      "\u001b[0;31mNameError\u001b[0m                                 Traceback (most recent call last)",
      "\u001b[0;32m<ipython-input-10-5dee2c3faf41>\u001b[0m in \u001b[0;36m<module>\u001b[0;34m\u001b[0m\n\u001b[0;32m----> 1\u001b[0;31m \u001b[0mprint\u001b[0m\u001b[0;34m(\u001b[0m\u001b[0mlat\u001b[0m\u001b[0;34m.\u001b[0m\u001b[0mshape\u001b[0m\u001b[0;34m)\u001b[0m\u001b[0;34m\u001b[0m\u001b[0;34m\u001b[0m\u001b[0m\n\u001b[0m\u001b[1;32m      2\u001b[0m \u001b[0mprint\u001b[0m\u001b[0;34m(\u001b[0m\u001b[0mlon\u001b[0m\u001b[0;34m.\u001b[0m\u001b[0mshape\u001b[0m\u001b[0;34m)\u001b[0m\u001b[0;34m\u001b[0m\u001b[0;34m\u001b[0m\u001b[0m\n\u001b[1;32m      3\u001b[0m \u001b[0mprint\u001b[0m\u001b[0;34m(\u001b[0m\u001b[0mdepth\u001b[0m\u001b[0;34m.\u001b[0m\u001b[0mshape\u001b[0m\u001b[0;34m)\u001b[0m\u001b[0;34m\u001b[0m\u001b[0;34m\u001b[0m\u001b[0m\n\u001b[1;32m      4\u001b[0m \u001b[0mprint\u001b[0m\u001b[0;34m(\u001b[0m\u001b[0mNO3\u001b[0m\u001b[0;34m.\u001b[0m\u001b[0mshape\u001b[0m\u001b[0;34m)\u001b[0m\u001b[0;34m\u001b[0m\u001b[0;34m\u001b[0m\u001b[0m\n",
      "\u001b[0;31mNameError\u001b[0m: name 'lat' is not defined"
     ]
    }
   ],
   "source": [
    "print(lat.shape)\n",
    "print(lon.shape)\n",
    "print(depth.shape)\n",
    "print(NO3.shape)"
   ]
  },
  {
   "cell_type": "markdown",
   "metadata": {},
   "source": [
    "First, interpolate in depth:"
   ]
  },
  {
   "cell_type": "code",
   "execution_count": 18,
   "metadata": {},
   "outputs": [
    {
     "data": {
      "text/plain": [
       "(12, 50, 400, 568)"
      ]
     },
     "execution_count": 18,
     "metadata": {},
     "output_type": "execute_result"
    }
   ],
   "source": [
    "i_NO3 = interp_depths(NO3, depth, mdepth, fill='extrapolate')\n",
    "i_NO3.shape"
   ]
  },
  {
   "cell_type": "markdown",
   "metadata": {},
   "source": [
    "Then, interpolate horizontally:"
   ]
  },
  {
   "cell_type": "markdown",
   "metadata": {},
   "source": [
    "Based off notebook found at: https://github.com/phaustin/numeric/blob/master/demonstrations/joblib_parallel/joblib_example.ipynb"
   ]
  },
  {
   "cell_type": "code",
   "execution_count": 19,
   "metadata": {},
   "outputs": [],
   "source": [
    "def joblib_solver(interp_horizon,year,month,lon,lat,i_NO3):\n",
    "    interp = interp_horizon(year,month,lon,lat,i_NO3) \n",
    "    return interp"
   ]
  },
  {
   "cell_type": "code",
   "execution_count": 20,
   "metadata": {},
   "outputs": [],
   "source": [
    "months=np.arange(1,13)\n",
    "joblist=[]\n",
    "for month in months:\n",
    "    positional_args=[interp_horizon,year,month,lon,lat,i_NO3]\n",
    "    keyword_args={}\n",
    "    joblist.append((joblib_solver,positional_args,keyword_args))"
   ]
  },
  {
   "cell_type": "code",
   "execution_count": 21,
   "metadata": {},
   "outputs": [
    {
     "name": "stdout",
     "output_type": "stream",
     "text": [
      "Saving y2015m03\n",
      "Saving y2015m01\n",
      "Saving y2015m05\n",
      "Saving y2015m02\n",
      "Saving y2015m04\n",
      "Saving y2015m06\n",
      "Saving y2015m09\n",
      "Saving y2015m07\n",
      "Saving y2015m12\n",
      "Saving y2015m10\n",
      "Saving y2015m11\n",
      "Saving y2015m08\n"
     ]
    }
   ],
   "source": [
    "from joblib import Parallel\n",
    "ncores=6\n",
    "with Parallel(n_jobs=ncores,backend='threading') as parallel:\n",
    "    results=parallel(joblist)"
   ]
  },
  {
   "cell_type": "code",
   "execution_count": null,
   "metadata": {},
   "outputs": [],
   "source": [
    "a = np.array(results)\n",
    "a.shape"
   ]
  },
  {
   "cell_type": "markdown",
   "metadata": {},
   "source": [
    "Check that there are no NaN values:"
   ]
  },
  {
   "cell_type": "code",
   "execution_count": null,
   "metadata": {},
   "outputs": [],
   "source": [
    "print(np.count_nonzero(np.isnan(a)))"
   ]
  },
  {
   "cell_type": "markdown",
   "metadata": {},
   "source": [
    "Plot sample output field:"
   ]
  },
  {
   "cell_type": "code",
   "execution_count": null,
   "metadata": {},
   "outputs": [],
   "source": [
    "plot_sample(a)"
   ]
  },
  {
   "cell_type": "markdown",
   "metadata": {},
   "source": [
    "save to NetCDF file:"
   ]
  },
  {
   "cell_type": "code",
   "execution_count": null,
   "metadata": {},
   "outputs": [],
   "source": [
    "for i in range(0,12):\n",
    "    save_NO3(f'/ocean/brogalla/GEOTRACES/data/bio/20211001_NO3_y{year}m{i+1}.nc',a[i,:,:,:])"
   ]
  },
  {
   "cell_type": "markdown",
   "metadata": {},
   "source": [
    "###  In case you want to look at all input fields:"
   ]
  },
  {
   "cell_type": "code",
   "execution_count": null,
   "metadata": {},
   "outputs": [],
   "source": [
    "NO3 = i_NO3\n",
    "\n",
    "fig = plt.figure(figsize=(12,12))\n",
    "ax1 = plt.subplot2grid((4, 3), (0, 0)) \n",
    "ax2 = plt.subplot2grid((4, 3), (0, 1)) \n",
    "ax3 = plt.subplot2grid((4, 3), (0, 2)) \n",
    "ax4 = plt.subplot2grid((4, 3), (1, 0)) \n",
    "ax5 = plt.subplot2grid((4, 3), (1, 1)) \n",
    "ax6 = plt.subplot2grid((4, 3), (1, 2)) \n",
    "ax7 = plt.subplot2grid((4, 3), (2, 0)) \n",
    "ax8 = plt.subplot2grid((4, 3), (2, 1)) \n",
    "ax9 = plt.subplot2grid((4, 3), (2, 2)) \n",
    "ax10 = plt.subplot2grid((4, 3), (3, 0)) \n",
    "ax11 = plt.subplot2grid((4, 3), (3, 1)) \n",
    "ax12 = plt.subplot2grid((4, 3), (3, 2)) \n",
    "\n",
    "m=Basemap(projection='eqdc',lat_0 = 77.5, lon_0 = -93, resolution='i', width=3.5e6, height=2.68e6)\n",
    "x1, y1 = m(lon,lat)\n",
    "x2, y2 = m(mlons, mlats)\n",
    "x2 = x2[::4,::4]\n",
    "y2 = y2[::4,::4]\n",
    "z2 = Z_masked[0,::4,::4]\n",
    "\n",
    "m.pcolor(x1,y1,NO3[0,0,:,:], cmap=cmocean.cm.deep, vmin=0, vmax=75, ax=ax1)\n",
    "ax1.set_title('Month 1')\n",
    "m.pcolor(x2,y2,z2, vmin=-1, vmax = 0.3, cmap=cmocean.cm.matter_r, ax=ax1)    \n",
    "m.pcolor(x1,y1,NO3[1,0,:,:], cmap=cmocean.cm.deep, vmin=0, vmax=75, ax=ax2)\n",
    "m.pcolor(x2,y2,z2, vmin=-1, vmax = 0.3, cmap=cmocean.cm.matter_r, ax=ax2)    \n",
    "ax2.set_title('Month 2')\n",
    "d=m.pcolor(x1,y1,NO3[2,0,:,:], cmap=cmocean.cm.deep, vmin=0, vmax=75, ax=ax3)\n",
    "m.pcolor(x2,y2,z2, vmin=-1, vmax = 0.3, cmap=cmocean.cm.matter_r, ax=ax3) \n",
    "ax3.set_title('Month 3')\n",
    "cbaxes = fig.add_axes([0.975, 0.15, 0.02, 0.7]) \n",
    "CBar = plt.colorbar(d, ax=ax3, cax=cbaxes) \n",
    "a = CBar.set_label('NO3', fontsize=16)\n",
    "CBar.ax.tick_params(axis='y', length=0, labelsize=16)\n",
    "\n",
    "m.pcolor(x1,y1,NO3[3,0,:,:], cmap=cmocean.cm.deep, vmin=0, vmax=75, ax=ax4)\n",
    "m.pcolor(x2,y2,z2, vmin=-1, vmax = 0.3, cmap=cmocean.cm.matter_r, ax=ax4) \n",
    "ax4.set_title('Month 4')\n",
    "m.pcolor(x1,y1,NO3[4,0,:,:], cmap=cmocean.cm.deep, vmin=0, vmax=75, ax=ax5)\n",
    "m.pcolor(x2,y2,z2, vmin=-1, vmax = 0.3, cmap=cmocean.cm.matter_r, ax=ax5) \n",
    "ax5.set_title('Month 5')\n",
    "m.pcolor(x1,y1,NO3[5,0,:,:], cmap=cmocean.cm.deep, vmin=0, vmax=75, ax=ax6)\n",
    "m.pcolor(x2,y2,z2, vmin=-1, vmax = 0.3, cmap=cmocean.cm.matter_r, ax=ax6) \n",
    "ax6.set_title('Month 6')\n",
    "m.pcolor(x1,y1,NO3[6,0,:,:], cmap=cmocean.cm.deep, vmin=0, vmax=75, ax=ax7)\n",
    "m.pcolor(x2,y2,z2, vmin=-1, vmax = 0.3, cmap=cmocean.cm.matter_r, ax=ax7) \n",
    "ax7.set_title('Month 7')\n",
    "m.pcolor(x1,y1,NO3[7,0,:,:], cmap=cmocean.cm.deep, vmin=0, vmax=75, ax=ax8)\n",
    "m.pcolor(x2,y2,z2, vmin=-1, vmax = 0.3, cmap=cmocean.cm.matter_r, ax=ax8) \n",
    "ax8.set_title('Month 8')\n",
    "m.pcolor(x1,y1,NO3[8,0,:,:], cmap=cmocean.cm.deep, vmin=0, vmax=75, ax=ax9)\n",
    "m.pcolor(x2,y2,z2, vmin=-1, vmax = 0.3, cmap=cmocean.cm.matter_r, ax=ax9) \n",
    "ax9.set_title('Month 9')\n",
    "m.pcolor(x1,y1,NO3[9,0,:,:], cmap=cmocean.cm.deep, vmin=0, vmax=75, ax=ax10)\n",
    "m.pcolor(x2,y2,z2, vmin=-1, vmax = 0.3, cmap=cmocean.cm.matter_r, ax=ax10) \n",
    "ax10.set_title('Month 10')\n",
    "m.pcolor(x1,y1,NO3[10,0,:,:], cmap=cmocean.cm.deep, vmin=0, vmax=75, ax=ax11)\n",
    "m.pcolor(x2,y2,z2, vmin=-1, vmax = 0.3, cmap=cmocean.cm.matter_r, ax=ax11) \n",
    "ax11.set_title('Month 11')\n",
    "m.pcolor(x1,y1,NO3[11,0,:,:], cmap=cmocean.cm.deep, vmin=0, vmax=75, ax=ax12)\n",
    "m.pcolor(x2,y2,z2, vmin=-1, vmax = 0.3, cmap=cmocean.cm.matter_r, ax=ax12) \n",
    "ax12.set_title('Month 12')"
   ]
  }
 ],
 "metadata": {
  "kernelspec": {
   "display_name": "Python 3",
   "language": "python",
   "name": "python3"
  },
  "language_info": {
   "codemirror_mode": {
    "name": "ipython",
    "version": 3
   },
   "file_extension": ".py",
   "mimetype": "text/x-python",
   "name": "python",
   "nbconvert_exporter": "python",
   "pygments_lexer": "ipython3",
   "version": "3.6.11"
  }
 },
 "nbformat": 4,
 "nbformat_minor": 4
}
