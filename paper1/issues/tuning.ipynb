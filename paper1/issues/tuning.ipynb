{
 "cells": [
  {
   "cell_type": "markdown",
   "metadata": {},
   "source": [
    "### Scatter plot comparisons"
   ]
  },
  {
   "cell_type": "code",
   "execution_count": 1,
   "metadata": {},
   "outputs": [],
   "source": [
    "import numpy as np\n",
    "import matplotlib.pyplot as plt\n",
    "import netCDF4 as nc\n",
    "import pandas as pd\n",
    "import pickle\n",
    "import seaborn as sns\n",
    "import xarray as xr\n",
    "import cmocean\n",
    "import geo_tools\n",
    "import warnings\n",
    "warnings.filterwarnings('ignore')\n",
    "\n",
    "%matplotlib inline"
   ]
  },
  {
   "cell_type": "markdown",
   "metadata": {},
   "source": [
    "##### Parameters"
   ]
  },
  {
   "cell_type": "markdown",
   "metadata": {},
   "source": [
    "Tuning sets:\n",
    "- sink06_sedice075_2015: sediment in ice = 0.75, resuspension_constant = 1.0, gamma = 0.065, sinking = 0.6\n",
    "- sink06_sedice085_2015: sediment in ice = 0.85, resuspension_constant = 0.65, gamma = 0.065, sinking = 0.6\n",
    "- sink06_resus04_2015  : sediment in ice = 0.85, resuspension_constant = 0.4, gamma = 0.065, sinking = 0.6"
   ]
  },
  {
   "cell_type": "code",
   "execution_count": 2,
   "metadata": {},
   "outputs": [],
   "source": [
    "# domain dimensions:\n",
    "imin, imax = 1480, 2180\n",
    "jmin, jmax = 160, 800\n",
    "\n",
    "month   = 8\n",
    "\n",
    "# results to load:\n",
    "oldref_2015           = '/data/brogalla/run_storage/Mn-reference-202103/ref-2015-202103/ANHA12_EXH006_2015_monthly.nc'\n",
    "sink06_sedice075_2015 = '/data/brogalla/run_storage/ANHA12_ref-2015_20210630/ANHA12_EXH006_2015_monthly.nc'\n",
    "sink06_sedice085_2015 = '/data/brogalla/run_storage/ANHA12_ref-2015_20210708/ANHA12_EXH006_2015_monthly.nc'\n",
    "sink06_resus04_2015   = '/data/brogalla/run_storage/ANHA12_ref-2015_20210710/ANHA12_EXH006_2015_monthly.nc'\n",
    "\n",
    "# colours:\n",
    "c_continent    = '#ce9169'\n",
    "c_glacier      = '#36ab92'\n",
    "c_other        = '#a6a6a6'\n",
    "land_color     = \"#8b7765\"\n",
    "\n",
    "file_list = [sink06_sedice075_2015, sink06_sedice085_2015, sink06_resus04_2015]"
   ]
  },
  {
   "cell_type": "markdown",
   "metadata": {},
   "source": [
    "##### Load files"
   ]
  },
  {
   "cell_type": "code",
   "execution_count": 3,
   "metadata": {},
   "outputs": [],
   "source": [
    "Mn_model     = nc.Dataset(oldref_2015)\n",
    "lon_model    = np.array(Mn_model.variables['nav_lon'])\n",
    "lat_model    = np.array(Mn_model.variables['nav_lat'])\n",
    "depths_model = np.array(Mn_model.variables['deptht'])"
   ]
  },
  {
   "cell_type": "code",
   "execution_count": 4,
   "metadata": {},
   "outputs": [],
   "source": [
    "mesh       = nc.Dataset('/ocean/brogalla/GEOTRACES/data/ANHA12/ANHA12_mesh1.nc')\n",
    "mesh_lon   = np.array(mesh.variables['nav_lon'])\n",
    "mesh_lat   = np.array(mesh.variables['nav_lat'])\n",
    "mesh_bathy = np.array(mesh.variables['hdept'][0])\n",
    "tmask    = np.array(mesh.variables['tmask'])[0,:,:,:]\n",
    "mlons    = np.array(mesh.variables['nav_lon'])\n",
    "mlats    = np.array(mesh.variables['nav_lat'])\n",
    "Z_masked = np.ma.masked_where((tmask > 0.1), tmask)"
   ]
  },
  {
   "cell_type": "markdown",
   "metadata": {},
   "source": [
    "Observations"
   ]
  },
  {
   "cell_type": "code",
   "execution_count": 5,
   "metadata": {},
   "outputs": [],
   "source": [
    "station_names = ['CAA1', 'CAA2', 'CAA3', 'CAA4', 'CAA5', 'CAA6', 'CAA7', 'CAA8', 'CAA9', \\\n",
    "                'CB1', 'CB2', 'CB3', 'CB4']\n",
    "station_stdev = ['Unnamed: 17', 'Unnamed: 20','Unnamed: 26', 'Unnamed: 29', 'Unnamed: 32', 'Unnamed: 35', \\\n",
    "                 'Unnamed: 38', 'Unnamed: 41','Unnamed: 44', 'Unnamed: 47', 'Unnamed: 50', 'Unnamed: 53']\n",
    "station_depth = ['Depth.5','Depth.6','Depth.7','Depth.8','Depth.9','Depth.10','Depth.11','Depth.12','Depth.13', \\\n",
    "                'Depth.14','Depth.15','Depth.16','Depth.17']"
   ]
  },
  {
   "cell_type": "code",
   "execution_count": 6,
   "metadata": {},
   "outputs": [],
   "source": [
    "observations = {'dissolmn': np.zeros((13,25)), \n",
    "                'stdev':np.zeros((13,25)), \n",
    "                'depth':np.zeros((13,25))} # dimensions: stations, depths\n",
    "Mn_data      = pd.read_csv('/data/brogalla/Mn_Integrated_Data_UBC-UVic_4-17-19.csv')\n",
    "\n",
    "for it, stn in enumerate(station_names):\n",
    "    length = len(Mn_data[stn].dropna()[1:].astype('float'))\n",
    "    observations['dissolmn'][it][0:length] = Mn_data[stn].dropna()[1:].astype('float')\n",
    "        \n",
    "for it, stn in enumerate(station_stdev):\n",
    "    if stn=='Unnamed: 44':\n",
    "        length = 11\n",
    "        observations['stdev'][it][0:length] = Mn_data[stn][1:].astype('float').fillna(0)[0:11]\n",
    "    elif stn=='Unnamed: 50':\n",
    "        length = 22\n",
    "        observations['stdev'][it][0:length] = Mn_data[stn][1:].astype('float').fillna(0)[0:22];\n",
    "    else:\n",
    "        length = len(Mn_data[stn].dropna()[1:].astype('float'))\n",
    "        observations['stdev'][it][0:length] = Mn_data[stn].dropna()[1:].astype('float')\n",
    "        \n",
    "for it, stn in enumerate(station_depth):\n",
    "    length = len(Mn_data[stn].dropna())\n",
    "    observations['depth'][it][0:length]    = Mn_data[stn].dropna()"
   ]
  },
  {
   "cell_type": "code",
   "execution_count": 7,
   "metadata": {},
   "outputs": [],
   "source": [
    "observations['dissolmn'][observations['dissolmn'] == 0] = np.nan"
   ]
  },
  {
   "cell_type": "markdown",
   "metadata": {},
   "source": [
    "Mask bottom values of CAA2 and CAA7 (extreme spikes)"
   ]
  },
  {
   "cell_type": "code",
   "execution_count": 28,
   "metadata": {},
   "outputs": [],
   "source": [
    "# #CAA2:\n",
    "# observations['dissolmn'][1,11] = np.nan\n",
    "# #CAA7:\n",
    "# # observations['dissolmn'][6,6]  = np.nan\n",
    "# observations['dissolmn'][6,7]  = np.nan"
   ]
  },
  {
   "cell_type": "code",
   "execution_count": 8,
   "metadata": {},
   "outputs": [],
   "source": [
    "Pb_data   = pd.read_csv('/data/brogalla/Pb-paper-data.csv')\n",
    "stn_names = Pb_data['Station names'][5:].dropna().astype('str')\n",
    "lons      = Pb_data['station lon'][5:].astype('float').dropna().values\n",
    "lats      = Pb_data['Station lat'][5:].astype('float').dropna().values"
   ]
  },
  {
   "cell_type": "markdown",
   "metadata": {},
   "source": [
    "Get indices"
   ]
  },
  {
   "cell_type": "code",
   "execution_count": 9,
   "metadata": {},
   "outputs": [],
   "source": [
    "stationi = np.empty((len(lons)))\n",
    "stationj = np.empty((len(lons)))\n",
    "for it, (lon, lat) in enumerate(zip(lons, lats)):\n",
    "    i, j = geo_tools.find_closest_model_point(lon, lat, mesh_lon, mesh_lat, tols={\n",
    "        'NEMO': {'tol_lon': 0.08, 'tol_lat': 0.015},\n",
    "        })\n",
    "    stationi[it] = i\n",
    "    stationj[it] = j"
   ]
  },
  {
   "cell_type": "code",
   "execution_count": 10,
   "metadata": {},
   "outputs": [],
   "source": [
    "stationi[2] = stationi[2]+1 # otherwise I think it's on land"
   ]
  },
  {
   "cell_type": "code",
   "execution_count": 11,
   "metadata": {},
   "outputs": [],
   "source": [
    "# Match the depths of the observations with the model depths:\n",
    "stationk = np.empty((13,25))\n",
    "for stn in range(0,len(lons)):\n",
    "    depths_obs = observations['depth'][stn,:]\n",
    "    depths_obs[depths_obs==0] = np.nan\n",
    "    for ind, depth in enumerate(depths_obs):\n",
    "        k = np.argmin(np.abs(depths_model-depth))\n",
    "        stationk[stn, ind] = k\n",
    "        \n",
    "stationk[stationk==0] = np.nan"
   ]
  },
  {
   "cell_type": "markdown",
   "metadata": {},
   "source": [
    "Load model data"
   ]
  },
  {
   "cell_type": "code",
   "execution_count": 12,
   "metadata": {},
   "outputs": [],
   "source": [
    "tuning_series = {'dissolmn': np.zeros((len(file_list),13,25))} # dimensions: tuning run, depth, stations\n",
    "for it, filename in enumerate(file_list):\n",
    "        data = xr.open_dataset(filename)\n",
    "        for n, (i, j) in enumerate(zip(stationi, stationj)):\n",
    "            for ind, k in enumerate(stationk[n,:]):\n",
    "                try:\n",
    "                    tuning_series['dissolmn'][it,n,ind] = data['dissolmn'][month,0,int(k),int(i-imin),int(j-jmin)]\n",
    "                except:\n",
    "                    tuning_series['dissolmn'][it,n,ind] = np.nan\n",
    "        data.close()"
   ]
  },
  {
   "cell_type": "code",
   "execution_count": 13,
   "metadata": {},
   "outputs": [],
   "source": [
    "tuning_series['dissolmn'][tuning_series['dissolmn'] == 0] = np.nan"
   ]
  },
  {
   "cell_type": "markdown",
   "metadata": {},
   "source": [
    "### different parameter sets\n",
    "\n",
    "Tuning sets:\n",
    "- sink06_sedice075_2015: sediment in ice = 0.75, resuspension_constant = 1.0, gamma = 0.065, sinking = 0.6\n",
    "- sink06_sedice085_2015: sediment in ice = 0.85, resuspension_constant = 0.65, gamma = 0.065, sinking = 0.6\n",
    "- sink06_resus04_2015  : sediment in ice = 0.85, resuspension_constant = 0.4, gamma = 0.065, sinking = 0.6\n",
    "\n",
    "Order of data: file_list = [sink06_sedice075_2015, sink06_sedice085_2015, sink06_resus04_2015]"
   ]
  },
  {
   "cell_type": "code",
   "execution_count": 14,
   "metadata": {},
   "outputs": [],
   "source": [
    "c_tuning1 = '#ffe040'\n",
    "c_tuning2 = '#7fa5f2'\n",
    "c_tuning3 = '#9370db'\n",
    "c_tuning4 = '#80d6ab'\n",
    "c_tuning5 = '#9a004d'"
   ]
  },
  {
   "cell_type": "code",
   "execution_count": 15,
   "metadata": {},
   "outputs": [],
   "source": [
    "# x-axis: year of spin-up\n",
    "# y-axis: mean deviation from observations\n",
    "# each runset has 1 color\n",
    "resus_constant = (tuning_series['dissolmn'][2]-tuning_series['dissolmn'][1])/(0.40-0.65) # at 0.85 sedice\n",
    "sedice_content = (tuning_series['dissolmn'][1]-tuning_series['dissolmn'][0])/(0.75-0.50) "
   ]
  },
  {
   "cell_type": "code",
   "execution_count": 16,
   "metadata": {},
   "outputs": [],
   "source": [
    "max_depth = np.nanmax(observations['depth'],axis=1)\n",
    "depth_bdy = max_depth - 100 # for looking at the bottom, calculate the bottom depth"
   ]
  },
  {
   "cell_type": "code",
   "execution_count": 17,
   "metadata": {},
   "outputs": [],
   "source": [
    "resus_rate = np.linspace(0,24,100) # sediment resuspension rate constant\n",
    "sed_ice    = np.linspace(0,5.00,100) # sea ice sediment content\n",
    "full_parameter_sets   = {'resus_rate': np.zeros((100,100,80)), 'sed_ice':np.zeros((100,100,80)), 'model_diff':np.zeros((100,100,80))}\n",
    "bottom_parameter_sets = {'resus_rate': np.zeros((100,100,80)), 'sed_ice':np.zeros((100,100,80)), 'model_diff':np.zeros((100,100,80))}\n",
    "upper_parameter_sets  = {'resus_rate': np.zeros((100,100,80)), 'sed_ice':np.zeros((100,100,80)), 'model_diff':np.zeros((100,100,80))}\n",
    "\n",
    "mean_obs = np.nanmean(observations['dissolmn'].flatten())\n",
    "upper_obs = np.nanmean(observations['dissolmn'][observations['depth'] < 100])\n",
    "\n",
    "for it, r_param in enumerate(resus_rate):\n",
    "    for jt, si_param in enumerate(sed_ice):\n",
    "        full_parameter_sets['resus_rate'][it,jt]   = r_param\n",
    "        full_parameter_sets['sed_ice'][it,jt]      = si_param\n",
    "        bottom_parameter_sets['resus_rate'][it,jt] = r_param\n",
    "        bottom_parameter_sets['sed_ice'][it,jt]    = si_param\n",
    "        upper_parameter_sets['resus_rate'][it,jt]  = r_param\n",
    "        upper_parameter_sets['sed_ice'][it,jt]     = si_param \n",
    "        \n",
    "        # Full water column:\n",
    "        mod      = tuning_series['dissolmn'][1] - (0.85*sedice_content + 0.65*resus_constant) \\\n",
    "                        + (resus_constant*r_param + sedice_content*si_param)\n",
    "        mean_mod = np.nanmean(mod.flatten()*10**9)\n",
    "        \n",
    "        # Lower water column:\n",
    "        bottom_obs = np.zeros(13); bottom_mod = np.zeros(13);\n",
    "        for stn, depth_lim in enumerate(depth_bdy):     \n",
    "            mod = tuning_series['dissolmn'][1,stn,:][observations['depth'][stn,:] > depth_lim] - \\\n",
    "                (0.85*sedice_content[stn,:][observations['depth'][stn,:] > depth_lim] + \\\n",
    "                 0.65*resus_constant[stn,:][observations['depth'][stn,:] > depth_lim]) \\\n",
    "                + resus_constant[stn,:][observations['depth'][stn,:] > depth_lim]*r_param + \\\n",
    "                sedice_content[stn,:][observations['depth'][stn,:] > depth_lim]*si_param\n",
    "            bottom_obs[stn] = np.nanmean(observations['dissolmn'][stn,:][observations['depth'][stn,:] > depth_lim])\n",
    "            bottom_mod[stn] = np.nanmean(mod.flatten()*10**9)\n",
    "\n",
    "        # Upper water column:\n",
    "        upper_mod = tuning_series['dissolmn'][1][observations['depth'] < 100] - \\\n",
    "                    (0.85*sedice_content[observations['depth'] < 100] + 0.65*resus_constant[observations['depth'] < 100]) \\\n",
    "                    + resus_constant[observations['depth'] < 100]*r_param + sedice_content[observations['depth'] < 100]*si_param \n",
    "        upper_mod = np.nanmean(upper_mod.flatten()*10**9)        \n",
    "            \n",
    "        # Write results:\n",
    "        full_parameter_sets['model_diff'][it,jt]   = mean_mod - mean_obs\n",
    "        upper_parameter_sets['model_diff'][it,jt]  = upper_mod - upper_obs\n",
    "        bottom_parameter_sets['model_diff'][it,jt] = np.nanmean(bottom_mod) - np.nanmean(bottom_obs)"
   ]
  },
  {
   "cell_type": "code",
   "execution_count": 20,
   "metadata": {},
   "outputs": [
    {
     "data": {
      "image/png": "[encoded data removed]",
      "text/plain": [
       "<Figure size 576x504 with 2 Axes>"
      ]
     },
     "metadata": {
      "needs_background": "light"
     },
     "output_type": "display_data"
    }
   ],
   "source": [
    "fig = plt.figure(figsize=(8,7))\n",
    "st  = sns.axes_style(\"ticks\")\n",
    "\n",
    "vlow = -2\n",
    "vup  = 2\n",
    "\n",
    "with st:\n",
    "    ax = sns.lineplot([-10,-9],[0,0])\n",
    "\n",
    "    cm = plt.contourf(full_parameter_sets['resus_rate'][:,:,7], \\\n",
    "                      full_parameter_sets['sed_ice'][:,:,7], \\\n",
    "                      full_parameter_sets['model_diff'][:,:,7], \\\n",
    "                      cmap=cmocean.cm.balance, levels=np.linspace(vlow,vup,21), vmin=vlow, vmax=vup, extend='both')\n",
    "    \n",
    "    sns.scatterplot([1.0], [0.75], \\\n",
    "                    c=[np.nanmean(tuning_series['dissolmn'][0].flatten()*10**9) - \\\n",
    "                      np.nanmean(observations['dissolmn'].flatten())], \\\n",
    "                    cmap=cmocean.cm.balance, vmin=vlow, vmax=vup, s=150, zorder=3)\n",
    "    sns.scatterplot([0.65], [0.85], \\\n",
    "                    c=[np.nanmean(tuning_series['dissolmn'][1].flatten()*10**9) - \\\n",
    "                      np.nanmean(observations['dissolmn'].flatten())], \\\n",
    "                    cmap=cmocean.cm.balance, vmin=vlow, vmax=vup, s=150, zorder=3)\n",
    "    sns.scatterplot([0.4], [0.85], \\\n",
    "                    c=[np.nanmean(tuning_series['dissolmn'][2].flatten()*10**9) - \\\n",
    "                      np.nanmean(observations['dissolmn'].flatten())], \\\n",
    "                    cmap=cmocean.cm.balance, vmin=vlow, vmax=vup, s=150, zorder=3)\n",
    "\n",
    "    ax.set_xlabel('Resuspension rate', fontsize=12)\n",
    "    ax.set_ylabel('Sediment in sea ice content',fontsize=12)\n",
    "    ax.set_title('Year: 2015', fontsize=12)\n",
    "    ax.set(xlim=(0, 2.5), ylim=(0, 1.15))\n",
    "    ax.tick_params(axis='both', which='major', labelsize=12)\n",
    "    \n",
    "    cbaxes = fig.add_axes([0.93, 0.12, 0.05, 0.5])\n",
    "    cbar   = plt.colorbar(cm, cax=cbaxes, label='Mean difference between model and observations')\n",
    "    cbar.set_clim(-1.0,1.0)\n",
    "    \n",
    "    ax.spines['left'].set_linewidth(1.0);   ax.spines['left'].set_color('black');\n",
    "    ax.spines['bottom'].set_linewidth(1.0); ax.spines['bottom'].set_color('black');\n",
    "    ax.spines['right'].set_linewidth(1.0);  ax.spines['right'].set_color('black');\n",
    "    ax.spines['top'].set_linewidth(1.0);    ax.spines['top'].set_color('black');    \n",
    "    \n",
    "fig.savefig('/ocean/brogalla/GEOTRACES/figures/tuning-2021-07-12.png',bbox_inches='tight')"
   ]
  },
  {
   "cell_type": "code",
   "execution_count": 21,
   "metadata": {},
   "outputs": [
    {
     "data": {
      "image/png": "[encoded data removed]",
      "text/plain": [
       "<Figure size 576x504 with 2 Axes>"
      ]
     },
     "metadata": {
      "needs_background": "light"
     },
     "output_type": "display_data"
    }
   ],
   "source": [
    "fig = plt.figure(figsize=(8,7))\n",
    "st  = sns.axes_style(\"ticks\")\n",
    "\n",
    "vlow = -1\n",
    "vup  = 1\n",
    "\n",
    "with st:\n",
    "    ax = sns.lineplot([-10,-9],[0,0])\n",
    "\n",
    "    cm = plt.contourf(bottom_parameter_sets['resus_rate'][:,:,7], \\\n",
    "                      bottom_parameter_sets['sed_ice'][:,:,7], \\\n",
    "                      bottom_parameter_sets['model_diff'][:,:,7], \\\n",
    "                      cmap=cmocean.cm.balance, levels=np.linspace(vlow,vup,21), vmin=vlow, vmax=vup, extend='both')\n",
    "\n",
    "    ax.set_xlabel('Resuspension rate', fontsize=12)\n",
    "    ax.set_ylabel('Sediment in sea ice content',fontsize=12)\n",
    "    ax.set_title('Year: 2015', fontsize=12)\n",
    "    ax.set(xlim=(0, 1.5), ylim=(0, 1.15))\n",
    "    ax.tick_params(axis='both', which='major', labelsize=12)\n",
    "    \n",
    "    cbaxes = fig.add_axes([0.93, 0.12, 0.05, 0.5])\n",
    "    cbar   = plt.colorbar(cm, cax=cbaxes, label='Mean difference between model and observations')\n",
    "    cbar.set_clim(-1.0,1.0)\n",
    "    \n",
    "    ax.spines['left'].set_linewidth(1.0);   ax.spines['left'].set_color('black');\n",
    "    ax.spines['bottom'].set_linewidth(1.0); ax.spines['bottom'].set_color('black');\n",
    "    ax.spines['right'].set_linewidth(1.0);  ax.spines['right'].set_color('black');\n",
    "    ax.spines['top'].set_linewidth(1.0);    ax.spines['top'].set_color('black');    \n",
    "    \n",
    "fig.savefig('/ocean/brogalla/GEOTRACES/figures/tuning-bottom-2021-07-12.png',bbox_inches='tight')"
   ]
  },
  {
   "cell_type": "code",
   "execution_count": 43,
   "metadata": {},
   "outputs": [
    {
     "data": {
      "image/png": "[encoded data removed]",
      "text/plain": [
       "<Figure size 576x504 with 2 Axes>"
      ]
     },
     "metadata": {
      "needs_background": "light"
     },
     "output_type": "display_data"
    }
   ],
   "source": [
    "fig = plt.figure(figsize=(8,7))\n",
    "st  = sns.axes_style(\"ticks\")\n",
    "\n",
    "vlow = -1\n",
    "vup  = 1\n",
    "\n",
    "with st:\n",
    "    ax = sns.lineplot([-10,-9],[0,0])\n",
    "\n",
    "    cm = plt.contourf(upper_parameter_sets['resus_rate'][:,:,7], \\\n",
    "                      upper_parameter_sets['sed_ice'][:,:,7], \\\n",
    "                      upper_parameter_sets['model_diff'][:,:,7], \\\n",
    "                      cmap=cmocean.cm.balance, levels=np.linspace(vlow,vup,21), vmin=vlow, vmax=vup, extend='both')\n",
    "\n",
    "    ax.set_xlabel('Resuspension rate', fontsize=12)\n",
    "    ax.set_ylabel('Sediment in sea ice content',fontsize=12)\n",
    "    ax.set_title('Year: 2015', fontsize=12)\n",
    "    ax.set(xlim=(0, 1.5), ylim=(0, 5))\n",
    "    ax.tick_params(axis='both', which='major', labelsize=12)\n",
    "    \n",
    "    cbaxes = fig.add_axes([0.93, 0.12, 0.05, 0.5])\n",
    "    cbar   = plt.colorbar(cm, cax=cbaxes, label='Mean difference between model and observations')\n",
    "    cbar.set_clim(-1.0,1.0)\n",
    "    \n",
    "    ax.spines['left'].set_linewidth(1.0);   ax.spines['left'].set_color('black');\n",
    "    ax.spines['bottom'].set_linewidth(1.0); ax.spines['bottom'].set_color('black');\n",
    "    ax.spines['right'].set_linewidth(1.0);  ax.spines['right'].set_color('black');\n",
    "    ax.spines['top'].set_linewidth(1.0);    ax.spines['top'].set_color('black');    "
   ]
  },
  {
   "cell_type": "code",
   "execution_count": null,
   "metadata": {},
   "outputs": [],
   "source": []
  }
 ],
 "metadata": {
  "kernelspec": {
   "display_name": "Python 3",
   "language": "python",
   "name": "python3"
  },
  "language_info": {
   "codemirror_mode": {
    "name": "ipython",
    "version": 3
   },
   "file_extension": ".py",
   "mimetype": "text/x-python",
   "name": "python",
   "nbconvert_exporter": "python",
   "pygments_lexer": "ipython3",
   "version": "3.6.11"
  }
 },
 "nbformat": 4,
 "nbformat_minor": 4
}
