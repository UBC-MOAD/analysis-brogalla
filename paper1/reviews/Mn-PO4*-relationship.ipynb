{
 "cells": [
  {
   "cell_type": "markdown",
   "id": "3535915a-9a79-4f01-b15e-866cc380871e",
   "metadata": {},
   "source": [
    "# Look at the Mn-PO4* relationship\n",
    "\n",
    "As in Middag et al., 2011"
   ]
  },
  {
   "cell_type": "code",
   "execution_count": null,
   "id": "73e77b9c-e193-4303-bec7-bb8183459b0c",
   "metadata": {},
   "outputs": [],
   "source": []
  },
  {
   "cell_type": "code",
   "execution_count": null,
   "id": "0738caa2-fcf9-403e-a842-6e506a078ee2",
   "metadata": {},
   "outputs": [],
   "source": []
  }
 ],
 "metadata": {
  "kernelspec": {
   "display_name": "Python 3",
   "language": "python",
   "name": "python3"
  },
  "language_info": {
   "codemirror_mode": {
    "name": "ipython",
    "version": 3
   },
   "file_extension": ".py",
   "mimetype": "text/x-python",
   "name": "python",
   "nbconvert_exporter": "python",
   "pygments_lexer": "ipython3",
   "version": "3.6.11"
  }
 },
 "nbformat": 4,
 "nbformat_minor": 5
}
