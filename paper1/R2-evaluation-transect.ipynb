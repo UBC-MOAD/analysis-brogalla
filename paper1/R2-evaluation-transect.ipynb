{
 "cells": [
  {
   "cell_type": "markdown",
   "metadata": {},
   "source": [
    "# Transect of results and observations\n"
   ]
  },
  {
   "cell_type": "code",
   "execution_count": 1,
   "metadata": {},
   "outputs": [],
   "source": [
    "import numpy as np\n",
    "import matplotlib.pyplot as plt\n",
    "import csv\n",
    "from mpl_toolkits.basemap import Basemap, cm\n",
    "import netCDF4 as nc\n",
    "import cmocean\n",
    "import pandas as pd \n",
    "import warnings\n",
    "import pickle\n",
    "from mpl_toolkits.axes_grid1.inset_locator import mark_inset\n",
    "warnings.filterwarnings('ignore')\n",
    "\n",
    "%matplotlib inline"
   ]
  },
  {
   "cell_type": "markdown",
   "metadata": {},
   "source": [
    "###### Parameters:"
   ]
  },
  {
   "cell_type": "code",
   "execution_count": 2,
   "metadata": {},
   "outputs": [],
   "source": [
    "imin, imax = 1480, 2180\n",
    "jmin, jmax = 160, 800\n",
    "\n",
    "# model results:\n",
    "year           = 2015\n",
    "month          = 8\n",
    "results_folder = f'/data/brogalla/run_storage/Mn-reference-202103/ref-{year}-202103/'\n",
    "\n",
    "# colours:\n",
    "land_color = \"#8b7765\""
   ]
  },
  {
   "cell_type": "markdown",
   "metadata": {},
   "source": [
    "###### Load files:"
   ]
  },
  {
   "cell_type": "code",
   "execution_count": 3,
   "metadata": {},
   "outputs": [],
   "source": [
    "mesh       = nc.Dataset('/data/brogalla/old/meshmasks/ANHA12_mesh1.nc')\n",
    "mesh_lon   = np.array(mesh.variables['nav_lon'])\n",
    "mesh_lat   = np.array(mesh.variables['nav_lat'])\n",
    "mesh_bathy = np.array(mesh.variables['hdept'][0])"
   ]
  },
  {
   "cell_type": "code",
   "execution_count": 4,
   "metadata": {},
   "outputs": [],
   "source": [
    "Mn_model     = nc.Dataset(f'{results_folder}ANHA12_EXH006_{year}_monthly.nc')\n",
    "mn_dis       = np.array(Mn_model.variables['dissolmn'])\n",
    "lat_model    = np.array(Mn_model.variables['nav_lat'])\n",
    "lon_model    = np.array(Mn_model.variables['nav_lon'])\n",
    "depths_model = np.array(Mn_model.variables['deptht'])"
   ]
  },
  {
   "cell_type": "markdown",
   "metadata": {},
   "source": [
    "Observations"
   ]
  },
  {
   "cell_type": "code",
   "execution_count": 5,
   "metadata": {},
   "outputs": [],
   "source": [
    "Mn_data  = pd.read_csv('/ocean/brogalla/GEOTRACES/data/Mn_Integrated_Data_UBC-UVic_4-17-19.csv')\n",
    "\n",
    "dMn_BB1  = Mn_data['BB1'].dropna()[1:].astype('float'); dMn_BB2 = Mn_data['BB2'].dropna()[1:].astype('float');\n",
    "dMn_BB3  = Mn_data['BB3'].dropna()[1:].astype('float'); dMn_CB1 = Mn_data['CB1'].dropna()[1:].astype('float');\n",
    "dMn_CB2  = Mn_data['CB2'].dropna()[1:].astype('float'); dMn_CB3 = Mn_data['CB3'].dropna()[1:].astype('float');\n",
    "dMn_CB4  = Mn_data['CB4'].dropna()[1:].astype('float'); dMn_CAA1 = Mn_data['CAA1'].dropna()[1:].astype('float');\n",
    "dMn_CAA2 = Mn_data['CAA2'].dropna()[1:].astype('float'); dMn_CAA3 = Mn_data['CAA3'].dropna()[1:].astype('float');\n",
    "dMn_CAA4 = Mn_data['CAA4'].dropna()[1:].astype('float'); dMn_CAA5 = Mn_data['CAA5'].dropna()[1:].astype('float');\n",
    "dMn_CAA6 = Mn_data['CAA6'].dropna()[1:].astype('float'); dMn_CAA7 = Mn_data['CAA7'].dropna()[1:].astype('float');\n",
    "dMn_CAA8 = Mn_data['CAA8'].dropna()[1:].astype('float'); dMn_CAA9 = Mn_data['CAA9'].dropna()[1:].astype('float');\n",
    "\n",
    "depth_BB1  = Mn_data['Depth.2'].dropna(); depth_BB2 = Mn_data['Depth.3'].dropna();\n",
    "depth_BB3  = Mn_data['Depth.4'].dropna(); depth_CB1 = Mn_data['Depth.14'].dropna();\n",
    "depth_CB2  = Mn_data['Depth.15'].dropna(); depth_CB3 = Mn_data['Depth.16'].dropna();\n",
    "depth_CB4  = Mn_data['Depth.17'].dropna(); depth_CAA1 = Mn_data['Depth.5'].dropna();\n",
    "depth_CAA2 = Mn_data['Depth.6'].dropna(); depth_CAA3 = Mn_data['Depth.7'].dropna();\n",
    "depth_CAA4 = Mn_data['Depth.8'].dropna(); depth_CAA5 = Mn_data['Depth.9'].dropna();\n",
    "depth_CAA6 = Mn_data['Depth.10'].dropna(); depth_CAA7 = Mn_data['Depth.11'].dropna();\n",
    "depth_CAA8 = Mn_data['Depth.12'].dropna(); depth_CAA9 = Mn_data['Depth.13'].dropna();"
   ]
  },
  {
   "cell_type": "code",
   "execution_count": 6,
   "metadata": {},
   "outputs": [],
   "source": [
    "Pb_data   = pd.read_csv('/ocean/brogalla/GEOTRACES/data/Pb-paper-data.csv')\n",
    "stn_names = Pb_data['Station names'].dropna().astype('str')\n",
    "lons      = Pb_data['station lon'].astype('float').dropna().values\n",
    "lats      = Pb_data['Station lat'].astype('float').dropna().values"
   ]
  },
  {
   "cell_type": "markdown",
   "metadata": {},
   "source": [
    "###### Functions:"
   ]
  },
  {
   "cell_type": "code",
   "execution_count": 7,
   "metadata": {},
   "outputs": [],
   "source": [
    "def find_closest_model_point(\n",
    "    lon, lat, model_lons, model_lats, grid='NEMO', land_mask=None,\n",
    "    tols={\n",
    "        'NEMO': {'tol_lon': 0.104, 'tol_lat': 0.0388},\n",
    "        'GEM2.5': {'tol_lon': 0.016, 'tol_lat': 0.012},\n",
    "        }\n",
    "):\n",
    "\n",
    "    if grid not in tols:\n",
    "        raise KeyError(\n",
    "            'The provided grid type is not in tols. '\n",
    "            'Use another grid type or add your grid type to tols.')\n",
    "\n",
    "    # Search for a grid point with longitude and latitude within\n",
    "    # tolerance of measured location\n",
    "    j_list, i_list = np.where(\n",
    "        np.logical_and(\n",
    "            (np.logical_and(model_lons > lon - tols[grid]['tol_lon'],\n",
    "                            model_lons < lon + tols[grid]['tol_lon'])),\n",
    "            (np.logical_and(model_lats > lat - tols[grid]['tol_lat'],\n",
    "                            model_lats < lat + tols[grid]['tol_lat']))\n",
    "        )\n",
    "    )\n",
    "\n",
    "    if len(j_list) == 0:\n",
    "        # Added by BMM March 2017\n",
    "        # If including points outside of domain:\n",
    "        return np.nan, np.nan\n",
    "        # raise ValueError(\n",
    "        #    'No model point found. tol_lon/tol_lat too small or '\n",
    "        #    'lon/lat outside of domain.')\n",
    "    try:\n",
    "        j, i = map(np.asscalar, (j_list, i_list))\n",
    "    except ValueError:\n",
    "        # Several points within tolerance\n",
    "        # Calculate distances for all and choose the closest\n",
    "\n",
    "        # Avoiding array indexing because some functions\n",
    "        # pass in model_lons and model_lats as netcdf4 objects\n",
    "        # (which treat 'model_lons[j_list, i_list]' differently)\n",
    "        lons = [model_lons[j_list[n], i_list[n]] for n in range(len(j_list))]\n",
    "        lats = [model_lats[j_list[n], i_list[n]] for n in range(len(j_list))]\n",
    "        dists = haversine(\n",
    "            np.array([lon] * i_list.size), np.array([lat] * j_list.size),\n",
    "            lons, lats)\n",
    "        n = dists.argmin()\n",
    "        j, i = map(np.asscalar, (j_list[n], i_list[n]))\n",
    "\n",
    "    # If point is on land and land mask is provided\n",
    "    # try to find closest water point\n",
    "    if land_mask is None or not land_mask[j, i]:\n",
    "        return j, i\n",
    "    try:\n",
    "        return _spiral_search_for_closest_water_point(\n",
    "            j, i, land_mask, lon, lat, model_lons, model_lats)\n",
    "    except ValueError:\n",
    "        raise ValueError(\n",
    "            'lat/lon on land and no nearby water point found')\n"
   ]
  },
  {
   "cell_type": "code",
   "execution_count": 8,
   "metadata": {},
   "outputs": [],
   "source": [
    "def haversine(lon1, lat1, lon2, lat2):\n",
    "    lon1, lat1, lon2, lat2 = map(np.radians, [lon1, lat1, lon2, lat2])\n",
    "    dlon = lon2 - lon1\n",
    "    dlat = lat2 - lat1\n",
    "    a = np.sin(dlat/2)**2 + np.cos(lat1) * np.cos(lat2) * np.sin(dlon/2)**2\n",
    "    c = 2 * np.arcsin(np.sqrt(a))\n",
    "    km = 6367 * c\n",
    "    return km"
   ]
  },
  {
   "cell_type": "code",
   "execution_count": 9,
   "metadata": {},
   "outputs": [],
   "source": [
    "def fill_nans(input_var):\n",
    "    vector = np.zeros(24)\n",
    "    for i in range(0,24):\n",
    "        if i < len(input_var):\n",
    "            vector[i] = np.array(input_var)[i]\n",
    "        else:\n",
    "            vector[i] = np.nan\n",
    "    return vector"
   ]
  },
  {
   "cell_type": "code",
   "execution_count": 10,
   "metadata": {},
   "outputs": [],
   "source": [
    "def search_depth(obs_depth, model_depths):\n",
    "    k_list = np.array([])\n",
    "    for i in range(0,len(obs_depth)):\n",
    "        diff_list = np.array([])\n",
    "        for n in range(0, len(model_depths)):\n",
    "            diff = np.abs(obs_depth[i] - model_depths[n])\n",
    "            diff_list = np.append(diff_list, diff)\n",
    "        k = np.argmin(diff_list) # for list of indices associated with depths\n",
    "        k_list = np.append(k_list, k)\n",
    "    return k_list"
   ]
  },
  {
   "cell_type": "code",
   "execution_count": 11,
   "metadata": {},
   "outputs": [],
   "source": [
    "def find_index_ANHA12_full(transect_lons, transect_lats, ANHA12_lon=mesh_lon, ANHA12_lat=mesh_lat):\n",
    "    # input:   ANHA12_lon, ANHA12_lat       --- 2400x1632 coordinates\n",
    "    #          transect_lons, transect_lats --- list of lat and lon values to include in the transect\n",
    "    # output:  i, j                         --- lists of coordinates associated with these points\n",
    "    \n",
    "    transect_i = np.array([])\n",
    "    transect_j = np.array([])\n",
    "    for k in range(0,len(transect_lons)):\n",
    "        i, j = find_closest_model_point(transect_lons[k], transect_lats[k], ANHA12_lon, ANHA12_lat)\n",
    "        transect_i = np.append(transect_i, i)\n",
    "        transect_j = np.append(transect_j, j)\n",
    "    \n",
    "    return transect_i, transect_j"
   ]
  },
  {
   "cell_type": "code",
   "execution_count": 12,
   "metadata": {},
   "outputs": [],
   "source": [
    "def find_index_ANHA12_sub(transect_lons, transect_lats, ANHA12sub_lon=lon_model, ANHA12sub_lat=lat_model):\n",
    "    # input:   ANHA12sub_lon, ANHA12sub_lat --- 570x600 coordinates\n",
    "    #          transect_lons, transect_lats --- list of lat and lon values to include in the transect\n",
    "    # output:  i, j                         --- lists of coordinates associated with these points\n",
    "    \n",
    "    transect_i = np.array([])\n",
    "    transect_j = np.array([])\n",
    "    \n",
    "    if isinstance(transect_lons,float):\n",
    "        i, j = find_closest_model_point(transect_lons, transect_lats, ANHA12sub_lon, ANHA12sub_lat)\n",
    "        transect_i = i\n",
    "        transect_j = j\n",
    "    else:\n",
    "        for k in range(0,len(transect_lons)):\n",
    "            i, j = find_closest_model_point(transect_lons[k], transect_lats[k], ANHA12sub_lon, ANHA12sub_lat)\n",
    "            transect_i = np.append(transect_i, i)\n",
    "            transect_j = np.append(transect_j, j)\n",
    "    \n",
    "    return transect_i, transect_j"
   ]
  },
  {
   "cell_type": "markdown",
   "metadata": {},
   "source": [
    "##### Figure of transect along stations:"
   ]
  },
  {
   "cell_type": "code",
   "execution_count": 13,
   "metadata": {},
   "outputs": [],
   "source": [
    "# Connect these points with straight line segments:\n",
    "transect_lons = [lons[stn_names=='CB4'], lons[stn_names=='CB3'],lons[stn_names=='CB2'], lons[stn_names=='CB1'], \\\n",
    "                 lons[stn_names=='CAA8'], lons[stn_names=='CAA6'], lons[stn_names=='CAA7'], lons[stn_names=='CAA4'],\\\n",
    "                 lons[stn_names=='CAA5'], lons[stn_names=='CAA1'], lons[stn_names=='CAA2'], lons[stn_names=='CAA3']]\n",
    "transect_lats = [lats[stn_names=='CB4'], lats[stn_names=='CB3'],lats[stn_names=='CB2'], lats[stn_names=='CB1'], \\\n",
    "                 lats[stn_names=='CAA8'], lats[stn_names=='CAA6'], lats[stn_names=='CAA7'], lats[stn_names=='CAA4'],\\\n",
    "                 lats[stn_names=='CAA5'], lats[stn_names=='CAA1'], lats[stn_names=='CAA2'], lats[stn_names=='CAA3']]\n",
    "transect_names = ['CB4','CB3', 'CB2', 'CB1', 'CAA8', 'CAA6', 'CAA7', 'CAA4', 'CAA5', 'CAA1', 'CAA2', 'CAA3']"
   ]
  },
  {
   "cell_type": "code",
   "execution_count": 14,
   "metadata": {},
   "outputs": [],
   "source": [
    "transect_distances_m = np.array([])\n",
    "for k in range(0,len(transect_lons)):\n",
    "    if k == 0:\n",
    "        distance_m = 0 #station distances\n",
    "    else:\n",
    "        distance_m = haversine(transect_lons[0], transect_lats[0], transect_lons[k], transect_lats[k])\n",
    "    \n",
    "    transect_distances_m = np.append(transect_distances_m, distance_m)"
   ]
  },
  {
   "cell_type": "code",
   "execution_count": 15,
   "metadata": {},
   "outputs": [],
   "source": [
    "# Create vectors of many points along these segments:\n",
    "transect_vlons = np.array([])\n",
    "transect_vlats = np.array([])\n",
    "for i in range(0,len(transect_lons)-1):\n",
    "    diff_lons = transect_lons[i+1] - transect_lons[i]\n",
    "    diff_lats = transect_lats[i+1] - transect_lats[i]\n",
    "    vector_lons = transect_lons[i] + np.linspace(0,diff_lons,30)\n",
    "    vector_lats = transect_lats[i] + np.linspace(0,diff_lats,30)\n",
    "    transect_vlons = np.append(transect_vlons, vector_lons)\n",
    "    transect_vlats = np.append(transect_vlats, vector_lats)"
   ]
  },
  {
   "cell_type": "code",
   "execution_count": 16,
   "metadata": {},
   "outputs": [],
   "source": [
    "transect_depths = np.column_stack((fill_nans(depth_CB4), fill_nans(depth_CB3), fill_nans(depth_CB2), \\\n",
    "                                   fill_nans(depth_CB1), fill_nans(depth_CAA8), \\\n",
    "                                   fill_nans(depth_CAA6), fill_nans(depth_CAA7), fill_nans(depth_CAA4), \\\n",
    "                                   fill_nans(depth_CAA5), fill_nans(depth_CAA1), fill_nans(depth_CAA2), \\\n",
    "                                   fill_nans(depth_CAA3)))\n",
    "transect_dMn = np.column_stack((fill_nans(dMn_CB4), fill_nans(dMn_CB3), fill_nans(dMn_CB2), \\\n",
    "                                   fill_nans(dMn_CB1), fill_nans(dMn_CAA8), \\\n",
    "                                   fill_nans(dMn_CAA6), fill_nans(dMn_CAA7), fill_nans(dMn_CAA4), \\\n",
    "                                   fill_nans(dMn_CAA5), fill_nans(dMn_CAA1), fill_nans(dMn_CAA2), \\\n",
    "                                   fill_nans(dMn_CAA3)))"
   ]
  },
  {
   "cell_type": "code",
   "execution_count": 17,
   "metadata": {},
   "outputs": [],
   "source": [
    "transect_i, transect_j = find_index_ANHA12_full(transect_vlons, transect_vlats)\n",
    "\n",
    "transect_bathy       = np.array([])\n",
    "transect_lons_bathy  = np.array([])\n",
    "transect_lats_bathy  = np.array([])\n",
    "transect_distances   = np.array([])\n",
    "\n",
    "for n in range(0,len(transect_i)):\n",
    "    if n == 0:\n",
    "        distance   = 0\n",
    "    else:\n",
    "        distance   = haversine(mesh_lon[int(transect_i[0]), int(transect_j[0])],\\\n",
    "                               mesh_lat[int(transect_i[0]), int(transect_j[0])],\\\n",
    "                               mesh_lon[int(transect_i[n]), int(transect_j[n])],\\\n",
    "                               mesh_lat[int(transect_i[n]), int(transect_j[n])])\n",
    "        \n",
    "    transect_bathy       = np.append(transect_bathy, mesh_bathy[int(transect_i[n]), int(transect_j[n])])\n",
    "    transect_lons_bathy  = np.append(transect_lons_bathy, mesh_lon[int(transect_i[n]), int(transect_j[n])])\n",
    "    transect_lats_bathy  = np.append(transect_lats_bathy, mesh_lat[int(transect_i[n]), int(transect_j[n])])\n",
    "    transect_distances   = np.append(transect_distances, distance)"
   ]
  },
  {
   "cell_type": "code",
   "execution_count": 18,
   "metadata": {},
   "outputs": [],
   "source": [
    "transect_modeli, transect_modelj = find_index_ANHA12_sub(transect_vlons, transect_vlats)\n",
    "\n",
    "lons_modelt = np.array([])\n",
    "lats_modelt = np.array([])\n",
    "transect_model_distances = np.array([])\n",
    "mn_dis_t = np.zeros((len(depths_model), len(transect_modeli)))\n",
    "\n",
    "for n in range(0,len(transect_modeli)):\n",
    "    lon = lon_model[int(transect_modeli[n]),int(transect_modelj[n])]\n",
    "    lat = lat_model[int(transect_modeli[n]),int(transect_modelj[n])]\n",
    "    if n == 0:\n",
    "        distance = 0\n",
    "    else:\n",
    "        distance   = haversine(mesh_lon[int(transect_i[0]), int(transect_j[0])],\\\n",
    "                               mesh_lat[int(transect_i[0]), int(transect_j[0])],\\\n",
    "                               mesh_lon[int(transect_i[n]), int(transect_j[n])],\\\n",
    "                               mesh_lat[int(transect_i[n]), int(transect_j[n])])\n",
    "    lons_modelt = np.append(lons_modelt, lon)\n",
    "    lats_modelt = np.append(lats_modelt, lat)\n",
    "    transect_model_distances = np.append(transect_model_distances, distance)\n",
    "    \n",
    "    mn_dt = mn_dis[month,0,:,int(transect_modeli[n]), int(transect_modelj[n])]\n",
    "    mn_dis_t[:,n] = mn_dt"
   ]
  },
  {
   "cell_type": "code",
   "execution_count": 19,
   "metadata": {},
   "outputs": [],
   "source": [
    "transect_names2     = transect_names\n",
    "transect_names2[7]  = 'CAA4,5'\n",
    "transect_names2[8]  = ''\n",
    "transect_names2[9]  = 'CAA1,2,3'\n",
    "transect_names2[10] = ''\n",
    "transect_names2[11] = ''"
   ]
  },
  {
   "cell_type": "code",
   "execution_count": 20,
   "metadata": {},
   "outputs": [],
   "source": [
    "transect_depths_r = transect_depths[::-1, :] #reversed order so that surface points are stacked on top\n",
    "transect_dMn_r    = transect_dMn[::-1, :] "
   ]
  },
  {
   "cell_type": "code",
   "execution_count": 21,
   "metadata": {},
   "outputs": [
    {
     "data": {
      "image/png": "[encoded data removed]",
      "text/plain": [
       "<Figure size 486x266.4 with 3 Axes>"
      ]
     },
     "metadata": {
      "needs_background": "light"
     },
     "output_type": "display_data"
    }
   ],
   "source": [
    "fig, ax = plt.subplots(1,1, figsize=(14,6))\n",
    "\n",
    "# limits for colorbar:\n",
    "vminmn = 0 \n",
    "vmaxmn = 12\n",
    "pointsbg = '#173543'# outline color for scatterpoints\n",
    "\n",
    "# plot stations:\n",
    "for i in range(0,len(transect_lons)):\n",
    "    ax.scatter(transect_distances_m[i]*np.ones(24), transect_depths_r[:,i], \\\n",
    "                       vmin = vminmn, vmax = vmaxmn, c=pointsbg, zorder = 3, s=100)\n",
    "    sc = ax.scatter(transect_distances_m[i]*np.ones(24), transect_depths_r[:,i], \\\n",
    "                       vmin = vminmn, vmax = vmaxmn, c=transect_dMn_r[:,i], cmap=cmocean.cm.dense,\\\n",
    "                       zorder = 3, s=60)\n",
    "#     ax.text(transect_distances_m[i]-30, -100, transect_names2[i], fontsize=8)\n",
    "    if i == 5:\n",
    "        ax.text(transect_distances_m[i]-80, -100, transect_names2[i], fontsize=8)\n",
    "    elif i==6:\n",
    "        ax.text(transect_distances_m[i]-45, -100, transect_names2[i], fontsize=8)\n",
    "    elif i==9:\n",
    "        ax.text(transect_distances_m[i]-90, -100, transect_names2[i], fontsize=8)\n",
    "    else:\n",
    "        ax.text(transect_distances_m[i]-30, -100, transect_names2[i], fontsize=8)\n",
    "    \n",
    "ax.invert_yaxis()\n",
    "contour = ax.contourf(transect_model_distances, depths_model, mn_dis_t*10**(9), np.arange(vminmn,vmaxmn+1), \\\n",
    "               vmin=vminmn, vmax=vmaxmn, cmap=cmocean.cm.dense, extend='both')\n",
    "ax.plot(transect_distances, transect_bathy, c=land_color)\n",
    "ax.fill_between(transect_distances, 4000, transect_bathy, color=land_color, zorder=1)\n",
    "ax.set_ylabel('Depth [m]', fontsize=8)\n",
    "ax.set_xlabel('Distance along transect [km]', fontsize=8)\n",
    "ax.set_ylim([3600, -30])\n",
    "ax.set_xlim([-8, 1970])\n",
    "ax.tick_params(axis='both', which='major', labelsize=8)\n",
    "plt.setp(ax.spines.values(), linewidth=1.5, color='k')\n",
    "\n",
    "# zoom in:\n",
    "inset_ax = fig.add_axes([.39, .3, .5, .3], facecolor='k')\n",
    "for i in range(0,len(transect_lons)):\n",
    "    inset_ax.scatter(transect_distances_m[i]*np.ones(24), transect_depths_r[:,i], \\\n",
    "                       vmin = vminmn, vmax = vmaxmn, c=pointsbg, zorder = 3, s=100)\n",
    "    sc = inset_ax.scatter(transect_distances_m[i]*np.ones(24), transect_depths_r[:,i], \\\n",
    "                       vmin = vminmn, vmax = vmaxmn, c=transect_dMn_r[:,i], cmap=cmocean.cm.dense,\\\n",
    "                       zorder = 3, s=60)\n",
    "    if i > 4:\n",
    "        inset_ax.text(transect_distances_m[i]-30, -15, transect_names2[i], fontsize=8)\n",
    "\n",
    "inset_ax.invert_yaxis()\n",
    "inset_ax.set_ylim([350, 0])\n",
    "inset_ax.set_xlim([1400, 1970])\n",
    "inset_ax.set_xlabel('Distance along transect [km]', fontsize=8)\n",
    "inset_ax.plot(transect_distances, transect_bathy, c=land_color)\n",
    "inset_ax.contourf(transect_model_distances, depths_model, mn_dis_t*10**(9), np.arange(vminmn,vmaxmn+1), \\\n",
    "               vmin=vminmn, vmax=vmaxmn, cmap=cmocean.cm.dense, extend='both')\n",
    "inset_ax.fill_between(transect_distances, 3500, transect_bathy, color=land_color, zorder=1)\n",
    "inset_ax.tick_params(axis='both', which='major', labelsize=8)\n",
    "plt.setp(inset_ax.spines.values(), linewidth=1.4, color='k')\n",
    "\n",
    "cbar_ax = fig.add_axes([0.92, 0.12, 0.04, 0.76])\n",
    "cbar = fig.colorbar(contour, cax=cbar_ax)\n",
    "cbar.set_label('Dissolved Mn [nM]', fontsize=8) \n",
    "cbar_ax.tick_params(axis='both', which='major', labelsize=8)\n",
    "\n",
    "mark_inset(ax, inset_ax, loc1=2, loc2=1, fc=\"none\", ec='k', lw=1.3, linestyle='--', zorder=4);\n",
    "\n",
    "figure = plt.gcf()\n",
    "figure.set_size_inches(4.5*1.5, 3.7)\n",
    "figure.savefig('/ocean/brogalla/GEOTRACES/figures/paper1-202104/R2-transect.png', \\\n",
    "               bbox_inches='tight', dpi=300)\n",
    "figure.savefig('/ocean/brogalla/GEOTRACES/figures/paper1-202104/R2-transect.svg', \\\n",
    "               bbox_inches='tight', dpi=300, format='svg')"
   ]
  },
  {
   "cell_type": "code",
   "execution_count": null,
   "metadata": {
    "collapsed": true,
    "jupyter": {
     "outputs_hidden": true
    }
   },
   "outputs": [],
   "source": []
  }
 ],
 "metadata": {
  "kernelspec": {
   "display_name": "Python 3",
   "language": "python",
   "name": "python3"
  },
  "language_info": {
   "codemirror_mode": {
    "name": "ipython",
    "version": 3
   },
   "file_extension": ".py",
   "mimetype": "text/x-python",
   "name": "python",
   "nbconvert_exporter": "python",
   "pygments_lexer": "ipython3",
   "version": "3.6.11"
  }
 },
 "nbformat": 4,
 "nbformat_minor": 4
}
