{
 "cells": [
  {
   "cell_type": "markdown",
   "metadata": {},
   "source": [
    "# Source contributions"
   ]
  },
  {
   "cell_type": "code",
   "execution_count": 1,
   "metadata": {},
   "outputs": [],
   "source": [
    "import pickle\n",
    "import numpy as np\n",
    "import matplotlib.pyplot as plt\n",
    "import matplotlib\n",
    "import matplotlib.colors\n",
    "from mpl_toolkits.basemap import Basemap, cm\n",
    "import cmocean\n",
    "import netCDF4 as nc\n",
    "from itertools import compress\n",
    "import datetime as dt\n",
    "import seaborn as sns; sns.set()\n",
    "import pandas as pd\n",
    "from datetime import date\n",
    "\n",
    "%matplotlib inline"
   ]
  },
  {
   "cell_type": "markdown",
   "metadata": {},
   "source": [
    "###### Parameters:"
   ]
  },
  {
   "cell_type": "code",
   "execution_count": 2,
   "metadata": {},
   "outputs": [],
   "source": [
    "imin, imax = 1480, 2180\n",
    "jmin, jmax = 160, 800\n",
    "isize = imax-imin\n",
    "jsize = jmax-jmin\n",
    "\n",
    "# model result set:\n",
    "folder_ref      = '/data/brogalla/run_storage/Mn-reference-202103/'\n",
    "folder_cleanice = '/data/brogalla/run_storage/Mn-clean-ice-202103/'\n",
    "folder_spm      = '/data/brogalla/run_storage/Mn-spm-202103/'\n",
    "\n",
    "colors = ['#ccb598', '#448d90', '#739f78', '#CC8741', '#cee7fd', '#b9c1c7']"
   ]
  },
  {
   "cell_type": "code",
   "execution_count": 3,
   "metadata": {},
   "outputs": [],
   "source": [
    "years = [2002, 2003, 2004, 2005, 2006, 2007, 2008, 2009, 2010, 2011, 2012, 2013, 2014, 2015, 2016, \\\n",
    "         2017, 2018, 2019]"
   ]
  },
  {
   "cell_type": "markdown",
   "metadata": {},
   "source": [
    "###### Load files:"
   ]
  },
  {
   "cell_type": "code",
   "execution_count": 4,
   "metadata": {},
   "outputs": [],
   "source": [
    "mask      = nc.Dataset('/ocean/brogalla/GEOTRACES/data/ANHA12/ANHA12_mesh1.nc')\n",
    "tmask     = np.array(mask.variables['tmask'])[0,:,imin:imax,jmin:jmax]\n",
    "land_mask = np.ma.masked_where((tmask[:,:,:] > 0.1), tmask[:,:,:]) \n",
    "e1t_base = np.array(mask.variables['e1t'])[0,imin:imax,jmin:jmax]\n",
    "e2t_base = np.array(mask.variables['e2t'])[0,imin:imax,jmin:jmax]\n",
    "e3t      = np.array(mask.variables['e3t_0'])[0,:,imin:imax,jmin:jmax]\n",
    "e3t_masked = np.ma.masked_where((tmask[:,:,:] < 0.1), e3t)\n",
    "\n",
    "e1t      = np.tile(e1t_base, (50,1,1))\n",
    "e2t      = np.tile(e2t_base, (50,1,1))\n",
    "volume   = e1t*e2t*e3t\n",
    "volume_masked = np.ma.masked_where((tmask[:,:,:] < 0.1), volume)\n",
    "\n",
    "mesh      = nc.Dataset('/ocean/brogalla/GEOTRACES/ariane_runs/ANHA12-EXH006_y2015m01d05_gridT.nc')\n",
    "lons      = np.array(mesh.variables['nav_lon'])\n",
    "lats      = np.array(mesh.variables['nav_lat'])"
   ]
  },
  {
   "cell_type": "markdown",
   "metadata": {},
   "source": [
    "##### Functions:"
   ]
  },
  {
   "cell_type": "code",
   "execution_count": 5,
   "metadata": {},
   "outputs": [],
   "source": [
    "def load_results(folder_ref, year, experiment):\n",
    "    \n",
    "    months  = ['01', '02', '03', '04', '05', '06', '07', '08', '09', '10', '11', '12']\n",
    "    dmn_riv = np.empty((12,isize,jsize))   ; dmn_sed = np.empty((12,isize,jsize)); \n",
    "    dmn_atm = np.empty((12,isize,jsize))   ; dmn_ice = np.empty((12,isize,jsize));\n",
    "    dmn_sedice = np.empty((12,isize,jsize));\n",
    "    dmn_red = np.empty((12,50,isize,jsize)); dmn_oxi = np.empty((12,50,isize,jsize));\n",
    "    dmn_priv = np.empty((12,isize,jsize))   ;\n",
    "    \n",
    "    i=0\n",
    "    for month in months:\n",
    "        file        = 'ANHA12_EXH006_1m_'+str(year)+'0101_'+str(year)+'1231_comp_'+str(year)+month+'-'+str(year)+month+'.nc'\n",
    "        ref_monthly = nc.Dataset(folder_ref+file)\n",
    "        \n",
    "        dmn_riv[i,:,:]    = np.array(ref_monthly.variables['dmnriv'])[0,:,:]\n",
    "        \n",
    "        if experiment=='spm':\n",
    "            dmn_priv[i,:,:] = np.array(ref_monthly.variables['pmnriv'])[0,:,:]\n",
    "        else:\n",
    "            dmn_priv[i,:,:] = 0\n",
    "            \n",
    "        dmn_sedice[i,:,:] = np.array(ref_monthly.variables['dmnsedice'])[0,:,:]\n",
    "        dmn_sed[i,:,:]    = np.array(ref_monthly.variables['dmnsed'])[0,:,:]        \n",
    "        dmn_atm[i,:,:]    = np.array(ref_monthly.variables['dmnatm'])[0,:,:]\n",
    "        dmn_ice[i,:,:]    = np.array(ref_monthly.variables['dmnice'])[0,:,:]\n",
    "        dmn_red[i,:,:,:]  = np.array(ref_monthly.variables['dmnred'])[0,:,:,:]\n",
    "        dmn_oxi[i,:,:,:]  = np.array(ref_monthly.variables['dmnoxi'])[0,:,:,:]\n",
    "        i+=1\n",
    "    \n",
    "    tmask_surf    = np.empty(dmn_riv.shape)\n",
    "    tmask_surf[:] = tmask[0,:,:]\n",
    "    tmask_full    = np.empty(dmn_red.shape)\n",
    "    tmask_full[:] = tmask\n",
    "    \n",
    "    # Mask points on land:\n",
    "    dmn_mriv    = np.ma.masked_where((tmask_surf < 0.1), dmn_riv); \n",
    "    dmn_mpriv   = np.ma.masked_where((tmask_surf < 0.1), dmn_priv); \n",
    "    dmn_msed    = np.ma.masked_where((tmask_surf < 0.1), dmn_sed)\n",
    "    dmn_msedice = np.ma.masked_where((tmask_surf < 0.1), dmn_sedice)\n",
    "    dmn_matm    = np.ma.masked_where((tmask_surf < 0.1), dmn_atm)\n",
    "    dmn_mice    = np.ma.masked_where((tmask_surf < 0.1), dmn_ice)\n",
    "    dmn_mred    = np.ma.masked_where((tmask_full < 0.1), dmn_red)\n",
    "    dmn_moxi    = np.ma.masked_where((tmask_full < 0.1), dmn_oxi)\n",
    "\n",
    "    return dmn_mriv, dmn_mpriv, dmn_msed, dmn_msedice, dmn_matm, dmn_mice, dmn_mred , dmn_moxi"
   ]
  },
  {
   "cell_type": "code",
   "execution_count": 6,
   "metadata": {},
   "outputs": [],
   "source": [
    "def calculate_contribution(year, mask, experiment='ref'):\n",
    "    # Calculate the contribution of the model components to Canada Basin specifically\n",
    "    \n",
    "    if experiment=='spm':\n",
    "        folder_year = folder_spm + f'ref-{year}-spm-202103/'\n",
    "    else:\n",
    "        folder_year = folder_ref + f'ref-{year}-202103/'\n",
    "    \n",
    "    dmn_mriv, dmn_mpriv, dmn_msed, dmn_msedice, dmn_matm, dmn_mice, dmn_mred, dmn_moxi = \\\n",
    "                    load_results(folder_year, year, experiment)\n",
    "    \n",
    "    # Calculate contributions to the upper water column, so mask locations where sediment resuspension is added in the deep.\n",
    "#     indexes_bottom = np.tile(index_bottom, (12,1,1))\n",
    "#     dmn_msed = np.ma.masked_where(indexes_bottom > 19, dmn_msed)\n",
    "    \n",
    "    # moles per second\n",
    "    priv   = np.ma.masked_where(mask==0, dmn_mpriv)   * volume_masked[0,:,:] * 1e3\n",
    "    riv    = np.ma.masked_where(mask==0, dmn_mriv)    * volume_masked[0,:,:] * 1e3\n",
    "    sed    = np.ma.masked_where(mask==0, dmn_msed)    * volume_bottom * 1e3\n",
    "    sedice = np.ma.masked_where(mask==0, dmn_msedice) * volume_masked[0,:,:] * 1e3\n",
    "    atm    = np.ma.masked_where(mask==0, dmn_matm)    * volume_masked[0,:,:] * 1e3\n",
    "    ice    = np.ma.masked_where(mask==0, dmn_mice)    * volume_masked[0,:,:] * 1e3\n",
    "    \n",
    "    # moles per meter squared per second\n",
    "    privm2   = np.ma.masked_where(mask==0, dmn_mpriv)   * e3t_masked[0,:,:] * 1e3\n",
    "    rivm2    = np.ma.masked_where(mask==0, dmn_mriv)    * e3t_masked[0,:,:] * 1e3\n",
    "    sedm2    = np.ma.masked_where(mask==0, dmn_msed)    * e3t_bottom * 1e3\n",
    "    sedicem2 = np.ma.masked_where(mask==0, dmn_msedice) * e3t_masked[0,:,:] * 1e3\n",
    "    atmm2    = np.ma.masked_where(mask==0, dmn_matm)    * e3t_masked[0,:,:] * 1e3\n",
    "    icem2    = np.ma.masked_where(mask==0, dmn_mice)    * e3t_masked[0,:,:] * 1e3\n",
    "    \n",
    "    # Yearly contribution to domain: \n",
    "    atm_year    = np.ma.sum(atm[:,:,:], axis=(0,1,2))   *3600*24*365\n",
    "    riv_year    = np.ma.sum(riv[:,:,:], axis=(0,1,2))   *3600*24*365\n",
    "    priv_year   = np.ma.sum(priv[:,:,:], axis=(0,1,2))  *3600*24*365\n",
    "    sed_year    = np.ma.sum(sed[:,:,:], axis=(0,1,2))   *3600*24*365\n",
    "    sedice_year = np.ma.sum(sedice[:,:,:], axis=(0,1,2))*3600*24*365\n",
    "    ice_year    = np.ma.sum(ice[:,:,:], axis=(0,1,2))   *3600*24*365\n",
    "    \n",
    "    # Average yearly contribution over domain:\n",
    "    # For masked sediment resuspension locations, I should add a zero:\n",
    "#     sedm2[indexes_bottom > 19] = 0\n",
    "    atmm2_year    = np.ma.average(np.ma.sum(atmm2[:,:,:], axis=(0)))   *3600*24*365\n",
    "    rivm2_year    = np.ma.average(np.ma.sum(rivm2[:,:,:], axis=(0)))   *3600*24*365\n",
    "    privm2_year   = np.ma.average(np.ma.sum(privm2[:,:,:], axis=(0)))  *3600*24*365\n",
    "    sedm2_year    = np.ma.average(np.ma.sum(sedm2[:,:,:], axis=(0)))   *3600*24*365\n",
    "    sedicem2_year = np.ma.average(np.ma.sum(sedicem2[:,:,:], axis=(0)))*3600*24*365\n",
    "    icem2_year    = np.ma.average(np.ma.sum(icem2[:,:,:], axis=(0)))   *3600*24*365\n",
    "\n",
    "    total_yearly_contribution = np.array([priv_year, riv_year, sed_year, sedice_year, ice_year, atm_year])           # mol/yr\n",
    "    ave_yearly_contribution   = np.array([privm2_year, rivm2_year, sedm2_year, sedicem2_year, icem2_year, \\\n",
    "                                          atmm2_year]) # mol/m2/yr\n",
    "    \n",
    "    return total_yearly_contribution, ave_yearly_contribution"
   ]
  },
  {
   "cell_type": "code",
   "execution_count": 7,
   "metadata": {},
   "outputs": [],
   "source": [
    "def calculate_regional_contributions(mask):\n",
    "    \n",
    "    totals_ref   = np.empty((len(years),6)); totals_cleanice   = np.empty((len(years),6)); totals_spm   = np.empty((len(years),6))\n",
    "    averages_ref = np.empty((len(years),6)); averages_cleanice = np.empty((len(years),6)); averages_spm = np.empty((len(years),6))\n",
    "\n",
    "    totals_ref[:]   = np.NaN; totals_cleanice[:]   = np.NaN; totals_spm[:]    = np.NaN;\n",
    "    averages_ref[:] = np.NaN; averages_cleanice[:] = np.NaN; averages_spm[:]  = np.NaN;\n",
    "\n",
    "    for i, year in enumerate(years):\n",
    "        total_ref_year, ave_ref_year           = calculate_contribution(year, mask, experiment='ref')\n",
    "        total_spm_year, ave_spm_year           = calculate_contribution(year, mask, experiment='spm')\n",
    "\n",
    "        totals_ref[i,:]        = total_ref_year \n",
    "        totals_spm[i,:]        = total_spm_year \n",
    "        averages_ref[i,:]      = ave_ref_year \n",
    "        averages_spm[i,:]      = ave_spm_year \n",
    "\n",
    "    \n",
    "    return totals_ref, totals_spm, averages_ref, averages_spm"
   ]
  },
  {
   "cell_type": "code",
   "execution_count": 8,
   "metadata": {},
   "outputs": [],
   "source": [
    "def reshape_arrays(array_in):\n",
    "    fixed      = np.zeros((len(years),5))\n",
    "    \n",
    "    for i in range(0,5):\n",
    "        if i==0: # Sum the particulate and dissolved river contributions\n",
    "            fixed[:,i] = array_in[:,i]+array_in[:,i+1]\n",
    "        else:\n",
    "            fixed[:,i] = array_in[:,i+1]\n",
    "    \n",
    "    return fixed"
   ]
  },
  {
   "cell_type": "code",
   "execution_count": 9,
   "metadata": {},
   "outputs": [],
   "source": [
    "def pipeline(totals_input_ref, totals_input_spm, averages_input_ref, averages_input_spm):\n",
    "    \n",
    "#     regions = ['Full', 'CB', 'CAA', 'wCAA', 'eCAA']\n",
    "    regions = ['CB', 'CAA']\n",
    "    \n",
    "    totals_fixed_ref = totals_input_ref.copy(); averages_fixed_ref = averages_input_ref.copy();\n",
    "    totals_fixed_spm = totals_input_spm.copy(); averages_fixed_spm = averages_input_spm.copy();\n",
    "    \n",
    "    for r, region in enumerate(regions):\n",
    "        totals_fixed_ref[region]   = reshape_arrays(totals_input_ref[region])\n",
    "        totals_fixed_spm[region]   = reshape_arrays(totals_input_spm[region])\n",
    "        averages_fixed_ref[region] = reshape_arrays(averages_input_ref[region])\n",
    "        averages_fixed_spm[region] = reshape_arrays(averages_input_spm[region])\n",
    "    \n",
    "    return totals_fixed_ref, totals_fixed_spm, averages_fixed_ref, averages_fixed_spm"
   ]
  },
  {
   "cell_type": "code",
   "execution_count": 10,
   "metadata": {},
   "outputs": [],
   "source": [
    "def print_interannual_averages(totals_ref_fixed, totals_spm_fixed, \\\n",
    "                               averages_ref_fixed, averages_spm_fixed, \\\n",
    "                               location='Full'):\n",
    "\n",
    "    print('Interannual average values in ' + location)\n",
    "    print('----------------------------------------------------------------')\n",
    "    tref    = np.sum(totals_ref_fixed[location], axis=(0,1))\n",
    "    tspm_up = np.sum(totals_spm_fixed[location], axis=(0,1))\n",
    "\n",
    "    print('----------------------------------------------------------------')\n",
    "    print('Total annual contribution of Mn [%]:') \n",
    "    print(f\"{'-- River discharge ---':<40}\" +\n",
    "          f\"{np.sum(totals_ref_fixed[location][:,0])*100/tref:<5.2f} ({np.sum(totals_spm_fixed[location][:,0])*100/tspm_up:<5.2f})\")\n",
    "    print(f\"{'-- Sediment resuspension ---':<40}\" +\n",
    "          f\"{np.sum(totals_ref_fixed[location][:,1])*100/tref:<5.2f} ({np.sum(totals_spm_fixed[location][:,1])*100/tspm_up:<5.2f})\")\n",
    "    print(f\"{'-- Sediment released by sea ice ---':<40}\" +\n",
    "          f\"{np.sum(totals_ref_fixed[location][:,2])*100/tref:<5.2f} ({np.sum(totals_spm_fixed[location][:,2])*100/tspm_up:<5.2f})\")\n",
    "    print(f\"{'-- Dust released by sea ice ---':<40}\" +\n",
    "          f\"{np.sum(totals_ref_fixed[location][:,3])*100/tref:<5.2f} ({np.sum(totals_spm_fixed[location][:,3])*100/tspm_up:<5.2f})\")\n",
    "    print(f\"{'-- Dust deposition ---':<40}\" +\n",
    "          f\"{np.sum(totals_ref_fixed[location][:,4])*100/tref:<5.2f} ({np.sum(totals_spm_fixed[location][:,4])*100/tspm_up:<5.2f})\") #*100*100\n",
    "\n",
    "    print('----------------------------------------------------------------')\n",
    "    print(f\"{'Average annual contribution of Mn [micromol/m2/yr]:':<55}\" +\n",
    "          f\"{np.average(np.sum(averages_ref_fixed[location], axis=1)*1e6):<5.0f}\" +\n",
    "          f\"({np.average(np.sum(averages_spm_fixed[location], axis=1)*1e6):<5.0f})\")\n",
    "    print(f\"{'-- River discharge ---':<40}\" +\n",
    "          f\"{np.average(averages_ref_fixed[location][:,0])*1e6:<8.2f} ({np.average(averages_spm_fixed[location][:,0])*1e6:<8.2f})\")\n",
    "    print(f\"{'-- Sediment resuspension ---':<40}\" +\n",
    "          f\"{np.average(averages_ref_fixed[location][:,1])*1e6:<8.2f} ({np.average(averages_spm_fixed[location][:,1])*1e6:<8.2f})\")\n",
    "    print(f\"{'-- Sediment released by sea ice ---':<40}\" +\n",
    "          f\"{np.average(averages_ref_fixed[location][:,2])*1e6:<8.2f} ({np.average(averages_spm_fixed[location][:,2])*1e6:<8.2f})\")\n",
    "    print(f\"{'-- Dust released by sea ice ---':<40}\" +\n",
    "          f\"{np.average(averages_ref_fixed[location][:,3])*1e6:<8.2f} ({np.average(averages_spm_fixed[location][:,3])*1e6:<8.2f})\")\n",
    "    print(f\"{'-- Dust deposition ---':<40}\" +\n",
    "          f\"{np.average(averages_ref_fixed[location][:,4])*1e6:<8.2f} ({np.average(averages_spm_fixed[location][:,4])*1e6:<8.2f})\")\n",
    "\n",
    "    return"
   ]
  },
  {
   "cell_type": "markdown",
   "metadata": {},
   "source": [
    "### Calculations:"
   ]
  },
  {
   "cell_type": "markdown",
   "metadata": {},
   "source": [
    "Find grid cell volume and thickness at ocean floor:"
   ]
  },
  {
   "cell_type": "code",
   "execution_count": 11,
   "metadata": {},
   "outputs": [],
   "source": [
    "tmask_bot = np.copy(tmask)\n",
    "tmask_bot[0,:,:] = 1\n",
    "e3t_mask = np.ma.masked_where((tmask_bot[:,:,:] < 0.1), e3t[:,:,:])\n",
    "\n",
    "# find bottom grid cell index:\n",
    "ind = np.array(np.ma.notmasked_edges(e3t_mask[:,:,:], axis=0))\n",
    "\n",
    "# array of shape (isize, jsize) containing bottom grid cell index\n",
    "index_bottom = np.ma.masked_where((tmask[0,:,:] < 0.1), ind[1][0][:].reshape(isize,jsize))\n",
    "# index_bottom = np.ma.argmax(e3t_masked[:,:,:], axis=0)"
   ]
  },
  {
   "cell_type": "code",
   "execution_count": 12,
   "metadata": {},
   "outputs": [],
   "source": [
    "e3t_bot = np.zeros((isize,jsize))\n",
    "vol_bot = np.zeros((isize,jsize))\n",
    "\n",
    "for i in range(0, isize):\n",
    "    for j in range(0,jsize):\n",
    "        k = index_bottom[i,j]\n",
    "        try:\n",
    "            e3t_bot[i,j] = e3t[k,i,j]\n",
    "            vol_bot[i,j] = volume[k,i,j]\n",
    "        except:\n",
    "            e3t_bot[i,j] = np.nan\n",
    "            vol_bot[i,j] = np.nan\n",
    "        \n",
    "e3t_bottom    = np.ma.masked_where((tmask[0,:,:] < 0.1), np.ma.masked_where(np.isnan(e3t_bot), e3t_bot))\n",
    "volume_bottom = np.ma.masked_where((tmask[0,:,:] < 0.1), np.ma.masked_where(np.isnan(vol_bot), vol_bot))"
   ]
  },
  {
   "cell_type": "markdown",
   "metadata": {},
   "source": [
    "Create masks for specific subregions:\n",
    "- Canada Basin\n",
    "- CAA\n",
    "- Full domain\n",
    "- Western CAA (separated by Barrow Sill)\n",
    "- Eastern CAA (separated by Barrow Sill)"
   ]
  },
  {
   "cell_type": "code",
   "execution_count": 13,
   "metadata": {},
   "outputs": [],
   "source": [
    "# Find indices to separate out Canada Basin:\n",
    "\n",
    "x_ind = np.arange(1620, 2100, 1)\n",
    "y_ind = (-7/8)*x_ind + 1517 + 700\n",
    "\n",
    "CB_indx = []\n",
    "CB_indy = []\n",
    "\n",
    "for index in range(0,len(x_ind)):\n",
    "    CB_x = np.arange(x_ind[index],2180,1)\n",
    "    CB_y = np.ones(CB_x.shape)*y_ind[index]\n",
    "    \n",
    "    CB_indx = np.append(CB_x, CB_indx)\n",
    "    CB_indy = np.append(CB_y, CB_indy)"
   ]
  },
  {
   "cell_type": "code",
   "execution_count": 14,
   "metadata": {},
   "outputs": [],
   "source": [
    "# Separate Canada Basin and the CAA:\n",
    "mask_ini_CB  = np.zeros((isize,jsize))\n",
    "mask_ini_CAA = np.ones((isize,jsize))\n",
    "\n",
    "for i, j in zip(CB_indx, CB_indy):\n",
    "    mask_ini_CB[int(i-imin),int(j-jmin)]  = 1\n",
    "    mask_ini_CAA[int(i-imin),int(j-jmin)] = 0\n",
    "    \n",
    "mask_ini_CB[150:-1 ,-8:-1] = 1\n",
    "mask_ini_CAA[150:-1,-8:-1] = 0\n"
   ]
  },
  {
   "cell_type": "code",
   "execution_count": 15,
   "metadata": {},
   "outputs": [],
   "source": [
    "mask_ini_wCAA = np.zeros((isize,jsize))\n",
    "mask_ini_eCAA = np.zeros((isize,jsize))\n",
    "\n",
    "# Separate the western and eastern CAA:\n",
    "mask_ini_wCAA = np.where(lons[imin:imax,jmin:jmax] < -100, 1, 0)\n",
    "mask_ini_eCAA = np.where(lons[imin:imax,jmin:jmax] > -100, 1, 0)\n",
    "\n",
    "for i, j in zip(CB_indx, CB_indy):\n",
    "    mask_ini_wCAA[int(i-imin),int(j-jmin)] = 0\n",
    "    mask_ini_eCAA[int(i-imin),int(j-jmin)] = 0\n",
    "    \n",
    "mask_ini_wCAA[150:-1,-8:-1] = 0\n",
    "mask_ini_eCAA[150:-1,-8:-1] = 0"
   ]
  },
  {
   "cell_type": "code",
   "execution_count": 16,
   "metadata": {},
   "outputs": [],
   "source": [
    "mask_CB_yr    = np.tile(mask_ini_CB  , (12,1,1))\n",
    "mask_CAA_yr   = np.tile(mask_ini_CAA , (12,1,1))\n",
    "mask_full_yr  = np.ones((12, isize, jsize))\n",
    "mask_wCAA_yr  = np.tile(mask_ini_wCAA, (12,1,1))\n",
    "mask_eCAA_yr  = np.tile(mask_ini_eCAA, (12,1,1))"
   ]
  },
  {
   "cell_type": "code",
   "execution_count": 17,
   "metadata": {},
   "outputs": [],
   "source": [
    "mask_CB_depth = np.tile(mask_CB_yr  , (50,1,1,1))\n",
    "mask_CB_depth = mask_CB_depth.reshape(12,50,700,640)"
   ]
  },
  {
   "cell_type": "markdown",
   "metadata": {},
   "source": [
    "### Calculate:"
   ]
  },
  {
   "cell_type": "code",
   "execution_count": 18,
   "metadata": {},
   "outputs": [],
   "source": [
    "CB_totals_ref, CB_totals_spm, CB_averages_ref, CB_averages_spm = calculate_regional_contributions(mask_CB_yr)"
   ]
  },
  {
   "cell_type": "code",
   "execution_count": 19,
   "metadata": {},
   "outputs": [],
   "source": [
    "CAA_totals_ref, CAA_totals_spm, CAA_averages_ref, CAA_averages_spm = calculate_regional_contributions(mask_CAA_yr)"
   ]
  },
  {
   "cell_type": "markdown",
   "metadata": {},
   "source": [
    "### Pickle the results from these calculations:"
   ]
  },
  {
   "cell_type": "code",
   "execution_count": 20,
   "metadata": {},
   "outputs": [],
   "source": [
    "pickle.dump((CB_totals_ref, CAA_totals_ref),\\\n",
    "            open('calculations/ref-total_component_contributions-20210413-full-column.pickle','wb'))"
   ]
  },
  {
   "cell_type": "code",
   "execution_count": 21,
   "metadata": {},
   "outputs": [],
   "source": [
    "pickle.dump((CB_totals_spm, CAA_totals_spm),\\\n",
    "            open('calculations/spm-total_component_contributions-20210413-full-column.pickle','wb'))"
   ]
  },
  {
   "cell_type": "code",
   "execution_count": 22,
   "metadata": {},
   "outputs": [],
   "source": [
    "pickle.dump((CB_averages_ref, CAA_averages_ref),\\\n",
    "            open('calculations/ref-averages_component_contributions-20210413-full-column.pickle','wb'))"
   ]
  },
  {
   "cell_type": "code",
   "execution_count": 23,
   "metadata": {},
   "outputs": [],
   "source": [
    "pickle.dump((CB_averages_spm, CAA_averages_spm),\\\n",
    "            open('calculations/spm-averages_component_contributions-20210413-full-column.pickle','wb'))"
   ]
  },
  {
   "cell_type": "markdown",
   "metadata": {},
   "source": [
    "### Overview:"
   ]
  },
  {
   "cell_type": "code",
   "execution_count": 18,
   "metadata": {},
   "outputs": [],
   "source": [
    "CB_totals_ref, CAA_totals_ref = \\\n",
    "                pickle.load(open('calculations/ref-total_component_contributions-20210413-full-column.pickle','rb')) \n",
    "CB_totals_spm, CAA_totals_spm = \\\n",
    "                pickle.load(open('calculations/spm-total_component_contributions-20210413-full-column.pickle','rb')) \n",
    "CB_averages_ref, CAA_averages_ref = \\\n",
    "                pickle.load(open('calculations/ref-averages_component_contributions-20210413-full-column.pickle','rb')) \n",
    "CB_averages_spm, CAA_averages_spm = \\\n",
    "                pickle.load(open('calculations/spm-averages_component_contributions-20210413-full-column.pickle','rb')) "
   ]
  },
  {
   "cell_type": "code",
   "execution_count": 19,
   "metadata": {},
   "outputs": [],
   "source": [
    "ref_totals   = {'CB': CB_totals_ref, 'CAA':CAA_totals_ref}\n",
    "spm_totals   = {'CB': CB_totals_spm, 'CAA':CAA_totals_spm}\n",
    "ref_averages = {'CB': CB_averages_ref, 'CAA':CAA_averages_ref}\n",
    "spm_averages = {'CB': CB_averages_spm, 'CAA':CAA_averages_spm}"
   ]
  },
  {
   "cell_type": "code",
   "execution_count": 20,
   "metadata": {},
   "outputs": [],
   "source": [
    "final_ref_totals, final_spm_totals, final_ref_averages, final_spm_averages = pipeline(ref_totals, spm_totals, ref_averages, spm_averages)"
   ]
  },
  {
   "cell_type": "code",
   "execution_count": 21,
   "metadata": {},
   "outputs": [
    {
     "name": "stdout",
     "output_type": "stream",
     "text": [
      "Interannual average values in CB\n",
      "----------------------------------------------------------------\n",
      "----------------------------------------------------------------\n",
      "Total annual contribution of Mn [%]:\n",
      "-- River discharge ---                  2.69  (10.12)\n",
      "-- Sediment resuspension ---            35.23 (32.54)\n",
      "-- Sediment released by sea ice ---     61.96 (57.23)\n",
      "-- Dust released by sea ice ---         0.10  (0.09 )\n",
      "-- Dust deposition ---                  0.02  (0.01 )\n",
      "----------------------------------------------------------------\n",
      "Average annual contribution of Mn [micromol/m2/yr]:    2397 (2596 )\n",
      "-- River discharge ---                  66.63    (266.44  )\n",
      "-- Sediment resuspension ---            852.80   (852.80  )\n",
      "-- Sediment released by sea ice ---     1474.54  (1474.55 )\n",
      "-- Dust released by sea ice ---         2.34     (2.34    )\n",
      "-- Dust deposition ---                  0.37     (0.37    )\n"
     ]
    }
   ],
   "source": [
    "print_interannual_averages(final_ref_totals, final_spm_totals, \\\n",
    "                           final_ref_averages, final_spm_averages, location='CB')"
   ]
  },
  {
   "cell_type": "code",
   "execution_count": 22,
   "metadata": {},
   "outputs": [
    {
     "name": "stdout",
     "output_type": "stream",
     "text": [
      "Interannual average values in CAA\n",
      "----------------------------------------------------------------\n",
      "----------------------------------------------------------------\n",
      "Total annual contribution of Mn [%]:\n",
      "-- River discharge ---                  1.11  (9.58 )\n",
      "-- Sediment resuspension ---            95.58 (87.39)\n",
      "-- Sediment released by sea ice ---     3.29  (3.01 )\n",
      "-- Dust released by sea ice ---         0.02  (0.02 )\n",
      "-- Dust deposition ---                  0.00  (0.00 )\n",
      "----------------------------------------------------------------\n",
      "Average annual contribution of Mn [micromol/m2/yr]:    15691(16832)\n",
      "-- River discharge ---                  159.93   (1301.72 )\n",
      "-- Sediment resuspension ---            14968.66 (14968.66)\n",
      "-- Sediment released by sea ice ---     558.30   (558.30  )\n",
      "-- Dust released by sea ice ---         3.24     (3.24    )\n",
      "-- Dust deposition ---                  0.41     (0.41    )\n"
     ]
    }
   ],
   "source": [
    "print_interannual_averages(final_ref_totals, final_spm_totals, \\\n",
    "                           final_ref_averages, final_spm_averages, location='CAA')"
   ]
  },
  {
   "cell_type": "code",
   "execution_count": null,
   "metadata": {},
   "outputs": [],
   "source": []
  },
  {
   "cell_type": "code",
   "execution_count": null,
   "metadata": {},
   "outputs": [],
   "source": []
  }
 ],
 "metadata": {
  "kernelspec": {
   "display_name": "Python 3",
   "language": "python",
   "name": "python3"
  },
  "language_info": {
   "codemirror_mode": {
    "name": "ipython",
    "version": 3
   },
   "file_extension": ".py",
   "mimetype": "text/x-python",
   "name": "python",
   "nbconvert_exporter": "python",
   "pygments_lexer": "ipython3",
   "version": "3.6.11"
  }
 },
 "nbformat": 4,
 "nbformat_minor": 4
}
