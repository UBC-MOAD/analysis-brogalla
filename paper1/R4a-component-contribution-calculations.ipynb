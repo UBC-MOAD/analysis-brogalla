{
 "cells": [
  {
   "cell_type": "markdown",
   "metadata": {},
   "source": [
    "# Source contributions"
   ]
  },
  {
   "cell_type": "code",
   "execution_count": 1,
   "metadata": {},
   "outputs": [],
   "source": [
    "import pickle\n",
    "import numpy as np\n",
    "import matplotlib.pyplot as plt\n",
    "import matplotlib\n",
    "import matplotlib.colors\n",
    "from mpl_toolkits.basemap import Basemap, cm\n",
    "import cmocean\n",
    "import netCDF4 as nc\n",
    "from itertools import compress\n",
    "import datetime as dt\n",
    "import seaborn as sns; sns.set()\n",
    "import pandas as pd\n",
    "from datetime import date\n",
    "\n",
    "%matplotlib inline"
   ]
  },
  {
   "cell_type": "markdown",
   "metadata": {},
   "source": [
    "###### Parameters:"
   ]
  },
  {
   "cell_type": "code",
   "execution_count": 2,
   "metadata": {},
   "outputs": [],
   "source": [
    "imin, imax = 1480, 2180\n",
    "jmin, jmax = 160, 800\n",
    "isize = imax-imin\n",
    "jsize = jmax-jmin\n",
    "\n",
    "# model result set:\n",
    "folder_ref      = '/data/brogalla/run_storage/Mn-reference-202103/'\n",
    "folder_cleanice = '/data/brogalla/run_storage/Mn-clean-ice-202103/'\n",
    "folder_spm      = '/data/brogalla/run_storage/Mn-spm-202103/'\n",
    "\n",
    "colors = ['#ccb598', '#448d90', '#739f78', '#CC8741', '#cee7fd', '#b9c1c7']"
   ]
  },
  {
   "cell_type": "code",
   "execution_count": 3,
   "metadata": {},
   "outputs": [],
   "source": [
    "years = [2002, 2003, 2004, 2005, 2006, 2007, 2008, 2009, 2010, 2011, 2012, 2013, 2014, 2015, 2016, \\\n",
    "         2017, 2018, 2019]"
   ]
  },
  {
   "cell_type": "markdown",
   "metadata": {},
   "source": [
    "###### Load files:"
   ]
  },
  {
   "cell_type": "code",
   "execution_count": 4,
   "metadata": {},
   "outputs": [],
   "source": [
    "mask      = nc.Dataset('/ocean/brogalla/GEOTRACES/data/ANHA12/ANHA12_mesh1.nc')\n",
    "tmask     = np.array(mask.variables['tmask'])[0,:,imin:imax,jmin:jmax]\n",
    "land_mask = np.ma.masked_where((tmask[:,:,:] > 0.1), tmask[:,:,:]) \n",
    "e1t_base  = np.array(mask.variables['e1t'])[0,imin:imax,jmin:jmax]\n",
    "e2t_base  = np.array(mask.variables['e2t'])[0,imin:imax,jmin:jmax]\n",
    "e3t       = np.array(mask.variables['e3t_0'])[0,:,imin:imax,jmin:jmax]\n",
    "e3t_masked = np.ma.masked_where((tmask[:,:,:] < 0.1), e3t)\n",
    "\n",
    "e1t       = np.tile(e1t_base, (50,1,1))\n",
    "e2t       = np.tile(e2t_base, (50,1,1))\n",
    "volume    = e1t*e2t*e3t\n",
    "area_base = e1t_base*e2t_base\n",
    "volume_masked = np.ma.masked_where((tmask[:,:,:] < 0.1), volume)\n",
    "area_masked   = np.ma.masked_where((tmask[0,:,:] < 0.1), area_base)\n",
    "\n",
    "mesh      = nc.Dataset('/ocean/brogalla/GEOTRACES/ariane_runs/ANHA12-EXH006_y2015m01d05_gridT.nc')\n",
    "lons      = np.array(mesh.variables['nav_lon'])\n",
    "lats      = np.array(mesh.variables['nav_lat'])"
   ]
  },
  {
   "cell_type": "markdown",
   "metadata": {},
   "source": [
    "##### Functions:"
   ]
  },
  {
   "cell_type": "code",
   "execution_count": 5,
   "metadata": {},
   "outputs": [],
   "source": [
    "def load_results(folder_ref, year, experiment):\n",
    "    \n",
    "    months  = ['01', '02', '03', '04', '05', '06', '07', '08', '09', '10', '11', '12']\n",
    "    dmn_riv = np.empty((12,isize,jsize))   ; dmn_sed = np.empty((12,isize,jsize)); \n",
    "    dmn_atm = np.empty((12,isize,jsize))   ; dmn_ice = np.empty((12,isize,jsize));\n",
    "    dmn_sedice = np.empty((12,isize,jsize));\n",
    "    dmn_red = np.empty((12,50,isize,jsize)); dmn_oxi = np.empty((12,50,isize,jsize));\n",
    "    dmn_priv = np.empty((12,isize,jsize))   ;\n",
    "    \n",
    "    for i, month in enumerate(months):\n",
    "        file        = f'ANHA12_EXH006_1m_{year}0101_{year}1231_comp_{year}{month}-{year}{month}.nc'\n",
    "        ref_monthly = nc.Dataset(folder_ref+file)\n",
    "        \n",
    "        dmn_riv[i,:,:]    = np.array(ref_monthly.variables['dmnriv'])[0,:,:]\n",
    "        \n",
    "        if experiment=='spm':\n",
    "            dmn_priv[i,:,:] = np.array(ref_monthly.variables['pmnriv'])[0,:,:]\n",
    "        else:\n",
    "            dmn_priv[i,:,:] = 0\n",
    "        \n",
    "        dmn_sed[i,:,:]    = np.array(ref_monthly.variables['dmnsed'])[0,:,:]\n",
    "        dmn_sedice[i,:,:] = np.array(ref_monthly.variables['dmnsedice'])[0,:,:]\n",
    "        dmn_atm[i,:,:]    = np.array(ref_monthly.variables['dmnatm'])[0,:,:]\n",
    "        dmn_ice[i,:,:]    = np.array(ref_monthly.variables['dmnice'])[0,:,:]\n",
    "        dmn_red[i,:,:,:]  = np.array(ref_monthly.variables['dmnred'])[0,:,:,:]\n",
    "        dmn_oxi[i,:,:,:]  = np.array(ref_monthly.variables['dmnoxi'])[0,:,:,:]\n",
    "    \n",
    "    tmask_surf    = np.empty(dmn_riv.shape)\n",
    "    tmask_surf[:] = tmask[0,:,:]\n",
    "    tmask_full    = np.empty(dmn_red.shape)\n",
    "    tmask_full[:] = tmask\n",
    "    \n",
    "    # Mask points on land:\n",
    "    dmn_mriv    = np.ma.masked_where((tmask_surf < 0.1), dmn_riv); \n",
    "    dmn_mpriv   = np.ma.masked_where((tmask_surf < 0.1), dmn_priv); \n",
    "    dmn_msed    = np.ma.masked_where((tmask_surf < 0.1), dmn_sed)\n",
    "    dmn_msedice = np.ma.masked_where((tmask_surf < 0.1), dmn_sedice)\n",
    "    dmn_matm    = np.ma.masked_where((tmask_surf < 0.1), dmn_atm)\n",
    "    dmn_mice    = np.ma.masked_where((tmask_surf < 0.1), dmn_ice)\n",
    "    dmn_mred    = np.ma.masked_where((tmask_full < 0.1), dmn_red)\n",
    "    dmn_moxi    = np.ma.masked_where((tmask_full < 0.1), dmn_oxi)\n",
    "\n",
    "    return dmn_mriv, dmn_mpriv, dmn_msed, dmn_msedice, dmn_matm, dmn_mice, dmn_mred , dmn_moxi"
   ]
  },
  {
   "cell_type": "code",
   "execution_count": 6,
   "metadata": {},
   "outputs": [],
   "source": [
    "def calculate_contribution(year, mask, experiment='ref'):\n",
    "    # Calculate the contribution of the model components by region:\n",
    "    \n",
    "    if experiment=='spm':\n",
    "        folder_year = folder_spm + f'ref-{year}-spm-202103/'\n",
    "    else:\n",
    "        folder_year = folder_ref + f'ref-{year}-202103/'\n",
    "    \n",
    "    dmn_mriv, dmn_mpriv, dmn_msed, dmn_msedice, dmn_matm, dmn_mice, dmn_mred, dmn_moxi = \\\n",
    "                    load_results(folder_year, year, experiment)\n",
    "    \n",
    "    # Calculate contributions to the upper water column, so mask locations where sediment resuspension is added in the deep.\n",
    "    indexes_bottom = np.tile(index_bottom, (12,1,1))\n",
    "    dmn_msed = np.ma.masked_where(indexes_bottom > 19, dmn_msed)\n",
    "    \n",
    "    # moles per second\n",
    "    priv   = np.ma.masked_where(mask==0, dmn_mpriv)   * volume_masked[0,:,:] * 1e3\n",
    "    riv    = np.ma.masked_where(mask==0, dmn_mriv)    * volume_masked[0,:,:] * 1e3\n",
    "    sed    = np.ma.masked_where(mask==0, dmn_msed)    * volume_bottom * 1e3\n",
    "    sedice = np.ma.masked_where(mask==0, dmn_msedice) * volume_masked[0,:,:] * 1e3\n",
    "    atm    = np.ma.masked_where(mask==0, dmn_matm)    * volume_masked[0,:,:] * 1e3\n",
    "    ice    = np.ma.masked_where(mask==0, dmn_mice)    * volume_masked[0,:,:] * 1e3\n",
    "    \n",
    "#     # moles per meter squared per second\n",
    "#     privm2   = np.ma.masked_where(mask==0, dmn_mpriv)   * e3t_masked[0,:,:] * 1e3\n",
    "#     rivm2    = np.ma.masked_where(mask==0, dmn_mriv)    * e3t_masked[0,:,:] * 1e3\n",
    "#     sedm2    = np.ma.masked_where(mask==0, dmn_msed)    * e3t_bottom * 1e3\n",
    "#     sedicem2 = np.ma.masked_where(mask==0, dmn_msedice) * e3t_masked[0,:,:] * 1e3\n",
    "#     atmm2    = np.ma.masked_where(mask==0, dmn_matm)    * e3t_masked[0,:,:] * 1e3\n",
    "#     icem2    = np.ma.masked_where(mask==0, dmn_mice)    * e3t_masked[0,:,:] * 1e3\n",
    "    \n",
    "    # Yearly contribution to domain: moles / year\n",
    "    atm_year    = np.ma.sum(atm[:,:,:], axis=(0,1,2))   *3600*24*365 / 12\n",
    "    riv_year    = np.ma.sum(riv[:,:,:], axis=(0,1,2))   *3600*24*365 / 12\n",
    "    priv_year   = np.ma.sum(priv[:,:,:], axis=(0,1,2))  *3600*24*365 / 12\n",
    "    sed_year    = np.ma.sum(sed[:,:,:], axis=(0,1,2))   *3600*24*365 / 12\n",
    "    sedice_year = np.ma.sum(sedice[:,:,:], axis=(0,1,2))*3600*24*365 / 12\n",
    "    ice_year    = np.ma.sum(ice[:,:,:], axis=(0,1,2))   *3600*24*365 / 12\n",
    "    \n",
    "    # Average yearly contribution over domain: moles / m2 / year\n",
    "    total_area     = np.ma.sum(np.ma.masked_where(mask[0,:,:]==0, area_masked[:,:]))\n",
    "    atmm2_year     =  atm_year    / total_area\n",
    "    rivm2_year     =  riv_year    / total_area\n",
    "    privm2_year    =  priv_year   / total_area\n",
    "    sedm2_year     =  sed_year    / total_area \n",
    "    sedicem2_year  =  sedice_year / total_area\n",
    "    icem2_year     =  ice_year    / total_area\n",
    "    \n",
    "#     atmm2_year    = np.ma.average(np.ma.sum(atmm2[:,:,:], axis=(0)))   *3600*24*365\n",
    "#     rivm2_year    = np.ma.average(np.ma.sum(rivm2[:,:,:], axis=(0)))   *3600*24*365\n",
    "#     privm2_year   = np.ma.average(np.ma.sum(privm2[:,:,:], axis=(0)))  *3600*24*365\n",
    "#     sedm2_year    = np.ma.average(np.ma.sum(sedm2[:,:,:], axis=(0)))   *3600*24*365\n",
    "#     sedicem2_year = np.ma.average(np.ma.sum(sedicem2[:,:,:], axis=(0)))*3600*24*365\n",
    "#     icem2_year    = np.ma.average(np.ma.sum(icem2[:,:,:], axis=(0)))   *3600*24*365                                            \n",
    "    \n",
    "    total_yearly_contribution = np.array([priv_year, riv_year, sed_year, sedice_year, ice_year, atm_year])           # mol/yr\n",
    "    ave_yearly_contribution   = np.array([privm2_year, rivm2_year, sedm2_year, sedicem2_year, icem2_year, \\\n",
    "                                          atmm2_year]) # mol/m2/yr\n",
    "    \n",
    "    return total_yearly_contribution, ave_yearly_contribution"
   ]
  },
  {
   "cell_type": "code",
   "execution_count": 7,
   "metadata": {},
   "outputs": [],
   "source": [
    "def calculate_regional_contributions(mask):\n",
    "    \n",
    "    totals_ref   = np.empty((len(years),6)); totals_spm   = np.empty((len(years),6))\n",
    "    averages_ref = np.empty((len(years),6)); averages_spm = np.empty((len(years),6))\n",
    "\n",
    "    totals_ref[:]   = np.NaN; totals_spm[:]    = np.NaN;\n",
    "    averages_ref[:] = np.NaN; averages_spm[:]  = np.NaN;\n",
    "\n",
    "    for i, year in enumerate(years):\n",
    "        total_ref_year, ave_ref_year           = calculate_contribution(year, mask, experiment='ref')\n",
    "        total_spm_year, ave_spm_year           = calculate_contribution(year, mask, experiment='spm')\n",
    "\n",
    "        totals_ref[i,:]        = total_ref_year \n",
    "        totals_spm[i,:]        = total_spm_year \n",
    "        averages_ref[i,:]      = ave_ref_year  \n",
    "        averages_spm[i,:]      = ave_spm_year \n",
    "    \n",
    "    return totals_ref, totals_spm, averages_ref, averages_spm"
   ]
  },
  {
   "cell_type": "code",
   "execution_count": 8,
   "metadata": {},
   "outputs": [],
   "source": [
    "def reshape_arrays(array_in):\n",
    "    fixed      = np.zeros((len(years),5))\n",
    "    \n",
    "    for i in range(0,5):\n",
    "        if i==0: # Sum the particulate and dissolved river contributions\n",
    "            fixed[:,i] = array_in[:,i]+array_in[:,i+1]\n",
    "        else:\n",
    "            fixed[:,i] = array_in[:,i+1]\n",
    "    \n",
    "    return fixed"
   ]
  },
  {
   "cell_type": "code",
   "execution_count": 9,
   "metadata": {},
   "outputs": [],
   "source": [
    "def pipeline(totals_input_ref, totals_input_spm, averages_input_ref, averages_input_spm):\n",
    "    \n",
    "    regions = ['CB', 'CAA', 'wCAA', 'eCAA']\n",
    "    \n",
    "    totals_fixed_ref = totals_input_ref.copy(); averages_fixed_ref = averages_input_ref.copy();\n",
    "    totals_fixed_spm = totals_input_spm.copy(); averages_fixed_spm = averages_input_spm.copy();\n",
    "    \n",
    "    # Reshape arrays so that particulate and dissolved river contributions are combined into one.\n",
    "    for region in regions:\n",
    "\n",
    "        totals_fixed_ref[region]   = reshape_arrays(totals_input_ref[region])\n",
    "        totals_fixed_spm[region]   = reshape_arrays(totals_input_spm[region])\n",
    "        averages_fixed_ref[region] = reshape_arrays(averages_input_ref[region])\n",
    "        averages_fixed_spm[region] = reshape_arrays(averages_input_spm[region])\n",
    "    \n",
    "    return totals_fixed_ref, totals_fixed_spm, averages_fixed_ref, averages_fixed_spm"
   ]
  },
  {
   "cell_type": "code",
   "execution_count": 10,
   "metadata": {},
   "outputs": [],
   "source": [
    "def print_interannual_averages(totals_ref, totals_spm, averages_ref, averages_spm, location='Full'):\n",
    "\n",
    "    print('Interannual average values in ' + location)\n",
    "    print('----------------------------------------------------------------')\n",
    "    total_ref_annual = np.sum(totals_ref[location], axis=1)\n",
    "    total_spm_annual = np.sum(totals_spm[location], axis=1)\n",
    "    \n",
    "    print(f\"{'Total annual contribution of Mn [Mmol/yr]:':<55}\" +\n",
    "          f\"{np.average(total_ref_annual)*1e-6:<5.0f} ({np.average(total_spm_annual)*1e-6:<5.0f})\")\n",
    "    print(f\"{'-- River discharge ---':<40}\" +\n",
    "          f\" {np.average(totals_ref[location][:,0])*1e-6:<8.2f} ({np.average(totals_spm[location][:,0])*1e-6:<8.2f})\")\n",
    "    print(f\"{'-- Sediment resuspension ---':<40}\" +\n",
    "          f\" {np.average(totals_ref[location][:,1])*1e-6:<8.2f} ({np.average(totals_spm[location][:,1])*1e-6:<8.2f})\")\n",
    "    print(f\"{'-- Sediment released by sea ice ---':<40}\" +\n",
    "          f\" {np.average(totals_ref[location][:,2])*1e-6:<8.2f} ({np.average(totals_spm[location][:,2])*1e-6:<8.2f})\")\n",
    "    print(f\"{'-- Dust released by sea ice ---':<40}\" +\n",
    "          f\" {np.average(totals_ref[location][:,3])*1e-6:<8.2f} ({np.average(totals_spm[location][:,3])*1e-6:<8.2f})\")\n",
    "    print(f\"{'-- Dust deposition ---':<40}\" +\n",
    "          f\" {np.average(totals_ref[location][:,4])*1e-6:<8.2f} ({np.average(totals_spm[location][:,4])*1e-6:<8.2f})\") \n",
    "\n",
    "    tref = np.sum(totals_ref[location], axis=(0,1))\n",
    "    tspm = np.sum(totals_spm[location], axis=(0,1))\n",
    "\n",
    "    print('----------------------------------------------------------------')\n",
    "    print('Total annual contribution of Mn [%]:') \n",
    "    print(f\"{'-- River discharge ---':<40}\" +\n",
    "          f\"{np.sum(totals_ref[location][:,0])*100/tref:<5.2f} ({np.sum(totals_spm[location][:,0])*100/tspm:<5.2f})\")\n",
    "    print(f\"{'-- Sediment resuspension ---':<40}\" +\n",
    "          f\"{np.sum(totals_ref[location][:,1])*100/tref:<5.2f} ({np.sum(totals_spm[location][:,1])*100/tspm:<5.2f})\")\n",
    "    print(f\"{'-- Sediment released by sea ice ---':<40}\" +\n",
    "          f\"{np.sum(totals_ref[location][:,2])*100/tref:<5.2f} ({np.sum(totals_spm[location][:,2])*100/tspm:<5.2f})\")\n",
    "    print(f\"{'-- Dust released by sea ice ---':<40}\" +\n",
    "          f\"{np.sum(totals_ref[location][:,3])*100/tref:<5.2f} ({np.sum(totals_spm[location][:,3])*100/tspm:<5.2f})\")\n",
    "    print(f\"{'-- Dust deposition ---':<40}\" +\n",
    "          f\"{np.sum(totals_ref[location][:,4])*100/tref:<5.2f} ({np.sum(totals_spm[location][:,4])*100/tspm:<5.2f})\")\n",
    "\n",
    "    print('----------------------------------------------------------------')\n",
    "    print(f\"{'Average annual contribution of Mn [micromol/m2/yr]:':<55}\" +\n",
    "          f\"{np.average(np.sum(averages_ref[location], axis=1)*1e6):<5.0f}\" +\n",
    "          f\"({np.average(np.sum(averages_spm[location], axis=1)*1e6):<5.0f})\")\n",
    "    print(f\"{'-- River discharge ---':<40}\" +\n",
    "          f\"{np.average(averages_ref[location][:,0])*1e6:<8.2f} ({np.average(averages_spm[location][:,0])*1e6:<8.2f})\")\n",
    "    print(f\"{'-- Sediment resuspension ---':<40}\" +\n",
    "          f\"{np.average(averages_ref[location][:,1])*1e6:<8.2f} ({np.average(averages_spm[location][:,1])*1e6:<8.2f})\")\n",
    "    print(f\"{'-- Sediment released by sea ice ---':<40}\" +\n",
    "          f\"{np.average(averages_ref[location][:,2])*1e6:<8.2f} ({np.average(averages_spm[location][:,2])*1e6:<8.2f})\")\n",
    "    print(f\"{'-- Dust released by sea ice ---':<40}\" +\n",
    "          f\"{np.average(averages_ref[location][:,3])*1e6:<8.2f} ({np.average(averages_spm[location][:,3])*1e6:<8.2f})\")\n",
    "    print(f\"{'-- Dust deposition ---':<40}\" +\n",
    "          f\"{np.average(averages_ref[location][:,4])*1e6:<8.2f} ({np.average(averages_spm[location][:,4])*1e6:<8.2f})\")\n",
    "\n",
    "    return"
   ]
  },
  {
   "cell_type": "markdown",
   "metadata": {},
   "source": [
    "### Calculations:"
   ]
  },
  {
   "cell_type": "markdown",
   "metadata": {},
   "source": [
    "Find grid cell volume and thickness at ocean floor:"
   ]
  },
  {
   "cell_type": "code",
   "execution_count": 11,
   "metadata": {},
   "outputs": [],
   "source": [
    "tmask_bot = np.copy(tmask)\n",
    "tmask_bot[0,:,:] = 1\n",
    "e3t_mask = np.ma.masked_where((tmask_bot[:,:,:] < 0.1), e3t[:,:,:])\n",
    "\n",
    "# find bottom grid cell index:\n",
    "ind = np.array(np.ma.notmasked_edges(e3t_mask[:,:,:], axis=0))\n",
    "\n",
    "# array of shape (isize, jsize) containing bottom grid cell index\n",
    "index_bottom = np.ma.masked_where((tmask[0,:,:] < 0.1), ind[1][0][:].reshape(isize,jsize))\n",
    "# index_bottom = np.ma.argmax(e3t_masked[:,:,:], axis=0)"
   ]
  },
  {
   "cell_type": "code",
   "execution_count": 12,
   "metadata": {},
   "outputs": [],
   "source": [
    "e3t_bot = np.zeros((isize,jsize))\n",
    "vol_bot = np.zeros((isize,jsize))\n",
    "\n",
    "for i in range(0, isize):\n",
    "    for j in range(0,jsize):\n",
    "        k = index_bottom[i,j]\n",
    "        try:\n",
    "            e3t_bot[i,j] = e3t[k,i,j]\n",
    "            vol_bot[i,j] = volume[k,i,j]\n",
    "        except:\n",
    "            e3t_bot[i,j] = np.nan\n",
    "            vol_bot[i,j] = np.nan\n",
    "        \n",
    "e3t_bottom    = np.ma.masked_where((tmask[0,:,:] < 0.1), np.ma.masked_where(np.isnan(e3t_bot), e3t_bot))\n",
    "volume_bottom = np.ma.masked_where((tmask[0,:,:] < 0.1), np.ma.masked_where(np.isnan(vol_bot), vol_bot))"
   ]
  },
  {
   "cell_type": "markdown",
   "metadata": {},
   "source": [
    "Create masks for specific subregions:\n",
    "- Canada Basin\n",
    "- CAA\n",
    "- Full domain\n",
    "- Western CAA (separated by Barrow Sill)\n",
    "- Eastern CAA (separated by Barrow Sill)"
   ]
  },
  {
   "cell_type": "code",
   "execution_count": 13,
   "metadata": {},
   "outputs": [],
   "source": [
    "# Find indices to separate out Canada Basin:\n",
    "\n",
    "x_ind = np.arange(1620, 2100, 1)\n",
    "y_ind = (-7/8)*x_ind + 1517 + 700\n",
    "\n",
    "CB_indx = []\n",
    "CB_indy = []\n",
    "\n",
    "for index in range(0,len(x_ind)):\n",
    "    CB_x = np.arange(x_ind[index],2180,1)\n",
    "    CB_y = np.ones(CB_x.shape)*y_ind[index]\n",
    "    \n",
    "    CB_indx = np.append(CB_x, CB_indx)\n",
    "    CB_indy = np.append(CB_y, CB_indy)"
   ]
  },
  {
   "cell_type": "code",
   "execution_count": 14,
   "metadata": {},
   "outputs": [],
   "source": [
    "# Separate Canada Basin and the CAA:\n",
    "mask_ini_CB  = np.zeros((isize,jsize))\n",
    "mask_ini_CAA = np.ones((isize,jsize))\n",
    "\n",
    "for i, j in zip(CB_indx, CB_indy):\n",
    "    mask_ini_CB[int(i-imin),int(j-jmin)]  = 1\n",
    "    mask_ini_CAA[int(i-imin),int(j-jmin)] = 0\n",
    "    \n",
    "mask_ini_CB[150:-1 ,-8:-1] = 1\n",
    "mask_ini_CAA[150:-1,-8:-1] = 0\n"
   ]
  },
  {
   "cell_type": "code",
   "execution_count": 15,
   "metadata": {},
   "outputs": [],
   "source": [
    "mask_ini_wCAA = np.zeros((isize,jsize))\n",
    "mask_ini_eCAA = np.zeros((isize,jsize))\n",
    "\n",
    "# Separate the western and eastern CAA:\n",
    "mask_ini_wCAA = np.where(lons[imin:imax,jmin:jmax] < -100, 1, 0)\n",
    "mask_ini_eCAA = np.where(lons[imin:imax,jmin:jmax] > -100, 1, 0)\n",
    "\n",
    "for i, j in zip(CB_indx, CB_indy):\n",
    "    mask_ini_wCAA[int(i-imin),int(j-jmin)] = 0\n",
    "    mask_ini_eCAA[int(i-imin),int(j-jmin)] = 0\n",
    "    \n",
    "mask_ini_wCAA[150:-1,-8:-1] = 0\n",
    "mask_ini_eCAA[150:-1,-8:-1] = 0"
   ]
  },
  {
   "cell_type": "code",
   "execution_count": 16,
   "metadata": {},
   "outputs": [],
   "source": [
    "mask_CB_yr    = np.tile(mask_ini_CB  , (12,1,1))\n",
    "mask_CAA_yr   = np.tile(mask_ini_CAA , (12,1,1))\n",
    "mask_full_yr  = np.ones((12, isize, jsize))\n",
    "mask_wCAA_yr  = np.tile(mask_ini_wCAA, (12,1,1))\n",
    "mask_eCAA_yr  = np.tile(mask_ini_eCAA, (12,1,1))"
   ]
  },
  {
   "cell_type": "code",
   "execution_count": 17,
   "metadata": {},
   "outputs": [],
   "source": [
    "mask_CB_depth = np.tile(mask_CB_yr  , (50,1,1,1))\n",
    "mask_CB_depth = mask_CB_depth.reshape(12,50,700,640)"
   ]
  },
  {
   "cell_type": "markdown",
   "metadata": {},
   "source": [
    "### Calculate:"
   ]
  },
  {
   "cell_type": "code",
   "execution_count": 87,
   "metadata": {},
   "outputs": [],
   "source": [
    "CB_totals_ref, CB_totals_spm, CB_averages_ref, CB_averages_spm = calculate_regional_contributions(mask_CB_yr)"
   ]
  },
  {
   "cell_type": "code",
   "execution_count": 88,
   "metadata": {},
   "outputs": [],
   "source": [
    "CAA_totals_ref, CAA_totals_spm, CAA_averages_ref, CAA_averages_spm = calculate_regional_contributions(mask_CAA_yr)"
   ]
  },
  {
   "cell_type": "code",
   "execution_count": 89,
   "metadata": {},
   "outputs": [],
   "source": [
    "wCAA_totals_ref, wCAA_totals_spm, wCAA_averages_ref, wCAA_averages_spm = calculate_regional_contributions(mask_wCAA_yr)"
   ]
  },
  {
   "cell_type": "code",
   "execution_count": 90,
   "metadata": {},
   "outputs": [],
   "source": [
    "eCAA_totals_ref, eCAA_totals_spm, eCAA_averages_ref, eCAA_averages_spm = calculate_regional_contributions(mask_eCAA_yr)"
   ]
  },
  {
   "cell_type": "markdown",
   "metadata": {},
   "source": [
    "### Pickle the results from these calculations:"
   ]
  },
  {
   "cell_type": "code",
   "execution_count": 91,
   "metadata": {},
   "outputs": [],
   "source": [
    "pickle.dump((CB_totals_ref, CAA_totals_ref, wCAA_totals_ref, eCAA_totals_ref),\\\n",
    "            open('calculations/ref-total_component_contributions-20210418-fullareased-fulldepth.pickle','wb'))"
   ]
  },
  {
   "cell_type": "code",
   "execution_count": 92,
   "metadata": {},
   "outputs": [],
   "source": [
    "pickle.dump((CB_totals_spm, CAA_totals_spm, wCAA_totals_spm, eCAA_totals_spm),\\\n",
    "            open('calculations/spm-total_component_contributions-20210418-fullareased-fulldepth.pickle','wb'))"
   ]
  },
  {
   "cell_type": "code",
   "execution_count": 93,
   "metadata": {},
   "outputs": [],
   "source": [
    "pickle.dump((CB_averages_ref, CAA_averages_ref, wCAA_averages_ref, eCAA_averages_ref),\\\n",
    "            open('calculations/ref-averages_component_contributions-20210418-fullareased-fulldepth.pickle','wb'))"
   ]
  },
  {
   "cell_type": "code",
   "execution_count": 94,
   "metadata": {},
   "outputs": [],
   "source": [
    "pickle.dump((CB_averages_spm, CAA_averages_spm, wCAA_averages_spm, eCAA_averages_spm),\\\n",
    "            open('calculations/spm-averages_component_contributions-20210418-fullareased-fulldepth.pickle','wb'))"
   ]
  },
  {
   "cell_type": "markdown",
   "metadata": {},
   "source": [
    "### Overview:"
   ]
  },
  {
   "cell_type": "code",
   "execution_count": 18,
   "metadata": {},
   "outputs": [],
   "source": [
    "CB_totals_ref, CAA_totals_ref, wCAA_totals_ref, eCAA_totals_ref = \\\n",
    "                pickle.load(open('calculations/ref-total_component_contributions-20210418-fullareased-fulldepth.pickle','rb')) \n",
    "CB_totals_spm, CAA_totals_spm, wCAA_totals_spm, eCAA_totals_spm = \\\n",
    "                pickle.load(open('calculations/spm-total_component_contributions-20210418-fullareased-fulldepth.pickle','rb')) \n",
    "CB_averages_ref, CAA_averages_ref, wCAA_averages_ref, eCAA_averages_ref = \\\n",
    "                pickle.load(open('calculations/ref-averages_component_contributions-20210418-fullareased-fulldepth.pickle','rb')) \n",
    "CB_averages_spm, CAA_averages_spm, wCAA_averages_spm, eCAA_averages_spm = \\\n",
    "                pickle.load(open('calculations/spm-averages_component_contributions-20210418-fullareased-fulldepth.pickle','rb')) "
   ]
  },
  {
   "cell_type": "code",
   "execution_count": 19,
   "metadata": {},
   "outputs": [],
   "source": [
    "ref_totals   = {'CB': CB_totals_ref, 'CAA':CAA_totals_ref, 'wCAA':wCAA_totals_ref, 'eCAA':eCAA_totals_ref}\n",
    "spm_totals   = {'CB': CB_totals_spm, 'CAA':CAA_totals_spm, 'wCAA':wCAA_totals_spm, 'eCAA':eCAA_totals_spm}\n",
    "ref_averages = {'CB': CB_averages_ref, 'CAA':CAA_averages_ref, 'wCAA':wCAA_averages_ref, 'eCAA':eCAA_averages_ref}\n",
    "spm_averages = {'CB': CB_averages_spm, 'CAA':CAA_averages_spm, 'wCAA':wCAA_averages_spm, 'eCAA':eCAA_averages_spm}"
   ]
  },
  {
   "cell_type": "code",
   "execution_count": 20,
   "metadata": {},
   "outputs": [],
   "source": [
    "final_ref_totals, final_spm_totals, \\\n",
    "    final_ref_averages, final_spm_averages = pipeline(ref_totals, spm_totals, ref_averages, spm_averages)"
   ]
  },
  {
   "cell_type": "code",
   "execution_count": 21,
   "metadata": {},
   "outputs": [
    {
     "name": "stdout",
     "output_type": "stream",
     "text": [
      "Interannual average values in CB\n",
      "----------------------------------------------------------------\n",
      "Total annual contribution of Mn [Mmol/yr]:             385   (417  )\n",
      "-- River discharge ---                   10.37    (42.17   )\n",
      "-- Sediment resuspension ---             135.58   (135.58  )\n",
      "-- Sediment released by sea ice ---      238.44   (238.44  )\n",
      "-- Dust released by sea ice ---          0.39     (0.39    )\n",
      "-- Dust deposition ---                   0.06     (0.06    )\n",
      "----------------------------------------------------------------\n",
      "Total annual contribution of Mn [%]:\n",
      "-- River discharge ---                  2.69  (10.12)\n",
      "-- Sediment resuspension ---            35.23 (32.54)\n",
      "-- Sediment released by sea ice ---     61.96 (57.23)\n",
      "-- Dust released by sea ice ---         0.10  (0.09 )\n",
      "-- Dust deposition ---                  0.02  (0.01 )\n",
      "----------------------------------------------------------------\n",
      "Average annual contribution of Mn [micromol/m2/yr]:    193  (209  )\n",
      "-- River discharge ---                  5.21     (21.18   )\n",
      "-- Sediment resuspension ---            68.10    (68.10   )\n",
      "-- Sediment released by sea ice ---     119.76   (119.76  )\n",
      "-- Dust released by sea ice ---         0.20     (0.20    )\n",
      "-- Dust deposition ---                  0.03     (0.03    )\n"
     ]
    }
   ],
   "source": [
    "print_interannual_averages(final_ref_totals, final_spm_totals, final_ref_averages, final_spm_averages, location='CB')"
   ]
  },
  {
   "cell_type": "code",
   "execution_count": 22,
   "metadata": {},
   "outputs": [
    {
     "name": "stdout",
     "output_type": "stream",
     "text": [
      "Interannual average values in CAA\n",
      "----------------------------------------------------------------\n",
      "Total annual contribution of Mn [Mmol/yr]:             1605  (1755 )\n",
      "-- River discharge ---                   17.82    (168.21  )\n",
      "-- Sediment resuspension ---             1534.06  (1534.06 )\n",
      "-- Sediment released by sea ice ---      52.78    (52.78   )\n",
      "-- Dust released by sea ice ---          0.31     (0.31    )\n",
      "-- Dust deposition ---                   0.04     (0.04    )\n",
      "----------------------------------------------------------------\n",
      "Total annual contribution of Mn [%]:\n",
      "-- River discharge ---                  1.11  (9.58 )\n",
      "-- Sediment resuspension ---            95.58 (87.39)\n",
      "-- Sediment released by sea ice ---     3.29  (3.01 )\n",
      "-- Dust released by sea ice ---         0.02  (0.02 )\n",
      "-- Dust deposition ---                  0.00  (0.00 )\n",
      "----------------------------------------------------------------\n",
      "Average annual contribution of Mn [micromol/m2/yr]:    1343 (1469 )\n",
      "-- River discharge ---                  14.91    (140.77  )\n",
      "-- Sediment resuspension ---            1283.79  (1283.79 )\n",
      "-- Sediment released by sea ice ---     44.17    (44.17   )\n",
      "-- Dust released by sea ice ---         0.26     (0.26    )\n",
      "-- Dust deposition ---                  0.03     (0.03    )\n"
     ]
    }
   ],
   "source": [
    "print_interannual_averages(final_ref_totals, final_spm_totals, final_ref_averages, final_spm_averages, location='CAA')"
   ]
  },
  {
   "cell_type": "code",
   "execution_count": 23,
   "metadata": {},
   "outputs": [
    {
     "name": "stdout",
     "output_type": "stream",
     "text": [
      "Interannual average values in wCAA\n",
      "----------------------------------------------------------------\n",
      "Total annual contribution of Mn [Mmol/yr]:             295   (304  )\n",
      "-- River discharge ---                   2.94     (11.95   )\n",
      "-- Sediment resuspension ---             267.75   (267.75  )\n",
      "-- Sediment released by sea ice ---      24.52    (24.52   )\n",
      "-- Dust released by sea ice ---          0.12     (0.12    )\n",
      "-- Dust deposition ---                   0.02     (0.02    )\n",
      "----------------------------------------------------------------\n",
      "Total annual contribution of Mn [%]:\n",
      "-- River discharge ---                  0.99  (3.93 )\n",
      "-- Sediment resuspension ---            90.66 (87.97)\n",
      "-- Sediment released by sea ice ---     8.30  (8.06 )\n",
      "-- Dust released by sea ice ---         0.04  (0.04 )\n",
      "-- Dust deposition ---                  0.01  (0.01 )\n",
      "----------------------------------------------------------------\n",
      "Average annual contribution of Mn [micromol/m2/yr]:    581  (599  )\n",
      "-- River discharge ---                  5.78     (23.50   )\n",
      "-- Sediment resuspension ---            526.71   (526.71  )\n",
      "-- Sediment released by sea ice ---     48.23    (48.23   )\n",
      "-- Dust released by sea ice ---         0.24     (0.24    )\n",
      "-- Dust deposition ---                  0.04     (0.04    )\n"
     ]
    }
   ],
   "source": [
    "print_interannual_averages(final_ref_totals, final_spm_totals, final_ref_averages, final_spm_averages, location='wCAA')"
   ]
  },
  {
   "cell_type": "code",
   "execution_count": 24,
   "metadata": {},
   "outputs": [
    {
     "name": "stdout",
     "output_type": "stream",
     "text": [
      "Interannual average values in eCAA\n",
      "----------------------------------------------------------------\n",
      "Total annual contribution of Mn [Mmol/yr]:             1310  (1451 )\n",
      "-- River discharge ---                   14.88    (156.26  )\n",
      "-- Sediment resuspension ---             1266.31  (1266.31 )\n",
      "-- Sediment released by sea ice ---      28.26    (28.26   )\n",
      "-- Dust released by sea ice ---          0.18     (0.18    )\n",
      "-- Dust deposition ---                   0.02     (0.02    )\n",
      "----------------------------------------------------------------\n",
      "Total annual contribution of Mn [%]:\n",
      "-- River discharge ---                  1.14  (10.77)\n",
      "-- Sediment resuspension ---            96.69 (87.27)\n",
      "-- Sediment released by sea ice ---     2.16  (1.95 )\n",
      "-- Dust released by sea ice ---         0.01  (0.01 )\n",
      "-- Dust deposition ---                  0.00  (0.00 )\n",
      "----------------------------------------------------------------\n",
      "Average annual contribution of Mn [micromol/m2/yr]:    1907 (2113 )\n",
      "-- River discharge ---                  21.67    (227.59  )\n",
      "-- Sediment resuspension ---            1844.32  (1844.32 )\n",
      "-- Sediment released by sea ice ---     41.16    (41.16   )\n",
      "-- Dust released by sea ice ---         0.26     (0.26    )\n",
      "-- Dust deposition ---                  0.02     (0.02    )\n"
     ]
    }
   ],
   "source": [
    "print_interannual_averages(final_ref_totals, final_spm_totals, final_ref_averages, final_spm_averages, location='eCAA')"
   ]
  },
  {
   "cell_type": "markdown",
   "metadata": {},
   "source": [
    "### Figures\n",
    "\n",
    "Year-to-year variation in contribution"
   ]
  },
  {
   "cell_type": "code",
   "execution_count": 68,
   "metadata": {},
   "outputs": [],
   "source": [
    "# sea_ice = '/ocean/brogalla/GEOTRACES/data/Sea_Ice_Index_Rates_of_Change_G02135_v3.0.csv'\n",
    "\n",
    "# regions are defined in: \n",
    "# https://nsidc.org/sites/nsidc.org/files/files/data/noaa/g02135/Sea-Ice-Analysis-Spreadsheets-Overview.pdf\n",
    "# This file is for the Beaufort Sea region, i.e. Canada Basin\n",
    "sea_ice_CB = '/ocean/brogalla/GEOTRACES/data/N_Sea_Ice_Index_Regional_Monthly_Data_G02135_v3.0.csv'\n",
    "sea_ice_CA = '/ocean/brogalla/GEOTRACES/data/N_Sea_Ice_Index_Regional_Monthly_Data_G02135_v3.0-central-arctic.csv'\n",
    "\n",
    "si_CB = pd.read_csv(sea_ice_CB)\n",
    "si_CA = pd.read_csv(sea_ice_CA)"
   ]
  },
  {
   "cell_type": "code",
   "execution_count": null,
   "metadata": {},
   "outputs": [],
   "source": [
    "# observ_data = np.array(si[2:])\n",
    "\n",
    "# observ_years       = observ_data[:-2,0].astype('float')\n",
    "# monthly_ice_change = observ_data[:-2,1:].astype('float')\n",
    "\n",
    "# monthly_ice_melt   = np.copy(monthly_ice_change)\n",
    "# monthly_ice_melt[monthly_ice_change > 0] = 0 \n",
    "\n",
    "# # Calculate the sum of all the melt in a year:\n",
    "# yearly_melt = np.abs(np.sum(monthly_ice_melt, axis=1))"
   ]
  },
  {
   "cell_type": "code",
   "execution_count": 28,
   "metadata": {},
   "outputs": [],
   "source": [
    "observ_data_CB = np.array(si_CB)\n",
    "observ_data_CA = np.array(si_CA)\n",
    "\n",
    "observ_years_CB     = observ_data_CB[:,0].astype('float')\n",
    "observ_years_CA     = observ_data_CA[:,0].astype('float')\n",
    "monthly_ice_area_CB = observ_data_CB[:,1:].astype('float')\n",
    "monthly_ice_area_CA = observ_data_CA[:,1:].astype('float')\n",
    "\n",
    "ice_areas_CB = monthly_ice_area_CB.flatten()\n",
    "ice_areas_CA = monthly_ice_area_CA.flatten()\n",
    "ice_areas_diff_CB = [ice_areas_CB[i+1] - ice_areas_CB[i] for i in range(0,len(ice_areas_CB)-1)]\n",
    "ice_areas_diff_CA = [ice_areas_CA[i+1] - ice_areas_CA[i] for i in range(0,len(ice_areas_CA)-1)]\n",
    "\n",
    "ice_areas_diff_CB = np.append(np.nan, ice_areas_diff_CB)\n",
    "ice_areas_diff_CA = np.append(np.nan, ice_areas_diff_CA)\n",
    "\n",
    "monthly_area_change_CB = ice_areas_diff_CB.reshape([41,12])\n",
    "monthly_area_change_CA = ice_areas_diff_CA.reshape([41,12])\n",
    "    \n",
    "monthly_area_melt_CB = np.copy(monthly_area_change_CB)\n",
    "monthly_area_melt_CA = np.copy(monthly_area_change_CA)\n",
    "monthly_area_melt_CB[monthly_area_change_CB > 0] = 0 \n",
    "monthly_area_melt_CA[monthly_area_change_CA > 0] = 0 \n",
    "\n",
    "# Calculate the sum of all the melt in a year:\n",
    "yearly_melt_CB = np.abs(np.sum(monthly_area_melt_CB, axis=1))\n",
    "yearly_melt_CA = np.abs(np.sum(monthly_area_melt_CA, axis=1))"
   ]
  },
  {
   "cell_type": "code",
   "execution_count": 29,
   "metadata": {},
   "outputs": [
    {
     "ename": "NameError",
     "evalue": "name 'totals_CB' is not defined",
     "output_type": "error",
     "traceback": [
      "\u001b[0;31m---------------------------------------------------------------------------\u001b[0m",
      "\u001b[0;31mNameError\u001b[0m                                 Traceback (most recent call last)",
      "\u001b[0;32m<ipython-input-29-1f4137b27f3b>\u001b[0m in \u001b[0;36m<module>\u001b[0;34m\u001b[0m\n\u001b[1;32m      9\u001b[0m \u001b[0;31m#     sip = sns.lineplot(years, totals_CB[:,2]*1e-6, linewidth=2.5, color=colors[5], marker=\"o\", \\\u001b[0m\u001b[0;34m\u001b[0m\u001b[0;34m\u001b[0m\u001b[0;34m\u001b[0m\u001b[0m\n\u001b[1;32m     10\u001b[0m \u001b[0;31m#                        markersize=7, label=r'Mn released from sea ice in Canada Basin [Mmol yr$^{-1}$]')\u001b[0m\u001b[0;34m\u001b[0m\u001b[0;34m\u001b[0m\u001b[0;34m\u001b[0m\u001b[0m\n\u001b[0;32m---> 11\u001b[0;31m     sip = sns.lineplot(years, np.sum(totals_CB[:,:]*1e-6, axis=1), linewidth=2.5, color=colors[5], marker=\"o\", \\\n\u001b[0m\u001b[1;32m     12\u001b[0m                        markersize=7, label=r'External Mn addition to Canada Basin [Mmol yr$^{-1}$]')\n\u001b[1;32m     13\u001b[0m     osi = sns.lineplot(observ_years_CB, yearly_melt_CB*1e-2, linewidth=2.5, marker='o', markersize=7, \\\n",
      "\u001b[0;31mNameError\u001b[0m: name 'totals_CB' is not defined"
     ]
    },
    {
     "data": {
      "text/plain": [
       "<Figure size 576x360 with 0 Axes>"
      ]
     },
     "metadata": {},
     "output_type": "display_data"
    }
   ],
   "source": [
    "fig = plt.figure(figsize=(8,5))\n",
    "st  = sns.axes_style(\"white\")\n",
    "\n",
    "with st:\n",
    "#     sip = sns.lineplot(years, totals[:,2]*1e-6, linewidth=2.5, color=colors[5], marker=\"o\", \\\n",
    "#                        markersize=7, label='Mn from sediment in sea ice [Mmol/yr]')    \n",
    "#     osi = sns.lineplot(observ_years, yearly_melt*1e3, linewidth=2.5, marker='o', markersize=7, \\\n",
    "#                        label='Arctic sea ice extent reduction from satellite [1e3 Mkm2/yr]')\n",
    "#     sip = sns.lineplot(years, totals_CB[:,2]*1e-6, linewidth=2.5, color=colors[5], marker=\"o\", \\\n",
    "#                        markersize=7, label=r'Mn released from sea ice in Canada Basin [Mmol yr$^{-1}$]')\n",
    "    sip = sns.lineplot(years, np.sum(totals_CB[:,:]*1e-6, axis=1), linewidth=2.5, color=colors[5], marker=\"o\", \\\n",
    "                       markersize=7, label=r'External Mn addition to Canada Basin [Mmol yr$^{-1}$]')\n",
    "    osi = sns.lineplot(observ_years_CB, yearly_melt_CB*1e-2, linewidth=2.5, marker='o', markersize=7, \\\n",
    "                       label=r'Sea ice melt in the Beaufort Sea from satellite [100 km$^{2}$ yr$^{-1}$]')\n",
    "\n",
    "    sip.set_xlabel('Year', fontsize=14)\n",
    "    sip.set_ylabel('Annual total',fontsize=14)\n",
    "    sip.set(xlim=(2002, 2020), ylim=(0, 12000))\n",
    "    sip.tick_params(axis='both', which='major', labelsize=14)\n",
    "    sip.spines['left'].set_linewidth(1.5);   sip.spines['left'].set_color('black');\n",
    "    sip.spines['bottom'].set_linewidth(1.5); sip.spines['bottom'].set_color('black');\n",
    "    sip.spines['right'].set_linewidth(1.5);  sip.spines['right'].set_color('black');\n",
    "    sip.spines['top'].set_linewidth(1.5);    sip.spines['top'].set_color('black');    \n",
    "    \n",
    "#     sip.ticklabel_format(style='scientific', axis='y')\n",
    "#     osi.ticklabel_format(style='scientific', axis='y')\n",
    "    \n",
    "    sip.legend(loc=(0.05, 0.8), frameon=False)\n",
    "    \n",
    "# fig.savefig('/ocean/brogalla/GEOTRACES/figures/D1-annual-sea-ice-melt-'+ \\\n",
    "#             str(date.today().strftime('%Y%m%d'))+'.png', bbox_inches='tight',dpi=300)"
   ]
  },
  {
   "cell_type": "markdown",
   "metadata": {},
   "source": [
    "#### Canada Basin Mn content over time:"
   ]
  },
  {
   "cell_type": "markdown",
   "metadata": {},
   "source": [
    "I'm curious whether a steady increase is visible. In that case it would be interesting to look at whether this is related to the increased freshwater storage of the Beaufort Gyre over the course of the 2000s."
   ]
  },
  {
   "cell_type": "code",
   "execution_count": null,
   "metadata": {},
   "outputs": [],
   "source": [
    "def read_yearly_mn(years):\n",
    "    \n",
    "    yearly_mn = []\n",
    "    for year in years:\n",
    "        Mn_model1  = nc.Dataset(results_folder+'ref-'+str(year)+'/ANHA12_EXH006_'+str(year)+'_monthly.nc')\n",
    "        Mn_dis1    = np.array(Mn_model1.variables['dissolmn'])[:,0,:,:,:]\n",
    "        \n",
    "        Mn_CB      = np.ma.masked_where(mask_CB_depth==0, Mn_dis1)\n",
    "        \n",
    "        # Polar mixed layer:\n",
    "        Mn_yearly  = np.ma.sum(Mn_CB[:,0:17,:,:], axis=0)\n",
    "        Mn_content = np.ma.sum(Mn_yearly*volume_masked[0:17,:,:]*1e3, axis=(0,1,2))\n",
    "        yearly_mn.append(Mn_content) # moles\n",
    "        \n",
    "    return np.array(yearly_mn)"
   ]
  },
  {
   "cell_type": "code",
   "execution_count": null,
   "metadata": {},
   "outputs": [],
   "source": [
    "CB_mn_timeseries = read_yearly_mn(years)"
   ]
  },
  {
   "cell_type": "code",
   "execution_count": null,
   "metadata": {},
   "outputs": [],
   "source": [
    "fig = plt.figure(figsize=(8,5))\n",
    "st  = sns.axes_style(\"whitegrid\")\n",
    "\n",
    "with st:\n",
    "    ax = sns.lineplot(observ_years_CB, yearly_melt_CB*1e-2, linewidth=2.5, marker='o', markersize=7, c='#46697b',\\\n",
    "                       label=r'Satellite sea ice loss in the Beaufort Sea [100 km$^{2}$ yr$^{-1}$]', zorder=1)\n",
    "    sns.lineplot(years, totals_CB[:,2]*1e-6, linewidth=2.5, color='#a6b3c0', marker=\"o\", \\\n",
    "                 markersize=7, label=r'Addition of Mn by sea ice melt in Canada Basin [Mmol yr$^{-1}$]', zorder=3)\n",
    "    sns.lineplot(years, CB_mn_timeseries*1e-6, linewidth=2.5, marker='o', markersize=7, c='#6497b1', \\\n",
    "                 label=r'Mn content of the Canada Basin Polar Mixed Layer [Mmol]', zorder=2)\n",
    "#     ax = sns.lineplot(years, np.sum(totals_CB[:,:]*1e-6, axis=1), linewidth=2.5, color=colors[5], marker=\"o\", \\\n",
    "#                        markersize=7, label=r'External Mn addition to Canada Basin [Mmol yr$^{-1}$]')\n",
    "    \n",
    "    ax.set_xlabel('Year', fontsize=14)\n",
    "    ax.set_ylabel('Annual total',fontsize=14)\n",
    "    ax.set(xlim=(2002, 2020), ylim=(0, 1.2e4))\n",
    "    ax.tick_params(axis='both', which='major', labelsize=14)\n",
    "    ax.spines['left'].set_linewidth(1.5);   ax.spines['left'].set_color('black');\n",
    "    ax.spines['bottom'].set_linewidth(1.5); ax.spines['bottom'].set_color('black');\n",
    "    ax.spines['right'].set_linewidth(1.5);  ax.spines['right'].set_color('black');\n",
    "    ax.spines['top'].set_linewidth(1.5);    ax.spines['top'].set_color('black');    \n",
    "    \n",
    "#     ax.ticklabel_format(style='scientific', axis='y')\n",
    "#     osi.ticklabel_format(style='scientific', axis='y')\n",
    "    \n",
    "    leg = ax.legend(loc=(0.03, 0.76), frameon=True, framealpha=1, fontsize=12)\n",
    "    leg.get_frame().set_linewidth(0.0)\n",
    "    \n",
    "fig.savefig('/ocean/brogalla/GEOTRACES/figures/D1-annual-sea-ice-melt-'+ \\\n",
    "            str(date.today().strftime('%Y%m%d'))+'.png', bbox_inches='tight',dpi=300)"
   ]
  },
  {
   "cell_type": "markdown",
   "metadata": {},
   "source": [
    "Separated by region:"
   ]
  },
  {
   "cell_type": "code",
   "execution_count": null,
   "metadata": {},
   "outputs": [],
   "source": [
    "fig = plt.figure(figsize=(7,5))\n",
    "st  = sns.axes_style(\"white\")\n",
    "\n",
    "with st:\n",
    "    rp  = sns.lineplot(years, totals_CB[:,0]*1e-6, linewidth=2.5, color=colors[1], label='Rivers')\n",
    "    sp  = sns.lineplot(years, totals_CB[:,1]*1e-6, linewidth=2.5, color=colors[3], label='Sediment resuspension')\n",
    "    sip = sns.lineplot(years, totals_CB[:,2]*1e-6, linewidth=2.5, color=colors[5], label='Sediment from sea ice')\n",
    "    dip = sns.lineplot(years, totals_CB[:,3]*1e-6, linewidth=2.5, color=colors[4], label='Dust from sea ice')\n",
    "    dp  = sns.lineplot(years, totals_CB[:,4]*1e-6, linewidth=2.5, color=colors[0], label='Dust deposition')\n",
    "\n",
    "    rp2  = sns.lineplot(years, totals_CAA[:,0]*1e-6, linewidth=2.5, color=colors[1])\n",
    "    sp2  = sns.lineplot(years, totals_CAA[:,1]*1e-6, linewidth=2.5, color=colors[3])\n",
    "    sip2 = sns.lineplot(years, totals_CAA[:,2]*1e-6, linewidth=2.5, color=colors[5])\n",
    "    dip2 = sns.lineplot(years, totals_CAA[:,3]*1e-6, linewidth=2.5, color=colors[4])\n",
    "    dp2  = sns.lineplot(years, totals_CAA[:,4]*1e-6, linewidth=2.5, color=colors[0])\n",
    "\n",
    "    rp.lines[5].set_linestyle(\"--\")\n",
    "    rp.lines[6].set_linestyle(\"--\")\n",
    "    rp.lines[7].set_linestyle(\"--\")\n",
    "    rp.lines[8].set_linestyle(\"--\")\n",
    "    rp.lines[9].set_linestyle(\"--\")\n",
    "    \n",
    "    rp.set_xlabel('Year', fontsize=14)\n",
    "    rp.set_ylabel('Mn contribution [Mmol/yr]',fontsize=14)\n",
    "    rp.set(xlim=(2002, 2020))\n",
    "    rp.tick_params(axis='both', which='major', labelsize=14)\n",
    "    rp.spines['left'].set_linewidth(1.5);   rp.spines['left'].set_color('black');\n",
    "    rp.spines['bottom'].set_linewidth(1.5); rp.spines['bottom'].set_color('black');\n",
    "    rp.spines['right'].set_linewidth(1.5);  rp.spines['right'].set_color('black');\n",
    "    rp.spines['top'].set_linewidth(1.5);    rp.spines['top'].set_color('black');    \n",
    "    \n",
    "# fig.savefig('/ocean/brogalla/GEOTRACES/figures/distr-PML_src.png', bbox_inches='tight',dpi=300)"
   ]
  },
  {
   "cell_type": "code",
   "execution_count": null,
   "metadata": {},
   "outputs": [],
   "source": []
  }
 ],
 "metadata": {
  "kernelspec": {
   "display_name": "Python 3",
   "language": "python",
   "name": "python3"
  },
  "language_info": {
   "codemirror_mode": {
    "name": "ipython",
    "version": 3
   },
   "file_extension": ".py",
   "mimetype": "text/x-python",
   "name": "python",
   "nbconvert_exporter": "python",
   "pygments_lexer": "ipython3",
   "version": "3.6.11"
  }
 },
 "nbformat": 4,
 "nbformat_minor": 4
}
