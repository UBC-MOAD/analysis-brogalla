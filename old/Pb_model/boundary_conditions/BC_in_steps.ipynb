{
 "cells": [
  {
   "cell_type": "markdown",
   "id": "median-analyst",
   "metadata": {},
   "source": [
    "# Edit boundary condition file:"
   ]
  },
  {
   "cell_type": "code",
   "execution_count": 1,
   "id": "bibliographic-travel",
   "metadata": {},
   "outputs": [],
   "source": [
    "import numpy as np\n",
    "import netCDF4 as nc\n",
    "import xarray as xr"
   ]
  },
  {
   "cell_type": "markdown",
   "id": "developed-cleaners",
   "metadata": {},
   "source": [
    "Parameters:"
   ]
  },
  {
   "cell_type": "code",
   "execution_count": 2,
   "id": "offshore-florence",
   "metadata": {},
   "outputs": [],
   "source": [
    "imin, imax = 1100, 2180\n",
    "jmin, jmax = 160, 800\n",
    "rimwidthN = 10; rimwidthE=20; rimwidthS=10; rimwidthW=10; rimwidthSE=10;"
   ]
  },
  {
   "cell_type": "markdown",
   "id": "legal-canadian",
   "metadata": {},
   "source": [
    "Background files:"
   ]
  },
  {
   "cell_type": "code",
   "execution_count": 3,
   "id": "union-royal",
   "metadata": {},
   "outputs": [],
   "source": [
    "mesh       = nc.Dataset('/data/brogalla/old/meshmasks/ANHA12_mesh1.nc')\n",
    "mesh_lon   = np.array(mesh.variables['nav_lon'])\n",
    "mesh_lat   = np.array(mesh.variables['nav_lat'])\n",
    "mesh_bathy = np.array(mesh.variables['tmask'][0,:,:,:])"
   ]
  },
  {
   "cell_type": "markdown",
   "id": "fiscal-light",
   "metadata": {},
   "source": [
    "# Create standard value boundary conditions:"
   ]
  },
  {
   "cell_type": "markdown",
   "id": "inner-gross",
   "metadata": {},
   "source": [
    "#### Step1: extend Northern section of domain to include the Mackenzie River."
   ]
  },
  {
   "cell_type": "code",
   "execution_count": 58,
   "id": "corrected-profile",
   "metadata": {},
   "outputs": [],
   "source": [
    "Nij = (imax, jmin+41, jmax-2)\n",
    "Sij = (imin, jmin+41, jmax-2)\n",
    "Eij = (imin+1, imax-2, jmax)\n",
    "\n",
    "North = mesh_bathy[0,Nij[0],Nij[1]:Nij[2]]\n",
    "South = mesh_bathy[0,Sij[0],Sij[1]:Sij[2]] #597\n",
    "East  = mesh_bathy[0,Eij[0]:Eij[1],Eij[2]]"
   ]
  },
  {
   "cell_type": "code",
   "execution_count": 61,
   "id": "rubber-government",
   "metadata": {},
   "outputs": [],
   "source": [
    "dPb_N_step1 = np.ones((1,50,1,North.shape[0]*rimwidthN))*2e-12\n",
    "dPb_S_step1 = np.ones((1,50,1,South.shape[0]*rimwidthS))*2e-12\n",
    "dPb_E_step1 = np.ones((1,50,1,East.shape[0]*rimwidthE))*2e-12"
   ]
  },
  {
   "cell_type": "code",
   "execution_count": 62,
   "id": "authentic-yield",
   "metadata": {},
   "outputs": [
    {
     "name": "stdout",
     "output_type": "stream",
     "text": [
      "(1, 50, 1, 5970) (1, 50, 1, 5970) (1, 50, 1, 21540)\n",
      "(597,) (597,) (1077,)\n"
     ]
    }
   ],
   "source": [
    "print(dPb_N_step1.shape, dPb_S_step1.shape, dPb_E_step1.shape)\n",
    "print(North.shape, South.shape, East.shape)"
   ]
  },
  {
   "cell_type": "code",
   "execution_count": 63,
   "id": "saving-billy",
   "metadata": {},
   "outputs": [],
   "source": [
    "file_write = xr.Dataset(\n",
    "    {'dPb_N': ((\"time_counter\",\"deptht\",\"y\",\"x1\"), dPb_N_step1), \\\n",
    "     'dPb_S': ((\"time_counter\",\"deptht\",\"y\",\"x2\"), dPb_S_step1), \\\n",
    "     'dPb_E': ((\"time_counter\",\"deptht\",\"y\",\"x3\"), dPb_E_step1)}, \n",
    "    coords = {\n",
    "        \"time_counter\": np.zeros(1),\n",
    "        \"deptht\": np.zeros(50),\n",
    "        \"y\": np.zeros(1),\n",
    "        \"x1\": np.zeros(5970),\n",
    "        \"x2\": np.zeros(5970),\n",
    "        \"x3\": np.zeros(21540),\n",
    "    },\n",
    ")\n",
    "\n",
    "file_write.to_netcdf('/ocean/brogalla/GEOTRACES/data/Pb_OBC-step1-Mackenzie.nc', unlimited_dims='time_counter')"
   ]
  },
  {
   "cell_type": "markdown",
   "id": "seven-economy",
   "metadata": {},
   "source": [
    "#### Step2: close off Hudson Bay in landmask and add Western boundary"
   ]
  },
  {
   "cell_type": "code",
   "execution_count": 4,
   "id": "christian-directory",
   "metadata": {},
   "outputs": [
    {
     "name": "stdout",
     "output_type": "stream",
     "text": [
      "1100 2180 160 800\n"
     ]
    }
   ],
   "source": [
    "print(imin,imax,jmin,jmax)"
   ]
  },
  {
   "cell_type": "code",
   "execution_count": 5,
   "id": "psychological-opinion",
   "metadata": {},
   "outputs": [],
   "source": [
    "Nij = (imax, jmin+41, jmax-2)\n",
    "Sij = (imin, jmin+41, jmax-2)\n",
    "Eij = (imin+1, imax-2, jmax)\n",
    "Wij = (imin+91, imin+374-2, jmin+132) #1190:1474,292\n",
    "\n",
    "North = mesh_bathy[0,Nij[0],Nij[1]:Nij[2]]\n",
    "South = mesh_bathy[0,Sij[0],Sij[1]:Sij[2]] #597\n",
    "East  = mesh_bathy[0,Eij[0]:Eij[1],Eij[2]]\n",
    "West  = mesh_bathy[0,Wij[0]:Wij[1],Wij[2]]"
   ]
  },
  {
   "cell_type": "code",
   "execution_count": 6,
   "id": "young-request",
   "metadata": {},
   "outputs": [],
   "source": [
    "dPb_N_step2 = np.ones((1,50,1,North.shape[0]*rimwidthN))*2e-12\n",
    "dPb_S_step2 = np.ones((1,50,1,South.shape[0]*rimwidthS))*2e-12\n",
    "dPb_E_step2 = np.ones((1,50,1,East.shape[0]*rimwidthE))*2e-12\n",
    "dPb_W_step2 = np.ones((1,50,1,West.shape[0]*rimwidthW))*2e-12"
   ]
  },
  {
   "cell_type": "code",
   "execution_count": 7,
   "id": "prostate-albany",
   "metadata": {},
   "outputs": [
    {
     "name": "stdout",
     "output_type": "stream",
     "text": [
      "(1, 50, 1, 5970) (1, 50, 1, 5970) (1, 50, 1, 21540) (1, 50, 1, 2810)\n",
      "(597,) (597,) (1077,) (281,)\n"
     ]
    }
   ],
   "source": [
    "print(dPb_N_step2.shape, dPb_S_step2.shape, dPb_E_step2.shape, dPb_W_step2.shape)\n",
    "print(North.shape, South.shape, East.shape, West.shape)"
   ]
  },
  {
   "cell_type": "code",
   "execution_count": 9,
   "id": "fifth-socket",
   "metadata": {},
   "outputs": [],
   "source": [
    "file_write = xr.Dataset(\n",
    "    {'dPb_N': ((\"time_counter\",\"deptht\",\"y\",\"x1\"), dPb_N_step2), \\\n",
    "     'dPb_S': ((\"time_counter\",\"deptht\",\"y\",\"x2\"), dPb_S_step2), \\\n",
    "     'dPb_E': ((\"time_counter\",\"deptht\",\"y\",\"x3\"), dPb_E_step2), \\\n",
    "     'dPb_W': ((\"time_counter\",\"deptht\",\"y\",\"x4\"), dPb_W_step2)}, \n",
    "    coords = {\n",
    "        \"time_counter\": np.zeros(1),\n",
    "        \"deptht\": np.zeros(50),\n",
    "        \"y\": np.zeros(1),\n",
    "        \"x1\": np.zeros(dPb_N_step2.shape[3]),\n",
    "        \"x2\": np.zeros(dPb_S_step2.shape[3]),\n",
    "        \"x3\": np.zeros(dPb_E_step2.shape[3]),\n",
    "        \"x4\": np.zeros(dPb_W_step2.shape[3]),\n",
    "    },\n",
    ")\n",
    "\n",
    "file_write.to_netcdf('/ocean/brogalla/GEOTRACES/data/Pb_OBC-step2-Hudson-Bay.nc', unlimited_dims='time_counter')"
   ]
  },
  {
   "cell_type": "markdown",
   "id": "opening-taiwan",
   "metadata": {},
   "source": [
    "#### Step3: separate Eastern boundary conditions into two sections"
   ]
  },
  {
   "cell_type": "code",
   "execution_count": null,
   "id": "worst-telling",
   "metadata": {},
   "outputs": [],
   "source": [
    "Nij = (imax, jmin+41, jmax-2)\n",
    "Sij = (imin, jmin+41, jmax-2)\n",
    "Eij = (imin+1, imax-2, jmax)\n",
    "# Wij = (imin+1, imax-2, jmax)\n",
    "# SEij = (imin+1, imax-2, jmax)\n",
    "\n",
    "North = mesh_bathy[0,Nij[0],Nij[1]:Nij[2]]\n",
    "South = mesh_bathy[0,Sij[0],Sij[1]:Sij[2]] #597\n",
    "East  = mesh_bathy[0,Eij[0]:Eij[1],Eij[2]]\n",
    "# West  = mesh_bathy[0,Wij[0]:Wij[1],Wij[2]]\n",
    "# SouthEast = mesh_bathy[0,SEij[0]:SEij[1],SEij[2]]"
   ]
  },
  {
   "cell_type": "code",
   "execution_count": null,
   "id": "hourly-branch",
   "metadata": {},
   "outputs": [],
   "source": [
    "dPb_N_step3  = np.ones((1,50,1,North.shape[0]*rimwidthN))*2e-12\n",
    "dPb_S_step3  = np.ones((1,50,1,South.shape[0]*rimwidthS))*2e-12\n",
    "dPb_E_step3  = np.ones((1,50,1,East.shape[0]*rimwidthE))*2e-12\n",
    "dPb_W_step3  = np.ones((1,50,1,East.shape[0]*rimwidthW))*2e-12\n",
    "dPb_SE_step3 = np.ones((1,50,1,SouthEast.shape[0]*rimwidthSE))*2e-12"
   ]
  },
  {
   "cell_type": "code",
   "execution_count": null,
   "id": "international-coordination",
   "metadata": {},
   "outputs": [],
   "source": [
    "print(dPb_N_step3.shape, dPb_S_step3.shape, dPb_E_step3.shape, dPb_W_step3.shape, dPb_SE_step3.shape)\n",
    "print(North.shape, South.shape, East.shape, West.shape, SouthEast.shape)"
   ]
  },
  {
   "cell_type": "code",
   "execution_count": null,
   "id": "gorgeous-young",
   "metadata": {},
   "outputs": [],
   "source": [
    "file_write = xr.Dataset(\n",
    "    {'dPb_N' : ((\"time_counter\",\"deptht\",\"y\",\"x1\"), dPb_N_step3), \\\n",
    "     'dPb_S' : ((\"time_counter\",\"deptht\",\"y\",\"x2\"), dPb_S_step3), \\\n",
    "     'dPb_E' : ((\"time_counter\",\"deptht\",\"y\",\"x3\"), dPb_E_step3), \\\n",
    "     'dPb_W' : ((\"time_counter\",\"deptht\",\"y\",\"x4\"), dPb_W_step3), \\\n",
    "     'dPb_SE': ((\"time_counter\",\"deptht\",\"y\",\"x5\"), dPb_SE_step3)}, \n",
    "    coords = {\n",
    "        \"time_counter\": np.zeros(1),\n",
    "        \"deptht\": np.zeros(50),\n",
    "        \"y\": np.zeros(1),\n",
    "        \"x1\": np.zeros(5970),\n",
    "        \"x2\": np.zeros(5970),\n",
    "        \"x3\": np.zeros(21540),\n",
    "        \"x4\": np.zeros(21540),\n",
    "        \"x5\": np.zeros(21540),\n",
    "    },\n",
    ")\n",
    "\n",
    "file_write.to_netcdf('/ocean/brogalla/GEOTRACES/data/Pb_OBC-step3-separate_SE.nc', unlimited_dims='time_counter')"
   ]
  },
  {
   "cell_type": "markdown",
   "id": "welcome-dover",
   "metadata": {},
   "source": [
    "#### Step4: edit landmask around Greenland and shift the boundary."
   ]
  },
  {
   "cell_type": "code",
   "execution_count": null,
   "id": "cheap-kuwait",
   "metadata": {},
   "outputs": [],
   "source": []
  },
  {
   "cell_type": "code",
   "execution_count": null,
   "id": "animated-sullivan",
   "metadata": {},
   "outputs": [],
   "source": []
  },
  {
   "cell_type": "code",
   "execution_count": null,
   "id": "conceptual-gates",
   "metadata": {},
   "outputs": [],
   "source": []
  }
 ],
 "metadata": {
  "kernelspec": {
   "display_name": "Python 3",
   "language": "python",
   "name": "python3"
  },
  "language_info": {
   "codemirror_mode": {
    "name": "ipython",
    "version": 3
   },
   "file_extension": ".py",
   "mimetype": "text/x-python",
   "name": "python",
   "nbconvert_exporter": "python",
   "pygments_lexer": "ipython3",
   "version": "3.6.11"
  }
 },
 "nbformat": 4,
 "nbformat_minor": 5
}
