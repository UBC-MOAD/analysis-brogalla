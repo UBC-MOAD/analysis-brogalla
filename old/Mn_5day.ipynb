{
 "cells": [
  {
   "cell_type": "markdown",
   "metadata": {},
   "source": [
    "# Mn 5 day"
   ]
  },
  {
   "cell_type": "code",
   "execution_count": 1,
   "metadata": {},
   "outputs": [],
   "source": [
    "import matplotlib.pyplot as plt\n",
    "import netCDF4 as nc\n",
    "import numpy as np\n",
    "import datetime\n",
    "from mpl_toolkits.basemap import Basemap, cm\n",
    "import cmocean\n",
    "import matplotlib\n",
    "import warnings\n",
    "warnings.filterwarnings(\"ignore\")\n",
    "\n",
    "%matplotlib inline"
   ]
  },
  {
   "cell_type": "markdown",
   "metadata": {},
   "source": [
    "Load results"
   ]
  },
  {
   "cell_type": "code",
   "execution_count": 2,
   "metadata": {},
   "outputs": [],
   "source": [
    "folder='/ocean/brogalla/GEOTRACES/'\n",
    "file='ANHA12_EXH006_5d_20020101_20021231_ptrc_T_20020101-20020105.nc'"
   ]
  },
  {
   "cell_type": "code",
   "execution_count": 3,
   "metadata": {},
   "outputs": [],
   "source": [
    "data = nc.Dataset(folder+file)\n",
    "lat  = np.array(data.variables['nav_lat'])\n",
    "lon  = np.array(data.variables['nav_lon'])\n",
    "dmn  = np.array(data.variables['dissolmn'])\n",
    "omn  = np.array(data.variables['oxidismn'])"
   ]
  },
  {
   "cell_type": "code",
   "execution_count": 4,
   "metadata": {},
   "outputs": [
    {
     "name": "stdout",
     "output_type": "stream",
     "text": [
      "max:  nan\n",
      "min:  nan\n",
      "ave:  nan\n"
     ]
    }
   ],
   "source": [
    "print('max: ', np.amax(dmn))\n",
    "print('min: ', np.amin(dmn))\n",
    "print('ave: ',np.average(dmn))"
   ]
  },
  {
   "cell_type": "code",
   "execution_count": 5,
   "metadata": {},
   "outputs": [
    {
     "name": "stdout",
     "output_type": "stream",
     "text": [
      "max:  nan\n",
      "min:  nan\n",
      "ave:  nan\n"
     ]
    }
   ],
   "source": [
    "print('max: ', np.amax(omn))\n",
    "print('min: ', np.amin(omn))\n",
    "print('ave: ',np.average(omn))"
   ]
  },
  {
   "cell_type": "code",
   "execution_count": 6,
   "metadata": {},
   "outputs": [],
   "source": [
    "dmn_surf = np.array(dmn[0,0,:,:])"
   ]
  },
  {
   "cell_type": "markdown",
   "metadata": {},
   "source": [
    "Plot:"
   ]
  },
  {
   "cell_type": "code",
   "execution_count": 7,
   "metadata": {},
   "outputs": [
    {
     "data": {
      "image/png": "[encoded data removed]",
      "text/plain": [
       "<Figure size 1008x720 with 2 Axes>"
      ]
     },
     "metadata": {
      "needs_background": "light"
     },
     "output_type": "display_data"
    }
   ],
   "source": [
    "fig, ax = plt.subplots(figsize=(14,10))\n",
    "\n",
    "proj1=Basemap(projection='eqdc',lat_0 = 77, lon_0 = -98, resolution='i', width=2.25e6, height=2.25e6, ax=ax)\n",
    "proj1.drawlsmask()\n",
    "\n",
    "x1, y1 = proj1(lon, lat)\n",
    "vmax=1e-8\n",
    "CS1 = proj1.pcolor(x1, y1, dmn_surf, cmap=cmocean.cm.deep, vmin=0, vmax=vmax)\n",
    "    \n",
    "cbaxes = fig.add_axes([0.975, 0.15, 0.02, 0.7]) \n",
    "CBar = plt.colorbar(CS1, ax=ax, cax=cbaxes) \n",
    "CBar.ax.tick_params(axis='y', length=0)"
   ]
  },
  {
   "cell_type": "code",
   "execution_count": null,
   "metadata": {
    "collapsed": true
   },
   "outputs": [],
   "source": []
  }
 ],
 "metadata": {
  "kernelspec": {
   "display_name": "Python 3",
   "language": "python",
   "name": "python3"
  },
  "language_info": {
   "codemirror_mode": {
    "name": "ipython",
    "version": 3
   },
   "file_extension": ".py",
   "mimetype": "text/x-python",
   "name": "python",
   "nbconvert_exporter": "python",
   "pygments_lexer": "ipython3",
   "version": "3.7.3"
  }
 },
 "nbformat": 4,
 "nbformat_minor": 2
}
