{
 "cells": [
  {
   "cell_type": "markdown",
   "metadata": {},
   "source": [
    "# RQ 1: Identify gird point indices for flux boundary calculations"
   ]
  },
  {
   "cell_type": "code",
   "execution_count": 2,
   "metadata": {},
   "outputs": [],
   "source": [
    "import os\n",
    "os.environ['PROJ_LIB'] = '/home/brogalla/anaconda3/share/proj'"
   ]
  },
  {
   "cell_type": "code",
   "execution_count": 4,
   "metadata": {},
   "outputs": [],
   "source": [
    "import pickle\n",
    "import numpy as np\n",
    "import matplotlib.pyplot as plt\n",
    "import matplotlib\n",
    "\n",
    "from mpl_toolkits.basemap import Basemap, cm\n",
    "import cmocean\n",
    "import netCDF4 as nc\n",
    "import os\n",
    "from itertools import compress\n",
    "import datetime as dt\n",
    "\n",
    "%matplotlib notebook"
   ]
  },
  {
   "cell_type": "code",
   "execution_count": 5,
   "metadata": {},
   "outputs": [],
   "source": [
    "import sys\n",
    "sys.path.insert(0, '/ocean/brogalla/GEOTRACES/analysis-brogalla/modules')\n",
    "import ariane as ar\n",
    "import viz_tools as vt"
   ]
  },
  {
   "cell_type": "markdown",
   "metadata": {},
   "source": [
    "##### Load domain dimensions for reference:"
   ]
  },
  {
   "cell_type": "code",
   "execution_count": 6,
   "metadata": {},
   "outputs": [],
   "source": [
    "mask  = nc.Dataset('/ocean/brogalla/GEOTRACES/ariane_runs/ANHA12_Ariane_mesh.nc')\n",
    "tmask = np.array(mask.variables['tmask'])\n",
    "cond = (tmask[0,:,:,:] > 0.1) \n",
    "land_mask = np.ma.masked_where(cond, tmask[0,:,:,:]) \n",
    "tmask_sub = tmask[0,:,1480:2050,160:800]"
   ]
  },
  {
   "cell_type": "code",
   "execution_count": 7,
   "metadata": {},
   "outputs": [],
   "source": [
    "mesh  = nc.Dataset('/data/brogalla/old/meshmasks/ANHA12_mesh1.nc')\n",
    "lon   = np.array(mesh.variables['nav_lon'])\n",
    "lat   = np.array(mesh.variables['nav_lat'])"
   ]
  },
  {
   "cell_type": "code",
   "execution_count": 8,
   "metadata": {},
   "outputs": [],
   "source": [
    "ref   = nc.Dataset('/ocean/brogalla/GEOTRACES/data/ANHA12/ANHA12-EXH006_y2015m01d05_gridT.nc',  'r')\n",
    "tlons = np.array(ref.variables['nav_lon'])\n",
    "tlats = np.array(ref.variables['nav_lat'])\n",
    "lons  = np.array(ref.variables['nav_lon'])[1480:2050,160:800]\n",
    "lats  = np.array(ref.variables['nav_lat'])[1480:2050,160:800]\n",
    "depth = np.array(ref.variables['deptht'])"
   ]
  },
  {
   "cell_type": "markdown",
   "metadata": {},
   "source": [
    "#### Find indices of grid points associated with each of the boundaries"
   ]
  },
  {
   "cell_type": "code",
   "execution_count": 1,
   "metadata": {
    "scrolled": false
   },
   "outputs": [
    {
     "ename": "NameError",
     "evalue": "name 'pickle' is not defined",
     "output_type": "error",
     "traceback": [
      "\u001b[0;31m---------------------------------------------------------------------------\u001b[0m",
      "\u001b[0;31mNameError\u001b[0m                                 Traceback (most recent call last)",
      "\u001b[0;32m<ipython-input-1-e1a381ee8501>\u001b[0m in \u001b[0;36m<module>\u001b[0;34m\u001b[0m\n\u001b[0;32m----> 1\u001b[0;31m \u001b[0mfig\u001b[0m\u001b[0;34m,\u001b[0m \u001b[0max1\u001b[0m\u001b[0;34m,\u001b[0m \u001b[0mproj1\u001b[0m \u001b[0;34m=\u001b[0m \u001b[0mpickle\u001b[0m\u001b[0;34m.\u001b[0m\u001b[0mload\u001b[0m\u001b[0;34m(\u001b[0m\u001b[0mopen\u001b[0m\u001b[0;34m(\u001b[0m\u001b[0;34m'/ocean/brogalla/GEOTRACES/pickles/mn-reference.pickle'\u001b[0m\u001b[0;34m,\u001b[0m\u001b[0;34m'rb'\u001b[0m\u001b[0;34m)\u001b[0m\u001b[0;34m)\u001b[0m\u001b[0;34m\u001b[0m\u001b[0;34m\u001b[0m\u001b[0m\n\u001b[0m\u001b[1;32m      2\u001b[0m \u001b[0;34m\u001b[0m\u001b[0m\n\u001b[1;32m      3\u001b[0m \u001b[0mx_model\u001b[0m\u001b[0;34m,\u001b[0m \u001b[0my_model\u001b[0m \u001b[0;34m=\u001b[0m \u001b[0mproj1\u001b[0m\u001b[0;34m(\u001b[0m\u001b[0mlon\u001b[0m\u001b[0;34m,\u001b[0m \u001b[0mlat\u001b[0m\u001b[0;34m)\u001b[0m\u001b[0;34m\u001b[0m\u001b[0;34m\u001b[0m\u001b[0m\n\u001b[1;32m      4\u001b[0m \u001b[0;31m#left side:\u001b[0m\u001b[0;34m\u001b[0m\u001b[0;34m\u001b[0m\u001b[0;34m\u001b[0m\u001b[0m\n\u001b[1;32m      5\u001b[0m \u001b[0mproj1\u001b[0m\u001b[0;34m.\u001b[0m\u001b[0mplot\u001b[0m\u001b[0;34m(\u001b[0m\u001b[0mx_model\u001b[0m\u001b[0;34m[\u001b[0m\u001b[0;36m2013\u001b[0m\u001b[0;34m,\u001b[0m\u001b[0;36m300\u001b[0m\u001b[0;34m:\u001b[0m\u001b[0;36m392\u001b[0m\u001b[0;34m]\u001b[0m\u001b[0;34m,\u001b[0m \u001b[0my_model\u001b[0m\u001b[0;34m[\u001b[0m\u001b[0;36m2013\u001b[0m\u001b[0;34m,\u001b[0m\u001b[0;36m300\u001b[0m\u001b[0;34m:\u001b[0m\u001b[0;36m392\u001b[0m\u001b[0;34m]\u001b[0m\u001b[0;34m,\u001b[0m \u001b[0;34m'-b'\u001b[0m\u001b[0;34m)\u001b[0m\u001b[0;34m\u001b[0m\u001b[0;34m\u001b[0m\u001b[0m\n",
      "\u001b[0;31mNameError\u001b[0m: name 'pickle' is not defined"
     ]
    }
   ],
   "source": [
    "fig, ax1, proj1 = pickle.load(open('/ocean/brogalla/GEOTRACES/pickles/mn-reference.pickle','rb'))\n",
    "\n",
    "x_model, y_model = proj1(lon, lat)\n",
    "#left side:\n",
    "proj1.plot(x_model[2013,300:392], y_model[2013,300:392], '-b')\n",
    "proj1.plot(x_model[1935,450:530], y_model[1935,450:530], '-c')\n",
    "proj1.plot(x_model[1850:1885,555], y_model[1850:1885,555], '-b')\n",
    "proj1.plot(x_model[1753:1837,568], y_model[1753:1837,568], '-b')\n",
    "proj1.plot(x_model[1720:1790,605], y_model[1720:1790,605], '-b')\n",
    "proj1.plot(x_model[1730,660:690], y_model[1730,660:690], '-b')\n",
    "\n",
    "#top:\n",
    "proj1.plot(x_model[1635:1653,760], y_model[1635:1653,760], '-b')\n",
    "\n",
    "#right:\n",
    "proj1.plot(x_model[1520,505:673], y_model[1520,505:673], '-b')\n",
    "proj1.plot(x_model[1520,385:405], y_model[1520,385:405], '-b')\n",
    "\n",
    "# middle:\n",
    "proj1.plot(x_model[1570:1630,635], y_model[1570:1630,635], '-g')\n",
    "proj1.plot(x_model[1585,485:538], y_model[1585,485:538], '-r')"
   ]
  },
  {
   "cell_type": "markdown",
   "metadata": {},
   "source": [
    "The coordinates:"
   ]
  },
  {
   "cell_type": "code",
   "execution_count": 26,
   "metadata": {},
   "outputs": [],
   "source": [
    "# naming convention\n",
    "# - first letter indicates the side of the CAA\n",
    "# - second letter is number from bottom up\n",
    "# - i and j directions are based on 1st and 2nd element of lons,lats dimensions\n",
    "\n",
    "l1i = 2013; l1j = np.arange(300,392)\n",
    "l2i = 1935; l2j = np.arange(450,530)\n",
    "l3i = np.arange(1850,1885); l3j = 555\n",
    "l4i = np.arange(1753,1837); l4j = 568\n",
    "l5i = np.arange(1720,1790); l5j = 605\n",
    "l6i = 1730; l6j = np.arange(660,690)\n",
    "\n",
    "t1i = np.arange(1635,1653); t1j = 760\n",
    "\n",
    "r1i = 1520; r1j = np.arange(505,673)\n",
    "r2i = 1520; r2j = np.arange(385,405)\n",
    "\n",
    "#Nares:\n",
    "N1i = np.arange(1570,1630); N1j = 635\n",
    "\n",
    "#Parry channel\n",
    "P1i = 1585; P1j = np.arange(485,538)"
   ]
  },
  {
   "cell_type": "markdown",
   "metadata": {},
   "source": [
    "### Write boundary coordinates to NetCDF file:"
   ]
  },
  {
   "cell_type": "code",
   "execution_count": 148,
   "metadata": {},
   "outputs": [
    {
     "data": {
      "text/plain": [
       "<class 'netCDF4._netCDF4.Dimension'> (unlimited): name = 't', size = 0"
      ]
     },
     "execution_count": 148,
     "metadata": {},
     "output_type": "execute_result"
    }
   ],
   "source": [
    "ncd = nc.Dataset('/ocean/brogalla/GEOTRACES/data/CAA_boundaries.nc', 'w', zlib=True)\n",
    "ncd.createDimension('x', lon.shape[1])\n",
    "ncd.createDimension('y', lon.shape[0])\n",
    "ncd.createDimension('z', depth.shape[0])\n",
    "ncd.createDimension('t', None)"
   ]
  },
  {
   "cell_type": "code",
   "execution_count": 149,
   "metadata": {},
   "outputs": [],
   "source": [
    "nav_lon = ncd.createVariable('nav_lon', 'float64', ('y','x'))\n",
    "nav_lon.units = 'degrees East'\n",
    "nav_lon.long_name = 'Longitudes'\n",
    "nav_lon[:] = lon\n",
    "\n",
    "nav_lat = ncd.createVariable('nav_lat', 'float64', ('y','x'))\n",
    "nav_lat.units = 'degrees North'\n",
    "nav_lat.long_name = 'Latitudes'\n",
    "nav_lat[:] = lat"
   ]
  },
  {
   "cell_type": "code",
   "execution_count": 150,
   "metadata": {},
   "outputs": [],
   "source": [
    "WPCx = ncd.createVariable('bdy_xWPC', 'float64', ('t'))\n",
    "WPCx.units = 'ANHA12 coordinates; x'\n",
    "WPCx.long_name = 'Western Parry Channel boundary'\n",
    "WPCx[:] = bdy_xWPC\n",
    "\n",
    "WPCy = ncd.createVariable('bdy_yWPC', 'float64', ('t'))\n",
    "WPCy.units = 'ANHA12 coordinates; y'\n",
    "WPCy.long_name = 'Western Parry Channel boundary'\n",
    "WPCy[:] = bdy_yWPC"
   ]
  },
  {
   "cell_type": "code",
   "execution_count": 151,
   "metadata": {},
   "outputs": [],
   "source": [
    "EPCx = ncd.createVariable('bdy_xEPC', 'float64', ('t'))\n",
    "EPCx.units = 'ANHA12 coordinates; x'\n",
    "EPCx.long_name = 'Eastern Parry Channel boundary'\n",
    "EPCx[:] = bdy_xEPC\n",
    "\n",
    "EPCy = ncd.createVariable('bdy_yEPC', 'float64', ('t'))\n",
    "EPCy.units = 'ANHA12 coordinates; y'\n",
    "EPCy.long_name = 'Western Parry Channel boundary'\n",
    "EPCy[:] = bdy_yEPC"
   ]
  },
  {
   "cell_type": "code",
   "execution_count": 152,
   "metadata": {},
   "outputs": [],
   "source": [
    "SNSx = ncd.createVariable('bdy_xSNS', 'float64', ('t'))\n",
    "SNSx.units = 'ANHA12 coordinates; x'\n",
    "SNSx.long_name = 'Southern Nares Strait'\n",
    "SNSx[:] = bdy_xSNS\n",
    "\n",
    "SNSy = ncd.createVariable('bdy_ySNS', 'float64', ('t'))\n",
    "SNSy.units = 'ANHA12 coordinates; y'\n",
    "SNSy.long_name = 'Southern Nares Strait'\n",
    "SNSy[:] = bdy_ySNS"
   ]
  },
  {
   "cell_type": "code",
   "execution_count": 153,
   "metadata": {},
   "outputs": [],
   "source": [
    "NNSx = ncd.createVariable('bdy_xNNS', 'float64', ('t'))\n",
    "NNSx.units = 'ANHA12 coordinates; x'\n",
    "NNSx.long_name = 'Northern Nares Strait'\n",
    "NNSx[:] = bdy_xNNS\n",
    "\n",
    "NNSy = ncd.createVariable('bdy_yNNS', 'float64', ('t'))\n",
    "NNSy.units = 'ANHA12 coordinates; y'\n",
    "NNSy.long_name = 'Northern Nares Stra+1480 it'\n",
    "NNSy[:] = bdy_yNNS"
   ]
  },
  {
   "cell_type": "code",
   "execution_count": 154,
   "metadata": {},
   "outputs": [],
   "source": [
    "WNSx = ncd.createVariable('bdy_xWNS', 'float64', ('t'))\n",
    "WNSx.units = 'ANHA12 coordinates; x'\n",
    "WNSx.long_name = 'Western Nares Strait'\n",
    "WNSx[:] = bdy_xWNS\n",
    "\n",
    "WNSy = ncd.createVariable('bdy_yWNS', 'float64', ('t'))\n",
    "WNSy.units = 'ANHA12 coordinates; y'\n",
    "WNSy.long_name = 'Western Nares Strait'\n",
    "WNSy[:] = bdy_yWNS"
   ]
  },
  {
   "cell_type": "code",
   "execution_count": 155,
   "metadata": {},
   "outputs": [],
   "source": [
    "WCAAx = ncd.createVariable('bdy_xWCAA', 'float64', ('t'))\n",
    "WCAAx.units = 'ANHA12 coordinates; x'\n",
    "WCAAx.long_name = 'Western CAA'\n",
    "WCAAx[:] = bdy_xWCAA\n",
    "\n",
    "WCAAy = ncd.createVariable('bdy_yWCAA', 'float64', ('t'))\n",
    "WCAAy.units = 'ANHA12 coordinates; y'\n",
    "WCAAy.long_name = 'Western CAA'\n",
    "WCAAy[:] = bdy_yWCAA"
   ]
  },
  {
   "cell_type": "code",
   "execution_count": 156,
   "metadata": {},
   "outputs": [],
   "source": [
    "SCAAx = ncd.createVariable('bdy_xSCAA', 'float64', ('t'))\n",
    "SCAAx.units = 'ANHA12 coordinates; x'\n",
    "SCAAx.long_name = 'Southern CAA'\n",
    "SCAAx[:] = bdy_xSCAA\n",
    "\n",
    "SCAAy = ncd.createVariable('bdy_ySCAA', 'float64', ('t'))\n",
    "SCAAy.units = 'ANHA12 coordinates; y'\n",
    "SCAAy.long_name = 'Southern CAA'\n",
    "SCAAy[:] = bdy_ySCAA"
   ]
  },
  {
   "cell_type": "code",
   "execution_count": 157,
   "metadata": {},
   "outputs": [],
   "source": [
    "FSx = ncd.createVariable('bdy_xFS', 'float64', ('t'))\n",
    "FSx.units = 'ANHA12 coordinates; x'\n",
    "FSx.long_name = 'Fury Sound'\n",
    "FSx[:] = bdy_xFS\n",
    "\n",
    "FSy = ncd.createVariable('bdy_yFS', 'float64', ('t'))\n",
    "FSy.units = 'ANHA12 coordinates; y'\n",
    "FSy.long_name = 'Fury Sound'\n",
    "FSy[:] = bdy_yFS"
   ]
  },
  {
   "cell_type": "code",
   "execution_count": 158,
   "metadata": {},
   "outputs": [],
   "source": [
    "ncd.close()"
   ]
  },
  {
   "cell_type": "code",
   "execution_count": null,
   "metadata": {},
   "outputs": [],
   "source": []
  },
  {
   "cell_type": "code",
   "execution_count": null,
   "metadata": {},
   "outputs": [],
   "source": []
  },
  {
   "cell_type": "markdown",
   "metadata": {},
   "source": [
    "# Old functions"
   ]
  },
  {
   "cell_type": "code",
   "execution_count": 7,
   "metadata": {},
   "outputs": [],
   "source": [
    "def indx(bdy_lon, bdy_lat):\n",
    "\n",
    "    x_list = []\n",
    "    y_list = []\n",
    "    for i in range(0, len(bdy_lon)):\n",
    "        x, y = ar.find_closest_model_point(bdy_lon[i], bdy_lat[i], lons, lats)\n",
    "        x_list = np.append(x_list, x)\n",
    "        y_list = np.append(y_list, y)\n",
    "        \n",
    "    return x_list, y_list"
   ]
  },
  {
   "cell_type": "code",
   "execution_count": 8,
   "metadata": {},
   "outputs": [],
   "source": [
    "def find_bdy_coordinates(bdy_lon, bdy_lat):\n",
    "    # find the model coordinates for the specific lat, lon:\n",
    "    x_lon, y_lat = indx(bdy_lon, bdy_lat)\n",
    "    \n",
    "    # if the length of the x array is longer than y:\n",
    "    if np.abs(x_lon[0]-x_lon[-1]) > np.abs(y_lat[0]-y_lat[-1]):\n",
    "        # x points by integer\n",
    "        if x_lon[-1]-x_lon[0] < 0:\n",
    "            x_lons = np.arange(x_lon[0], x_lon[-1], -1)\n",
    "        else:\n",
    "            x_lons = np.arange(x_lon[0], x_lon[-1], 1)\n",
    "        # y points by length of x\n",
    "        y_lats = np.floor(np.linspace(y_lat[0], y_lat[-1], len(x_lons)))\n",
    "        \n",
    "    else:\n",
    "        \n",
    "        if y_lat[-1]-y_lat[0] < 0:\n",
    "            y_lats = np.arange(y_lat[0], y_lat[-1], -1)\n",
    "        else:\n",
    "            y_lats = np.arange(y_lat[0], y_lat[-1], 1)\n",
    "            \n",
    "        x_lons = np.floor(np.linspace(x_lon[0], x_lon[-1], len(y_lats)))\n",
    "\n",
    "    bdy_listx = np.empty(x_lons.shape)\n",
    "    bdy_listy = np.empty(y_lats.shape)\n",
    "    item = 0\n",
    "\n",
    "    print(x_lons.shape, y_lats.shape)\n",
    "    for i in range(0, len(x_lons)):    \n",
    "        # only include those coordinates which are not on land\n",
    "        if tmask[0,0, int(x_lons[i])+1480, int(y_lats[i])+160] != 0:\n",
    "            # shift to full domain coordinates\n",
    "            bdy_listx[item] = int(x_lons[i]) #lon[int(x_lons[i])+1480, int(y_lats[i])+160] \n",
    "            bdy_listy[item] = int(y_lats[i])  #lat[int(x_lons[i])+1480, int(y_lats[i])+160]\n",
    "            item+=1\n",
    "    \n",
    "    bdy_listx = list(map(int, bdy_listx))\n",
    "    bdy_listy = list(map(int, bdy_listy))\n",
    "    return bdy_listx, bdy_listy"
   ]
  },
  {
   "cell_type": "code",
   "execution_count": 9,
   "metadata": {},
   "outputs": [
    {
     "name": "stdout",
     "output_type": "stream",
     "text": [
      "(9,) (9,)\n"
     ]
    }
   ],
   "source": [
    "bdy_xNNS, bdy_yNNS   = find_bdy_coordinates([-61.184, -63.085], [81.775, 81.984])\n",
    "bdy_xSNS, bdy_ySNS   = find_bdy_coordinates([-68.753, -78.325], [76.400, 76.611])\n",
    "bdy_xWPC, bdy_yWPC = find_bdy_coordinates([-123.333, -120.748], [74.314, 75.973])\n",
    "bdy_xEPC, bdy_yEPC = find_bdy_coordinates([-82.796, -82.376], [74.566, 73.672])\n",
    "bdy_xWNS, bdy_yWNS = find_bdy_coordinates([-79.845, -81.520], [76.289, 75.712])\n",
    "bdy_xWCAA, bdy_yWCAA = find_bdy_coordinates([-79.487, -117.360], [82.781, 77.3239])\n",
    "bdy_xSCAA, bdy_ySCAA = find_bdy_coordinates([-122.2746, -121.288], [69.801, 71.477])\n",
    "bdy_xFS, bdy_yFS = find_bdy_coordinates([-83.905, -83.865], [70.019, 69.632])"
   ]
  },
  {
   "cell_type": "code",
   "execution_count": null,
   "metadata": {},
   "outputs": [],
   "source": []
  }
 ],
 "metadata": {
  "kernelspec": {
   "display_name": "Python 3",
   "language": "python",
   "name": "python3"
  },
  "language_info": {
   "codemirror_mode": {
    "name": "ipython",
    "version": 3
   },
   "file_extension": ".py",
   "mimetype": "text/x-python",
   "name": "python",
   "nbconvert_exporter": "python",
   "pygments_lexer": "ipython3",
   "version": "3.7.3"
  }
 },
 "nbformat": 4,
 "nbformat_minor": 2
}
