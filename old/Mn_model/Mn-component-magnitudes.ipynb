{
 "cells": [
  {
   "cell_type": "markdown",
   "metadata": {},
   "source": [
    "# component magnitude checks\n"
   ]
  },
  {
   "cell_type": "code",
   "execution_count": 3,
   "metadata": {},
   "outputs": [],
   "source": [
    "import numpy as np\n",
    "import matplotlib.pyplot as plt\n",
    "import matplotlib\n",
    "import cmocean\n",
    "import netCDF4 as nc\n",
    "from itertools import compress\n",
    "import datetime as dt\n",
    "import os\n",
    "import sys\n",
    "\n",
    "%matplotlib notebook"
   ]
  },
  {
   "cell_type": "markdown",
   "metadata": {},
   "source": [
    "Load domain dimensions"
   ]
  },
  {
   "cell_type": "code",
   "execution_count": 6,
   "metadata": {},
   "outputs": [],
   "source": [
    "imin, imax = 1480, 2180\n",
    "jmin, jmax = 160, 800"
   ]
  },
  {
   "cell_type": "code",
   "execution_count": 7,
   "metadata": {},
   "outputs": [],
   "source": [
    "mask  = nc.Dataset('/ocean/brogalla/GEOTRACES/ariane_runs/ANHA12_Ariane_mesh.nc')\n",
    "tmask = np.array(mask.variables['tmask'])\n",
    "cond  = (tmask[0,:,:,:] > 0.1) \n",
    "land_mask = np.ma.masked_where(cond, tmask[0,:,:,:]) \n",
    "tmask     = tmask[0,:,imin:imax,jmin:jmax]"
   ]
  },
  {
   "cell_type": "code",
   "execution_count": 9,
   "metadata": {},
   "outputs": [],
   "source": [
    "# Load structure from sample dataset:\n",
    "ref   = nc.Dataset('/data/brogalla/ANHA12/ANHA12-EXH006_5d_gridT_y2015m01d05.nc',  'r')\n",
    "lat_model = ref.variables['nav_lat'][imin:imax, jmin:jmax]\n",
    "lon_model = ref.variables['nav_lon'][imin:imax, jmin:jmax]"
   ]
  },
  {
   "cell_type": "markdown",
   "metadata": {},
   "source": [
    "Volume of grid cells"
   ]
  },
  {
   "cell_type": "code",
   "execution_count": 13,
   "metadata": {},
   "outputs": [],
   "source": [
    "e1t_base = np.array(mask.variables['e1t'])[0,imin:imax,jmin:jmax]\n",
    "e2t_base = np.array(mask.variables['e2t'])[0,imin:imax,jmin:jmax]\n",
    "e3t = np.array(mask.variables['e3t_0'])[0,:,imin:imax,jmin:jmax]\n",
    "\n",
    "e1t    = np.tile(e1t_base, (50,1,1))\n",
    "e2t    = np.tile(e2t_base, (50,1,1))\n",
    "\n",
    "volume3d  = e1t*e2t*e3t\n",
    "area      = e1t_base*e2t_base"
   ]
  },
  {
   "cell_type": "markdown",
   "metadata": {},
   "source": [
    "Constants"
   ]
  },
  {
   "cell_type": "code",
   "execution_count": 17,
   "metadata": {},
   "outputs": [],
   "source": [
    "alpha   = 0.65   # dimensionless\n",
    "f_mnatm = 0.527  # g of Mn / kg\n",
    "f_mnsed = 0.274  # g of Mn / kg\n",
    "f_mnice = 0.170  # g of Mn / kg\n",
    "molar_m = 54.938 # g of Mn / mol\n",
    "\n",
    "R_class_max = 165e-9*1e3 # mol/m3\n",
    "R_class_ave = 30e-9*1e3  # mol/m3\n",
    "\n",
    "discharge_max = 0.0558*3600*24*365 # kg/m2/yr\n",
    "discharge_ave = 0.0014*3600*24*365 # kg/m2/yr\n",
    "\n",
    "erosion_max = 1.74e-06 # dimensionless\n",
    "erosion_ave = 6.69e-09 # dimensionless\n",
    "\n",
    "flx_atm_max = 2.27e-3*1e-3 # kg/m2/yr \n",
    "flx_atm_ave = 9.87e-5*1e-3 # kg/m2/yr\n",
    "\n",
    "flx_ice_max = 5.15*1e-3 # kg/m2/yr\n",
    "flx_ice_ave = 0.11*1e-3 # kg/m2/yr"
   ]
  },
  {
   "cell_type": "markdown",
   "metadata": {},
   "source": [
    "##### Rivers:\n",
    "\n",
    "\\begin{equation}\n",
    "\\frac{\\partial [dMn]}{\\partial t} \\bigg\\vert_{river} = \\frac{ Q \\cdot R_{class}}{\\rho_0 \\ \\Delta z_{surface}}\n",
    "\\end{equation}\n",
    "\n",
    "Contribution to surface\n",
    "\\begin{equation}\n",
    "\\frac{\\mu mol}{m^2\\ year} = \\frac{ Q \\cdot R_{class}}{\\rho_0}\n",
    "\\end{equation}"
   ]
  },
  {
   "cell_type": "code",
   "execution_count": 29,
   "metadata": {},
   "outputs": [
    {
     "name": "stdout",
     "output_type": "stream",
     "text": [
      "Ave:  1.3e+03\n",
      "Max:  2.9e+05\n"
     ]
    }
   ],
   "source": [
    "riv_ave = discharge_ave*R_class_ave*1e6/1000\n",
    "riv_max = discharge_max*R_class_max*1e6/1000\n",
    "print('Ave: ', \"{0:.2}\".format(riv_ave))\n",
    "print('Max: ', \"{0:.2}\".format(riv_max))"
   ]
  },
  {
   "cell_type": "markdown",
   "metadata": {},
   "source": [
    "##### Dust from atmosphere:\n",
    "\n",
    "\\begin{equation}\n",
    "    \\frac{\\partial [dMn]}{\\partial t} \\bigg\\vert_{atmosphere} = \\frac{\\alpha \\cdot f_{Mn,\\ atm}}{m \\cdot \\Delta z_{surface}} \\cdot \\Phi_{atmosphere}\n",
    "\\end{equation}\n",
    "\n",
    "Contribution to surface\n",
    "\\begin{equation}\n",
    "\\frac{\\mu mol}{m^2\\ year} = \\frac{\\alpha \\cdot f_{Mn,\\ atm}}{m} \\cdot \\Phi_{atmosphere}\n",
    "\\end{equation}"
   ]
  },
  {
   "cell_type": "code",
   "execution_count": 30,
   "metadata": {},
   "outputs": [
    {
     "name": "stdout",
     "output_type": "stream",
     "text": [
      "Ave:  0.00062\n",
      "Max:  0.014\n"
     ]
    }
   ],
   "source": [
    "atm_ave = alpha*f_mnatm*flx_atm_ave*1e6/molar_m\n",
    "atm_max = alpha*f_mnatm*flx_atm_max*1e6/molar_m\n",
    "print('Ave: ', \"{0:.2}\".format(atm_ave))\n",
    "print('Max: ', \"{0:.2}\".format(atm_max))"
   ]
  },
  {
   "cell_type": "markdown",
   "metadata": {},
   "source": [
    "##### Dust from sea ice:\n",
    "\n",
    "\\begin{equation}\n",
    "    \\frac{\\partial [dMn]}{\\partial t} \\bigg\\vert_{ice} = \\frac{\\alpha \\cdot f_{Mn,\\ ice}}{m \\cdot \\Delta z_{surface}} \\cdot \\Phi_{ice}\n",
    "\\end{equation}\n",
    "\n",
    "Contribution to surface\n",
    "\\begin{equation}\n",
    "\\frac{\\mu mol}{m^2\\ year} = \\frac{\\alpha \\cdot f_{Mn,\\ ice}}{m} \\cdot \\Phi_{ice}\n",
    "\\end{equation}"
   ]
  },
  {
   "cell_type": "code",
   "execution_count": 31,
   "metadata": {},
   "outputs": [
    {
     "name": "stdout",
     "output_type": "stream",
     "text": [
      "Ave:  0.22\n",
      "Max:  1e+01\n"
     ]
    }
   ],
   "source": [
    "ice_ave = alpha*f_mnice*flx_ice_ave*1e6/molar_m\n",
    "ice_max = alpha*f_mnice*flx_ice_max*1e6/molar_m\n",
    "print('Ave: ', \"{0:.2}\".format(ice_ave))\n",
    "print('Max: ', \"{0:.2}\".format(ice_max))"
   ]
  },
  {
   "cell_type": "markdown",
   "metadata": {},
   "source": [
    "##### Resuspended sediment\n",
    "\n",
    "\\begin{equation}\n",
    "    \\frac{\\partial [dMn]}{\\partial t} \\bigg\\vert_{sediment} = C \\cdot U_{tidal}^2 \\cdot \\frac{\\alpha \\cdot f_{Mn,\\ sed}}{m \\cdot \\Delta z_{bottom}}\n",
    "\\end{equation}\n",
    "\n",
    "Contribution to surface\n",
    "\\begin{equation}\n",
    "\\frac{\\mu mol}{m^2\\ year} = C \\cdot U_{tidal}^2 \\cdot \\frac{\\alpha \\cdot f_{Mn,\\ sed}}{m}\n",
    "\\end{equation}"
   ]
  },
  {
   "cell_type": "code",
   "execution_count": 32,
   "metadata": {},
   "outputs": [
    {
     "name": "stdout",
     "output_type": "stream",
     "text": [
      "Ave:  2.2e-05\n",
      "Max:  0.0056\n"
     ]
    }
   ],
   "source": [
    "sed_ave = erosion_ave*alpha*f_mnsed*1e6/molar_m\n",
    "sed_max = erosion_max*alpha*f_mnsed*1e6/molar_m\n",
    "print('Ave: ', \"{0:.2}\".format(sed_ave))\n",
    "print('Max: ', \"{0:.2}\".format(sed_max))"
   ]
  },
  {
   "cell_type": "markdown",
   "metadata": {},
   "source": [
    "## Component comparison"
   ]
  },
  {
   "cell_type": "markdown",
   "metadata": {},
   "source": [
    "|    Component          | Van Hulten model         | My model average          | My model maximum          |\n",
    "|:----------------------|:-------------------------|:--------------------------|:--------------------------|\n",
    "| Mn from atmosphere    | 0-3 $\\mu$mol/m$^2$/yr    | 6.2e-4 $\\mu$mol/m$^2$/yr  | 0.014  $\\mu$mol/m$^2$/yr  | \n",
    "| Mn from ice           |      NA                  | 0.22   $\\mu$mol/m$^2$/yr  | 10     $\\mu$mol/m$^2$/yr  |\n",
    "| Mn from sediments     | 0-70 $\\mu$mol/m$^2$/yr   | 2.2e-5 $\\mu$mol/m$^2$/yr  | 5.6e-3 $\\mu$mol/m$^2$/yr  |"
   ]
  },
  {
   "cell_type": "code",
   "execution_count": null,
   "metadata": {},
   "outputs": [],
   "source": []
  }
 ],
 "metadata": {
  "kernelspec": {
   "display_name": "Python 3",
   "language": "python",
   "name": "python3"
  },
  "language_info": {
   "codemirror_mode": {
    "name": "ipython",
    "version": 3
   },
   "file_extension": ".py",
   "mimetype": "text/x-python",
   "name": "python",
   "nbconvert_exporter": "python",
   "pygments_lexer": "ipython3",
   "version": "3.7.3"
  }
 },
 "nbformat": 4,
 "nbformat_minor": 2
}
