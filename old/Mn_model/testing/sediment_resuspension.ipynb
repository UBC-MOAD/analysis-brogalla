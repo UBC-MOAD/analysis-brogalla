{
 "cells": [
  {
   "cell_type": "markdown",
   "metadata": {},
   "source": [
    "# Double check that sediment resuspension is working as intended\n",
    "\n",
    "June, 2019"
   ]
  },
  {
   "cell_type": "code",
   "execution_count": 1,
   "metadata": {},
   "outputs": [],
   "source": [
    "import os\n",
    "os.environ['PROJ_LIB'] = '/home/brogalla/anaconda3/share/proj'"
   ]
  },
  {
   "cell_type": "code",
   "execution_count": 3,
   "metadata": {},
   "outputs": [],
   "source": [
    "import matplotlib.pyplot as plt\n",
    "import netCDF4 as nc\n",
    "import numpy as np\n",
    "import datetime\n",
    "from mpl_toolkits.basemap import Basemap, cm\n",
    "import cmocean\n",
    "import datetime\n",
    "from pylab import *\n",
    "import matplotlib\n",
    "import warnings\n",
    "import pickle\n",
    "warnings.filterwarnings(\"ignore\")\n",
    "\n",
    "%matplotlib notebook"
   ]
  },
  {
   "cell_type": "code",
   "execution_count": null,
   "metadata": {},
   "outputs": [],
   "source": [
    "from IPython.display import HTML\n",
    "\n",
    "HTML('''<script>\n",
    "code_show=true; \n",
    "function code_toggle() {\n",
    " if (code_show){\n",
    " $('div.input').hide();\n",
    " } else {\n",
    " $('div.input').show();\n",
    " }\n",
    " code_show = !code_show\n",
    "} \n",
    "$( document ).ready(code_toggle);\n",
    "</script>\n",
    "<form action=\"javascript:code_toggle()\"><input type=\"submit\" value=\"Click here to toggle on/off the raw code.\"></form>''')"
   ]
  },
  {
   "cell_type": "code",
   "execution_count": 5,
   "metadata": {},
   "outputs": [],
   "source": [
    "folder   = '/data/brogalla/run_storage/'\n",
    "resus    = 'bdy-S-sed-nobio_2019-06-24T131116.040196-0400/'\n",
    "no_resus = 'bdy-S-nosed-nobio_2019-06-24T131202.945597-0400/'\n",
    "# resus    = 'sed-resus_2019-06-21T185829.455764-0400/'\n",
    "# no_resus = 'sed-resus_2019-06-21T193443.986696-0400/'\n",
    "file     = 'ANHA12_EXH006_5d_20020101_20021231_ptrc_T_20020101-20020105.nc'"
   ]
  },
  {
   "cell_type": "markdown",
   "metadata": {},
   "source": [
    "Check fday files:"
   ]
  },
  {
   "cell_type": "code",
   "execution_count": 6,
   "metadata": {},
   "outputs": [
    {
     "ename": "FileNotFoundError",
     "evalue": "[Errno 2] No such file or directory: b'/data/brogalla/run_storage/bdy-S-sed-nobio_2019-06-24T131116.040196-0400/ANHA12_EXH006_5d_20020101_20021231_ptrc_T_20020101-20020105.nc'",
     "output_type": "error",
     "traceback": [
      "\u001b[0;31m---------------------------------------------------------------------------\u001b[0m",
      "\u001b[0;31mFileNotFoundError\u001b[0m                         Traceback (most recent call last)",
      "\u001b[0;32m<ipython-input-6-786166e32d41>\u001b[0m in \u001b[0;36m<module>\u001b[0;34m\u001b[0m\n\u001b[0;32m----> 1\u001b[0;31m \u001b[0msed\u001b[0m    \u001b[0;34m=\u001b[0m \u001b[0mnc\u001b[0m\u001b[0;34m.\u001b[0m\u001b[0mDataset\u001b[0m\u001b[0;34m(\u001b[0m\u001b[0mfolder\u001b[0m\u001b[0;34m+\u001b[0m\u001b[0mresus\u001b[0m\u001b[0;34m+\u001b[0m\u001b[0mfile\u001b[0m\u001b[0;34m)\u001b[0m\u001b[0;34m\u001b[0m\u001b[0;34m\u001b[0m\u001b[0m\n\u001b[0m\u001b[1;32m      2\u001b[0m \u001b[0mno_sed\u001b[0m \u001b[0;34m=\u001b[0m \u001b[0mnc\u001b[0m\u001b[0;34m.\u001b[0m\u001b[0mDataset\u001b[0m\u001b[0;34m(\u001b[0m\u001b[0mfolder\u001b[0m\u001b[0;34m+\u001b[0m\u001b[0mno_resus\u001b[0m\u001b[0;34m+\u001b[0m\u001b[0mfile\u001b[0m\u001b[0;34m)\u001b[0m\u001b[0;34m\u001b[0m\u001b[0;34m\u001b[0m\u001b[0m\n\u001b[1;32m      3\u001b[0m \u001b[0;34m\u001b[0m\u001b[0m\n\u001b[1;32m      4\u001b[0m \u001b[0msed2\u001b[0m   \u001b[0;34m=\u001b[0m \u001b[0mnc\u001b[0m\u001b[0;34m.\u001b[0m\u001b[0mDataset\u001b[0m\u001b[0;34m(\u001b[0m\u001b[0mfolder\u001b[0m\u001b[0;34m+\u001b[0m\u001b[0;34m'ANHA12_EXH006_5d_20020101_20021231_ptrc_T_20020814-20020818.nc'\u001b[0m\u001b[0;34m)\u001b[0m\u001b[0;34m\u001b[0m\u001b[0;34m\u001b[0m\u001b[0m\n",
      "\u001b[0;32mnetCDF4/_netCDF4.pyx\u001b[0m in \u001b[0;36mnetCDF4._netCDF4.Dataset.__init__\u001b[0;34m()\u001b[0m\n",
      "\u001b[0;32mnetCDF4/_netCDF4.pyx\u001b[0m in \u001b[0;36mnetCDF4._netCDF4._ensure_nc_success\u001b[0;34m()\u001b[0m\n",
      "\u001b[0;31mFileNotFoundError\u001b[0m: [Errno 2] No such file or directory: b'/data/brogalla/run_storage/bdy-S-sed-nobio_2019-06-24T131116.040196-0400/ANHA12_EXH006_5d_20020101_20021231_ptrc_T_20020101-20020105.nc'"
     ]
    }
   ],
   "source": [
    "sed    = nc.Dataset(folder+resus+file)\n",
    "no_sed = nc.Dataset(folder+no_resus+file)\n",
    "\n",
    "sed2   = nc.Dataset(folder+'ANHA12_EXH006_5d_20020101_20021231_ptrc_T_20020814-20020818.nc')"
   ]
  },
  {
   "cell_type": "code",
   "execution_count": 14,
   "metadata": {},
   "outputs": [
    {
     "ename": "KeyError",
     "evalue": "'runoff'",
     "output_type": "error",
     "traceback": [
      "\u001b[0;31m---------------------------------------------------------------------------\u001b[0m",
      "\u001b[0;31mKeyError\u001b[0m                                  Traceback (most recent call last)",
      "\u001b[0;32m<ipython-input-14-208ea44c209a>\u001b[0m in \u001b[0;36m<module>\u001b[0;34m\u001b[0m\n\u001b[0;32m----> 1\u001b[0;31m \u001b[0mrnf\u001b[0m \u001b[0;34m=\u001b[0m \u001b[0mnp\u001b[0m\u001b[0;34m.\u001b[0m\u001b[0marray\u001b[0m\u001b[0;34m(\u001b[0m\u001b[0msed\u001b[0m\u001b[0;34m.\u001b[0m\u001b[0mvariables\u001b[0m\u001b[0;34m[\u001b[0m\u001b[0;34m'runoff'\u001b[0m\u001b[0;34m]\u001b[0m\u001b[0;34m)\u001b[0m\u001b[0;34m\u001b[0m\u001b[0;34m\u001b[0m\u001b[0m\n\u001b[0m",
      "\u001b[0;31mKeyError\u001b[0m: 'runoff'"
     ]
    }
   ],
   "source": [
    "rnf = np.array(sed.variables['runoff'])"
   ]
  },
  {
   "cell_type": "code",
   "execution_count": null,
   "metadata": {},
   "outputs": [],
   "source": [
    "print(np.amax(rnf*1e-10), np.amin(rnf*1e-10), np.average(rnf*1e-10))"
   ]
  },
  {
   "cell_type": "code",
   "execution_count": 9,
   "metadata": {},
   "outputs": [
    {
     "ename": "NameError",
     "evalue": "name 'sed' is not defined",
     "output_type": "error",
     "traceback": [
      "\u001b[0;31m---------------------------------------------------------------------------\u001b[0m",
      "\u001b[0;31mNameError\u001b[0m                                 Traceback (most recent call last)",
      "\u001b[0;32m<ipython-input-9-7f2d04718aad>\u001b[0m in \u001b[0;36m<module>\u001b[0;34m\u001b[0m\n\u001b[0;32m----> 1\u001b[0;31m \u001b[0mdmn_sed\u001b[0m     \u001b[0;34m=\u001b[0m \u001b[0mnp\u001b[0m\u001b[0;34m.\u001b[0m\u001b[0marray\u001b[0m\u001b[0;34m(\u001b[0m\u001b[0msed\u001b[0m\u001b[0;34m.\u001b[0m\u001b[0mvariables\u001b[0m\u001b[0;34m[\u001b[0m\u001b[0;34m'dissolmn'\u001b[0m\u001b[0;34m]\u001b[0m\u001b[0;34m)\u001b[0m\u001b[0;34m\u001b[0m\u001b[0;34m\u001b[0m\u001b[0m\n\u001b[0m\u001b[1;32m      2\u001b[0m \u001b[0mdmn_no_sed\u001b[0m  \u001b[0;34m=\u001b[0m \u001b[0mnp\u001b[0m\u001b[0;34m.\u001b[0m\u001b[0marray\u001b[0m\u001b[0;34m(\u001b[0m\u001b[0mno_sed\u001b[0m\u001b[0;34m.\u001b[0m\u001b[0mvariables\u001b[0m\u001b[0;34m[\u001b[0m\u001b[0;34m'dissolmn'\u001b[0m\u001b[0;34m]\u001b[0m\u001b[0;34m)\u001b[0m\u001b[0;34m\u001b[0m\u001b[0;34m\u001b[0m\u001b[0m\n\u001b[1;32m      3\u001b[0m \u001b[0mdmn_sed2\u001b[0m    \u001b[0;34m=\u001b[0m \u001b[0mnp\u001b[0m\u001b[0;34m.\u001b[0m\u001b[0marray\u001b[0m\u001b[0;34m(\u001b[0m\u001b[0msed2\u001b[0m\u001b[0;34m.\u001b[0m\u001b[0mvariables\u001b[0m\u001b[0;34m[\u001b[0m\u001b[0;34m'dissolmn'\u001b[0m\u001b[0;34m]\u001b[0m\u001b[0;34m)\u001b[0m\u001b[0;34m\u001b[0m\u001b[0;34m\u001b[0m\u001b[0m\n",
      "\u001b[0;31mNameError\u001b[0m: name 'sed' is not defined"
     ]
    }
   ],
   "source": [
    "dmn_sed     = np.array(sed.variables['dissolmn'])\n",
    "dmn_no_sed  = np.array(no_sed.variables['dissolmn'])\n",
    "dmn_sed2    = np.array(sed2.variables['dissolmn'])"
   ]
  },
  {
   "cell_type": "code",
   "execution_count": 10,
   "metadata": {},
   "outputs": [
    {
     "ename": "NameError",
     "evalue": "name 'dmn_sed' is not defined",
     "output_type": "error",
     "traceback": [
      "\u001b[0;31m---------------------------------------------------------------------------\u001b[0m",
      "\u001b[0;31mNameError\u001b[0m                                 Traceback (most recent call last)",
      "\u001b[0;32m<ipython-input-10-220a20f2b72d>\u001b[0m in \u001b[0;36m<module>\u001b[0;34m\u001b[0m\n\u001b[0;32m----> 1\u001b[0;31m \u001b[0mdiff_sed\u001b[0m \u001b[0;34m=\u001b[0m \u001b[0mdmn_sed\u001b[0m\u001b[0;34m-\u001b[0m\u001b[0mdmn_no_sed\u001b[0m\u001b[0;34m\u001b[0m\u001b[0;34m\u001b[0m\u001b[0m\n\u001b[0m",
      "\u001b[0;31mNameError\u001b[0m: name 'dmn_sed' is not defined"
     ]
    }
   ],
   "source": [
    "diff_sed = dmn_sed-dmn_no_sed"
   ]
  },
  {
   "cell_type": "code",
   "execution_count": 7,
   "metadata": {},
   "outputs": [
    {
     "ename": "NameError",
     "evalue": "name 'diff_sed' is not defined",
     "output_type": "error",
     "traceback": [
      "\u001b[0;31m---------------------------------------------------------------------------\u001b[0m",
      "\u001b[0;31mNameError\u001b[0m                                 Traceback (most recent call last)",
      "\u001b[0;32m<ipython-input-7-57cbc840ec8d>\u001b[0m in \u001b[0;36m<module>\u001b[0;34m\u001b[0m\n\u001b[0;32m----> 1\u001b[0;31m \u001b[0mprint\u001b[0m\u001b[0;34m(\u001b[0m\u001b[0mnp\u001b[0m\u001b[0;34m.\u001b[0m\u001b[0mamax\u001b[0m\u001b[0;34m(\u001b[0m\u001b[0mdiff_sed\u001b[0m\u001b[0;34m)\u001b[0m\u001b[0;34m,\u001b[0m \u001b[0mnp\u001b[0m\u001b[0;34m.\u001b[0m\u001b[0mamin\u001b[0m\u001b[0;34m(\u001b[0m\u001b[0mdiff_sed\u001b[0m\u001b[0;34m)\u001b[0m\u001b[0;34m,\u001b[0m \u001b[0mnp\u001b[0m\u001b[0;34m.\u001b[0m\u001b[0maverage\u001b[0m\u001b[0;34m(\u001b[0m\u001b[0mdiff_sed\u001b[0m\u001b[0;34m)\u001b[0m\u001b[0;34m)\u001b[0m\u001b[0;34m\u001b[0m\u001b[0;34m\u001b[0m\u001b[0m\n\u001b[0m",
      "\u001b[0;31mNameError\u001b[0m: name 'diff_sed' is not defined"
     ]
    }
   ],
   "source": [
    "print(np.amax(diff_sed), np.amin(diff_sed), np.average(diff_sed))"
   ]
  },
  {
   "cell_type": "code",
   "execution_count": 8,
   "metadata": {},
   "outputs": [
    {
     "ename": "NameError",
     "evalue": "name 'dmn_sed' is not defined",
     "output_type": "error",
     "traceback": [
      "\u001b[0;31m---------------------------------------------------------------------------\u001b[0m",
      "\u001b[0;31mNameError\u001b[0m                                 Traceback (most recent call last)",
      "\u001b[0;32m<ipython-input-8-c899b65f6511>\u001b[0m in \u001b[0;36m<module>\u001b[0;34m\u001b[0m\n\u001b[0;32m----> 1\u001b[0;31m \u001b[0mprint\u001b[0m\u001b[0;34m(\u001b[0m\u001b[0mnp\u001b[0m\u001b[0;34m.\u001b[0m\u001b[0mamax\u001b[0m\u001b[0;34m(\u001b[0m\u001b[0mdmn_sed\u001b[0m\u001b[0;34m)\u001b[0m\u001b[0;34m,\u001b[0m \u001b[0mnp\u001b[0m\u001b[0;34m.\u001b[0m\u001b[0mamin\u001b[0m\u001b[0;34m(\u001b[0m\u001b[0mdmn_sed\u001b[0m\u001b[0;34m)\u001b[0m\u001b[0;34m)\u001b[0m\u001b[0;34m\u001b[0m\u001b[0;34m\u001b[0m\u001b[0m\n\u001b[0m\u001b[1;32m      2\u001b[0m \u001b[0mprint\u001b[0m\u001b[0;34m(\u001b[0m\u001b[0mnp\u001b[0m\u001b[0;34m.\u001b[0m\u001b[0mamax\u001b[0m\u001b[0;34m(\u001b[0m\u001b[0mdmn_no_sed\u001b[0m\u001b[0;34m)\u001b[0m\u001b[0;34m,\u001b[0m \u001b[0mnp\u001b[0m\u001b[0;34m.\u001b[0m\u001b[0mamin\u001b[0m\u001b[0;34m(\u001b[0m\u001b[0mdmn_no_sed\u001b[0m\u001b[0;34m)\u001b[0m\u001b[0;34m)\u001b[0m\u001b[0;34m\u001b[0m\u001b[0;34m\u001b[0m\u001b[0m\n",
      "\u001b[0;31mNameError\u001b[0m: name 'dmn_sed' is not defined"
     ]
    }
   ],
   "source": [
    "print(np.amax(dmn_sed), np.amin(dmn_sed))\n",
    "print(np.amax(dmn_no_sed), np.amin(dmn_no_sed))"
   ]
  },
  {
   "cell_type": "code",
   "execution_count": 4,
   "metadata": {},
   "outputs": [],
   "source": [
    "mask  = nc.Dataset('/ocean/brogalla/GEOTRACES/ariane_runs/ANHA12_Ariane_mesh.nc')\n",
    "tmask = np.array(mask.variables['tmask'])\n",
    "tmask = tmask[0,:,1480:2050,160:800]"
   ]
  },
  {
   "cell_type": "code",
   "execution_count": 5,
   "metadata": {},
   "outputs": [],
   "source": [
    "ref   = nc.Dataset('/data/brogalla/ANHA12/2015/ANHA12-EXH006_y2015m01d05_gridT.nc')\n",
    "lons  = np.array(ref.variables['nav_lon'])\n",
    "lats  = np.array(ref.variables['nav_lat'])\n",
    "depth = np.array(ref.variables['deptht'])"
   ]
  },
  {
   "cell_type": "code",
   "execution_count": null,
   "metadata": {},
   "outputs": [],
   "source": [
    "fig, ax = plt.subplots(1,2,figsize=(8,6))\n",
    "sed = np.ma.masked_where((tmask[:,287,200] < 0.1), dmn_sed[0,:,287,200]) \n",
    "ax[0].plot(sed, depth)\n",
    "ax[0].invert_yaxis()\n",
    "ax[0].set_ylabel('depth')\n",
    "ax[0].set_xlabel('dMn')\n",
    "ax[0].set_title('Lon: '+ str(lons[1767,380]) + ', Lat: ' + str(lats[1767,380]))\n",
    "ax[0].set_xlim([0, 6e-9])\n",
    "#1777\n",
    "\n",
    "sed2 = np.ma.masked_where((tmask[:,495,500] < 0.1), dmn_sed[0,:,495,500]) \n",
    "ax[1].plot(sed2, depth)\n",
    "ax[1].invert_yaxis()\n",
    "ax[1].set_xlabel('dMn')\n",
    "ax[1].set_title('Lon: '+ str(lons[1977,680]) + ', Lat: ' + str(lats[1975,680]))\n",
    "ax[1].set_xlim([0, 6e-9])"
   ]
  },
  {
   "cell_type": "code",
   "execution_count": null,
   "metadata": {},
   "outputs": [],
   "source": [
    "fig, ax = plt.subplots(1,2,figsize=(8,6))\n",
    "sed = np.ma.masked_where((tmask[:,287,220] < 0.1), dmn_sed2[0,:,287,220]) \n",
    "ax[0].plot(sed, depth)\n",
    "ax[0].invert_yaxis()\n",
    "ax[0].set_ylabel('depth')\n",
    "ax[0].set_xlabel('dMn')\n",
    "ax[0].set_title('Lon: '+ str(lons[1767,380]) + ', Lat: ' + str(lats[1767,380]))\n",
    "ax[0].set_xlim([0, 1.5e-8])\n",
    "#1777\n",
    "\n",
    "sed2 = np.ma.masked_where((tmask[:,495,520] < 0.1), dmn_sed2[0,:,495,520]) \n",
    "ax[1].plot(sed2, depth)\n",
    "ax[1].invert_yaxis()\n",
    "ax[1].set_xlabel('dMn')\n",
    "ax[1].set_title('Lon: '+ str(lons[1977,680]) + ', Lat: ' + str(lats[1975,680]))\n",
    "ax[1].set_xlim([0, 1.5e-8])"
   ]
  },
  {
   "cell_type": "code",
   "execution_count": null,
   "metadata": {},
   "outputs": [],
   "source": [
    "proj = pickle.load(open('/ocean/brogalla/GEOTRACES/analysis-brogalla/maps/surface-Mn.pickle','rb'))\n",
    "\n",
    "x, y = proj(lons[1480:2050,160:800], lats[1480:2050,160:800])\n",
    "\n",
    "var = np.ma.masked_where((tmask[0,:,:] < 0.1), dmn_sed2[0,0,:,:]) \n",
    "\n",
    "# clevels=[0, 0.25e-9, 0.5e-9, 0.75e-9, 1e-9, 1.25e-9, 1.5e-9, 1.75e-9, 2e-9, \\\n",
    "#          2.25e-9, 2.5e-9, 2.75e-9, 3e-9, 3.25e-9, 3.5e-9, 3.75e-9, 4e-9]\n",
    "cbar = proj.contourf(x, y, var, cmap=cmocean.cm.thermal, zorder=1)\n",
    "\n",
    "x_star, y_star = proj(lons[1767,380], lats[1767,380])\n",
    "proj.plot(x_star, y_star, '*', markersize=15, c='y', zorder=3)\n",
    "\n",
    "x_star1, y_star1 = proj(lons[1975,680], lats[1975,680])\n",
    "proj.plot(x_star1, y_star1, '*', markersize=15, c='y', zorder=3)\n",
    "\n",
    "\n",
    "fig = gcf()\n",
    "cbar_ax = fig.add_axes([0.91, 0.15, 0.04, 0.7])\n",
    "fig.colorbar(cbar, cax=cbar_ax);"
   ]
  },
  {
   "cell_type": "code",
   "execution_count": null,
   "metadata": {},
   "outputs": [],
   "source": [
    "proj = pickle.load(open('/ocean/brogalla/GEOTRACES/analysis-brogalla/maps/surface-Mn.pickle','rb'))\n",
    "\n",
    "x, y = proj(lons[1480:2050,180:820], lats[1480:2050,180:820])\n",
    "\n",
    "var = np.ma.masked_where((tmask[0,:,:] < 0.1), diff_sed[0,0,:,:]) \n",
    "\n",
    "# clevels=[0, 0.25e-9, 0.5e-9, 0.75e-9, 1e-9, 1.25e-9, 1.5e-9, 1.75e-9, 2e-9, \\\n",
    "#          2.25e-9, 2.5e-9, 2.75e-9, 3e-9, 3.25e-9, 3.5e-9, 3.75e-9, 4e-9]\n",
    "cbar = proj.contourf(x, y, var, cmap=cmocean.cm.thermal,vmin=0, vmax=2.8e-10, zorder=1)\n",
    "\n",
    "x_star, y_star = proj(lons[1767,380], lats[1767,380])\n",
    "proj.plot(x_star, y_star, '*', markersize=15, c='y', zorder=3)\n",
    "\n",
    "x_star1, y_star1 = proj(lons[1975,680], lats[1975,680])\n",
    "proj.plot(x_star1, y_star1, '*', markersize=15, c='y', zorder=3)\n",
    "\n",
    "plt.title('Difference between run with zeroed trb and run without')\n",
    "\n",
    "fig = gcf()\n",
    "cbar_ax = fig.add_axes([0.91, 0.15, 0.04, 0.7])\n",
    "fig.colorbar(cbar, cax=cbar_ax);"
   ]
  },
  {
   "cell_type": "code",
   "execution_count": null,
   "metadata": {},
   "outputs": [],
   "source": [
    "proj = pickle.load(open('/ocean/brogalla/GEOTRACES/analysis-brogalla/maps/surface-Mn.pickle','rb'))\n",
    "\n",
    "x, y = proj(lons[1480:2050,180:820], lats[1480:2050,180:820])\n",
    "\n",
    "var = np.ma.masked_where((tmask[0,:,:] < 0.1), rnf[0,0,:,:]*1e-10) \n",
    "\n",
    "clevels1=[0, 5, 10, 15, 20, 25, 30]\n",
    "cbar = proj.contourf(x, y, var, cmap=cmocean.cm.thermal, clevels=clevels1, zorder=1)\n",
    "\n",
    "fig = gcf()\n",
    "cbar_ax = fig.add_axes([0.91, 0.15, 0.04, 0.7])\n",
    "fig.colorbar(cbar, cax=cbar_ax);"
   ]
  },
  {
   "cell_type": "code",
   "execution_count": null,
   "metadata": {},
   "outputs": [],
   "source": []
  }
 ],
 "metadata": {
  "kernelspec": {
   "display_name": "Python 3",
   "language": "python",
   "name": "python3"
  },
  "language_info": {
   "codemirror_mode": {
    "name": "ipython",
    "version": 3
   },
   "file_extension": ".py",
   "mimetype": "text/x-python",
   "name": "python",
   "nbconvert_exporter": "python",
   "pygments_lexer": "ipython3",
   "version": "3.7.3"
  }
 },
 "nbformat": 4,
 "nbformat_minor": 2
}
