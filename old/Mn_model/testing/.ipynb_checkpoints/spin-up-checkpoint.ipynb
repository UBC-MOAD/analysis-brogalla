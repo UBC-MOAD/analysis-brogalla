{
 "cells": [
  {
   "cell_type": "markdown",
   "metadata": {},
   "source": [
    "# Check when model has finished spin up\n",
    "\n",
    "July, 2019"
   ]
  },
  {
   "cell_type": "code",
   "execution_count": 1,
   "metadata": {},
   "outputs": [],
   "source": [
    "import matplotlib.pyplot as plt\n",
    "import netCDF4 as nc\n",
    "import numpy as np\n",
    "import scipy.stats as scs"
   ]
  },
  {
   "cell_type": "code",
   "execution_count": 2,
   "metadata": {},
   "outputs": [],
   "source": [
    "initial = '/data/brogalla/IC/Mn_ini_20180716.nc'\n",
    "end_yr1 = '/data/brogalla/run_storage/spin-up0-high-case/'\n",
    "end_yr2 = '/data/brogalla/run_storage/spin-up1-high-case/'\n",
    "end_yr3 = '/data/brogalla/run_storage/spin-up2-high-case/'\n",
    "end_yr4 = '/data/brogalla/run_storage/spin-up3-high-case/'\n",
    "fday    = 'ANHA12_EXH006_5d_20020101_20021231_ptrc_T_20021227-20021231.nc'\n",
    "monthly =  'ANHA12_EXH006_2002_monthly.nc'"
   ]
  },
  {
   "cell_type": "markdown",
   "metadata": {},
   "source": [
    "Mask land values"
   ]
  },
  {
   "cell_type": "code",
   "execution_count": 3,
   "metadata": {},
   "outputs": [],
   "source": [
    "mask  = nc.Dataset('/ocean/brogalla/GEOTRACES/ariane_runs/ANHA12_Ariane_mesh.nc')\n",
    "tmask = np.array(mask.variables['tmask'])\n",
    "tmask = tmask[:,:,:,:]"
   ]
  },
  {
   "cell_type": "code",
   "execution_count": 4,
   "metadata": {},
   "outputs": [],
   "source": [
    "ref   = nc.Dataset('/ocean/brogalla/GEOTRACES/data/ANHA12/ANHA12-EXH006_y2015m01d05_gridT.nc',  'r')\n",
    "depth = np.array(ref.variables['deptht'])"
   ]
  },
  {
   "cell_type": "code",
   "execution_count": 5,
   "metadata": {},
   "outputs": [],
   "source": [
    "def load_file(path, ini=False):\n",
    "    \n",
    "    file = nc.Dataset(path)\n",
    "    if ini:\n",
    "        dmn = np.array(file.variables['dMn'])\n",
    "        cond = (tmask[0, :, :, :] < 0.1) \n",
    "    else:\n",
    "        dmn  = np.array(file.variables['dissolmn'])\n",
    "        cond = (tmask[0, :, 1480:2180, 160:800] < 0.1) \n",
    "        \n",
    "    dmn_masked = np.ma.masked_where(cond, dmn[0,:,:,:]) \n",
    "    \n",
    "    return dmn_masked"
   ]
  },
  {
   "cell_type": "code",
   "execution_count": 6,
   "metadata": {},
   "outputs": [],
   "source": [
    "mn_ini  = load_file(initial, ini=True)\n",
    "mn_end1 = load_file(end_yr1 + fday)\n",
    "mn_end2 = load_file(end_yr2 + fday)\n",
    "mn_end3 = load_file(end_yr3 + fday)\n",
    "mn_end4 = load_file(end_yr4 + fday)"
   ]
  },
  {
   "cell_type": "code",
   "execution_count": 7,
   "metadata": {},
   "outputs": [],
   "source": [
    "tmask_full  = np.empty((12,50,700,640))\n",
    "tmask_full[:] = tmask[0,:,1480:2180,160:800]"
   ]
  },
  {
   "cell_type": "code",
   "execution_count": null,
   "metadata": {},
   "outputs": [],
   "source": [
    "cond      = (tmask_full < 0.1) \n",
    "mn_m1     = nc.Dataset(end_yr1 + monthly)\n",
    "mn_month1 = np.ma.masked_where(cond, np.array(mn_m1.variables['dissolmn'][:,0,:,:,:]))\n",
    "mn_m2     = nc.Dataset(end_yr2 + monthly)\n",
    "mn_month2 = np.ma.masked_where(cond, np.array(mn_m2.variables['dissolmn'][:,0,:,:,:]))\n",
    "mn_m3     = nc.Dataset(end_yr3 + monthly)\n",
    "mn_month3 = np.ma.masked_where(cond, np.array(mn_m3.variables['dissolmn'][:,0,:,:,:]))\n",
    "mn_m4     = nc.Dataset(end_yr4 + monthly)\n",
    "mn_month4 = np.ma.masked_where(cond, np.array(mn_m4.variables['dissolmn'][:,0,:,:,:]))"
   ]
  },
  {
   "cell_type": "markdown",
   "metadata": {},
   "source": [
    "Correlate initial dmn with final dmn:"
   ]
  },
  {
   "cell_type": "code",
   "execution_count": null,
   "metadata": {},
   "outputs": [],
   "source": [
    "array_a  = np.ndarray.flatten(mn_ini[:, 1480:2050, 160:800])\n",
    "array_b1 = np.ndarray.flatten(mn_end1)"
   ]
  },
  {
   "cell_type": "code",
   "execution_count": null,
   "metadata": {},
   "outputs": [],
   "source": [
    "array_a_nomask  = array_a[~array_a.mask]\n",
    "array_b1_nomask = array_b1[~array_b1.mask]"
   ]
  },
  {
   "cell_type": "code",
   "execution_count": null,
   "metadata": {},
   "outputs": [],
   "source": [
    "scs.pearsonr(array_a_nomask, array_b1_nomask)"
   ]
  },
  {
   "cell_type": "markdown",
   "metadata": {},
   "source": [
    "After one run from 2002-2003, the dissolved Mn field has a correlation of 0.498 with the initial conditions (Pearson R). Submitted a new run which restarts at the end of 2002 and repeats the year 2002."
   ]
  },
  {
   "cell_type": "code",
   "execution_count": null,
   "metadata": {},
   "outputs": [],
   "source": [
    "array_b2 = np.ndarray.flatten(mn_end2)\n",
    "array_b2_nomask = array_b2[~array_b2.mask]"
   ]
  },
  {
   "cell_type": "code",
   "execution_count": null,
   "metadata": {},
   "outputs": [],
   "source": [
    "scs.pearsonr(array_a_nomask, array_b2_nomask)"
   ]
  },
  {
   "cell_type": "code",
   "execution_count": null,
   "metadata": {},
   "outputs": [],
   "source": [
    "array_b3 = np.ndarray.flatten(mn_end3)\n",
    "array_b3_nomask = array_b3[~array_b3.mask]"
   ]
  },
  {
   "cell_type": "code",
   "execution_count": null,
   "metadata": {},
   "outputs": [],
   "source": [
    "scs.pearsonr(array_a_nomask, array_b3_nomask)"
   ]
  },
  {
   "cell_type": "code",
   "execution_count": null,
   "metadata": {},
   "outputs": [],
   "source": [
    "array_b4 = np.ndarray.flatten(mn_end4)\n",
    "array_b4_nomask = array_b4[~array_b4.mask]"
   ]
  },
  {
   "cell_type": "code",
   "execution_count": null,
   "metadata": {},
   "outputs": [],
   "source": [
    "scs.pearsonr(array_a_nomask, array_b4_nomask)"
   ]
  },
  {
   "cell_type": "markdown",
   "metadata": {},
   "source": [
    "# Alternate metric\n",
    "\n",
    "Look at how different the station profiles are after multiple spin-ups. So, for each month in the set, calculate the difference between the profiles. When the difference becomes small, the profiles are most similar and have reached steady-state."
   ]
  },
  {
   "cell_type": "code",
   "execution_count": null,
   "metadata": {},
   "outputs": [],
   "source": [
    "stni = [104-1, 100, 91, 175, 175, 233, 214, 352, 242, 458, 508, 547]\n",
    "stnj = [370, 365, 353, 311, 326, 313, 281, 281, 364, 332, 384, 457]"
   ]
  },
  {
   "cell_type": "code",
   "execution_count": null,
   "metadata": {},
   "outputs": [],
   "source": [
    "diff1 = np.empty((12,12))\n",
    "diff2 = np.empty((12,12))\n",
    "diff3 = np.empty((12,12))\n",
    "for i in range(0,len(stni)): # loop over the number of stations\n",
    "    diff1[i,:] = np.sum(np.abs(mn_month2[:, :, stni[i], stnj[i]] - mn_month1[:, :, stni[i], stnj[i]]), axis=1)\n",
    "    diff2[i,:] = np.sum(np.abs(mn_month3[:, :, stni[i], stnj[i]] - mn_month2[:, :, stni[i], stnj[i]]), axis=1)\n",
    "    diff3[i,:] = np.sum(np.abs(mn_month4[:, :, stni[i], stnj[i]] - mn_month3[:, :, stni[i], stnj[i]]), axis=1)"
   ]
  },
  {
   "cell_type": "code",
   "execution_count": null,
   "metadata": {},
   "outputs": [],
   "source": [
    "colors=['#124160', '#149e89', '#c4894e', '#97806d', '#541428', '#7d9964', \\\n",
    "       '#9a4571', '#8cd52f', '#ffac44', '#466b94', '#c0d6e4', '#d04538']\n",
    "\n",
    "name  =['CAA1', 'CAA2', 'CAA3', 'CAA4', 'CAA5', 'CAA6', 'CAA7', 'CAA8', 'CAA9', \\\n",
    "       'CB1', 'CB2', 'CB3']"
   ]
  },
  {
   "cell_type": "code",
   "execution_count": null,
   "metadata": {},
   "outputs": [],
   "source": [
    "fig, ax = plt.subplots(1, 1, figsize=(12,6))\n",
    "\n",
    "for stn in range(0,12):\n",
    "    ax.plot(range(1+12,37+12), np.append(np.append(diff1[stn,:], diff2[stn,:]), diff3[stn,:]), \\\n",
    "            c=colors[stn], label=name[stn], linewidth=2.5)\n",
    "    ax.plot(range(1+12,37+12), np.append(np.append(diff1[stn,:], diff2[stn,:]), diff3[stn,:]), '.', \\\n",
    "            markersize=12, c=colors[stn]\n",
    "#     ax.plot(range(1+12,37), np.append(diff1[stn,:], diff2[stn,:]), \\\n",
    "#             c=colors[stn], label=name[stn], linewidth=2.5)\n",
    "#     ax.plot(range(1+12,37), np.append(diff1[stn,:], diff2[stn,:]), '.', \\\n",
    "#             markersize=12, c=colors[stn])\n",
    "\n",
    "ax.set_xlim([12.5, 48.5])\n",
    "ax.set_ylim([0, 1e-7])\n",
    "ax.xaxis.set_ticks(np.arange(12, 38+12, 2))\n",
    "ax.tick_params(axis='both', which='major', labelsize=13)\n",
    "ax.set_xlabel('Month of spin up', fontsize=14)\n",
    "ax.set_ylabel('Total monthly Mn station profiles change', fontsize=14)\n",
    "#$ \\sum_{z}\\ Mn(z, month, yr) - Mn(z, month, yr-1)$\n",
    "ax.legend(bbox_to_anchor=(1.15, 1.00), fontsize=14, frameon=False)\n",
    "# fig.savefig('/ocean/brogalla/GEOTRACES/figures/Mn_spin-up-reference-20190917.png', bbox_inches='tight')"
   ]
  },
  {
   "cell_type": "code",
   "execution_count": null,
   "metadata": {},
   "outputs": [],
   "source": [
    "fig = plt.subplots(figsize=(12,12))\n",
    "\n",
    "ax1 = plt.subplot2grid((3, 6), (0, 0), colspan=6)\n",
    "ax2 = plt.subplot2grid((3, 6), (1, 0))\n",
    "ax3 = plt.subplot2grid((3, 6), (1, 1))\n",
    "ax4 = plt.subplot2grid((3, 6), (1, 2))\n",
    "ax5 = plt.subplot2grid((3, 6), (1, 3))\n",
    "ax6 = plt.subplot2grid((3, 6), (1, 4))\n",
    "ax7 = plt.subplot2grid((3, 6), (1, 5))\n",
    "\n",
    "ax8 = plt.subplot2grid((3, 6), (2, 0))\n",
    "ax9 = plt.subplot2grid((3, 6), (2, 1))\n",
    "ax10 = plt.subplot2grid((3, 6), (2, 2))\n",
    "ax11 = plt.subplot2grid((3, 6), (2, 3))\n",
    "ax12 = plt.subplot2grid((3, 6), (2, 4))\n",
    "ax13 = plt.subplot2grid((3, 6), (2, 5))\n",
    "\n",
    "# top plot:\n",
    "ax3.yaxis.set_ticklabels([]); ax4.yaxis.set_ticklabels([]); ax5.yaxis.set_ticklabels([]);\n",
    "ax6.yaxis.set_ticklabels([]); ax7.yaxis.set_ticklabels([]); ax9.yaxis.set_ticklabels([]);\n",
    "ax10.yaxis.set_ticklabels([]); ax11.yaxis.set_ticklabels([]); ax12.yaxis.set_ticklabels([]);\n",
    "ax13.yaxis.set_ticklabels([])\n",
    "\n",
    "for stn in range(0,12):\n",
    "    ax1.plot(range(1,25), np.append(diff1[stn,:], diff2[stn,:]), \\\n",
    "            c=colors[stn], label=name[stn], linewidth=2.5)\n",
    "    ax1.plot(range(1,25), np.append(diff1[stn,:], diff2[stn,:]), '.', \\\n",
    "            markersize=12, c=colors[stn])\n",
    "\n",
    "ax1.set_xlim([0.5, 24.5])\n",
    "ax1.set_ylim([0, 1e-7])\n",
    "ax1.xaxis.set_ticks(np.arange(1, 25, 1))\n",
    "ax1.set_xlabel('Month', fontsize=14)\n",
    "ax1.set_ylabel('Difference between years', fontsize=14)\n",
    "ax1.set_title('Multiple spin ups', fontsize=14)\n",
    "ax1.legend(bbox_to_anchor=(1.20, 1.05), fontsize=14)\n",
    "\n",
    "#Other plots:\n",
    "stn=0\n",
    "for ax in [ax2, ax3, ax4, ax5, ax6, ax7, ax8, ax9, ax10, ax11, ax12, ax13]:\n",
    "    ax.invert_yaxis()\n",
    "    ax.set_ylim([400, 0])\n",
    "    ax.set_xlim([0, 15e-9])\n",
    "\n",
    "    mth=7\n",
    "    ax.plot(mn_month1[mth,:,stni[stn], stnj[stn]], depth, c=colors[stn])\n",
    "    ax.plot(mn_month2[mth,:,stni[stn], stnj[stn]], depth, '--', c=colors[stn])\n",
    "    ax.plot(mn_month3[mth,:,stni[stn], stnj[stn]], depth, '-.', c=colors[stn])\n",
    "    \n",
    "    stn+=1"
   ]
  },
  {
   "cell_type": "code",
   "execution_count": null,
   "metadata": {},
   "outputs": [],
   "source": []
  }
 ],
 "metadata": {
  "kernelspec": {
   "display_name": "Python 3",
   "language": "python",
   "name": "python3"
  },
  "language_info": {
   "codemirror_mode": {
    "name": "ipython",
    "version": 3
   },
   "file_extension": ".py",
   "mimetype": "text/x-python",
   "name": "python",
   "nbconvert_exporter": "python",
   "pygments_lexer": "ipython3",
   "version": "3.7.3"
  }
 },
 "nbformat": 4,
 "nbformat_minor": 2
}
