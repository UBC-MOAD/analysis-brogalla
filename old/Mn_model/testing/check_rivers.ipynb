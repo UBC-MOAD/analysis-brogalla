{
 "cells": [
  {
   "cell_type": "markdown",
   "metadata": {},
   "source": [
    "# Check all components of river forcing:\n",
    "\n",
    "2002 \n",
    "\n",
    "June, 2019"
   ]
  },
  {
   "cell_type": "code",
   "execution_count": 3,
   "metadata": {},
   "outputs": [],
   "source": [
    "import matplotlib.pyplot as plt\n",
    "import netCDF4 as nc\n",
    "import numpy as np\n",
    "import datetime\n",
    "from mpl_toolkits.basemap import Basemap, cm\n",
    "import cmocean\n",
    "import datetime\n",
    "from pylab import *\n",
    "import matplotlib\n",
    "import warnings\n",
    "import pickle\n",
    "warnings.filterwarnings(\"ignore\")\n",
    "\n",
    "%matplotlib notebook"
   ]
  },
  {
   "cell_type": "code",
   "execution_count": 5,
   "metadata": {},
   "outputs": [
    {
     "data": {
      "text/html": [
       "<script>\n",
       "code_show=true; \n",
       "function code_toggle() {\n",
       " if (code_show){\n",
       " $('div.input').hide();\n",
       " } else {\n",
       " $('div.input').show();\n",
       " }\n",
       " code_show = !code_show\n",
       "} \n",
       "$( document ).ready(code_toggle);\n",
       "</script>\n",
       "<form action=\"javascript:code_toggle()\"><input type=\"submit\" value=\"Click here to toggle on/off the raw code.\"></form>"
      ],
      "text/plain": [
       "<IPython.core.display.HTML object>"
      ]
     },
     "execution_count": 5,
     "metadata": {},
     "output_type": "execute_result"
    }
   ],
   "source": [
    "from IPython.display import HTML\n",
    "\n",
    "HTML('''<script>\n",
    "code_show=true; \n",
    "function code_toggle() {\n",
    " if (code_show){\n",
    " $('div.input').hide();\n",
    " } else {\n",
    " $('div.input').show();\n",
    " }\n",
    " code_show = !code_show\n",
    "} \n",
    "$( document ).ready(code_toggle);\n",
    "</script>\n",
    "<form action=\"javascript:code_toggle()\"><input type=\"submit\" value=\"Click here to toggle on/off the raw code.\"></form>''')"
   ]
  },
  {
   "cell_type": "code",
   "execution_count": 4,
   "metadata": {},
   "outputs": [],
   "source": [
    "ref   = nc.Dataset('/data/brogalla/run_storage/mn_test1f/ANHA12_EXH006_2002_monthly.nc')\n",
    "lons  = np.array(ref.variables['nav_lon'])\n",
    "lats  = np.array(ref.variables['nav_lat'])\n",
    "depth = np.array(ref.variables['deptht'])"
   ]
  },
  {
   "cell_type": "code",
   "execution_count": 5,
   "metadata": {},
   "outputs": [],
   "source": [
    "folder1 = '/ocean/brogalla/GEOTRACES/data/rivers/'\n",
    "folder2 = '/ocean/brogalla/GEOTRACES/data/runoff/'\n",
    "tracers = 'river_input-base-case.nc'\n",
    "runoff  = 'runoff_core_monthly.nc'"
   ]
  },
  {
   "cell_type": "code",
   "execution_count": 6,
   "metadata": {},
   "outputs": [],
   "source": [
    "runoff_monthly = nc.Dataset(folder2+runoff)\n",
    "tracer_forcing = nc.Dataset(folder1+tracers)"
   ]
  },
  {
   "cell_type": "code",
   "execution_count": 14,
   "metadata": {
    "scrolled": true
   },
   "outputs": [],
   "source": [
    "dmn_river = tracer_forcing.variables['dmn_rivers']\n",
    "omn_river = tracer_forcing.variables['pmn_rivers']\n",
    "runoff    = runoff_monthly.variables['runoff']\n",
    "nav_lon   = runoff_monthly.variables['nav_lon']\n",
    "nav_lat   = runoff_monthly.variables['nav_lat']\n",
    "socoefr   = runoff_monthly.variables['socoefr']"
   ]
  },
  {
   "cell_type": "code",
   "execution_count": 8,
   "metadata": {},
   "outputs": [],
   "source": [
    "dmn_river_np = np.array(dmn_river)\n",
    "omn_river_np = np.array(omn_river)"
   ]
  },
  {
   "cell_type": "code",
   "execution_count": 9,
   "metadata": {},
   "outputs": [
    {
     "name": "stdout",
     "output_type": "stream",
     "text": [
      "1.64e-07 0.0 1.9311183e-11\n",
      "2.7485505e-06 0.0 3.0742428e-10\n"
     ]
    }
   ],
   "source": [
    "print(np.amax(dmn_river_np[:,:]), np.amin(dmn_river_np[:,:]), np.average(dmn_river_np[:,:]))\n",
    "print(np.amax(omn_river_np[:,:]), np.amin(omn_river_np[:,:]), np.average(omn_river_np[:,:]))"
   ]
  },
  {
   "cell_type": "code",
   "execution_count": 17,
   "metadata": {},
   "outputs": [],
   "source": [
    "runoff_np  = np.array(runoff)\n",
    "socoefr_np = np.array(socoefr)"
   ]
  }
 ],
 "metadata": {
  "kernelspec": {
   "display_name": "Python 3",
   "language": "python",
   "name": "python3"
  },
  "language_info": {
   "codemirror_mode": {
    "name": "ipython",
    "version": 3
   },
   "file_extension": ".py",
   "mimetype": "text/x-python",
   "name": "python",
   "nbconvert_exporter": "python",
   "pygments_lexer": "ipython3",
   "version": "3.7.3"
  }
 },
 "nbformat": 4,
 "nbformat_minor": 2
}
