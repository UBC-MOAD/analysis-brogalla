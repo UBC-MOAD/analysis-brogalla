{
 "cells": [
  {
   "cell_type": "markdown",
   "metadata": {},
   "source": [
    "# Model vs. Observations scatter plots\n"
   ]
  },
  {
   "cell_type": "code",
   "execution_count": 1,
   "metadata": {},
   "outputs": [],
   "source": [
    "import numpy as np\n",
    "import matplotlib.pyplot as plt\n",
    "import csv\n",
    "from mpl_toolkits.basemap import Basemap, cm\n",
    "import netCDF4 as nc\n",
    "import cmocean\n",
    "import glob\n",
    "import pandas as pd \n",
    "import warnings\n",
    "warnings.filterwarnings('ignore')\n",
    "\n",
    "%matplotlib inline"
   ]
  },
  {
   "cell_type": "code",
   "execution_count": 160,
   "metadata": {},
   "outputs": [
    {
     "data": {
      "text/html": [
       "<script>\n",
       "code_show=true; \n",
       "function code_toggle() {\n",
       " if (code_show){\n",
       " $('div.input').hide();\n",
       " } else {\n",
       " $('div.input').show();\n",
       " }\n",
       " code_show = !code_show\n",
       "} \n",
       "$( document ).ready(code_toggle);\n",
       "</script>\n",
       "<form action=\"javascript:code_toggle()\"><input type=\"submit\" value=\"Click here to toggle on/off the raw code.\"></form>"
      ],
      "text/plain": [
       "<IPython.core.display.HTML object>"
      ]
     },
     "execution_count": 160,
     "metadata": {},
     "output_type": "execute_result"
    }
   ],
   "source": [
    "from IPython.display import HTML\n",
    "\n",
    "HTML('''<script>\n",
    "code_show=true; \n",
    "function code_toggle() {\n",
    " if (code_show){\n",
    " $('div.input').hide();\n",
    " } else {\n",
    " $('div.input').show();\n",
    " }\n",
    " code_show = !code_show\n",
    "} \n",
    "$( document ).ready(code_toggle);\n",
    "</script>\n",
    "<form action=\"javascript:code_toggle()\"><input type=\"submit\" value=\"Click here to toggle on/off the raw code.\"></form>''')\n"
   ]
  },
  {
   "cell_type": "code",
   "execution_count": 2,
   "metadata": {},
   "outputs": [],
   "source": [
    "def find_closest_model_point(\n",
    "    lon, lat, model_lons, model_lats, grid='NEMO', land_mask=None,\n",
    "    tols={\n",
    "        'NEMO': {'tol_lon': 0.04, 'tol_lat': 0.0388},\n",
    "        'GEM2.5': {'tol_lon': 0.016, 'tol_lat': 0.012},\n",
    "        }\n",
    "):\n",
    "\n",
    "    if grid not in tols:\n",
    "        raise KeyError(\n",
    "            'The provided grid type is not in tols. '\n",
    "            'Use another grid type or add your grid type to tols.')\n",
    "\n",
    "    # Search for a grid point with longitude and latitude within\n",
    "    # tolerance of measured location\n",
    "    j_list, i_list = np.where(\n",
    "        np.logical_and(\n",
    "            (np.logical_and(model_lons > lon - tols[grid]['tol_lon'],\n",
    "                            model_lons < lon + tols[grid]['tol_lon'])),\n",
    "            (np.logical_and(model_lats > lat - tols[grid]['tol_lat'],\n",
    "                            model_lats < lat + tols[grid]['tol_lat']))\n",
    "        )\n",
    "    )\n",
    "\n",
    "    if len(j_list) == 0:\n",
    "        # Added by BMM March 2017\n",
    "        # If including points outside of domain:\n",
    "        return np.nan, np.nan\n",
    "        # raise ValueError(\n",
    "        #    'No model point found. tol_lon/tol_lat too small or '\n",
    "        #    'lon/lat outside of domain.')\n",
    "    try:\n",
    "        j, i = map(np.asscalar, (j_list, i_list))\n",
    "    except ValueError:\n",
    "        # Several points within tolerance\n",
    "        # Calculate distances for all and choose the closest\n",
    "\n",
    "        # Avoiding array indexing because some functions\n",
    "        # pass in model_lons and model_lats as netcdf4 objects\n",
    "        # (which treat 'model_lons[j_list, i_list]' differently)\n",
    "        lons = [model_lons[j_list[n], i_list[n]] for n in range(len(j_list))]\n",
    "        lats = [model_lats[j_list[n], i_list[n]] for n in range(len(j_list))]\n",
    "        dists = haversine(\n",
    "            np.array([lon] * i_list.size), np.array([lat] * j_list.size),\n",
    "            lons, lats)\n",
    "        n = dists.argmin()\n",
    "        j, i = map(np.asscalar, (j_list[n], i_list[n]))\n",
    "\n",
    "    # If point is on land and land mask is provided\n",
    "    # try to find closest water point\n",
    "    if land_mask is None or not land_mask[j, i]:\n",
    "        return j, i\n",
    "    try:\n",
    "        return _spiral_search_for_closest_water_point(\n",
    "            j, i, land_mask, lon, lat, model_lons, model_lats)\n",
    "    except ValueError:\n",
    "        raise ValueError(\n",
    "            'lat/lon on land and no nearby water point found')\n"
   ]
  },
  {
   "cell_type": "code",
   "execution_count": 3,
   "metadata": {},
   "outputs": [],
   "source": [
    "def haversine(lon1, lat1, lon2, lat2):\n",
    "    lon1, lat1, lon2, lat2 = map(np.radians, [lon1, lat1, lon2, lat2])\n",
    "    dlon = lon2 - lon1\n",
    "    dlat = lat2 - lat1\n",
    "    a = np.sin(dlat/2)**2 + np.cos(lat1) * np.cos(lat2) * np.sin(dlon/2)**2\n",
    "    c = 2 * np.arcsin(np.sqrt(a))\n",
    "    km = 6367 * c\n",
    "    return km"
   ]
  },
  {
   "cell_type": "code",
   "execution_count": 4,
   "metadata": {},
   "outputs": [],
   "source": [
    "def search_depth(obs_depth, model_depths):\n",
    "    k_list = np.array([])\n",
    "    for i in range(0,len(obs_depth)):\n",
    "        diff_list = np.array([])\n",
    "        for n in range(0, len(model_depths)):\n",
    "            diff = np.abs(obs_depth[i] - model_depths[n])\n",
    "            diff_list = np.append(diff_list, diff)\n",
    "        k = np.argmin(diff_list) # for list of indices associated with depths\n",
    "        k_list = np.append(k_list, k)\n",
    "    return k_list"
   ]
  },
  {
   "cell_type": "markdown",
   "metadata": {},
   "source": [
    "## Load model results"
   ]
  },
  {
   "cell_type": "markdown",
   "metadata": {},
   "source": [
    "- mn_test1a_2019-05-22T202548.684391-0400\n",
    "- mn_test1b_2019-05-17T145013.373558-0400\n",
    "- mn_test1c_2019-05-17T145704.894654-0400\n",
    "- mn_test1d_2019-05-17T152156.400293-0400\n",
    "- mn_test1e_2019-05-17T170921.695627-0400\n",
    "- mn_test1f_2019-05-17T171011.928425-0400"
   ]
  },
  {
   "cell_type": "code",
   "execution_count": 5,
   "metadata": {},
   "outputs": [],
   "source": [
    "Mn_model = nc.Dataset('/data/brogalla/run_storage/mn_test1f/'+\\\n",
    "                      'ANHA12_EXH006_2015_monthly.nc')\n",
    "mn_dis = Mn_model.variables['dissolmn']\n",
    "mn_dis = np.array(mn_dis)"
   ]
  },
  {
   "cell_type": "code",
   "execution_count": 6,
   "metadata": {},
   "outputs": [],
   "source": [
    "c = nc.Dataset('/data/brogalla/runs_mn/mn001_2019-03-29T004931.179569-0400/' + \\\n",
    "               'ANHA12_EXH006_5d_20020101_20021231_ptrc_T_20021227-20021231.nc','r')\n",
    "\n",
    "# Load structure from sample dataset:\n",
    "lat_model = c.variables['nav_lat']\n",
    "lon_model = c.variables['nav_lon']\n",
    "depths_model = c.variables['deptht']\n",
    "lat_model = np.array(lat_model)\n",
    "lon_model = np.array(lon_model)\n",
    "depths_model = np.array(depths_model)"
   ]
  },
  {
   "cell_type": "markdown",
   "metadata": {},
   "source": [
    "## Load GEOTRACES observations"
   ]
  },
  {
   "cell_type": "code",
   "execution_count": 7,
   "metadata": {},
   "outputs": [],
   "source": [
    "Mn_data = pd.read_csv('/ocean/brogalla/GEOTRACES/data/Mn_Integrated_Data_UBC-UVic_4-17-19.csv')"
   ]
  },
  {
   "cell_type": "code",
   "execution_count": 8,
   "metadata": {},
   "outputs": [],
   "source": [
    "dMn_BB1 = Mn_data['BB1'].dropna()[1:].astype('float').values\n",
    "dMn_BB2 = Mn_data['BB2'].dropna()[1:].astype('float').values\n",
    "dMn_BB3 = Mn_data['BB3'].dropna()[1:].astype('float').values\n",
    "dMn_CB1 = Mn_data['CB1'].dropna()[1:].astype('float').values\n",
    "dMn_CB2 = Mn_data['CB2'].dropna()[1:].astype('float').values\n",
    "dMn_CB3 = Mn_data['CB3'].dropna()[1:].astype('float').values\n",
    "dMn_CB4 = Mn_data['CB4'].dropna()[1:].astype('float').values\n",
    "dMn_CAA1 = Mn_data['CAA1'].dropna()[1:].astype('float').values\n",
    "dMn_CAA2 = Mn_data['CAA2'].dropna()[1:].astype('float').values\n",
    "dMn_CAA3 = Mn_data['CAA3'].dropna()[1:].astype('float').values\n",
    "dMn_CAA4 = Mn_data['CAA4'].dropna()[1:].astype('float').values\n",
    "dMn_CAA5 = Mn_data['CAA5'].dropna()[1:].astype('float').values\n",
    "dMn_CAA6 = Mn_data['CAA6'].dropna()[1:].astype('float').values\n",
    "dMn_CAA7 = Mn_data['CAA7'].dropna()[1:].astype('float').values\n",
    "dMn_CAA8 = Mn_data['CAA8'].dropna()[1:].astype('float').values\n",
    "dMn_CAA9 = Mn_data['CAA9'].dropna()[1:].astype('float').values"
   ]
  },
  {
   "cell_type": "code",
   "execution_count": 9,
   "metadata": {},
   "outputs": [],
   "source": [
    "depth_BB1 = Mn_data['Depth.2'].dropna().values\n",
    "depth_BB2 = Mn_data['Depth.3'].dropna().values\n",
    "depth_BB3 = Mn_data['Depth.4'].dropna().values\n",
    "depth_CB1 = Mn_data['Depth.14'].dropna().values\n",
    "depth_CB2 = Mn_data['Depth.15'].dropna().values\n",
    "depth_CB3 = Mn_data['Depth.16'].dropna().values\n",
    "depth_CB4 = Mn_data['Depth.17'].dropna().values\n",
    "depth_CAA1 = Mn_data['Depth.5'].dropna().values\n",
    "depth_CAA2 = Mn_data['Depth.6'].dropna().values\n",
    "depth_CAA3 = Mn_data['Depth.7'].dropna().values\n",
    "depth_CAA4 = Mn_data['Depth.8'].dropna().values\n",
    "depth_CAA5 = Mn_data['Depth.9'].dropna().values\n",
    "depth_CAA6 = Mn_data['Depth.10'].dropna().values\n",
    "depth_CAA7 = Mn_data['Depth.11'].dropna().values\n",
    "depth_CAA8 = Mn_data['Depth.12'].dropna().values\n",
    "depth_CAA9 = Mn_data['Depth.13'].dropna().values"
   ]
  },
  {
   "cell_type": "code",
   "execution_count": 10,
   "metadata": {},
   "outputs": [],
   "source": [
    "Pb_data = pd.read_csv('/ocean/brogalla/GEOTRACES/data/Pb-paper-data.csv')\n",
    "stn_names = Pb_data['Station names'].astype('str').dropna()\n",
    "lons = Pb_data['station lon'].astype('float').dropna()\n",
    "lats = Pb_data['Station lat'].astype('float').dropna()"
   ]
  },
  {
   "cell_type": "markdown",
   "metadata": {},
   "source": [
    "# Find pairings"
   ]
  },
  {
   "cell_type": "code",
   "execution_count": 11,
   "metadata": {},
   "outputs": [],
   "source": [
    "station_lons = lons.values\n",
    "station_lats = lats.values\n",
    "station_name = stn_names.values"
   ]
  },
  {
   "cell_type": "code",
   "execution_count": 12,
   "metadata": {},
   "outputs": [],
   "source": [
    "# find coordinates near the lat/lon of the stations:\n",
    "station_is = np.array([])\n",
    "station_js = np.array([])\n",
    "for k in range(0,len(station_lons)):\n",
    "    i, j = find_closest_model_point(station_lons[k], station_lats[k], lon_model, lat_model)\n",
    "    station_is = np.append(station_is, i)\n",
    "    station_js = np.append(station_js, j)"
   ]
  },
  {
   "cell_type": "code",
   "execution_count": 13,
   "metadata": {},
   "outputs": [],
   "source": [
    "station_i = station_is[np.isnan(station_is)==False]\n",
    "station_j = station_js[np.isnan(station_js)==False]\n",
    "station_ns = station_name[0:len(station_is)]\n",
    "station_n = station_ns[np.isnan(station_is)==False]"
   ]
  },
  {
   "cell_type": "code",
   "execution_count": 14,
   "metadata": {},
   "outputs": [],
   "source": [
    "station_i = [int(i) for i in station_i]\n",
    "station_j = [int(j) for j in station_j]"
   ]
  },
  {
   "cell_type": "markdown",
   "metadata": {},
   "source": [
    "dMn_model:"
   ]
  },
  {
   "cell_type": "code",
   "execution_count": 15,
   "metadata": {},
   "outputs": [],
   "source": [
    "model_mn_dis = mn_dis[8,0,:,:,:]"
   ]
  },
  {
   "cell_type": "code",
   "execution_count": 16,
   "metadata": {},
   "outputs": [],
   "source": [
    "stn_model_dmn = model_mn_dis[:,station_i[0],station_j[0]]\n",
    "for i in range(1,len(station_i)):\n",
    "    stn_mdmn = model_mn_dis[:,station_i[i],station_j[i]]\n",
    "    stn_model_dmn = np.vstack((stn_mdmn, stn_model_dmn))"
   ]
  },
  {
   "cell_type": "markdown",
   "metadata": {},
   "source": [
    "Observations:"
   ]
  },
  {
   "cell_type": "code",
   "execution_count": 17,
   "metadata": {},
   "outputs": [],
   "source": [
    "def match_depth(depths_stn, depths_model=depths_model):\n",
    "    depth_k  = search_depth(depths_stn, depths_model)\n",
    "    \n",
    "    depths_return=np.array([])\n",
    "    # depths that I'm interested in for the RI & Willmott index:\n",
    "    for i in range(0, len(depth_k)):\n",
    "        if depth_k[i] > 0:\n",
    "            depths_return =np.append(depths_return, depth_k[i])\n",
    "            \n",
    "    depths_return  = [int(k) for k in depths_return]\n",
    "    return depths_return"
   ]
  },
  {
   "cell_type": "code",
   "execution_count": 18,
   "metadata": {},
   "outputs": [],
   "source": [
    "k_CAA1 = match_depth(depth_CAA1)\n",
    "k_CAA2 = match_depth(depth_CAA2)\n",
    "k_CAA3 = match_depth(depth_CAA3)\n",
    "k_CAA4 = match_depth(depth_CAA4)\n",
    "k_CAA5 = match_depth(depth_CAA5)\n",
    "k_CAA6 = match_depth(depth_CAA6)\n",
    "k_CAA7 = match_depth(depth_CAA7)\n",
    "k_CAA8 = match_depth(depth_CAA8)\n",
    "k_CAA9 = match_depth(depth_CAA9)\n",
    "\n",
    "k_CB1 = match_depth(depth_CB1)\n",
    "k_CB2 = match_depth(depth_CB2)\n",
    "k_CB3 = match_depth(depth_CB3)"
   ]
  },
  {
   "cell_type": "markdown",
   "metadata": {},
   "source": [
    "Match closest depths:"
   ]
  },
  {
   "cell_type": "code",
   "execution_count": 19,
   "metadata": {},
   "outputs": [],
   "source": [
    "model_depth_CAA1 = [depths_model[k] for k in k_CAA1]\n",
    "model_depth_CAA2 = [depths_model[k] for k in k_CAA2]\n",
    "model_depth_CAA3 = [depths_model[k] for k in k_CAA3]\n",
    "model_depth_CAA4 = [depths_model[k] for k in k_CAA4]\n",
    "model_depth_CAA5 = [depths_model[k] for k in k_CAA5]\n",
    "model_depth_CAA6 = [depths_model[k] for k in k_CAA6]\n",
    "model_depth_CAA7 = [depths_model[k] for k in k_CAA7]\n",
    "model_depth_CAA8 = [depths_model[k] for k in k_CAA8]\n",
    "model_depth_CAA9 = [depths_model[k] for k in k_CAA9]\n",
    "model_depth_CB1 = [depths_model[k] for k in k_CB1]\n",
    "model_depth_CB2 = [depths_model[k] for k in k_CB2]\n",
    "model_depth_CB3 = [depths_model[k] for k in k_CB3]"
   ]
  },
  {
   "cell_type": "code",
   "execution_count": 54,
   "metadata": {},
   "outputs": [],
   "source": [
    "model_dmn_CAA1 = np.array([stn_model_dmn[0,k]*10**9 for k in k_CAA1])\n",
    "model_dmn_CAA2 = np.array([stn_model_dmn[1,k]*10**9 for k in k_CAA2])\n",
    "model_dmn_CAA3 = np.array([stn_model_dmn[2,k]*10**9 for k in k_CAA3])\n",
    "model_dmn_CAA4 = np.array([stn_model_dmn[3,k]*10**9 for k in k_CAA4])\n",
    "model_dmn_CAA5 = np.array([stn_model_dmn[4,k]*10**9 for k in k_CAA5])\n",
    "model_dmn_CAA6 = np.array([stn_model_dmn[5,k]*10**9 for k in k_CAA6])\n",
    "model_dmn_CAA7 = np.array([stn_model_dmn[6,k]*10**9 for k in k_CAA7])\n",
    "model_dmn_CAA8 = np.array([stn_model_dmn[7,k]*10**9 for k in k_CAA8])\n",
    "model_dmn_CAA9 = np.array([stn_model_dmn[8,k]*10**9 for k in k_CAA9])\n",
    "model_dmn_CB1  = np.array([stn_model_dmn[9,k]*10**9 for k in k_CB1])\n",
    "model_dmn_CB2  = np.array([stn_model_dmn[10,k]*10**9 for k in k_CB2])\n",
    "model_dmn_CB3  = np.array([stn_model_dmn[11,k]*10**9 for k in k_CB3])"
   ]
  },
  {
   "cell_type": "markdown",
   "metadata": {},
   "source": [
    "# Model vs. Observation scatter plots"
   ]
  },
  {
   "cell_type": "code",
   "execution_count": 21,
   "metadata": {},
   "outputs": [],
   "source": [
    "station_colors = ['#1e6047', '#36ad80', '#6bd2db', '#0ea7b5', '#0c457d', '#836ca1', \\\n",
    "                  '#99cc19', '#d1e277', '#f5da5f', '#ffa550', '#ff760d', '#b03060']"
   ]
  },
  {
   "cell_type": "code",
   "execution_count": 137,
   "metadata": {},
   "outputs": [],
   "source": [
    "def willmott_score(Obs, Pred):\n",
    "    N = np.count_nonzero(~np.isnan(Obs))\n",
    "    \n",
    "    numerator   = np.nanmean([(Pred[i]-Obs[i])**2 for i in range(0,N-1)])\n",
    "    term1       = np.abs(Pred - np.nanmean(Pred))\n",
    "    term2       = np.abs(Obs - np.nanmean(Obs))\n",
    "    denominator = np.nanmean([(term1[i]+term2[i])**2 for i in range(0,N-1)])\n",
    "    deviation   = numerator / denominator\n",
    "    \n",
    "    willmott    = 1 - deviation\n",
    "#     print('Willmott skill score: ', willmott)\n",
    "        \n",
    "    return willmott, N"
   ]
  },
  {
   "cell_type": "code",
   "execution_count": 111,
   "metadata": {},
   "outputs": [],
   "source": [
    "def reliability_index(Obs, Pred):\n",
    "    # remove the element pairs containing a zero:\n",
    "    Obs  = Obs[Pred!=0]\n",
    "    Pred = Pred[Pred!=0]\n",
    "    \n",
    "    N = np.count_nonzero(~np.isnan(Obs))\n",
    "#     print('Number of points, N: ', N)\n",
    "    \n",
    "    ratio = [(np.log(Obs[i]/Pred[i]))**2 for i in range(0,N)]\n",
    "    sum_ratio = np.nansum(ratio)\n",
    "    sqrt_RI = np.sqrt(sum_ratio/N)\n",
    "    RI = np.exp(sqrt_RI)\n",
    "        \n",
    "#     print('Reliability index:   ', RI)\n",
    "    return RI"
   ]
  },
  {
   "cell_type": "code",
   "execution_count": 78,
   "metadata": {},
   "outputs": [],
   "source": [
    "def depth_range(min_d, max_d, dMn_CAA1=dMn_CAA1, dMn_CAA2=dMn_CAA2, dMn_CAA3=dMn_CAA3, dMn_CAA4=dMn_CAA4, \\\n",
    "                dMn_CAA5=dMn_CAA5, dMn_CAA6=dMn_CAA6, dMn_CAA7=dMn_CAA7, dMn_CAA8=dMn_CAA8, dMn_CAA9=dMn_CAA9, \\\n",
    "                dMn_CB1=dMn_CB1, dMn_CB2=dMn_CB2, dMn_CB3=dMn_CB3):\n",
    "    mn_obser_all = [dMn_CAA1[((depth_CAA1 > min_d) & (depth_CAA1 < max_d))], \\\n",
    "                    dMn_CAA2[((depth_CAA2 > min_d) & (depth_CAA2 < max_d))], \\\n",
    "                    dMn_CAA3[((depth_CAA3 > min_d) & (depth_CAA3 < max_d))], \\\n",
    "                    dMn_CAA4[((depth_CAA4 > min_d) & (depth_CAA4 < max_d))], \\\n",
    "                    dMn_CAA5[((depth_CAA5 > min_d) & (depth_CAA5 < max_d))], \\\n",
    "                    dMn_CAA6[((depth_CAA6 > min_d) & (depth_CAA6 < max_d))], \\\n",
    "                    dMn_CAA7[((depth_CAA7 > min_d) & (depth_CAA7 < max_d))], \\\n",
    "                    dMn_CAA8[((depth_CAA8 > min_d) & (depth_CAA8 < max_d))], \\\n",
    "                    dMn_CAA9[((depth_CAA9 > min_d) & (depth_CAA9 < max_d))], \\\n",
    "                    dMn_CB1[((depth_CB1 > min_d) & (depth_CB1 < max_d))], \\\n",
    "                    dMn_CB2[((depth_CB2 > min_d) & (depth_CB2 < max_d))], \\\n",
    "                    dMn_CB3[((depth_CB3 > min_d) & (depth_CB3 < max_d))]]\n",
    "    mn_model_all = [model_dmn_CAA1[((depth_CAA1 > min_d) & (depth_CAA1 < max_d))], \\\n",
    "                    model_dmn_CAA2[((depth_CAA2 > min_d) & (depth_CAA2 < max_d))], \\\n",
    "                    model_dmn_CAA3[((depth_CAA3 > min_d) & (depth_CAA3 < max_d))], \\\n",
    "                    model_dmn_CAA4[((depth_CAA4 > min_d) & (depth_CAA4 < max_d))], \\\n",
    "                    model_dmn_CAA5[((depth_CAA5 > min_d) & (depth_CAA5 < max_d))], \\\n",
    "                    model_dmn_CAA6[((depth_CAA6 > min_d) & (depth_CAA6 < max_d))], \\\n",
    "                    model_dmn_CAA7[((depth_CAA7 > min_d) & (depth_CAA7 < max_d))], \\\n",
    "                    model_dmn_CAA8[((depth_CAA8 > min_d) & (depth_CAA8 < max_d))], \\\n",
    "                    model_dmn_CAA9[((depth_CAA9 > min_d) & (depth_CAA9 < max_d))], \\\n",
    "                    model_dmn_CB1[((depth_CB1 > min_d) & (depth_CB1 < max_d))], \\\n",
    "                    model_dmn_CB2[((depth_CB2 > min_d) & (depth_CB2 < max_d))], \\\n",
    "                    model_dmn_CB3[((depth_CB3 > min_d) & (depth_CB3 < max_d))]]\n",
    "    return mn_obser_all, mn_model_all"
   ]
  },
  {
   "cell_type": "code",
   "execution_count": 152,
   "metadata": {},
   "outputs": [],
   "source": [
    "def scatter_plot(min_d, max_d, plot=True):\n",
    "    mn_obser_all, mn_model_all = depth_range(min_d, max_d)\n",
    "    if plot:\n",
    "        fig, ax = plt.subplots(1,1, figsize=(8,8))\n",
    "\n",
    "        # CAA:\n",
    "        ax.scatter(mn_obser_all[0], mn_model_all[0], label='CAA1', color=station_colors[0])\n",
    "        ax.scatter(mn_obser_all[1], mn_model_all[1], label='CAA2', color=station_colors[1])\n",
    "        ax.scatter(mn_obser_all[2], mn_model_all[2], label='CAA3', color=station_colors[2])\n",
    "        ax.scatter(mn_obser_all[3], mn_model_all[3], label='CAA4', color=station_colors[3])\n",
    "        ax.scatter(mn_obser_all[4], mn_model_all[4], label='CAA5', color=station_colors[4])\n",
    "        ax.scatter(mn_obser_all[5], mn_model_all[5], label='CAA6', color=station_colors[5])\n",
    "        ax.scatter(mn_obser_all[6], mn_model_all[6], label='CAA7', color=station_colors[6])\n",
    "        ax.scatter(mn_obser_all[7], mn_model_all[7], label='CAA8', color=station_colors[7])\n",
    "        ax.scatter(mn_obser_all[8], mn_model_all[8], label='CAA9', color=station_colors[8])\n",
    "\n",
    "        # CB:\n",
    "        ax.scatter(mn_obser_all[9], mn_model_all[9], label='CB1', color=station_colors[9])\n",
    "        ax.scatter(mn_obser_all[10], mn_model_all[10], label='CB2', color=station_colors[10])\n",
    "        ax.scatter(mn_obser_all[11], mn_model_all[11], label='CB3', color=station_colors[11])\n",
    "\n",
    "        #1:1 line\n",
    "        ax.plot([-0.5, 15], [-0.5, 15],'--k')\n",
    "        ax.set_xlim([-0.5,15])\n",
    "        ax.set_ylim([-0.5,15])\n",
    "        ax.set_xlabel('Observations [nM]', fontsize=14)\n",
    "        ax.set_ylabel('Model [nM]', fontsize=14)\n",
    "        ax.legend(loc=1, fontsize=12)\n",
    "        \n",
    "        # Skill scores\n",
    "        # combine all the observations and model points:\n",
    "        mn_observed = np.concatenate(mn_obser_all).ravel()\n",
    "        mn_modeled  = np.concatenate(mn_model_all).ravel()\n",
    "        WI, N = willmott_score(mn_observed, mn_modeled)\n",
    "        RI = reliability_index(mn_observed, mn_modeled)\n",
    "        ax.text(7,0.5,'Depth range: '+str(min_d)+' < z < '+str(max_d) + ' m', fontsize=14)\n",
    "        ax.text(7,0,'Willmott =  '+\"{:.2f}\".format(WI) +', RI = '+\"{:.2f}\".format(RI), fontsize=14)\n",
    "    else:\n",
    "        # Skill scores\n",
    "        # combine all the observations and model points:\n",
    "        mn_observed = np.concatenate(mn_obser_all).ravel()\n",
    "        mn_modeled  = np.concatenate(mn_model_all).ravel()\n",
    "        WI, N = willmott_score(mn_observed, mn_modeled)\n",
    "        RI = reliability_index(mn_observed, mn_modeled)\n",
    "    \n",
    "    return WI, RI, N"
   ]
  },
  {
   "cell_type": "code",
   "execution_count": 153,
   "metadata": {},
   "outputs": [],
   "source": [
    "WIs = np.zeros(5)\n",
    "RIs = np.zeros(5)\n",
    "Ns  = np.zeros(5)\n",
    "min_depths = np.zeros(5)\n",
    "max_depths = np.zeros(5)\n",
    "max_d = 0\n",
    "\n",
    "for i in range(0,5):\n",
    "    min_d = max_d\n",
    "    max_d = min_d+100\n",
    "    WIs[i], RIs[i], Ns[i] = scatter_plot(min_d, max_d, plot=False)\n",
    "    min_depths[i]  = min_d\n",
    "    max_depths[i]  = max_d"
   ]
  },
  {
   "cell_type": "code",
   "execution_count": 154,
   "metadata": {},
   "outputs": [
    {
     "name": "stdout",
     "output_type": "stream",
     "text": [
      "Minimum depth:    [  0. 100. 200. 300. 400.]\n",
      "Maximum depth:    [100. 200. 300. 400. 500.]\n",
      "Number of points: [58. 32. 12.  8.  7.]\n",
      "Willmott scores:  [0.62, 0.38, 0.42, 0.07, 0.2]\n"
     ]
    }
   ],
   "source": [
    "print('Minimum depth:   ', min_depths)\n",
    "print('Maximum depth:   ', max_depths)\n",
    "print('Number of points:', Ns)\n",
    "print('Willmott scores: ', [float(\"{:.2f}\".format(WI)) for WI in WIs])"
   ]
  },
  {
   "cell_type": "code",
   "execution_count": 159,
   "metadata": {},
   "outputs": [
    {
     "name": "stdout",
     "output_type": "stream",
     "text": [
      "WI:  0.7400435163641566 , RI:  2.333611299300366 , N:  137\n"
     ]
    },
    {
     "data": {
      "image/png": "[encoded data removed]",
      "text/plain": [
       "<Figure size 576x576 with 1 Axes>"
      ]
     },
     "metadata": {
      "needs_background": "light"
     },
     "output_type": "display_data"
    }
   ],
   "source": [
    "WI_all, RI_all, N_all = scatter_plot(0, 4000, plot=True)\n",
    "print('WI: ', WI_all, ', RI: ', RI_all, ', N: ', N_all)"
   ]
  },
  {
   "cell_type": "markdown",
   "metadata": {},
   "source": [
    "### Check to see whether interpolating the model points to the correct depth makes a difference:"
   ]
  },
  {
   "cell_type": "markdown",
   "metadata": {},
   "source": [
    "Interpolate "
   ]
  },
  {
   "cell_type": "code",
   "execution_count": null,
   "metadata": {},
   "outputs": [],
   "source": [
    "def match_depth(depths_stn, depths_model=depths_model):\n",
    "    depth_k  = search_depth(depths_stn, depths_model)\n",
    "    \n",
    "    depths_return=np.array([])\n",
    "    # depths that I'm interested in for the RI & Willmott index:\n",
    "    for i in range(0, len(depth_k)):\n",
    "        if depth_k[i] > 0:\n",
    "            depths_return =np.append(depths_return, depth_k[i])\n",
    "            \n",
    "    depths_return  = [int(k) for k in depths_return]\n",
    "    return depths_return"
   ]
  },
  {
   "cell_type": "code",
   "execution_count": 32,
   "metadata": {},
   "outputs": [
    {
     "data": {
      "text/plain": [
       "array([  9.7,  29.8,  44. ,  59.9,  80.5, 100.7, 121.2, 150.6, 201.3,\n",
       "       300.7, 402.4, 603.5])"
      ]
     },
     "execution_count": 32,
     "metadata": {},
     "output_type": "execute_result"
    }
   ],
   "source": [
    "depth_CAA1"
   ]
  },
  {
   "cell_type": "code",
   "execution_count": 33,
   "metadata": {},
   "outputs": [
    {
     "data": {
      "text/plain": [
       "array([4.9402538e-01, 1.5413754e+00, 2.6456685e+00, 3.8194947e+00,\n",
       "       5.0782237e+00, 6.4406142e+00, 7.9295602e+00, 9.5729971e+00,\n",
       "       1.1405003e+01, 1.3467138e+01, 1.5810073e+01, 1.8495560e+01,\n",
       "       2.1598816e+01, 2.5211409e+01, 2.9444729e+01, 3.4434155e+01,\n",
       "       4.0344051e+01, 4.7373688e+01, 5.5764290e+01, 6.5807274e+01,\n",
       "       7.7853851e+01, 9.2326073e+01, 1.0972928e+02, 1.3066599e+02,\n",
       "       1.5585072e+02, 1.8612556e+02, 2.2247517e+02, 2.6604025e+02,\n",
       "       3.1812744e+02, 3.8021301e+02, 4.5393774e+02, 5.4108893e+02,\n",
       "       6.4356683e+02, 7.6333307e+02, 9.0233929e+02, 1.0624397e+03,\n",
       "       1.2452911e+03, 1.4522510e+03, 1.6842844e+03, 1.9418934e+03,\n",
       "       2.2250779e+03, 2.5333362e+03, 2.8657026e+03, 3.2208203e+03,\n",
       "       3.5970320e+03, 3.9924839e+03, 4.4052241e+03, 4.8332905e+03,\n",
       "       5.2747842e+03, 5.7279165e+03], dtype=float32)"
      ]
     },
     "execution_count": 33,
     "metadata": {},
     "output_type": "execute_result"
    }
   ],
   "source": [
    "depths_model"
   ]
  },
  {
   "cell_type": "code",
   "execution_count": 34,
   "metadata": {},
   "outputs": [
    {
     "data": {
      "text/plain": [
       "(12, 50)"
      ]
     },
     "execution_count": 34,
     "metadata": {},
     "output_type": "execute_result"
    }
   ],
   "source": [
    "stn_model_dmn.shape"
   ]
  },
  {
   "cell_type": "code",
   "execution_count": 36,
   "metadata": {},
   "outputs": [],
   "source": [
    "from scipy import interpolate"
   ]
  },
  {
   "cell_type": "code",
   "execution_count": null,
   "metadata": {},
   "outputs": [],
   "source": [
    "for station in stations:\n",
    "    k_station     = match_depth(depth_station)\n",
    "    model_dmn_stn = stn_model_dmn[stn,k]*10**9\n",
    "    \n",
    "    # interpolate model points to observed depth points\n",
    ">>> x = np.arange(0, 10)\n",
    ">>> y = np.exp(-x/3.0)\n",
    ">>> f = interpolate.interp1d(x, y)\n",
    "    "
   ]
  },
  {
   "cell_type": "code",
   "execution_count": null,
   "metadata": {},
   "outputs": [],
   "source": [
    "dMn_CAA1[0,:]"
   ]
  },
  {
   "cell_type": "code",
   "execution_count": 56,
   "metadata": {},
   "outputs": [
    {
     "data": {
      "text/plain": [
       "(600, -20)"
      ]
     },
     "execution_count": 56,
     "metadata": {},
     "output_type": "execute_result"
    },
    {
     "data": {
      "image/png": "[encoded data removed]",
      "text/plain": [
       "<Figure size 432x288 with 1 Axes>"
      ]
     },
     "metadata": {
      "needs_background": "light"
     },
     "output_type": "display_data"
    }
   ],
   "source": [
    "plt.plot(dMn_CAA1, depth_CAA1, '.')\n",
    "plt.plot(model_dmn_CAA1 , model_depth_CAA1, '.')\n",
    "plt.gca().invert_yaxis()\n",
    "plt.ylim([600, -20])"
   ]
  },
  {
   "cell_type": "code",
   "execution_count": null,
   "metadata": {},
   "outputs": [],
   "source": []
  },
  {
   "cell_type": "code",
   "execution_count": null,
   "metadata": {},
   "outputs": [],
   "source": [
    "k_CAA1 = match_depth(depth_CAA1)\n",
    "k_CAA2 = match_depth(depth_CAA2)\n",
    "k_CAA3 = match_depth(depth_CAA3)\n",
    "k_CAA4 = match_depth(depth_CAA4)\n",
    "k_CAA5 = match_depth(depth_CAA5)\n",
    "k_CAA6 = match_depth(depth_CAA6)\n",
    "k_CAA7 = match_depth(depth_CAA7)\n",
    "k_CAA8 = match_depth(depth_CAA8)\n",
    "k_CAA9 = match_depth(depth_CAA9)\n",
    "\n",
    "k_CB1 = match_depth(depth_CB1)\n",
    "k_CB2 = match_depth(depth_CB2)\n",
    "k_CB3 = match_depth(depth_CB3)"
   ]
  },
  {
   "cell_type": "code",
   "execution_count": null,
   "metadata": {},
   "outputs": [],
   "source": []
  },
  {
   "cell_type": "code",
   "execution_count": null,
   "metadata": {},
   "outputs": [],
   "source": []
  },
  {
   "cell_type": "code",
   "execution_count": null,
   "metadata": {},
   "outputs": [],
   "source": [
    "model_depth_CAA1 = [depths_model[k] for k in k_CAA1]\n",
    "model_depth_CAA2 = [depths_model[k] for k in k_CAA2]\n",
    "model_depth_CAA3 = [depths_model[k] for k in k_CAA3]\n",
    "model_depth_CAA4 = [depths_model[k] for k in k_CAA4]\n",
    "model_depth_CAA5 = [depths_model[k] for k in k_CAA5]\n",
    "model_depth_CAA6 = [depths_model[k] for k in k_CAA6]\n",
    "model_depth_CAA7 = [depths_model[k] for k in k_CAA7]\n",
    "model_depth_CAA8 = [depths_model[k] for k in k_CAA8]\n",
    "model_depth_CAA9 = [depths_model[k] for k in k_CAA9]\n",
    "model_depth_CB1 = [depths_model[k] for k in k_CB1]\n",
    "model_depth_CB2 = [depths_model[k] for k in k_CB2]\n",
    "model_depth_CB3 = [depths_model[k] for k in k_CB3]"
   ]
  },
  {
   "cell_type": "code",
   "execution_count": null,
   "metadata": {},
   "outputs": [],
   "source": [
    "model_dmn_CAA1 = [stn_model_dmn[0,k]*10**9 for k in k_CAA1]\n",
    "model_dmn_CAA2 = [stn_model_dmn[1,k]*10**9 for k in k_CAA2]\n",
    "model_dmn_CAA3 = [stn_model_dmn[2,k]*10**9 for k in k_CAA3]\n",
    "model_dmn_CAA4 = [stn_model_dmn[3,k]*10**9 for k in k_CAA4]\n",
    "model_dmn_CAA5 = [stn_model_dmn[4,k]*10**9 for k in k_CAA5]\n",
    "model_dmn_CAA6 = [stn_model_dmn[5,k]*10**9 for k in k_CAA6]\n",
    "model_dmn_CAA7 = [stn_model_dmn[6,k]*10**9 for k in k_CAA7]\n",
    "model_dmn_CAA8 = [stn_model_dmn[7,k]*10**9 for k in k_CAA8]\n",
    "model_dmn_CAA9 = [stn_model_dmn[8,k]*10**9 for k in k_CAA9]\n",
    "model_dmn_CB1  = [stn_model_dmn[9,k]*10**9 for k in k_CB1]\n",
    "model_dmn_CB2  = [stn_model_dmn[10,k]*10**9 for k in k_CB2]\n",
    "model_dmn_CB3  = [stn_model_dmn[11,k]*10**9 for k in k_CB3]"
   ]
  },
  {
   "cell_type": "code",
   "execution_count": null,
   "metadata": {},
   "outputs": [],
   "source": []
  },
  {
   "cell_type": "markdown",
   "metadata": {},
   "source": [
    "# Assess the Reliability Index"
   ]
  },
  {
   "cell_type": "markdown",
   "metadata": {},
   "source": [
    "Reliability Index, RI (Leggett and Williams, 1981) --- “quantifies the average factor by which model predictions differ from observations” (Stow et al., 2009). It is in essence the root-mean-square deviation, but it uses the logarithm of the residual. This is useful when both large and small values need to be considered [Van Hulten et al., 2017].\n",
    "\n",
    "\\begin{equation}\n",
    "RI = exp \\sqrt{\\frac{1}{N} \\sum^N_{i=1}{\\bigg(log \\frac{O_i}{P_i}\\bigg)^2}}\n",
    "\\end{equation}\n",
    "\n",
    "where $O_i$ is the measured concentration with index i, $P_i$ is the model prediction associated to the respective observation i, and N is the number of observations."
   ]
  },
  {
   "cell_type": "markdown",
   "metadata": {},
   "source": [
    "Willmott skill score:\n",
    "\n",
    "\\begin{equation}\n",
    "IA = 1 - \\frac{\\big\\langle (P_i - O_i)^2 \\big\\rangle}{\\big\\langle (| P_i - \\langle P_i \\rangle | + | O_i - \\langle O_i \\rangle |)^2 \\big\\rangle}\n",
    "\\end{equation}"
   ]
  },
  {
   "cell_type": "markdown",
   "metadata": {},
   "source": [
    "All scores based on the monthly modeled Mn averaged for September (index 8):"
   ]
  },
  {
   "cell_type": "markdown",
   "metadata": {},
   "source": [
    "| Run       | RI   | Willmott | N    | Components not included |\n",
    "|-----------|------|----------|------|-------------------------|\n",
    "| mn_test1a | 2.15 |   0.72   | 128  |  Dust, ice, bio         |\n",
    "| mn_test1b | 2.17 |   0.76   | 128  |  Dust, bio              |\n",
    "| mn_test1c | 2.18 |   0.64   | 128  |  Scavenging, bio        |\n",
    "| mn_test1d | 2.16 |   0.75   | 128  |  Rivers, bio            |\n",
    "| mn_test1e | 2.15 |   0.76   | 128  |  Sediment diffusion, bio|\n",
    "| mn_test1f | 2.17 |   0.76   | 128  |  Bio                    |  "
   ]
  },
  {
   "cell_type": "markdown",
   "metadata": {},
   "source": [
    "Based on these numbers, it is clear that scavenging is an important component for accurately modeling the Mn concentrations. Ice is relatively more important than dust in improving the predictions. River influence at the station locations may not be that important for the comparison. mn_test1f or mn_test1e seems best so far. \n",
    "\n",
    "Components that don't really seem to make a significant difference are: sediment diffusion, dust, rivers(?). That mostly agrees with the testing/monthly_component_contribution findings."
   ]
  },
  {
   "cell_type": "markdown",
   "metadata": {},
   "source": [
    "A similar table, but for only the surface-intermediate water (top 330 m):"
   ]
  },
  {
   "cell_type": "markdown",
   "metadata": {},
   "source": [
    "| Run       | RI   | Willmott | N    | Components not included |\n",
    "|-----------|------|----------|------|-------------------------|\n",
    "| mn_test1a | 1.99 |   0.52   | 101  |  Dust, ice, bio         |\n",
    "| mn_test1b | 2.05 |   0.66   | 101  |  Dust, bio              |\n",
    "| mn_test1c | 2.03 |   0.30   | 101  |  Scavenging, bio        |\n",
    "| mn_test1d | 2.02 |   0.64   | 101  |  Rivers, bio            |\n",
    "| mn_test1e | 2.03 |   0.67   | 101  |  Sediment diffusion, bio|\n",
    "| mn_test1f | 2.05 |   0.66   | 101  |  Bio                    |  "
   ]
  },
  {
   "cell_type": "markdown",
   "metadata": {},
   "source": [
    "And for intermediate-deep waters (below 330 m):"
   ]
  },
  {
   "cell_type": "markdown",
   "metadata": {},
   "source": [
    "| Run       | RI   | Willmott | N    | Components not included |\n",
    "|-----------|------|----------|------|-------------------------|\n",
    "| mn_test1a | 5.69 |   0.15   | 15   |  Dust, ice, bio         |\n",
    "| mn_test1b | 5.69 |   0.15   | 15   |  Dust, bio              |\n",
    "| mn_test1c | 5.72 |   0.16   | 15   |  Scavenging, bio        |\n",
    "| mn_test1d | 5.69 |   0.15   | 15   |  Rivers, bio            |\n",
    "| mn_test1e | 5.58 |   0.13   | 15   |  Sediment diffusion, bio|\n",
    "| mn_test1f | 5.70 |   0.15   | 15   |  Bio                    |  "
   ]
  },
  {
   "cell_type": "markdown",
   "metadata": {},
   "source": [
    "# Other observations:"
   ]
  },
  {
   "cell_type": "markdown",
   "metadata": {},
   "source": [
    "#### Campbell and Yeats, 1982: http://citeseerx.ist.psu.edu/viewdoc/download?doi=10.1.1.896.6307&rep=rep1&type=pdf"
   ]
  },
  {
   "cell_type": "code",
   "execution_count": 7,
   "metadata": {},
   "outputs": [],
   "source": [
    "lat_1982 = [66.7567, 66.7483, 72.235, 74.333, 74.1783, 76.35167, 76.393, 78.32, 78.315, 66.7583]\n",
    "lon_1982 = [-57.095, -60.25167, -65.9483, -94.263, -94.2433, -89.43, -89.305, -74.7167, \\\n",
    "           -74.2667, -57.0617]\n",
    "\n",
    "# total manganese, not specifically dissolved:\n",
    "tMn_1982_stn1  = [0.26, 0.10, 0.05, 0.06]\n",
    "tMn_1982_stn2  = [0.10, 0.12, 0.20, 0.17, 0.22, 0.20]\n",
    "tMn_1982_stn3  = [0.38, 0.33, 0.27, 0.34, 0.25, 0.23, 0.24, 0.27, 0.28, 0.21, 0.24, 0.16, \\\n",
    "                  0.21, 0.27, 0.17, 0.13, 0.15, 0.24, 0.11]\n",
    "dMn_1982_stn3  = [0.20, 0.24, np.NaN, 0.29, 0.20, 0.17, 0.17, 0.19, 0.20, 0.16, 0.22, 0.08, \\\n",
    "                  0.14, 0.11, 0.10, 0.06, 0.13, 0.09, 0.09]\n",
    "tMn_1982_stn4  = [0.30, 0.27, 0.23, 0.28, 0.38]\n",
    "tMn_1982_stn5  = [0.31, 0.29, 0.33, 0.29, 0.33]\n",
    "tMn_1982_stn6  = [0.56, 0.36, 0.22]\n",
    "tMn_1982_stn7  = [0.40, 0.38, 0.32]\n",
    "tMn_1982_stn8  = [0.19, 0.15, 0.17, 0.16, 0.14, 0.21, 0.16]\n",
    "tMn_1982_stn9  = [0.32, 0.33, 0.19, 0.13, 0.12, 0.17, 0.18, 0.19]\n",
    "tMn_1982_stn10 = [0.14, 0.15, 0.14, 0.13, 0.13, 0.10, 0.11, 0.12, 0.12, 0.13]\n",
    "\n",
    "depths_1982_stn1  = [10, 75, 250, 400]\n",
    "depths_1982_stn2  = [12, 20, 50, 110, 250, 505]\n",
    "depths_1982_stn3  = [1, 5, 10, 20, 30, 50, 75, 100, 150, 200, 250, 500, 800, 1000, 1200, 1500, 1750, 2000, 2300]\n",
    "depths_1982_stn4  = [10, 20, 50, 100, 150]\n",
    "depths_1982_stn5  = [10, 20, 50, 100, 140]\n",
    "depths_1982_stn6  = [10, 25, 75]\n",
    "depths_1982_stn7  = [9, 20, 75]\n",
    "depths_1982_stn8  = [15, 25, 50, 100, 200, 300, 400]\n",
    "depths_1982_stn9  = [10, 20, 50, 100, 210, 305, 405, 500]\n",
    "depths_1982_stn10 = [50, 100, 150, 200, 250, 300, 350, 400, 450, 500]"
   ]
  },
  {
   "cell_type": "markdown",
   "metadata": {},
   "source": [
    "#### Cid et al., 2012: https://link.springer.com/content/pdf/10.1007%2Fs10872-012-0150-8.pdf\n",
    "\n",
    "Stations don't really fall within my sub-domain, so probably won't use."
   ]
  },
  {
   "cell_type": "markdown",
   "metadata": {},
   "source": [
    "#### Yeats and Westerlund, 1991: https://ac.els-cdn.com/0304420391900714/1-s2.0-0304420391900714-main.pdf?_tid=12ba389d-4f68-4967-bad0-2103cfe975e1&acdnat=1552929800_480578b2e506b2c3c50d3c44ef66221e\n",
    "\n",
    "Samples collected in June, 1985 at a land-fast ice island."
   ]
  },
  {
   "cell_type": "code",
   "execution_count": 8,
   "metadata": {},
   "outputs": [],
   "source": [
    "lat_1991   = [81.723]\n",
    "lon_1991   = [-93.4167]\n",
    "depth_1991 = [60, 80, 80, 90, 100, 100, 110, 120, 150, 200, 270, 280]\n",
    "dMn_1991   = [2.11, 1.35, 1.33, 1.22, 1.18, 1.89, 1.36, 1.27, 0.55, 0.62, 1.58, 0.51] #unfiltered"
   ]
  },
  {
   "cell_type": "markdown",
   "metadata": {},
   "source": [
    "#### Yeats, 1988: https://archimer.ifremer.fr/doc/00106/21767/19341.pdf\n",
    "\n",
    "stations drifted for ~80 km between first and last measurement. Samples collected in 1981 and 1983, not sure which month. Stn 1 is out of domain, so only look at station 2."
   ]
  },
  {
   "cell_type": "code",
   "execution_count": 9,
   "metadata": {},
   "outputs": [],
   "source": [
    "lat_1988        = [86]   #[82, 86]\n",
    "lon_1988        = [-111] #[6, -111]\n",
    "#dMn_1988_stn1   = [6.5, 3.9, 4.9, 4.1, 3.6, 5.2, 4.0, 4.9, 3.0, 2.9, 2.5, 3.3, 1.8, 3.4, 3.0, 6.3, 5.2, 2.8]\n",
    "dMn_1988_stn2   = [2.2, 1.6, 2.2, 1.1, 0.7, 1.3, 0.5, 0.5, 0.2, 0.6, 0.2, 0.4, 0.45, 0.5, 0.8, 0.4, 0.3, 0.3]\n",
    "#depth_1988_stn1 = [5, 10, 20, 35, 50, 75, 85, 90, 100, 175, 225, 300, 500, 775, 1000, 1800, 2000, 2500]\n",
    "depth_1988_stn2 = [5, 10, 50, 80, 100, 150, 220, 250, 280, 350, 380, 410, 600, 800, 1000, 1250, 1350, 1375]"
   ]
  },
  {
   "cell_type": "markdown",
   "metadata": {},
   "source": [
    "#### USGS Arctic Ocean Carbon Cruise 2012: https://pubs.usgs.gov/ds/0862/html/ds862_maps.html\n",
    "in folder: /Research/Data/BCs. I'm unclear about at what depths these measurements were taken."
   ]
  },
  {
   "cell_type": "code",
   "execution_count": 10,
   "metadata": {},
   "outputs": [],
   "source": [
    "data = pd.read_csv(\"/ocean/brogalla/GEOTRACES/data/HLY1202_Metals_Profile.csv\") "
   ]
  },
  {
   "cell_type": "code",
   "execution_count": 11,
   "metadata": {},
   "outputs": [],
   "source": [
    "lat_2012 = np.array(data.get('Latitude_(Decimal_Degrees)'))\n",
    "lon_2012 = np.array(data.get('Longitude_(Decimal_Degrees)'))\n",
    "dMn_2012 = np.array(data.get('Mn_ug/L'))"
   ]
  },
  {
   "cell_type": "markdown",
   "metadata": {},
   "source": [
    "Station locations:"
   ]
  },
  {
   "cell_type": "code",
   "execution_count": 12,
   "metadata": {},
   "outputs": [
    {
     "data": {
      "text/plain": [
       "<matplotlib.legend.Legend at 0x7f9ce5a98f98>"
      ]
     },
     "execution_count": 12,
     "metadata": {},
     "output_type": "execute_result"
    },
    {
     "data": {
      "image/png": "[encoded data removed]",
      "text/plain": [
       "<Figure size 936x576 with 1 Axes>"
      ]
     },
     "metadata": {},
     "output_type": "display_data"
    }
   ],
   "source": [
    "fig,ax = plt.subplots(figsize=(13,8))\n",
    "\n",
    "proj=Basemap(projection='stere',lat_0 = 77.5, lon_0 = -85, resolution='i', width=4.1e6, height=2.3e6)\n",
    "proj.drawparallels(np.arange(int(59),int(90),2),labels=[1,0,0,0], linewidth=0.0, fontsize=14)\n",
    "proj.drawmeridians(np.arange(int(-140),int(-30),10),labels=[0,0,0,1], linewidth=0.0, fontsize=14)\n",
    "proj.drawlsmask(land_color = \"#8b7765\", ocean_color=\"none\", resolution = 'l')\n",
    "\n",
    "x_1982, y_1982 = proj(lon_1982, lat_1982)\n",
    "x_1991, y_1991 = proj(lon_1991, lat_1991)\n",
    "x_1988, y_1988 = proj(lon_1988, lat_1988)\n",
    "x_2012, y_2012 = proj(lon_2012, lat_2012)\n",
    "proj.scatter(x_1982, y_1982, color='r', marker='*',s=300,zorder=3, edgecolor='k', label='Campbell and Yeats, 1982')  \n",
    "proj.scatter(x_1991, y_1991, color='c', marker='*',s=300,zorder=3, edgecolor='k', label='Yeats and Westerlund, 1991')  \n",
    "proj.scatter(x_1988, y_1988, color='k', marker='*',s=300,zorder=3, edgecolor='k', label='Yeats, 1988')  \n",
    "proj.scatter(x_2012, y_2012, color='b', marker='*',s=300,zorder=3, edgecolor='k', label='HLY1202')  \n",
    "ax.legend(loc=1)"
   ]
  },
  {
   "cell_type": "markdown",
   "metadata": {},
   "source": [
    "## Compare Campbell & Yeats, 1982 with GEOTRACES stations\n",
    "\n",
    "Units Campbell & Yeats: micro gram/L\n",
    "\n",
    "\\begin{equation}\n",
    " \\frac{g}{L} = 54.9380450 \\frac{g}{mol} \\frac{mol}{L} = M\n",
    "\\end{equation}"
   ]
  },
  {
   "cell_type": "code",
   "execution_count": null,
   "metadata": {},
   "outputs": [],
   "source": [
    "colors_g = ['#00b3b3', '#82e1b3', '#eccaab']\n",
    "colors_1982 = ['#4076a9', '#003865']"
   ]
  },
  {
   "cell_type": "code",
   "execution_count": null,
   "metadata": {},
   "outputs": [],
   "source": [
    "fig, ax = plt.subplots(1,2,figsize=(13,8))\n",
    "\n",
    "ax[0].invert_yaxis()\n",
    "\n",
    "j=0\n",
    "for i in [6, 7, 4]:\n",
    "    dMn   = transect_dMn[:,i]\n",
    "    depth = transect_depths[:,i]\n",
    "    ax[0].plot(dMn, depth, c=colors_g[j], zorder=1, label=transect_names[i])\n",
    "    ax[0].scatter(dMn, depth, c=colors_g[j], zorder=2, edgecolor='k')\n",
    "    j+=1\n",
    "\n",
    "umn = 54.9380450 #molar weight Mn\n",
    "ax[0].plot([i*10**3/umn for i in tMn_1982_stn4], depths_1982_stn4, zorder=3, \\\n",
    "           label='Stn 4', c=colors_1982[0], linewidth=2.5)\n",
    "ax[0].scatter([i*10**3/umn for i in tMn_1982_stn4], depths_1982_stn4, zorder=4, \\\n",
    "              c=colors_1982[0], edgecolor='k')\n",
    "ax[0].plot([i*10**3/umn for i in tMn_1982_stn5], depths_1982_stn5, zorder=3, \\\n",
    "           label='Stn 5', c=colors_1982[1], linewidth=2.5)    \n",
    "ax[0].scatter([i*10**3/umn for i in tMn_1982_stn5], depths_1982_stn5, zorder=4, \\\n",
    "              c=colors_1982[1], edgecolor='k')    \n",
    "\n",
    "ax[0].set_xlabel('Dissolved Mn [nM]')\n",
    "ax[0].set_ylabel('Depth [m]')\n",
    "ax[0].xaxis.tick_top()    \n",
    "ax[0].xaxis.set_label_position('top') \n",
    "ax[0].legend(loc=4)\n",
    "\n",
    "# map:\n",
    "proj=Basemap(projection='stere',lat_0 = 75, lon_0 = -90, resolution='i', width=1.1e6, height=1e6, ax=ax[1])\n",
    "proj.drawlsmask(land_color = \"#8b7765\", ocean_color=\"none\", resolution = 'h')\n",
    "proj.drawcoastlines()\n",
    "\n",
    "x_GEOTRACES, y_GEOTRACES = proj(transect_lons, transect_lats)\n",
    "proj.scatter(x_GEOTRACES[6], y_GEOTRACES[6], color=colors_g[0], marker='*',s=300,zorder=3, edgecolor='k', \\\n",
    "            label='CAA4')  \n",
    "proj.scatter(x_GEOTRACES[7], y_GEOTRACES[7], color=colors_g[1], marker='*',s=300,zorder=3, edgecolor='k', \\\n",
    "            label='CAA5')  \n",
    "proj.scatter(x_GEOTRACES[4], y_GEOTRACES[4], color=colors_g[2], marker='*',s=300,zorder=3, edgecolor='k', \\\n",
    "            label='CAA6')  \n",
    "\n",
    "x_1982, y_1982 = proj(lon_1982, lat_1982)\n",
    "proj.scatter(x_1982[3], y_1982[3], color=colors_1982[0], marker='*',s=300,zorder=3, edgecolor='k', \\\n",
    "             label='Campbell & Yeats 1982, Stn 4')  \n",
    "proj.scatter(x_1982[4], y_1982[4], color=colors_1982[1], marker='*',s=300,zorder=2, edgecolor='k', \\\n",
    "             label='Campbell & Yeats 1982, Stn 5')  \n",
    "ax[1].legend(framealpha=1)"
   ]
  },
  {
   "cell_type": "code",
   "execution_count": null,
   "metadata": {},
   "outputs": [],
   "source": [
    "fig, ax = plt.subplots(1,2,figsize=(13,8))\n",
    "\n",
    "ax[0].invert_yaxis()\n",
    "\n",
    "j=0\n",
    "for i in [6, 7, 4]:#range(4, 8):\n",
    "    dMn   = transect_dMn[:,i]\n",
    "    depth = transect_depths[:,i]\n",
    "    #if i != 5:\n",
    "    ax[0].plot(dMn, depth, c=colors_g[j], zorder=2, label=transect_names[i], linewidth=4)\n",
    "    ax[0].scatter(dMn, depth, c=colors_g[j], zorder=3, edgecolor='k')\n",
    "    j+=1  \n",
    "\n",
    "# add in model profiles at these points:\n",
    "model_CAA4i, model_CAA4j = find_index_ANHA12_sub(transect_lons[6], transect_lats[6])\n",
    "model_CAA5i, model_CAA5j = find_index_ANHA12_sub(transect_lons[7], transect_lats[7])\n",
    "model_CAA6i, model_CAA6j = find_index_ANHA12_sub(transect_lons[4], transect_lats[4])\n",
    "mn_mCAA4 = mn_dis[10,0,:,model_CAA4i,model_CAA4j]*10**9\n",
    "mn_mCAA4[mn_mCAA4 == 0] = np.nan\n",
    "mn_mCAA5 = mn_dis[10,0,:,model_CAA5i,model_CAA5j]*10**9\n",
    "mn_mCAA5[mn_mCAA5 == 0] = np.nan\n",
    "mn_mCAA6 = mn_dis[10,0,:,model_CAA6i,model_CAA6j]*10**9\n",
    "mn_mCAA6[mn_mCAA6 == 0] = np.nan\n",
    "ax[0].plot(mn_mCAA4, depths_model, zorder=1, linestyle='--', label='Model CAA4', c=colors_g[0], linewidth=2.5)    \n",
    "ax[0].plot(mn_mCAA5, depths_model, zorder=1, linestyle='--', label='Model CAA5', c=colors_g[1], linewidth=2.5)      \n",
    "ax[0].plot(mn_mCAA6, depths_model, zorder=1, linestyle='--', label='Model CAA6', c=colors_g[2], linewidth=2.5)      \n",
    "    \n",
    "ax[0].set_xlabel('Dissolved Mn [nM]')\n",
    "ax[0].set_ylabel('Depth [m]')\n",
    "ax[0].set_ylim([250, 0])\n",
    "ax[0].xaxis.tick_top()    \n",
    "ax[0].xaxis.set_label_position('top') \n",
    "ax[0].legend(loc=4)\n",
    "\n",
    "# map:\n",
    "proj=Basemap(projection='stere',lat_0 = 75, lon_0 = -90, resolution='i', width=1.1e6, height=1e6, ax=ax[1])\n",
    "proj.drawlsmask(land_color = \"#8b7765\", ocean_color=\"none\", resolution = 'h')\n",
    "proj.drawcoastlines()\n",
    "\n",
    "x_GEOTRACES, y_GEOTRACES = proj(transect_lons, transect_lats)\n",
    "proj.scatter(x_GEOTRACES[6], y_GEOTRACES[6], color=colors_g[0], marker='*',s=300,zorder=3, edgecolor='k', \\\n",
    "            label='CAA4')  \n",
    "proj.scatter(x_GEOTRACES[7], y_GEOTRACES[7], color=colors_g[1], marker='*',s=300,zorder=3, edgecolor='k', \\\n",
    "            label='CAA5')  \n",
    "proj.scatter(x_GEOTRACES[4], y_GEOTRACES[4], color=colors_g[2], marker='*',s=300,zorder=3, edgecolor='k', \\\n",
    "            label='CAA6')  \n",
    "ax[1].legend(framealpha=1)"
   ]
  }
 ],
 "metadata": {
  "kernelspec": {
   "display_name": "Python 3",
   "language": "python",
   "name": "python3"
  },
  "language_info": {
   "codemirror_mode": {
    "name": "ipython",
    "version": 3
   },
   "file_extension": ".py",
   "mimetype": "text/x-python",
   "name": "python",
   "nbconvert_exporter": "python",
   "pygments_lexer": "ipython3",
   "version": "3.7.3"
  }
 },
 "nbformat": 4,
 "nbformat_minor": 2
}
