{
 "cells": [
  {
   "cell_type": "markdown",
   "metadata": {},
   "source": [
    "# RQ 1: rivers\n",
    "\n",
    "What is the spatial extent of influence of the river contribution to surface waters in the CAA?\n",
    "- Does the RCD span full straits in the CAA? If so, which and during all seasons or only for a portion of the year?\n",
    "- How long does it take for river contributions in the central CAA to reach Baffin Bay?"
   ]
  },
  {
   "cell_type": "markdown",
   "metadata": {},
   "source": [
    "Relative importance of rivers for trace metal cycles; general component comparison (how important are the rivers for Mn)"
   ]
  },
  {
   "cell_type": "code",
   "execution_count": null,
   "metadata": {},
   "outputs": [],
   "source": [
    "import pickle\n",
    "import numpy as np\n",
    "import matplotlib.pyplot as plt\n",
    "import matplotlib\n",
    "from mpl_toolkits.basemap import Basemap, cm\n",
    "import cmocean\n",
    "import netCDF4 as nc\n",
    "import os\n",
    "from itertools import compress\n",
    "import datetime as dt\n",
    "\n",
    "%matplotlib notebook"
   ]
  },
  {
   "cell_type": "code",
   "execution_count": null,
   "metadata": {},
   "outputs": [],
   "source": [
    "import sys\n",
    "sys.path.insert(0, '/ocean/brogalla/GEOTRACES/analysis-brogalla/modules')\n",
    "import ariane as ar"
   ]
  },
  {
   "cell_type": "markdown",
   "metadata": {},
   "source": [
    "##### Load domain dimensions for reference:"
   ]
  },
  {
   "cell_type": "code",
   "execution_count": 3,
   "metadata": {},
   "outputs": [],
   "source": [
    "mask  = nc.Dataset('/ocean/brogalla/GEOTRACES/ariane_runs/ANHA12_Ariane_mesh.nc')\n",
    "tmask = np.array(mask.variables['tmask'])\n",
    "cond = (tmask[0,:,:,:] > 0.1) \n",
    "land_mask = np.ma.masked_where(cond, tmask[0,:,:,:]) \n",
    "tmask = tmask[0,:,1480:2050,160:800]"
   ]
  },
  {
   "cell_type": "code",
   "execution_count": 4,
   "metadata": {},
   "outputs": [],
   "source": [
    "ref   = nc.Dataset('/data/brogalla/ANHA12/2015/ANHA12-EXH006_y2015m01d05_gridT.nc',  'r')\n",
    "tlons = np.array(ref.variables['nav_lon'])\n",
    "tlats = np.array(ref.variables['nav_lat'])\n",
    "lons  = np.array(ref.variables['nav_lon'])[1480:2050,160:800]\n",
    "lats  = np.array(ref.variables['nav_lat'])[1480:2050,160:800]\n",
    "depth = np.array(ref.variables['deptht'])"
   ]
  },
  {
   "cell_type": "markdown",
   "metadata": {},
   "source": [
    "### Load Mn model run results:"
   ]
  },
  {
   "cell_type": "code",
   "execution_count": null,
   "metadata": {},
   "outputs": [],
   "source": [
    "def load_results(folder_ref, folder_riv, folder_sed, folder_bio, folder_atm, folder_ice, folder_scav):\n",
    "    \n",
    "    file   = 'ANHA12_EXH006_2002_monthly.nc'\n",
    "    ref_monthly  = nc.Dataset(folder_ref+file)\n",
    "    riv_monthly  = nc.Dataset(folder_riv+file)\n",
    "    sed_monthly  = nc.Dataset(folder_sed+file)\n",
    "    bio_monthly  = nc.Dataset(folder_bio+file)\n",
    "    atm_monthly  = nc.Dataset(folder_atm+file)\n",
    "    ice_monthly  = nc.Dataset(folder_ice+file)\n",
    "    scav_monthly = nc.Dataset(folder_scav+file)\n",
    "    \n",
    "    dmn_ref_monthly  = np.array(ref_monthly.variables['dissolmn'])[:,0,:,:,:]\n",
    "    dmn_riv_monthly  = np.array(riv_monthly.variables['dissolmn'])[:,0,:,:,:]\n",
    "    dmn_sed_monthly  = np.array(sed_monthly.variables['dissolmn'])[:,0,:,:,:]\n",
    "    dmn_bio_monthly  = np.array(bio_monthly.variables['dissolmn'])[:,0,:,:,:]\n",
    "    dmn_atm_monthly  = np.array(atm_monthly.variables['dissolmn'])[:,0,:,:,:]\n",
    "    dmn_ice_monthly  = np.array(ice_monthly.variables['dissolmn'])[:,0,:,:,:]\n",
    "    dmn_scav_monthly = np.array(scav_monthly.variables['dissolmn'])[:,0,:,:,:]\n",
    "    \n",
    "    tmask_full    = np.empty(dmn_ref_monthly.shape)\n",
    "    tmask_full[:] = tmask\n",
    "    \n",
    "    dmn_mref  = np.ma.masked_where((tmask_full < 0.1), dmn_ref_monthly)\n",
    "    dmn_mriv  = np.ma.masked_where((tmask_full < 0.1), dmn_riv_monthly)\n",
    "    dmn_msed  = np.ma.masked_where((tmask_full < 0.1), dmn_sed_monthly)\n",
    "    dmn_mbio  = np.ma.masked_where((tmask_full < 0.1), dmn_bio_monthly)\n",
    "    dmn_matm  = np.ma.masked_where((tmask_full < 0.1), dmn_atm_monthly)\n",
    "    dmn_mice  = np.ma.masked_where((tmask_full < 0.1), dmn_ice_monthly)\n",
    "    dmn_mscav = np.ma.masked_where((tmask_full < 0.1), dmn_scav_monthly)\n",
    "\n",
    "    return dmn_mref, dmn_mriv, dmn_msed, dmn_mbio, dmn_matm, dmn_mice, dmn_mscav"
   ]
  },
  {
   "cell_type": "code",
   "execution_count": 5,
   "metadata": {},
   "outputs": [],
   "source": [
    "folder_ref  = '/data/brogalla/run_storage/'\n",
    "folder_riv  = '/data/brogalla/run_storage/'\n",
    "folder_sed  = '/data/brogalla/run_storage/'\n",
    "folder_bio  = '/data/brogalla/run_storage/'\n",
    "folder_atm  = '/data/brogalla/run_storage/'\n",
    "folder_ice  = '/data/brogalla/run_storage/'\n",
    "folder_scav = '/data/brogalla/run_storage/'"
   ]
  },
  {
   "cell_type": "code",
   "execution_count": null,
   "metadata": {},
   "outputs": [],
   "source": [
    "dmn_mref, dmn_mriv, dmn_msed, dmn_mbio, dmn_matm, dmn_mice, dmn_mscav = \\\n",
    "        load_results(folder_ref, folder_riv, folder_sed, folder_bio, folder_atm, folder_ice, folder_scav)"
   ]
  },
  {
   "cell_type": "code",
   "execution_count": null,
   "metadata": {},
   "outputs": [],
   "source": []
  },
  {
   "cell_type": "markdown",
   "metadata": {},
   "source": [
    "Calculate the proportional contribution of each component to each grid cell:"
   ]
  },
  {
   "cell_type": "code",
   "execution_count": 12,
   "metadata": {},
   "outputs": [],
   "source": [
    "def calculate_prop(dmn_on, dmn_off):\n",
    "    # Input arguments:\n",
    "    # - dmn_on (t,z,y,x) --- concentration of dMn with component on\n",
    "    # - dmn_off(t,z,y,x) --- concentration of dMn with component off\n",
    "    \n",
    "    # Contribution of component at each point\n",
    "    diff = dmn_on - dmn_off\n",
    "    \n",
    "    # Contribution of rivers / total concentration (with rivers on):\n",
    "    # should be an elementwise operation\n",
    "    prop  = np.divide(np.abs(diff), dmn_on)\n",
    "    \n",
    "    # Output:\n",
    "    # - prop(t,z,y,x)  --- proportional contribution of component to simulated [dMn]\n",
    "    return prop"
   ]
  },
  {
   "cell_type": "code",
   "execution_count": null,
   "metadata": {},
   "outputs": [],
   "source": [
    "def all_props(ref, riv, sed, bio, atm, ice, scav):\n",
    "    \n",
    "    riv_prop  = calculate_prop(ref, riv)\n",
    "    sed_prop  = calculate_prop(ref, sed)\n",
    "    bio_prop  = calculate_prop(ref, bio)\n",
    "    atm_prop  = calculate_prop(ref, atm)\n",
    "    ice_prop  = calculate_prop(ref, ice)\n",
    "    scav_prop = calculate_prop(ref, scav)\n",
    "    \n",
    "    return riv_prop, sed_prop, bio_prop, atm_prop, ice_prop, scav_prop"
   ]
  },
  {
   "cell_type": "code",
   "execution_count": null,
   "metadata": {},
   "outputs": [],
   "source": [
    "riv_prop, sed_prop, bio_prop, atm_prop, ice_prop, scav_prop = \\\n",
    "    all_props(dmn_mref, dmn_mriv, dmn_msed, dmn_mbio, dmn_matm, dmn_mice, dmn_mscav)"
   ]
  },
  {
   "cell_type": "markdown",
   "metadata": {},
   "source": [
    "### Bar plots"
   ]
  },
  {
   "cell_type": "code",
   "execution_count": null,
   "metadata": {},
   "outputs": [],
   "source": [
    "width = 0.5\n",
    "\n",
    "colors = ['#ccb598', '#007378', '#739f78', '#cc7722', '#cee7fd'] # dust, rivers, scavenging, sediment diffusion\n",
    "\n",
    "months = ['Jan','Feb', 'Mar', 'Apr', 'May', 'June', 'July', 'Aug', 'Sept', 'Oct', 'Nov', 'Dec']"
   ]
  },
  {
   "cell_type": "code",
   "execution_count": null,
   "metadata": {},
   "outputs": [],
   "source": [
    "fig, ax = plt.subplots()\n",
    "\n",
    "for i in range(0,11):\n",
    "    ax.bar(months[i], dust_sum_ave[i], width, color=colors[0])\n",
    "    ax.bar(months[i], rivers_sum_ave[i], width, bottom=dust_sum_ave[i], color=colors[1])\n",
    "    ax.bar(months[i], scav_sum_ave[i], width, bottom=np.add(dust_sum_ave[i],rivers_sum_ave[i]), color=colors[2])\n",
    "    ax.bar(months[i], sed_sum_ave[i], width, bottom=np.add(np.add(dust_sum_ave[i], rivers_sum_ave[i]),scav_sum_ave[i]), color=colors[3])\n",
    "    ax.bar(months[i], ice_sum_ave[i], width, bottom=np.add(np.add(np.add(dust_sum_ave[i], rivers_sum_ave[i]), \\\n",
    "                                                           scav_sum_ave[i]),sed_sum_ave[i]), color=colors[4])\n",
    "# for legend:\n",
    "ax.bar(months[0], dust_sum_ave[0]  , 0, color=colors[0], label='Dust')\n",
    "ax.bar(months[0], rivers_sum_ave[0], 0, color=colors[1], label='Rivers')\n",
    "ax.bar(months[0], scav_sum_ave[0]  , 0, color=colors[2], label='Scavenging')\n",
    "ax.bar(months[0], sed_sum_ave[0]   , 0, color=colors[3], label='Sediment diffusion')\n",
    "ax.bar(months[0], ice_sum_ave[0]   , 0, color=colors[4], label='Ice')\n",
    "ax.legend(frameon=False)\n",
    "    \n",
    "xmin, xmax = ax.get_xlim()\n",
    "ax.set_xlim([xmin, xmax])\n",
    "ax.plot([xmin, xmax],[0, 0],'-k',linewidth=1)\n",
    "ax.ticklabel_format(axis='y',scilimits=(-1, 1))\n",
    "\n",
    "ax.set_title('Average contribution to Mn concentration')"
   ]
  },
  {
   "cell_type": "code",
   "execution_count": null,
   "metadata": {},
   "outputs": [],
   "source": []
  },
  {
   "cell_type": "code",
   "execution_count": null,
   "metadata": {},
   "outputs": [],
   "source": []
  },
  {
   "cell_type": "markdown",
   "metadata": {},
   "source": [
    "### Overview of component contributions within water masses: \n",
    "\n",
    "- Polar mixed layer (0-40 m)\n",
    "    - PML depth levels = 1 to 17\n",
    "- Pacific/halocline water (40-300 m)\n",
    "    - PW depth levels = 17 to 29\n",
    "- Atlantic water (300-800 m)\n",
    "    - AW depth levels = 29 to 35\n",
    "- Deep water (> 800 m)\n",
    "    - DW depth levels = 35-50\n",
    "    \n",
    "Note that if a component has a negative contribution (i.e. removal), I take the absolute value of this contribution. So, what I'm really looking at is the importance of the component in the concentration/distribution of the trace metal."
   ]
  },
  {
   "cell_type": "code",
   "execution_count": null,
   "metadata": {},
   "outputs": [],
   "source": [
    "fig, ax = plt.subplots(2,2, figsize=(11,8))\n",
    "proportions_bar(fig, ax[0,0], PML_ice_sum_ave, PML_dust_sum_ave, PML_rivers_sum_ave, \\\n",
    "                PML_scav_sum_ave, PML_sed_sum_ave, 'Polar mixed layer')\n",
    "proportions_bar(fig, ax[0,1], PW_ice_sum_ave, PW_dust_sum_ave, PW_rivers_sum_ave, \\\n",
    "                PW_scav_sum_ave, PW_sed_sum_ave, 'Pacific/halocline layer')\n",
    "proportions_bar(fig, ax[1,0], AW_ice_sum_ave, AW_dust_sum_ave, AW_rivers_sum_ave, \\\n",
    "                AW_scav_sum_ave, AW_sed_sum_ave, 'Atlantic layer')\n",
    "proportions_bar(fig, ax[1,1], DW_ice_sum_ave, DW_dust_sum_ave, DW_rivers_sum_ave, \\\n",
    "                DW_scav_sum_ave, DW_sed_sum_ave, 'Deep layer', legend=True)\n",
    "\n",
    "fig.text(0.06, 0.5, 'Proportional contribution to monthly average dMn', \\\n",
    "         ha='center', va='center', rotation='vertical', fontsize=14);"
   ]
  },
  {
   "cell_type": "code",
   "execution_count": null,
   "metadata": {},
   "outputs": [],
   "source": []
  }
 ],
 "metadata": {
  "kernelspec": {
   "display_name": "Python 3",
   "language": "python",
   "name": "python3"
  },
  "language_info": {
   "codemirror_mode": {
    "name": "ipython",
    "version": 3
   },
   "file_extension": ".py",
   "mimetype": "text/x-python",
   "name": "python",
   "nbconvert_exporter": "python",
   "pygments_lexer": "ipython3",
   "version": "3.7.3"
  }
 },
 "nbformat": 4,
 "nbformat_minor": 2
}
