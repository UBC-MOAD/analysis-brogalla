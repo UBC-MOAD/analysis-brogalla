{
 "cells": [
  {
   "cell_type": "markdown",
   "metadata": {},
   "source": [
    "# Create Monthly CESM ice flux files"
   ]
  },
  {
   "cell_type": "code",
   "execution_count": 1,
   "metadata": {},
   "outputs": [],
   "source": [
    "import matplotlib.pyplot as plt\n",
    "import netCDF4 as nc\n",
    "import numpy as np\n",
    "import datetime\n",
    "from mpl_toolkits.basemap import Basemap, cm\n",
    "import cmocean\n",
    "import matplotlib\n",
    "import modules.mapping_functions as mf\n",
    "\n",
    "%matplotlib inline"
   ]
  },
  {
   "cell_type": "markdown",
   "metadata": {},
   "source": [
    "##### Load files"
   ]
  },
  {
   "cell_type": "code",
   "execution_count": 2,
   "metadata": {},
   "outputs": [],
   "source": [
    "mesh  = nc.Dataset('/ocean/brogalla/GEOTRACES/data/ANHA12/ANHA12_mesh1.nc')\n",
    "tmask = np.array(mesh.variables['tmask'])\n",
    "tmask = np.array(tmask[0,:,:,:])\n",
    "mlons = np.array(mesh.variables['nav_lon'])\n",
    "mlats = np.array(mesh.variables['nav_lat'])\n",
    "Z_masked = np.ma.masked_where((tmask > 0.1), tmask) "
   ]
  },
  {
   "cell_type": "code",
   "execution_count": 3,
   "metadata": {},
   "outputs": [],
   "source": [
    "folder = '/ocean/brogalla/GEOTRACES/data/NCAR/'\n",
    "\n",
    "faero_001_n = nc.Dataset(f'{folder}merged_faero_ocn001_nh.nc')  #hydrophilic black carbon\n",
    "faero_002_n = nc.Dataset(f'{folder}merged_faero_ocn002_nh.nc')  #hydrophobic black carbon\n",
    "faero_003_n = nc.Dataset(f'{folder}merged_faero_ocn003_nh.nc')  #dust\n",
    "\n",
    "ocn001 = np.array(faero_001_n.variables['faero_ocn001'])\n",
    "ocn002 = np.array(faero_002_n.variables['faero_ocn002'])\n",
    "ocn003 = np.array(faero_003_n.variables['faero_ocn003'])\n",
    "time   = faero_001_n.variables['time']\n",
    "lons   = np.array(faero_001_n.variables['TLON'])\n",
    "lats   = np.array(faero_001_n.variables['TLAT'])"
   ]
  },
  {
   "cell_type": "code",
   "execution_count": 4,
   "metadata": {},
   "outputs": [],
   "source": [
    "for i in range(0,lons.shape[0]):\n",
    "    for j in range(0,lons.shape[1]):\n",
    "        if lons[i,j] >= 180:\n",
    "            lons[i,j] = -360+lons[i,j]"
   ]
  },
  {
   "cell_type": "markdown",
   "metadata": {},
   "source": [
    "##### Functions"
   ]
  },
  {
   "cell_type": "code",
   "execution_count": 5,
   "metadata": {},
   "outputs": [],
   "source": [
    "def save_file(filename, field1, field2, field3):\n",
    "    ncd = nc.Dataset(filename, 'w', zlib=True)\n",
    "    \n",
    "    ncd.createDimension('x',len(mesh.dimensions['x']))\n",
    "    ncd.createDimension('y',len(mesh.dimensions['y']))\n",
    "    ncd.createDimension('time_counter',None)\n",
    "    \n",
    "    # variables\n",
    "    dust             = ncd.createVariable('dust', 'float64', ('y','x'))\n",
    "    dust.units       = 'kg/m2 s'\n",
    "    dust.long_name   = 'Dust deposition flux'  \n",
    "    dust.coordinates = 'nav_lon nav_lat'\n",
    "    dust[:]          = field1[:]\n",
    "    \n",
    "    bc_philic             = ncd.createVariable('bc_philic', 'float64', ('y','x'))\n",
    "    bc_philic.units       = 'kg/m2 s'\n",
    "    bc_philic.long_name   = 'Hydrophilic black carbon'  \n",
    "    bc_philic.coordinates = 'nav_lon nav_lat'\n",
    "    bc_philic[:]          = field2[:]\n",
    "    \n",
    "    bc_phobic             = ncd.createVariable('bc_phobic', 'float64', ('y','x'))\n",
    "    bc_phobic.units       = 'kg/m2 s'\n",
    "    bc_phobic.long_name   = 'Hydrophobic black carbon'  \n",
    "    bc_phobic.coordinates = 'nav_lon nav_lat'\n",
    "    bc_phobic[:]          = field3[:]\n",
    "    \n",
    "    print('saved ', filename)\n",
    "\n",
    "    ncd.close()\n",
    "    return"
   ]
  },
  {
   "cell_type": "code",
   "execution_count": 6,
   "metadata": {},
   "outputs": [],
   "source": [
    "def find_dates(file_year, time):\n",
    "    file_date_start = file_year*365\n",
    "    file_date_end = (file_year+1)*365\n",
    "    \n",
    "    start_index = []\n",
    "    end_index = []\n",
    "\n",
    "    for i in range(0,len(time)):\n",
    "        if time[i] == file_date_start:\n",
    "            start_index = i\n",
    "        elif time[i] == file_date_end:\n",
    "            end_index = i\n",
    "\n",
    "#     print('start index: ', start_index)\n",
    "#     print('end index: ', end_index)\n",
    "    \n",
    "    return start_index, end_index"
   ]
  },
  {
   "cell_type": "code",
   "execution_count": 7,
   "metadata": {},
   "outputs": [],
   "source": [
    "def data_to_ANHA12(file_year, time, lons, lats, ocn001_masked, ocn002_masked, ocn003_masked, savefiles=False):\n",
    "    \n",
    "    start_index, end_index = find_dates(file_year, time)\n",
    "    \n",
    "    interp_dst = np.empty((12, 2400, 1632))\n",
    "    interp_bc1  = np.empty((12, 2400, 1632))\n",
    "    interp_bc2  = np.empty((12, 2400, 1632))\n",
    "\n",
    "    # loop over the months:\n",
    "    for i in range(0,12):\n",
    "        filt_ocn001 = ocn001_masked[start_index+i,:,:][~ocn001_masked[start_index+i,:,:].mask].data\n",
    "        filt_ocn002 = ocn002_masked[start_index+i,:,:][~ocn002_masked[start_index+i,:,:].mask].data\n",
    "        filt_ocn003 = ocn003_masked[start_index+i,:,:][~ocn003_masked[start_index+i,:,:].mask].data\n",
    "        filt_lons1 = lons[~ocn001_masked[start_index+i,:,:].mask].data\n",
    "        filt_lons2 = lons[~ocn002_masked[start_index+i,:,:].mask].data\n",
    "        filt_lons3 = lons[~ocn003_masked[start_index+i,:,:].mask].data\n",
    "        filt_lats1 = lats[~ocn001_masked[start_index+i,:,:].mask].data\n",
    "        filt_lats2 = lats[~ocn002_masked[start_index+i,:,:].mask].data\n",
    "        filt_lats3 = lats[~ocn003_masked[start_index+i,:,:].mask].data\n",
    "\n",
    "        interp_dst[i,:,:]  = mf.interp_np(filt_lons3, filt_lats3, filt_ocn003, mlons, mlats, flatten=False)\n",
    "        interp_bc1[i,:,:]  = mf.interp_np(filt_lons1, filt_lats1, filt_ocn001, mlons, mlats, flatten=False)\n",
    "        interp_bc2[i,:,:]  = mf.interp_np(filt_lons2, filt_lats2, filt_ocn002, mlons, mlats, flatten=False)\n",
    "        \n",
    "    if savefiles:\n",
    "        location='/ocean/brogalla/GEOTRACES/data/Pb-202205-forcing/atmospheric/'\n",
    "        \n",
    "        for i in range(1,13):\n",
    "            save_file(f'{location}ice_flux_y{file_year}m{i:02}.nc',interp_dst[i-1,:,:],\\\n",
    "                      interp_bc1[i-1,:,:], interp_bc2[i-1,:,:])\n",
    "    \n",
    "    return interp_dst, interp_bc1, interp_bc2"
   ]
  },
  {
   "cell_type": "markdown",
   "metadata": {},
   "source": [
    "##### Calculations"
   ]
  },
  {
   "cell_type": "code",
   "execution_count": 8,
   "metadata": {},
   "outputs": [],
   "source": [
    "ocn001_masked = np.ma.masked_where((ocn001 >= 1e30), ocn001) \n",
    "ocn002_masked = np.ma.masked_where((ocn002 >= 1e30), ocn002) \n",
    "ocn003_masked = np.ma.masked_where((ocn003 >= 1e30), ocn003) "
   ]
  },
  {
   "cell_type": "code",
   "execution_count": 12,
   "metadata": {},
   "outputs": [
    {
     "name": "stdout",
     "output_type": "stream",
     "text": [
      "2015\n",
      "saved  /ocean/brogalla/GEOTRACES/data/Pb-202205-forcing/atmospheric/ice_flux_y2015m01.nc\n",
      "saved  /ocean/brogalla/GEOTRACES/data/Pb-202205-forcing/atmospheric/ice_flux_y2015m02.nc\n",
      "saved  /ocean/brogalla/GEOTRACES/data/Pb-202205-forcing/atmospheric/ice_flux_y2015m03.nc\n",
      "saved  /ocean/brogalla/GEOTRACES/data/Pb-202205-forcing/atmospheric/ice_flux_y2015m04.nc\n",
      "saved  /ocean/brogalla/GEOTRACES/data/Pb-202205-forcing/atmospheric/ice_flux_y2015m05.nc\n",
      "saved  /ocean/brogalla/GEOTRACES/data/Pb-202205-forcing/atmospheric/ice_flux_y2015m06.nc\n",
      "saved  /ocean/brogalla/GEOTRACES/data/Pb-202205-forcing/atmospheric/ice_flux_y2015m07.nc\n",
      "saved  /ocean/brogalla/GEOTRACES/data/Pb-202205-forcing/atmospheric/ice_flux_y2015m08.nc\n",
      "saved  /ocean/brogalla/GEOTRACES/data/Pb-202205-forcing/atmospheric/ice_flux_y2015m09.nc\n",
      "saved  /ocean/brogalla/GEOTRACES/data/Pb-202205-forcing/atmospheric/ice_flux_y2015m10.nc\n",
      "saved  /ocean/brogalla/GEOTRACES/data/Pb-202205-forcing/atmospheric/ice_flux_y2015m11.nc\n",
      "saved  /ocean/brogalla/GEOTRACES/data/Pb-202205-forcing/atmospheric/ice_flux_y2015m12.nc\n",
      "2016\n",
      "saved  /ocean/brogalla/GEOTRACES/data/Pb-202205-forcing/atmospheric/ice_flux_y2016m01.nc\n",
      "saved  /ocean/brogalla/GEOTRACES/data/Pb-202205-forcing/atmospheric/ice_flux_y2016m02.nc\n",
      "saved  /ocean/brogalla/GEOTRACES/data/Pb-202205-forcing/atmospheric/ice_flux_y2016m03.nc\n",
      "saved  /ocean/brogalla/GEOTRACES/data/Pb-202205-forcing/atmospheric/ice_flux_y2016m04.nc\n",
      "saved  /ocean/brogalla/GEOTRACES/data/Pb-202205-forcing/atmospheric/ice_flux_y2016m05.nc\n",
      "saved  /ocean/brogalla/GEOTRACES/data/Pb-202205-forcing/atmospheric/ice_flux_y2016m06.nc\n",
      "saved  /ocean/brogalla/GEOTRACES/data/Pb-202205-forcing/atmospheric/ice_flux_y2016m07.nc\n",
      "saved  /ocean/brogalla/GEOTRACES/data/Pb-202205-forcing/atmospheric/ice_flux_y2016m08.nc\n",
      "saved  /ocean/brogalla/GEOTRACES/data/Pb-202205-forcing/atmospheric/ice_flux_y2016m09.nc\n",
      "saved  /ocean/brogalla/GEOTRACES/data/Pb-202205-forcing/atmospheric/ice_flux_y2016m10.nc\n",
      "saved  /ocean/brogalla/GEOTRACES/data/Pb-202205-forcing/atmospheric/ice_flux_y2016m11.nc\n",
      "saved  /ocean/brogalla/GEOTRACES/data/Pb-202205-forcing/atmospheric/ice_flux_y2016m12.nc\n",
      "2017\n",
      "saved  /ocean/brogalla/GEOTRACES/data/Pb-202205-forcing/atmospheric/ice_flux_y2017m01.nc\n",
      "saved  /ocean/brogalla/GEOTRACES/data/Pb-202205-forcing/atmospheric/ice_flux_y2017m02.nc\n",
      "saved  /ocean/brogalla/GEOTRACES/data/Pb-202205-forcing/atmospheric/ice_flux_y2017m03.nc\n",
      "saved  /ocean/brogalla/GEOTRACES/data/Pb-202205-forcing/atmospheric/ice_flux_y2017m04.nc\n",
      "saved  /ocean/brogalla/GEOTRACES/data/Pb-202205-forcing/atmospheric/ice_flux_y2017m05.nc\n",
      "saved  /ocean/brogalla/GEOTRACES/data/Pb-202205-forcing/atmospheric/ice_flux_y2017m06.nc\n",
      "saved  /ocean/brogalla/GEOTRACES/data/Pb-202205-forcing/atmospheric/ice_flux_y2017m07.nc\n",
      "saved  /ocean/brogalla/GEOTRACES/data/Pb-202205-forcing/atmospheric/ice_flux_y2017m08.nc\n",
      "saved  /ocean/brogalla/GEOTRACES/data/Pb-202205-forcing/atmospheric/ice_flux_y2017m09.nc\n",
      "saved  /ocean/brogalla/GEOTRACES/data/Pb-202205-forcing/atmospheric/ice_flux_y2017m10.nc\n",
      "saved  /ocean/brogalla/GEOTRACES/data/Pb-202205-forcing/atmospheric/ice_flux_y2017m11.nc\n",
      "saved  /ocean/brogalla/GEOTRACES/data/Pb-202205-forcing/atmospheric/ice_flux_y2017m12.nc\n",
      "2018\n",
      "saved  /ocean/brogalla/GEOTRACES/data/Pb-202205-forcing/atmospheric/ice_flux_y2018m01.nc\n",
      "saved  /ocean/brogalla/GEOTRACES/data/Pb-202205-forcing/atmospheric/ice_flux_y2018m02.nc\n",
      "saved  /ocean/brogalla/GEOTRACES/data/Pb-202205-forcing/atmospheric/ice_flux_y2018m03.nc\n",
      "saved  /ocean/brogalla/GEOTRACES/data/Pb-202205-forcing/atmospheric/ice_flux_y2018m04.nc\n",
      "saved  /ocean/brogalla/GEOTRACES/data/Pb-202205-forcing/atmospheric/ice_flux_y2018m05.nc\n",
      "saved  /ocean/brogalla/GEOTRACES/data/Pb-202205-forcing/atmospheric/ice_flux_y2018m06.nc\n",
      "saved  /ocean/brogalla/GEOTRACES/data/Pb-202205-forcing/atmospheric/ice_flux_y2018m07.nc\n",
      "saved  /ocean/brogalla/GEOTRACES/data/Pb-202205-forcing/atmospheric/ice_flux_y2018m08.nc\n",
      "saved  /ocean/brogalla/GEOTRACES/data/Pb-202205-forcing/atmospheric/ice_flux_y2018m09.nc\n",
      "saved  /ocean/brogalla/GEOTRACES/data/Pb-202205-forcing/atmospheric/ice_flux_y2018m10.nc\n",
      "saved  /ocean/brogalla/GEOTRACES/data/Pb-202205-forcing/atmospheric/ice_flux_y2018m11.nc\n",
      "saved  /ocean/brogalla/GEOTRACES/data/Pb-202205-forcing/atmospheric/ice_flux_y2018m12.nc\n",
      "2019\n",
      "saved  /ocean/brogalla/GEOTRACES/data/Pb-202205-forcing/atmospheric/ice_flux_y2019m01.nc\n",
      "saved  /ocean/brogalla/GEOTRACES/data/Pb-202205-forcing/atmospheric/ice_flux_y2019m02.nc\n",
      "saved  /ocean/brogalla/GEOTRACES/data/Pb-202205-forcing/atmospheric/ice_flux_y2019m03.nc\n",
      "saved  /ocean/brogalla/GEOTRACES/data/Pb-202205-forcing/atmospheric/ice_flux_y2019m04.nc\n",
      "saved  /ocean/brogalla/GEOTRACES/data/Pb-202205-forcing/atmospheric/ice_flux_y2019m05.nc\n",
      "saved  /ocean/brogalla/GEOTRACES/data/Pb-202205-forcing/atmospheric/ice_flux_y2019m06.nc\n",
      "saved  /ocean/brogalla/GEOTRACES/data/Pb-202205-forcing/atmospheric/ice_flux_y2019m07.nc\n",
      "saved  /ocean/brogalla/GEOTRACES/data/Pb-202205-forcing/atmospheric/ice_flux_y2019m08.nc\n",
      "saved  /ocean/brogalla/GEOTRACES/data/Pb-202205-forcing/atmospheric/ice_flux_y2019m09.nc\n",
      "saved  /ocean/brogalla/GEOTRACES/data/Pb-202205-forcing/atmospheric/ice_flux_y2019m10.nc\n",
      "saved  /ocean/brogalla/GEOTRACES/data/Pb-202205-forcing/atmospheric/ice_flux_y2019m11.nc\n",
      "saved  /ocean/brogalla/GEOTRACES/data/Pb-202205-forcing/atmospheric/ice_flux_y2019m12.nc\n",
      "2020\n",
      "saved  /ocean/brogalla/GEOTRACES/data/Pb-202205-forcing/atmospheric/ice_flux_y2020m01.nc\n",
      "saved  /ocean/brogalla/GEOTRACES/data/Pb-202205-forcing/atmospheric/ice_flux_y2020m02.nc\n",
      "saved  /ocean/brogalla/GEOTRACES/data/Pb-202205-forcing/atmospheric/ice_flux_y2020m03.nc\n",
      "saved  /ocean/brogalla/GEOTRACES/data/Pb-202205-forcing/atmospheric/ice_flux_y2020m04.nc\n",
      "saved  /ocean/brogalla/GEOTRACES/data/Pb-202205-forcing/atmospheric/ice_flux_y2020m05.nc\n",
      "saved  /ocean/brogalla/GEOTRACES/data/Pb-202205-forcing/atmospheric/ice_flux_y2020m06.nc\n",
      "saved  /ocean/brogalla/GEOTRACES/data/Pb-202205-forcing/atmospheric/ice_flux_y2020m07.nc\n",
      "saved  /ocean/brogalla/GEOTRACES/data/Pb-202205-forcing/atmospheric/ice_flux_y2020m08.nc\n",
      "saved  /ocean/brogalla/GEOTRACES/data/Pb-202205-forcing/atmospheric/ice_flux_y2020m09.nc\n",
      "saved  /ocean/brogalla/GEOTRACES/data/Pb-202205-forcing/atmospheric/ice_flux_y2020m10.nc\n",
      "saved  /ocean/brogalla/GEOTRACES/data/Pb-202205-forcing/atmospheric/ice_flux_y2020m11.nc\n",
      "saved  /ocean/brogalla/GEOTRACES/data/Pb-202205-forcing/atmospheric/ice_flux_y2020m12.nc\n"
     ]
    }
   ],
   "source": [
    "for year in np.arange(2015,2021,1):\n",
    "    print(year)\n",
    "    interp_dst, interp_bc1, interp_bc2 = data_to_ANHA12(year, time, lons, lats, \\\n",
    "                                                        ocn001_masked, ocn002_masked, ocn003_masked,\\\n",
    "                                                        savefiles=True)"
   ]
  },
  {
   "cell_type": "code",
   "execution_count": null,
   "metadata": {},
   "outputs": [],
   "source": []
  },
  {
   "cell_type": "code",
   "execution_count": null,
   "metadata": {},
   "outputs": [],
   "source": []
  }
 ],
 "metadata": {
  "kernelspec": {
   "display_name": "Python 3",
   "language": "python",
   "name": "python3"
  },
  "language_info": {
   "codemirror_mode": {
    "name": "ipython",
    "version": 3
   },
   "file_extension": ".py",
   "mimetype": "text/x-python",
   "name": "python",
   "nbconvert_exporter": "python",
   "pygments_lexer": "ipython3",
   "version": "3.6.11"
  }
 },
 "nbformat": 4,
 "nbformat_minor": 4
}
