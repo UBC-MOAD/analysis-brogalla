{
 "cells": [
  {
   "cell_type": "markdown",
   "metadata": {},
   "source": [
    "# Calculate river tracer concentrations\n",
    "\n",
    "Based on the classification system with glacial, continental and other rivers, find trace metal concentrations from river data from Manuel Colombo & Kristina Brown (Colombo et al., 2019)"
   ]
  },
  {
   "cell_type": "code",
   "execution_count": 1,
   "metadata": {},
   "outputs": [],
   "source": [
    "import numpy as np\n",
    "import matplotlib.pyplot as plt\n",
    "import csv\n",
    "from mpl_toolkits.basemap import Basemap, cm\n",
    "import cmocean\n",
    "\n",
    "%matplotlib inline"
   ]
  },
  {
   "cell_type": "markdown",
   "metadata": {},
   "source": [
    "Load data from paper:"
   ]
  },
  {
   "cell_type": "code",
   "execution_count": 2,
   "metadata": {},
   "outputs": [],
   "source": [
    "river_names = ['Akpat Kuunga', 'Glacier', 'Marcil Creek', 'Saaqu', 'Devon Isl.', \\\n",
    "               'Cunningham', 'Garnier', 'Mecham', 'Creswell', 'Le Feuvre Inlet', \\\n",
    "               'Pasley', 'Simpson', 'Ellice', 'Tree']\n",
    "river_lats = [73.7638, 73.6124, 72.9971, 73.7936, 74.5110, \\\n",
    "              74.0153, 73.9445, 74.6926, 72.8491, 72.3412, \\\n",
    "              70.4696, 67.6763, 67.8930, 67.6242]\n",
    "river_lons = [-80.4468, -78.6805, -84.9864, -86.9829, -88.4910, -93.6242, -92.0369, -94.7783, -93.4162, \\\n",
    "             -96.9172, -95.5796, -100.5683, -104.0758, -111.9161]\n",
    "river_spm = [8.31, 261, 3.18, np.nan, np.nan, \\\n",
    "             0.85, 13.6, 0.14, 2.43, np.nan, \\\n",
    "             0.03, 19.1, 4.82, np.nan]\n",
    "river_dpb = [(1.53+3.20)/2, 35, (3.23+5.22)/2, (1.01+1.26)/2, 1.74, (0.601+0.670)/2, \\\n",
    "            3.53, 1.49, (4.48+6.07)/2, (1.59+1.78)/2, 1.72, (32+73)/2, \\\n",
    "            (60+64)/2, (12+15)/2]\n",
    "\n",
    "# Salinity (PSS78): 0.06, 0.02, 0.03, 0.10, 0.07, 0.11, 0.13, 0.14, 0.16, 0.19, 0.11, 0.09, 0.04, 0.05\n"
   ]
  },
  {
   "cell_type": "markdown",
   "metadata": {},
   "source": [
    "### Groupings:\n",
    "\n",
    "- Glacial rivers: Glacial River\n",
    "- Continental rivers: Tree River, Ellice River, Simpson River\n",
    "- Other rivers: Marcil, Saaqu, Devon Island, Cunningham, Garnier, Mecham, Creswell, Le Feuvre Inlet, Pasle, Akput Kuunga"
   ]
  },
  {
   "cell_type": "code",
   "execution_count": 3,
   "metadata": {},
   "outputs": [],
   "source": [
    "spm_glaciers = river_spm[1]\n",
    "spm_other    = np.append(river_spm[2:11], river_spm[0])\n",
    "spm_cont     = river_spm[11:14]\n",
    "\n",
    "dPb_glaciers = river_dpb[1]\n",
    "dPb_other    = np.append(river_dpb[2:11], river_dpb[0])\n",
    "dPb_cont     = river_dpb[11:14]"
   ]
  },
  {
   "cell_type": "code",
   "execution_count": 7,
   "metadata": {},
   "outputs": [
    {
     "name": "stdout",
     "output_type": "stream",
     "text": [
      "dPb, glaciers: 35.00\n",
      "dPb, continental: 42.67\n",
      "dPb, other: 2.38\n",
      "---------------------------------\n",
      "spm, glaciers: 261.00\n",
      "spm, continental: 11.96\n",
      "spm, other: 4.08\n"
     ]
    }
   ],
   "source": [
    "print(f'dPb, glaciers: {np.average(dPb_glaciers):.2f}')\n",
    "print(f'dPb, continental: {np.average(dPb_cont):.2f}')\n",
    "print(f'dPb, other: {np.average(dPb_other):.2f}')\n",
    "print('---------------------------------')\n",
    "print(f'spm, glaciers: {np.nanmean(spm_glaciers):.2f}')\n",
    "print(f'spm, continental: {np.nanmean(spm_cont):.2f}')\n",
    "print(f'spm, other: {np.nanmean(spm_other):.2f}')"
   ]
  },
  {
   "cell_type": "markdown",
   "metadata": {},
   "source": [
    "Average dissolved concentrations:"
   ]
  },
  {
   "cell_type": "code",
   "execution_count": 5,
   "metadata": {},
   "outputs": [
    {
     "data": {
      "text/plain": [
       "<matplotlib.legend.Legend at 0x7fac8f8e5c88>"
      ]
     },
     "execution_count": 5,
     "metadata": {},
     "output_type": "execute_result"
    },
    {
     "data": {
      "image/png": "[encoded data removed]",
      "text/plain": [
       "<Figure size 432x288 with 1 Axes>"
      ]
     },
     "metadata": {
      "needs_background": "light"
     },
     "output_type": "display_data"
    }
   ],
   "source": [
    "fig, ax = plt.subplots(1,1, figsize=(6,4))\n",
    "ax.plot(dPb_glaciers, '.', markersize=15, label='Glaciers')\n",
    "ax.plot(dPb_cont,     '.', markersize=15, label='Continental')\n",
    "ax.plot(dPb_other,    '.', markersize=15, label='Other')\n",
    "\n",
    "# ax.set_ylim(0,100)\n",
    "ax.set_ylabel('Dissolved Pb [pM]')\n",
    "ax.set_xlabel('River number')\n",
    "ax.legend()"
   ]
  },
  {
   "cell_type": "code",
   "execution_count": 6,
   "metadata": {},
   "outputs": [
    {
     "data": {
      "text/plain": [
       "<matplotlib.legend.Legend at 0x7fac8f84fdd8>"
      ]
     },
     "execution_count": 6,
     "metadata": {},
     "output_type": "execute_result"
    },
    {
     "data": {
      "image/png": "[encoded data removed]",
      "text/plain": [
       "<Figure size 432x288 with 1 Axes>"
      ]
     },
     "metadata": {
      "needs_background": "light"
     },
     "output_type": "display_data"
    }
   ],
   "source": [
    "fig, ax = plt.subplots(1,1, figsize=(6,4))\n",
    "ax.plot(spm_glaciers, '.', markersize=15, label='Glaciers')\n",
    "ax.plot(spm_cont,     '.', markersize=15, label='Continental')\n",
    "ax.plot(spm_other,    '.', markersize=15, label='Other')\n",
    "\n",
    "# ax.set_ylim(0,100)\n",
    "ax.set_ylabel('Suspended particulate matter [mg/L]')\n",
    "ax.set_xlabel('River number')\n",
    "ax.legend()"
   ]
  },
  {
   "cell_type": "code",
   "execution_count": null,
   "metadata": {},
   "outputs": [],
   "source": []
  }
 ],
 "metadata": {
  "kernelspec": {
   "display_name": "Python 3",
   "language": "python",
   "name": "python3"
  },
  "language_info": {
   "codemirror_mode": {
    "name": "ipython",
    "version": 3
   },
   "file_extension": ".py",
   "mimetype": "text/x-python",
   "name": "python",
   "nbconvert_exporter": "python",
   "pygments_lexer": "ipython3",
   "version": "3.6.11"
  }
 },
 "nbformat": 4,
 "nbformat_minor": 4
}
