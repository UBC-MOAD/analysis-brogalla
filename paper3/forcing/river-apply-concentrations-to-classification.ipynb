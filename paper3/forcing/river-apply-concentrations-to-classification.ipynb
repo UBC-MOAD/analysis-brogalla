{
 "cells": [
  {
   "cell_type": "markdown",
   "metadata": {},
   "source": [
    "# Apply trace metal concentrations to river classification"
   ]
  },
  {
   "cell_type": "code",
   "execution_count": 1,
   "metadata": {},
   "outputs": [],
   "source": [
    "import numpy as np\n",
    "import xarray as xr\n",
    "\n",
    "%matplotlib inline"
   ]
  },
  {
   "cell_type": "markdown",
   "metadata": {},
   "source": [
    "River categories:\n",
    "\n",
    "1. Glaciers\n",
    "2. Continental\n",
    "3. Other"
   ]
  },
  {
   "cell_type": "markdown",
   "metadata": {},
   "source": [
    "#### Load files"
   ]
  },
  {
   "cell_type": "code",
   "execution_count": 2,
   "metadata": {},
   "outputs": [],
   "source": [
    "rclass = xr.open_dataset('/ocean/brogalla/GEOTRACES/data/Pb-202207-forcing/river_class-202207.nc')\n",
    "river_class = rclass['rclass'].values"
   ]
  },
  {
   "cell_type": "markdown",
   "metadata": {
    "tags": []
   },
   "source": [
    "#### Apply trace metal concentrations to classification system:"
   ]
  },
  {
   "cell_type": "code",
   "execution_count": 3,
   "metadata": {},
   "outputs": [],
   "source": [
    "dPb_rivers = np.zeros_like(river_class)\n",
    "SPM_rivers = np.zeros_like(river_class)"
   ]
  },
  {
   "cell_type": "markdown",
   "metadata": {},
   "source": [
    "Pb:"
   ]
  },
  {
   "cell_type": "code",
   "execution_count": 4,
   "metadata": {},
   "outputs": [],
   "source": [
    "dPb_rivers[river_class==1.0] = 35.00e-12   # glaciers\n",
    "dPb_rivers[river_class==2.0] = 42.67e-12  # continental\n",
    "dPb_rivers[river_class==3.0] = 2.38e-12   # other\n",
    "dPb_rivers[river_class==4.0] = 2.38e-12   # Gulf of Boothia "
   ]
  },
  {
   "cell_type": "code",
   "execution_count": 5,
   "metadata": {},
   "outputs": [],
   "source": [
    "SPM_rivers[river_class==1.0] = 261e-6    # glaciers\n",
    "SPM_rivers[river_class==2.0] = 11.96e-6  # continental\n",
    "SPM_rivers[river_class==3.0] = 4.08e-6   # other\n",
    "SPM_rivers[river_class==4.0] = 4.08e-6   # Gulf of Boothia"
   ]
  },
  {
   "cell_type": "markdown",
   "metadata": {},
   "source": [
    "##### Write to NetCDF file"
   ]
  },
  {
   "cell_type": "code",
   "execution_count": 6,
   "metadata": {},
   "outputs": [],
   "source": [
    "c = xr.open_dataset('/ocean/brogalla/GEOTRACES/data/runoff/ANHA12_runoff_monthly_combined_Dai_Trenberth_Bamber_y2002.nc')\n",
    "lon_rf = c['nav_lon'].values\n",
    "lat_rf = c['nav_lat'].values"
   ]
  },
  {
   "cell_type": "code",
   "execution_count": 7,
   "metadata": {},
   "outputs": [],
   "source": [
    "file_write = xr.Dataset(\n",
    "    {'nav_lon': ((\"y\",\"x\"), lon_rf), \n",
    "     'nav_lat': ((\"y\",\"x\"), lat_rf),\n",
    "     'spm_rivers': ((\"y\",\"x\"), SPM_rivers),\n",
    "     'dpb_rivers': ((\"y\",\"x\"), dPb_rivers)}, \n",
    "     coords = {\n",
    "         \"y\": np.zeros(2400),\n",
    "         \"x\": np.zeros(1632),\n",
    "    })\n",
    "    \n",
    "file_write.to_netcdf('/ocean/brogalla/GEOTRACES/data/Pb-tuning-202302/river-forcing-Pb-base-20230213.nc')"
   ]
  },
  {
   "cell_type": "code",
   "execution_count": null,
   "metadata": {},
   "outputs": [],
   "source": []
  }
 ],
 "metadata": {
  "kernelspec": {
   "display_name": "Python 3",
   "language": "python",
   "name": "python3"
  },
  "language_info": {
   "codemirror_mode": {
    "name": "ipython",
    "version": 3
   },
   "file_extension": ".py",
   "mimetype": "text/x-python",
   "name": "python",
   "nbconvert_exporter": "python",
   "pygments_lexer": "ipython3",
   "version": "3.6.11"
  }
 },
 "nbformat": 4,
 "nbformat_minor": 4
}
