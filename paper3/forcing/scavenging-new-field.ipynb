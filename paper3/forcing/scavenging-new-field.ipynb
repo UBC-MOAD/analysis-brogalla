{
 "cells": [
  {
   "cell_type": "markdown",
   "id": "according-infection",
   "metadata": {},
   "source": [
    "# Create lithogenic and biogenic particle fields for Pb scavenging"
   ]
  },
  {
   "cell_type": "markdown",
   "id": "f0179479-55fd-49d9-928e-44b2720ecc79",
   "metadata": {},
   "source": [
    "BLING ends in April, 2019"
   ]
  },
  {
   "cell_type": "code",
   "execution_count": 1,
   "id": "placed-collectible",
   "metadata": {},
   "outputs": [],
   "source": [
    "import numpy as np\n",
    "import matplotlib.pyplot as plt\n",
    "import pickle\n",
    "from mpl_toolkits.basemap import Basemap\n",
    "import netCDF4 as nc\n",
    "import xarray as xr\n",
    "import cmocean\n",
    "from scipy.spatial import Delaunay\n",
    "from scipy import ndimage as nd\n",
    "from scipy.interpolate import LinearNDInterpolator\n",
    "\n",
    "%matplotlib inline"
   ]
  },
  {
   "cell_type": "markdown",
   "id": "agreed-solid",
   "metadata": {},
   "source": [
    "#### Parameters / settings:"
   ]
  },
  {
   "cell_type": "code",
   "execution_count": 2,
   "id": "conservative-danish",
   "metadata": {},
   "outputs": [],
   "source": [
    "land_color = '#a9a7a2'\n",
    "\n",
    "# domain dimensions:\n",
    "jmin, jmax = 159, 799\n",
    "imin, imax = 1139, 2179\n",
    "isize = imax - imin\n",
    "jsize = jmax - jmin"
   ]
  },
  {
   "cell_type": "markdown",
   "id": "intimate-training",
   "metadata": {},
   "source": [
    "#### Load files"
   ]
  },
  {
   "cell_type": "code",
   "execution_count": 3,
   "id": "selective-silicon",
   "metadata": {},
   "outputs": [],
   "source": [
    "mesh         = xr.open_dataset('/ocean/brogalla/GEOTRACES/data/ANHA12/ANHA12_mask_Pb-20220317.nc')\n",
    "mesh_lon     = mesh['nav_lon'].values\n",
    "mesh_lat     = mesh['nav_lat'].values\n",
    "mesh_bathy   = mesh['tmask'][0,:,:,:].values\n",
    "bathy_masked = np.ma.masked_where((mesh_bathy> 0.1), mesh_bathy)\n",
    "ocean_masked = np.ma.masked_where((mesh_bathy<0.1), mesh_bathy)\n",
    "depths       = mesh['nav_lev'].values"
   ]
  },
  {
   "cell_type": "markdown",
   "id": "presidential-maximum",
   "metadata": {},
   "source": [
    "#### Functions:"
   ]
  },
  {
   "cell_type": "code",
   "execution_count": 15,
   "id": "c5e83c6a-06bc-445f-b521-455cd1effae8",
   "metadata": {},
   "outputs": [],
   "source": [
    "def open_file(folder, year, month, return_max=False):   \n",
    "    # Load interpolated fields:\n",
    "    with xr.open_dataset(f'{folder}Pb_scavenging_y{year}m{month:02}.nc') as file:\n",
    "        if return_max:\n",
    "            return file['lithogenic'].max(), file['biomass'].max(), file['fpop'].max()\n",
    "        else:\n",
    "            return file['lithogenic'].values, file['biomass'].values, file['fpop'].values"
   ]
  },
  {
   "cell_type": "code",
   "execution_count": 10,
   "id": "def5d73e-ab07-4039-b748-d9d9d33703cb",
   "metadata": {},
   "outputs": [],
   "source": [
    "def save_file(folder, litho_array, bio_array, year, month):   \n",
    "    \n",
    "    file_write = xr.Dataset(\n",
    "        {'lithogenic' : ((\"deptht\",\"y\",\"x\"), litho_array),\n",
    "         'biogenic' : ((\"deptht\",\"y\",\"x\"), bio_array)}, \n",
    "        coords = {\n",
    "            \"time_counter\": np.zeros(1),\n",
    "            \"deptht\": depths,\n",
    "            \"y\": np.zeros(mesh_lat.shape[0]),\n",
    "            \"x\": np.zeros(mesh_lon.shape[1])},\n",
    "    )\n",
    "    file_write.to_netcdf(f'{folder}Pb_scavenging_y{year}m{month:02}.nc', \\\n",
    "                         unlimited_dims='time_counter')\n",
    "\n",
    "    return"
   ]
  },
  {
   "cell_type": "code",
   "execution_count": 11,
   "id": "f9399c76-86c2-4e47-b89a-35389b04b16a",
   "metadata": {},
   "outputs": [],
   "source": [
    "def create_fields(save_folder, year, month, save=False,\n",
    "                  alpha=1.0, beta=0.005, exponent=1, litho_max=np.nan, bio_max=np.nan):\n",
    "    # optional arguments:\n",
    "    # - alpha     --- fraction of sinking particulate organic matter\n",
    "    # - beta      --- fraction of lithogenic particle contribution\n",
    "    # - exponent  --- magnitude of exponent of biogenic particle field (for nonlinear relationship)\n",
    "    \n",
    "    # on first call to this function, calculate the maximum values:\n",
    "    if create_fields.counter == 0:\n",
    "        litho_max, bio_max = find_max(alpha=alpha)\n",
    "    \n",
    "    litho, biomass, fpop = open_file('/ocean/brogalla/GEOTRACES/data/Pb-tuning-202210/new-bio-proxy/general-particle-fields/', \n",
    "                                     year, month)\n",
    "    \n",
    "    litho_field  = litho / litho_max\n",
    "    sum_bio      = np.add(biomass, alpha*fpop)\n",
    "    bio_field    = sum_bio**exponent / (bio_max**exponent)\n",
    "    \n",
    "    lithogenic_field_final = litho_field * beta\n",
    "    biogenic_field_final   = bio_field * (1-beta)\n",
    "    \n",
    "    if save:\n",
    "        save_file(save_folder, lithogenic_field_final, biogenic_field_final, year, month)\n",
    "        \n",
    "    create_fields.counter += 1\n",
    "    \n",
    "    return"
   ]
  },
  {
   "cell_type": "code",
   "execution_count": 46,
   "id": "fe266ac1-8a5e-4ed0-a504-b38dcc2908bb",
   "metadata": {},
   "outputs": [],
   "source": [
    "def find_max(alpha=1):\n",
    "    # use to identify year in which maximum occurs so that moving forward, I only need to load that year\n",
    "    n = 0\n",
    "    max_litho_list   = np.empty((12*19)); max_litho_list[:]   = np.nan;\n",
    "    max_biomass_list = np.empty((12*19)); max_biomass_list[:] = np.nan;\n",
    "    max_fpop_list    = np.empty((12*19)); max_fpop_list[:]    = np.nan;\n",
    "    max_bio_list     = np.empty((12*19)); max_bio_list[:]     = np.nan;\n",
    "    \n",
    "    for year in range(2014,2019):\n",
    "        print(year)\n",
    "        for month in range(1,13):\n",
    "            print(month)\n",
    "            max_litho_list[n], max_biomass_list[n], max_fpop_list[n] = open_file('/ocean/brogalla/GEOTRACES/data/Pb-tuning-202210/new-bio-proxy/general-particle-fields/', \n",
    "                                                                                  year, month, return_max=True)                \n",
    "            n+=1\n",
    "            \n",
    "    return max_litho_list, max_biomass_list, max_fpop_list"
   ]
  },
  {
   "cell_type": "markdown",
   "id": "ed037403-b003-445b-86d9-834df765effd",
   "metadata": {},
   "source": [
    "#### Calculations"
   ]
  },
  {
   "cell_type": "markdown",
   "id": "7bfeca3b-347c-4678-8b49-2f0f47912f17",
   "metadata": {},
   "source": [
    "Between 2002-2007 (end):\n",
    "- Lithogenic max in year 2002, month 6 --- 1.633e-7 (index 5)\n",
    "- Biomass max in year 2004, month 6 --- 6.501e-4 (index 29)\n",
    "- Fpop max in year 2007, month 6 --- 4.84e-5 (index 65)\n",
    "\n",
    "Between 2008-2013 (end):\n",
    "- Lithogenic max in year 2010, month 6 --- 1.833e-7 (index 30)\n",
    "- Biomass max in year 2012, month 6 --- 6.65e-4 (index 53)\n",
    "- Fpop max in year 2008, month 6 --- 6.283e-5(index 5) \n",
    "\n",
    "Between 2014-2018 (end):\n",
    "- Lithogenic max in year 2014, month 5 --- 1.657e-7 (index 4)\n",
    "- Biomass max in year 2016, month 6 --- 6.061e-4 (index 29) \n",
    "- Fpop max in year 2015, month 6 --- 5.4775e-5 (index 17)\n",
    "\n",
    "So, lithogenic maximum occurs in year 2010 and is 1.833e-7, biomass maximum occurs in year 2012 and is 6.65e-4, and fpop maximum is in 2008, but I can probably assume biomass dominates and use year 2012."
   ]
  },
  {
   "cell_type": "code",
   "execution_count": null,
   "id": "0cc43fea-38c4-4bf3-b64a-4ee1e17b9028",
   "metadata": {},
   "outputs": [],
   "source": [
    "max_litho, max_biom, max_fpop = find_max(alpha=1)"
   ]
  },
  {
   "cell_type": "code",
   "execution_count": 7,
   "id": "22259dd9-c440-45b8-b479-d594d251b909",
   "metadata": {},
   "outputs": [],
   "source": [
    "save_folder = '/ocean/brogalla/GEOTRACES/data/Pb-tuning-202210/new-bio-proxy/biomass-nonlinear-2-3-capped2/'"
   ]
  },
  {
   "cell_type": "code",
   "execution_count": 8,
   "id": "65fb6ca5-1d72-448a-899e-4b06573c61ae",
   "metadata": {},
   "outputs": [],
   "source": [
    "# Set field creation counter for this set of parameters to zero at the start:\n",
    "create_fields.counter = 0\n",
    "\n",
    "for month in range(1,13):   \n",
    "    create_fields(f'{save_folder}', 2002, month, save=True\n",
    "                 alpha=1.0, beta=0.005, exponent=2./3., litho_max=np.nan, bio_max=np.nan)\n",
    "    \n",
    "    \n",
    "# Reset create_fields counter to zero at the end\n",
    "create_fields.counter = 0"
   ]
  },
  {
   "cell_type": "code",
   "execution_count": null,
   "id": "6291e286-ea40-46f0-8463-2f34f65adfde",
   "metadata": {},
   "outputs": [],
   "source": []
  }
 ],
 "metadata": {
  "kernelspec": {
   "display_name": "Python 3",
   "language": "python",
   "name": "python3"
  },
  "language_info": {
   "codemirror_mode": {
    "name": "ipython",
    "version": 3
   },
   "file_extension": ".py",
   "mimetype": "text/x-python",
   "name": "python",
   "nbconvert_exporter": "python",
   "pygments_lexer": "ipython3",
   "version": "3.6.11"
  }
 },
 "nbformat": 4,
 "nbformat_minor": 5
}
