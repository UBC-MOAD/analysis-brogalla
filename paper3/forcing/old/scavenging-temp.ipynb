{
 "cells": [
  {
   "cell_type": "markdown",
   "id": "according-infection",
   "metadata": {},
   "source": [
    "# Create temporary Pb scavenging forcing field\n",
    "\n",
    "For code testing."
   ]
  },
  {
   "cell_type": "code",
   "execution_count": 17,
   "id": "placed-collectible",
   "metadata": {},
   "outputs": [],
   "source": [
    "import numpy as np\n",
    "import netCDF4 as nc\n",
    "import xarray as xr\n",
    "import modules.mapping_functions as mf\n",
    "\n",
    "%matplotlib inline"
   ]
  },
  {
   "cell_type": "markdown",
   "id": "agreed-solid",
   "metadata": {},
   "source": [
    "#### Parameters / settings:"
   ]
  },
  {
   "cell_type": "code",
   "execution_count": 18,
   "id": "conservative-danish",
   "metadata": {},
   "outputs": [],
   "source": [
    "# domain dimensions:\n",
    "jmin, jmax = 159, 799\n",
    "imin, imax = 1139, 2179\n",
    "isize = imax - imin\n",
    "jsize = jmax - jmin"
   ]
  },
  {
   "cell_type": "markdown",
   "id": "intimate-training",
   "metadata": {},
   "source": [
    "#### Load files"
   ]
  },
  {
   "cell_type": "code",
   "execution_count": 19,
   "id": "selective-silicon",
   "metadata": {},
   "outputs": [],
   "source": [
    "mesh         = xr.open_dataset('/ocean/brogalla/GEOTRACES/data/ANHA12/ANHA12_mask_Pb-20220317.nc')\n",
    "mesh_lon     = mesh['nav_lon'].values\n",
    "mesh_lat     = mesh['nav_lat'].values\n",
    "mesh_bathy   = mesh['tmask'][0,:,:,:].values\n",
    "bathy_masked = np.ma.masked_where((mesh_bathy> 0.1), mesh_bathy)\n",
    "ocean_masked = np.ma.masked_where((mesh_bathy<0.1), mesh_bathy)\n",
    "depths       = mesh['nav_lev'].values"
   ]
  },
  {
   "cell_type": "code",
   "execution_count": 20,
   "id": "located-single",
   "metadata": {},
   "outputs": [],
   "source": [
    "lithogenic_particles = np.ones(mesh_bathy.shape)\n",
    "biogenic_particles   = np.ones(mesh_bathy.shape)"
   ]
  },
  {
   "cell_type": "markdown",
   "id": "presidential-maximum",
   "metadata": {},
   "source": [
    "#### Functions:"
   ]
  },
  {
   "cell_type": "code",
   "execution_count": 21,
   "id": "a1639102-8b7a-417f-b198-bfbb54b95f9b",
   "metadata": {},
   "outputs": [],
   "source": [
    "def save_file(litho_array, bio_array, year, month):    \n",
    "    file_write = xr.Dataset(\n",
    "        {'lithogenic' : ((\"deptht\",\"y\",\"x\"), litho_array),\n",
    "         'biogenic' : ((\"deptht\",\"y\",\"x\"), bio_array)}, \n",
    "        coords = {\n",
    "            \"time_counter\": np.zeros(1),\n",
    "            \"deptht\": depths,\n",
    "            \"y\": np.zeros(mesh_lat.shape[0]),\n",
    "            \"x\": np.zeros(mesh_lon.shape[1])},\n",
    "    )\n",
    "    file_write.to_netcdf(f'/ocean/brogalla/GEOTRACES/data/Pb_scavenging_y{year}m{month:02}.nc', unlimited_dims='time_counter')\n",
    "    \n",
    "    return"
   ]
  },
  {
   "cell_type": "code",
   "execution_count": 22,
   "id": "5f9a39f5-81b4-416f-8fb5-46e740393422",
   "metadata": {},
   "outputs": [],
   "source": [
    "save_file(lithogenic_particles, biogenic_particles, 2002, 1)\n",
    "save_file(lithogenic_particles, biogenic_particles, 2002, 2)"
   ]
  },
  {
   "cell_type": "code",
   "execution_count": null,
   "id": "8f44a35f-586a-464e-881a-2a0f1c250063",
   "metadata": {},
   "outputs": [],
   "source": []
  }
 ],
 "metadata": {
  "kernelspec": {
   "display_name": "Python 3",
   "language": "python",
   "name": "python3"
  },
  "language_info": {
   "codemirror_mode": {
    "name": "ipython",
    "version": 3
   },
   "file_extension": ".py",
   "mimetype": "text/x-python",
   "name": "python",
   "nbconvert_exporter": "python",
   "pygments_lexer": "ipython3",
   "version": "3.6.11"
  }
 },
 "nbformat": 4,
 "nbformat_minor": 5
}
