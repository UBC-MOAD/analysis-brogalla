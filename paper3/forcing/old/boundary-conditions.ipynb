{
 "cells": [
  {
   "cell_type": "markdown",
   "metadata": {},
   "source": [
    "# Create boundary conditions for Pb"
   ]
  },
  {
   "cell_type": "code",
   "execution_count": 1,
   "metadata": {},
   "outputs": [],
   "source": [
    "import netCDF4 as nc\n",
    "import numpy as np\n",
    "import datetime\n",
    "import csv\n",
    "import pandas as pd\n",
    "import pickle\n",
    "from scipy.signal import savgol_filter\n",
    "import xarray as xr\n",
    "import scipy as sc\n",
    "\n",
    "%matplotlib inline"
   ]
  },
  {
   "cell_type": "markdown",
   "metadata": {},
   "source": [
    "#### Parameters"
   ]
  },
  {
   "cell_type": "code",
   "execution_count": 2,
   "metadata": {},
   "outputs": [],
   "source": [
    "# domain dimensions:\n",
    "imin, imax = 1139, 2179\n",
    "jmin, jmax = 159, 799\n",
    "\n",
    "# Rimwidths:\n",
    "rimwidthN  = 10\n",
    "rimwidthS  = 10\n",
    "rimwidthW  = 10\n",
    "rimwidthE  = 20\n",
    "\n",
    "# Boundary coordinates: (i1,i2,j1,j2)\n",
    "bdy_NCB = (1600,imax,jmax,jmax) # Northern Canada Basin\n",
    "bdy_WCB = (imax,imax,391,jmax)  # Western Canada Basin\n",
    "bdy_BB  = (imin,imin,449,674)   # Baffin Bay\n",
    "bdy_HB  = (1189,1474,291,291)   # Hudson Bay"
   ]
  },
  {
   "cell_type": "markdown",
   "metadata": {},
   "source": [
    "#### Files"
   ]
  },
  {
   "cell_type": "code",
   "execution_count": 20,
   "metadata": {},
   "outputs": [],
   "source": [
    "mesh       = nc.Dataset('/ocean/brogalla/GEOTRACES/data/ANHA12/ANHA12_mesh1.nc')\n",
    "mesh_lon   = np.array(mesh.variables['nav_lon'])\n",
    "mesh_lat   = np.array(mesh.variables['nav_lat'])\n",
    "mesh_bathy = np.array(mesh.variables['tmask'][0,:,:,:])\n",
    "\n",
    "bathy_masked = np.ma.masked_where((mesh_bathy > 0.1), mesh_bathy)\n",
    "ocean_masked = np.ma.masked_where((mesh_bathy < 0.1), mesh_bathy)"
   ]
  },
  {
   "cell_type": "code",
   "execution_count": 21,
   "metadata": {},
   "outputs": [],
   "source": [
    "m      = nc.Dataset('/data/brogalla/run_storage/Mn-reference-202110/ANHA12_ref-2002_20211012/'+\\\n",
    "                    'ANHA12_EXH006_2002_monthly.nc', 'r')\n",
    "mdepth = np.array(m.variables['deptht'])\n",
    "mlons  = np.array(m.variables['nav_lon'])\n",
    "mlats  = np.array(m.variables['nav_lat'])"
   ]
  },
  {
   "cell_type": "markdown",
   "metadata": {},
   "source": [
    "### Make fields"
   ]
  },
  {
   "cell_type": "markdown",
   "metadata": {},
   "source": [
    "##### Western CB boundary (model 'north')"
   ]
  },
  {
   "cell_type": "code",
   "execution_count": 22,
   "metadata": {},
   "outputs": [],
   "source": [
    "ANHA12lat_CB = mesh_lat[bdy_WCB[0],bdy_WCB[2]:bdy_WCB[3]]\n",
    "Pb_CB        = np.empty_like(mesh_bathy[:,bdy_WCB[0],bdy_WCB[2]:bdy_WCB[3]])\n",
    "yy_CB, zz_CB = np.meshgrid(ANHA12lat_CB, mdepth)"
   ]
  },
  {
   "cell_type": "code",
   "execution_count": 23,
   "metadata": {},
   "outputs": [],
   "source": [
    "Pb_CB.fill(2) \n",
    "Pb_CB[zz_CB <= 50]                        = 5 \n",
    "Pb_CB[(zz_CB < 100) & (zz_CB > 50)]       = 4 \n",
    "Pb_CB[(zz_CB < 100) & (zz_CB > 50) & (yy_CB < 72.5)] = 8  # coastal high band\n",
    "Pb_CB[(zz_CB <= 300) & (zz_CB > 100)]     = 3\n",
    "Pb_CB[(zz_CB > 300)]                      = 1.5"
   ]
  },
  {
   "cell_type": "code",
   "execution_count": 24,
   "metadata": {},
   "outputs": [],
   "source": [
    "# smoothed_Pb_CB1 = np.empty_like(Pb_CB)\n",
    "# smoothed_Pb_CB = np.empty_like(Pb_CB)\n",
    "\n",
    "# # Smooth vertically (along depth)\n",
    "# for i in range(0, len(Pb_CB[0,:])):\n",
    "#     smoothed_Pb_CB[:,i] = savgol_filter(Pb_CB[:,i], 5, 3)\n",
    "\n",
    "# # Smooth horizontally along cross section\n",
    "# for depth in range(0, len(Pb_CB[:,0])):\n",
    "#     smoothed_Pb_CB[depth,:] = savgol_filter(smoothed_Pb_CB1[depth,:], 51, 3)\n",
    "\n",
    "smoothed_Pb_CB = sc.ndimage.filters.gaussian_filter(Pb_CB, 1.8, order=0)"
   ]
  },
  {
   "cell_type": "markdown",
   "metadata": {},
   "source": [
    "Variable to save to file:"
   ]
  },
  {
   "cell_type": "code",
   "execution_count": 25,
   "metadata": {},
   "outputs": [],
   "source": [
    "dPb_North          = np.empty((1,50,1,yy_CB.shape[1]*rimwidthN))\n",
    "dPb_North[0,:,0,:] = np.tile(smoothed_Pb_CB, rimwidthN)"
   ]
  },
  {
   "cell_type": "code",
   "execution_count": 26,
   "metadata": {},
   "outputs": [
    {
     "data": {
      "text/plain": [
       "0"
      ]
     },
     "execution_count": 26,
     "metadata": {},
     "output_type": "execute_result"
    }
   ],
   "source": [
    "np.count_nonzero(dPb_North==0)"
   ]
  },
  {
   "cell_type": "code",
   "execution_count": 32,
   "metadata": {},
   "outputs": [
    {
     "name": "stdout",
     "output_type": "stream",
     "text": [
      "Model northern (west CB) boundary condition shape:  (1, 50, 1, 4080)\n"
     ]
    }
   ],
   "source": [
    "print('Model northern (west CB) boundary condition shape: ', dPb_North.shape)"
   ]
  },
  {
   "cell_type": "markdown",
   "metadata": {},
   "source": [
    "##### Northern Canada Basin (model 'east' boundary)"
   ]
  },
  {
   "cell_type": "code",
   "execution_count": 51,
   "metadata": {},
   "outputs": [],
   "source": [
    "ANHA12lon_AO = mesh_lon[bdy_NCB[0]:bdy_NCB[1],bdy_NCB[2]]\n",
    "Pb_AO        = np.empty_like(mesh_bathy[:,bdy_NCB[0]:bdy_NCB[1],bdy_NCB[2]])\n",
    "xx_AO, zz_AO = np.meshgrid(ANHA12lon_AO, mdepth)"
   ]
  },
  {
   "cell_type": "code",
   "execution_count": 52,
   "metadata": {},
   "outputs": [],
   "source": [
    "# Pb_AO.fill(3) \n",
    "# Pb_AO[zz_AO < 50]                     = 5 \n",
    "# Pb_AO[(zz_AO > 50)  & (zz_AO < 100)]  = 8 \n",
    "# Pb_AO[(zz_AO > 100) & (zz_AO < 400)]  = 6 \n",
    "# Pb_AO[(zz_AO > 400) & (zz_AO < 800)]  = 3 \n",
    "# Pb_AO[(zz_AO > 800) & (zz_AO < 2000)] = 4\n",
    "# Pb_AO[zz_AO > 2000]                   = 3"
   ]
  },
  {
   "cell_type": "code",
   "execution_count": 53,
   "metadata": {},
   "outputs": [],
   "source": [
    "# Pb_AO.fill(3) \n",
    "# Pb_AO[zz_AO <= 50]                    = 5 \n",
    "# Pb_AO[(zz_AO < 500) & (zz_AO > 50)]   = 3\n",
    "# # Pb_AO[(zz_AO > 50) & (xx_AO < -160)] = 2 \n",
    "\n",
    "Pb_AO.fill(3) \n",
    "Pb_AO[zz_AO <= 50]                    = 5 \n",
    "Pb_AO[(zz_AO < 100) & (zz_AO > 50)]   = 4 \n",
    "Pb_AO[(zz_AO > 300)]                  = 1.5\n",
    "# Pb_AO[(zz_AO < 500) & (zz_AO > 50)]   = 3"
   ]
  },
  {
   "cell_type": "code",
   "execution_count": 54,
   "metadata": {},
   "outputs": [],
   "source": [
    "# smoothed_Pb_AO1 = np.empty_like(Pb_AO)\n",
    "# smoothed_Pb_AO = np.empty_like(Pb_AO)\n",
    "\n",
    "# # Smooth vertically (along depth)\n",
    "# for i in range(0, len(Pb_AO[0,:])):\n",
    "#     smoothed_Pb_AO1[:,i] = savgol_filter(Pb_AO[:,i], 13, 3, mode='nearest')\n",
    "\n",
    "# # Smooth horizontally along cross section\n",
    "# for depth in range(0, len(Pb_AO[:,0])):\n",
    "#     smoothed_Pb_AO[depth,:] = savgol_filter(smoothed_Pb_AO1[depth,:], 53, 3, mode='mirror')\n",
    "    \n",
    "# smoothed_Pb_AO = sc.ndimage.filters.gaussian_filter(smoothed_Pb_AO, 1.8, order=0, mode='wrap')\n",
    "smoothed_Pb_AO = sc.ndimage.filters.gaussian_filter(Pb_AO, 1.8, order=0)"
   ]
  },
  {
   "cell_type": "code",
   "execution_count": 55,
   "metadata": {},
   "outputs": [
    {
     "name": "stdout",
     "output_type": "stream",
     "text": [
      "Northern CB (model east) boundary condition shape:  (1, 50, 1, 11580)\n"
     ]
    }
   ],
   "source": [
    "dPb_East   = np.empty((1,50,1,xx_AO.shape[1]*rimwidthE))\n",
    "dPb_East[0,:,0,:]  = np.tile(smoothed_Pb_AO, rimwidthE)\n",
    "\n",
    "print('Northern CB (model east) boundary condition shape: ', dPb_East.shape)"
   ]
  },
  {
   "cell_type": "markdown",
   "metadata": {},
   "source": [
    "##### Southern Baffin Bay boundary"
   ]
  },
  {
   "cell_type": "code",
   "execution_count": 56,
   "metadata": {},
   "outputs": [],
   "source": [
    "ANHA12lon_BB = mesh_lon[bdy_BB[0],bdy_BB[2]:bdy_BB[3]]\n",
    "xx, zz = np.meshgrid(ANHA12lon_BB, mdepth) "
   ]
  },
  {
   "cell_type": "code",
   "execution_count": 57,
   "metadata": {},
   "outputs": [],
   "source": [
    "Pb_BB = np.empty_like(mesh_bathy[:,bdy_BB[0],bdy_BB[2]:bdy_BB[3]])\n",
    "\n",
    "Pb_BB.fill(20)\n",
    "Pb_BB[zz < 20]                               = 12\n",
    "Pb_BB[(zz < 20)  & (xx > -50)]               = 16\n",
    "Pb_BB[(zz < 100) & (zz > 20)]                = 18\n",
    "Pb_BB[(zz < 100) & (zz > 20) & (xx < -50)]   = 14 \n",
    "Pb_BB[(zz > 350) & (zz < 1500) & (xx < -41)] = 33 \n",
    "Pb_BB[(zz > 350) & (zz < 1500) & (xx < -52)] = 23 \n",
    "Pb_BB[zz > 2500]                             = 10"
   ]
  },
  {
   "cell_type": "code",
   "execution_count": 58,
   "metadata": {},
   "outputs": [],
   "source": [
    "smoothed_Pb_BB1 = np.empty_like(Pb_BB)\n",
    "smoothed_Pb_BB = np.empty_like(Pb_BB)\n",
    "\n",
    "# Smooth vertically (along depth)\n",
    "for i in range(0, len(Pb_BB[0,:])):\n",
    "    smoothed_Pb_BB1[:,i] = savgol_filter(Pb_BB[:,i], 21, 3)\n",
    "\n",
    "# Smooth horizontally along cross section\n",
    "for depth in range(0, len(Pb_BB[:,0])):\n",
    "    smoothed_Pb_BB[depth,:] = savgol_filter(smoothed_Pb_BB1[depth,:], 81, 3)"
   ]
  },
  {
   "cell_type": "code",
   "execution_count": 59,
   "metadata": {},
   "outputs": [],
   "source": [
    "filtered_Pb_BB = sc.ndimage.filters.gaussian_filter(smoothed_Pb_BB, 1.8, order=0, mode='wrap')"
   ]
  },
  {
   "cell_type": "code",
   "execution_count": 60,
   "metadata": {},
   "outputs": [],
   "source": [
    "dPb_South          = np.empty((1,50,1,xx.shape[1]*rimwidthS))\n",
    "dPb_South[0,:,0,:] = np.tile(filtered_Pb_BB, rimwidthS) "
   ]
  },
  {
   "cell_type": "code",
   "execution_count": 61,
   "metadata": {},
   "outputs": [
    {
     "name": "stdout",
     "output_type": "stream",
     "text": [
      "Southern boundary condition shape:  (1, 50, 1, 2250)\n"
     ]
    }
   ],
   "source": [
    "print('Southern boundary condition shape: ', dPb_South.shape)"
   ]
  },
  {
   "cell_type": "markdown",
   "metadata": {},
   "source": [
    "##### Western Hudson Bay boundary"
   ]
  },
  {
   "cell_type": "code",
   "execution_count": 62,
   "metadata": {},
   "outputs": [],
   "source": [
    "ANHA12lon_HB = mesh_lon[bdy_HB[0]:bdy_HB[1],bdy_HB[2]] \n",
    "xx_HB, zz_HB = np.meshgrid(ANHA12lon_HB, mdepth) "
   ]
  },
  {
   "cell_type": "code",
   "execution_count": 63,
   "metadata": {},
   "outputs": [],
   "source": [
    "Pb_HB = np.empty_like(mesh_bathy[:,bdy_HB[0]:bdy_HB[1],bdy_HB[2]])\n",
    "\n",
    "Pb_HB.fill(12)\n",
    "# Pb_BB[zz < 20]                               = 12\n",
    "# Pb_BB[(zz < 20)  & (xx > -50)]               = 16\n",
    "# Pb_BB[(zz < 100) & (zz > 20)]                = 18\n",
    "# Pb_BB[(zz < 100) & (zz > 20) & (xx < -50)]   = 14 \n",
    "# Pb_BB[(zz > 350) & (zz < 1500)]              = 33\n",
    "# Pb_BB[(zz > 350) & (zz < 1500) & (xx < -41)] = 23 \n",
    "# Pb_BB[(zz > 350) & (zz < 1500) & (xx > -36)] = 23 \n",
    "# Pb_BB[zz > 2500]                             = 10"
   ]
  },
  {
   "cell_type": "code",
   "execution_count": 64,
   "metadata": {},
   "outputs": [],
   "source": [
    "# smoothed_Pb_HB1 = np.empty_like(Pb_HB)\n",
    "# smoothed_Pb_HB = np.empty_like(Pb_HB)\n",
    "\n",
    "# # Smooth vertically (along depth)\n",
    "# for i in range(0, len(Pb_HB[0,:])):\n",
    "#     smoothed_Pb_HB1[:,i] = savgol_filter(Pb_HB[:,i], 21, 3)\n",
    "\n",
    "# # Smooth horizontally along cross section\n",
    "# for depth in range(0, len(Pb_HB[:,0])):\n",
    "#     smoothed_Pb_HB[depth,:] = savgol_filter(smoothed_Pb_HB1[depth,:], 81, 3)"
   ]
  },
  {
   "cell_type": "code",
   "execution_count": 65,
   "metadata": {},
   "outputs": [],
   "source": [
    "dPb_West          = np.empty((1,50,1,xx_HB.shape[1]*rimwidthW))\n",
    "dPb_West[0,:,0,:] = np.tile(Pb_HB, rimwidthW) "
   ]
  },
  {
   "cell_type": "code",
   "execution_count": 66,
   "metadata": {},
   "outputs": [
    {
     "name": "stdout",
     "output_type": "stream",
     "text": [
      "Western Hudson Bay boundary condition shape:  (1, 50, 1, 2850)\n"
     ]
    }
   ],
   "source": [
    "print('Western Hudson Bay boundary condition shape: ', dPb_West.shape)"
   ]
  },
  {
   "cell_type": "markdown",
   "metadata": {},
   "source": [
    "#### Write NetCDF BC files:"
   ]
  },
  {
   "cell_type": "code",
   "execution_count": 67,
   "metadata": {},
   "outputs": [
    {
     "name": "stdout",
     "output_type": "stream",
     "text": [
      "0 0 0 0\n"
     ]
    }
   ],
   "source": [
    "# Check whether any of the values are zero\n",
    "print(np.count_nonzero(dPb_South==0), np.count_nonzero(dPb_East==0), \\\n",
    "      np.count_nonzero(dPb_North==0), np.count_nonzero(dPb_West==0))"
   ]
  },
  {
   "cell_type": "code",
   "execution_count": 69,
   "metadata": {
    "scrolled": true
   },
   "outputs": [],
   "source": [
    "file_write = xr.Dataset(\n",
    "    {'dPb_N' : ((\"time_counter\",\"deptht\",\"y\",\"x1\"), dPb_North*10**(-12)), \\\n",
    "     'dPb_S' : ((\"time_counter\",\"deptht\",\"y\",\"x2\"), dPb_South*10**(-12)), \\\n",
    "     'dPb_E' : ((\"time_counter\",\"deptht\",\"y\",\"x3\"), dPb_East*10**(-12)), \\\n",
    "     'dPb_W' : ((\"time_counter\",\"deptht\",\"y\",\"x4\"), dPb_West*10**(-12))}, \n",
    "    coords = {\n",
    "        \"time_counter\": np.zeros(1),\n",
    "        \"deptht\": np.zeros(50),\n",
    "        \"y\": np.zeros(1),\n",
    "        \"x1\": np.zeros(yy_CB.shape[1]*rimwidthN),\n",
    "        \"x2\": np.zeros(xx.shape[1]*rimwidthS),\n",
    "        \"x3\": np.zeros(xx_AO.shape[1]*rimwidthE),\n",
    "        \"x4\": np.zeros(xx_HB.shape[1]*rimwidthW),\n",
    "    },\n",
    ")\n",
    "\n",
    "# file_write.to_netcdf('/ocean/brogalla/GEOTRACES/data/Pb_OBC_20220322.nc', unlimited_dims='time_counter')"
   ]
  },
  {
   "cell_type": "code",
   "execution_count": null,
   "metadata": {},
   "outputs": [],
   "source": []
  }
 ],
 "metadata": {
  "kernelspec": {
   "display_name": "Python 3",
   "language": "python",
   "name": "python3"
  },
  "language_info": {
   "codemirror_mode": {
    "name": "ipython",
    "version": 3
   },
   "file_extension": ".py",
   "mimetype": "text/x-python",
   "name": "python",
   "nbconvert_exporter": "python",
   "pygments_lexer": "ipython3",
   "version": "3.6.11"
  }
 },
 "nbformat": 4,
 "nbformat_minor": 4
}
