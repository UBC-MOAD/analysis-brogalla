{
 "cells": [
  {
   "cell_type": "markdown",
   "metadata": {},
   "source": [
    "# Create photoreduction forcing files"
   ]
  },
  {
   "cell_type": "code",
   "execution_count": 2,
   "metadata": {},
   "outputs": [],
   "source": [
    "import numpy as np\n",
    "import netCDF4 as nc\n",
    "import xarray as xr\n",
    "\n",
    "%matplotlib inline"
   ]
  },
  {
   "cell_type": "code",
   "execution_count": 3,
   "metadata": {},
   "outputs": [],
   "source": [
    "jmin, jmax = 159, 799\n",
    "imin, imax = 1139, 2179"
   ]
  },
  {
   "cell_type": "code",
   "execution_count": 4,
   "metadata": {},
   "outputs": [],
   "source": [
    "mask  = nc.Dataset('/ocean/brogalla/GEOTRACES/ariane_runs/ANHA12_Ariane_mesh.nc')\n",
    "tmask = np.array(mask.variables['tmask'])\n",
    "cond = (tmask[0,:,:,:] > 0.1) \n",
    "land_mask = np.ma.masked_where(cond, tmask[0,:,:,:])\n",
    "\n",
    "mesh  = nc.Dataset('/ocean/brogalla/GEOTRACES/data/ANHA12-EXH006_5d_gridT_y2002m01d05.nc')\n",
    "lons  = np.array(mesh.variables['nav_lon'])\n",
    "lats  = np.array(mesh.variables['nav_lat'])\n",
    "tmask = tmask[0,:,imin:imax,jmin:jmax]"
   ]
  },
  {
   "cell_type": "markdown",
   "metadata": {},
   "source": [
    "Parameterization for photo reduction:\n",
    "- Higher sol_flux means stronger photo reduction.\n",
    "- Background reduction value: 1\n",
    "- Photo-enhanced reduction value maximum: 58"
   ]
  },
  {
   "cell_type": "markdown",
   "metadata": {},
   "source": [
    "# Create forcing files"
   ]
  },
  {
   "cell_type": "code",
   "execution_count": 5,
   "metadata": {},
   "outputs": [],
   "source": [
    "def load_variables(filename):\n",
    "    a = nc.Dataset(filename)\n",
    "    \n",
    "    sol_flux = np.array(a.variables['iocesflx'][:,0,:,:])     \n",
    "    \n",
    "    return sol_flux"
   ]
  },
  {
   "cell_type": "code",
   "execution_count": 13,
   "metadata": {},
   "outputs": [],
   "source": [
    "def red_rate_calc(year):\n",
    "    sol_flux = load_variables(f'/data/brogalla/ANHA12/icemod_ave/ANHA12_EXH006_{year}_monthly.nc')\n",
    "    max_sol_flux  = sol_flux[:,imin:imax,jmin:jmax].max()\n",
    "    mean_sol_flux = sol_flux[:,imin:imax,jmin:jmax].mean()\n",
    "    \n",
    "    normalized_solar_flux = np.abs(sol_flux - mean_sol_flux)/max_sol_flux\n",
    "    red_rate = normalized_solar_flux * 58\n",
    "    \n",
    "    red_rate[red_rate < 1] = 1\n",
    "    red_rate[red_rate > 58] = 58\n",
    "    \n",
    "    return red_rate"
   ]
  },
  {
   "cell_type": "code",
   "execution_count": 8,
   "metadata": {},
   "outputs": [],
   "source": [
    "def save_file(year, red_multiplier):\n",
    "    \n",
    "    location='/data/brogalla/reduction_forcing/'\n",
    "    \n",
    "    for month in range(1,13):\n",
    "    \n",
    "        file_write = xr.Dataset(\n",
    "            {'kred': ((\"y\",\"x\"), red_multiplier[month-1,:,:])}, \n",
    "            coords = {\n",
    "                \"y\": np.zeros(2400),\n",
    "                \"x\": np.zeros(1632),\n",
    "            })\n",
    "\n",
    "        file_write.to_netcdf(f'{location}red_y{year}m{month:02}.nc')\n",
    "    \n",
    "    return"
   ]
  },
  {
   "cell_type": "code",
   "execution_count": null,
   "metadata": {},
   "outputs": [],
   "source": [
    "for year in range(2021,2022):\n",
    "    print(f'Calculation reduction rate multipliers for {year}')\n",
    "    red_multiplier_year = red_rate_calc(year)\n",
    "    save_file(year, red_multiplier_year)"
   ]
  },
  {
   "cell_type": "markdown",
   "metadata": {},
   "source": [
    "Check a file:"
   ]
  },
  {
   "cell_type": "code",
   "execution_count": null,
   "metadata": {},
   "outputs": [],
   "source": [
    "location='/data/brogalla/reduction_forcing/'\n",
    "file='red_y2021m09.nc'\n",
    "ds = nc.Dataset(f'{location}{file}')\n",
    "reduction=np.array(ds.variables['kred'])"
   ]
  },
  {
   "cell_type": "code",
   "execution_count": null,
   "metadata": {},
   "outputs": [],
   "source": [
    "print(np.amax(reduction), np.amin(reduction), np.average(reduction))"
   ]
  },
  {
   "cell_type": "code",
   "execution_count": null,
   "metadata": {},
   "outputs": [],
   "source": []
  }
 ],
 "metadata": {
  "kernelspec": {
   "display_name": "Python 3",
   "language": "python",
   "name": "python3"
  },
  "language_info": {
   "codemirror_mode": {
    "name": "ipython",
    "version": 3
   },
   "file_extension": ".py",
   "mimetype": "text/x-python",
   "name": "python",
   "nbconvert_exporter": "python",
   "pygments_lexer": "ipython3",
   "version": "3.6.11"
  }
 },
 "nbformat": 4,
 "nbformat_minor": 4
}
