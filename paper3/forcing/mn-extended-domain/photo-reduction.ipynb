{
 "cells": [
  {
   "cell_type": "markdown",
   "metadata": {},
   "source": [
    "# Create photoreduction forcing files"
   ]
  },
  {
   "cell_type": "code",
   "execution_count": 16,
   "metadata": {},
   "outputs": [],
   "source": [
    "import numpy as np\n",
    "import netCDF4 as nc\n",
    "import xarray as xr\n",
    "\n",
    "%matplotlib inline"
   ]
  },
  {
   "cell_type": "code",
   "execution_count": 17,
   "metadata": {},
   "outputs": [],
   "source": [
    "imin, imax = 1099, 2179\n",
    "jmin, jmax = 159, 799"
   ]
  },
  {
   "cell_type": "code",
   "execution_count": 18,
   "metadata": {},
   "outputs": [],
   "source": [
    "mask  = nc.Dataset('/ocean/brogalla/GEOTRACES/ariane_runs/ANHA12_Ariane_mesh.nc')\n",
    "tmask = np.array(mask.variables['tmask'])\n",
    "cond = (tmask[0,:,:,:] > 0.1) \n",
    "land_mask = np.ma.masked_where(cond, tmask[0,:,:,:])\n",
    "\n",
    "mesh  = nc.Dataset('/ocean/brogalla/GEOTRACES/data/ANHA12-EXH006_5d_gridT_y2002m01d05.nc')\n",
    "lons  = np.array(mesh.variables['nav_lon'])\n",
    "lats  = np.array(mesh.variables['nav_lat'])\n",
    "tmask = tmask[0,:,imin:imax,jmin:jmax]"
   ]
  },
  {
   "cell_type": "markdown",
   "metadata": {},
   "source": [
    "Parameterization for photo reduction:\n",
    "- Higher sol_flux means stronger photo reduction.\n",
    "- Background reduction value: 1\n",
    "- Photo-enhanced reduction value maximum: 58"
   ]
  },
  {
   "cell_type": "markdown",
   "metadata": {},
   "source": [
    "# Create forcing files"
   ]
  },
  {
   "cell_type": "code",
   "execution_count": 19,
   "metadata": {},
   "outputs": [],
   "source": [
    "def load_variables(filename):\n",
    "    a = nc.Dataset(filename)\n",
    "    \n",
    "    sol_flux = np.array(a.variables['iocesflx'][:,0,:,:])     \n",
    "    \n",
    "    return sol_flux"
   ]
  },
  {
   "cell_type": "code",
   "execution_count": 20,
   "metadata": {},
   "outputs": [],
   "source": [
    "def red_rate_calc(year):\n",
    "    sol_flux = load_variables(f'/data/brogalla/ANHA12/icemod_ave/ANHA12_EXH006_{year}_monthly.nc')\n",
    "    max_sol_flux  = sol_flux[:,imin:imax,jmin:jmax].max()\n",
    "    mean_sol_flux = sol_flux[:,imin:imax,jmin:jmax].mean()\n",
    "    \n",
    "    normalized_solar_flux = np.abs(sol_flux - mean_sol_flux)/max_sol_flux\n",
    "    red_rate = normalized_solar_flux * 58\n",
    "    \n",
    "    red_rate[red_rate < 1] = 1\n",
    "    red_rate[red_rate > 58] = 58\n",
    "    \n",
    "    return red_rate"
   ]
  },
  {
   "cell_type": "code",
   "execution_count": 21,
   "metadata": {},
   "outputs": [],
   "source": [
    "def save_file(year, red_multiplier):\n",
    "    \n",
    "    location='/data/brogalla/reduction_forcing/extended/'\n",
    "    \n",
    "    for month in range(1,13):\n",
    "    \n",
    "        file_write = xr.Dataset(\n",
    "            {'kred': ((\"y\",\"x\"), red_multiplier[month-1,:,:])}, \n",
    "            coords = {\n",
    "                \"y\": np.zeros(2400),\n",
    "                \"x\": np.zeros(1632),\n",
    "            })\n",
    "\n",
    "        file_write.to_netcdf(f'{location}red_y{year}m{month:02}.nc')\n",
    "    \n",
    "    return"
   ]
  },
  {
   "cell_type": "code",
   "execution_count": 22,
   "metadata": {},
   "outputs": [
    {
     "name": "stdout",
     "output_type": "stream",
     "text": [
      "Calculation reduction rate multipliers for 2002\n",
      "Calculation reduction rate multipliers for 2003\n",
      "Calculation reduction rate multipliers for 2004\n",
      "Calculation reduction rate multipliers for 2005\n",
      "Calculation reduction rate multipliers for 2006\n",
      "Calculation reduction rate multipliers for 2007\n",
      "Calculation reduction rate multipliers for 2008\n",
      "Calculation reduction rate multipliers for 2009\n",
      "Calculation reduction rate multipliers for 2010\n",
      "Calculation reduction rate multipliers for 2011\n",
      "Calculation reduction rate multipliers for 2012\n",
      "Calculation reduction rate multipliers for 2013\n",
      "Calculation reduction rate multipliers for 2014\n",
      "Calculation reduction rate multipliers for 2015\n",
      "Calculation reduction rate multipliers for 2016\n",
      "Calculation reduction rate multipliers for 2017\n",
      "Calculation reduction rate multipliers for 2018\n",
      "Calculation reduction rate multipliers for 2019\n"
     ]
    }
   ],
   "source": [
    "for year in range(2002,2020):\n",
    "    print(f'Calculation reduction rate multipliers for {year}')\n",
    "    red_multiplier_year = red_rate_calc(year)\n",
    "    save_file(year, red_multiplier_year)"
   ]
  },
  {
   "cell_type": "markdown",
   "metadata": {},
   "source": [
    "Check a file:"
   ]
  },
  {
   "cell_type": "code",
   "execution_count": 23,
   "metadata": {},
   "outputs": [],
   "source": [
    "location='/data/brogalla/reduction_forcing/extended/'\n",
    "file='red_y2002m09.nc'\n",
    "ds = nc.Dataset(f'{location}{file}')\n",
    "reduction=np.array(ds.variables['kred'])"
   ]
  },
  {
   "cell_type": "code",
   "execution_count": 24,
   "metadata": {},
   "outputs": [
    {
     "name": "stdout",
     "output_type": "stream",
     "text": [
      "58.0 1.0 13.190254\n"
     ]
    }
   ],
   "source": [
    "print(np.amax(reduction), np.amin(reduction), np.average(reduction))"
   ]
  },
  {
   "cell_type": "code",
   "execution_count": null,
   "metadata": {},
   "outputs": [],
   "source": []
  }
 ],
 "metadata": {
  "kernelspec": {
   "display_name": "Python 3",
   "language": "python",
   "name": "python3"
  },
  "language_info": {
   "codemirror_mode": {
    "name": "ipython",
    "version": 3
   },
   "file_extension": ".py",
   "mimetype": "text/x-python",
   "name": "python",
   "nbconvert_exporter": "python",
   "pygments_lexer": "ipython3",
   "version": "3.6.11"
  }
 },
 "nbformat": 4,
 "nbformat_minor": 4
}
