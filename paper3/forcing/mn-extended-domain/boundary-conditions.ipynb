{
 "cells": [
  {
   "cell_type": "markdown",
   "metadata": {},
   "source": [
    "# Create boundary conditions for Mn extended\n"
   ]
  },
  {
   "cell_type": "code",
   "execution_count": 1,
   "metadata": {},
   "outputs": [],
   "source": [
    "import matplotlib.pyplot as plt\n",
    "import netCDF4 as nc\n",
    "import numpy as np\n",
    "from mpl_toolkits.basemap import Basemap, cm\n",
    "import cmocean\n",
    "import pickle\n",
    "import scipy.ndimage as ndimage\n",
    "import xarray as xr\n",
    "\n",
    "%matplotlib inline"
   ]
  },
  {
   "cell_type": "markdown",
   "metadata": {},
   "source": [
    "Load extended domain"
   ]
  },
  {
   "cell_type": "code",
   "execution_count": 2,
   "metadata": {},
   "outputs": [],
   "source": [
    "mesh       = nc.Dataset('/ocean/brogalla/GEOTRACES/data/ANHA12/ANHA12_mesh1.nc')\n",
    "mesh_lon   = np.array(mesh.variables['nav_lon'])\n",
    "mesh_lat   = np.array(mesh.variables['nav_lat'])\n",
    "mesh_bathy = np.array(mesh.variables['hdept'])[0,:,:]\n",
    "mbathy     = np.array(mesh.variables['tmask'])[0,:,:]\n",
    "mesh_depth = np.array(mesh.variables['nav_lev'])"
   ]
  },
  {
   "cell_type": "code",
   "execution_count": 6,
   "metadata": {},
   "outputs": [],
   "source": [
    "m      = nc.Dataset('/data/brogalla/run_storage/Mn-reference-202110/ANHA12_ref-2002_20211012/'+\\\n",
    "                    'ANHA12_EXH006_2002_monthly.nc', 'r')\n",
    "mdepth = np.array(m.variables['deptht'])\n",
    "mlons  = np.array(m.variables['nav_lon'])\n",
    "mlats  = np.array(m.variables['nav_lat'])"
   ]
  },
  {
   "cell_type": "markdown",
   "metadata": {},
   "source": [
    "Boundary coordinates:"
   ]
  },
  {
   "cell_type": "code",
   "execution_count": 7,
   "metadata": {},
   "outputs": [],
   "source": [
    "imin, imax = 1099, 2179\n",
    "jmin, jmax = 159, 799\n",
    "\n",
    "isize = imax-imin\n",
    "jsize = jmax-jmin"
   ]
  },
  {
   "cell_type": "markdown",
   "metadata": {},
   "source": [
    "Load boundary conditions:"
   ]
  },
  {
   "cell_type": "code",
   "execution_count": 9,
   "metadata": {},
   "outputs": [],
   "source": [
    "North = xr.open_dataset('/ocean/brogalla/GEOTRACES/data/Mn_North_OBC_20210706.nc')\n",
    "East  = xr.open_dataset('/ocean/brogalla/GEOTRACES/data/Mn_East_OBC_20210706.nc')\n",
    "dMn_N = North['dMn'].values\n",
    "oMn_N = North['oMn'].values\n",
    "dMn_E = East['dMn'].values\n",
    "oMn_E = East['oMn'].values"
   ]
  },
  {
   "cell_type": "code",
   "execution_count": 10,
   "metadata": {},
   "outputs": [],
   "source": [
    "def flatten_input(var):\n",
    "    b = var[0,:,:].flatten()\n",
    "    for i in range(1,len(var)):\n",
    "        a = var[i,:,:].flatten()\n",
    "        b = np.vstack((b,a))\n",
    "    return b"
   ]
  },
  {
   "cell_type": "code",
   "execution_count": 11,
   "metadata": {},
   "outputs": [],
   "source": [
    "def create_boundary(rimwidth, boundary_dMn, boundary_oMn, bdy=''):\n",
    "    \n",
    "    dMn_O = flatten_input(boundary_dMn)\n",
    "    oMn_O = flatten_input(boundary_oMn)\n",
    "    \n",
    "    print(np.max(boundary_dMn.shape)*rimwidth, dMn_O.shape)\n",
    "    if bdy=='SE':\n",
    "        dMn_OBC = np.reshape(dMn_O, (1,50,1,boundary_dMn.shape[1]*rimwidth))\n",
    "        oMn_OBC = np.reshape(oMn_O, (1,50,1,boundary_dMn.shape[1]*rimwidth))\n",
    "    else:\n",
    "        dMn_OBC = np.reshape(dMn_O, (1,50,1,np.max(boundary_dMn.shape)*rimwidth))\n",
    "        oMn_OBC = np.reshape(oMn_O, (1,50,1,np.max(boundary_dMn.shape)*rimwidth))\n",
    "\n",
    "    return dMn_OBC, oMn_OBC"
   ]
  },
  {
   "cell_type": "code",
   "execution_count": 19,
   "metadata": {},
   "outputs": [],
   "source": [
    "def save_BC_file(name, dMn_BC, oMn_BC):\n",
    "    # Setup the new NetCDF file:\n",
    "    ncd = nc.Dataset(f'/ocean/brogalla/GEOTRACES/data/{name}', 'w', zlib=True)\n",
    "    ncd.createDimension('x', np.max(dMn_BC.shape))\n",
    "    ncd.createDimension('y',1)\n",
    "    ncd.createDimension('z',50)\n",
    "    ncd.createDimension('t',None)\n",
    "    \n",
    "    print(np.max(dMn_BC.shape))\n",
    "    \n",
    "    dMn = ncd.createVariable('dMn', 'float64', ('t','z','y','x'))\n",
    "    dMn.units = 'mol/L'\n",
    "    dMn.long_name = 'dissolved Mn'\n",
    "    dMn[:] = dMn_BC\n",
    "\n",
    "    oMn = ncd.createVariable('oMn', 'float64', ('t','z','y','x'))\n",
    "    oMn.units = 'mol/L'\n",
    "    oMn.long_name = 'oxidised Mn'\n",
    "    oMn[:] = oMn_BC\n",
    "    \n",
    "    ncd.close()\n",
    "    return"
   ]
  },
  {
   "cell_type": "code",
   "execution_count": 13,
   "metadata": {},
   "outputs": [],
   "source": [
    "def create_BC(label, bdy_coordinates):\n",
    "    \n",
    "    (bdyimin, bdyimax, bdyjmin, bdyjmax) = bdy_coordinates\n",
    "    \n",
    "    inif = nc.Dataset('/data/brogalla/run_storage/Mn-reference-202110/ANHA12_ref-spin-up3_20211012/'+\\\n",
    "                      'ANHA12_EXH006_2002_monthly.nc')\n",
    "    \n",
    "    if label=='S':\n",
    "        ini_dMn = np.array(inif.variables['dissolmn'])[5,0,:,bdyimin-imin:bdyimax-imin,bdyjmin-jmin:bdyjmax-jmin]\n",
    "        ini_oMn = np.array(inif.variables['oxidismn'])[5,0,:,bdyimin-imin:bdyimax-imin,bdyjmin-jmin:bdyjmax-jmin]\n",
    "\n",
    "        dMn_bdy1 = np.copy(ini_dMn); oMn_bdy1 = np.copy(ini_oMn);\n",
    "        \n",
    "    elif label=='SE':\n",
    "        ini_dMn = np.array(inif.variables['dissolmn'])[5,0,:,bdyimin-imin:bdyimax-imin,bdyjmin-jmin:bdyjmax-jmin]\n",
    "        ini_oMn = np.array(inif.variables['oxidismn'])[5,0,:,bdyimin-imin:bdyimax-imin,bdyjmin-jmin:bdyjmax-jmin]\n",
    "\n",
    "        dMn_bdy1 = np.copy(ini_dMn); oMn_bdy1 = np.copy(ini_oMn);\n",
    "\n",
    "    elif label=='W':\n",
    "        ini_dMn = np.array(inif.variables['dissolmn'])[5,0,:,bdyimin-imin:bdyimax-imin,bdyjmin-jmin:bdyjmax-jmin]\n",
    "        ini_oMn = np.array(inif.variables['oxidismn'])[5,0,:,bdyimin-imin:bdyimax-imin,bdyjmin-jmin:bdyjmax-jmin]\n",
    "\n",
    "        dMn_bdy1 = np.copy(ini_dMn); oMn_bdy1 = np.copy(ini_oMn);\n",
    "\n",
    "        \n",
    "    for z in range(0,50):\n",
    "        # Replace zero values:\n",
    "        dMn_bdy1[dMn_bdy1 == 0] = np.average(dMn_bdy1[z,:,:])\n",
    "        oMn_bdy1[oMn_bdy1 == 0] = np.average(oMn_bdy1[z,:,:])\n",
    "\n",
    "        # Replace ratios that are off:\n",
    "        dMn_bdy1[(dMn_bdy1/oMn_bdy1) > 50] = np.average(dMn_bdy1[z,:,:])\n",
    "        oMn_bdy1[(dMn_bdy1/oMn_bdy1) > 50] = np.average(oMn_bdy1[z,:,:])\n",
    "\n",
    "    print(dMn_bdy1.shape, mbathy.shape)\n",
    "    dMn_bdy1[(mbathy[:,bdyimin:bdyimax,bdyjmin:bdyjmax] < 0.1)] = 0.2e-9\n",
    "    oMn_bdy1[(mbathy[:,bdyimin:bdyimax,bdyjmin:bdyjmax] < 0.1)] = 0.2e-9\n",
    "\n",
    "    # Filter to smoothe out the forcing\n",
    "    dMn_bdy = ndimage.gaussian_filter(dMn_bdy1, sigma=4, order=0)\n",
    "    oMn_bdy = ndimage.gaussian_filter(oMn_bdy1, sigma=4, order=0)\n",
    "\n",
    "    return dMn_bdy, oMn_bdy"
   ]
  },
  {
   "cell_type": "code",
   "execution_count": 14,
   "metadata": {},
   "outputs": [],
   "source": [
    "rimwidthS  = 10\n",
    "rimwidthSE = 20\n",
    "rimwidthW  = 10"
   ]
  },
  {
   "cell_type": "code",
   "execution_count": 15,
   "metadata": {},
   "outputs": [],
   "source": [
    "N_coordinates  = ((2168, 2178, 201, 798))\n",
    "E_coordinates  = ((1481, 2178, 778, 798))\n",
    "SE_coordinates = ((imin+1, imin+36, 680, 680+rimwidthSE))\n",
    "S_coordinates  = ((imin, imin+rimwidthS, 442, 681))\n",
    "W_coordinates  = ((1190, 1474, 292, 292+rimwidthW))"
   ]
  },
  {
   "cell_type": "markdown",
   "metadata": {},
   "source": [
    "# Create boundary conditions:"
   ]
  },
  {
   "cell_type": "code",
   "execution_count": 16,
   "metadata": {},
   "outputs": [
    {
     "name": "stdout",
     "output_type": "stream",
     "text": [
      "(50, 284, 10) (50, 2400, 1632)\n",
      "(50, 10, 239) (50, 2400, 1632)\n",
      "(50, 35, 20) (50, 2400, 1632)\n"
     ]
    },
    {
     "name": "stderr",
     "output_type": "stream",
     "text": [
      "/home/brogalla/miniconda3/envs/julab/lib/python3.6/site-packages/ipykernel_launcher.py:33: RuntimeWarning: invalid value encountered in true_divide\n",
      "/home/brogalla/miniconda3/envs/julab/lib/python3.6/site-packages/ipykernel_launcher.py:34: RuntimeWarning: invalid value encountered in true_divide\n"
     ]
    }
   ],
   "source": [
    "dMn_west,      oMn_west      = create_BC('W' , W_coordinates)\n",
    "dMn_south,     oMn_south     = create_BC('S' , S_coordinates)\n",
    "dMn_southeast, oMn_southeast = create_BC('SE', SE_coordinates)"
   ]
  },
  {
   "cell_type": "code",
   "execution_count": 18,
   "metadata": {
    "scrolled": true
   },
   "outputs": [
    {
     "name": "stdout",
     "output_type": "stream",
     "text": [
      "2840 (50, 2840)\n",
      "2390 (50, 2390)\n",
      "1000 (50, 700)\n"
     ]
    }
   ],
   "source": [
    "dMn_west_BC     , oMn_west_BC      = create_boundary(rimwidthW, dMn_west, oMn_west)\n",
    "dMn_south_BC    , oMn_south_BC     = create_boundary(rimwidthS, dMn_south, oMn_south)\n",
    "dMn_southeast_BC, oMn_southeast_BC = create_boundary(rimwidthSE, dMn_southeast, oMn_southeast, bdy='SE')"
   ]
  },
  {
   "cell_type": "code",
   "execution_count": 20,
   "metadata": {},
   "outputs": [
    {
     "name": "stdout",
     "output_type": "stream",
     "text": [
      "700\n"
     ]
    }
   ],
   "source": [
    "save_BC_file('Mn_Southeast_OBC_extended.nc', dMn_southeast_BC, oMn_southeast_BC)"
   ]
  },
  {
   "cell_type": "code",
   "execution_count": 21,
   "metadata": {},
   "outputs": [
    {
     "name": "stdout",
     "output_type": "stream",
     "text": [
      "2390\n"
     ]
    }
   ],
   "source": [
    "save_BC_file('Mn_South_OBC_extended.nc', dMn_south_BC, oMn_south_BC)"
   ]
  },
  {
   "cell_type": "code",
   "execution_count": 22,
   "metadata": {},
   "outputs": [
    {
     "name": "stdout",
     "output_type": "stream",
     "text": [
      "2840\n"
     ]
    }
   ],
   "source": [
    "save_BC_file('Mn_West_OBC_extended.nc', dMn_west_BC, oMn_west_BC)"
   ]
  },
  {
   "cell_type": "code",
   "execution_count": null,
   "metadata": {},
   "outputs": [],
   "source": []
  }
 ],
 "metadata": {
  "kernelspec": {
   "display_name": "Python 3",
   "language": "python",
   "name": "python3"
  },
  "language_info": {
   "codemirror_mode": {
    "name": "ipython",
    "version": 3
   },
   "file_extension": ".py",
   "mimetype": "text/x-python",
   "name": "python",
   "nbconvert_exporter": "python",
   "pygments_lexer": "ipython3",
   "version": "3.6.11"
  }
 },
 "nbformat": 4,
 "nbformat_minor": 4
}
