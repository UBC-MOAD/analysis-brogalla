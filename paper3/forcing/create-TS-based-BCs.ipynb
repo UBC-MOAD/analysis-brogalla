{
 "cells": [
  {
   "cell_type": "markdown",
   "metadata": {},
   "source": [
    "## Create monthly boundary condition forcing files based on Temperature and Salinity"
   ]
  },
  {
   "cell_type": "code",
   "execution_count": 1,
   "metadata": {},
   "outputs": [],
   "source": [
    "import netCDF4 as nc\n",
    "import numpy as np\n",
    "import pandas as pd\n",
    "import matplotlib\n",
    "import xarray as xr\n",
    "\n",
    "%matplotlib inline"
   ]
  },
  {
   "cell_type": "markdown",
   "metadata": {},
   "source": [
    "#### Parameters"
   ]
  },
  {
   "cell_type": "code",
   "execution_count": 2,
   "metadata": {},
   "outputs": [],
   "source": [
    "# domain dimensions:\n",
    "imin, imax = 1139, 2179\n",
    "jmin, jmax = 159, 799\n",
    "\n",
    "# Rimwidths:\n",
    "rimwidthN  = 10\n",
    "rimwidthS  = 10\n",
    "rimwidthW  = 10\n",
    "rimwidthE  = 20\n",
    "\n",
    "# Boundary coordinates: (i1,i2,j1,j2)\n",
    "bdy_NCB = (1598,2177,778,798) # Northern Canada Basin \n",
    "bdy_WCB = (2168,2178,390,797) # Western Canada Basin \n",
    "bdy_LS  = (1140,1150,446,672) # Baffin Bay\n",
    "bdy_HB  = (1190,1472,291,301) # Hudson Bay"
   ]
  },
  {
   "cell_type": "code",
   "execution_count": 3,
   "metadata": {},
   "outputs": [
    {
     "name": "stdout",
     "output_type": "stream",
     "text": [
      "Python boundary dimensions (should be same length):\n",
      "nCB dimensions:  579 20\n",
      "wCB dimensions:  10 407\n",
      "LS dimensions:  10 226\n",
      "HB dimensions:  282 10\n"
     ]
    }
   ],
   "source": [
    "print('Python boundary dimensions (should be same length):')\n",
    "print('nCB dimensions: ', bdy_NCB[1]-bdy_NCB[0],  bdy_NCB[3]-bdy_NCB[2])\n",
    "print('wCB dimensions: ', bdy_WCB[1]-bdy_WCB[0],  bdy_WCB[3]-bdy_WCB[2])\n",
    "print('LS dimensions: ', bdy_LS[1]-bdy_LS[0],  bdy_LS[3]-bdy_LS[2])\n",
    "print('HB dimensions: ', bdy_HB[1]-bdy_HB[0],  bdy_HB[3]-bdy_HB[2]) # index in 0:5 should be one longer"
   ]
  },
  {
   "cell_type": "code",
   "execution_count": 4,
   "metadata": {},
   "outputs": [
    {
     "name": "stdout",
     "output_type": "stream",
     "text": [
      "Fortran boundary dimensions\n",
      "nCB dimensions:  578\n",
      "wCB dimensions:  406\n",
      "LS dimensions:  225\n",
      "HB dimensions:  281\n"
     ]
    }
   ],
   "source": [
    "print('Fortran boundary dimensions')\n",
    "print('nCB dimensions: ', 1038-460) # 638\n",
    "print('wCB dimensions: ', 638-232) # 1038\n",
    "print('LS dimensions: ', 513-288) # 2\n",
    "print('HB dimensions: ', 333-52) # 133"
   ]
  },
  {
   "cell_type": "markdown",
   "metadata": {},
   "source": [
    "#### Files"
   ]
  },
  {
   "cell_type": "code",
   "execution_count": 5,
   "metadata": {},
   "outputs": [],
   "source": [
    "mesh         = nc.Dataset('/ocean/brogalla/GEOTRACES/data/ANHA12/ANHA12_mask_Pb-20220317.nc')\n",
    "mesh_lon     = np.array(mesh.variables['nav_lon'])\n",
    "mesh_lat     = np.array(mesh.variables['nav_lat'])\n",
    "mesh_bathy   = np.array(mesh.variables['tmask'][0,:,:,:])\n",
    "bathy_masked = np.ma.masked_where((mesh_bathy> 0.1), mesh_bathy)\n",
    "ocean_masked = np.ma.masked_where((mesh_bathy<0.1), mesh_bathy)\n",
    "depths       = np.array(mesh.variables['nav_lev'])"
   ]
  },
  {
   "cell_type": "markdown",
   "metadata": {},
   "source": [
    "#### Functions"
   ]
  },
  {
   "cell_type": "code",
   "execution_count": 16,
   "metadata": {},
   "outputs": [],
   "source": [
    "def load_climatology(year, month):        \n",
    "    # load year 2015 climatology of ANHA12 gridT file:\n",
    "    df_gridT = xr.open_dataset(f'/data/brogalla/ANHA12/new_averages/gridT_{year}_{month}.nc')\n",
    "    \n",
    "    bdy_temp = df_gridT['votemper'].values[:,:,:]\n",
    "    bdy_sal  = df_gridT['vosaline'].values[:,:,:]\n",
    "    \n",
    "    return bdy_temp, bdy_sal"
   ]
  },
  {
   "cell_type": "code",
   "execution_count": 7,
   "metadata": {},
   "outputs": [],
   "source": [
    "def create_LS_BC(bdy_temp, bdy_sal, bdy_depth, mask=False):\n",
    "    # Pb end-members:\n",
    "    BBDW_Pb   = 2e-12  # Baffin Bay deep water Pb\n",
    "    AO_Pb     = 6e-12  # Arctic water Pb\n",
    "    AW_Pb     = 30e-12 # Atlantic water Pb\n",
    "    AOAW_Pb   = 25e-12 # Arctic-outflow Atlantic water Pb\n",
    "    AW_temp   = 5.2    # Atlantic Water temperature\n",
    "    BBDW_temp = 2.5    # Baffin Bay deep water temperature \n",
    "    AW_sal    = 35.2   # Atlantic Water salinity\n",
    "    PML_hot_Pb = 30e-12 # summer polar mixed layer Pb\n",
    "\n",
    "    # Linear interpolate salinity endpoints:\n",
    "    end_sal = [34.0, AW_sal]\n",
    "    end_dPb = [AO_Pb, AOAW_Pb]\n",
    "    dPb_BC  = np.interp(bdy_sal, end_sal, end_dPb)\n",
    "        \n",
    "    # Baffin Bay deep water:\n",
    "    end_temp_BBDW = [BBDW_temp, AW_temp]\n",
    "    end_dPb_BBDW  = [BBDW_Pb, AOAW_Pb]\n",
    "    dPb_BC[(bdy_sal > 34.75) & (bdy_temp <= 4.9)] = np.interp(bdy_temp[(bdy_sal > 34.75) & (bdy_temp <= 4.9)], \\\n",
    "                                                                  end_temp_BBDW, end_dPb_BBDW)    \n",
    " \n",
    "    # Polar Mixed Layer:\n",
    "    if mask: # mask summer solar heating influence:\n",
    "        for row in range(0,10):\n",
    "            for loc in range(0,225):\n",
    "                for dep in range(0,50):\n",
    "                    if (dep < 24) & (dPb_BC[dep,row,loc] > 15e-12):\n",
    "                        if np.nanmean(dPb_BC[dep:56-dep,row,loc]) < dPb_BC[dep,row,loc]:\n",
    "                            dPb_BC[dep,row,loc] = np.nanmean(dPb_BC[dep:56-dep,row,loc])\n",
    "    \n",
    "    # Atlantic Water off Greenland:\n",
    "    grid = 150 # Grid point of central BB\n",
    "    boundary_sal = 35.0 # salinity of outer-edge of Atlantic Water core off Greenland\n",
    "    end_sal_AW   = [boundary_sal, AW_sal]\n",
    "    end_dPb_AW   = [AOAW_Pb, AW_Pb]\n",
    "    dPb_BC[:,:,grid:][(bdy_sal[:,:,grid:] > boundary_sal) & (bdy_temp[:,:,grid:] > AW_temp)] =  \\\n",
    "        np.interp(bdy_sal[:,:,grid:][(bdy_sal[:,:,grid:] > boundary_sal) & (bdy_temp[:,:,grid:] > AW_temp)], end_sal_AW, end_dPb_AW)\n",
    "\n",
    "    return dPb_BC"
   ]
  },
  {
   "cell_type": "code",
   "execution_count": 8,
   "metadata": {},
   "outputs": [],
   "source": [
    "def create_AO_BC(bdy_temp, bdy_sal):\n",
    "    # Pb end-members:\n",
    "    PML_Pb   = 3e-12   # Polar Mixed Layer Pb\n",
    "    ACW_Pb   = 8e-12  # Alaskan Coastal Water Pb\n",
    "    wBSW_Pb  = 3e-12   # Winter Bering Sea Water Pb\n",
    "    AL_Pb    = 5e-12   # Atlantic Water Pb\n",
    "    CBDW_Pb  = 2e-12   # Canada Basin deep water Pb\n",
    "    \n",
    "    PML_sal   = 29      # Polar mixed layer salinity max\n",
    "    PML_temp  = 0       # Polar mixed layer temperature\n",
    "    ACW_sal   = 32.5    # ACW salinity\n",
    "    ACW_temp  = 2.5       # ACW temperature\n",
    "    wBSW_temp = 34.8    # Winter Bering Sea Water temperature\n",
    "    wBSW_sal  = 32.5    # Winter Bering Sea Water salinity\n",
    "    AL_temp   = 0.1     # Atlantic Water temperature min\n",
    "    AL_sal    = 34.8    # Atlantic Water salinity min\n",
    "    CBDW_temp = -0.5    # Canada Basin deep water temperature\n",
    "    CBDW_sal  = 35.0    # Canada Basin deep water salinity\n",
    "    \n",
    "    # Linear interpolate endpoints between PML and ACW:\n",
    "    end_temp = [PML_temp, ACW_temp]\n",
    "    end_dPb = [PML_Pb, ACW_Pb]\n",
    "    dPb_BC  = np.interp(bdy_temp, end_temp, end_dPb)\n",
    "\n",
    "    # wBSW to AL\n",
    "    end_sal_AL = [wBSW_sal, AL_sal]\n",
    "    end_dPb_AL = [wBSW_Pb, AL_Pb]\n",
    "    dPb_BC[(bdy_sal > wBSW_sal) & (bdy_sal < AL_sal)] = np.interp(bdy_sal[(bdy_sal > wBSW_sal) & (bdy_sal < AL_sal)], \\\n",
    "                                                                  end_sal_AL, end_dPb_AL)\n",
    "    \n",
    "    # AL to CBDW\n",
    "    end_temp_CBDW = [CBDW_temp, AL_temp]\n",
    "    end_dPb_CBDW  = [CBDW_Pb, AL_Pb]\n",
    "    dPb_BC[(bdy_sal > AL_sal)] = np.interp(bdy_temp[(bdy_sal > AL_sal)], end_temp_CBDW, end_dPb_CBDW)\n",
    "    \n",
    "    \n",
    "    return dPb_BC"
   ]
  },
  {
   "cell_type": "code",
   "execution_count": 9,
   "metadata": {},
   "outputs": [],
   "source": [
    "def create_HB_BC(bdy_temp, bdy_sal):\n",
    "    # Pb end-members:\n",
    "    PML_Pb   = 3e-12   # Polar Mixed Layer Pb\n",
    "    AL_Pb    = 5e-12   # Atlantic Water Pb\n",
    "    \n",
    "    PML_sal   = 29      # Polar mixed layer salinity max\n",
    "    AL_sal    = 34.8    # Atlantic Water salinity min\n",
    "    \n",
    "    # Linear interpolate endpoints between PML and ACW:\n",
    "    end_sal = [PML_sal, AL_sal]\n",
    "    end_dPb = [PML_Pb, AL_Pb]\n",
    "    dPb_BC  = np.interp(bdy_sal, end_sal, end_dPb)\n",
    "\n",
    "    return dPb_BC"
   ]
  },
  {
   "cell_type": "code",
   "execution_count": 10,
   "metadata": {},
   "outputs": [],
   "source": [
    "def flatten_input(var, order):\n",
    "    b = var[0,:,:].flatten(order=order)\n",
    "    for i in range(1,len(var)):\n",
    "        a = var[i,:,:].flatten(order=order)\n",
    "        b = np.vstack((b,a))\n",
    "    return b"
   ]
  },
  {
   "cell_type": "code",
   "execution_count": 11,
   "metadata": {},
   "outputs": [],
   "source": [
    "def reshape_boundary(rimwidth, boundary_dPb, order):\n",
    "    \n",
    "    dPb_O = flatten_input(boundary_dPb, order)\n",
    "    \n",
    "    dPb_OBC = np.reshape(dPb_O, (1,50,1,np.max(boundary_dPb.shape)*rimwidth))\n",
    "\n",
    "    return dPb_OBC"
   ]
  },
  {
   "cell_type": "code",
   "execution_count": 20,
   "metadata": {},
   "outputs": [],
   "source": [
    "def save_file(year, month):    \n",
    "    file_write = xr.Dataset(\n",
    "        {'dPb_N' : ((\"time_counter\",\"deptht\",\"y\",\"x1\"), dPb_north_BC), \\\n",
    "         'dPb_S' : ((\"time_counter\",\"deptht\",\"y\",\"x2\"), dPb_south_BC), \\\n",
    "         'dPb_E' : ((\"time_counter\",\"deptht\",\"y\",\"x3\"), dPb_east_BC), \\\n",
    "         'dPb_W' : ((\"time_counter\",\"deptht\",\"y\",\"x4\"), dPb_west_BC)}, \n",
    "        coords = {\n",
    "            \"time_counter\": np.zeros(1),\n",
    "            \"deptht\": np.zeros(50),\n",
    "            \"y\": np.zeros(1),\n",
    "            \"x1\": np.zeros(np.max(dPb_north_BC.shape)),\n",
    "            \"x2\": np.zeros(np.max(dPb_south_BC.shape)),\n",
    "            \"x3\": np.zeros(np.max(dPb_east_BC.shape)),\n",
    "            \"x4\": np.zeros(np.max(dPb_west_BC.shape))\n",
    "        },\n",
    "    )\n",
    "    file_write.to_netcdf(f'/ocean/brogalla/GEOTRACES/data/Pb-202209-forcing/Pb_OBC_y{year}m{month:02}.nc', \\\n",
    "                         unlimited_dims='time_counter')\n",
    "    \n",
    "    return"
   ]
  },
  {
   "cell_type": "markdown",
   "metadata": {},
   "source": [
    "#### Calculate"
   ]
  },
  {
   "cell_type": "code",
   "execution_count": 33,
   "metadata": {},
   "outputs": [],
   "source": [
    "# Load climatology conditions: \n",
    "year = 2005\n",
    "\n",
    "LS_T  = np.zeros((12,50,bdy_LS[1]-bdy_LS[0],bdy_LS[3]-bdy_LS[2]));     LS_S  = np.zeros((12,50,bdy_LS[1]-bdy_LS[0],bdy_LS[3]-bdy_LS[2]));\n",
    "nCB_T = np.zeros((12,50,bdy_NCB[1]-bdy_NCB[0],bdy_NCB[3]-bdy_NCB[2])); nCB_S = np.zeros((12,50,bdy_NCB[1]-bdy_NCB[0],bdy_NCB[3]-bdy_NCB[2]));\n",
    "wCB_T = np.zeros((12,50,bdy_WCB[1]-bdy_WCB[0],bdy_WCB[3]-bdy_WCB[2])); wCB_S = np.zeros((12,50,bdy_WCB[1]-bdy_WCB[0],bdy_WCB[3]-bdy_WCB[2]));\n",
    "HB_T  = np.zeros((12,50,bdy_HB[1]-bdy_HB[0],bdy_HB[3]-bdy_HB[2]));     HB_S  = np.zeros((12,50,bdy_HB[1]-bdy_HB[0],bdy_HB[3]-bdy_HB[2]));\n",
    "\n",
    "for month in range(1,13):\n",
    "    temp, sal  = load_climatology(year, f'{month:02}')\n",
    "    \n",
    "    LS_T[month-1,:,:,:]  = temp[:,bdy_LS[0]:bdy_LS[1],bdy_LS[2]:bdy_LS[3]]\n",
    "    LS_S[month-1,:,:,:]  = sal[:,bdy_LS[0]:bdy_LS[1],bdy_LS[2]:bdy_LS[3]]\n",
    "    nCB_T[month-1,:,:,:] = temp[:,bdy_NCB[0]:bdy_NCB[1],bdy_NCB[2]:bdy_NCB[3]]\n",
    "    nCB_S[month-1,:,:,:] = sal[:,bdy_NCB[0]:bdy_NCB[1],bdy_NCB[2]:bdy_NCB[3]]\n",
    "    wCB_T[month-1,:,:,:] = temp[:,bdy_WCB[0]:bdy_WCB[1],bdy_WCB[2]:bdy_WCB[3]]\n",
    "    wCB_S[month-1,:,:,:] = sal[:,bdy_WCB[0]:bdy_WCB[1],bdy_WCB[2]:bdy_WCB[3]]\n",
    "    HB_T[month-1,:,:,:]  = temp[:,bdy_HB[0]:bdy_HB[1],bdy_HB[2]:bdy_HB[3]] \n",
    "    HB_S[month-1,:,:,:]  = sal[:,bdy_HB[0]:bdy_HB[1],bdy_HB[2]:bdy_HB[3]]"
   ]
  },
  {
   "cell_type": "code",
   "execution_count": 34,
   "metadata": {},
   "outputs": [],
   "source": [
    "# Create boundary conditions:\n",
    "LS_depth = np.tile(depths, (bdy_LS[3]-bdy_LS[2],rimwidthS,1)).transpose()\n",
    "dPb_LS   = np.zeros((12,50,bdy_LS[1]-bdy_LS[0],bdy_LS[3]-bdy_LS[2]))\n",
    "dPb_nCB  = np.zeros((12,50,bdy_NCB[1]-bdy_NCB[0],bdy_NCB[3]-bdy_NCB[2]))\n",
    "dPb_wCB  = np.zeros((12,50,bdy_WCB[1]-bdy_WCB[0],bdy_WCB[3]-bdy_WCB[2]))\n",
    "dPb_HB   = np.zeros((12,50,bdy_HB[1]-bdy_HB[0],bdy_HB[3]-bdy_HB[2]))\n",
    "\n",
    "for month in range(1,13):\n",
    "    if (month > 5) & (month < 12):\n",
    "        dPb_LS[month-1,:,:,:]  = create_LS_BC(LS_T[month-1] , LS_S[month-1], LS_depth, mask=True)\n",
    "    else:\n",
    "        dPb_LS[month-1,:,:,:]  = create_LS_BC(LS_T[month-1] , LS_S[month-1], LS_depth, mask=False)\n",
    "    dPb_nCB[month-1,:,:,:] = create_AO_BC(nCB_T[month-1], nCB_S[month-1])\n",
    "    dPb_wCB[month-1,:,:,:] = create_AO_BC(wCB_T[month-1], wCB_S[month-1])\n",
    "    dPb_HB[month-1,:,:,:]  = create_HB_BC(HB_T[month-1] , HB_S[month-1])\n",
    "    \n",
    "dPb_LS[np.isnan(dPb_LS)]   = 3e-12\n",
    "dPb_nCB[np.isnan(dPb_nCB)] = 3e-12\n",
    "dPb_wCB[np.isnan(dPb_wCB)] = 3e-12\n",
    "dPb_HB[np.isnan(dPb_HB)]   = 3e-12\n",
    "\n",
    "## or base on bathy"
   ]
  },
  {
   "cell_type": "code",
   "execution_count": 35,
   "metadata": {},
   "outputs": [],
   "source": [
    "dPb_wCBr = np.flip(dPb_wCB, axis=2)\n",
    "dPb_nCBr = np.flip(dPb_nCB, axis=3)"
   ]
  },
  {
   "cell_type": "markdown",
   "metadata": {},
   "source": [
    "#### Reshape boundary conditions and write to file"
   ]
  },
  {
   "cell_type": "code",
   "execution_count": 36,
   "metadata": {},
   "outputs": [],
   "source": [
    "for month in range(1,13):\n",
    "    dPb_north_BC = reshape_boundary(rimwidthN, dPb_wCBr[month-1], 'C')\n",
    "    dPb_east_BC  = reshape_boundary(rimwidthE, dPb_nCBr[month-1], 'F')\n",
    "    dPb_south_BC = reshape_boundary(rimwidthS, dPb_LS[month-1], 'C')\n",
    "    dPb_west_BC  = reshape_boundary(rimwidthW, dPb_HB[month-1], 'F')\n",
    "    \n",
    "    save_file(year, month)"
   ]
  },
  {
   "cell_type": "code",
   "execution_count": 37,
   "metadata": {},
   "outputs": [
    {
     "name": "stdout",
     "output_type": "stream",
     "text": [
      "North BC # of NaNs: 0\n",
      "East BC # of NaNs:  0\n",
      "South BC # of NaNs: 0\n",
      "West BC # of NaNs:  0\n"
     ]
    }
   ],
   "source": [
    "# Check that there are no NaN values in the files:\n",
    "print('North BC # of NaNs:', sum(dPb_north_BC[np.isnan(dPb_north_BC)]))\n",
    "print('East BC # of NaNs: ', sum(dPb_east_BC[np.isnan(dPb_east_BC)]))\n",
    "print('South BC # of NaNs:', sum(dPb_south_BC[np.isnan(dPb_south_BC)]))\n",
    "print('West BC # of NaNs: ', sum(dPb_west_BC[np.isnan(dPb_west_BC)]))"
   ]
  },
  {
   "cell_type": "code",
   "execution_count": null,
   "metadata": {},
   "outputs": [],
   "source": []
  }
 ],
 "metadata": {
  "kernelspec": {
   "display_name": "Python 3",
   "language": "python",
   "name": "python3"
  },
  "language_info": {
   "codemirror_mode": {
    "name": "ipython",
    "version": 3
   },
   "file_extension": ".py",
   "mimetype": "text/x-python",
   "name": "python",
   "nbconvert_exporter": "python",
   "pygments_lexer": "ipython3",
   "version": "3.6.11"
  }
 },
 "nbformat": 4,
 "nbformat_minor": 4
}
