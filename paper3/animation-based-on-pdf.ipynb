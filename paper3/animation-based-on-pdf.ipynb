{
 "cells": [
  {
   "cell_type": "markdown",
   "metadata": {},
   "source": [
    "# Produce grid of monthly Pb fields"
   ]
  },
  {
   "cell_type": "code",
   "execution_count": 1,
   "metadata": {},
   "outputs": [],
   "source": [
    "import matplotlib.pyplot as plt\n",
    "import netCDF4 as nc\n",
    "import numpy as np\n",
    "from mpl_toolkits.basemap import Basemap, cm\n",
    "import cmocean\n",
    "import pickle\n",
    "import matplotlib\n",
    "import xarray as xr\n",
    "import glob\n",
    "import matplotlib.backends.backend_pdf\n",
    "\n",
    "%matplotlib inline"
   ]
  },
  {
   "cell_type": "markdown",
   "metadata": {},
   "source": [
    "#### Parameters:"
   ]
  },
  {
   "cell_type": "code",
   "execution_count": 2,
   "metadata": {},
   "outputs": [],
   "source": [
    "# domain dimensions:\n",
    "jmin, jmax = 159, 799\n",
    "imin, imax = 1139, 2179\n",
    "jsize=jmax-jmin\n",
    "isize=imax-imin\n",
    "\n",
    "# Resolution of grid cells to show in figure:\n",
    "grid_reso  = 10\n",
    "\n",
    "land_color  = '#a9a7a2'"
   ]
  },
  {
   "cell_type": "markdown",
   "metadata": {},
   "source": [
    "#### Load files:"
   ]
  },
  {
   "cell_type": "code",
   "execution_count": 3,
   "metadata": {},
   "outputs": [],
   "source": [
    "mfile        = xr.open_dataset('/ocean/brogalla/GEOTRACES/data/ANHA12/ANHA12_mask_Pb-20230213.nc')\n",
    "mesh_lon     = mfile['nav_lon'].values\n",
    "mesh_lat     = mfile['nav_lat'].values\n",
    "mask         = mfile['tmask'].values[0]\n",
    "mesh_bathy   = mfile['tmask'].values[0,:,:,:]\n",
    "bathy_masked = np.ma.masked_where((mesh_bathy> 0.1), mesh_bathy)\n",
    "mesh_depth   = mfile['nav_lev'].values"
   ]
  },
  {
   "cell_type": "code",
   "execution_count": 4,
   "metadata": {},
   "outputs": [],
   "source": [
    "files = glob.glob(f'/data/brogalla/run_storage/Pb-tuning-202302/Pb-Hudson-Bay-2002_20230217/ANHA12_EXH006_5d_*')"
   ]
  },
  {
   "cell_type": "code",
   "execution_count": 5,
   "metadata": {},
   "outputs": [],
   "source": [
    "years  = np.arange(2002,2009,1)\n",
    "files1 = []; files2 = [];\n",
    "for year in years:\n",
    "    folder1 = f'/data/brogalla/run_storage/Pb-tuning-202302/Pb-Hudson-Bay-{year}_20230217/'\n",
    "    folder2 = f'/data/brogalla/run_storage/Pb-tuning-202302/Pb-Labrador-Sea-{year}_20230217/'\n",
    "        \n",
    "    files1 = np.append(files1, np.sort(glob.glob(f'{folder1}/ANHA12_EXH006_5d_*')))\n",
    "    files2 = np.append(files2, np.sort(glob.glob(f'{folder2}/ANHA12_EXH006_5d_*')))"
   ]
  },
  {
   "cell_type": "code",
   "execution_count": 6,
   "metadata": {},
   "outputs": [],
   "source": [
    "dates1 = [file.split('ptrc_T_')[1][0:-3] for file in files1]\n",
    "dates2 = [file.split('ptrc_T_')[1][0:-3] for file in files2]"
   ]
  },
  {
   "cell_type": "markdown",
   "metadata": {},
   "source": [
    "#### Functions"
   ]
  },
  {
   "cell_type": "code",
   "execution_count": 7,
   "metadata": {},
   "outputs": [],
   "source": [
    "def plot_layer(file1, file2, n, layer=0, vmin=0, vmax=30):\n",
    "    \n",
    "    fig, ax, proj1 = pickle.load(open('/ocean/brogalla/GEOTRACES/pickles/LS.pickle','rb'))\n",
    "    x, y = proj1(mesh_lon[imin:imax,jmin:jmax], mesh_lat[imin:imax,jmin:jmax]) \n",
    "    \n",
    "    with xr.open_dataset(f'{file1}') as f:\n",
    "        f1 = f['dissolpb'].values[0,layer,:,:]\n",
    "    with xr.open_dataset(f'{file2}') as f:\n",
    "        f2 = f['dissolpb'].values[0,layer,:,:]\n",
    "    \n",
    "    CB = proj1.pcolormesh(x, y, (f2-f1)*1e12, cmap=cmocean.cm.thermal, vmin=vmin, vmax=vmax, ax=ax, rasterized=True) \n",
    "   \n",
    "    proj1.contourf(x, y, bathy_masked[layer,imin:imax,jmin:jmax], colors=[land_color], zorder=2, ax=ax) # Mask land at particular depth\n",
    "\n",
    "    ax.set_title(f'{dates1[n]}', fontsize=6)\n",
    "    \n",
    "    # Color bar: --------------------------------------------------------------------------------\n",
    "    cbaxes = fig.add_axes([0.10, 0.15, 0.02, 0.38]);\n",
    "    CBar   = plt.colorbar(CB, cax=cbaxes); \n",
    "    CBar.set_label('Dissolved Pb [pM]', fontsize=7)\n",
    "    CBar.ax.tick_params(axis='y', length=0, labelsize=7)\n",
    "    return fig"
   ]
  },
  {
   "cell_type": "markdown",
   "metadata": {
    "tags": []
   },
   "source": [
    "#### Figure:"
   ]
  },
  {
   "cell_type": "code",
   "execution_count": null,
   "metadata": {},
   "outputs": [],
   "source": [
    "depth = 10\n",
    "fig_store = {}\n",
    "for n, date in enumerate(dates1):\n",
    "    fig_store[f'{date}'] = plot_layer(files1[n], files2[n], n, layer=depth, vmin=0, vmax=1)    "
   ]
  },
  {
   "cell_type": "code",
   "execution_count": 9,
   "metadata": {},
   "outputs": [],
   "source": [
    "pdf = matplotlib.backends.backend_pdf.PdfPages(\"/ocean/brogalla/GEOTRACES/figures/Pb-Baffin-Bay-Atlantic.pdf\")\n",
    "for date in dates1:\n",
    "    pdf.savefig(fig_store[f'{date}'])\n",
    "pdf.close()"
   ]
  },
  {
   "cell_type": "code",
   "execution_count": null,
   "metadata": {},
   "outputs": [],
   "source": []
  }
 ],
 "metadata": {
  "kernelspec": {
   "display_name": "Python 3",
   "language": "python",
   "name": "python3"
  },
  "language_info": {
   "codemirror_mode": {
    "name": "ipython",
    "version": 3
   },
   "file_extension": ".py",
   "mimetype": "text/x-python",
   "name": "python",
   "nbconvert_exporter": "python",
   "pygments_lexer": "ipython3",
   "version": "3.6.11"
  }
 },
 "nbformat": 4,
 "nbformat_minor": 4
}
