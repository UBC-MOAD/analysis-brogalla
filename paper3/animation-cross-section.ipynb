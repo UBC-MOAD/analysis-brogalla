{
 "cells": [
  {
   "cell_type": "markdown",
   "metadata": {},
   "source": [
    "# Baffin Bay Pb concentration along cross section"
   ]
  },
  {
   "cell_type": "code",
   "execution_count": 1,
   "metadata": {},
   "outputs": [],
   "source": [
    "import netCDF4 as nc\n",
    "import numpy as np\n",
    "import matplotlib.pyplot as plt\n",
    "import matplotlib\n",
    "import cmocean\n",
    "from math import sin, cos, sqrt, atan2, radians\n",
    "import xarray as xr\n",
    "import imageio\n",
    "from datetime import datetime\n",
    "import glob\n",
    "\n",
    "%matplotlib inline"
   ]
  },
  {
   "cell_type": "markdown",
   "metadata": {},
   "source": [
    "#### Parameters"
   ]
  },
  {
   "cell_type": "code",
   "execution_count": 2,
   "metadata": {},
   "outputs": [],
   "source": [
    "# domain dimensions:\n",
    "imin, imax = 1139, 2179\n",
    "jmin, jmax = 159, 799\n",
    "\n",
    "# transect coordinates:\n",
    "BB_coords = (1470,1471,515,670) # Baffin Bay"
   ]
  },
  {
   "cell_type": "code",
   "execution_count": 3,
   "metadata": {},
   "outputs": [],
   "source": [
    "# Colors\n",
    "land_color = '#a9a7a2'\n",
    "light_gray = '#b1b1b1'\n",
    "light_land = '#d0d0cf'\n",
    "land_edge  = '#929291'"
   ]
  },
  {
   "cell_type": "markdown",
   "metadata": {},
   "source": [
    "#### Files"
   ]
  },
  {
   "cell_type": "code",
   "execution_count": 4,
   "metadata": {},
   "outputs": [],
   "source": [
    "mesh         = nc.Dataset('/ocean/brogalla/GEOTRACES/data/ANHA12/ANHA12_mask_Pb-20230213.nc')\n",
    "mesh_lon     = np.array(mesh.variables['nav_lon'])\n",
    "mesh_lat     = np.array(mesh.variables['nav_lat'])\n",
    "mesh_bathy   = np.array(mesh.variables['tmask'][0,:,:,:])\n",
    "bathy_masked = np.ma.masked_where((mesh_bathy> 0.1), mesh_bathy)\n",
    "ocean_masked = np.ma.masked_where((mesh_bathy<0.1), mesh_bathy)\n",
    "depths       = np.array(mesh.variables['nav_lev'])"
   ]
  },
  {
   "cell_type": "code",
   "execution_count": 5,
   "metadata": {},
   "outputs": [],
   "source": [
    "# transect coordinates\n",
    "BB_lons = mesh_lon[BB_coords[0]:BB_coords[1],BB_coords[2]:BB_coords[3]][0,:]\n",
    "BB_lats = mesh_lat[BB_coords[0]:BB_coords[1],BB_coords[2]:BB_coords[3]][0,:]\n",
    "BB_deps = bathy_masked[:,BB_coords[0]:BB_coords[1],BB_coords[2]:BB_coords[3]][:,0,:]"
   ]
  },
  {
   "cell_type": "code",
   "execution_count": 6,
   "metadata": {},
   "outputs": [],
   "source": [
    "years  = np.arange(2004,2020,1) \n",
    "files1 = []; files2 = [];\n",
    "for year in years:\n",
    "    folder1 = f'/data/brogalla/run_storage/Pb-reference-202303/Pb-reference-{year}_20230308/'\n",
    "    folder2 = f'/data/brogalla/run_storage/Pb-reference-202303/Pb-Labrador-Sea-{year}_20230308/'\n",
    "        \n",
    "    files1 = np.append(files1, np.sort(glob.glob(f'{folder1}/ANHA12_EXH006_5d_*')))\n",
    "    files2 = np.append(files2, np.sort(glob.glob(f'{folder2}/ANHA12_EXH006_5d_*')))\n",
    "    \n",
    "dates1 = [file.split('ptrc_T_')[1][0:-3] for file in files1]\n",
    "dates2 = [file.split('ptrc_T_')[1][0:-3] for file in files2]"
   ]
  },
  {
   "cell_type": "markdown",
   "metadata": {},
   "source": [
    "#### Functions"
   ]
  },
  {
   "cell_type": "code",
   "execution_count": 7,
   "metadata": {},
   "outputs": [],
   "source": [
    "# Convert lat/lon to distance along transect:\n",
    "def calc_distance(lats, lons):\n",
    "    R = 6373.0 # approximate radius of earth in km\n",
    "\n",
    "    lats_rad = [radians(l) for l in lats]\n",
    "    lons_rad = [radians(l) for l in lons]\n",
    "\n",
    "    dlon = [lon_step - lons_rad[0] for lon_step in lons_rad]\n",
    "    dlat = [lat_step - lats_rad[0] for lat_step in lats_rad]\n",
    "\n",
    "    distance = np.empty((len(dlon)))\n",
    "    for i in range(0,len(dlon)):\n",
    "        a = sin(dlat[i] / 2)**2 + cos(lats_rad[0]) * cos(lats_rad[i]) * sin(dlon[i] / 2)**2\n",
    "        c = 2 * atan2(sqrt(a), sqrt(1 - a))\n",
    "        distance[i] = R * c\n",
    "        \n",
    "    return distance"
   ]
  },
  {
   "cell_type": "code",
   "execution_count": 8,
   "metadata": {},
   "outputs": [],
   "source": [
    "def plot_cross_section(file1, n, vmin=0, vmax=30):\n",
    "    \n",
    "    with xr.open_dataset(f'{file1}') as f:\n",
    "        f1 = f['dissolpb'].values[0,:,BB_coords[0]-imin:BB_coords[1]-imin,BB_coords[2]-jmin:BB_coords[3]-jmin][:,0,:]\n",
    "        \n",
    "    fig, ax = plt.subplots(1,1, figsize=(4.5, 3.7*0.8), dpi=300)\n",
    "\n",
    "    ax.set_xlabel('Distance [km]', fontsize=7)\n",
    "    ax.set_ylabel('Depth [m]', fontsize=7)\n",
    "    ax.invert_yaxis()\n",
    "    ax.tick_params(axis='both', which='major', labelsize=6)\n",
    "    ax.set_ylim(2600,-10)\n",
    "\n",
    "    # Cross-section\n",
    "    xx, zz = np.meshgrid(XS_distance, depths)\n",
    "    CB1 = ax.pcolormesh(xx, zz, f1*1e12, vmin=vmin, vmax=vmax, cmap=cmocean.cm.matter)\n",
    "    ax.pcolormesh(xx, zz, BB_deps, cmap=matplotlib.colors.ListedColormap([land_color]))\n",
    "\n",
    "    cbax1 = fig.add_axes([0.75, 0.2, 0.04, 0.3]);\n",
    "    CBar  = plt.colorbar(CB1, ax=ax, cax=cbax1, ticks=[0,5,10,15,20]); \n",
    "    CBar.set_label('Dissolved Pb [pM]', fontsize=7)\n",
    "    CBar.ax.tick_params(axis='y', length=0, labelsize=6)\n",
    "   \n",
    "    ax.set_title(datetime.strptime(dates1[n][0:8],\"%Y%M%d\").strftime('%Y-%M-%d'), fontsize=6)\n",
    "    return fig"
   ]
  },
  {
   "cell_type": "code",
   "execution_count": 9,
   "metadata": {},
   "outputs": [],
   "source": [
    "def plot_cross_section_Atlantic(file1, file2, n, vmin=0, vmax=30):\n",
    "    \n",
    "    with xr.open_dataset(f'{file1}') as f:\n",
    "        f1 = f['dissolpb'].values[0,:,BB_coords[0]-imin:BB_coords[1]-imin,BB_coords[2]-jmin:BB_coords[3]-jmin][:,0,:]\n",
    "    with xr.open_dataset(f'{file2}') as f:\n",
    "        f2 = f['dissolpb'].values[0,:,BB_coords[0]-imin:BB_coords[1]-imin,BB_coords[2]-jmin:BB_coords[3]-jmin][:,0,:]\n",
    "    \n",
    "    fig, ax = plt.subplots(1,1, figsize=(4.5, 3.7*0.8), dpi=300)\n",
    "\n",
    "    ax.set_xlabel('Distance [km]', fontsize=7)\n",
    "    ax.set_ylabel('Depth [m]', fontsize=7)\n",
    "    ax.invert_yaxis()\n",
    "    ax.tick_params(axis='both', which='major', labelsize=6)\n",
    "    ax.set_ylim(2600,-10)\n",
    "\n",
    "    # Cross-section\n",
    "    xx, zz = np.meshgrid(XS_distance, depths)\n",
    "    CB1 = ax.pcolormesh(xx, zz, (f2-f1)*1e12, vmin=vmin, vmax=vmax, cmap=cmocean.cm.rain)\n",
    "    ax.pcolormesh(xx, zz, BB_deps, cmap=matplotlib.colors.ListedColormap([land_color]))\n",
    "\n",
    "    cbax1 = fig.add_axes([0.75, 0.2, 0.04, 0.3]);\n",
    "    CBar  = plt.colorbar(CB1, ax=ax, cax=cbax1, ticks=[0,0.5,1,1.5]); \n",
    "    CBar.set_label(r'$\\Delta$ Dissolved Pb [pM]', fontsize=7)\n",
    "    CBar.ax.tick_params(axis='y', length=0, labelsize=6)\n",
    "\n",
    "    ax.set_title(datetime.strptime(dates1[n][0:8],\"%Y%M%d\").strftime('%Y-%M-%d'), fontsize=6)\n",
    "    \n",
    "    return fig"
   ]
  },
  {
   "cell_type": "markdown",
   "metadata": {},
   "source": [
    "#### Calculations"
   ]
  },
  {
   "cell_type": "code",
   "execution_count": 10,
   "metadata": {},
   "outputs": [],
   "source": [
    "XS_distance  = calc_distance(BB_lats, BB_lons)   "
   ]
  },
  {
   "cell_type": "markdown",
   "metadata": {},
   "source": [
    "#### Figures"
   ]
  },
  {
   "cell_type": "code",
   "execution_count": null,
   "metadata": {},
   "outputs": [],
   "source": [
    "for n, date in enumerate(dates1):\n",
    "    fig = plot_cross_section_Atlantic(files1[n], files2[n], n, vmin=0, vmax=1.5)\n",
    "    fig.savefig(f'/ocean/brogalla/GEOTRACES/figures/Pb/animation/Baffin-Bay-cross-section-Atlantic-{date[0:8]}.png', \n",
    "                dpi=300)\n",
    "    plt.close(fig)"
   ]
  },
  {
   "cell_type": "code",
   "execution_count": null,
   "metadata": {},
   "outputs": [],
   "source": [
    "filenames = np.sort(glob.glob(f'/ocean/brogalla/GEOTRACES/figures/Pb/animation/Baffin-Bay-cross-section-Atlantic*'))\n",
    "with imageio.get_writer(f'/ocean/brogalla/GEOTRACES/figures/Pb/animation/Baffin-Bay-cross-section-Atlantic.mp4', \n",
    "                        macro_block_size = None, fps=7, mode='I') as writer:\n",
    "    for filename in filenames:\n",
    "        image = imageio.imread(filename)\n",
    "        writer.append_data(image)"
   ]
  },
  {
   "cell_type": "code",
   "execution_count": 74,
   "metadata": {},
   "outputs": [],
   "source": [
    "for n, date in enumerate(dates1):\n",
    "    fig = plot_cross_section(files1[n], n, vmin=0, vmax=20)\n",
    "    fig.savefig(f'/ocean/brogalla/GEOTRACES/figures/Pb/animation/Baffin-Bay-cross-section-{date[0:8]}.png', dpi=300)\n",
    "    plt.close(fig)"
   ]
  },
  {
   "cell_type": "code",
   "execution_count": 75,
   "metadata": {},
   "outputs": [],
   "source": [
    "filenames = np.sort(glob.glob(f'/ocean/brogalla/GEOTRACES/figures/Pb/animation/Baffin-Bay-cross-section-*'))\n",
    "with imageio.get_writer(f'/ocean/brogalla/GEOTRACES/figures/Pb/animation/Baffin-Bay-cross-section.mp4', \n",
    "                        macro_block_size = None, fps=7, mode='I') as writer:\n",
    "    for filename in filenames:\n",
    "        image = imageio.imread(filename)\n",
    "        writer.append_data(image)"
   ]
  },
  {
   "cell_type": "code",
   "execution_count": null,
   "metadata": {},
   "outputs": [],
   "source": []
  }
 ],
 "metadata": {
  "kernelspec": {
   "display_name": "Python 3",
   "language": "python",
   "name": "python3"
  },
  "language_info": {
   "codemirror_mode": {
    "name": "ipython",
    "version": 3
   },
   "file_extension": ".py",
   "mimetype": "text/x-python",
   "name": "python",
   "nbconvert_exporter": "python",
   "pygments_lexer": "ipython3",
   "version": "3.6.11"
  }
 },
 "nbformat": 4,
 "nbformat_minor": 4
}
