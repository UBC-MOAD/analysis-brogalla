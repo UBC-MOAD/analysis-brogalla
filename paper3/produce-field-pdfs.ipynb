{
 "cells": [
  {
   "cell_type": "markdown",
   "metadata": {},
   "source": [
    "# dPb concentrations across the domain for a single depth level"
   ]
  },
  {
   "cell_type": "code",
   "execution_count": 3,
   "metadata": {},
   "outputs": [],
   "source": [
    "import pickle\n",
    "import numpy as np\n",
    "import matplotlib.pyplot as plt\n",
    "import cmocean\n",
    "import pandas as pd\n",
    "import xarray as xr\n",
    "\n",
    "import gsw\n",
    "import matplotlib.backends.backend_pdf\n",
    "\n",
    "%matplotlib inline"
   ]
  },
  {
   "cell_type": "markdown",
   "metadata": {},
   "source": [
    "#### Parameters:"
   ]
  },
  {
   "cell_type": "code",
   "execution_count": 4,
   "metadata": {},
   "outputs": [],
   "source": [
    "# domain dimensions:\n",
    "jmin, jmax = 159, 799\n",
    "imin, imax = 1139, 2179\n",
    "isize = imax - imin\n",
    "jsize = jmax - jmin\n",
    "\n",
    "# model results:\n",
    "year = 2015\n",
    "results_folder1 = f'/data/brogalla/run_storage/Pb-tuning-202302/Pb-reference-{year}_20230221/'\n",
    "# results_folder1 = f'/data/brogalla/run_storage/Pb-tuning-202302/Pb-nosedice-{year}_20230221/'\n",
    "\n",
    "# colors:\n",
    "c_masked = '#eaeae9'"
   ]
  },
  {
   "cell_type": "markdown",
   "metadata": {},
   "source": [
    "#### Load files:"
   ]
  },
  {
   "cell_type": "code",
   "execution_count": 5,
   "metadata": {},
   "outputs": [],
   "source": [
    "mfile        = xr.open_dataset('/ocean/brogalla/GEOTRACES/data/ANHA12/ANHA12_mask_Pb-20230213.nc')\n",
    "ANHA12_lon   = mfile['nav_lon'].values\n",
    "ANHA12_lat   = mfile['nav_lat'].values\n",
    "tmask        = mfile['tmask'].values\n",
    "tmask_sub    = mfile['tmask'].values[0,:,imin:imax,jmin:jmax]\n",
    "\n",
    "mesh         = xr.open_dataset('/ocean/brogalla/GEOTRACES/data/ANHA12/ANHA12_mesh1.nc')\n",
    "mesh_bathy   = mesh['hdept'].values[0]\n",
    "e3t          = mesh['e3t_0'].values[0,:,imin:imax,jmin:jmax]\n",
    "land_mask    = np.ma.masked_where((tmask[0,:,:,:] > 0.1) , tmask[0,:,:,:]) \n",
    "e3t_masked   = np.ma.masked_where((tmask_sub[:,:,:] < 0.1), e3t)"
   ]
  },
  {
   "cell_type": "code",
   "execution_count": 6,
   "metadata": {},
   "outputs": [],
   "source": [
    "month  = 8\n",
    "results     = xr.open_dataset(f'{results_folder1}ANHA12_EXH006_1m_{year}0101_{year}1231_comp_{year}{month:02}-{year}{month:02}.nc')\n",
    "lons_model  = results['nav_lon'].values\n",
    "lats_model  = results['nav_lat'].values\n",
    "depth_model = results['deptht'].values\n",
    "dissolpb    = results['dissolpb'].values[0,:,:,:]*1e12 # pM units"
   ]
  },
  {
   "cell_type": "code",
   "execution_count": 7,
   "metadata": {},
   "outputs": [],
   "source": [
    "# --- GEOTRACES observations: ---\n",
    "GTR           = xr.open_dataset('/ocean/brogalla/GEOTRACES/data/IDP2021_GEOTRACES_IDP2021_Seawater_Discrete_Sample_Data_v1_kYw7mpQ2.nc')\n",
    "GTR_cruises   = GTR['metavar1']\n",
    "GTR_lons      = GTR['longitude'].values              # degrees east\n",
    "GTR_lats      = GTR['latitude'].values               # degrees north\n",
    "GTR_pres      = GTR['var1'].values           # Pressure from CTD sensor [dbar]\n",
    "GTR_depths    = GTR['var2'].values                   # Depth below sea surface calculated from pressure [m]\n",
    "GTR_temp      = GTR['var3'].values                   # Temperature from CTD sensor in the ITS-90 convention. [C]\n",
    "GTR_sal       = GTR['var4'].values                   # Practical salinity from CTD sensor on the PSS-1978 scale\n",
    "GTR_names     = GTR['metavar2'].astype('str').values # Station names\n",
    "\n",
    "# --- Dissolved Pb concentrations: ---\n",
    "GTR_qc         = GTR['var16_qc'].values # flag = 51, 52 are probably bad and bad \n",
    "GTR_dPb_pmolkg = GTR['var16'].values\n",
    "GTR_dPb_pmolkg[(GTR_qc == 51) | (GTR_qc == 52)] = np.nan # exclude quality control flagged values\n",
    "\n",
    "# --- Convert pmol / kg to pmol / L --- (pmol/kg * kg/m3 * 1 m3 / 1000 L)\n",
    "GTR_pressure  = np.ma.masked_where(GTR_pres < -1e8, GTR_pres)\n",
    "# practical salinity --> absolute salinity (g/kg)\n",
    "GTR_lons_tile = np.tile(GTR_lons, (345,1)).transpose()\n",
    "GTR_lats_tile = np.tile(GTR_lats, (345,1)).transpose()\n",
    "GTR_sal_abs   = gsw.conversions.SA_from_SP(GTR_sal, GTR_pressure, GTR_lons_tile, GTR_lats_tile)\n",
    "# calculate density: uses in situ temperature, absolute salinity, sea pressure \n",
    "GTR_density   = gsw.density.rho_t_exact(GTR_sal_abs, GTR_temp, GTR_pressure) # kg/m3\n",
    "GTR_dPb_pmolL = GTR_dPb_pmolkg*GTR_density*1e-3\n",
    "GTR_dPb_pmolL[GTR_dPb_pmolL < 0] = np.nan # can't have negative concentrations"
   ]
  },
  {
   "cell_type": "markdown",
   "metadata": {},
   "source": [
    "#### Functions:"
   ]
  },
  {
   "cell_type": "code",
   "execution_count": 8,
   "metadata": {},
   "outputs": [],
   "source": [
    "def plot_field(variable, layer, vmin=0, vmax=35, obs=False, choice_map='PC'):\n",
    "    cmap1 = cmocean.cm.matter\n",
    "    cmap1.set_bad(c_masked, 1)   \n",
    "    \n",
    "    if choice_map=='PC':\n",
    "        fig, ax, proj1 = pickle.load(open('/ocean/brogalla/GEOTRACES/pickles/Pb-PC.pickle','rb'))\n",
    "    elif choice_map=='NS':\n",
    "        fig, ax, proj1 = pickle.load(open('/ocean/brogalla/GEOTRACES/pickles/Pb-Nares.pickle','rb'))\n",
    "    elif choice_map=='BB':\n",
    "        fig, ax, proj1 = pickle.load(open('/ocean/brogalla/GEOTRACES/pickles/Pb-Baffin.pickle','rb'))\n",
    "\n",
    "    x, y = proj1(lons_model, lats_model) \n",
    "    \n",
    "    ax.set_facecolor(c_masked)\n",
    "    plot_variable = np.ma.masked_where(tmask_sub[layer,:,:] < 0.1, variable[layer,:,:])\n",
    "    pcolor  = ax.pcolormesh(x, y, plot_variable, cmap=cmap1, vmin=vmin, vmax=vmax, rasterized=True)\n",
    "    contour = ax.contourf(np.zeros_like(x), np.zeros_like(y), np.zeros_like(plot_variable), np.arange(vmin,vmax+1,1),\\\n",
    "                          cmap=cmap1, vmin=vmin, vmax=vmax, extend='both')\n",
    "\n",
    "    if obs: #plot circles with 2015 GEOTRACES observations\n",
    "        GTR_lons_ma = np.ma.masked_where((GTR_lons < 200) & (GTR_lats > 85) | (GTR_lats < 65) & (GTR_lons > 300) | \\\n",
    "                                         (GTR_lats < 85) & (GTR_lons > 0) & (GTR_lons < 150), GTR_lons)\n",
    "        GTR_lats_ma = np.ma.masked_where((GTR_lons < 200) & (GTR_lats > 85) | (GTR_lats < 65) & (GTR_lons > 300) | \\\n",
    "                                         (GTR_lats < 85) & (GTR_lons > 0) & (GTR_lons < 150), GTR_lats)\n",
    "        x_GTR, y_GTR = proj1(GTR_lons_ma, GTR_lats_ma)\n",
    "\n",
    "        # filter based on depth:\n",
    "        if depth_model[layer] < 200: # in shallow areas use only observations that are within 15 m from layer\n",
    "            depth_mask     = (GTR_depths > depth_model[layer] - 10) & (GTR_depths < depth_model[layer] + 10)\n",
    "        else:  # in deeper waters use observations that are within 50 m from the layer\n",
    "            depth_mask     = (GTR_depths > depth_model[layer] - 25) & (GTR_depths < depth_model[layer] + 25)\n",
    "\n",
    "        GTR_dPb_masked = np.ma.masked_where(~depth_mask, GTR_dPb_pmolL) # calculate mean over observations within this range\n",
    "        GTR_dPb_slice  = np.nanmean(GTR_dPb_masked, axis=1)\n",
    "        ax.scatter(x_GTR, y_GTR, c=GTR_dPb_slice, s=80, zorder=3, edgecolor='w', marker='.', \n",
    "                   linewidth=0.5, vmin=vmin, vmax=vmax, cmap=cmap1, label='2015 GEOTRACES GN02, GN03')\n",
    "\n",
    "        ax.set_title(f'Depth: {depth_model[layer]:.0f} m', fontsize=7)\n",
    "            \n",
    "    \n",
    "    cbaxes = fig.add_axes([0.03, 0.4, 0.02, 0.18]);\n",
    "    CBar   = plt.colorbar(contour, ax=ax, cax=cbaxes); \n",
    "    CBar.set_label('Dissolved Pb [pM]', fontsize=6)\n",
    "    CBar.ax.tick_params(axis='y', length=0, labelsize=6)\n",
    "            \n",
    "    return fig"
   ]
  },
  {
   "cell_type": "markdown",
   "metadata": {},
   "source": [
    "#### Figures of surface concentrations:"
   ]
  },
  {
   "cell_type": "code",
   "execution_count": null,
   "metadata": {},
   "outputs": [],
   "source": [
    "depth_levels = np.arange(0,30,1)\n",
    "fig = {}\n",
    "for depth in depth_levels:\n",
    "    fig[f'z{depth}'] = plot_field(dissolpb, depth, vmin=0, vmax=15, obs=True, choice_map='PC')   \n",
    "    \n",
    "pdf = matplotlib.backends.backend_pdf.PdfPages(\"/ocean/brogalla/GEOTRACES/figures/Pb-Parry-Channel-2015-ref.pdf\")\n",
    "for depth in depth_levels:\n",
    "    pdf.savefig(fig[f'z{depth}'])\n",
    "pdf.close()"
   ]
  },
  {
   "cell_type": "code",
   "execution_count": null,
   "metadata": {},
   "outputs": [],
   "source": [
    "depth_levels = np.arange(0,31,1)\n",
    "fig = {}\n",
    "for depth in depth_levels:\n",
    "    fig[f'z{depth}'] = plot_field(dissolpb, depth, vmin=0, vmax=15, obs=True, choice_map='NS')    \n",
    "\n",
    "pdf = matplotlib.backends.backend_pdf.PdfPages(\"/ocean/brogalla/GEOTRACES/figures/Pb-Nares-Strait-2015-ref.pdf\")\n",
    "for depth in depth_levels:\n",
    "    pdf.savefig(fig[f'z{depth}'])\n",
    "pdf.close()"
   ]
  },
  {
   "cell_type": "code",
   "execution_count": null,
   "metadata": {},
   "outputs": [],
   "source": [
    "depth_levels = np.arange(0,42,1)\n",
    "fig = {}\n",
    "for depth in depth_levels:\n",
    "    fig[f'z{depth}'] = plot_field(dissolpb, depth, vmin=0, vmax=15, obs=True, choice_map='BB')    \n",
    "\n",
    "pdf = matplotlib.backends.backend_pdf.PdfPages(\"/ocean/brogalla/GEOTRACES/figures/Pb-Baffin-Bay-2015-ref.pdf\")\n",
    "for depth in depth_levels:\n",
    "    pdf.savefig(fig[f'z{depth}'])\n",
    "pdf.close()"
   ]
  },
  {
   "cell_type": "code",
   "execution_count": null,
   "metadata": {},
   "outputs": [],
   "source": []
  }
 ],
 "metadata": {
  "kernelspec": {
   "display_name": "Python 3",
   "language": "python",
   "name": "python3"
  },
  "language_info": {
   "codemirror_mode": {
    "name": "ipython",
    "version": 3
   },
   "file_extension": ".py",
   "mimetype": "text/x-python",
   "name": "python",
   "nbconvert_exporter": "python",
   "pygments_lexer": "ipython3",
   "version": "3.6.11"
  }
 },
 "nbformat": 4,
 "nbformat_minor": 4
}
