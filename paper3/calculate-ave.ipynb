{
 "cells": [
  {
   "cell_type": "markdown",
   "metadata": {},
   "source": [
    "# Calculate monthly average\n"
   ]
  },
  {
   "cell_type": "code",
   "execution_count": 1,
   "metadata": {},
   "outputs": [],
   "source": [
    "import numpy as np\n",
    "import netCDF4 as nc\n",
    "import xarray as xr\n",
    "import pandas as pd \n",
    "import forcing.modules.mapping_functions as mf\n",
    "import glob\n",
    "from datetime import datetime\n",
    "from calendar import monthrange\n",
    "import time\n",
    "\n",
    "%matplotlib inline"
   ]
  },
  {
   "cell_type": "markdown",
   "metadata": {},
   "source": [
    "#### Parameters:"
   ]
  },
  {
   "cell_type": "code",
   "execution_count": 2,
   "metadata": {},
   "outputs": [],
   "source": [
    "# domain dimensions:\n",
    "jmin, jmax = 159, 799\n",
    "imin, imax = 1139, 2179\n",
    "isize = imax-imin\n",
    "jsize = jmax-jmin\n",
    "\n",
    "days_in_month = [monthrange(2002,mth)[1] for mth in range(1,13)]"
   ]
  },
  {
   "cell_type": "markdown",
   "metadata": {},
   "source": [
    "#### Files:"
   ]
  },
  {
   "cell_type": "code",
   "execution_count": 3,
   "metadata": {},
   "outputs": [],
   "source": [
    "mfile        = xr.open_dataset('/ocean/brogalla/GEOTRACES/data/ANHA12/ANHA12_mask_Pb-20220317.nc')\n",
    "mesh_lon     = mfile['nav_lon'].values\n",
    "mesh_lat     = mfile['nav_lat'].values\n",
    "tmask        = mfile['tmask'].values[0,:,imin:imax,jmin:jmax]\n",
    "bathy_masked = np.ma.masked_where((tmask> 0.1), tmask) \n",
    "mesh_depth   = mfile['nav_lev'].values\n",
    "# mesh_bathy = np.array(mesh.variables['hdept'][0])"
   ]
  },
  {
   "cell_type": "markdown",
   "metadata": {},
   "source": [
    "#### Functions"
   ]
  },
  {
   "cell_type": "code",
   "execution_count": 4,
   "metadata": {},
   "outputs": [],
   "source": [
    "def write_to_file(votemper, vosaline, year, month):\n",
    "    \n",
    "    file_write = xr.Dataset(\n",
    "        {'vosaline' : ((\"deptht\",\"y\",\"x\"), vosaline),\n",
    "         'votemper' : ((\"deptht\",\"y\",\"x\"), votemper)}, \n",
    "        coords = {\n",
    "            \"time_counter\": np.zeros(1),\n",
    "            \"deptht\": mesh_depth,\n",
    "            \"y\": np.zeros(mesh_lat.shape[0]),\n",
    "            \"x\": np.zeros(mesh_lon.shape[1])},\n",
    "    )\n",
    "    \n",
    "    file_write.to_netcdf(f'/data/brogalla/ANHA12/new_averages/gridT_{year}_{month:02}.nc', unlimited_dims='time_counter')\n",
    "    \n",
    "    return"
   ]
  },
  {
   "cell_type": "code",
   "execution_count": 5,
   "metadata": {},
   "outputs": [],
   "source": [
    "def calculate_monthly_average(folder_ref, year, month):\n",
    "    # Calculate monthly average:\n",
    "    file_list = list(np.sort(glob.glob(f'{folder_ref}ANHA12-EXH006_5d_gridT_y{year}m{month:02}d??.nc')))\n",
    "    max_day   = datetime.strptime(file_list[-1][45:56],'y%Ym%md%d').day\n",
    "\n",
    "    # if the last file in the list does not contain the last day in the month, also load the first file of the next month\n",
    "    if max_day < days_in_month[month-1]:\n",
    "        files_next_month = np.sort(glob.glob(f'{folder_ref}ANHA12-EXH006_5d_gridT_y{year}m{month+1:02}d??.nc'))\n",
    "        file_list.append(files_next_month[0])\n",
    "        \n",
    "    # read in each data file\n",
    "    monthly_sum_T = 0; monthly_sum_S = 0;\n",
    "    sum_days = 0\n",
    "    for file in file_list:\n",
    "        ds  = xr.open_dataset(f'{file}')\n",
    "        sal  = ds['vosaline'].values[0,:,:,:]\n",
    "        temp = ds['votemper'].values[0,:,:,:]\n",
    "        \n",
    "        date = datetime.strptime(file[45:56],'y%Ym%md%d')\n",
    "#         print(date)\n",
    "        \n",
    "        if (date.day - 5 >= 0) & (date.day <= days_in_month[month-1]):\n",
    "            monthly_sum_T += temp*(5) # since these are five-day files\n",
    "            monthly_sum_S += sal *(5) \n",
    "            sum_days +=5\n",
    "            print(f'Normal case: {date}, multiply by 5')\n",
    "        elif (date.month == month) & (date.day - 5 < 0):\n",
    "            monthly_sum_T += temp*(date.day)\n",
    "            monthly_sum_S += sal *(date.day)\n",
    "            sum_days += date.day\n",
    "            print(f'Start of month: {date}, multiply by {date.day}')\n",
    "        elif (date.month != month) & (date.day - 5 < 0):\n",
    "            monthly_sum_T += temp*(days_in_month[month-1] - max_day)\n",
    "            monthly_sum_S += sal *(days_in_month[month-1] - max_day)\n",
    "            sum_days += (days_in_month[month-1] - max_day)\n",
    "            print(f'End of month: {date}, multiply by {(days_in_month[month-1] - max_day)}')\n",
    "        \n",
    "    monthly_T_ave = monthly_sum_T / days_in_month[month-1]\n",
    "    monthly_S_ave = monthly_sum_S / days_in_month[month-1]\n",
    "   \n",
    "    print(sum_days, days_in_month[month-1])\n",
    "\n",
    "    write_to_file(monthly_T_ave, monthly_S_ave, year, month)\n",
    "  \n",
    "    return monthly_T_ave, monthly_S_ave"
   ]
  },
  {
   "cell_type": "code",
   "execution_count": null,
   "metadata": {},
   "outputs": [
    {
     "name": "stdout",
     "output_type": "stream",
     "text": [
      "Normal case: 2006-01-05 00:00:00, multiply by 5\n",
      "Normal case: 2006-01-10 00:00:00, multiply by 5\n",
      "Normal case: 2006-01-15 00:00:00, multiply by 5\n",
      "Normal case: 2006-01-20 00:00:00, multiply by 5\n",
      "Normal case: 2006-01-25 00:00:00, multiply by 5\n",
      "Normal case: 2006-01-30 00:00:00, multiply by 5\n",
      "End of month: 2006-02-04 00:00:00, multiply by 1\n",
      "31 31\n",
      "Start of month: 2006-02-04 00:00:00, multiply by 4\n",
      "Normal case: 2006-02-09 00:00:00, multiply by 5\n",
      "Normal case: 2006-02-14 00:00:00, multiply by 5\n",
      "Normal case: 2006-02-19 00:00:00, multiply by 5\n",
      "Normal case: 2006-02-24 00:00:00, multiply by 5\n",
      "End of month: 2006-03-01 00:00:00, multiply by 4\n",
      "28 28\n",
      "Start of month: 2006-03-01 00:00:00, multiply by 1\n",
      "Normal case: 2006-03-06 00:00:00, multiply by 5\n",
      "Normal case: 2006-03-11 00:00:00, multiply by 5\n",
      "Normal case: 2006-03-16 00:00:00, multiply by 5\n",
      "Normal case: 2006-03-21 00:00:00, multiply by 5\n",
      "Normal case: 2006-03-26 00:00:00, multiply by 5\n",
      "Normal case: 2006-03-31 00:00:00, multiply by 5\n",
      "31 31\n",
      "Normal case: 2006-04-05 00:00:00, multiply by 5\n",
      "Normal case: 2006-04-10 00:00:00, multiply by 5\n",
      "Normal case: 2006-04-15 00:00:00, multiply by 5\n"
     ]
    }
   ],
   "source": [
    "for month in range(1,13):\n",
    "    T_ave_200401, S_ave_200401 = calculate_monthly_average('/data/brogalla/ANHA12/', 2006, month)"
   ]
  },
  {
   "cell_type": "markdown",
   "metadata": {},
   "source": [
    "#### Phosphate biomass from BLING:"
   ]
  },
  {
   "cell_type": "code",
   "execution_count": 110,
   "metadata": {},
   "outputs": [],
   "source": [
    "def write_biomass_to_file(biomass, year, month):\n",
    "    \n",
    "    file_write = xr.Dataset(\n",
    "        {'biomass_p' : ((\"deptht\",\"y\",\"x\"), biomass)}, \n",
    "        coords = {\n",
    "            \"time_counter\": np.zeros(1),\n",
    "            \"deptht\": mesh_depth,\n",
    "            \"y\": np.zeros(mesh_lat.shape[0]),\n",
    "            \"x\": np.zeros(mesh_lon.shape[1])},\n",
    "    )\n",
    "    \n",
    "    file_write.to_netcdf(f'/data/brogalla/ANHA4/BlING-EPM101/ANHA4-EPM101_{year}{month:02}.nc', unlimited_dims='time_counter')\n",
    "    \n",
    "    return"
   ]
  },
  {
   "cell_type": "code",
   "execution_count": 111,
   "metadata": {},
   "outputs": [],
   "source": [
    "# Similar function but for BLING:\n",
    "# folder = '/ocean/brogalla/GEOTRACES/BLING-EMP101/'\n",
    "# file = 'ANHA4-EPM101_y2002m01d05_gridB.nc'\n",
    "\n",
    "def calculate_monthly_biomass_average(folder_ref, year, month):\n",
    "    # Calculate monthly average:\n",
    "    file_list = list(np.sort(glob.glob(f'{folder_ref}ANHA4-EPM101_y{year}m{month:02}d??_gridB.nc')))\n",
    "    max_day   = datetime.strptime(file_list[-1][53:63],'y%Ym%md%d').day\n",
    "\n",
    "    # if the last file in the list does not contain the last day in the month, also load the first file of the next month\n",
    "    if max_day < days_in_month[month-1]:\n",
    "        files_next_month = np.sort(glob.glob(f'{folder_ref}ANHA4-EPM101_y{year}m{month+1:02}d??_gridB.nc'))\n",
    "        file_list.append(files_next_month[0])\n",
    "        \n",
    "    # read in each data file\n",
    "    monthly_sum_biomass = 0;\n",
    "    sum_days = 0\n",
    "    for file in file_list:\n",
    "        ds      = xr.open_dataset(f'{file}')\n",
    "        biomass = ds['biomass_p'].values[0,:,:,:]\n",
    "        \n",
    "        date    = datetime.strptime(file[53:63],'y%Ym%md%d')\n",
    "#         print(date)\n",
    "        \n",
    "        if (date.day - 5 >= 0) & (date.day <= days_in_month[month-1]):\n",
    "            monthly_sum_biomass += biomass*(5) # since these are five-day files\n",
    "            sum_days +=5\n",
    "            print(f'Normal case: {date}, multiply by 5')\n",
    "        elif (date.month == month) & (date.day - 5 < 0):\n",
    "            monthly_sum_biomass += biomass*(date.day)\n",
    "            sum_days += date.day\n",
    "            print(f'Start of month: {date}, multiply by {date.day}')\n",
    "        elif (date.month != month) & (date.day - 5 < 0):\n",
    "            monthly_sum_biomass += biomass*(days_in_month[month-1] - max_day)\n",
    "            sum_days += (days_in_month[month-1] - max_day)\n",
    "            print(f'End of month: {date}, multiply by {(days_in_month[month-1] - max_day)}')\n",
    "        \n",
    "    monthly_biomass_ave = monthly_sum_biomass / days_in_month[month-1]\n",
    "   \n",
    "    print(sum_days, days_in_month[month-1])\n",
    "\n",
    "    write_biomass_to_file(monthly_biomass_ave, year, month)\n",
    "  \n",
    "    return monthly_biomass_ave"
   ]
  },
  {
   "cell_type": "code",
   "execution_count": null,
   "metadata": {},
   "outputs": [],
   "source": [
    "for month in range(1,13):\n",
    "    bio_ave_200201 = calculate_monthly_average('/data/brogalla/ANHA4/BLING-EPM101/', 2002, month)"
   ]
  }
 ],
 "metadata": {
  "kernelspec": {
   "display_name": "Python 3",
   "language": "python",
   "name": "python3"
  },
  "language_info": {
   "codemirror_mode": {
    "name": "ipython",
    "version": 3
   },
   "file_extension": ".py",
   "mimetype": "text/x-python",
   "name": "python",
   "nbconvert_exporter": "python",
   "pygments_lexer": "ipython3",
   "version": "3.6.11"
  }
 },
 "nbformat": 4,
 "nbformat_minor": 4
}
