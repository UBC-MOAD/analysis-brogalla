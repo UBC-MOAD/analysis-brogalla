{
 "cells": [
  {
   "cell_type": "markdown",
   "metadata": {},
   "source": [
    "# dPb concentrations across the domain for a single depth level"
   ]
  },
  {
   "cell_type": "code",
   "execution_count": 3,
   "metadata": {},
   "outputs": [],
   "source": [
    "import pickle\n",
    "import numpy as np\n",
    "import matplotlib.pyplot as plt\n",
    "import cmocean\n",
    "import pandas as pd\n",
    "import xarray as xr\n",
    "import gsw\n",
    "import glob\n",
    "from datetime import datetime\n",
    "from constants import imin, imax, jmin, jmax, isize, jsize\n",
    "\n",
    "%matplotlib inline"
   ]
  },
  {
   "cell_type": "markdown",
   "metadata": {},
   "source": [
    "#### Parameters:"
   ]
  },
  {
   "cell_type": "code",
   "execution_count": 4,
   "metadata": {},
   "outputs": [],
   "source": [
    "# model results:\n",
    "year = 2015\n",
    "results_folder = f'/data/brogalla/run_storage/Pb-reference-202312/Pb-reference-{year}-202312/'\n",
    "\n",
    "# colors:\n",
    "c_masked   = '#eaeae9'\n",
    "land_color = '#cbcac7'"
   ]
  },
  {
   "cell_type": "markdown",
   "metadata": {},
   "source": [
    "#### Load files:"
   ]
  },
  {
   "cell_type": "code",
   "execution_count": 5,
   "metadata": {},
   "outputs": [],
   "source": [
    "mfile        = xr.open_dataset('/ocean/brogalla/GEOTRACES/data/ANHA12/ANHA12_mask_Pb-20230213.nc')\n",
    "tmask        = mfile['tmask'].values\n",
    "tmask_sub    = mfile['tmask'].values[0,:,imin:imax,jmin:jmax]\n",
    "\n",
    "mesh         = xr.open_dataset('/ocean/brogalla/GEOTRACES/data/ANHA12/ANHA12_mesh1.nc')\n",
    "e3t          = mesh['e3t_0'].values[0,:,imin:imax,jmin:jmax]\n",
    "land_mask    = np.ma.masked_where((tmask[0,:,:,:] > 0.1) , tmask[0,:,:,:]) \n",
    "e3t_masked   = np.ma.masked_where((tmask_sub[:,:,:] < 0.1), e3t)"
   ]
  },
  {
   "cell_type": "code",
   "execution_count": 6,
   "metadata": {},
   "outputs": [],
   "source": [
    "month       = 1 # doesn't really matter, since it's just to get the output grid\n",
    "results     = xr.open_dataset(f'{results_folder}ANHA12_EXH006_1m_{year}0101_{year}1231_comp_{year}{month:02}-{year}{month:02}.nc')\n",
    "lons_model  = results['nav_lon'].values\n",
    "lats_model  = results['nav_lat'].values\n",
    "depth_model = results['deptht'].values"
   ]
  },
  {
   "cell_type": "code",
   "execution_count": 21,
   "metadata": {},
   "outputs": [],
   "source": [
    "# --- GEOTRACES observations: ---\n",
    "GTR           = xr.open_dataset('/ocean/brogalla/GEOTRACES/data/IDP2021_GEOTRACES_IDP2021_Seawater_Discrete_Sample_Data_v1_kYw7mpQ2.nc')\n",
    "GTR_cruises   = GTR['metavar1']\n",
    "GTR_lons      = GTR['longitude'].values              # degrees east\n",
    "GTR_lats      = GTR['latitude'].values               # degrees north\n",
    "GTR_pres      = GTR['var1'].values           # Pressure from CTD sensor [dbar]\n",
    "GTR_depths    = GTR['var2'].values                   # Depth below sea surface calculated from pressure [m]\n",
    "GTR_temp      = GTR['var3'].values                   # Temperature from CTD sensor in the ITS-90 convention. [C]\n",
    "GTR_sal       = GTR['var4'].values                   # Practical salinity from CTD sensor on the PSS-1978 scale\n",
    "GTR_names     = GTR['metavar2'].astype('str').values # Station names\n",
    "\n",
    "# --- Dissolved Pb concentrations: ---\n",
    "GTR_qc         = GTR['var16_qc'].values # flag = 51, 52 are probably bad and bad \n",
    "GTR_dPb_pmolkg = GTR['var16'].values\n",
    "GTR_dPb_pmolkg[(GTR_qc == 51) | (GTR_qc == 52)] = np.nan # exclude quality control flagged values\n",
    "\n",
    "# --- Convert pmol / kg to pmol / L --- (pmol/kg * kg/m3 * 1 m3 / 1000 L)\n",
    "GTR_pressure  = np.ma.masked_where(GTR_pres < -1e8, GTR_pres)\n",
    "# practical salinity --> absolute salinity (g/kg)\n",
    "GTR_lons_tile = np.tile(GTR_lons, (345,1)).transpose()\n",
    "GTR_lats_tile = np.tile(GTR_lats, (345,1)).transpose()\n",
    "GTR_sal_abs   = gsw.conversions.SA_from_SP(GTR_sal, GTR_pressure, GTR_lons_tile, GTR_lats_tile)\n",
    "# calculate density: uses in situ temperature, absolute salinity, sea pressure \n",
    "GTR_density   = gsw.density.rho_t_exact(GTR_sal_abs, GTR_temp, GTR_pressure) # kg/m3\n",
    "GTR_dPb_pmolL = GTR_dPb_pmolkg*GTR_density*1e-3\n",
    "GTR_dPb_pmolL[GTR_dPb_pmolL < 0] = np.nan # can't have negative concentrations"
   ]
  },
  {
   "cell_type": "code",
   "execution_count": 22,
   "metadata": {},
   "outputs": [],
   "source": [
    "# Station coordinates and names:\n",
    "Pb_data   = pd.read_csv('/ocean/brogalla/GEOTRACES/data/Pb-paper-data.csv')\n",
    "stn_names = Pb_data['Station names'].dropna().astype('str')\n",
    "obs_lons  = Pb_data['station lon'].astype('float').dropna().values\n",
    "obs_lats  = Pb_data['Station lat'].astype('float').dropna().values\n",
    "\n",
    "# Connect these points with straight line segments for the plots below:\n",
    "transect_lons = [obs_lons[stn_names=='CB4'],  obs_lons[stn_names=='CB3'],  obs_lons[stn_names=='CB2'],  obs_lons[stn_names=='CB1'], \\\n",
    "                 obs_lons[stn_names=='CAA8'], obs_lons[stn_names=='CAA6'], obs_lons[stn_names=='CAA7'], -95.128357, obs_lons[stn_names=='CAA4'],\\\n",
    "                 obs_lons[stn_names=='CAA5'], obs_lons[stn_names=='CAA1'], obs_lons[stn_names=='CAA2'], obs_lons[stn_names=='CAA3'],\\\n",
    "                 -76.495545, obs_lons[stn_names=='BB3'], -63.927186, obs_lons[stn_names=='BB1']]\n",
    "transect_lats = [obs_lats[stn_names=='CB4'],  obs_lats[stn_names=='CB3'],  obs_lats[stn_names=='CB2'],  obs_lats[stn_names=='CB1'], \\\n",
    "                 obs_lats[stn_names=='CAA8'], obs_lats[stn_names=='CAA6'], obs_lats[stn_names=='CAA7'], 74.313002, obs_lats[stn_names=='CAA4'],\\\n",
    "                 obs_lats[stn_names=='CAA5'], obs_lats[stn_names=='CAA1'], obs_lats[stn_names=='CAA2'], obs_lats[stn_names=='CAA3'],\\\n",
    "                 73.658423, obs_lats[stn_names=='BB3'],  70.355341, obs_lats[stn_names=='BB1']]\n",
    "\n",
    "# Create vectors of many points along these segments:\n",
    "transect_vlons = np.array([])\n",
    "transect_vlats = np.array([])\n",
    "for i in range(0,len(transect_lons)-1):\n",
    "    diff_lons = transect_lons[i+1] - transect_lons[i]\n",
    "    diff_lats = transect_lats[i+1] - transect_lats[i]\n",
    "    vector_lons = transect_lons[i] + np.linspace(0,diff_lons,30)\n",
    "    vector_lats = transect_lats[i] + np.linspace(0,diff_lats,30)\n",
    "    transect_vlons = np.append(transect_vlons, vector_lons)\n",
    "    transect_vlats = np.append(transect_vlats, vector_lats)"
   ]
  },
  {
   "cell_type": "markdown",
   "metadata": {},
   "source": [
    "#### Functions:"
   ]
  },
  {
   "cell_type": "code",
   "execution_count": 23,
   "metadata": {},
   "outputs": [],
   "source": [
    "def calculate_average(folder_ref_2015):\n",
    "    # Calculate average over data files during cruise period:\n",
    "    # 2015 GEOTRACES: 9 August - 15 September\n",
    "    files_2015      = np.sort(glob.glob(f'{folder_ref_2015}ANHA12_EXH006_5d_20150101_20151231*'))\n",
    "    start_date_2015 = datetime.strptime(f'2015-08-03', '%Y-%m-%d')\n",
    "    end_date_2015   = datetime.strptime(f'2015-09-28', '%Y-%m-%d')\n",
    "\n",
    "    file_list_2015 = []\n",
    "    for file in files_2015:\n",
    "        if (datetime.strptime(file.split('/')[-1][42:50],'%Y%m%d') >= start_date_2015) & \\\n",
    "                    (datetime.strptime(file.split('/')[-1][51:59],'%Y%m%d') < end_date_2015):\n",
    "            file_list_2015.append(file)\n",
    "\n",
    "    dpb_2015 = np.zeros((50,isize,jsize))mfile        = xr.open_dataset('/ocean/brogalla/GEOTRACES/data/ANHA12/ANHA12_mask_Pb-20230213.nc')\n",
    "tmask        = mfile['tmask'].values[0,:,imin:imax,jmin:jmax]\n",
    "    days = 0\n",
    "    for file in file_list_2015:\n",
    "        ds = xr.open_dataset(f\"{file}\")\n",
    "        dpb_2015 = dpb_2015 + ds['dissolpb'].values[0,:,:,:]\n",
    "\n",
    "    pb_dis_ref_2015 = dpb_2015 / len(file_list_2015)\n",
    "    \n",
    "    return pb_dis_ref_2015"
   ]
  },
  {
   "cell_type": "code",
   "execution_count": 24,
   "metadata": {},
   "outputs": [],
   "source": [
    "def plot_field(ax, proj, variable, layers, obs=False, vmin=0, vmax=35):\n",
    "    cmap1 = cmocean.cm.matter\n",
    "    cmap1.set_bad(c_masked, 1)   \n",
    "    \n",
    "    if obs:\n",
    "        GTR_lons_ma = np.ma.masked_where((GTR_lons < 200) & (GTR_lats > 85) | \\\n",
    "                                         (GTR_lats < 65) & (GTR_lons > 300) | \\\n",
    "                                         (GTR_lats < 85) & (GTR_lons > 0) & (GTR_lons < 150), GTR_lons)\n",
    "        GTR_lats_ma = np.ma.masked_where((GTR_lons < 200) & (GTR_lats > 85) | \\\n",
    "                                         (GTR_lats < 65) & (GTR_lons > 300) | \\\n",
    "                                         (GTR_lats < 85) & (GTR_lons > 0) & (GTR_lons < 150), GTR_lats)\n",
    "    ax.set_facecolor(c_masked)\n",
    "    x, y = proj(lons_model, lats_model) \n",
    "    plot_variable = np.ma.masked_where(tmask_sub[layers[0],:,:] < 0.1, variable[:,:])\n",
    "    pcolor  = ax.pcolormesh(x, y, plot_variable, cmap=cmap1, vmin=vmin, vmax=vmax)\n",
    "    contour = ax.contourf(np.zeros_like(x), np.zeros_like(y), np.zeros_like(plot_variable), np.arange(vmin,vmax+1,1),\\\n",
    "                          cmap=cmap1, vmin=vmin, vmax=vmax, extend='max')\n",
    "\n",
    "    if obs: #plot circles with 2015 GEOTRACES observations\n",
    "    # filter based on depth:\n",
    "        if depth_model[layers[1]] < 200: # in shallow areas use only observations that are within 15 m from layer\n",
    "            depth_mask     = (GTR_depths > depth_model[layers[0]] - 15) & (GTR_depths < depth_model[layers[1]] + 15)\n",
    "        else:  # in deeper waters use observations that are within 50 m from the layer\n",
    "            depth_mask     = (GTR_depths > depth_model[layers[0]] - 50) & (GTR_depths < depth_model[layers[1]] + 50)\n",
    "\n",
    "        GTR_dPb_masked = np.ma.masked_where(~depth_mask, GTR_dPb_pmolL) # calculate mean over observations within this range\n",
    "        GTR_dPb_masked = np.ma.masked_where(np.isnan(GTR_dPb_masked), GTR_dPb_masked)\n",
    "        GTR_dPb_slice  = np.ma.mean(GTR_dPb_masked, axis=1)\n",
    "            \n",
    "        x_GTR, y_GTR   = proj(GTR_lons_ma, GTR_lats_ma)\n",
    "        ax.scatter(x_GTR, y_GTR, c=GTR_dPb_slice, s=80, zorder=3, edgecolor='w', marker='.', \n",
    "                   linewidth=0.5, vmin=vmin, vmax=vmax, cmap=cmap1, label='2015 GEOTRACES GN02, GN03')\n",
    "        \n",
    "    ax.set_title(f'Depth: {depth_model[layers[0]]:.0f}-{depth_model[layers[1]]:.0f} m', fontsize=8)\n",
    "    return contour\n",
    "\n",
    "def plot_mix(variable, layers, vmin=0, vmax1=35, vmax2=35, savefig=False, obs=False):\n",
    "\n",
    "    fig, ax, proj1, proj2 = pickle.load(open('/ocean/brogalla/GEOTRACES/pickles/Pb-fields.pickle','rb'))\n",
    "    \n",
    "    for n in range(0,3):\n",
    "        plot_variable = calculate_depth_weighted(variable, levels=layers[n])\n",
    "        contour1 = plot_field(ax[0,n], proj1, plot_variable, layers[n], obs=obs, vmin=vmin, vmax=vmax1)\n",
    "        contour2 = plot_field(ax[1,n], proj2, plot_variable, layers[n], obs=obs, vmin=vmin, vmax=vmax2)\n",
    "    \n",
    "    x1, y1 = proj1(transect_vlons, transect_vlats)\n",
    "    x2, y2 = proj2(transect_vlons, transect_vlats)\n",
    "    ax[0,0].plot(x1, y1, '--', c='w', linewidth=0.6)\n",
    "    ax[1,0].plot(x2, y2, '--', c='w', linewidth=0.8)  \n",
    "    \n",
    "    cbaxes1 = fig.add_axes([-0.05, 0.41, 0.02, 0.36]);\n",
    "    CBar1   = plt.colorbar(contour1, ax=ax[0,0], cax=cbaxes1, ticks=np.arange(0,vmax1+2,2)); \n",
    "    CBar1.set_label('Dissolved Pb [pM]', fontsize=8)\n",
    "    CBar1.ax.tick_params(axis='y', length=0, labelsize=7.5)\n",
    "    \n",
    "    cbaxes2 = fig.add_axes([-0.05, 0.195, 0.02, 0.17]);\n",
    "    CBar2   = plt.colorbar(contour2, ax=ax[1,0], cax=cbaxes2, ticks=np.arange(0,vmax2+2,2)); \n",
    "    CBar2.set_label('Dissolved Pb [pM]', fontsize=8)\n",
    "    CBar2.ax.tick_params(axis='y', length=0, labelsize=7.5)\n",
    "            \n",
    "    fig.text(0.02, 0.790, 'a)', fontsize=10, weight='bold');\n",
    "    fig.text(0.35, 0.790, 'b)', fontsize=10, weight='bold');\n",
    "    fig.text(0.68, 0.790, 'c)', fontsize=10, weight='bold');\n",
    "    fig.text(0.02, 0.375, 'd)', fontsize=10, weight='bold');\n",
    "    fig.text(0.35, 0.375, 'e)', fontsize=10, weight='bold');\n",
    "    fig.text(0.68, 0.375, 'f)', fontsize=10, weight='bold');\n",
    "    \n",
    "    if savefig:\n",
    "        fig.savefig('/ocean/brogalla/GEOTRACES/figures/Pb_202402/R1-fields.jpg', dpi=300, bbox_inches='tight')\n",
    "    return"
   ]
  },
  {
   "cell_type": "code",
   "execution_count": 28,
   "metadata": {},
   "outputs": [],
   "source": [
    "def calculate_depth_weighted(dPb, levels=(0,16)):\n",
    "    dPb_weighted     = dPb[levels[0]:levels[1]+1,:,:]*e3t_masked[levels[0]:levels[1]+1,:,:]\n",
    "    delta_depth      = np.ma.sum(e3t_masked[levels[0]:levels[1]+1,:,:], axis=0) \n",
    "                 \n",
    "    # calculate average:\n",
    "    dPb_weighted_ave = np.ma.sum(dPb_weighted, axis=0) / delta_depth\n",
    "    \n",
    "    return dPb_weighted_ave"
   ]
  },
  {
   "cell_type": "markdown",
   "metadata": {},
   "source": [
    "#### Calculations"
   ]
  },
  {
   "cell_type": "code",
   "execution_count": 26,
   "metadata": {},
   "outputs": [],
   "source": [
    "# calculate average over dates of observations:\n",
    "dissolpb = calculate_average(results_folder)*1e12"
   ]
  },
  {
   "cell_type": "markdown",
   "metadata": {},
   "source": [
    "#### Figure of concentrations:\n",
    "\n",
    "Ranges to display: depth-weighted average of\n",
    "- Polar mixed layer (surface to 40 m)\n",
    "- subsurface layer (47-110 m)\n",
    "- Atlantic layer (380-760 m)"
   ]
  },
  {
   "cell_type": "code",
   "execution_count": null,
   "metadata": {},
   "outputs": [],
   "source": [
    "plot_mix(dissolpb, ((0,15),(16,22),(30,33)), vmin=0, vmax1=15, vmax2=10, savefig=True, obs=True)"
   ]
  },
  {
   "cell_type": "code",
   "execution_count": null,
   "metadata": {},
   "outputs": [],
   "source": []
  }
 ],
 "metadata": {
  "kernelspec": {
   "display_name": "Python 3",
   "language": "python",
   "name": "python3"
  },
  "language_info": {
   "codemirror_mode": {
    "name": "ipython",
    "version": 3
   },
   "file_extension": ".py",
   "mimetype": "text/x-python",
   "name": "python",
   "nbconvert_exporter": "python",
   "pygments_lexer": "ipython3",
   "version": "3.6.11"
  }
 },
 "nbformat": 4,
 "nbformat_minor": 4
}
