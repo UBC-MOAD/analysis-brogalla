{
 "cells": [
  {
   "cell_type": "markdown",
   "metadata": {},
   "source": [
    "# Source contributions"
   ]
  },
  {
   "cell_type": "code",
   "execution_count": 1,
   "metadata": {},
   "outputs": [],
   "source": [
    "import pickle\n",
    "import numpy as np\n",
    "import xarray as xr\n",
    "import pandas as pd\n",
    "from calendar import monthrange\n",
    "\n",
    "%matplotlib inline"
   ]
  },
  {
   "cell_type": "markdown",
   "metadata": {},
   "source": [
    "#### Parameters:"
   ]
  },
  {
   "cell_type": "code",
   "execution_count": 2,
   "metadata": {},
   "outputs": [],
   "source": [
    "# domain dimensions:\n",
    "jmin, jmax = 159, 799\n",
    "imin, imax = 1139, 2179\n",
    "isize = imax - imin\n",
    "jsize = jmax - jmin\n",
    "\n",
    "# model result set:\n",
    "folder_base = '/data/brogalla/run_storage/Pb-tuning-202302/'\n",
    "\n",
    "colors = ['#ccb598', '#448d90', '#739f78', '#CC8741', '#cee7fd', '#b9c1c7']"
   ]
  },
  {
   "cell_type": "code",
   "execution_count": 3,
   "metadata": {},
   "outputs": [],
   "source": [
    "years = [2002, 2003, 2004, 2005, 2006, 2007]#, 2008, 2009, 2010, 2011, 2012, 2013, 2014, 2015, 2016, \\\n",
    "#          2017, 2018, 2019, 2020]"
   ]
  },
  {
   "cell_type": "markdown",
   "metadata": {},
   "source": [
    "#### Load files:"
   ]
  },
  {
   "cell_type": "code",
   "execution_count": 4,
   "metadata": {},
   "outputs": [],
   "source": [
    "mfile        = xr.open_dataset('/ocean/brogalla/GEOTRACES/data/ANHA12/ANHA12_mask_Pb-20230213.nc')\n",
    "ANHA12_lon   = mfile['nav_lon'].values\n",
    "ANHA12_lat   = mfile['nav_lat'].values\n",
    "tmask        = mfile['tmask'].values\n",
    "tmask_sub    = mfile['tmask'].values[0,:,imin:imax,jmin:jmax]\n",
    "land_mask = np.ma.masked_where((tmask_sub[:,:,:] > 0.1), tmask_sub[:,:,:]) \n",
    "\n",
    "mesh      = xr.open_dataset('/ocean/brogalla/GEOTRACES/data/ANHA12/ANHA12_mesh1.nc')\n",
    "e1t_base  = mesh['e1t'].values[0,imin:imax,jmin:jmax]\n",
    "e2t_base  = mesh['e2t'].values[0,imin:imax,jmin:jmax]\n",
    "e3t       = mesh['e3t_0'].values[0,:,imin:imax,jmin:jmax]\n",
    "e3t_masked = np.ma.masked_where((tmask_sub[:,:,:] < 0.1), e3t)\n",
    "nav_lev   = mesh['nav_lev'].values\n",
    "lons      = mesh['nav_lon'].values\n",
    "\n",
    "e1t       = np.tile(e1t_base, (50,1,1))\n",
    "e2t       = np.tile(e2t_base, (50,1,1))\n",
    "volume    = e1t*e2t*e3t\n",
    "area_base = e1t_base*e2t_base\n",
    "volume_masked = np.ma.masked_where((tmask_sub[:,:,:] < 0.1), volume)\n",
    "area_masked   = np.ma.masked_where((tmask_sub[0,:,:] < 0.1), area_base)"
   ]
  },
  {
   "cell_type": "markdown",
   "metadata": {},
   "source": [
    "Find grid cell volume and thickness at ocean floor:"
   ]
  },
  {
   "cell_type": "code",
   "execution_count": 5,
   "metadata": {},
   "outputs": [],
   "source": [
    "tmask_bot = np.copy(tmask_sub)\n",
    "tmask_bot[0,:,:] = 1\n",
    "e3t_mask = np.ma.masked_where((tmask_bot[:,:,:] < 0.1), e3t[:,:,:])\n",
    "\n",
    "# find bottom grid cell index:\n",
    "ind = np.array(np.ma.notmasked_edges(e3t_mask[:,:,:], axis=0))\n",
    "\n",
    "# array of shape (isize, jsize) containing bottom grid cell index\n",
    "index_bottom = np.ma.masked_where((tmask_sub[0,:,:] < 0.1), ind[1][0][:].reshape(isize,jsize))"
   ]
  },
  {
   "cell_type": "code",
   "execution_count": 6,
   "metadata": {},
   "outputs": [],
   "source": [
    "e3t_bot = np.zeros((isize,jsize))\n",
    "vol_bot = np.zeros((isize,jsize))\n",
    "\n",
    "for i in range(0, isize):\n",
    "    for j in range(0,jsize):\n",
    "        k = index_bottom[i,j]\n",
    "        try:\n",
    "            e3t_bot[i,j] = e3t[k,i,j]\n",
    "            vol_bot[i,j] = volume[k,i,j]\n",
    "        except:\n",
    "            e3t_bot[i,j] = np.nan\n",
    "            vol_bot[i,j] = np.nan\n",
    "        \n",
    "e3t_bottom    = np.ma.masked_where((tmask_sub[0,:,:] < 0.1) | np.isnan(e3t_bot), e3t_bot)\n",
    "volume_bottom = np.ma.masked_where((tmask_sub[0,:,:] < 0.1) | np.isnan(vol_bot), vol_bot)"
   ]
  },
  {
   "cell_type": "markdown",
   "metadata": {},
   "source": [
    "#### Functions:"
   ]
  },
  {
   "cell_type": "markdown",
   "metadata": {},
   "source": [
    "Compare values from monthly output for dust with the forcing field that I'm applying."
   ]
  },
  {
   "cell_type": "code",
   "execution_count": 7,
   "metadata": {},
   "outputs": [],
   "source": [
    "def load_results(folder, year, experiment):\n",
    "    \n",
    "    dpb_riv     = np.empty((12,isize,jsize)); dpb_sed = np.empty((12,isize,jsize)); \n",
    "    dpb_atmdust = np.empty((12,isize,jsize)); dpb_atmbc = np.empty((12,isize,jsize)); \n",
    "    dpb_icedust = np.empty((12,isize,jsize)); dpb_icebc = np.empty((12,isize,jsize));\n",
    "    dpb_sedice  = np.empty((12,isize,jsize)); dpb_priv = np.empty((12,isize,jsize));\n",
    "    \n",
    "    for i, month in enumerate(range(1,13)):\n",
    "        \n",
    "        file_name = f'ANHA12_EXH006_1m_{year}0101_{year}1231_comp_{year}{month:02}-{year}{month:02}.nc'\n",
    "        with xr.open_dataset(folder+file_name) as file:\n",
    "            dpb_riv[i,:,:]     = file['dpbriv'].values[0,:,:]\n",
    "            dpb_priv[i,:,:]    = file['ppbriv'].values[0,:,:]\n",
    "            dpb_sed[i,:,:]     = file['dpbsed'].values[0,:,:]\n",
    "            dpb_sedice[i,:,:]  = file['dpbsedice'].values[0,:,:]\n",
    "            dpb_atmdust[i,:,:] = file['dpbatmdust'].values[0,:,:]\n",
    "            dpb_atmbc[i,:,:]   = file['dpbatmbc'].values[0,:,:]\n",
    "            dpb_icedust[i,:,:] = file['dpbicedust'].values[0,:,:]\n",
    "            dpb_icebc[i,:,:]   = file['dpbicebc'].values[0,:,:]\n",
    "    if experiment=='nospm':\n",
    "        dpb_priv[:,:,:]   =  0\n",
    "    elif experiment=='noice':\n",
    "        dpb_sedice[:,:,:] = 0\n",
    "    elif experiment=='noresus':\n",
    "        dpb_sed[:,:,:]    = 0\n",
    "\n",
    "    return dpb_riv, dpb_priv, dpb_sed, dpb_sedice, dpb_atmbc, dpb_atmdust, dpb_icebc, dpb_icedust"
   ]
  },
  {
   "cell_type": "code",
   "execution_count": 8,
   "metadata": {},
   "outputs": [],
   "source": [
    "def calculate_contribution(folder, year=2002, experiment='ref'):\n",
    "    # Calculate the contribution of the model components\n",
    "    \n",
    "    # load contributions from file\n",
    "    dpb_riv, dpb_priv, dpb_sed, dpb_sedice, dpb_atmbc, dpb_atmdust, dpb_icebc, dpb_icedust = \\\n",
    "                       load_results(folder, year, experiment)\n",
    "    \n",
    "    tmask_surf    = np.empty(dpb_riv.shape)\n",
    "    tmask_surf[:] = tmask_sub[0,:,:]\n",
    "    \n",
    "    # Momentary contribution: moles / second (from moles / L / s --> moles / m3 / s --> moles / s)\n",
    "    # Mask is for the points associated with the specified region. \n",
    "    priv    = np.ma.masked_where((tmask_surf < 0.1), dpb_priv)    * volume_masked[0,:,:] * 1e3\n",
    "    riv     = np.ma.masked_where((tmask_surf < 0.1), dpb_riv)     * volume_masked[0,:,:] * 1e3\n",
    "    sedice  = np.ma.masked_where((tmask_surf < 0.1), dpb_sedice)  * volume_masked[0,:,:] * 1e3\n",
    "    atmdust = np.ma.masked_where((tmask_surf < 0.1), dpb_atmdust) * volume_masked[0,:,:] * 1e3\n",
    "    atmbc   = np.ma.masked_where((tmask_surf < 0.1), dpb_atmbc)   * volume_masked[0,:,:] * 1e3\n",
    "    icedust = np.ma.masked_where((tmask_surf < 0.1), dpb_icedust) * volume_masked[0,:,:] * 1e3\n",
    "    icebc   = np.ma.masked_where((tmask_surf < 0.1), dpb_icebc)   * volume_masked[0,:,:] * 1e3\n",
    "    # Calculate contributions to the upper water column, so mask locations where sediment resuspension is added in the deep.\n",
    "    resus   = np.ma.masked_where(np.tile(index_bottom, (12,1,1)) > 19, dpb_sed) * volume_bottom * 1e3\n",
    "    \n",
    "    # Yearly contribution to domain: moles / year (from moles / s / month --> moles / month --> moles / year)\n",
    "    total_yearly = {'atm_dust': 0, 'atm_bc': 0, 'ice_dust': 0, 'ice_bc': 0, \n",
    "                    'runoff'  : 0, 'part_runoff': 0, 'resus': 0, 'sed_ice': 0};\n",
    "    for month in range(1,13):  \n",
    "        days_in_month = monthrange(year, month)[1]\n",
    "        if days_in_month == 29: days_in_month = 28 # ignore leap year\n",
    "        dt            = 3600*24*days_in_month\n",
    "        \n",
    "        total_yearly['atm_dust']    = total_yearly['atm_dust']    + np.ma.sum(atmdust[month-1,:,:],axis=(0,1)) * dt\n",
    "        total_yearly['atm_bc']      = total_yearly['atm_bc']      + np.ma.sum(atmbc[month-1,:,:],axis=(0,1))   * dt\n",
    "        total_yearly['ice_dust']    = total_yearly['ice_dust']    + np.ma.sum(icedust[month-1,:,:],axis=(0,1)) * dt\n",
    "        total_yearly['ice_bc']      = total_yearly['ice_bc']      + np.ma.sum(icebc[month-1,:,:],axis=(0,1))   * dt\n",
    "        total_yearly['runoff']      = total_yearly['runoff']      + np.ma.sum(riv[month-1,:,:],axis=(0,1))     * dt\n",
    "        total_yearly['part_runoff'] = total_yearly['part_runoff'] + np.ma.sum(priv[month-1,:,:],axis=(0,1))    * dt\n",
    "        total_yearly['resus']       = total_yearly['resus']       + np.ma.sum(resus[month-1,:,:],axis=(0,1))   * dt\n",
    "        total_yearly['sed_ice']     = total_yearly['sed_ice']     + np.ma.sum(sedice[month-1,:,:],axis=(0,1))  * dt\n",
    "    \n",
    "    # Average yearly contribution over domain: moles / m2 / year\n",
    "    ave_yearly = total_yearly.copy()\n",
    "    for key in ave_yearly:\n",
    "        if key == 'ads':\n",
    "            ave_yearly[key] = ave_yearly[key]/(np.ma.sum(area_masked[:,:])*nav_lev[17]) # PML layer ave contribution\n",
    "        else:\n",
    "            ave_yearly[key] = ave_yearly[key]/np.ma.sum(area_masked[:,:])\n",
    " \n",
    "    return total_yearly, ave_yearly"
   ]
  },
  {
   "cell_type": "code",
   "execution_count": 9,
   "metadata": {},
   "outputs": [],
   "source": [
    "def print_annual_averages(totals, averages):\n",
    "\n",
    "    print(f'Annual average values')\n",
    "    print('----------------------------------------------------------------')\n",
    "    total_annual = sum(totals.values())\n",
    "    \n",
    "    strlen=55;\n",
    "    # Total annual contribution multiplied by 1e-6 to convert to Mmol\n",
    "    print(f\"{'Total annual contribution of Pb [Mmol/yr]:':<{strlen}}\"     + f\" {total_annual         *1e-6:<8.2f} \")\n",
    "    print(f\"{'-- Dissolved runoff':<{strlen}}\"                            + f\" {totals['runoff']     *1e-6:<8.2f}\")\n",
    "    print(f\"{'-- Dissolved-particulate exchange runoff':<{strlen}}\"       + f\" {totals['part_runoff']*1e-6:<8.2f}\")\n",
    "    print(f\"{'-- Sediment resuspension':<{strlen}}\"                       + f\" {totals['resus']      *1e-6:<8.2f}\")\n",
    "    print(f\"{'-- Sediment released by sea ice':<{strlen}}\"                + f\" {totals['sed_ice']    *1e-6:<8.2f}\")\n",
    "    print(f\"{'-- Natural aerosols released by sea ice':<{strlen}}\"        + f\" {totals['ice_dust']   *1e-6:<8.2f}\")\n",
    "    print(f\"{'-- Anthropogenic aerosols released by sea ice':<{strlen}}\"  + f\" {totals['ice_bc']     *1e-6:<8.2f}\")\n",
    "    print(f\"{'-- Natural aerosol deposition':<{strlen}}\"                  + f\" {totals['atm_dust']   *1e-6:<8.2f}\") \n",
    "    print(f\"{'-- Anthropogenic aerosol deposition':<{strlen}}\"            + f\" {totals['atm_bc']     *1e-6:<8.2f}\") \n",
    "\n",
    "    # Percent is calculated from sum of component contribution over all months / total contributions \n",
    "    print('----------------------------------------------------------------')\n",
    "    print('Total annual contribution of Pb [%]:') \n",
    "    print(f\"{'-- Dissolved runoff ':<{strlen}}\"                            + f\" {totals['runoff']     *100/total_annual:<8.2f}\")\n",
    "    print(f\"{'-- Dissolved-particulate exchange runoff ':<{strlen}}\"       + f\" {totals['part_runoff']*100/total_annual:<8.2f}\")\n",
    "    print(f\"{'-- Sediment resuspension ':<{strlen}}\"                       + f\" {totals['resus']      *100/total_annual:<8.2f}\")\n",
    "    print(f\"{'-- Sediment released by sea ice ':<{strlen}}\"                + f\" {totals['sed_ice']    *100/total_annual:<8.2f}\")\n",
    "    print(f\"{'-- Natural aerosols released by sea ice ':<{strlen}}\"        + f\" {totals['ice_dust']   *100/total_annual:<8.2f}\")\n",
    "    print(f\"{'-- Anthropogenic aerosols released by sea ice ':<{strlen}}\"  + f\" {totals['ice_bc']     *100/total_annual:<8.2f}\")\n",
    "    print(f\"{'-- Natural aerosol deposition ':<{strlen}}\"                  + f\" {totals['atm_dust']   *100/total_annual:<8.2f}\") \n",
    "    print(f\"{'-- Anthropogenic aerosol deposition ':<{strlen}}\"            + f\" {totals['atm_bc']     *100/total_annual:<8.2f}\") \n",
    "\n",
    "    # Average annual contribution converted to millimol\n",
    "    print('----------------------------------------------------------------')\n",
    "    print(f\"{'Average annual contribution of Pb [micromol/m2/yr]:':<{strlen}}\" + \n",
    "          f\"{sum(ave_yearly.values())*1e6:<8.2f}\")\n",
    "    print(f\"{'-- Dissolved runoff ':<{strlen}}\"                            + f\" {averages['runoff']     *1e6:<8.2f}\")\n",
    "    print(f\"{'-- Dissolved-particulate exchange runoff ':<{strlen}}\"       + f\" {averages['part_runoff']*1e6:<8.2f}\")\n",
    "    print(f\"{'-- Sediment resuspension ':<{strlen}}\"                       + f\" {averages['resus']      *1e6:<8.2f}\")\n",
    "    print(f\"{'-- Sediment released by sea ice ':<{strlen}}\"                + f\" {averages['sed_ice']    *1e6:<8.2f}\")\n",
    "    print(f\"{'-- Natural aerosols released by sea ice ':<{strlen}}\"        + f\" {averages['ice_dust']   *1e6:<8.2f}\")\n",
    "    print(f\"{'-- Anthropogenic aerosols released by sea ice ':<{strlen}}\"  + f\" {averages['ice_bc']     *1e6:<8.2f}\")\n",
    "    print(f\"{'-- Natural aerosol deposition ':<{strlen}}\"                  + f\" {averages['atm_dust']   *1e6:<8.2f}\") \n",
    "    print(f\"{'-- Anthropogenic aerosol deposition ':<{strlen}}\"            + f\" {averages['atm_bc']     *1e6:<8.2f}\") \n",
    "\n",
    "    return"
   ]
  },
  {
   "cell_type": "code",
   "execution_count": 28,
   "metadata": {},
   "outputs": [],
   "source": [
    "def print_interannual_averages(totals, averages):\n",
    "\n",
    "    strlen=55; # For print statement formatting\n",
    "    \n",
    "    print(f'Interannual average values')\n",
    "    print('----------------------------------------------------------------')    \n",
    "    total_annual = sum(totals.values())\n",
    "    \n",
    "    # Total annual contribution is averaged over the 18-year time series and multiplied by 1e-6 to convert to Mmol\n",
    "    print(f\"{'Total annual contribution of Pb [Mmol/yr]:':<{strlen}}\"     + f\" {np.average(total_annual)         *1e-6:<8.2f}\")\n",
    "    print(f\"{'-- Dissolved runoff':<{strlen}}\"                            + f\" {np.average(totals['runoff'])     *1e-6:<8.2f}\")\n",
    "    print(f\"{'-- Dissolved-particulate exchange runoff':<{strlen}}\"       + f\" {np.average(totals['part_runoff'])*1e-6:<8.2f}\")\n",
    "    print(f\"{'-- Sediment resuspension':<{strlen}}\"                       + f\" {np.average(totals['resus'])      *1e-6:<8.2f}\")\n",
    "    print(f\"{'-- Sediment released by sea ice':<{strlen}}\"                + f\" {np.average(totals['sed_ice'])    *1e-6:<8.2f}\")\n",
    "    print(f\"{'-- Natural aerosols released by sea ice':<{strlen}}\"        + f\" {np.average(totals['ice_dust'])   *1e-6:<8.2f}\")\n",
    "    print(f\"{'-- Anthropogenic aerosols released by sea ice':<{strlen}}\"  + f\" {np.average(totals['ice_bc'])     *1e-6:<8.2f}\")\n",
    "    print(f\"{'-- Natural aerosol deposition':<{strlen}}\"                  + f\" {np.average(totals['atm_dust'])   *1e-6:<8.2f}\") \n",
    "    print(f\"{'-- Anthropogenic aerosol deposition':<{strlen}}\"            + f\" {np.average(totals['atm_bc'])     *1e-6:<8.2f}\") \n",
    "\n",
    "    # Percent is calculated from sum of component contribution over all months / total contributions over full time period\n",
    "    tref = np.sum(total_annual)\n",
    "    print('----------------------------------------------------------------')\n",
    "    print('Total annual contribution of Pb [%]:') \n",
    "    print(f\"{'-- Dissolved runoff ':<{strlen}}\"                            + f\" {np.sum(totals['runoff'])     *100/tref:<8.2f}\")\n",
    "    print(f\"{'-- Dissolved-particulate exchange runoff ':<{strlen}}\"       + f\" {np.sum(totals['part_runoff'])*100/tref:<8.2f}\")\n",
    "    print(f\"{'-- Sediment resuspension ':<{strlen}}\"                       + f\" {np.sum(totals['resus'])      *100/tref:<8.2f}\")\n",
    "    print(f\"{'-- Sediment released by sea ice ':<{strlen}}\"                + f\" {np.sum(totals['sed_ice'])    *100/tref:<8.2f}\")\n",
    "    print(f\"{'-- Natural aerosols released by sea ice ':<{strlen}}\"        + f\" {np.sum(totals['ice_dust'])   *100/tref:<8.2f}\")\n",
    "    print(f\"{'-- Anthropogenic aerosols released by sea ice ':<{strlen}}\"  + f\" {np.sum(totals['ice_bc'])     *100/tref:<8.2f}\")\n",
    "    print(f\"{'-- Natural aerosol deposition ':<{strlen}}\"                  + f\" {np.sum(totals['atm_dust'])   *100/tref:<8.2f}\") \n",
    "    print(f\"{'-- Anthropogenic aerosol deposition ':<{strlen}}\"            + f\" {np.sum(totals['atm_bc'])     *100/tref:<8.2f}\") \n",
    "\n",
    "    # Average annual contribution is calculated as an average over the full time series and converted to millimol\n",
    "    print('----------------------------------------------------------------')\n",
    "    print(f\"{'Average annual contribution of Pb [micromol/m2/yr]:':<{strlen}}\" + \n",
    "          f\"{np.average(sum(averages.values()))*1e6:<8.2f}\")\n",
    "    print(f\"{'-- Dissolved runoff ':<{strlen}}\"                            + f\" {np.average(averages['runoff'])     *1e6:<8.2f}\")\n",
    "    print(f\"{'-- Dissolved-particulate exchange runoff ':<{strlen}}\"       + f\" {np.average(averages['part_runoff'])*1e6:<8.2f}\")\n",
    "    print(f\"{'-- Sediment resuspension ':<{strlen}}\"                       + f\" {np.average(averages['resus'])      *1e6:<8.2f}\")\n",
    "    print(f\"{'-- Sediment released by sea ice ':<{strlen}}\"                + f\" {np.average(averages['sed_ice'])    *1e6:<8.2f}\")\n",
    "    print(f\"{'-- Natural aerosols released by sea ice ':<{strlen}}\"        + f\" {np.average(averages['ice_dust'])   *1e6:<8.2f}\")\n",
    "    print(f\"{'-- Anthropogenic aerosols released by sea ice ':<{strlen}}\"  + f\" {np.average(averages['ice_bc'])     *1e6:<8.2f}\")\n",
    "    print(f\"{'-- Natural aerosol deposition ':<{strlen}}\"                  + f\" {np.average(averages['atm_dust'])   *1e6:<8.2f}\") \n",
    "    print(f\"{'-- Anthropogenic aerosol deposition ':<{strlen}}\"            + f\" {np.average(averages['atm_bc'])     *1e6:<8.2f}\") \n",
    "\n",
    "    return"
   ]
  },
  {
   "cell_type": "markdown",
   "metadata": {},
   "source": [
    "### Calculations:"
   ]
  },
  {
   "cell_type": "code",
   "execution_count": 11,
   "metadata": {},
   "outputs": [],
   "source": [
    "timeseries_total    = {}\n",
    "timeseries_ave      = {}\n",
    "for ind, year in enumerate(years):\n",
    "    total_yearly, ave_yearly = calculate_contribution(f'{folder_base}Pb-reference-{year}_20230221/', year=year, experiment='ref')\n",
    "\n",
    "    for key in total_yearly:\n",
    "        if ind ==0:\n",
    "            timeseries_total[key] = total_yearly[key]\n",
    "            timeseries_ave[key]   = ave_yearly[key]\n",
    "        else:\n",
    "            timeseries_total[key] = np.append(timeseries_total[key], total_yearly[key])\n",
    "            timeseries_ave[key]   = np.append(timeseries_ave[key]  , ave_yearly[key])"
   ]
  },
  {
   "cell_type": "code",
   "execution_count": 29,
   "metadata": {},
   "outputs": [
    {
     "name": "stdout",
     "output_type": "stream",
     "text": [
      "Interannual average values\n",
      "----------------------------------------------------------------\n",
      "Total annual contribution of Pb [Mmol/yr]:              1.76    \n",
      "-- Dissolved runoff                                     0.04    \n",
      "-- Dissolved-particulate exchange runoff                0.62    \n",
      "-- Sediment resuspension                                0.23    \n",
      "-- Sediment released by sea ice                         0.32    \n",
      "-- Natural aerosols released by sea ice                 0.03    \n",
      "-- Anthropogenic aerosols released by sea ice           0.24    \n",
      "-- Natural aerosol deposition                           0.01    \n",
      "-- Anthropogenic aerosol deposition                     0.27    \n",
      "----------------------------------------------------------------\n",
      "Total annual contribution of Pb [%]:\n",
      "-- Dissolved runoff                                     2.42    \n",
      "-- Dissolved-particulate exchange runoff                35.45   \n",
      "-- Sediment resuspension                                13.24   \n",
      "-- Sediment released by sea ice                         18.07   \n",
      "-- Natural aerosols released by sea ice                 1.58    \n",
      "-- Anthropogenic aerosols released by sea ice           13.49   \n",
      "-- Natural aerosol deposition                           0.63    \n",
      "-- Anthropogenic aerosol deposition                     15.12   \n",
      "----------------------------------------------------------------\n",
      "Average annual contribution of Pb [micromol/m2/yr]:    0.38    \n",
      "-- Dissolved runoff                                     0.01    \n",
      "-- Dissolved-particulate exchange runoff                0.13    \n",
      "-- Sediment resuspension                                0.05    \n",
      "-- Sediment released by sea ice                         0.07    \n",
      "-- Natural aerosols released by sea ice                 0.01    \n",
      "-- Anthropogenic aerosols released by sea ice           0.05    \n",
      "-- Natural aerosol deposition                           0.00    \n",
      "-- Anthropogenic aerosol deposition                     0.06    \n"
     ]
    }
   ],
   "source": [
    "print_interannual_averages(timeseries_total, timeseries_ave)"
   ]
  },
  {
   "cell_type": "code",
   "execution_count": 30,
   "metadata": {},
   "outputs": [
    {
     "name": "stdout",
     "output_type": "stream",
     "text": [
      "Annual average values\n",
      "----------------------------------------------------------------\n",
      "Total annual contribution of Pb [Mmol/yr]:              1.65     \n",
      "-- Dissolved runoff                                     0.04    \n",
      "-- Dissolved-particulate exchange runoff                0.65    \n",
      "-- Sediment resuspension                                0.23    \n",
      "-- Sediment released by sea ice                         0.26    \n",
      "-- Natural aerosols released by sea ice                 0.02    \n",
      "-- Anthropogenic aerosols released by sea ice           0.20    \n",
      "-- Natural aerosol deposition                           0.01    \n",
      "-- Anthropogenic aerosol deposition                     0.23    \n",
      "----------------------------------------------------------------\n",
      "Total annual contribution of Pb [%]:\n",
      "-- Dissolved runoff                                     2.58    \n",
      "-- Dissolved-particulate exchange runoff                39.69   \n",
      "-- Sediment resuspension                                14.13   \n",
      "-- Sediment released by sea ice                         15.83   \n",
      "-- Natural aerosols released by sea ice                 1.14    \n",
      "-- Anthropogenic aerosols released by sea ice           12.02   \n",
      "-- Natural aerosol deposition                           0.73    \n",
      "-- Anthropogenic aerosol deposition                     13.89   \n",
      "----------------------------------------------------------------\n",
      "Average annual contribution of Pb [micromol/m2/yr]:    0.36    \n",
      "-- Dissolved runoff                                     0.01    \n",
      "-- Dissolved-particulate exchange runoff                0.14    \n",
      "-- Sediment resuspension                                0.05    \n",
      "-- Sediment released by sea ice                         0.06    \n",
      "-- Natural aerosols released by sea ice                 0.00    \n",
      "-- Anthropogenic aerosols released by sea ice           0.04    \n",
      "-- Natural aerosol deposition                           0.00    \n",
      "-- Anthropogenic aerosol deposition                     0.05    \n"
     ]
    }
   ],
   "source": [
    "total_yearly, ave_yearly = calculate_contribution(f'{folder_base}Pb-reference-{year}_20230221/', year=year, experiment='ref')\n",
    "print_annual_averages(total_yearly, ave_yearly)"
   ]
  },
  {
   "cell_type": "markdown",
   "metadata": {},
   "source": [
    "Compare file output with what I would estimate based on model forcing:"
   ]
  },
  {
   "cell_type": "code",
   "execution_count": 12,
   "metadata": {},
   "outputs": [],
   "source": [
    "year =2005\n",
    "__, __, __, __, dpb_atmbc, dpb_atmdust, dpb_icebc, dpb_icedust = load_results(f'{folder_base}Pb-reference-{year}_20230221/',year,'ref')"
   ]
  },
  {
   "cell_type": "code",
   "execution_count": 30,
   "metadata": {},
   "outputs": [
    {
     "data": {
      "text/plain": [
       "(12, 1040, 640)"
      ]
     },
     "execution_count": 30,
     "metadata": {},
     "output_type": "execute_result"
    }
   ],
   "source": [
    "dpb_atmdust.shape"
   ]
  },
  {
   "cell_type": "code",
   "execution_count": 18,
   "metadata": {},
   "outputs": [],
   "source": [
    "def load_atm_forcing(year):\n",
    " \n",
    "    folder = '/ocean/brogalla/GEOTRACES/data/Pb-202207-forcing/atmospheric/'\n",
    "    \n",
    "    dust_flux = np.empty((12,isize,jsize)); bc_flux = np.empty((12,isize,jsize)); \n",
    "    \n",
    "    for i, month in enumerate(range(1,13)):\n",
    "        file_name = f'atm_flux_y{year}m{month:02}.nc'\n",
    "        with xr.open_dataset(folder+file_name) as file:\n",
    "            dust_flux[i,:,:] = file['fdust'].values[imin:imax,jmin:jmax] + file['cdust'].values[imin:imax,jmin:jmax]\n",
    "            bc_flux[i,:,:]   = file['bc'].values[imin:imax,jmin:jmax]\n",
    "            \n",
    "    return dust_flux, bc_flux"
   ]
  },
  {
   "cell_type": "code",
   "execution_count": 19,
   "metadata": {},
   "outputs": [],
   "source": [
    "dust_flx, bc_flx = load_atm_forcing(2005)"
   ]
  },
  {
   "cell_type": "code",
   "execution_count": 32,
   "metadata": {},
   "outputs": [],
   "source": [
    "def calc_atmbc(flux): \n",
    "    # constants\n",
    "    alpha0     = 0.80\n",
    "    m          = 207.2 \n",
    "    Pb_frac_BC = 0.011\n",
    "    \n",
    "    # calculation\n",
    "    atmpb = alpha0*(1/e3t[0,:,:])*(1/1000)*(1/m)*Pb_frac_BC*flux*1000\n",
    "    \n",
    "    return atmpb\n",
    "\n",
    "def calc_atmdust(flux): \n",
    "    # constants\n",
    "    alpha0      = 0.80\n",
    "    m           = 207.2 \n",
    "    Pb_frac_sed = 0.017\n",
    "    \n",
    "    # calculation\n",
    "    atmpb = alpha0*(1/e3t[0,:,:])*(1/1000)*(1/m)*Pb_frac_sed*flux\n",
    "    \n",
    "    return atmpb"
   ]
  },
  {
   "cell_type": "code",
   "execution_count": 33,
   "metadata": {},
   "outputs": [
    {
     "name": "stderr",
     "output_type": "stream",
     "text": [
      "/home/brogalla/miniconda3/envs/julab/lib/python3.6/site-packages/ipykernel_launcher.py:8: RuntimeWarning: divide by zero encountered in true_divide\n",
      "  \n",
      "/home/brogalla/miniconda3/envs/julab/lib/python3.6/site-packages/ipykernel_launcher.py:19: RuntimeWarning: divide by zero encountered in true_divide\n"
     ]
    }
   ],
   "source": [
    "atm_pb_bc  = calc_atmbc(bc_flx)\n",
    "atm_pb_dst = calc_atmdust(dust_flx)"
   ]
  },
  {
   "cell_type": "code",
   "execution_count": 34,
   "metadata": {},
   "outputs": [
    {
     "data": {
      "text/plain": [
       "array([[4.96675946e-20, 4.86560529e-20, 4.76440879e-20, ...,\n",
       "        7.13907533e-19, 7.15657486e-19, 7.17406766e-19],\n",
       "       [4.93960015e-20, 4.83846213e-20, 4.73727726e-20, ...,\n",
       "        7.15180099e-19, 7.16931706e-19, 7.18682640e-19],\n",
       "       [4.91254326e-20, 4.81142593e-20, 4.71026174e-20, ...,\n",
       "        7.15119973e-19, 7.18204427e-19, 7.19957015e-19],\n",
       "       ...,\n",
       "       [6.95013126e-19, 7.02040335e-19, 7.09070130e-19, ...,\n",
       "        2.05495213e-19, 2.11324704e-19, 2.17793476e-19],\n",
       "       [7.00661218e-19, 7.07705178e-19, 7.14752860e-19, ...,\n",
       "        2.08768858e-19, 2.15212323e-19, 2.21668171e-19],\n",
       "       [7.06300108e-19, 7.13361956e-19, 7.20426440e-19, ...,\n",
       "        2.12658972e-19, 2.19089926e-19, 2.25533560e-19]])"
      ]
     },
     "execution_count": 34,
     "metadata": {},
     "output_type": "execute_result"
    }
   ],
   "source": [
    "dpb_atmdust[5,:,:]"
   ]
  },
  {
   "cell_type": "code",
   "execution_count": 35,
   "metadata": {},
   "outputs": [
    {
     "data": {
      "text/plain": [
       "array([[4.96676009e-20, 4.86560565e-20, 4.76440911e-20, ...,\n",
       "        7.13907609e-19, 7.15657555e-19, 7.17406841e-19],\n",
       "       [4.93960051e-20, 4.83846250e-20, 4.73727759e-20, ...,\n",
       "        7.15180180e-19, 7.16931768e-19, 7.18682696e-19],\n",
       "       [4.91254378e-20, 4.81142646e-20, 4.71026222e-20, ...,\n",
       "        7.15120037e-19, 7.18204499e-19, 7.19957109e-19],\n",
       "       ...,\n",
       "       [           inf,            inf,            inf, ...,\n",
       "        2.05495238e-19, 2.11324730e-19, 2.17793488e-19],\n",
       "       [           inf,            inf,            inf, ...,\n",
       "        2.08768874e-19, 2.15212345e-19, 2.21668183e-19],\n",
       "       [           inf,            inf,            inf, ...,\n",
       "        2.12658994e-19, 2.19089942e-19, 2.25533584e-19]])"
      ]
     },
     "execution_count": 35,
     "metadata": {},
     "output_type": "execute_result"
    }
   ],
   "source": [
    "atm_pb_dst[5,:,:]"
   ]
  },
  {
   "cell_type": "code",
   "execution_count": null,
   "metadata": {},
   "outputs": [],
   "source": []
  }
 ],
 "metadata": {
  "kernelspec": {
   "display_name": "Python 3",
   "language": "python",
   "name": "python3"
  },
  "language_info": {
   "codemirror_mode": {
    "name": "ipython",
    "version": 3
   },
   "file_extension": ".py",
   "mimetype": "text/x-python",
   "name": "python",
   "nbconvert_exporter": "python",
   "pygments_lexer": "ipython3",
   "version": "3.6.11"
  }
 },
 "nbformat": 4,
 "nbformat_minor": 4
}
