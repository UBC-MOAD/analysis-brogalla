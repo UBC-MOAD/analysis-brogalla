{
 "cells": [
  {
   "cell_type": "markdown",
   "id": "e8c0b08d",
   "metadata": {},
   "source": [
    "# Particle tracking with tracer"
   ]
  },
  {
   "cell_type": "code",
   "execution_count": 1,
   "id": "ef9963f3",
   "metadata": {},
   "outputs": [],
   "source": [
    "import numpy as np\n",
    "from datetime import timedelta as delta, datetime\n",
    "import xarray as xr\n",
    "from parcels import FieldSet, Variable, ParticleSet, JITParticle, AdvectionRK4_3D, ErrorCode\n",
    "import glob\n",
    "import matplotlib.pyplot as plt\n",
    "from calendar import monthrange\n",
    "\n",
    "%matplotlib inline"
   ]
  },
  {
   "cell_type": "markdown",
   "id": "e614fb02",
   "metadata": {},
   "source": [
    "#### Parameters"
   ]
  },
  {
   "cell_type": "code",
   "execution_count": 2,
   "id": "c86c7067",
   "metadata": {},
   "outputs": [],
   "source": [
    "# Sub-domain dimensions:\n",
    "jmin, jmax = 159, 799\n",
    "imin, imax = 1139, 2179"
   ]
  },
  {
   "cell_type": "markdown",
   "id": "8548421f",
   "metadata": {},
   "source": [
    "#### Load files"
   ]
  },
  {
   "cell_type": "code",
   "execution_count": 3,
   "id": "9e8b1e41",
   "metadata": {},
   "outputs": [],
   "source": [
    "# Open particle initialization location file:\n",
    "ini_loc_PC = xr.open_dataset('/ocean/brogalla/GEOTRACES/parcels/Pb-chapter/western-PC-transect-parcels.nc')\n",
    "PC_lons    = ini_loc_PC['longitude'].values\n",
    "PC_lats    = ini_loc_PC['latitude'].values\n",
    "PC_deps    = ini_loc_PC['depth'].values\n",
    "\n",
    "# ini_loc_GR = xr.open_dataset('/ocean/brogalla/GEOTRACES/parcels/Pb-chapter/Greenland-transect-parcels.nc')\n",
    "# GR_lons    = ini_loc_GR['longitude'].values\n",
    "# GR_lats    = ini_loc_GR['latitude'].values\n",
    "# GR_deps    = ini_loc_GR['depth'].values\n",
    "\n",
    "ini_loc_DS = xr.open_dataset('/ocean/brogalla/GEOTRACES/parcels/Pb-chapter/Greenland-transect2-parcels.nc')\n",
    "DS_lons    = ini_loc_DS['longitude'].values\n",
    "DS_lats    = ini_loc_DS['latitude'].values\n",
    "DS_deps    = ini_loc_DS['depth'].values"
   ]
  },
  {
   "cell_type": "code",
   "execution_count": 4,
   "id": "b6aceace-5d17-43ed-93b5-9c9c3abb69ad",
   "metadata": {},
   "outputs": [],
   "source": [
    "# ANHA12 mesh grid:\n",
    "mesh         = xr.open_dataset('/ocean/brogalla/GEOTRACES/data/ANHA12/ANHA12_mask_Pb-20220317.nc')\n",
    "# mesh_lon     = mesh['nav_lon'].values\n",
    "# mesh_lat     = mesh['nav_lat'].values\n",
    "# mesh_bathy   = mesh['tmask'][0,:,:,:].values\n",
    "# bathy_masked = np.ma.masked_where((mesh_bathy> 0.1), mesh_bathy)\n",
    "# ocean_masked = np.ma.masked_where((mesh_bathy<0.1), mesh_bathy)\n",
    "depths       = mesh['nav_lev'].values"
   ]
  },
  {
   "cell_type": "markdown",
   "id": "a22fa6c2",
   "metadata": {},
   "source": [
    "#### General setup"
   ]
  },
  {
   "cell_type": "markdown",
   "id": "6d83fb6a",
   "metadata": {},
   "source": [
    "Timestamps:"
   ]
  },
  {
   "cell_type": "code",
   "execution_count": 5,
   "id": "3e94fd50",
   "metadata": {},
   "outputs": [],
   "source": [
    "year      = 2014\n",
    "# Mesh mask\n",
    "mesh_mask = '/ocean/brogalla/GEOTRACES/data/ANHA12/ANHA12_mesh1.nc'\n",
    "\n",
    "# Lists of ANHA12 NEMO U,V,W files (on full ANHA12 domain)\n",
    "folder_ANHA12      = '/data/brogalla/ANHA12/'\n",
    "ANHA12_gridU_files = sorted(glob.glob(f'{folder_ANHA12}ANHA12-EXH006_y{year}m??d??_gridU.nc'))   + \\\n",
    "                     sorted(glob.glob(f'{folder_ANHA12}ANHA12-EXH006_y{year+1}m??d??_gridU.nc')) + \\\n",
    "                     sorted(glob.glob(f'{folder_ANHA12}ANHA12-EXH006_y{year+2}m??d??_gridU.nc'))\n",
    "ANHA12_gridV_files = sorted(glob.glob(f'{folder_ANHA12}ANHA12-EXH006_y{year}m??d??_gridV.nc'))   + \\\n",
    "                     sorted(glob.glob(f'{folder_ANHA12}ANHA12-EXH006_y{year+1}m??d??_gridV.nc')) + \\\n",
    "                     sorted(glob.glob(f'{folder_ANHA12}ANHA12-EXH006_y{year+2}m??d??_gridV.nc'))\n",
    "ANHA12_gridW_files = sorted(glob.glob(f'{folder_ANHA12}ANHA12-EXH006_5d_gridW_y{year}m??d??.nc'))  + \\\n",
    "                     sorted(glob.glob(f'{folder_ANHA12}ANHA12-EXH006_5d_gridW_y{year+1}m??d??.nc'))+ \\\n",
    "                     sorted(glob.glob(f'{folder_ANHA12}ANHA12-EXH006_5d_gridW_y{year+2}m??d??.nc'))\n",
    "\n",
    "# Lists of ANHA12 NEMO Pb tracer files (on sub-domain of full ANHA12 domain)\n",
    "folder_Pb1 = f'/data/brogalla/run_storage/Pb-reference-202303/Pb-reference-{year}_20230308/'\n",
    "folder_Pb2 = f'/data/brogalla/run_storage/Pb-reference-202303/Pb-reference-{year+1}_20230308/'\n",
    "folder_Pb3 = f'/data/brogalla/run_storage/Pb-reference-202303/Pb-reference-{year+2}_20230308/'\n",
    "files_Pb  = sorted(glob.glob(f'{folder_Pb1}ANHA12_EXH006_5d_{year}0101_{year}1231_ptrc_T_{year}*')) + \\\n",
    "            sorted(glob.glob(f'{folder_Pb2}ANHA12_EXH006_5d_{year+1}0101_{year+1}1231_ptrc_T_{year+1}*')) + \\\n",
    "            sorted(glob.glob(f'{folder_Pb3}ANHA12_EXH006_5d_{year+2}0101_{year+2}1231_ptrc_T_{year+2}*'))\n",
    "\n",
    "# Create timestamps from file dates: (because of time_origin issue in ANHA12 netcdf dynamics files)\n",
    "time_stamps_files = []\n",
    "for n, file in enumerate(ANHA12_gridU_files):\n",
    "    dateU  = datetime.strptime(file[36:47],'y%Ym%md%d')\n",
    "    dateV  = datetime.strptime(ANHA12_gridV_files[n][36:47],'y%Ym%md%d')\n",
    "    dateW  = datetime.strptime(ANHA12_gridW_files[n][45:56],'y%Ym%md%d')\n",
    "    datePb = datetime.strptime(files_Pb[n][125:133],'%Y%m%d')\n",
    "#     datePb = dateW\n",
    "    # print(dateU, dateV, dateW, datePb)\n",
    "    \n",
    "    # double-check that the date is the same for all files\n",
    "    if (dateU != dateV) | (dateU != dateW) | (dateU != datePb):\n",
    "        print('Dates not equal!')\n",
    "    else:   \n",
    "        time_stamps_files.append(np.datetime64(f'{dateU.year:02}-{dateU.month:02}-{dateU.day:02}'))\n",
    "\n",
    "# array of file timestamps\n",
    "timestamps_files = np.expand_dims(np.array(time_stamps_files), axis=1)"
   ]
  },
  {
   "cell_type": "markdown",
   "id": "59fb2bf0",
   "metadata": {},
   "source": [
    "Run with Pb as tracer (Pb on sub-domain, U,V,W on full domain)"
   ]
  },
  {
   "cell_type": "code",
   "execution_count": 6,
   "id": "720b8ede",
   "metadata": {},
   "outputs": [],
   "source": [
    "filenames  = {'U': {'lon': mesh_mask     , 'lat': mesh_mask  , 'depth': ANHA12_gridW_files[0], 'data': ANHA12_gridU_files},\n",
    "              'V': {'lon': mesh_mask     , 'lat': mesh_mask  , 'depth': ANHA12_gridW_files[0], 'data': ANHA12_gridV_files},\n",
    "              'W': {'lon': mesh_mask     , 'lat': mesh_mask  , 'depth': ANHA12_gridW_files[0], 'data': ANHA12_gridW_files},\n",
    "              'Pb': {'lon': files_Pb[0]  , 'lat': files_Pb[0], 'depth': files_Pb[0], 'data': files_Pb}}\n",
    "\n",
    "dimensions = {'U':  {'lon': 'nav_lon', 'lat': 'nav_lat', 'depth': 'depthw'},\n",
    "              'V':  {'lon': 'nav_lon', 'lat': 'nav_lat', 'depth': 'depthw'},\n",
    "              'W':  {'lon': 'nav_lon', 'lat': 'nav_lat', 'depth': 'depthw'},\n",
    "              'Pb': {'lon': 'nav_lon', 'lat': 'nav_lat', 'depth': 'deptht'}}\n",
    "\n",
    "variables  = {'U': 'vozocrtx',\n",
    "              'V': 'vomecrty',\n",
    "              'W': 'vovecrtz',\n",
    "              'Pb': 'dissolpb'}\n",
    "\n",
    "# needed to provide time as timestamps in order to avoid time origin type issue\n",
    "fieldset   = FieldSet.from_nemo(filenames, variables, dimensions, \\\n",
    "                                timestamps=timestamps_files, \\\n",
    "                                allow_time_extrapolation=False)"
   ]
  },
  {
   "cell_type": "markdown",
   "id": "e881b57c",
   "metadata": {},
   "source": [
    "#### General functions"
   ]
  },
  {
   "cell_type": "code",
   "execution_count": 7,
   "id": "fa0c5857",
   "metadata": {},
   "outputs": [],
   "source": [
    "def DeleteParticle(particle, fieldset, time):\n",
    "    print(\"Particle [%d] lost !! (%g %g %g %g)\" % (particle.id, particle.lon, particle.lat, particle.depth, particle.time))\n",
    "    particle.delete()"
   ]
  },
  {
   "cell_type": "code",
   "execution_count": 8,
   "id": "8862148e",
   "metadata": {},
   "outputs": [],
   "source": [
    "# define new particle class for Pb\n",
    "class PbParticle(JITParticle): \n",
    "    dissolvedPb = Variable('dissolpb', initial=0)  # Variable 'dissolpb' initialised by sampling the dissolved Pb field"
   ]
  },
  {
   "cell_type": "code",
   "execution_count": 9,
   "id": "08256cb8",
   "metadata": {},
   "outputs": [],
   "source": [
    "def SamplePb(particle, fieldset, time):\n",
    "    particle.dissolpb = fieldset.Pb[particle.time, particle.depth, particle.lat, particle.lon]"
   ]
  },
  {
   "cell_type": "code",
   "execution_count": 12,
   "id": "f56b2851",
   "metadata": {},
   "outputs": [],
   "source": [
    "def pushback(particle, fieldset, time):\n",
    "    particle.depth = 1.0"
   ]
  },
  {
   "cell_type": "code",
   "execution_count": 13,
   "id": "b613d27e",
   "metadata": {},
   "outputs": [],
   "source": [
    "def run_parcels(fieldset, plon, plat, pdepth, ptime, runtime=0, sampling=False, filename='test.zarr'):\n",
    "\n",
    "    # Define particle locations on a grid in my domain:\n",
    "    pset = ParticleSet(fieldset=fieldset, pclass=PbParticle, lon=plon, lat=plat, depth=pdepth, time=ptime)#, \n",
    "                       # repeatdt=delta(hours=24*7).total_seconds()) # release every four weeks\n",
    "\n",
    "    output_file = pset.ParticleFile(name=f\"/ocean/brogalla/GEOTRACES/parcels/Pb-chapter/{filename}\", \n",
    "                                    outputdt=delta(hours=16))\n",
    "\n",
    "    # Nudge the particle set locations closer to the actual grid locations:               \n",
    "    for i in range(len(pset)):\n",
    "        for gi, g in enumerate(fieldset.gridset.grids):\n",
    "            d = np.hypot((pset.lon[i] - g.lon), (pset.lat[i] - g.lat))\n",
    "            ind = np.unravel_index(np.argmin(d, axis=None), d.shape)\n",
    "            pset.xi[i, gi] = ind[1]\n",
    "            pset.yi[i, gi] = ind[0]\n",
    "    \n",
    "    # Option to run with tracer sampling kernel (SamplePb) or only with 3D advection kernel\n",
    "    if sampling:\n",
    "        pset.execute(AdvectionRK4_3D + pset.Kernel(SamplePb), \n",
    "                     runtime = runtime, dt = delta(hours=8), \n",
    "                     output_file = output_file,\n",
    "                     recovery={ErrorCode.ErrorOutOfBounds: DeleteParticle, \n",
    "                               ErrorCode.ErrorThroughSurface: pushback})        \n",
    "    else:\n",
    "        pset.execute(AdvectionRK4_3D, runtime=runtime, dt=delta(hours=8),  \n",
    "                     output_file = output_file,\n",
    "                     recovery={ErrorCode.ErrorOutOfBounds: DeleteParticle,\n",
    "                               ErrorCode.ErrorThroughSurface: pushback})\n",
    "    \n",
    "    return pset"
   ]
  },
  {
   "cell_type": "markdown",
   "id": "f1774452",
   "metadata": {},
   "source": [
    "#### Run:"
   ]
  },
  {
   "cell_type": "code",
   "execution_count": 14,
   "id": "b9eadf98-3e69-46da-9ca1-e747b822c0eb",
   "metadata": {},
   "outputs": [],
   "source": [
    "release_days = np.append(0, np.cumsum([monthrange(2014, i)[1] for i in range(1,6)]))\n",
    "release_time = np.array([delta(hours=24*float(i)).total_seconds() for i in release_days])"
   ]
  },
  {
   "cell_type": "code",
   "execution_count": 15,
   "id": "08605bf6-663e-4463-a4ae-2cc6d1193b92",
   "metadata": {},
   "outputs": [],
   "source": [
    "PC_lat   = np.linspace(74.5, 76, 10)\n",
    "PC_lon   = np.ones(PC_lat.shape)*-123 \n",
    "PC_depth = depths[0:30]\n",
    "PC_time  = release_time\n",
    "\n",
    "# Release each parcel at a particular lon, lat, and depth, and time:\n",
    "PC_lats   = np.tile(np.repeat(PC_lat, len(PC_depth)), len(PC_time))\n",
    "PC_lons   = np.tile(np.repeat(PC_lon, len(PC_depth)), len(PC_time))\n",
    "PC_depths = np.tile(np.tile(PC_depth, len(PC_lat)), len(PC_time))\n",
    "PC_times  = np.repeat(PC_time, len(PC_lat)*len(PC_depth))"
   ]
  },
  {
   "cell_type": "code",
   "execution_count": 16,
   "id": "7920b610",
   "metadata": {},
   "outputs": [],
   "source": [
    "# plon   = np.concatenate((PC_lons, DS_lons))\n",
    "# plat   = np.concatenate((PC_lats, DS_lats))\n",
    "# pdepth = np.concatenate((PC_deps, DS_deps))\n",
    "plon   = PC_lons\n",
    "plat   = PC_lats\n",
    "pdepth = PC_depths\n",
    "ptime  = PC_times"
   ]
  },
  {
   "cell_type": "code",
   "execution_count": null,
   "id": "6fdc76ac-a4c3-4887-825e-05298e01c9b2",
   "metadata": {},
   "outputs": [
    {
     "name": "stderr",
     "output_type": "stream",
     "text": [
      "INFO: Compiled ArrayPbParticleAdvectionRK4_3DSamplePb ==> /tmp/parcels-2672/lib2f0b64aa784ef33fe03e44de9a98812b_0.so\n",
      "INFO: Output files are stored in /ocean/brogalla/GEOTRACES/parcels/Pb-chapter/20230326_runtime2yrs_release2014monthly.zarr.\n",
      " 14%|████████████████████                                                                                                                        | 11289600.0/78840000.0 [17:10<2:23:20, 7853.95it/s]"
     ]
    }
   ],
   "source": [
    "pset = run_parcels(fieldset, plon, plat, pdepth, ptime, runtime=delta(hours=24*365*2.5), \n",
    "                   sampling=True, filename='20230326_runtime2yrs_release2014monthly.zarr') "
   ]
  },
  {
   "cell_type": "code",
   "execution_count": 16,
   "id": "8bdca9d3",
   "metadata": {},
   "outputs": [
    {
     "name": "stderr",
     "output_type": "stream",
     "text": [
      "INFO: Compiled ArrayPbParticleAdvectionRK4_3DSamplePb ==> /tmp/parcels-2672/lib6559e38758256f719d5bbd87d4a7d13c_0.so\n",
      "INFO: Output files are stored in /ocean/brogalla/GEOTRACES/parcels/Pb-chapter/20230326_runtime2yrs_release2014monthly.zarr.\n",
      " 18%|█████████████████████████                                                                                                                   | 11289600.0/63072000.0 [17:10<1:47:53, 7998.74it/s]"
     ]
    },
    {
     "ename": "KeyboardInterrupt",
     "evalue": "",
     "output_type": "error",
     "traceback": [
      "\u001b[0;31m---------------------------------------------------------------------------\u001b[0m",
      "\u001b[0;31mKeyboardInterrupt\u001b[0m                         Traceback (most recent call last)",
      "Cell \u001b[0;32mIn [16], line 1\u001b[0m\n\u001b[0;32m----> 1\u001b[0m pset \u001b[38;5;241m=\u001b[39m \u001b[43mrun_parcels\u001b[49m\u001b[43m(\u001b[49m\u001b[43mfieldset\u001b[49m\u001b[43m,\u001b[49m\u001b[43m \u001b[49m\u001b[43mplon\u001b[49m\u001b[43m,\u001b[49m\u001b[43m \u001b[49m\u001b[43mplat\u001b[49m\u001b[43m,\u001b[49m\u001b[43m \u001b[49m\u001b[43mpdepth\u001b[49m\u001b[43m,\u001b[49m\u001b[43m \u001b[49m\u001b[43mptime\u001b[49m\u001b[43m,\u001b[49m\u001b[43m \u001b[49m\u001b[43mruntime\u001b[49m\u001b[38;5;241;43m=\u001b[39;49m\u001b[43mdelta\u001b[49m\u001b[43m(\u001b[49m\u001b[43mhours\u001b[49m\u001b[38;5;241;43m=\u001b[39;49m\u001b[38;5;241;43m24\u001b[39;49m\u001b[38;5;241;43m*\u001b[39;49m\u001b[38;5;241;43m365\u001b[39;49m\u001b[38;5;241;43m*\u001b[39;49m\u001b[38;5;241;43m2.0\u001b[39;49m\u001b[43m)\u001b[49m\u001b[43m,\u001b[49m\u001b[43m \u001b[49m\n\u001b[1;32m      2\u001b[0m \u001b[43m                   \u001b[49m\u001b[43msampling\u001b[49m\u001b[38;5;241;43m=\u001b[39;49m\u001b[38;5;28;43;01mTrue\u001b[39;49;00m\u001b[43m,\u001b[49m\u001b[43m \u001b[49m\u001b[43mfilename\u001b[49m\u001b[38;5;241;43m=\u001b[39;49m\u001b[38;5;124;43m'\u001b[39;49m\u001b[38;5;124;43m20230326_runtime2yrs_release2014monthly.zarr\u001b[39;49m\u001b[38;5;124;43m'\u001b[39;49m\u001b[43m)\u001b[49m \n",
      "Cell \u001b[0;32mIn [10], line 20\u001b[0m, in \u001b[0;36mrun_parcels\u001b[0;34m(fieldset, plon, plat, pdepth, ptime, runtime, sampling, filename)\u001b[0m\n\u001b[1;32m     18\u001b[0m \u001b[38;5;66;03m# Option to run with tracer sampling kernel (SamplePb) or only with 3D advection kernel\u001b[39;00m\n\u001b[1;32m     19\u001b[0m \u001b[38;5;28;01mif\u001b[39;00m sampling:\n\u001b[0;32m---> 20\u001b[0m     \u001b[43mpset\u001b[49m\u001b[38;5;241;43m.\u001b[39;49m\u001b[43mexecute\u001b[49m\u001b[43m(\u001b[49m\u001b[43mAdvectionRK4_3D\u001b[49m\u001b[43m \u001b[49m\u001b[38;5;241;43m+\u001b[39;49m\u001b[43m \u001b[49m\u001b[43mpset\u001b[49m\u001b[38;5;241;43m.\u001b[39;49m\u001b[43mKernel\u001b[49m\u001b[43m(\u001b[49m\u001b[43mSamplePb\u001b[49m\u001b[43m)\u001b[49m\u001b[43m,\u001b[49m\u001b[43m \u001b[49m\n\u001b[1;32m     21\u001b[0m \u001b[43m                 \u001b[49m\u001b[43mruntime\u001b[49m\u001b[43m \u001b[49m\u001b[38;5;241;43m=\u001b[39;49m\u001b[43m \u001b[49m\u001b[43mruntime\u001b[49m\u001b[43m,\u001b[49m\u001b[43m \u001b[49m\u001b[43mdt\u001b[49m\u001b[43m \u001b[49m\u001b[38;5;241;43m=\u001b[39;49m\u001b[43m \u001b[49m\u001b[43mdelta\u001b[49m\u001b[43m(\u001b[49m\u001b[43mhours\u001b[49m\u001b[38;5;241;43m=\u001b[39;49m\u001b[38;5;241;43m8\u001b[39;49m\u001b[43m)\u001b[49m\u001b[43m,\u001b[49m\u001b[43m \u001b[49m\n\u001b[1;32m     22\u001b[0m \u001b[43m                 \u001b[49m\u001b[43moutput_file\u001b[49m\u001b[43m \u001b[49m\u001b[38;5;241;43m=\u001b[39;49m\u001b[43m \u001b[49m\u001b[43moutput_file\u001b[49m\u001b[43m,\u001b[49m\n\u001b[1;32m     23\u001b[0m \u001b[43m                 \u001b[49m\u001b[43mrecovery\u001b[49m\u001b[38;5;241;43m=\u001b[39;49m\u001b[43m{\u001b[49m\u001b[43mErrorCode\u001b[49m\u001b[38;5;241;43m.\u001b[39;49m\u001b[43mErrorOutOfBounds\u001b[49m\u001b[43m:\u001b[49m\u001b[43m \u001b[49m\u001b[43mDeleteParticle\u001b[49m\u001b[43m,\u001b[49m\u001b[43m \u001b[49m\n\u001b[1;32m     24\u001b[0m \u001b[43m                           \u001b[49m\u001b[43mErrorCode\u001b[49m\u001b[38;5;241;43m.\u001b[39;49m\u001b[43mErrorThroughSurface\u001b[49m\u001b[43m:\u001b[49m\u001b[43m \u001b[49m\u001b[43mpushback\u001b[49m\u001b[43m}\u001b[49m\u001b[43m)\u001b[49m        \n\u001b[1;32m     25\u001b[0m \u001b[38;5;28;01melse\u001b[39;00m:\n\u001b[1;32m     26\u001b[0m     pset\u001b[38;5;241m.\u001b[39mexecute(AdvectionRK4_3D, runtime\u001b[38;5;241m=\u001b[39mruntime, dt\u001b[38;5;241m=\u001b[39mdelta(hours\u001b[38;5;241m=\u001b[39m\u001b[38;5;241m8\u001b[39m),  \n\u001b[1;32m     27\u001b[0m                  output_file \u001b[38;5;241m=\u001b[39m output_file,\n\u001b[1;32m     28\u001b[0m                  recovery\u001b[38;5;241m=\u001b[39m{ErrorCode\u001b[38;5;241m.\u001b[39mErrorOutOfBounds: DeleteParticle,\n\u001b[1;32m     29\u001b[0m                            ErrorCode\u001b[38;5;241m.\u001b[39mErrorThroughSurface: pushback})\n",
      "File \u001b[0;32m~/miniconda3/envs/parcels2-4/lib/python3.10/site-packages/parcels/particleset/baseparticleset.py:450\u001b[0m, in \u001b[0;36mBaseParticleSet.execute\u001b[0;34m(self, pyfunc, pyfunc_inter, endtime, runtime, dt, moviedt, recovery, output_file, movie_background_field, verbose_progress, postIterationCallbacks, callbackdt)\u001b[0m\n\u001b[1;32m    448\u001b[0m \u001b[38;5;66;03m# If we don't perform interaction, only execute the normal kernel efficiently.\u001b[39;00m\n\u001b[1;32m    449\u001b[0m \u001b[38;5;28;01mif\u001b[39;00m \u001b[38;5;28mself\u001b[39m\u001b[38;5;241m.\u001b[39minteraction_kernel \u001b[38;5;129;01mis\u001b[39;00m \u001b[38;5;28;01mNone\u001b[39;00m:\n\u001b[0;32m--> 450\u001b[0m     \u001b[38;5;28;43mself\u001b[39;49m\u001b[38;5;241;43m.\u001b[39;49m\u001b[43mkernel\u001b[49m\u001b[38;5;241;43m.\u001b[39;49m\u001b[43mexecute\u001b[49m\u001b[43m(\u001b[49m\u001b[38;5;28;43mself\u001b[39;49m\u001b[43m,\u001b[49m\u001b[43m \u001b[49m\u001b[43mendtime\u001b[49m\u001b[38;5;241;43m=\u001b[39;49m\u001b[43mnext_time\u001b[49m\u001b[43m,\u001b[49m\u001b[43m \u001b[49m\u001b[43mdt\u001b[49m\u001b[38;5;241;43m=\u001b[39;49m\u001b[43mdt\u001b[49m\u001b[43m,\u001b[49m\u001b[43m \u001b[49m\u001b[43mrecovery\u001b[49m\u001b[38;5;241;43m=\u001b[39;49m\u001b[43mrecovery\u001b[49m\u001b[43m,\u001b[49m\u001b[43m \u001b[49m\u001b[43moutput_file\u001b[49m\u001b[38;5;241;43m=\u001b[39;49m\u001b[43moutput_file\u001b[49m\u001b[43m,\u001b[49m\n\u001b[1;32m    451\u001b[0m \u001b[43m                        \u001b[49m\u001b[43mexecute_once\u001b[49m\u001b[38;5;241;43m=\u001b[39;49m\u001b[43mexecute_once\u001b[49m\u001b[43m)\u001b[49m\n\u001b[1;32m    452\u001b[0m \u001b[38;5;66;03m# Interaction: interleave the interaction and non-interaction kernel for each time step.\u001b[39;00m\n\u001b[1;32m    453\u001b[0m \u001b[38;5;66;03m# E.g. Inter -> Normal -> Inter -> Normal if endtime-time == 2*dt\u001b[39;00m\n\u001b[1;32m    454\u001b[0m \u001b[38;5;28;01melse\u001b[39;00m:\n\u001b[1;32m    455\u001b[0m     cur_time \u001b[38;5;241m=\u001b[39m time\n",
      "File \u001b[0;32m~/miniconda3/envs/parcels2-4/lib/python3.10/site-packages/parcels/kernel/kernelsoa.py:239\u001b[0m, in \u001b[0;36mKernelSOA.execute\u001b[0;34m(self, pset, endtime, dt, recovery, output_file, execute_once)\u001b[0m\n\u001b[1;32m    237\u001b[0m \u001b[38;5;66;03m# Execute core loop again to continue interrupted particles\u001b[39;00m\n\u001b[1;32m    238\u001b[0m \u001b[38;5;28;01mif\u001b[39;00m \u001b[38;5;28mself\u001b[39m\u001b[38;5;241m.\u001b[39mptype\u001b[38;5;241m.\u001b[39muses_jit:\n\u001b[0;32m--> 239\u001b[0m     \u001b[38;5;28;43mself\u001b[39;49m\u001b[38;5;241;43m.\u001b[39;49m\u001b[43mexecute_jit\u001b[49m\u001b[43m(\u001b[49m\u001b[43mpset\u001b[49m\u001b[43m,\u001b[49m\u001b[43m \u001b[49m\u001b[43mendtime\u001b[49m\u001b[43m,\u001b[49m\u001b[43m \u001b[49m\u001b[43mdt\u001b[49m\u001b[43m)\u001b[49m\n\u001b[1;32m    240\u001b[0m \u001b[38;5;28;01melse\u001b[39;00m:\n\u001b[1;32m    241\u001b[0m     \u001b[38;5;28mself\u001b[39m\u001b[38;5;241m.\u001b[39mexecute_python(pset, endtime, dt)\n",
      "File \u001b[0;32m~/miniconda3/envs/parcels2-4/lib/python3.10/site-packages/parcels/kernel/kernelsoa.py:124\u001b[0m, in \u001b[0;36mKernelSOA.execute_jit\u001b[0;34m(self, pset, endtime, dt)\u001b[0m\n\u001b[1;32m    122\u001b[0m \u001b[38;5;28;01mdef\u001b[39;00m \u001b[38;5;21mexecute_jit\u001b[39m(\u001b[38;5;28mself\u001b[39m, pset, endtime, dt):\n\u001b[1;32m    123\u001b[0m     \u001b[38;5;124;03m\"\"\"Invokes JIT engine to perform the core update loop\"\"\"\u001b[39;00m\n\u001b[0;32m--> 124\u001b[0m     \u001b[38;5;28;43mself\u001b[39;49m\u001b[38;5;241;43m.\u001b[39;49m\u001b[43mload_fieldset_jit\u001b[49m\u001b[43m(\u001b[49m\u001b[43mpset\u001b[49m\u001b[43m)\u001b[49m\n\u001b[1;32m    126\u001b[0m     fargs \u001b[38;5;241m=\u001b[39m [byref(f\u001b[38;5;241m.\u001b[39mctypes_struct) \u001b[38;5;28;01mfor\u001b[39;00m f \u001b[38;5;129;01min\u001b[39;00m \u001b[38;5;28mself\u001b[39m\u001b[38;5;241m.\u001b[39mfield_args\u001b[38;5;241m.\u001b[39mvalues()]\n\u001b[1;32m    127\u001b[0m     fargs \u001b[38;5;241m+\u001b[39m\u001b[38;5;241m=\u001b[39m [c_double(f) \u001b[38;5;28;01mfor\u001b[39;00m f \u001b[38;5;129;01min\u001b[39;00m \u001b[38;5;28mself\u001b[39m\u001b[38;5;241m.\u001b[39mconst_args\u001b[38;5;241m.\u001b[39mvalues()]\n",
      "File \u001b[0;32m~/miniconda3/envs/parcels2-4/lib/python3.10/site-packages/parcels/kernel/basekernel.py:331\u001b[0m, in \u001b[0;36mBaseKernel.load_fieldset_jit\u001b[0;34m(self, pset)\u001b[0m\n\u001b[1;32m    329\u001b[0m     \u001b[38;5;28;01mraise\u001b[39;00m \u001b[38;5;167;01mRuntimeError\u001b[39;00m(\u001b[38;5;124m'\u001b[39m\u001b[38;5;124mField \u001b[39m\u001b[38;5;132;01m%s\u001b[39;00m\u001b[38;5;124m data needs to be float32 in JIT mode\u001b[39m\u001b[38;5;124m'\u001b[39m \u001b[38;5;241m%\u001b[39m f\u001b[38;5;241m.\u001b[39mname)\n\u001b[1;32m    330\u001b[0m \u001b[38;5;28;01mif\u001b[39;00m f \u001b[38;5;129;01min\u001b[39;00m \u001b[38;5;28mself\u001b[39m\u001b[38;5;241m.\u001b[39mfield_args\u001b[38;5;241m.\u001b[39mvalues():\n\u001b[0;32m--> 331\u001b[0m     \u001b[43mf\u001b[49m\u001b[38;5;241;43m.\u001b[39;49m\u001b[43mchunk_data\u001b[49m\u001b[43m(\u001b[49m\u001b[43m)\u001b[49m\n\u001b[1;32m    332\u001b[0m \u001b[38;5;28;01melse\u001b[39;00m:\n\u001b[1;32m    333\u001b[0m     \u001b[38;5;28;01mfor\u001b[39;00m block_id \u001b[38;5;129;01min\u001b[39;00m \u001b[38;5;28mrange\u001b[39m(\u001b[38;5;28mlen\u001b[39m(f\u001b[38;5;241m.\u001b[39mdata_chunks)):\n",
      "File \u001b[0;32m~/miniconda3/envs/parcels2-4/lib/python3.10/site-packages/parcels/field.py:1207\u001b[0m, in \u001b[0;36mField.chunk_data\u001b[0;34m(self)\u001b[0m\n\u001b[1;32m   1205\u001b[0m \u001b[38;5;28mself\u001b[39m\u001b[38;5;241m.\u001b[39mc_data_chunks[\u001b[38;5;241m0\u001b[39m] \u001b[38;5;241m=\u001b[39m \u001b[38;5;28;01mNone\u001b[39;00m\n\u001b[1;32m   1206\u001b[0m \u001b[38;5;28mself\u001b[39m\u001b[38;5;241m.\u001b[39mgrid\u001b[38;5;241m.\u001b[39mload_chunk[\u001b[38;5;241m0\u001b[39m] \u001b[38;5;241m=\u001b[39m g\u001b[38;5;241m.\u001b[39mchunk_loaded_touched\n\u001b[0;32m-> 1207\u001b[0m \u001b[38;5;28mself\u001b[39m\u001b[38;5;241m.\u001b[39mdata_chunks[\u001b[38;5;241m0\u001b[39m] \u001b[38;5;241m=\u001b[39m \u001b[43mnp\u001b[49m\u001b[38;5;241;43m.\u001b[39;49m\u001b[43marray\u001b[49m\u001b[43m(\u001b[49m\u001b[38;5;28;43mself\u001b[39;49m\u001b[38;5;241;43m.\u001b[39;49m\u001b[43mdata\u001b[49m\u001b[43m)\u001b[49m\n",
      "\u001b[0;31mKeyboardInterrupt\u001b[0m: "
     ]
    }
   ],
   "source": [
    "pset = run_parcels(fieldset, plon, plat, pdepth, ptime, runtime=delta(hours=24*365*2.5), \n",
    "                   sampling=True, filename='20230326_runtime2yrs_release2014monthly.zarr') "
   ]
  },
  {
   "cell_type": "code",
   "execution_count": null,
   "id": "4e11d069-d648-4985-82ff-f7ddf3611d5c",
   "metadata": {},
   "outputs": [],
   "source": [
    "def load_tracks(filename, tracer='dissolpb'):\n",
    "    file  = xr.open_zarr(filename)\n",
    "    traj  = file['trajectory'].values # dimensions: number of particles, tracks\n",
    "    time  = file['time'].values       # units: seconds\n",
    "    lat   = file['lat'].values        # degrees North\n",
    "    lon   = file['lon'].values        # degrees East\n",
    "    depth = file['z'].values          # meters\n",
    "    trace = file[tracer].values       # tracer concentration\n",
    "    \n",
    "    return traj, time, lon, lat, depth, trace"
   ]
  },
  {
   "cell_type": "code",
   "execution_count": 82,
   "id": "1610091c-bcc2-43d7-bcae-c751ec926ab1",
   "metadata": {},
   "outputs": [],
   "source": [
    "# Load results: \n",
    "traj_t1, time_t1, lon_t1, lat_t1, depth_t1, dPb_t1 = \\\n",
    "    load_tracks(f'/ocean/brogalla/GEOTRACES/parcels/Pb-chapter/test1.zarr', tracer='dissolpb')"
   ]
  },
  {
   "cell_type": "code",
   "execution_count": 77,
   "id": "20cbc61e",
   "metadata": {},
   "outputs": [
    {
     "data": {
      "text/plain": [
       "(54.0, 87.0)"
      ]
     },
     "execution_count": 77,
     "metadata": {},
     "output_type": "execute_result"
    },
    {
     "data": {
      "image/png": "[encoded data removed]",
      "text/plain": [
       "<Figure size 640x480 with 1 Axes>"
      ]
     },
     "metadata": {},
     "output_type": "display_data"
    }
   ],
   "source": [
    "plt.scatter(pset.lon, pset.lat, s=5, c=pset.dissolpb, vmin=0, vmax=10e-12)\n",
    "plt.xlim(-145,-30)\n",
    "plt.ylim(54,87)"
   ]
  },
  {
   "cell_type": "code",
   "execution_count": null,
   "id": "f28e4855",
   "metadata": {},
   "outputs": [],
   "source": []
  }
 ],
 "metadata": {
  "kernelspec": {
   "display_name": "Python 3 (ipykernel)",
   "language": "python",
   "name": "python3"
  },
  "language_info": {
   "codemirror_mode": {
    "name": "ipython",
    "version": 3
   },
   "file_extension": ".py",
   "mimetype": "text/x-python",
   "name": "python",
   "nbconvert_exporter": "python",
   "pygments_lexer": "ipython3",
   "version": "3.10.6"
  }
 },
 "nbformat": 4,
 "nbformat_minor": 5
}
