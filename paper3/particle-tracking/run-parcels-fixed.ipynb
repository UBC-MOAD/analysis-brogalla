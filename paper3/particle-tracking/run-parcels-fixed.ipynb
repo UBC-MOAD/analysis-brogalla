{
 "cells": [
  {
   "cell_type": "markdown",
   "id": "c556d9fb-d6ec-4142-b9f1-a12140850776",
   "metadata": {},
   "source": [
    "# Particle tracking with tracer"
   ]
  },
  {
   "cell_type": "code",
   "execution_count": 1,
   "id": "b6f3c616-54be-4ab0-87dc-58d35820e7b0",
   "metadata": {},
   "outputs": [],
   "source": [
    "import numpy as np\n",
    "from datetime import timedelta as delta, datetime\n",
    "import xarray as xr\n",
    "from parcels import FieldSet, Variable, ParticleSet, JITParticle, AdvectionRK4_3D, ErrorCode\n",
    "import glob\n",
    "import matplotlib.pyplot as plt\n",
    "\n",
    "%matplotlib inline"
   ]
  },
  {
   "cell_type": "markdown",
   "id": "79cb177b-0260-4f5e-9784-c768caee9fc6",
   "metadata": {},
   "source": [
    "#### Parameters"
   ]
  },
  {
   "cell_type": "code",
   "execution_count": 2,
   "id": "9af4396e-a318-4808-8e01-0859b87df8b7",
   "metadata": {},
   "outputs": [],
   "source": [
    "year = 2002\n",
    "\n",
    "# Sub-domain dimensions:\n",
    "jmin, jmax = 159, 799\n",
    "imin, imax = 1139, 2179"
   ]
  },
  {
   "cell_type": "markdown",
   "id": "18c76cf5-bd88-491b-bd02-564a5a3cecf9",
   "metadata": {},
   "source": [
    "#### Load files"
   ]
  },
  {
   "cell_type": "code",
   "execution_count": 3,
   "id": "98ee719d-b624-4399-bd2e-8346a514fed3",
   "metadata": {},
   "outputs": [],
   "source": [
    "# Open particle initialization location file:\n",
    "ini_loc_PC = xr.open_dataset('/ocean/brogalla/GEOTRACES/parcels/Pb-chapter/western-PC-transect-parcels.nc')\n",
    "PC_lons    = ini_loc_PC['longitude'].values\n",
    "PC_lats    = ini_loc_PC['latitude'].values\n",
    "PC_deps    = ini_loc_PC['depth'].values\n",
    "\n",
    "# Open particle initialization location file:\n",
    "ini_loc_GR = xr.open_dataset('/ocean/brogalla/GEOTRACES/parcels/Pb-chapter/Greenland-transect-parcels.nc')\n",
    "GR_lons    = ini_loc_GR['longitude'].values\n",
    "GR_lats    = ini_loc_GR['latitude'].values\n",
    "GR_deps    = ini_loc_GR['depth'].values"
   ]
  },
  {
   "cell_type": "markdown",
   "id": "8697d976-89fe-485e-8348-4b98afe350b9",
   "metadata": {},
   "source": [
    "#### General setup"
   ]
  },
  {
   "cell_type": "markdown",
   "id": "a9fd23e0-fd7a-4d2d-bed9-0b0abf1184ad",
   "metadata": {},
   "source": [
    "Timestamps:"
   ]
  },
  {
   "cell_type": "code",
   "execution_count": 4,
   "id": "1979e62c-2af0-4b79-9d1f-12959e1f26ca",
   "metadata": {},
   "outputs": [],
   "source": [
    "# Mesh mask\n",
    "mesh_mask = '/ocean/brogalla/GEOTRACES/data/ANHA12/ANHA12_mesh1.nc'\n",
    "\n",
    "# Lists of ANHA12 NEMO U,V,W files (on full ANHA12 domain)\n",
    "folder_ANHA12      = '/data/brogalla/ANHA12/'\n",
    "ANHA12_gridU_files = sorted(glob.glob(f'{folder_ANHA12}ANHA12-EXH006_y{year}m??d??_gridU.nc'))[0:40]\n",
    "ANHA12_gridV_files = sorted(glob.glob(f'{folder_ANHA12}ANHA12-EXH006_y{year}m??d??_gridV.nc'))[0:40]\n",
    "ANHA12_gridW_files = sorted(glob.glob(f'{folder_ANHA12}ANHA12-EXH006_5d_gridW_y{year}m??d??.nc'))[0:40]\n",
    "\n",
    "# Lists of ANHA12 NEMO Pb tracer files (on sub-domain of full ANHA12 domain)\n",
    "folder_Pb = f'/data/brogalla/run_storage/Pb-new-ini2-20220922/'\n",
    "files_Pb  = sorted(glob.glob(f'{folder_Pb}ANHA12_EXH006_5d_{year}0101_{year}1231_ptrc_T_{year}*'))[0:40]\n",
    "\n",
    "# Create timestamps from file dates: (because of time_origin issue in ANHA12 netcdf dynamics files)\n",
    "time_stamps_files = []\n",
    "for n, file in enumerate(ANHA12_gridU_files):\n",
    "    dateU  = datetime.strptime(file[36:47],'y%Ym%md%d')\n",
    "    dateV  = datetime.strptime(ANHA12_gridV_files[n][36:47],'y%Ym%md%d')\n",
    "    dateW  = datetime.strptime(ANHA12_gridW_files[n][45:56],'y%Ym%md%d')\n",
    "    datePb = datetime.strptime(files_Pb[n][99:107],'%Y%m%d')\n",
    "    \n",
    "    # double-check that the date is the same for all files\n",
    "    if (dateU != dateV) | (dateU != dateW) | (dateU != datePb):\n",
    "        print('Dates not equal!')\n",
    "    else:   \n",
    "        time_stamps_files.append(np.datetime64(f'{dateU.year:02}-{dateU.month:02}-{dateU.day:02}'))\n",
    "\n",
    "# array of file timestamps\n",
    "timestamps_files = np.expand_dims(np.array(time_stamps_files), axis=1)"
   ]
  },
  {
   "cell_type": "markdown",
   "id": "132a0d90-9522-4679-a482-cec42fc91dcc",
   "metadata": {},
   "source": [
    "Run with Pb as tracer (Pb on sub-domain, U,V,W on full domain)"
   ]
  },
  {
   "cell_type": "code",
   "execution_count": 5,
   "id": "0a038907-e2cb-4a4e-9a3f-2bedc4d3ab7c",
   "metadata": {},
   "outputs": [],
   "source": [
    "filenames  = {'U': {'lon': mesh_mask   , 'lat': mesh_mask  , 'depth': ANHA12_gridW_files[0], 'data': ANHA12_gridU_files},\n",
    "              'V': {'lon': mesh_mask   , 'lat': mesh_mask  , 'depth': ANHA12_gridW_files[0], 'data': ANHA12_gridV_files},\n",
    "              'W': {'lon': mesh_mask   , 'lat': mesh_mask  , 'depth': ANHA12_gridW_files[0], 'data': ANHA12_gridW_files},\n",
    "              'Pb': {'lon': files_Pb[0], 'lat': files_Pb[0], 'depth': files_Pb[0], 'data': files_Pb}}\n",
    "\n",
    "dimensions = {'U': {'lon': 'nav_lon', 'lat': 'nav_lat', 'depth': 'depthw'},\n",
    "              'V': {'lon': 'nav_lon', 'lat': 'nav_lat', 'depth': 'depthw'},\n",
    "              'W': {'lon': 'nav_lon', 'lat': 'nav_lat', 'depth': 'depthw'},\n",
    "              'Pb': {'lon': 'nav_lon', 'lat': 'nav_lat', 'depth': 'deptht'}}\n",
    "\n",
    "variables  = {'U': 'vozocrtx',\n",
    "              'V': 'vomecrty',\n",
    "              'W': 'vovecrtz',\n",
    "              'Pb': 'dissolpb'}\n",
    "\n",
    "# needed to provide time as timestamps in order to avoid time origin type issue\n",
    "fieldset   = FieldSet.from_nemo(filenames, variables, dimensions, \\\n",
    "                                timestamps=timestamps_files, \\\n",
    "                                allow_time_extrapolation=False)"
   ]
  },
  {
   "cell_type": "markdown",
   "id": "f8aeaf56-eb8c-4978-ac3c-a8ca807d7ebf",
   "metadata": {},
   "source": [
    "#### General functions"
   ]
  },
  {
   "cell_type": "code",
   "execution_count": 6,
   "id": "7dff4bed-e07e-4133-9dad-a7c329ef5cdf",
   "metadata": {},
   "outputs": [],
   "source": [
    "def DeleteParticle(particle, fieldset, time):\n",
    "    print(\"Particle [%d] lost !! (%g %g %g %g)\" % (particle.id, particle.lon, particle.lat, particle.depth, particle.time))\n",
    "    particle.delete()"
   ]
  },
  {
   "cell_type": "code",
   "execution_count": 7,
   "id": "9414b388-6872-4777-a79b-e2f5d93d9b94",
   "metadata": {},
   "outputs": [],
   "source": [
    "# define new particle class for Pb\n",
    "class PbParticle(JITParticle): \n",
    "    dissolvedPb = Variable('dissolpb', initial=0)  # Variable 'dissolpb' initialised by sampling the dissolved Pb field"
   ]
  },
  {
   "cell_type": "code",
   "execution_count": 8,
   "id": "89d0a983-a2c9-4c11-a950-989f323e86d5",
   "metadata": {},
   "outputs": [],
   "source": [
    "def SamplePb(particle, fieldset, time):\n",
    "    particle.dissolpb = fieldset.Pb[particle.time, particle.depth, particle.lat, particle.lon]"
   ]
  },
  {
   "cell_type": "code",
   "execution_count": 9,
   "id": "cdef7e55-67ef-4d91-9d8e-a59f51742a41",
   "metadata": {},
   "outputs": [],
   "source": [
    "def pushback(particle, fieldset, time):\n",
    "    particle.depth = 1. # 10."
   ]
  },
  {
   "cell_type": "code",
   "execution_count": 10,
   "id": "5803b42c-e40f-4a28-8221-941c87a5e741",
   "metadata": {},
   "outputs": [],
   "source": [
    "def run_parcels(fieldset, plon, plat, pdepth, runtime=0, sampling=False, filename='test.zarr'):\n",
    "\n",
    "    # Define particle locations on a grid in my domain:\n",
    "    pset = ParticleSet(fieldset=fieldset, pclass=PbParticle, lon=plon, lat=plat, depth=pdepth)\n",
    "\n",
    "    output_file = pset.ParticleFile(name=f\"/ocean/brogalla/GEOTRACES/parcels/Pb-chapter/{filename}\", \n",
    "                                    outputdt=delta(hours=12))\n",
    "\n",
    "    # Nudge the particle set locations closer to the actual grid locations:               \n",
    "    for i in range(len(pset)):\n",
    "        for gi, g in enumerate(fieldset.gridset.grids):\n",
    "            d = np.hypot((pset.lon[i] - g.lon), (pset.lat[i] - g.lat))\n",
    "            ind = np.unravel_index(np.argmin(d, axis=None), d.shape)\n",
    "            pset.xi[i, gi] = ind[1]\n",
    "            pset.yi[i, gi] = ind[0]\n",
    "    \n",
    "    # Option to run with tracer sampling kernel (SamplePb) or only with 3D advection kernel\n",
    "    if sampling:\n",
    "        pset.execute(AdvectionRK4_3D + pset.Kernel(SamplePb), \n",
    "                     runtime = runtime, dt = delta(hours=2), \n",
    "                     output_file = output_file,\n",
    "                     recovery={ErrorCode.ErrorOutOfBounds: DeleteParticle, \n",
    "                               ErrorCode.ErrorThroughSurface: pushback})        \n",
    "    else:\n",
    "        pset.execute(AdvectionRK4_3D, runtime=runtime, dt=delta(hours=2),  \n",
    "                     output_file = output_file,\n",
    "                     recovery={ErrorCode.ErrorOutOfBounds: DeleteParticle,\n",
    "                               ErrorCode.ErrorThroughSurface: pushback})\n",
    "    \n",
    "    return pset"
   ]
  },
  {
   "cell_type": "markdown",
   "id": "52707e70-55aa-4c92-89e2-672dc5df536a",
   "metadata": {},
   "source": [
    "#### Run:"
   ]
  },
  {
   "cell_type": "code",
   "execution_count": 11,
   "id": "d982c61b-fbd4-4edc-91fc-096f0be26784",
   "metadata": {},
   "outputs": [],
   "source": [
    "plon   = np.concatenate((PC_lons, GR_lons))\n",
    "plat   = np.concatenate((PC_lats, GR_lats))\n",
    "pdepth = np.concatenate((PC_deps, GR_deps))"
   ]
  },
  {
   "cell_type": "code",
   "execution_count": null,
   "id": "77170f75-77c2-4270-a705-b3ba0fb557ce",
   "metadata": {},
   "outputs": [],
   "source": [
    "pset = run_parcels(fieldset, plon, plat, pdepth, runtime=delta(hours=24*30*6), \n",
    "                   sampling=True, filename='test2-20230202.zarr')"
   ]
  },
  {
   "cell_type": "code",
   "execution_count": 21,
   "id": "3c680385-6bff-4785-a370-3b0f8b5bbb34",
   "metadata": {},
   "outputs": [
    {
     "data": {
      "text/plain": [
       "(54.0, 87.0)"
      ]
     },
     "execution_count": 21,
     "metadata": {},
     "output_type": "execute_result"
    },
    {
     "data": {
      "image/png": "[encoded data removed]",
      "text/plain": [
       "<Figure size 640x480 with 1 Axes>"
      ]
     },
     "metadata": {},
     "output_type": "display_data"
    }
   ],
   "source": [
    "plt.scatter(pset.lon, pset.lat, s=5, c=pset.dissolpb, vmin=0, vmax=10e-12)\n",
    "plt.xlim(-145,-30)\n",
    "plt.ylim(54,87)"
   ]
  },
  {
   "cell_type": "code",
   "execution_count": 24,
   "id": "8621eb0e-fd94-4c7c-be47-285cd7847240",
   "metadata": {},
   "outputs": [
    {
     "data": {
      "text/plain": [
       "(63.0, 67.0)"
      ]
     },
     "execution_count": 24,
     "metadata": {},
     "output_type": "execute_result"
    },
    {
     "data": {
      "image/png": "[encoded data removed]",
      "text/plain": [
       "<Figure size 640x480 with 1 Axes>"
      ]
     },
     "metadata": {},
     "output_type": "display_data"
    }
   ],
   "source": [
    "plt.scatter(pset.lon, pset.lat, s=15, c=pset.dissolpb, vmin=0, vmax=10e-12)\n",
    "plt.xlim(-70,-50)\n",
    "plt.ylim(63,67)"
   ]
  },
  {
   "cell_type": "code",
   "execution_count": 29,
   "id": "17ef6c21-ba1e-4e2a-af3f-056024d93091",
   "metadata": {},
   "outputs": [
    {
     "data": {
      "text/plain": [
       "(72.0, 79.0)"
      ]
     },
     "execution_count": 29,
     "metadata": {},
     "output_type": "execute_result"
    },
    {
     "data": {
      "image/png": "[encoded data removed]",
      "text/plain": [
       "<Figure size 640x480 with 1 Axes>"
      ]
     },
     "metadata": {},
     "output_type": "display_data"
    }
   ],
   "source": [
    "plt.scatter(pset.lon, pset.lat, s=15, c=pset.dissolpb, vmin=0, vmax=5e-12)\n",
    "plt.xlim(-123.5,-122.5)\n",
    "plt.ylim(72,79)"
   ]
  },
  {
   "cell_type": "code",
   "execution_count": null,
   "id": "7b4b1764-6a82-48b1-b73a-6a06c48806ec",
   "metadata": {},
   "outputs": [],
   "source": []
  }
 ],
 "metadata": {
  "kernelspec": {
   "display_name": "Python 3",
   "language": "python",
   "name": "python3"
  },
  "language_info": {
   "codemirror_mode": {
    "name": "ipython",
    "version": 3
   },
   "file_extension": ".py",
   "mimetype": "text/x-python",
   "name": "python",
   "nbconvert_exporter": "python",
   "pygments_lexer": "ipython3",
   "version": "3.6.11"
  }
 },
 "nbformat": 4,
 "nbformat_minor": 5
}
