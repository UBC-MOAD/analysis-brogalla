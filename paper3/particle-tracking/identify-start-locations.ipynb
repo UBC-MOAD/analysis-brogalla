{
 "cells": [
  {
   "cell_type": "markdown",
   "id": "c556d9fb-d6ec-4142-b9f1-a12140850776",
   "metadata": {},
   "source": [
    "# Identify parcel runs start locations"
   ]
  },
  {
   "cell_type": "code",
   "execution_count": 16,
   "id": "b6f3c616-54be-4ab0-87dc-58d35820e7b0",
   "metadata": {},
   "outputs": [],
   "source": [
    "import numpy as np\n",
    "import netCDF4 as nc\n",
    "import xarray as xr\n",
    "import pickle\n",
    "import matplotlib.pyplot as plt\n",
    "from mpl_toolkits.basemap import Basemap\n",
    "\n",
    "%matplotlib inline"
   ]
  },
  {
   "cell_type": "markdown",
   "id": "79cb177b-0260-4f5e-9784-c768caee9fc6",
   "metadata": {},
   "source": [
    "#### Parameters"
   ]
  },
  {
   "cell_type": "code",
   "execution_count": 4,
   "id": "9af4396e-a318-4808-8e01-0859b87df8b7",
   "metadata": {},
   "outputs": [],
   "source": [
    "# domain dimensions:\n",
    "jmin, jmax = 159, 799\n",
    "imin, imax = 1139, 2179\n",
    "isize = imax - imin\n",
    "jsize = jmax - jmin\n",
    "\n",
    "# colors:\n",
    "land_color = '#a9a7a2'"
   ]
  },
  {
   "cell_type": "markdown",
   "id": "f21afaa3-df74-4c36-acc7-ac6208d3e641",
   "metadata": {},
   "source": [
    "#### Files"
   ]
  },
  {
   "cell_type": "code",
   "execution_count": 7,
   "id": "1979e62c-2af0-4b79-9d1f-12959e1f26ca",
   "metadata": {},
   "outputs": [],
   "source": [
    "# ANHA12 mesh grid:\n",
    "mesh         = xr.open_dataset('/ocean/brogalla/GEOTRACES/data/ANHA12/ANHA12_mask_Pb-20220317.nc')\n",
    "mesh_lon     = mesh['nav_lon'].values\n",
    "mesh_lat     = mesh['nav_lat'].values\n",
    "mesh_bathy   = mesh['tmask'][0,:,:,:].values\n",
    "bathy_masked = np.ma.masked_where((mesh_bathy> 0.1), mesh_bathy)\n",
    "ocean_masked = np.ma.masked_where((mesh_bathy<0.1), mesh_bathy)\n",
    "depths       = mesh['nav_lev'].values"
   ]
  },
  {
   "cell_type": "markdown",
   "id": "e8ba5496-1b6b-490c-b788-9f2208f0dd5b",
   "metadata": {},
   "source": [
    "#### Functions"
   ]
  },
  {
   "cell_type": "code",
   "execution_count": 10,
   "id": "887ae49f-fd75-4f4d-8578-664721b114f0",
   "metadata": {},
   "outputs": [],
   "source": [
    "def save_file(lon, lat, depth, filepath):    \n",
    "    file_write = xr.Dataset(\n",
    "        {'longitude' : ((\"x\"), lon),\n",
    "         'latitude'  : ((\"y\"), lat),\n",
    "         'depth'     : ((\"z\"), depth)}, \n",
    "        coords = {\"z\": depths,\n",
    "                  \"y\": lat,\n",
    "                  \"x\": lon},\n",
    "    )\n",
    "    file_write.pint.quantify({\"longitude\": \"degrees East\", \n",
    "                              \"latitude\" : \"degrees North\",\n",
    "                              \"depth\"    : \"m\"})\n",
    "    file_write.pint.dequantify()\n",
    "    file_write.to_netcdf(f'{filepath}')\n",
    "    \n",
    "    return"
   ]
  },
  {
   "cell_type": "code",
   "execution_count": 31,
   "id": "79baefce-f8ab-49d3-8e10-27f29063c64e",
   "metadata": {},
   "outputs": [],
   "source": [
    "def plot_locations(release_lon, release_lat, depth=0):\n",
    "\n",
    "    fig, ax1, proj1 = pickle.load(open('/ocean/brogalla/GEOTRACES/pickles/pb-surface.pickle','rb'))\n",
    "\n",
    "    x_plot, y_plot     = proj1(release_lon, release_lat)\n",
    "    x_ANHA12, y_ANHA12 = proj1(mesh_lon, mesh_lat)\n",
    "\n",
    "    ax1.plot(x_ANHA12[imin:imax,jmin], y_ANHA12[imin:imax,jmin], '-k', linewidth=1.0)\n",
    "    ax1.plot(x_ANHA12[imin:imax,jmax], y_ANHA12[imin:imax,jmax], '-k', linewidth=1.0)\n",
    "    ax1.plot(x_ANHA12[imin,jmin:jmax], y_ANHA12[imin,jmin:jmax], '-k', linewidth=1.0)\n",
    "    ax1.plot(x_ANHA12[imax,jmin:jmax], y_ANHA12[imax,jmin:jmax], '-k', linewidth=1.0)\n",
    "\n",
    "    proj1.contourf(x_ANHA12, y_ANHA12, bathy_masked[depth,:,:], colors=[land_color], zorder=1) #Apply land mask\n",
    "\n",
    "    ax1.scatter(x_plot, y_plot, zorder=4, s=5)\n",
    "    \n",
    "    return"
   ]
  },
  {
   "cell_type": "markdown",
   "id": "fc78a659-8b86-4e6e-abb5-13c6bffb431a",
   "metadata": {},
   "source": [
    "#### Main work"
   ]
  },
  {
   "cell_type": "code",
   "execution_count": 17,
   "id": "55087ccb-145e-4cbc-a88a-38e2fe71904a",
   "metadata": {},
   "outputs": [],
   "source": [
    "release_lon   = [-130, -145, -70, -55] # east\n",
    "release_lat   = [75, 74, 75, 65]  # north"
   ]
  },
  {
   "cell_type": "markdown",
   "id": "b146c114-fb9a-43c4-96af-40f38aef42d0",
   "metadata": {},
   "source": [
    "#### Save file"
   ]
  },
  {
   "cell_type": "code",
   "execution_count": null,
   "id": "fa7ccea5-7fbb-488d-968e-bd630c007bc6",
   "metadata": {},
   "outputs": [],
   "source": [
    "# Write release longitudes, latitudes, and depths to file:\n",
    "save_file(lon, lat, depth, '/ocean/brogalla/GEOTRACES/parcels/Pb-chapter/.nc')"
   ]
  },
  {
   "cell_type": "code",
   "execution_count": null,
   "id": "0a1b8326-1519-4662-8142-5eb10f8e5b4b",
   "metadata": {},
   "outputs": [],
   "source": []
  }
 ],
 "metadata": {
  "kernelspec": {
   "display_name": "Python 3",
   "language": "python",
   "name": "python3"
  },
  "language_info": {
   "codemirror_mode": {
    "name": "ipython",
    "version": 3
   },
   "file_extension": ".py",
   "mimetype": "text/x-python",
   "name": "python",
   "nbconvert_exporter": "python",
   "pygments_lexer": "ipython3",
   "version": "3.6.11"
  }
 },
 "nbformat": 4,
 "nbformat_minor": 5
}
