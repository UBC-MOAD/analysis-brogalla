{
 "cells": [
  {
   "cell_type": "markdown",
   "id": "c556d9fb-d6ec-4142-b9f1-a12140850776",
   "metadata": {},
   "source": [
    "# Convert Zarr to NetCDF becuase of versioning issue"
   ]
  },
  {
   "cell_type": "code",
   "execution_count": 1,
   "id": "b6f3c616-54be-4ab0-87dc-58d35820e7b0",
   "metadata": {},
   "outputs": [],
   "source": [
    "import numpy as np\n",
    "import xarray as xr\n",
    "\n",
    "%matplotlib inline"
   ]
  },
  {
   "cell_type": "markdown",
   "id": "79cb177b-0260-4f5e-9784-c768caee9fc6",
   "metadata": {},
   "source": [
    "#### Parameters"
   ]
  },
  {
   "cell_type": "code",
   "execution_count": 2,
   "id": "9af4396e-a318-4808-8e01-0859b87df8b7",
   "metadata": {},
   "outputs": [],
   "source": [
    "# run result file location:\n",
    "base_folder = '/ocean/brogalla/GEOTRACES/parcels/Pb-chapter/'"
   ]
  },
  {
   "cell_type": "markdown",
   "id": "f21afaa3-df74-4c36-acc7-ac6208d3e641",
   "metadata": {},
   "source": [
    "#### Load files"
   ]
  },
  {
   "cell_type": "code",
   "execution_count": 3,
   "id": "19549634-3a3e-435b-a02c-0a23521649d6",
   "metadata": {},
   "outputs": [],
   "source": [
    "pt = xr.open_zarr(f'{base_folder}run-2014-01-repeatdt-24months_20230325.zarr')"
   ]
  },
  {
   "cell_type": "code",
   "execution_count": 4,
   "id": "8a63e9ce-306f-48d6-a75a-bdb4457a731c",
   "metadata": {},
   "outputs": [],
   "source": [
    "pt.to_netcdf(f\"{base_folder}run-2014-01-repeatdt-24months_20230325.nc\")"
   ]
  },
  {
   "cell_type": "code",
   "execution_count": null,
   "id": "8ba7908e-1a55-44b0-8d36-9e3f897baf7d",
   "metadata": {},
   "outputs": [],
   "source": []
  }
 ],
 "metadata": {
  "kernelspec": {
   "display_name": "Python 3",
   "language": "python",
   "name": "python3"
  },
  "language_info": {
   "codemirror_mode": {
    "name": "ipython",
    "version": 3
   },
   "file_extension": ".py",
   "mimetype": "text/x-python",
   "name": "python",
   "nbconvert_exporter": "python",
   "pygments_lexer": "ipython3",
   "version": "3.6.11"
  }
 },
 "nbformat": 4,
 "nbformat_minor": 5
}
