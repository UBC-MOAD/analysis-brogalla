{
 "cells": [
  {
   "cell_type": "markdown",
   "id": "c556d9fb-d6ec-4142-b9f1-a12140850776",
   "metadata": {},
   "source": [
    "# Run parcel tracking with tracer"
   ]
  },
  {
   "cell_type": "code",
   "execution_count": 1,
   "id": "b6f3c616-54be-4ab0-87dc-58d35820e7b0",
   "metadata": {},
   "outputs": [],
   "source": [
    "import numpy as np\n",
    "from datetime import timedelta as delta\n",
    "from datetime import datetime\n",
    "import xarray as xr\n",
    "from parcels import FieldSet, Variable, ParticleSet, JITParticle, AdvectionRK4, AdvectionRK4_3D, ErrorCode, Field\n",
    "import glob\n",
    "\n",
    "%matplotlib inline"
   ]
  },
  {
   "cell_type": "markdown",
   "id": "79cb177b-0260-4f5e-9784-c768caee9fc6",
   "metadata": {},
   "source": [
    "#### Parameters"
   ]
  },
  {
   "cell_type": "code",
   "execution_count": 2,
   "id": "9af4396e-a318-4808-8e01-0859b87df8b7",
   "metadata": {},
   "outputs": [],
   "source": [
    "year = 2002\n",
    "land_color = '#a9a7a2'\n",
    "jmin, jmax = 159, 799\n",
    "imin, imax = 1139, 2179"
   ]
  },
  {
   "cell_type": "markdown",
   "id": "f21afaa3-df74-4c36-acc7-ac6208d3e641",
   "metadata": {},
   "source": [
    "#### Load files"
   ]
  },
  {
   "cell_type": "code",
   "execution_count": 3,
   "id": "9cd4a252-f10b-43e2-bd7f-f1ed2e42ea65",
   "metadata": {},
   "outputs": [],
   "source": [
    "# Open particle initialization location file:\n",
    "ini_loc = xr.open_dataset('/ocean/brogalla/GEOTRACES/parcels/Pb-chapter/western-PC-transect-parcels.nc')\n",
    "parcel_lons = ini_loc['longitude'].values\n",
    "parcel_lats = ini_loc['latitude'].values\n",
    "parcel_deps = ini_loc['depth'].values"
   ]
  },
  {
   "cell_type": "markdown",
   "id": "8697d976-89fe-485e-8348-4b98afe350b9",
   "metadata": {},
   "source": [
    "#### General setup"
   ]
  },
  {
   "cell_type": "code",
   "execution_count": 4,
   "id": "1979e62c-2af0-4b79-9d1f-12959e1f26ca",
   "metadata": {},
   "outputs": [],
   "source": [
    "# Mesh mask\n",
    "mesh_mask = '/ocean/brogalla/GEOTRACES/data/ANHA12/ANHA12_mesh1.nc'\n",
    "\n",
    "# ANHA12 NEMO grid U,V,W files\n",
    "folder_ANHA12      = '/data/brogalla/ANHA12/'\n",
    "ANHA12_gridU_files = sorted(glob.glob(f'{folder_ANHA12}ANHA12-EXH006_y{year}m??d??_gridU.nc'))[0:20]\n",
    "ANHA12_gridV_files = sorted(glob.glob(f'{folder_ANHA12}ANHA12-EXH006_y{year}m??d??_gridV.nc'))[0:20]\n",
    "ANHA12_gridW_files = sorted(glob.glob(f'{folder_ANHA12}ANHA12-EXH006_5d_gridW_y{year}m??d??.nc'))[0:20]\n",
    "\n",
    "# ANHA12 NEMO Pb model files\n",
    "folder_Pb = f'/data/brogalla/run_storage/Pb-new-ini2-20220922/'\n",
    "files_Pb  = sorted(glob.glob(f'{folder_Pb}ANHA12_EXH006_5d_{year}0101_{year}1231_ptrc_T_{year}*'))[0:20]\n",
    "\n",
    "# Create timestamps from file dates:\n",
    "time_stamps = []\n",
    "for n, file in enumerate(ANHA12_gridU_files):\n",
    "    dateU  = datetime.strptime(file[36:47],'y%Ym%md%d')\n",
    "    dateV  = datetime.strptime(ANHA12_gridV_files[n][36:47],'y%Ym%md%d')\n",
    "    dateW  = datetime.strptime(ANHA12_gridW_files[n][45:56],'y%Ym%md%d')\n",
    "    datePb = datetime.strptime(files_Pb[n][99:107],'%Y%m%d')\n",
    "    \n",
    "    if (dateU != dateV) | (dateU != dateW) | (dateU != datePb):\n",
    "        print('Dates not equal!')\n",
    "    \n",
    "    # double-check that the date is the same for U, V, and W files\n",
    "    time_stamps.append(np.datetime64(f'{dateU.year:02}-{dateU.month:02}-{dateU.day:02}'))\n",
    "\n",
    "timestamps = np.expand_dims(np.array(time_stamps), axis=1)"
   ]
  },
  {
   "cell_type": "code",
   "execution_count": 5,
   "id": "c503706f-416b-40b0-b577-8ac425582d91",
   "metadata": {},
   "outputs": [],
   "source": [
    "filenames = {'U': {'lon': mesh_mask   , 'lat': mesh_mask  , 'depth': ANHA12_gridW_files[0], 'data': ANHA12_gridU_files},\n",
    "             'V': {'lon': mesh_mask   , 'lat': mesh_mask  , 'depth': ANHA12_gridW_files[0], 'data': ANHA12_gridV_files},\n",
    "             'W': {'lon': mesh_mask   , 'lat': mesh_mask  , 'depth': ANHA12_gridW_files[0], 'data': ANHA12_gridW_files},\n",
    "             'Pb': {'lon': files_Pb[0], 'lat': files_Pb[0], 'depth': files_Pb[0], 'data': files_Pb}}\n",
    "\n",
    "dimensions = {'U': {'lon': 'nav_lon', 'lat': 'nav_lat', 'depth': 'depthw'},\n",
    "              'V': {'lon': 'nav_lon', 'lat': 'nav_lat', 'depth': 'depthw'},\n",
    "              'W': {'lon': 'nav_lon', 'lat': 'nav_lat', 'depth': 'depthw'},\n",
    "              'Pb': {'lon': 'nav_lon', 'lat': 'nav_lat', 'depth': 'deptht'}}\n",
    "\n",
    "variables = {'U': 'vozocrtx',\n",
    "             'V': 'vomecrty',\n",
    "             'W': 'vovecrtz',\n",
    "             'Pb': 'dissolpb'}\n",
    "\n",
    "indices_subset = {'U':  {'lon': range(jmin, jmax), 'lat': range(imin, imax), 'depth': range(0,50)},\n",
    "                  'V':  {'lon': range(jmin, jmax), 'lat': range(imin, imax), 'depth': range(0,50)},\n",
    "                  'W':  {'lon': range(jmin, jmax), 'lat': range(imin, imax), 'depth': range(0,50)},\n",
    "                  'Pb': {'lon': range(0,640)     , 'lat': range(0,1040)    , 'depth': range(0,50)}}\n",
    "\n",
    "# needed to provide time as timestamps in order to avoid time origin type issue\n",
    "fieldset  = FieldSet.from_nemo(filenames, variables, dimensions, \\\n",
    "                               timestamps=timestamps, \\\n",
    "                               allow_time_extrapolation=False, \\\n",
    "                               indices=indices_subset)"
   ]
  },
  {
   "cell_type": "markdown",
   "id": "3a16d458-ce1e-4100-a4f1-8552134bc58a",
   "metadata": {},
   "source": [
    "Particle set with starting locations specified:"
   ]
  },
  {
   "cell_type": "code",
   "execution_count": 12,
   "id": "6483bdc8-408f-4724-817e-7c99fff819ce",
   "metadata": {},
   "outputs": [
    {
     "name": "stderr",
     "output_type": "stream",
     "text": [
      "WARNING: Particle initialisation from field can be very slow as it is computed in scipy mode.\n"
     ]
    }
   ],
   "source": [
    "release_time  = 0\n",
    "release_lon   = [-130, -145, -70, -55] # east\n",
    "release_lat   = [75, 74, 75, 65]       # north\n",
    "pset = ParticleSet(fieldset=fieldset, pclass=PbParticle, lon=release_lon, lat=release_lat, time=0)"
   ]
  },
  {
   "cell_type": "markdown",
   "id": "c2d8d50a-f7b1-486b-9847-069b04b9482a",
   "metadata": {},
   "source": [
    "#### Classes and functions"
   ]
  },
  {
   "cell_type": "code",
   "execution_count": 7,
   "id": "9414b388-6872-4777-a79b-e2f5d93d9b94",
   "metadata": {},
   "outputs": [],
   "source": [
    "# define new particle class for Pb\n",
    "class PbParticle(JITParticle): \n",
    "    dissolvedPb = Variable('dissolpb', initial=fieldset.Pb)  # Variable 'dissolpb' initialised by sampling the dissolved Pb field"
   ]
  },
  {
   "cell_type": "code",
   "execution_count": 8,
   "id": "6ca3ddd7-bc37-4f61-8327-f008ed6a2850",
   "metadata": {},
   "outputs": [],
   "source": [
    "def DeleteParticle(particle, fieldset, time):\n",
    "    print(\"Particle [%d] lost !! (%g %g %g %g)\" % (particle.id, particle.lon, particle.lat, particle.depth, particle.time))\n",
    "    particle.delete()"
   ]
  },
  {
   "cell_type": "code",
   "execution_count": 9,
   "id": "89d0a983-a2c9-4c11-a950-989f323e86d5",
   "metadata": {},
   "outputs": [],
   "source": [
    "def SamplePb(particle, fieldset, time):\n",
    "         particle.dissolpb = fieldset.Pb[particle.time, particle.depth, particle.lat, particle.lon]"
   ]
  },
  {
   "cell_type": "markdown",
   "id": "4848fdbc-b75b-4b2c-a80a-bef66ba2fb30",
   "metadata": {},
   "source": [
    "#### Run"
   ]
  },
  {
   "cell_type": "markdown",
   "id": "d4a68fe9-9301-4ff1-8e7f-46f560600d97",
   "metadata": {},
   "source": [
    "The issue relates to adding the Pb sampling kernel, since running without it the particles are fine:"
   ]
  },
  {
   "cell_type": "code",
   "execution_count": 13,
   "id": "55087ccb-145e-4cbc-a88a-38e2fe71904a",
   "metadata": {},
   "outputs": [
    {
     "name": "stderr",
     "output_type": "stream",
     "text": [
      "INFO: Compiled ArrayPbParticleAdvectionRK4_3DSamplePb ==> /tmp/parcels-2672/libafb714e8dd33c3ebcc7455ddd13ee995_0.so\n"
     ]
    },
    {
     "name": "stdout",
     "output_type": "stream",
     "text": [
      "Particle [0] lost !! (-130 75 0.494025 0)\n",
      "Particle [1] lost !! (-145 74 0.494025 0)\n",
      "Particle [3] lost !! (-55 65 0.494025 0)\n"
     ]
    },
    {
     "name": "stderr",
     "output_type": "stream",
     "text": [
      "INFO: Output files are stored in /ocean/brogalla/GEOTRACES/parcels/Pb-chapter/Pb-test2.zarr.\n",
      "100%|█████████████████████████████████████████████████████████████████████████████████████████████████████████████████████████████████████████████████████████| 864000.0/864000.0 [00:05<00:00, 157364.94it/s]\n"
     ]
    }
   ],
   "source": [
    "output_file = pset.ParticleFile(name=\"/ocean/brogalla/GEOTRACES/parcels/Pb-chapter/Pb-test2.zarr\", outputdt=delta(hours=12))\n",
    "\n",
    "# particles are bumping against land and being deleted, if I instead just want them to keep moving:\n",
    "pset.execute(AdvectionRK4_3D + pset.Kernel(SamplePb), \n",
    "             runtime     = delta(hours=24*10), \n",
    "             dt          = delta(hours=2),\n",
    "             output_file = output_file,\n",
    "             recovery    = {ErrorCode.ErrorOutOfBounds: DeleteParticle})\n",
    "\n",
    "# dt      --- the timestep of the kernel\n",
    "# runtime --- the total length of the run"
   ]
  },
  {
   "cell_type": "markdown",
   "id": "8cbbc4f0-2188-404f-b86d-e65d5d02d05d",
   "metadata": {},
   "source": [
    "Without Pb:"
   ]
  },
  {
   "cell_type": "code",
   "execution_count": 14,
   "id": "b81509dc-0340-41e9-984a-ee831816ac8a",
   "metadata": {},
   "outputs": [
    {
     "name": "stderr",
     "output_type": "stream",
     "text": [
      "INFO: Compiled ArrayPbParticleAdvectionRK4_3D ==> /tmp/parcels-2672/lib26a5e118733e59286960bab7af2293e9_0.so\n",
      "INFO: Output files are stored in /ocean/brogalla/GEOTRACES/parcels/Pb-chapter/Pb-test2.zarr.\n",
      "100%|█████████████████████████████████████████████████████████████████████████████████████████████████████████████████████████████████████████████████████████| 864000.0/864000.0 [00:04<00:00, 197858.34it/s]\n"
     ]
    }
   ],
   "source": [
    "output_file = pset.ParticleFile(name=\"/ocean/brogalla/GEOTRACES/parcels/Pb-chapter/Pb-test2.zarr\", outputdt=delta(hours=12))\n",
    "\n",
    "# particles are bumping against land and being deleted, if I instead just want them to keep moving:\n",
    "pset.execute(AdvectionRK4_3D, \n",
    "             runtime     = delta(hours=24*10), \n",
    "             dt          = delta(hours=2),\n",
    "             output_file = output_file,\n",
    "             recovery    = {ErrorCode.ErrorOutOfBounds: DeleteParticle})\n",
    "\n",
    "# dt      --- the timestep of the kernel\n",
    "# runtime --- the total length of the run"
   ]
  }
 ],
 "metadata": {
  "kernelspec": {
   "display_name": "Python 3 (ipykernel)",
   "language": "python",
   "name": "python3"
  },
  "language_info": {
   "codemirror_mode": {
    "name": "ipython",
    "version": 3
   },
   "file_extension": ".py",
   "mimetype": "text/x-python",
   "name": "python",
   "nbconvert_exporter": "python",
   "pygments_lexer": "ipython3",
   "version": "3.10.6"
  }
 },
 "nbformat": 4,
 "nbformat_minor": 5
}
