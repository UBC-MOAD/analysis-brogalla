{
 "cells": [
  {
   "cell_type": "markdown",
   "metadata": {},
   "source": [
    "# Animation of Pb concentrations"
   ]
  },
  {
   "cell_type": "code",
   "execution_count": 1,
   "metadata": {},
   "outputs": [],
   "source": [
    "import matplotlib.pyplot as plt\n",
    "import netCDF4 as nc\n",
    "import numpy as np\n",
    "from mpl_toolkits.basemap import Basemap, cm\n",
    "import cmocean\n",
    "import pickle\n",
    "import matplotlib\n",
    "import xarray as xr\n",
    "from datetime import datetime\n",
    "import imageio\n",
    "import glob\n",
    "from constants import imin, imax, jmin, jmax, isize, jsize\n",
    "\n",
    "%matplotlib inline"
   ]
  },
  {
   "cell_type": "markdown",
   "metadata": {},
   "source": [
    "#### Parameters:"
   ]
  },
  {
   "cell_type": "code",
   "execution_count": 2,
   "metadata": {},
   "outputs": [],
   "source": [
    "# Resolution of grid cells to show in figure:\n",
    "grid_reso  = 10\n",
    "\n",
    "land_color  = '#a9a7a2'"
   ]
  },
  {
   "cell_type": "markdown",
   "metadata": {},
   "source": [
    "#### Load files:"
   ]
  },
  {
   "cell_type": "code",
   "execution_count": 3,
   "metadata": {},
   "outputs": [],
   "source": [
    "mfile        = xr.open_dataset('/ocean/brogalla/GEOTRACES/data/ANHA12/ANHA12_mask_Pb-20230213.nc')\n",
    "mesh_lon     = mfile['nav_lon'].values\n",
    "mesh_lat     = mfile['nav_lat'].values\n",
    "mask         = mfile['tmask'].values[0]\n",
    "mesh_bathy   = mfile['tmask'].values[0,:,:,:]\n",
    "bathy_masked = np.ma.masked_where((mesh_bathy> 0.1), mesh_bathy)\n",
    "mesh_depth   = mfile['nav_lev'].values"
   ]
  },
  {
   "cell_type": "code",
   "execution_count": 4,
   "metadata": {},
   "outputs": [],
   "source": [
    "years  = np.arange(2015,2022,1) \n",
    "files1 = []; files2 = [];\n",
    "for year in years:\n",
    "    folder1 = f'/data/brogalla/run_storage/Pb-reference-202312/Pb-reference-{year}-202312/'\n",
    "    folder2 = f'/data/brogalla/run_storage/Pb-Labrador-202312/Pb-Labrador-{year}-202312/'\n",
    "        \n",
    "    files1 = np.append(files1, np.sort(glob.glob(f'{folder1}/ANHA12_EXH006_5d_*')))\n",
    "    files2 = np.append(files2, np.sort(glob.glob(f'{folder2}/ANHA12_EXH006_5d_*')))"
   ]
  },
  {
   "cell_type": "code",
   "execution_count": 5,
   "metadata": {},
   "outputs": [],
   "source": [
    "dates1 = [file.split('ptrc_T_')[1][0:-3] for file in files1]\n",
    "dates2 = [file.split('ptrc_T_')[1][0:-3] for file in files2]"
   ]
  },
  {
   "cell_type": "markdown",
   "metadata": {},
   "source": [
    "#### Functions"
   ]
  },
  {
   "cell_type": "code",
   "execution_count": 6,
   "metadata": {},
   "outputs": [],
   "source": [
    "def plot_layer(file1, file2, n, layer=0, vmin=0, vmax=30):\n",
    "    \n",
    "#     fig, ax, proj1 = pickle.load(open('/ocean/brogalla/GEOTRACES/pickles/LS.pickle','rb'))\n",
    "    fig, ax, proj1 = pickle.load(open('/ocean/brogalla/GEOTRACES/pickles/Baffin-Bay-zoom.pickle','rb'))\n",
    "    x, y = proj1(mesh_lon[imin:imax,jmin:jmax], mesh_lat[imin:imax,jmin:jmax]) \n",
    "    \n",
    "    with xr.open_dataset(f'{file1}') as f:\n",
    "        f1 = f['dissolpb'].values[0,layer,:,:]\n",
    "    with xr.open_dataset(f'{file2}') as f:\n",
    "        f2 = f['dissolpb'].values[0,layer,:,:]\n",
    "    \n",
    "    CB = proj1.pcolormesh(x, y, (f2-f1)*1e12, cmap=cmocean.cm.rain, vmin=vmin, vmax=vmax, ax=ax, rasterized=True) \n",
    "   \n",
    "    # proj1.contourf(x, y, bathy_masked[layer,imin:imax,jmin:jmax], colors=[land_color], zorder=1, ax=ax)\n",
    "    proj1.pcolormesh(x, y, bathy_masked[layer,imin:imax,jmin:jmax], \\\n",
    "               cmap=matplotlib.colors.ListedColormap([land_color]), zorder=1, ax=ax)\n",
    "    ax.set_title(datetime.strptime(dates1[n][0:8],\"%Y%M%d\").strftime('%Y-%M-%d'), fontsize=6)\n",
    "    \n",
    "    ax.text(x[200,530], y[200,530], 'Greenland \\n Kalaallit Nunaat', fontsize=5, style='italic')\n",
    "    ax.text(x[220,300], y[220,300], 'Baffin \\n Island', fontsize=5, style='italic')\n",
    "    \n",
    "    # Color bar: --------------------------------------------------------------------------------\n",
    "    cbaxes = fig.add_axes([0.07, 0.13, 0.02, 0.38]);\n",
    "    CBar   = plt.colorbar(CB, cax=cbaxes); \n",
    "    CBar.set_label(r'$\\Delta$ Dissolved Pb [pM]', fontsize=7)\n",
    "    CBar.ax.tick_params(axis='y', length=0, labelsize=7)\n",
    "#     CBar.ax.set_yticklabels(['0','1.0','2.0','3.0','4.0','>5.0']) \n",
    "    return fig"
   ]
  },
  {
   "cell_type": "markdown",
   "metadata": {
    "tags": []
   },
   "source": [
    "#### Figure:"
   ]
  },
  {
   "cell_type": "code",
   "execution_count": 8,
   "metadata": {},
   "outputs": [
    {
     "data": {
      "text/plain": [
       "1245.2911"
      ]
     },
     "execution_count": 8,
     "metadata": {},
     "output_type": "execute_result"
    }
   ],
   "source": [
    "mesh_depth[36]"
   ]
  },
  {
   "cell_type": "code",
   "execution_count": 9,
   "metadata": {},
   "outputs": [],
   "source": [
    "for depth in [36]: #10, 25, 30, 32\n",
    "    for n, date in enumerate(dates1):\n",
    "        fig = plot_layer(files1[n], files2[n], n, layer=depth, vmin=0, vmax=0.01)    \n",
    "        fig.savefig(f'/ocean/brogalla/GEOTRACES/figures/Pb_202402/animation/Baffin-Bay-animation-z{depth}-{date[0:8]}.png', dpi=300)\n",
    "        plt.close(fig)"
   ]
  },
  {
   "cell_type": "code",
   "execution_count": 7,
   "metadata": {},
   "outputs": [],
   "source": [
    "layer = 36\n",
    "\n",
    "#https://stackoverflow.com/questions/753190/programmatically-generate-video-or-animated-gif-in-python\n",
    "filenames = np.sort(glob.glob(f'/ocean/brogalla/GEOTRACES/figures/Pb_202402/animation/Baffin-Bay-animation-z{layer}-*'))\n",
    "with imageio.get_writer(f'/ocean/brogalla/GEOTRACES/figures/Pb_202402/animation/Baffin-Bay-z{layer}.mp4', \n",
    "                        macro_block_size = None, fps=7, mode='I') as writer:\n",
    "    for filename in filenames:\n",
    "        image = imageio.imread(filename)\n",
    "        writer.append_data(image)"
   ]
  },
  {
   "cell_type": "code",
   "execution_count": null,
   "metadata": {},
   "outputs": [],
   "source": []
  }
 ],
 "metadata": {
  "kernelspec": {
   "display_name": "Python 3",
   "language": "python",
   "name": "python3"
  },
  "language_info": {
   "codemirror_mode": {
    "name": "ipython",
    "version": 3
   },
   "file_extension": ".py",
   "mimetype": "text/x-python",
   "name": "python",
   "nbconvert_exporter": "python",
   "pygments_lexer": "ipython3",
   "version": "3.6.11"
  }
 },
 "nbformat": 4,
 "nbformat_minor": 4
}
