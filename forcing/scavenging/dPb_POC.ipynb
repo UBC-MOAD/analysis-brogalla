{
 "cells": [
  {
   "cell_type": "markdown",
   "metadata": {},
   "source": [
    "# Estimate scavenging rates from observations\n",
    "\n",
    "Dissolved trace metal data from Manuel Colombo, particulate trace metal data from Jingxuan Li."
   ]
  },
  {
   "cell_type": "code",
   "execution_count": 92,
   "metadata": {},
   "outputs": [],
   "source": [
    "import numpy as np\n",
    "import matplotlib.pyplot as plt\n",
    "from scipy import interpolate\n",
    "import pandas as pd\n",
    "from scipy import stats\n",
    "from sklearn.linear_model import LinearRegression\n",
    "import warnings\n",
    "import seaborn as sns; sns.set()\n",
    "import netCDF4 as nc\n",
    "from matplotlib.ticker import FormatStrFormatter\n",
    "import datetime as dt\n",
    "from scipy.signal import savgol_filter\n",
    "\n",
    "warnings.filterwarnings('ignore')\n",
    "\n",
    "%matplotlib inline"
   ]
  },
  {
   "cell_type": "code",
   "execution_count": 93,
   "metadata": {},
   "outputs": [],
   "source": [
    "import sys\n",
    "sys.path.insert(0, '/ocean/brogalla/GEOTRACES/analysis-brogalla/modules')\n",
    "import ariane as ar"
   ]
  },
  {
   "cell_type": "markdown",
   "metadata": {},
   "source": [
    "##### Load files:"
   ]
  },
  {
   "cell_type": "code",
   "execution_count": 3,
   "metadata": {},
   "outputs": [],
   "source": [
    "# Dissolved trace metal observations\n",
    "Pb_data = pd.read_csv('/ocean/brogalla/GEOTRACES/data/Pb-paper-data.csv')\n",
    "\n",
    "dPb_BB1 = Pb_data['BB1'][np.isfinite(Pb_data['BB1'])].astype('float')\n",
    "dPb_BB2 = Pb_data['BB2'][np.isfinite(Pb_data['BB2'])].astype('float')\n",
    "dPb_BB3 = Pb_data['BB3'][np.isfinite(Pb_data['BB3'])].astype('float')\n",
    "dPb_CB1 = Pb_data['CB1'][np.isfinite(Pb_data['CB1'])].astype('float')\n",
    "dPb_CB2 = Pb_data['CB2'][np.isfinite(Pb_data['CB2'])].astype('float')\n",
    "dPb_CB3 = Pb_data['CB3'][np.isfinite(Pb_data['CB3'])].astype('float')\n",
    "dPb_CB4 = Pb_data['CB4'][np.isfinite(Pb_data['CB4'])].astype('float')\n",
    "dPb_CAA1 = Pb_data['CAA1'][np.isfinite(Pb_data['CAA1'])].astype('float')\n",
    "dPb_CAA2 = Pb_data['CAA2'][np.isfinite(Pb_data['CAA2'])].astype('float')\n",
    "dPb_CAA3 = Pb_data['CAA3'][np.isfinite(Pb_data['CAA3'])].astype('float')\n",
    "dPb_CAA4 = Pb_data['CAA4'][np.isfinite(Pb_data['CAA4'])].astype('float')\n",
    "dPb_CAA5 = Pb_data['CAA5'][np.isfinite(Pb_data['CAA5'])].astype('float')\n",
    "dPb_CAA6 = Pb_data['CAA6'][np.isfinite(Pb_data['CAA6'])].astype('float')\n",
    "dPb_CAA7 = Pb_data['CAA7'][np.isfinite(Pb_data['CAA7'])].astype('float')\n",
    "dPb_CAA8 = Pb_data['CAA8'][np.isfinite(Pb_data['CAA8'])].astype('float')\n",
    "dPb_CAA9 = Pb_data['CAA9'][np.isfinite(Pb_data['CAA9'])].astype('float')\n",
    "\n",
    "depth_BB1 = Pb_data['Depth.1'][np.isfinite(Pb_data['BB1'])].astype('float')\n",
    "depth_BB2 = Pb_data['Depth.2'][np.isfinite(Pb_data['BB2'])].astype('float')\n",
    "depth_BB3 = Pb_data['Depth.3'][np.isfinite(Pb_data['BB3'])].astype('float')\n",
    "depth_CB1 = Pb_data['Depth.13'][np.isfinite(Pb_data['CB1'])].astype('float')\n",
    "depth_CB2 = Pb_data['Depth.14'][np.isfinite(Pb_data['CB2'])].astype('float')\n",
    "depth_CB3 = Pb_data['Depth.15'][np.isfinite(Pb_data['CB3'])].astype('float')\n",
    "depth_CB4 = Pb_data['Depth.16'][np.isfinite(Pb_data['CB4'])].astype('float')\n",
    "depth_CAA1 = Pb_data['Depth.4'][np.isfinite(Pb_data['CAA1'])].astype('float')\n",
    "depth_CAA2 = Pb_data['Depth.5'][np.isfinite(Pb_data['CAA2'])].astype('float')\n",
    "depth_CAA3 = Pb_data['Depth.6'][np.isfinite(Pb_data['CAA3'])].astype('float')\n",
    "depth_CAA4 = Pb_data['Depth.7'][np.isfinite(Pb_data['CAA4'])].astype('float')\n",
    "depth_CAA5 = Pb_data['Depth.8'][np.isfinite(Pb_data['CAA5'])].astype('float')\n",
    "depth_CAA6 = Pb_data['Depth.9'][np.isfinite(Pb_data['CAA6'])].astype('float')\n",
    "depth_CAA7 = Pb_data['Depth.10'][np.isfinite(Pb_data['CAA7'])].astype('float')\n",
    "depth_CAA8 = Pb_data['Depth.11'][np.isfinite(Pb_data['CAA8'])].astype('float')\n",
    "depth_CAA9 = Pb_data['Depth.12'][np.isfinite(Pb_data['CAA9'])].astype('float')"
   ]
  },
  {
   "cell_type": "code",
   "execution_count": 4,
   "metadata": {},
   "outputs": [],
   "source": [
    "stn_names = Pb_data['Station names'].dropna().astype('str')\n",
    "lons = Pb_data['station lon'].astype('float').dropna().values\n",
    "lats = Pb_data['Station lat'].astype('float').dropna().values"
   ]
  },
  {
   "cell_type": "code",
   "execution_count": 5,
   "metadata": {},
   "outputs": [],
   "source": [
    "# Combine all observations into single collapsed arrays:\n",
    "\n",
    "obs_depths = np.concatenate((depth_BB1, depth_BB2, depth_BB3, depth_CAA1, depth_CAA2, depth_CAA3, depth_CAA4, \\\n",
    "                             depth_CAA5, depth_CAA6, depth_CAA7, depth_CAA8, depth_CAA9, depth_CB1, depth_CB2, \\\n",
    "                             depth_CB3, depth_CB4))\n",
    "\n",
    "obs_lons = np.concatenate((np.ones(depth_BB1.shape)*lons[stn_names=='BB1'], \\\n",
    "                          np.ones(depth_BB2.shape)*lons[stn_names=='BB2'], \\\n",
    "                          np.ones(depth_BB3.shape)*lons[stn_names=='BB3'], \\\n",
    "                          np.ones(depth_CAA1.shape)*lons[stn_names=='CAA1'], \\\n",
    "                          np.ones(depth_CAA2.shape)*lons[stn_names=='CAA2'], \\\n",
    "                          np.ones(depth_CAA3.shape)*lons[stn_names=='CAA3'], \\\n",
    "                          np.ones(depth_CAA4.shape)*lons[stn_names=='CAA4'], \\\n",
    "                          np.ones(depth_CAA5.shape)*lons[stn_names=='CAA5'], \\\n",
    "                          np.ones(depth_CAA6.shape)*lons[stn_names=='CAA6'], \\\n",
    "                          np.ones(depth_CAA7.shape)*lons[stn_names=='CAA7'], \\\n",
    "                          np.ones(depth_CAA8.shape)*lons[stn_names=='CAA8'], \\\n",
    "                          np.ones(depth_CAA9.shape)*lons[stn_names=='CAA9'], \\\n",
    "                          np.ones(depth_CB1.shape)*lons[stn_names=='CB1'], \\\n",
    "                          np.ones(depth_CB2.shape)*lons[stn_names=='CB2'], \\\n",
    "                          np.ones(depth_CB3.shape)*lons[stn_names=='CB3'], \\\n",
    "                          np.ones(depth_CB4.shape)*lons[stn_names=='CB4']))\n",
    "\n",
    "obs_lats = np.concatenate((np.ones(depth_BB1.shape)*lats[stn_names=='BB1'], \\\n",
    "                          np.ones(depth_BB2.shape)*lats[stn_names=='BB2'], \\\n",
    "                          np.ones(depth_BB3.shape)*lats[stn_names=='BB3'], \\\n",
    "                          np.ones(depth_CAA1.shape)*lats[stn_names=='CAA1'], \\\n",
    "                          np.ones(depth_CAA2.shape)*lats[stn_names=='CAA2'], \\\n",
    "                          np.ones(depth_CAA3.shape)*lats[stn_names=='CAA3'], \\\n",
    "                          np.ones(depth_CAA4.shape)*lats[stn_names=='CAA4'], \\\n",
    "                          np.ones(depth_CAA5.shape)*lats[stn_names=='CAA5'], \\\n",
    "                          np.ones(depth_CAA6.shape)*lats[stn_names=='CAA6'], \\\n",
    "                          np.ones(depth_CAA7.shape)*lats[stn_names=='CAA7'], \\\n",
    "                          np.ones(depth_CAA8.shape)*lats[stn_names=='CAA8'], \\\n",
    "                          np.ones(depth_CAA9.shape)*lats[stn_names=='CAA9'], \\\n",
    "                          np.ones(depth_CB1.shape)*lats[stn_names=='CB1'], \\\n",
    "                          np.ones(depth_CB2.shape)*lats[stn_names=='CB2'], \\\n",
    "                          np.ones(depth_CB3.shape)*lats[stn_names=='CB3'], \\\n",
    "                          np.ones(depth_CB4.shape)*lats[stn_names=='CB4']))\n",
    "\n",
    "obs_dPb = np.concatenate((dPb_BB1, dPb_BB2, dPb_BB3, dPb_CAA1, dPb_CAA2, dPb_CAA3, dPb_CAA4, \\\n",
    "                         dPb_CAA5, dPb_CAA6, dPb_CAA7, dPb_CAA8, dPb_CAA9, dPb_CB1, dPb_CB2, \\\n",
    "                         dPb_CB3, dPb_CB4))"
   ]
  },
  {
   "cell_type": "markdown",
   "metadata": {},
   "source": [
    "#### Functions"
   ]
  },
  {
   "cell_type": "code",
   "execution_count": 6,
   "metadata": {},
   "outputs": [],
   "source": [
    "def assoc_depth(depth_obs):\n",
    "    \n",
    "    # find depths that are in common\n",
    "    common_depths = np.empty_like(depth_obs)\n",
    "    index_depths  = np.empty_like(depth_obs)\n",
    "    \n",
    "    i=0\n",
    "    for depth in depth_obs:\n",
    "        min_val  = np.argmin(np.abs(POC_dep - depth))\n",
    "        if np.abs(POC_dep[min_val] - depth) > 100:\n",
    "            common_depths[i] = np.nan\n",
    "            index_depths[i]  = np.nan\n",
    "        else:\n",
    "            common_depths[i] = POC_dep[min_val]\n",
    "            index_depths[i]  = min_val\n",
    "        i+=1\n",
    "        \n",
    "    return common_depths, index_depths"
   ]
  },
  {
   "cell_type": "markdown",
   "metadata": {},
   "source": [
    "### Dissolved Pb vs. POC flux"
   ]
  },
  {
   "cell_type": "code",
   "execution_count": 30,
   "metadata": {},
   "outputs": [],
   "source": [
    "POC = nc.Dataset('/ocean/brogalla/GEOTRACES/data/b.e11.B1850C5CN.f09_g16.005.pop.h.POC_FLUX_IN.200001-209912.nc')\n",
    "POC_lon  = np.array(POC.variables['TLONG'])\n",
    "POC_lat  = np.array(POC.variables['TLAT'])\n",
    "POC_dep  = np.array(POC.variables['z_t'])*1e-2    # depth from surface (cm)\n",
    "POC_time = np.array(POC.variables['time'])        # days since 0000-01-01 00:00:00, noleap\n",
    "POC_flux = np.array(POC.variables['POC_FLUX_IN']) # mmol /m3 cm/s"
   ]
  },
  {
   "cell_type": "code",
   "execution_count": 31,
   "metadata": {},
   "outputs": [
    {
     "name": "stdout",
     "output_type": "stream",
     "text": [
      "Most similar date to collection of observations: 2015-08-31 00:00:00\n"
     ]
    }
   ],
   "source": [
    "POC_date = [dt.datetime(1,1,1) + dt.timedelta(days=t) for t in POC_time]\n",
    "\n",
    "print('Most similar date to collection of observations:', POC_date[191])"
   ]
  },
  {
   "cell_type": "code",
   "execution_count": 32,
   "metadata": {},
   "outputs": [],
   "source": [
    "# Find corresponding lons at lats for POC flux compared to the station locations:\n",
    "\n",
    "i_stn = []\n",
    "j_stn = []\n",
    "for stn in range(0,len(obs_lons)):\n",
    "    i, j = ar.find_closest_model_point(360+obs_lons[stn], obs_lats[stn], POC_lon, POC_lat, \\\n",
    "                                       tols={'NEMO': {'tol_lon': 0.5, 'tol_lat': 0.5}})\n",
    "    i_stn.append(i)\n",
    "    j_stn.append(j)\n",
    "    \n",
    "i_POC = np.array(i_stn)\n",
    "j_POC = np.array(j_stn)"
   ]
  },
  {
   "cell_type": "code",
   "execution_count": 33,
   "metadata": {},
   "outputs": [],
   "source": [
    "POC_common_depths, POC_z_index = assoc_depth(obs_depths)"
   ]
  },
  {
   "cell_type": "code",
   "execution_count": 34,
   "metadata": {},
   "outputs": [],
   "source": [
    "POC_array = []\n",
    "\n",
    "for ind in range(0,len(obs_depths)):\n",
    "    try:\n",
    "#         print(POC_z_index[ind], i_POC[ind], j_POC[ind])\n",
    "        POC_flx = POC_flux[191, int(POC_z_index[ind]), i_POC[ind], j_POC[ind]]\n",
    "    except:\n",
    "        POC_flx = np.nan\n",
    "        \n",
    "    POC_array.append(POC_flx)\n",
    "    \n",
    "POC_flux_stns = np.array(POC_array)\n",
    "\n",
    "POC_flux_stns[POC_flux_stns > 1e10] = np.nan\n",
    "POC_flux_stns[POC_flux_stns == 0.0] = np.nan"
   ]
  },
  {
   "cell_type": "code",
   "execution_count": 35,
   "metadata": {},
   "outputs": [],
   "source": [
    "# Mask places where depths are too different:\n",
    "\n",
    "dPb_masked = np.ma.masked_where(np.logical_or(np.isnan(POC_flux_stns), np.isnan(obs_dPb)), obs_dPb)\n",
    "POC_masked = np.ma.masked_where(np.logical_or(np.isnan(POC_flux_stns), np.isnan(obs_dPb)), POC_flux_stns)"
   ]
  },
  {
   "cell_type": "code",
   "execution_count": 37,
   "metadata": {},
   "outputs": [
    {
     "data": {
      "image/png": "[encoded data removed]",
      "text/plain": [
       "<Figure size 504x504 with 1 Axes>"
      ]
     },
     "metadata": {
      "needs_background": "light"
     },
     "output_type": "display_data"
    }
   ],
   "source": [
    "fig, ax = plt.subplots(1,1,figsize=(7,7))\n",
    "st = sns.axes_style(\"whitegrid\")\n",
    "\n",
    "with st:\n",
    "    ax.set(ylim=(0,30.0), xlim=(0,10.0))\n",
    "    sns.regplot(POC_masked*1e5, dPb_masked*1e3, truncate=False, ax=ax, color='k')\n",
    "#     ax = sns.scatterplot(POC_masked*1e5, dPb_masked*1e3, color='k', s=100)\n",
    "    \n",
    "    ax.set_ylabel('Dissolved Pb [pM]', fontsize=14)\n",
    "    ax.set_xlabel('POC flux [mmol/m3 cm/s]', fontsize=14)\n",
    "    ax.tick_params(axis='both', which='major', labelsize=14)\n",
    "    ax.spines['left'].set_linewidth(1.5);   ax.spines['left'].set_color('black');\n",
    "    ax.spines['bottom'].set_linewidth(1.5); ax.spines['bottom'].set_color('black');\n",
    "    ax.spines['right'].set_linewidth(1.5);  ax.spines['right'].set_color('black');\n",
    "    ax.spines['top'].set_linewidth(1.5);    ax.spines['top'].set_color('black');    "
   ]
  },
  {
   "cell_type": "markdown",
   "metadata": {},
   "source": [
    "POC drop metric:"
   ]
  },
  {
   "cell_type": "code",
   "execution_count": 129,
   "metadata": {},
   "outputs": [],
   "source": [
    "drop_BB1 = np.nanmean(dPb_BB1[depth_BB1 < 100]) - dPb_BB1[depth_BB1 > 100]; \n",
    "drop_BB2 = np.nanmean(dPb_BB2[depth_BB2 < 100]) - dPb_BB2[depth_BB2 > 100]; \n",
    "drop_BB3 = np.nanmean(dPb_BB3[depth_BB3 < 100]) - dPb_BB3[depth_BB3 > 100]; \n",
    "ddep_BB1 = depth_BB1[depth_BB1 > 100]; ddep_BB2 = depth_BB2[depth_BB2 > 100]; \n",
    "ddep_BB3 = depth_BB3[depth_BB3 > 100];\n",
    "\n",
    "drop_CB1 = np.nanmean(dPb_CB1[depth_CB1 < 100]) - dPb_CB1[depth_CB1 > 100];\n",
    "drop_CB2 = np.nanmean(dPb_CB2[depth_CB2 < 100]) - dPb_CB2[depth_CB2 > 100];\n",
    "drop_CB3 = np.nanmean(dPb_CB3[depth_CB3 < 100]) - dPb_CB3[depth_CB3 > 100];\n",
    "drop_CB4 = np.nanmean(dPb_CB4[depth_CB4 < 100]) - dPb_CB4[depth_CB4 > 100];\n",
    "ddep_CB1 = depth_CB1[depth_CB1 > 100]; ddep_CB2 = depth_CB2[depth_CB2 > 100];\n",
    "ddep_CB3 = depth_CB3[depth_CB3 > 100]; ddep_CB4 = depth_CB4[depth_CB4 > 100];\n",
    "\n",
    "drop_CAA1 = np.nanmean(dPb_CAA1[depth_CAA1 < 100]) - dPb_CAA1[depth_CAA1 > 100];\n",
    "drop_CAA2 = np.nanmean(dPb_CAA2[depth_CAA2 < 100]) - dPb_CAA2[depth_CAA2 > 100];\n",
    "drop_CAA3 = np.nanmean(dPb_CAA3[depth_CAA3 < 100]) - dPb_CAA3[depth_CAA3 > 100];\n",
    "drop_CAA4 = np.nanmean(dPb_CAA4[depth_CAA4 < 100]) - dPb_CAA4[depth_CAA4 > 100];\n",
    "drop_CAA5 = np.nanmean(dPb_CAA5[depth_CAA5 < 100]) - dPb_CAA5[depth_CAA5 > 100];\n",
    "drop_CAA6 = np.nanmean(dPb_CAA6[depth_CAA6 < 100]) - dPb_CAA6[depth_CAA6 > 100];\n",
    "drop_CAA7 = np.nanmean(dPb_CAA7[depth_CAA7 < 100]) - dPb_CAA7[depth_CAA7 > 100];\n",
    "drop_CAA8 = np.nanmean(dPb_CAA8[depth_CAA8 < 100]) - dPb_CAA8[depth_CAA8 > 100];\n",
    "drop_CAA9 = np.nanmean(dPb_CAA9[depth_CAA9 < 100]) - dPb_CAA9[depth_CAA9 > 100];\n",
    "ddep_CAA1 = depth_CAA1[depth_CAA1 > 100]; ddep_CAA2 = depth_CAA2[depth_CAA2 > 100];\n",
    "ddep_CAA3 = depth_CAA3[depth_CAA3 > 100]; ddep_CAA4 = depth_CAA4[depth_CAA4 > 100];\n",
    "ddep_CAA5 = depth_CAA5[depth_CAA5 > 100]; ddep_CAA6 = depth_CAA6[depth_CAA6 > 100];\n",
    "ddep_CAA7 = depth_CAA7[depth_CAA7 > 100]; ddep_CAA8 = depth_CAA8[depth_CAA8 > 100];\n",
    "ddep_CAA9 = depth_CAA9[depth_CAA9 > 100];\n",
    "\n",
    "drop_Pb = np.concatenate((drop_BB1, drop_BB2, drop_BB3, drop_CAA1, drop_CAA2, drop_CAA3, drop_CAA4, \\\n",
    "                      drop_CAA5, drop_CAA6, drop_CAA7, drop_CAA8, drop_CAA9, drop_CB1, drop_CB2, \\\n",
    "                      drop_CB3, drop_CB4))\n",
    "\n",
    "drop_depth = np.concatenate((depth_BB1[depth_BB1 > 100], depth_BB2[depth_BB2 > 100], depth_BB3[depth_BB3 > 100], \\\n",
    "                              depth_CAA1[depth_CAA1 > 100], depth_CAA2[depth_CAA2 > 100], depth_CAA3[depth_CAA3 > 100], \\\n",
    "                              depth_CAA4[depth_CAA4 > 100], depth_CAA5[depth_CAA5 > 100], depth_CAA6[depth_CAA6 > 100], \\\n",
    "                              depth_CAA7[depth_CAA7 > 100], depth_CAA8[depth_CAA8 > 100], depth_CAA9[depth_CAA9 > 100], \\\n",
    "                              depth_CB1[depth_CB1 > 100], depth_CB2[depth_CB2 > 100], depth_CB3[depth_CB3 > 100], \\\n",
    "                              depth_CB4[depth_CB4 > 100]))"
   ]
  },
  {
   "cell_type": "code",
   "execution_count": 132,
   "metadata": {},
   "outputs": [],
   "source": [
    "drop_lons = np.concatenate((np.ones(depth_BB1[depth_BB1 > 100].shape)*lons[stn_names=='BB1'], \\\n",
    "                          np.ones(depth_BB2[depth_BB2 > 100].shape)*lons[stn_names=='BB2'], \\\n",
    "                          np.ones(depth_BB3[depth_BB3 > 100].shape)*lons[stn_names=='BB3'], \\\n",
    "                          np.ones(depth_CAA1[depth_CAA1 > 100].shape)*lons[stn_names=='CAA1'], \\\n",
    "                          np.ones(depth_CAA2[depth_CAA2 > 100].shape)*lons[stn_names=='CAA2'], \\\n",
    "                          np.ones(depth_CAA3[depth_CAA3 > 100].shape)*lons[stn_names=='CAA3'], \\\n",
    "                          np.ones(depth_CAA4[depth_CAA4 > 100].shape)*lons[stn_names=='CAA4'], \\\n",
    "                          np.ones(depth_CAA5[depth_CAA5 > 100].shape)*lons[stn_names=='CAA5'], \\\n",
    "                          np.ones(depth_CAA6[depth_CAA6 > 100].shape)*lons[stn_names=='CAA6'], \\\n",
    "                          np.ones(depth_CAA7[depth_CAA7 > 100].shape)*lons[stn_names=='CAA7'], \\\n",
    "                          np.ones(depth_CAA8[depth_CAA8 > 100].shape)*lons[stn_names=='CAA8'], \\\n",
    "                          np.ones(depth_CAA9[depth_CAA9 > 100].shape)*lons[stn_names=='CAA9'], \\\n",
    "                          np.ones(depth_CB1[depth_CB1 > 100].shape)*lons[stn_names=='CB1'], \\\n",
    "                          np.ones(depth_CB2[depth_CB2 > 100].shape)*lons[stn_names=='CB2'], \\\n",
    "                          np.ones(depth_CB3[depth_CB3 > 100].shape)*lons[stn_names=='CB3'], \\\n",
    "                          np.ones(depth_CB4[depth_CB4 > 100].shape)*lons[stn_names=='CB4']))\n",
    "\n",
    "drop_lats = np.concatenate((np.ones(depth_BB1[depth_BB1 > 100].shape)*lats[stn_names=='BB1'], \\\n",
    "                          np.ones(depth_BB2[depth_BB2 > 100].shape)*lats[stn_names=='BB2'], \\\n",
    "                          np.ones(depth_BB3[depth_BB3 > 100].shape)*lats[stn_names=='BB3'], \\\n",
    "                          np.ones(depth_CAA1[depth_CAA1 > 100].shape)*lats[stn_names=='CAA1'], \\\n",
    "                          np.ones(depth_CAA2[depth_CAA2 > 100].shape)*lats[stn_names=='CAA2'], \\\n",
    "                          np.ones(depth_CAA3[depth_CAA3 > 100].shape)*lats[stn_names=='CAA3'], \\\n",
    "                          np.ones(depth_CAA4[depth_CAA4 > 100].shape)*lats[stn_names=='CAA4'], \\\n",
    "                          np.ones(depth_CAA5[depth_CAA5 > 100].shape)*lats[stn_names=='CAA5'], \\\n",
    "                          np.ones(depth_CAA6[depth_CAA6 > 100].shape)*lats[stn_names=='CAA6'], \\\n",
    "                          np.ones(depth_CAA7[depth_CAA7 > 100].shape)*lats[stn_names=='CAA7'], \\\n",
    "                          np.ones(depth_CAA8[depth_CAA8 > 100].shape)*lats[stn_names=='CAA8'], \\\n",
    "                          np.ones(depth_CAA9[depth_CAA9 > 100].shape)*lats[stn_names=='CAA9'], \\\n",
    "                          np.ones(depth_CB1[depth_CB1 > 100].shape)*lats[stn_names=='CB1'], \\\n",
    "                          np.ones(depth_CB2[depth_CB2 > 100].shape)*lats[stn_names=='CB2'], \\\n",
    "                          np.ones(depth_CB3[depth_CB3 > 100].shape)*lats[stn_names=='CB3'], \\\n",
    "                          np.ones(depth_CB4[depth_CB4 > 100].shape)*lats[stn_names=='CB4']))"
   ]
  },
  {
   "cell_type": "code",
   "execution_count": 133,
   "metadata": {},
   "outputs": [],
   "source": [
    "# Find corresponding lons at lats for POC flux compared to the station locations:\n",
    "\n",
    "i_stn_drop = []; j_stn_drop = [];\n",
    "for stn in range(0,len(drop_lons)):\n",
    "    i, j = ar.find_closest_model_point(360+drop_lons[stn], drop_lats[stn], POC_lon, POC_lat, \\\n",
    "                                       tols={'NEMO': {'tol_lon': 0.5, 'tol_lat': 0.5}})\n",
    "    i_stn_drop.append(i)\n",
    "    j_stn_drop.append(j)\n",
    "    \n",
    "i_POC_drop = np.array(i_stn_drop)\n",
    "j_POC_drop = np.array(j_stn_drop)"
   ]
  },
  {
   "cell_type": "code",
   "execution_count": 134,
   "metadata": {},
   "outputs": [],
   "source": [
    "POC_drop_depths, POC_drop_z_index = assoc_depth(drop_depth)"
   ]
  },
  {
   "cell_type": "code",
   "execution_count": 135,
   "metadata": {},
   "outputs": [],
   "source": [
    "POC_array_drop = []\n",
    "\n",
    "for ind in range(0,len(drop_depth)):\n",
    "    try:\n",
    "#         print(POC_z_index[ind], i_POC[ind], j_POC[ind])\n",
    "        POC_flx = POC_flux[191, int(POC_drop_z_index[ind]), i_POC_drop[ind], j_POC_drop[ind]]\n",
    "    except:\n",
    "        POC_flx = np.nan\n",
    "        \n",
    "    POC_array_drop.append(POC_flx)\n",
    "    \n",
    "POC_flux_stns_drop = np.array(POC_array_drop)\n",
    "\n",
    "POC_flux_stns_drop[POC_flux_stns_drop > 1e10] = np.nan\n",
    "POC_flux_stns_drop[POC_flux_stns_drop == 0.0] = np.nan"
   ]
  },
  {
   "cell_type": "code",
   "execution_count": 136,
   "metadata": {},
   "outputs": [],
   "source": [
    "# Mask places where depths are too different:\n",
    "\n",
    "dPb_drop_masked = np.ma.masked_where(np.logical_or(np.isnan(POC_flux_stns_drop), np.isnan(drop_Pb)), drop_Pb)\n",
    "POC_drop_masked = np.ma.masked_where(np.logical_or(np.isnan(POC_flux_stns_drop), np.isnan(drop_Pb)), POC_flux_stns_drop)"
   ]
  },
  {
   "cell_type": "code",
   "execution_count": 138,
   "metadata": {},
   "outputs": [
    {
     "data": {
      "image/png": "[encoded data removed]",
      "text/plain": [
       "<Figure size 504x504 with 1 Axes>"
      ]
     },
     "metadata": {
      "needs_background": "light"
     },
     "output_type": "display_data"
    }
   ],
   "source": [
    "fig, ax = plt.subplots(1,1, figsize=(7,7))\n",
    "st = sns.axes_style(\"whitegrid\")\n",
    "\n",
    "with st:\n",
    "#     sns.lineplot(xp, yp_pred, c='k')\n",
    "    sns.scatterplot(POC_drop_masked*1e5, dPb_drop_masked*1e3, color='k', s=100)\n",
    "    sns.lineplot([0, 100], [0, 0], c='k')\n",
    "    \n",
    "    ax.set_ylabel('Drop in dissolved Pb [pM]', fontsize=14)\n",
    "    ax.set_xlabel('POC flux [mmol/m3 cm/s]', fontsize=14)\n",
    "    ax.set(ylim=(-15,15), xlim=(0,10.0))\n",
    "    ax.tick_params(axis='both', which='major', labelsize=14)\n",
    "    ax.spines['left'].set_linewidth(1.5);   ax.spines['left'].set_color('black');\n",
    "    ax.spines['bottom'].set_linewidth(1.5); ax.spines['bottom'].set_color('black');\n",
    "    ax.spines['right'].set_linewidth(1.5);  ax.spines['right'].set_color('black');\n",
    "    ax.spines['top'].set_linewidth(1.5);    ax.spines['top'].set_color('black');    "
   ]
  },
  {
   "cell_type": "markdown",
   "metadata": {},
   "source": [
    "### Attempts that failed:"
   ]
  },
  {
   "cell_type": "markdown",
   "metadata": {},
   "source": [
    "POC flux versus dissolved Pb decrease. Where POC flux is high, I expect dissolved Pb to be removed rapidly, so to decrease strongly with depth."
   ]
  },
  {
   "cell_type": "code",
   "execution_count": 94,
   "metadata": {},
   "outputs": [],
   "source": [
    "def calc_deriv(dPb, depth, visualize=False):\n",
    "    \n",
    "    dPb   = np.array(dPb)\n",
    "    depth = np.array(depth)\n",
    "    \n",
    "    # smooth the array:\n",
    "    dPb_smooth = savgol_filter(dPb, 9, 3)\n",
    "\n",
    "    if visualize:\n",
    "        fig, ax = plt.subplots(1,1,figsize=(4,6))\n",
    "        ax.invert_yaxis()\n",
    "        ax.scatter(dPb, depth, label='original')\n",
    "        ax.scatter(dPb_smooth, depth, label='smoothed')\n",
    "        ax.legend()\n",
    "    \n",
    "    # calculate the derivative:    \n",
    "    deriv = [(dPb_smooth[i+1] - dPb_smooth[i])/(depth[i+1] - depth[i]) for i in range(0,len(dPb)-1)]\n",
    "    \n",
    "    # add NaN as the last element so that the array length is equal to the rest\n",
    "    deriv.append(np.nan) \n",
    "    \n",
    "    return np.array(deriv)"
   ]
  },
  {
   "cell_type": "code",
   "execution_count": 95,
   "metadata": {},
   "outputs": [],
   "source": [
    "# Calculate Pb drop with depth:\n",
    "d_BB1 = calc_deriv(dPb_BB1, depth_BB1); d_BB2 = calc_deriv(dPb_BB2, depth_BB2); \n",
    "d_BB3 = calc_deriv(dPb_BB3, depth_BB3); d_CB1 = calc_deriv(dPb_CB1, depth_CB1);\n",
    "d_CB2 = calc_deriv(dPb_CB2, depth_CB2); d_CB3 = calc_deriv(dPb_CB3, depth_CB3);\n",
    "d_CB4 = calc_deriv(dPb_CB4, depth_CB4); d_CAA1 = calc_deriv(dPb_CAA1, depth_CAA1);\n",
    "d_CAA2 = calc_deriv(dPb_CAA2, depth_CAA2); d_CAA3 = calc_deriv(dPb_CAA3, depth_CAA3);\n",
    "d_CAA4 = calc_deriv(dPb_CAA4, depth_CAA4); d_CAA5 = calc_deriv(dPb_CAA5, depth_CAA5);\n",
    "d_CAA6 = calc_deriv(dPb_CAA6, depth_CAA6); d_CAA7 = calc_deriv(dPb_CAA7, depth_CAA7);\n",
    "d_CAA8 = calc_deriv(dPb_CAA8, depth_CAA8); d_CAA9 = calc_deriv(dPb_CAA9, depth_CAA9);\n",
    "\n",
    "# Combine all observations into single collapsed arrays:\n",
    "obs_d_dPb = np.concatenate((d_BB1, d_BB2, d_BB3, d_CAA1, d_CAA2, d_CAA3, d_CAA4, \\\n",
    "                            d_CAA5, d_CAA6, d_CAA7, d_CAA8, d_CAA9, d_CB1, d_CB2, \\\n",
    "                            d_CB3, d_CB4))\n",
    "\n",
    "obs_d_dPb[np.isinf(np.abs(obs_d_dPb))] = np.nan"
   ]
  },
  {
   "cell_type": "code",
   "execution_count": 96,
   "metadata": {},
   "outputs": [],
   "source": [
    "# Mask places where depths are too different:\n",
    "d_dPb_masked = np.ma.masked_where(np.logical_or(np.isnan(POC_flux_stns), np.isnan(obs_d_dPb)), obs_d_dPb)\n",
    "POC_masked   = np.ma.masked_where(np.logical_or(np.isnan(POC_flux_stns), np.isnan(obs_d_dPb)), POC_flux_stns)"
   ]
  },
  {
   "cell_type": "code",
   "execution_count": 100,
   "metadata": {},
   "outputs": [
    {
     "data": {
      "image/png": "[encoded data removed]",
      "text/plain": [
       "<Figure size 504x504 with 1 Axes>"
      ]
     },
     "metadata": {
      "needs_background": "light"
     },
     "output_type": "display_data"
    }
   ],
   "source": [
    "fig, ax = plt.subplots(1,1,figsize=(7,7))\n",
    "st = sns.axes_style(\"whitegrid\")\n",
    "\n",
    "with st:\n",
    "    ax.set(ylim=(-5,5), xlim=(0,10.0))\n",
    "    sns.regplot(POC_masked*1e5, d_dPb_masked*1e4, truncate=False, ax=ax, color='k')\n",
    "#     ax = sns.scatterplot(POC_masked*1e5, dPb_masked*1e3, color='k', s=100)\n",
    "    \n",
    "    ax.set_ylabel('Dissolved Pb derivative [pM / m]', fontsize=14)\n",
    "    ax.set_xlabel('POC flux [mmol/m3 cm/s]', fontsize=14)\n",
    "    ax.tick_params(axis='both', which='major', labelsize=14)\n",
    "    ax.spines['left'].set_linewidth(1.5);   ax.spines['left'].set_color('black');\n",
    "    ax.spines['bottom'].set_linewidth(1.5); ax.spines['bottom'].set_color('black');\n",
    "    ax.spines['right'].set_linewidth(1.5);  ax.spines['right'].set_color('black');\n",
    "    ax.spines['top'].set_linewidth(1.5);    ax.spines['top'].set_color('black');    "
   ]
  },
  {
   "cell_type": "code",
   "execution_count": null,
   "metadata": {},
   "outputs": [],
   "source": []
  }
 ],
 "metadata": {
  "kernelspec": {
   "display_name": "Python 3",
   "language": "python",
   "name": "python3"
  },
  "language_info": {
   "codemirror_mode": {
    "name": "ipython",
    "version": 3
   },
   "file_extension": ".py",
   "mimetype": "text/x-python",
   "name": "python",
   "nbconvert_exporter": "python",
   "pygments_lexer": "ipython3",
   "version": "3.7.3"
  }
 },
 "nbformat": 4,
 "nbformat_minor": 2
}
