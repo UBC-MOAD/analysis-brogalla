{
 "cells": [
  {
   "cell_type": "markdown",
   "metadata": {},
   "source": [
    "# Apply trace metal concentrations to river classification"
   ]
  },
  {
   "cell_type": "code",
   "execution_count": 20,
   "metadata": {},
   "outputs": [],
   "source": [
    "import matplotlib.pyplot as plt\n",
    "import numpy as np\n",
    "import netCDF4 as nc\n",
    "import datetime\n",
    "from mpl_toolkits.basemap import Basemap, cm\n",
    "import cmocean\n",
    "\n",
    "%matplotlib inline"
   ]
  },
  {
   "cell_type": "markdown",
   "metadata": {},
   "source": [
    "## River categories:\n",
    "\n",
    "1. Glaciers\n",
    "2. Continental\n",
    "3. Other\n",
    "\n",
    "Load river classification file: river_class_201807.nc"
   ]
  },
  {
   "cell_type": "code",
   "execution_count": 21,
   "metadata": {},
   "outputs": [],
   "source": [
    "rclass = nc.Dataset('/ocean/brogalla/GEOTRACES/data/rivers/river_class_201807.nc','r')\n",
    "river_class = rclass.variables['rclass']\n",
    "river_class = np.array(river_class)"
   ]
  },
  {
   "cell_type": "markdown",
   "metadata": {},
   "source": [
    "### Apply trace metal concentrations"
   ]
  },
  {
   "cell_type": "markdown",
   "metadata": {},
   "source": [
    "Notebook to find these concentratons: /analysis-brogalla/forcing/rivers/find_characteristic_tracer_concentrations.ipynb"
   ]
  },
  {
   "cell_type": "code",
   "execution_count": 22,
   "metadata": {},
   "outputs": [],
   "source": [
    "pMn_rivers = np.zeros(river_class.shape)\n",
    "dMn_rivers = np.zeros(river_class.shape)\n",
    "pPb_rivers = np.zeros(river_class.shape)\n",
    "dPb_rivers = np.zeros(river_class.shape)"
   ]
  },
  {
   "cell_type": "markdown",
   "metadata": {},
   "source": [
    "Manganese:"
   ]
  },
  {
   "cell_type": "code",
   "execution_count": 24,
   "metadata": {},
   "outputs": [],
   "source": [
    "pMn_rivers[river_class==1.0] = 151*1000 # glaciers\n",
    "pMn_rivers[river_class==2.0] = 13  # continental\n",
    "pMn_rivers[river_class==3.0] = 2   # other"
   ]
  },
  {
   "cell_type": "code",
   "execution_count": 25,
   "metadata": {},
   "outputs": [],
   "source": [
    "dMn_rivers[river_class==1.0] = 164*1000 # glaciers\n",
    "dMn_rivers[river_class==2.0] = 30  # continental\n",
    "dMn_rivers[river_class==3.0] = 2   # other"
   ]
  },
  {
   "cell_type": "markdown",
   "metadata": {},
   "source": [
    "Lead:"
   ]
  },
  {
   "cell_type": "code",
   "execution_count": 26,
   "metadata": {},
   "outputs": [],
   "source": [
    "pPb_rivers[river_class==1.0] = 5 # glaciers\n",
    "pPb_rivers[river_class==2.0] = 1  # continental\n",
    "pPb_rivers[river_class==3.0] = 0.2   # other"
   ]
  },
  {
   "cell_type": "code",
   "execution_count": 27,
   "metadata": {},
   "outputs": [],
   "source": [
    "dPb_rivers[river_class==1.0] = 35 # glaciers\n",
    "dPb_rivers[river_class==2.0] = 43  # continental\n",
    "dPb_rivers[river_class==3.0] = 2   # other"
   ]
  },
  {
   "cell_type": "markdown",
   "metadata": {},
   "source": [
    "#### Convert units to mol/L:"
   ]
  },
  {
   "cell_type": "code",
   "execution_count": 28,
   "metadata": {},
   "outputs": [],
   "source": [
    "dMn_rivers = dMn_rivers*10**(-9)      # nM --> 10^-3 mol/L\n",
    "pMn_rivers = pMn_rivers*(1/54.938049)*10**(-6) # micro g/L --> 1.82*10^-2 mol/L"
   ]
  },
  {
   "cell_type": "code",
   "execution_count": 29,
   "metadata": {},
   "outputs": [
    {
     "name": "stdout",
     "output_type": "stream",
     "text": [
      "0.000164\n",
      "0.0027485504627221113\n"
     ]
    }
   ],
   "source": [
    "print(np.amax(dMn_rivers))\n",
    "print(np.amax(pMn_rivers))"
   ]
  },
  {
   "cell_type": "code",
   "execution_count": 30,
   "metadata": {},
   "outputs": [],
   "source": [
    "dPb_rivers = dPb_rivers*10**(-12)           # pM --> 10^-3 mol/L\n",
    "pPb_rivers = pPb_rivers*(1/207.2)*10**(-6) # micro g/L --> 1.82*10^-2 mol/L"
   ]
  },
  {
   "cell_type": "code",
   "execution_count": 31,
   "metadata": {},
   "outputs": [
    {
     "name": "stdout",
     "output_type": "stream",
     "text": [
      "4.3e-11\n",
      "2.413127413127413e-08\n"
     ]
    }
   ],
   "source": [
    "print(np.amax(dPb_rivers))\n",
    "print(np.amax(pPb_rivers))"
   ]
  },
  {
   "cell_type": "markdown",
   "metadata": {},
   "source": [
    "# Write to NetCDF file"
   ]
  },
  {
   "cell_type": "code",
   "execution_count": 32,
   "metadata": {},
   "outputs": [],
   "source": [
    "c = nc.Dataset('/ocean/brogalla/GEOTRACES/data/runoff/runoff_core_monthly.nc','r')\n",
    "lon_rf = np.array(c.variables['nav_lon'])\n",
    "lat_rf = np.array(c.variables['nav_lat'])"
   ]
  },
  {
   "cell_type": "code",
   "execution_count": 33,
   "metadata": {},
   "outputs": [
    {
     "data": {
      "text/plain": [
       "<class 'netCDF4._netCDF4.Dimension'>: name = 'y', size = 2400"
      ]
     },
     "execution_count": 33,
     "metadata": {},
     "output_type": "execute_result"
    }
   ],
   "source": [
    "ncd = nc.Dataset('/ocean/brogalla/GEOTRACES/data/rivers/river_input-test-case.nc', 'w', zlib=True)\n",
    "# nc_tools.init_dataset_attrs(\n",
    "#     ncd,\n",
    "#     title='Tracer input from rivers',\n",
    "#     notebook_name='rivers',\n",
    "#     nc_filepath='./river_input.nc',\n",
    "#     comment='Input of tracer concentration from rivers')\n",
    "\n",
    "ncd.createDimension('x',len(c.dimensions['x']))\n",
    "ncd.createDimension('y',len(c.dimensions['y']))"
   ]
  },
  {
   "cell_type": "code",
   "execution_count": 34,
   "metadata": {},
   "outputs": [],
   "source": [
    "# variables\n",
    "nav_lat = ncd.createVariable('nav_lat', 'float32', ('y','x'))\n",
    "nav_lat.long_name = 'Latitude'\n",
    "nav_lat.units = 'degrees_north'\n",
    "nav_lat[:] = lat_rf\n",
    "\n",
    "nav_lon = ncd.createVariable('nav_lon', 'float32', ('y','x'))\n",
    "nav_lon.long_name = 'Longitude'\n",
    "nav_lon.units = 'degrees_east'\n",
    "nav_lon[:] = lon_rf\n",
    "\n",
    "pmn_rivers = ncd.createVariable('pmn_rivers', 'float32', ('y','x'))\n",
    "pmn_rivers.units = 'mol/L'\n",
    "pmn_rivers.long_name = 'Oxidised Mn concentration'  \n",
    "pmn_rivers.coordinates = 'nav_lon nav_lat'\n",
    "pmn_rivers[:] = pMn_rivers\n",
    "\n",
    "dmn_rivers = ncd.createVariable('dmn_rivers', 'float32', ('y','x'))\n",
    "dmn_rivers.units = 'mol/L'\n",
    "dmn_rivers.long_name = 'Dissolved Mn concentration'  \n",
    "dmn_rivers.coordinates = 'nav_lon nav_lat'\n",
    "dmn_rivers[:] = dMn_rivers\n",
    "\n",
    "ppb_rivers = ncd.createVariable('ppb_rivers', 'float32', ('y','x'))\n",
    "ppb_rivers.units = 'mol/L'\n",
    "ppb_rivers.long_name = 'Particulate Pb concentration'  \n",
    "ppb_rivers.coordinates = 'nav_lon nav_lat'\n",
    "ppb_rivers[:] = pPb_rivers\n",
    "\n",
    "dpb_rivers = ncd.createVariable('dpb_rivers', 'float32', ('y','x'))\n",
    "dpb_rivers.units = 'mol/L'\n",
    "dpb_rivers.long_name = 'Dissolved Pb concentration'  \n",
    "dpb_rivers.coordinates = 'nav_lon nav_lat'\n",
    "dpb_rivers[:] = dPb_rivers"
   ]
  },
  {
   "cell_type": "code",
   "execution_count": 35,
   "metadata": {},
   "outputs": [],
   "source": [
    "ncd.close()"
   ]
  },
  {
   "cell_type": "code",
   "execution_count": 37,
   "metadata": {},
   "outputs": [
    {
     "name": "stdout",
     "output_type": "stream",
     "text": [
      "1.64e-07\n",
      "2.7485505e-06\n",
      "4.3e-11\n",
      "2.4131275e-08\n"
     ]
    }
   ],
   "source": [
    "c = nc.Dataset('/ocean/brogalla/GEOTRACES/data/rivers/river_input-base-case.nc','r')\n",
    "print(np.amax(c.variables['dmn_rivers']))\n",
    "print(np.amax(c.variables['pmn_rivers']))\n",
    "print(np.amax(c.variables['dpb_rivers']))\n",
    "print(np.amax(c.variables['ppb_rivers']))"
   ]
  },
  {
   "cell_type": "markdown",
   "metadata": {},
   "source": [
    "Glacial river trace metal concentrations enhanced by 50\\%:"
   ]
  },
  {
   "cell_type": "code",
   "execution_count": 17,
   "metadata": {},
   "outputs": [
    {
     "name": "stdout",
     "output_type": "stream",
     "text": [
      "2.46e-07\n",
      "4.122826e-06\n",
      "4.3e-11\n",
      "2.4131275e-08\n"
     ]
    }
   ],
   "source": [
    "c = nc.Dataset('/ocean/brogalla/GEOTRACES/data/rivers/river_input-glacier-enhanced.nc','r')\n",
    "print(np.amax(c.variables['dmn_rivers']))\n",
    "print(np.amax(c.variables['pmn_rivers']))\n",
    "print(np.amax(c.variables['dpb_rivers']))\n",
    "print(np.amax(c.variables['ppb_rivers']))"
   ]
  },
  {
   "cell_type": "markdown",
   "metadata": {},
   "source": [
    "Continental river trace metal concentration decreased by 50%:"
   ]
  },
  {
   "cell_type": "code",
   "execution_count": 18,
   "metadata": {},
   "outputs": [
    {
     "name": "stdout",
     "output_type": "stream",
     "text": [
      "1.64e-07\n",
      "2.7485505e-06\n",
      "4.3e-11\n",
      "2.4131275e-08\n"
     ]
    }
   ],
   "source": [
    "c = nc.Dataset('/ocean/brogalla/GEOTRACES/data/rivers/river_input-decrease-case.nc','r')\n",
    "print(np.amax(c.variables['dmn_rivers']))\n",
    "print(np.amax(c.variables['pmn_rivers']))\n",
    "print(np.amax(c.variables['dpb_rivers']))\n",
    "print(np.amax(c.variables['ppb_rivers']))"
   ]
  },
  {
   "cell_type": "markdown",
   "metadata": {},
   "source": [
    "Continental river trace metal concentration increased by 50\\%:"
   ]
  },
  {
   "cell_type": "code",
   "execution_count": 19,
   "metadata": {},
   "outputs": [
    {
     "name": "stdout",
     "output_type": "stream",
     "text": [
      "1.64e-07\n",
      "2.7485505e-06\n",
      "4.3e-11\n",
      "2.4131275e-08\n"
     ]
    }
   ],
   "source": [
    "c = nc.Dataset('/ocean/brogalla/GEOTRACES/data/rivers/river_input-increase-case.nc','r')\n",
    "print(np.amax(c.variables['dmn_rivers']))\n",
    "print(np.amax(c.variables['pmn_rivers']))\n",
    "print(np.amax(c.variables['dpb_rivers']))\n",
    "print(np.amax(c.variables['ppb_rivers']))"
   ]
  },
  {
   "cell_type": "code",
   "execution_count": null,
   "metadata": {},
   "outputs": [],
   "source": []
  }
 ],
 "metadata": {
  "kernelspec": {
   "display_name": "Python 3",
   "language": "python",
   "name": "python3"
  },
  "language_info": {
   "codemirror_mode": {
    "name": "ipython",
    "version": 3
   },
   "file_extension": ".py",
   "mimetype": "text/x-python",
   "name": "python",
   "nbconvert_exporter": "python",
   "pygments_lexer": "ipython3",
   "version": "3.7.3"
  }
 },
 "nbformat": 4,
 "nbformat_minor": 2
}
