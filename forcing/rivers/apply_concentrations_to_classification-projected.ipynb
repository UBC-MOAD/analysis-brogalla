{
 "cells": [
  {
   "cell_type": "markdown",
   "metadata": {},
   "source": [
    "# Apply trace metal concentrations to river classification\n",
    "\n",
    "river categories:\n",
    "1. Glaciers\n",
    "2. Continental\n",
    "3. Other"
   ]
  },
  {
   "cell_type": "code",
   "execution_count": 1,
   "metadata": {},
   "outputs": [],
   "source": [
    "import matplotlib.pyplot as plt\n",
    "import numpy as np\n",
    "import netCDF4 as nc\n",
    "import datetime\n",
    "from mpl_toolkits.basemap import Basemap, cm\n",
    "import cmocean\n",
    "\n",
    "%matplotlib inline"
   ]
  },
  {
   "cell_type": "code",
   "execution_count": 2,
   "metadata": {},
   "outputs": [],
   "source": [
    "rclass = nc.Dataset('/ocean/brogalla/GEOTRACES/data/river_class-202005.nc','r')\n",
    "river_class = rclass.variables['rclass']\n",
    "river_class = np.array(river_class)"
   ]
  },
  {
   "cell_type": "markdown",
   "metadata": {},
   "source": [
    "Based on Manuel's projection ranges for Mn:\n",
    "- northern rivers measured range:     0-10   nmol/kg\n",
    "- northern rivers projected range:    0-100  nmol/kg\n",
    "- continental rivers measured range:  15-55  nmol/kg\n",
    "- continental rivers projected range: 15-750 nmol/kg\n",
    "\n",
    "Based on Manuel's projection ranges for Pb:\n",
    "- northern rivers measured range:     0-8   pmol/kg\n",
    "- northern rivers projected range:    0-15  pmol/kg\n",
    "- continental rivers measured range:  14-73  pmol/kg\n",
    "- continental rivers projected range: 14-152 pmol/kg"
   ]
  },
  {
   "cell_type": "markdown",
   "metadata": {},
   "source": [
    "Manganese:"
   ]
  },
  {
   "cell_type": "code",
   "execution_count": 3,
   "metadata": {},
   "outputs": [],
   "source": [
    "pMn_rivers = np.zeros(river_class.shape)\n",
    "pMn_rivers[river_class==1.0] = 151 # glaciers\n",
    "pMn_rivers[river_class==2.0] = 13  # continental\n",
    "pMn_rivers[river_class==3.0] = 2   # other\n",
    "pMn_rivers[river_class==4.0] = 2   # Gulf of Boothia"
   ]
  },
  {
   "cell_type": "code",
   "execution_count": 4,
   "metadata": {},
   "outputs": [],
   "source": [
    "dMn_rivers = np.zeros(river_class.shape)\n",
    "dMn_rivers[river_class==1.0] = 164 # glaciers\n",
    "dMn_rivers[river_class==2.0] = 750  # continental\n",
    "dMn_rivers[river_class==3.0] = 100   # other\n",
    "dMn_rivers[river_class==4.0] = 5   # Gulf of Boothia"
   ]
  },
  {
   "cell_type": "markdown",
   "metadata": {},
   "source": [
    "Lead:"
   ]
  },
  {
   "cell_type": "code",
   "execution_count": 5,
   "metadata": {},
   "outputs": [],
   "source": [
    "pPb_rivers = np.zeros(river_class.shape)\n",
    "pPb_rivers[river_class==1.0] = 5 # glaciers\n",
    "pPb_rivers[river_class==2.0] = 1  # continental\n",
    "pPb_rivers[river_class==3.0] = 0.2   # other\n",
    "pPb_rivers[river_class==4.0] = 0.2   # other"
   ]
  },
  {
   "cell_type": "code",
   "execution_count": 6,
   "metadata": {},
   "outputs": [],
   "source": [
    "dPb_rivers = np.zeros(river_class.shape)\n",
    "dPb_rivers[river_class==1.0] = 35 # glaciers\n",
    "dPb_rivers[river_class==2.0] = 152  # continental\n",
    "dPb_rivers[river_class==3.0] = 15   # other\n",
    "dPb_rivers[river_class==4.0] = 15   # other"
   ]
  },
  {
   "cell_type": "markdown",
   "metadata": {},
   "source": [
    "#### Convert units to mol/L:"
   ]
  },
  {
   "cell_type": "code",
   "execution_count": 7,
   "metadata": {},
   "outputs": [],
   "source": [
    "dMn_rivers = dMn_rivers*10**(-9)      # nM --> 10^-3 mol/L\n",
    "pMn_rivers = pMn_rivers*(1/54.938049)*10**(-6) # micro g/L --> 1.82*10^-2 mol/L"
   ]
  },
  {
   "cell_type": "code",
   "execution_count": 8,
   "metadata": {},
   "outputs": [],
   "source": [
    "dPb_rivers = dPb_rivers*10**(-12)           # pM --> 10^-3 mol/L\n",
    "pPb_rivers = pPb_rivers*(1/207.2)*10**(-6) # micro g/L --> 1.82*10^-2 mol/L"
   ]
  },
  {
   "cell_type": "markdown",
   "metadata": {},
   "source": [
    "# Write to NetCDF file"
   ]
  },
  {
   "cell_type": "code",
   "execution_count": 9,
   "metadata": {},
   "outputs": [],
   "source": [
    "c = nc.Dataset('/ocean/brogalla/GEOTRACES/data/runoff/'+\\\n",
    "               'ANHA12_runoff_monthly_combined_Dai_Trenberth_Bamber_y2002.nc','r')\n",
    "lon_rf = np.array(c.variables['nav_lon'])\n",
    "lat_rf = np.array(c.variables['nav_lat'])"
   ]
  },
  {
   "cell_type": "code",
   "execution_count": 10,
   "metadata": {},
   "outputs": [
    {
     "data": {
      "text/plain": [
       "<class 'netCDF4._netCDF4.Dimension'>: name = 'y', size = 2400"
      ]
     },
     "execution_count": 10,
     "metadata": {},
     "output_type": "execute_result"
    }
   ],
   "source": [
    "ncd = nc.Dataset('/ocean/brogalla/GEOTRACES/data/river-forcing-20200807-projected.nc', 'w', zlib=True)\n",
    "\n",
    "ncd.createDimension('x',len(c.dimensions['x']))\n",
    "ncd.createDimension('y',len(c.dimensions['y']))"
   ]
  },
  {
   "cell_type": "code",
   "execution_count": 11,
   "metadata": {},
   "outputs": [],
   "source": [
    "# variables\n",
    "nav_lat = ncd.createVariable('nav_lat', 'float32', ('y','x'))\n",
    "nav_lat.long_name = 'Latitude'\n",
    "nav_lat.units = 'degrees_north'\n",
    "nav_lat[:] = lat_rf\n",
    "\n",
    "nav_lon = ncd.createVariable('nav_lon', 'float32', ('y','x'))\n",
    "nav_lon.long_name = 'Longitude'\n",
    "nav_lon.units = 'degrees_east'\n",
    "nav_lon[:] = lon_rf\n",
    "\n",
    "pmn_rivers = ncd.createVariable('pmn_rivers', 'float32', ('y','x'))\n",
    "pmn_rivers.units = 'mol/L'\n",
    "pmn_rivers.long_name = 'Oxidised Mn concentration'  \n",
    "pmn_rivers.coordinates = 'nav_lon nav_lat'\n",
    "pmn_rivers[:] = pMn_rivers\n",
    "\n",
    "dmn_rivers = ncd.createVariable('dmn_rivers', 'float32', ('y','x'))\n",
    "dmn_rivers.units = 'mol/L'\n",
    "dmn_rivers.long_name = 'Dissolved Mn concentration'  \n",
    "dmn_rivers.coordinates = 'nav_lon nav_lat'\n",
    "dmn_rivers[:] = dMn_rivers\n",
    "\n",
    "ppb_rivers = ncd.createVariable('ppb_rivers', 'float32', ('y','x'))\n",
    "ppb_rivers.units = 'mol/L'\n",
    "ppb_rivers.long_name = 'Particulate Pb concentration'  \n",
    "ppb_rivers.coordinates = 'nav_lon nav_lat'\n",
    "ppb_rivers[:] = pPb_rivers\n",
    "\n",
    "dpb_rivers = ncd.createVariable('dpb_rivers', 'float32', ('y','x'))\n",
    "dpb_rivers.units = 'mol/L'\n",
    "dpb_rivers.long_name = 'Dissolved Pb concentration'  \n",
    "dpb_rivers.coordinates = 'nav_lon nav_lat'\n",
    "dpb_rivers[:] = dPb_rivers"
   ]
  },
  {
   "cell_type": "code",
   "execution_count": 12,
   "metadata": {},
   "outputs": [],
   "source": [
    "ncd.close()"
   ]
  },
  {
   "cell_type": "code",
   "execution_count": null,
   "metadata": {},
   "outputs": [],
   "source": []
  }
 ],
 "metadata": {
  "kernelspec": {
   "display_name": "Python 3",
   "language": "python",
   "name": "python3"
  },
  "language_info": {
   "codemirror_mode": {
    "name": "ipython",
    "version": 3
   },
   "file_extension": ".py",
   "mimetype": "text/x-python",
   "name": "python",
   "nbconvert_exporter": "python",
   "pygments_lexer": "ipython3",
   "version": "3.7.3"
  }
 },
 "nbformat": 4,
 "nbformat_minor": 2
}
