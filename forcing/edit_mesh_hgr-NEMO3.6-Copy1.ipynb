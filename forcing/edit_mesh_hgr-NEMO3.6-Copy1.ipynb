{
 "cells": [
  {
   "cell_type": "markdown",
   "metadata": {},
   "source": [
    "# Edit mesh_hgr file\n",
    "\n",
    "mesh_hgr variables in NEMO 3.4 are different from NEMO 3.6. In this Notebook I change the ANHA12 mesh_zgr file variable names to match those for NEMO 3.6"
   ]
  },
  {
   "cell_type": "code",
   "execution_count": 3,
   "metadata": {
    "collapsed": true
   },
   "outputs": [],
   "source": [
    "import matplotlib.pyplot as plt\n",
    "import netCDF4 as nc\n",
    "import numpy as np\n",
    "\n",
    "from salishsea_tools import (\n",
    "    nc_tools,\n",
    "    viz_tools,\n",
    ")\n",
    "\n",
    "%matplotlib inline"
   ]
  },
  {
   "cell_type": "code",
   "execution_count": 4,
   "metadata": {
    "collapsed": true
   },
   "outputs": [],
   "source": [
    "folder = '/ocean/brogalla/GEOTRACES/data/bathymetry/cedar/'\n",
    "file1 = 'ANHA12_mesh_hgr.nc'\n",
    "file2 = 'ANHA12_mesh_zgr10.nc'\n",
    "file3 = 'ANHA12_mask.nc'"
   ]
  },
  {
   "cell_type": "code",
   "execution_count": 5,
   "metadata": {
    "collapsed": false
   },
   "outputs": [],
   "source": [
    "mesh_hgr = nc.Dataset(folder + file1)\n",
    "mesh_zgr = nc.Dataset(folder + file2)\n",
    "mask = nc.Dataset(folder + file3)"
   ]
  },
  {
   "cell_type": "code",
   "execution_count": 6,
   "metadata": {
    "collapsed": false
   },
   "outputs": [
    {
     "data": {
      "text/plain": [
       "<class 'netCDF4._netCDF4.Dataset'>\n",
       "root group (NETCDF4_CLASSIC data model, file format HDF5):\n",
       "    file_name: mesh_hgr.nc\n",
       "    TimeStamp: 23/06/2016 19:51:56 -0600\n",
       "    history: Tue Jun 20 14:25:23 2017: ncks -A -v gdept_0,gdepw_0,e3t_0,e3t_ps,e3w_0,mbathy,tmask ANHA12_mesh_zgr.nc ANHA12_mesh_hgr.nc\n",
       "    NCO: 4.3.7\n",
       "    dimensions(sizes): x(1632), y(2400), z(50), t(1)\n",
       "    variables(dimensions): float32 \u001b[4mnav_lon\u001b[0m(y,x), float32 \u001b[4mnav_lat\u001b[0m(y,x), float32 \u001b[4mnav_lev\u001b[0m(z), float64 \u001b[4mtime_counter\u001b[0m(t), float32 \u001b[4mglamt\u001b[0m(t,y,x), float32 \u001b[4mglamu\u001b[0m(t,y,x), float32 \u001b[4mglamv\u001b[0m(t,y,x), float32 \u001b[4mglamf\u001b[0m(t,y,x), float32 \u001b[4mgphit\u001b[0m(t,y,x), float32 \u001b[4mgphiu\u001b[0m(t,y,x), float32 \u001b[4mgphiv\u001b[0m(t,y,x), float32 \u001b[4mgphif\u001b[0m(t,y,x), float64 \u001b[4me1t\u001b[0m(t,y,x), float64 \u001b[4me1u\u001b[0m(t,y,x), float64 \u001b[4me1v\u001b[0m(t,y,x), float64 \u001b[4me1f\u001b[0m(t,y,x), float64 \u001b[4me2t\u001b[0m(t,y,x), float64 \u001b[4me2u\u001b[0m(t,y,x), float64 \u001b[4me2v\u001b[0m(t,y,x), float64 \u001b[4me2f\u001b[0m(t,y,x), float64 \u001b[4mff\u001b[0m(t,y,x), float64 \u001b[4me3t_0\u001b[0m(t,z), float64 \u001b[4me3t_ps\u001b[0m(t,y,x), float64 \u001b[4me3w_0\u001b[0m(t,z), float64 \u001b[4mgdept_0\u001b[0m(t,z), float64 \u001b[4mgdepw_0\u001b[0m(t,z), int16 \u001b[4mmbathy\u001b[0m(t,y,x), int8 \u001b[4mtmask\u001b[0m(t,z,y,x)\n",
       "    groups: "
      ]
     },
     "execution_count": 6,
     "metadata": {},
     "output_type": "execute_result"
    }
   ],
   "source": [
    "mesh_hgr"
   ]
  },
  {
   "cell_type": "code",
   "execution_count": 8,
   "metadata": {
    "collapsed": false
   },
   "outputs": [
    {
     "data": {
      "text/plain": [
       "<class 'netCDF4._netCDF4.Dataset'>\n",
       "root group (NETCDF4_CLASSIC data model, file format HDF5):\n",
       "    file_name: mask.nc\n",
       "    TimeStamp: 23/06/2016 19:51:33 -0600\n",
       "    dimensions(sizes): x(1632), y(2400), z(50), t(1)\n",
       "    variables(dimensions): float32 \u001b[4mnav_lon\u001b[0m(y,x), float32 \u001b[4mnav_lat\u001b[0m(y,x), float32 \u001b[4mnav_lev\u001b[0m(z), float64 \u001b[4mtime_counter\u001b[0m(t), int8 \u001b[4mtmask\u001b[0m(t,z,y,x), int8 \u001b[4mumask\u001b[0m(t,z,y,x), int8 \u001b[4mvmask\u001b[0m(t,z,y,x), int8 \u001b[4mfmask\u001b[0m(t,z,y,x), int8 \u001b[4mtmaskutil\u001b[0m(t,y,x), int8 \u001b[4mumaskutil\u001b[0m(t,y,x), int8 \u001b[4mvmaskutil\u001b[0m(t,y,x), int8 \u001b[4mfmaskutil\u001b[0m(t,y,x)\n",
       "    groups: "
      ]
     },
     "execution_count": 8,
     "metadata": {},
     "output_type": "execute_result"
    }
   ],
   "source": [
    "mask"
   ]
  },
  {
   "cell_type": "markdown",
   "metadata": {},
   "source": [
    "### Create new NetCDF file:"
   ]
  },
  {
   "cell_type": "code",
   "execution_count": 7,
   "metadata": {
    "collapsed": true
   },
   "outputs": [],
   "source": [
    "# Load structure from sample dataset:\n",
    "lat = mesh_hgr.variables['nav_lat']\n",
    "lon = mesh_hgr.variables['nav_lon']\n",
    "BX = mesh_hgr.dimensions['x']\n",
    "BY = mesh_hgr.dimensions['y']\n",
    "BZ = mesh_hgr.dimensions['z']\n",
    "t = mesh_hgr.dimensions['t']"
   ]
  },
  {
   "cell_type": "code",
   "execution_count": 8,
   "metadata": {
    "collapsed": false
   },
   "outputs": [
    {
     "data": {
      "text/plain": [
       "1"
      ]
     },
     "execution_count": 8,
     "metadata": {},
     "output_type": "execute_result"
    }
   ],
   "source": [
    "len(t)"
   ]
  },
  {
   "cell_type": "code",
   "execution_count": 19,
   "metadata": {
    "collapsed": false
   },
   "outputs": [
    {
     "name": "stdout",
     "output_type": "stream",
     "text": [
      "file format: NETCDF4\n",
      "Conventions: CF-1.6\n",
      "title: ANHA12 mesh_hgr\n",
      "institution: Dept of Earth, Ocean & Atmospheric Sciences, University of British Columbia\n",
      "source: https://bitbucket.org/ccar-modeling/analysis-birgit/src/tip/notebooks/ANHA12/edit_mesh_hgr-NEMO3.6.ipynb\n",
      "references: REQUIRED\n",
      "history: [2018-03-22 09:49:21] Created netCDF4 zlib=True dataset.\n",
      "comment: Edited ANHA12 mesh_hgr file\n"
     ]
    },
    {
     "data": {
      "text/plain": [
       "<class 'netCDF4._netCDF4.Dimension'> (unlimited): name = 't', size = 0"
      ]
     },
     "execution_count": 19,
     "metadata": {},
     "output_type": "execute_result"
    }
   ],
   "source": [
    "# Setup the new NetCDF file:\n",
    "ncd = nc.Dataset('ANHA12_mesh_hgr10.nc', 'w', zlib=True)\n",
    "nc_tools.init_dataset_attrs(\n",
    "    ncd,\n",
    "    title='ANHA12 mesh_hgr',\n",
    "    notebook_name='edit_mesh_hgr-NEMO3.6',\n",
    "    nc_filepath='./ANHA12_mesh_hgr10.nc',\n",
    "    comment='Edited ANHA12 mesh_hgr file')\n",
    "\n",
    "ncd.createDimension('x',len(BX))\n",
    "ncd.createDimension('y',len(BY))\n",
    "ncd.createDimension('z',len(BZ))\n",
    "ncd.createDimension('t',None)"
   ]
  },
  {
   "cell_type": "code",
   "execution_count": 20,
   "metadata": {
    "collapsed": false
   },
   "outputs": [
    {
     "name": "stdout",
     "output_type": "stream",
     "text": [
      "odict_keys(['nav_lon', 'nav_lat', 'nav_lev', 'time_counter', 'glamt', 'glamu', 'glamv', 'glamf', 'gphit', 'gphiu', 'gphiv', 'gphif', 'e1t', 'e1u', 'e1v', 'e1f', 'e2t', 'e2u', 'e2v', 'e2f', 'ff', 'e3t_0', 'e3t_ps', 'e3w_0', 'gdept_0', 'gdepw_0', 'mbathy', 'tmask'])\n"
     ]
    }
   ],
   "source": [
    "nc_tools.show_variables(mesh_hgr)"
   ]
  },
  {
   "cell_type": "code",
   "execution_count": 21,
   "metadata": {
    "collapsed": false
   },
   "outputs": [],
   "source": [
    "#--- Mask variables -----\n",
    "nav_lat = ncd.createVariable('nav_lat', 'float32', ('y','x'))\n",
    "nav_lat.long_name = 'Latitude'\n",
    "nav_lat.units = 'degrees_north'\n",
    "nav_lat[:] = mesh_hgr.variables['nav_lat']\n",
    "\n",
    "nav_lon = ncd.createVariable('nav_lon', 'float32', ('y','x'))\n",
    "nav_lon.long_name = 'Longitude'\n",
    "nav_lon.units = 'degrees_east'\n",
    "nav_lon[:] = mesh_hgr.variables['nav_lon']\n",
    "\n",
    "nav_lev = ncd.createVariable('nav_lev', 'float32', ('z'))\n",
    "nav_lev.long_name = 'Level'\n",
    "nav_lev.units = 'metres'\n",
    "nav_lev[:] = mesh_hgr.variables['nav_lev']\n",
    "\n",
    "time_counter = ncd.createVariable('time_counter', 'float64', ('t'))\n",
    "time_counter.units = 'seconds'\n",
    "time_counter.long_name = 'Time axis'\n",
    "time_counter[:] = mesh_hgr.variables['time_counter']\n",
    "\n",
    "glamt = ncd.createVariable('glamt', 'float32', ('t','y','x'))\n",
    "glamt.units = 'glamt'\n",
    "glamt.long_name = 'glamt'\n",
    "glamt[:] = mesh_hgr.variables['glamt']\n",
    "\n",
    "glamu = ncd.createVariable('glamu', 'float32', ('t','y','x'))\n",
    "glamu.units = 'glamu'\n",
    "glamu.long_name = 'glamu'\n",
    "glamu[:] = mesh_hgr.variables['glamu']\n",
    "\n",
    "glamv = ncd.createVariable('glamv', 'float32', ('t', 'y','x'))\n",
    "glamv.units = 'glamv'\n",
    "glamv.long_name = 'glamv'\n",
    "glamv[:] = mesh_hgr.variables['glamv']\n",
    "\n",
    "glamf = ncd.createVariable('glamf', 'float32', ('t', 'y','x'))\n",
    "glamf.units = 'glamf'\n",
    "glamf.long_name = 'glamf'\n",
    "glamf[:] = mesh_hgr.variables['glamf']\n",
    "\n",
    "gphit = ncd.createVariable('gphit', 'float32', ('t','y','x'))\n",
    "gphit.units = 'gphit'\n",
    "gphit.long_name = 'gphit'\n",
    "gphit[:] = mesh_hgr.variables['gphit']\n",
    "\n",
    "gphiu = ncd.createVariable('gphiu', 'float32', ('t','y','x'))\n",
    "gphiu.units = 'gphiu'\n",
    "gphiu.long_name = 'gphiu'\n",
    "gphiu[:] = mesh_hgr.variables['gphiu']\n",
    "\n",
    "gphiv = ncd.createVariable('gphiv', 'float32', ('t', 'y','x'))\n",
    "gphiv.units = 'gphiv'\n",
    "gphiv.long_name = 'gphiv'\n",
    "gphiv[:] = mesh_hgr.variables['gphiv']\n",
    "\n",
    "gphif = ncd.createVariable('gphif', 'float32', ('t', 'y','x'))\n",
    "gphif.units = 'gphif'\n",
    "gphif.long_name = 'gphif'\n",
    "gphif[:] = mesh_hgr.variables['gphif']\n",
    "\n",
    "e1t = ncd.createVariable('e1t', 'float64', ('t', 'y','x'))\n",
    "e1t.units = 'e1t'\n",
    "e1t.long_name = 'e1t'\n",
    "e1t[:] = mesh_hgr.variables['e1t']\n",
    "\n",
    "e1u = ncd.createVariable('e1u', 'float64', ('t', 'y','x'))\n",
    "e1u.units = 'e1u'\n",
    "e1u.long_name = 'e1u'\n",
    "e1u[:] = mesh_hgr.variables['e1u']\n",
    "\n",
    "e1v = ncd.createVariable('e1v', 'float64', ('t', 'y','x'))\n",
    "e1v.units = 'e1v'\n",
    "e1v.long_name = 'e1v'\n",
    "e1v[:] = mesh_hgr.variables['e1v']\n",
    "\n",
    "e1f = ncd.createVariable('e1f', 'float64', ('t', 'y','x'))\n",
    "e1f.units = 'e1f'\n",
    "e1f.long_name = 'e1f'\n",
    "e1f[:] = mesh_hgr.variables['e1f']\n",
    "\n",
    "e2t = ncd.createVariable('e2t', 'float64', ('t', 'y','x'))\n",
    "e2t.units = 'e2t'\n",
    "e2t.long_name = 'e2t'\n",
    "e2t[:] = mesh_hgr.variables['e2t']\n",
    "\n",
    "e2u = ncd.createVariable('e2u', 'float64', ('t', 'y','x'))\n",
    "e2u.units = 'e2u'\n",
    "e2u.long_name = 'e2u'\n",
    "e2u[:] = mesh_hgr.variables['e2u']\n",
    "\n",
    "e2v = ncd.createVariable('e2v', 'float64', ('t', 'y','x'))\n",
    "e2v.units = 'e2v'\n",
    "e2v.long_name = 'e2v'\n",
    "e2v[:] = mesh_hgr.variables['e2v']\n",
    "\n",
    "e2f = ncd.createVariable('e2f', 'float64', ('t', 'y','x'))\n",
    "e2f.units = 'e2f'\n",
    "e2f.long_name = 'e2f'\n",
    "e2f[:] = mesh_hgr.variables['e2f']\n",
    "\n",
    "ff = ncd.createVariable('ff', 'float64', ('t', 'y','x'))\n",
    "ff.units = 'ff'\n",
    "ff.long_name = 'ff'\n",
    "ff[:] = mesh_hgr.variables['ff']\n",
    "\n",
    "gdept_1d = ncd.createVariable('gdept_1d', 'float64', ('t', 'z'))\n",
    "gdept_1d.units = 'gdept_1d'\n",
    "gdept_1d.long_name = 'gdept_1d'\n",
    "gdept_1d[:] = mesh_hgr.variables['gdept_0']\n",
    "\n",
    "gdepw_1d = ncd.createVariable('gdepw_1d', 'float64', ('t','z'))\n",
    "gdepw_1d.units = 'gdepw_1d'\n",
    "gdepw_1d.long_name = 'gdepw_1d'\n",
    "gdepw_1d[:] = mesh_hgr.variables['gdepw_0']\n",
    "\n",
    "e3t_1d = ncd.createVariable('e3t_1d', 'float64', ('t','z'))\n",
    "e3t_1d.units = 'e3t_1d'\n",
    "e3t_1d.long_name = 'e3t_1d'\n",
    "e3t_1d[:] = mesh_hgr.variables['e3t_0']\n",
    "\n",
    "e3w_1d = ncd.createVariable('e3w_1d', 'float64', ('t','z'))\n",
    "e3w_1d.units = 'e3w_1d'\n",
    "e3w_1d.long_name = 'e3w_1d'\n",
    "e3w_1d[:] = mesh_hgr.variables['e3w_0']\n",
    "\n",
    "tmask = ncd.createVariable('tmask', 'int8', ('t', 'z','y','x'))\n",
    "tmask.units = 'tmask'\n",
    "tmask.long_name = 'tmask'\n",
    "tmask[:] = mesh_hgr.variables['tmask']\n",
    "\n",
    "mbathy = ncd.createVariable('mbathy', 'int16', ('t', 'y','x'))\n",
    "mbathy.units = 'mbathy'\n",
    "mbathy.long_name = 'mbathy'\n",
    "mbathy[:] = mesh_hgr.variables['mbathy']\n",
    "\n",
    "e3t_ps = ncd.createVariable('e3t_ps', 'float64', ('t', 'y','x'))\n",
    "e3t_ps.units = 'e3t_ps'\n",
    "e3t_ps.long_name = 'e3t_ps'\n",
    "e3t_ps[:] = mesh_hgr.variables['e3t_ps']"
   ]
  },
  {
   "cell_type": "code",
   "execution_count": 22,
   "metadata": {
    "collapsed": false
   },
   "outputs": [
    {
     "name": "stdout",
     "output_type": "stream",
     "text": [
      "Missing value for dataset attribute: references\n"
     ]
    }
   ],
   "source": [
    "nc_tools.check_dataset_attrs(ncd)\n",
    "ncd.close()"
   ]
  },
  {
   "cell_type": "code",
   "execution_count": 18,
   "metadata": {
    "collapsed": false
   },
   "outputs": [
    {
     "data": {
      "text/plain": [
       "<class 'netCDF4._netCDF4.Variable'>\n",
       "float64 e3t_1d(z)\n",
       "    units: e3t_1d\n",
       "    long_name: e3t_1d\n",
       "unlimited dimensions: \n",
       "current shape = (50,)\n",
       "filling on, default _FillValue of 9.969209968386869e+36 used"
      ]
     },
     "execution_count": 18,
     "metadata": {},
     "output_type": "execute_result"
    }
   ],
   "source": [
    "e3t_1d"
   ]
  },
  {
   "cell_type": "code",
   "execution_count": null,
   "metadata": {
    "collapsed": true
   },
   "outputs": [],
   "source": []
  }
 ],
 "metadata": {
  "kernelspec": {
   "display_name": "Python 3",
   "language": "python",
   "name": "python3"
  },
  "language_info": {
   "codemirror_mode": {
    "name": "ipython",
    "version": 3
   },
   "file_extension": ".py",
   "mimetype": "text/x-python",
   "name": "python",
   "nbconvert_exporter": "python",
   "pygments_lexer": "ipython3",
   "version": "3.6.5"
  }
 },
 "nbformat": 4,
 "nbformat_minor": 2
}
