{
 "cells": [
  {
   "cell_type": "markdown",
   "metadata": {},
   "source": [
    "### Check units from monthly CESM forcing files"
   ]
  },
  {
   "cell_type": "code",
   "execution_count": 2,
   "metadata": {},
   "outputs": [],
   "source": [
    "import os\n",
    "os.environ['PROJ_LIB'] = '/home/brogalla/anaconda3/share/proj'"
   ]
  },
  {
   "cell_type": "code",
   "execution_count": 3,
   "metadata": {},
   "outputs": [],
   "source": [
    "import numpy as np\n",
    "import matplotlib.pyplot as plt\n",
    "import matplotlib\n",
    "from mpl_toolkits.basemap import Basemap, cm\n",
    "import cmocean\n",
    "import netCDF4 as nc\n",
    "import datetime as dt\n",
    "\n",
    "%matplotlib inline"
   ]
  },
  {
   "cell_type": "markdown",
   "metadata": {},
   "source": [
    "Load data for year 2002:"
   ]
  },
  {
   "cell_type": "code",
   "execution_count": 4,
   "metadata": {},
   "outputs": [],
   "source": [
    "folder   ='/ocean/brogalla/GEOTRACES/data/'\n",
    "\n",
    "atm_file = 'atm_flux_y2002m07.nc'\n",
    "ice_file = 'ice_flux_y2002m07.nc'\n",
    "\n",
    "atm_flux  = nc.Dataset(folder+atm_file)\n",
    "ice_flux  = nc.Dataset(folder+ice_file)\n",
    "atm       = np.array(atm_flux.variables['fdust'])[1480:2180, 160:800]\n",
    "ice       = np.array(ice_flux.variables['dust'])[1480:2180, 160:800]"
   ]
  },
  {
   "cell_type": "code",
   "execution_count": 5,
   "metadata": {},
   "outputs": [],
   "source": [
    "months=['01', '02', '03', '04', '05', '06', \\\n",
    "       '07', '08', '09', '10', '11', '12']"
   ]
  },
  {
   "cell_type": "code",
   "execution_count": 6,
   "metadata": {},
   "outputs": [
    {
     "name": "stdout",
     "output_type": "stream",
     "text": [
      "Contribution over the year 2002 [g/m2/yr]\n",
      "Atmosphere:\n",
      "    Max:  0.00041474633811822647\n",
      "    Ave:  5.209455514550012e-05\n",
      "Ice:\n",
      "    Max:  0.41474633811822653\n",
      "    Ave:  0.05209455514550012\n"
     ]
    }
   ],
   "source": [
    "atm_max = 0; atm_ave = 0;\n",
    "ice_max = 0; ice_ave = 0;\n",
    "\n",
    "for month in months:\n",
    "    atm_file = 'atm_flux_y2002m'+month+'.nc'\n",
    "    ice_file = 'ice_flux_y2002m'+month+'.nc'\n",
    "\n",
    "    atm_flux  = nc.Dataset(folder+atm_file)\n",
    "    ice_flux  = nc.Dataset(folder+ice_file)\n",
    "    atm       = np.array(atm_flux.variables['fdust'])[1480:2180, 160:800]\n",
    "    ice       = np.array(ice_flux.variables['dust'])[1480:2180, 160:800]\n",
    "    \n",
    "    atm_max = atm_max + np.amax(atm)*30*24*3600\n",
    "    atm_ave = atm_ave + np.average(atm)*30*24*3600\n",
    "    ice_max = ice_max + np.amax(atm)*1e3*30*24*3600\n",
    "    ice_ave = ice_ave + np.average(atm)*1e3*30*24*3600\n",
    "\n",
    "print('Contribution over the year 2002 [g/m2/yr]')\n",
    "print('Atmosphere:')\n",
    "print('    Max: ', atm_max)\n",
    "print('    Ave: ', atm_ave)\n",
    "print('Ice:')\n",
    "print('    Max: ', ice_max)\n",
    "print('    Ave: ', ice_ave)"
   ]
  },
  {
   "cell_type": "markdown",
   "metadata": {},
   "source": [
    "or in micromol/m2/yr:"
   ]
  },
  {
   "cell_type": "code",
   "execution_count": 56,
   "metadata": {},
   "outputs": [
    {
     "name": "stdout",
     "output_type": "stream",
     "text": [
      "From the atmosphere: \n",
      "    Max:  3.978364036918554\n",
      "    Ave:  0.49970568914595137\n",
      "From the ice: \n",
      "    Max:  1283.3432377156628\n",
      "    Ave:  161.19538359546817\n"
     ]
    }
   ],
   "source": [
    "print('From the atmosphere: ')\n",
    "print('    Max: ', atm_max*(1/54.94)*(0.527)*1e6)\n",
    "print('    Ave: ', atm_ave*(1/54.94)*(0.527)*1e6)\n",
    "print('From the ice: ')\n",
    "print('    Max: ', ice_max*(1/54.94)*(0.170)*1e6)\n",
    "print('    Ave: ', ice_ave*(1/54.94)*(0.170)*1e6)"
   ]
  },
  {
   "cell_type": "code",
   "execution_count": 7,
   "metadata": {},
   "outputs": [],
   "source": [
    "atm_f  = 'merged_dst_a1SFWET.nc'\n",
    "atm_f2 = 'merged_dst_a1DDF.nc'\n",
    "ice_f  = 'merged_faero_ocn003_nh.nc'\n",
    "\n",
    "atm_DDF   = nc.Dataset(folder+'NCAR/'+atm_f2)\n",
    "atm_SFWET = nc.Dataset(folder+'NCAR/'+atm_f)\n",
    "ice_001   = nc.Dataset(folder+'NCAR/'+ice_f)\n",
    "atmSFWET  = np.array(atm_SFWET.variables['dst_a1SFWET'])[1829]\n",
    "atmDDF    = np.array(atm_DDF.variables['dst_a1DDF'])[1829]\n",
    "ice1      = np.array(ice_001.variables['faero_ocn003'])[1145]"
   ]
  },
  {
   "cell_type": "code",
   "execution_count": 8,
   "metadata": {},
   "outputs": [],
   "source": [
    "lons_atm = np.array(atm_DDF.variables['lon'])\n",
    "lats_atm = np.array(atm_DDF.variables['lat'])\n",
    "lons_ice = np.array(ice_001.variables['TLON'])\n",
    "lats_ice = np.array(ice_001.variables['TLAT'])"
   ]
  },
  {
   "cell_type": "code",
   "execution_count": 9,
   "metadata": {},
   "outputs": [],
   "source": [
    "dates_atmDDF   = np.array(atm_DDF.variables['date'])\n",
    "dates_atmSFWET = np.array(atm_SFWET.variables['date'])\n",
    "dates_ice      = np.array(ice_001.variables['time'])"
   ]
  },
  {
   "cell_type": "code",
   "execution_count": 10,
   "metadata": {},
   "outputs": [],
   "source": [
    "atm_tot = atmSFWET[-30:-1,-120:-10] + atmDDF[-30:-1,-120:-10]"
   ]
  },
  {
   "cell_type": "code",
   "execution_count": 11,
   "metadata": {},
   "outputs": [
    {
     "name": "stdout",
     "output_type": "stream",
     "text": [
      "Atmospheric NCAR forcing: g/m2/yr\n",
      "Max:  0.002267973881939743\n",
      "Ave:  9.865552414917481e-05\n"
     ]
    }
   ],
   "source": [
    "print('Atmospheric NCAR forcing: g/m2/yr')\n",
    "print('Max: ', np.amax(atm_tot[atm_tot > 0])*1e3*3600*24*365)\n",
    "print('Ave: ', np.average(atm_tot[atm_tot > 0])*1e3*3600*24*365)"
   ]
  },
  {
   "cell_type": "code",
   "execution_count": 12,
   "metadata": {},
   "outputs": [
    {
     "name": "stdout",
     "output_type": "stream",
     "text": [
      "Ice NCAR forcing: g/m2/yr\n",
      "Max:  5.154509419291742\n",
      "Ave:  0.10783183802126617\n"
     ]
    }
   ],
   "source": [
    "print('Ice NCAR forcing: g/m2/yr')\n",
    "print('Max: ', np.amax(ice1[(lats_ice > 62) & (lons_ice < 340) & (lons_ice > 240) & (ice1 < 1e30)])*1e3*3600*24*365)\n",
    "print('Ave: ', np.average(ice1[(lats_ice > 62) & (lons_ice < 340) & (lons_ice > 240) & (ice1 < 1e30)])*1e3*3600*24*365)"
   ]
  },
  {
   "cell_type": "code",
   "execution_count": null,
   "metadata": {},
   "outputs": [],
   "source": []
  },
  {
   "cell_type": "code",
   "execution_count": null,
   "metadata": {},
   "outputs": [],
   "source": []
  }
 ],
 "metadata": {
  "kernelspec": {
   "display_name": "Python 3",
   "language": "python",
   "name": "python3"
  },
  "language_info": {
   "codemirror_mode": {
    "name": "ipython",
    "version": 3
   },
   "file_extension": ".py",
   "mimetype": "text/x-python",
   "name": "python",
   "nbconvert_exporter": "python",
   "pygments_lexer": "ipython3",
   "version": "3.7.3"
  }
 },
 "nbformat": 4,
 "nbformat_minor": 2
}
