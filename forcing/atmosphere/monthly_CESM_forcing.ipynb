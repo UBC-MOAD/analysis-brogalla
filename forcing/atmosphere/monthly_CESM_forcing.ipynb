{
 "cells": [
  {
   "cell_type": "markdown",
   "metadata": {},
   "source": [
    "# Create monthly CESM atmospheric deposition files\n",
    "\n",
    "NCAR CESM output:\n",
    "Community Earth System Model (Community Atmosphere Model - CAM https://agupubs.onlinelibrary.wiley.com/doi/abs/10.1002/2013MS000279) output: https://www.earthsystemgrid.org/; CESM1 CAM5 BGC Large Ensemble Atmosphere Post Processed Data, Monthly Averages.\n",
    "\n",
    "Specific run output: https://www.earthsystemgrid.org/dataset/ucar.cgd.ccsm4.CESM_CAM5_BGC_LE.atm.proc.monthly_ave.html"
   ]
  },
  {
   "cell_type": "code",
   "execution_count": 1,
   "metadata": {},
   "outputs": [],
   "source": [
    "import matplotlib.pyplot as plt\n",
    "import netCDF4 as nc\n",
    "import numpy as np\n",
    "import datetime\n",
    "from mpl_toolkits.basemap import Basemap, cm\n",
    "import cmocean\n",
    "import matplotlib\n",
    "import warnings\n",
    "warnings.filterwarnings(\"ignore\")\n",
    "\n",
    "%matplotlib inline"
   ]
  },
  {
   "cell_type": "code",
   "execution_count": 4,
   "metadata": {},
   "outputs": [
    {
     "data": {
      "text/html": [
       "<script>\n",
       "code_show=true; \n",
       "function code_toggle() {\n",
       " if (code_show){\n",
       " $('div.input').hide();\n",
       " } else {\n",
       " $('div.input').show();\n",
       " }\n",
       " code_show = !code_show\n",
       "} \n",
       "$( document ).ready(code_toggle);\n",
       "</script>\n",
       "<form action=\"javascript:code_toggle()\"><input type=\"submit\" value=\"Click here to toggle on/off the raw code.\"></form>"
      ],
      "text/plain": [
       "<IPython.core.display.HTML object>"
      ]
     },
     "execution_count": 4,
     "metadata": {},
     "output_type": "execute_result"
    }
   ],
   "source": [
    "from IPython.display import HTML\n",
    "\n",
    "HTML('''<script>\n",
    "code_show=true; \n",
    "function code_toggle() {\n",
    " if (code_show){\n",
    " $('div.input').hide();\n",
    " } else {\n",
    " $('div.input').show();\n",
    " }\n",
    " code_show = !code_show\n",
    "} \n",
    "$( document ).ready(code_toggle);\n",
    "</script>\n",
    "<form action=\"javascript:code_toggle()\"><input type=\"submit\" value=\"Click here to toggle on/off the raw code.\"></form>''')"
   ]
  },
  {
   "cell_type": "code",
   "execution_count": 2,
   "metadata": {},
   "outputs": [
    {
     "name": "stdout",
     "output_type": "stream",
     "text": [
      "Run id: ucar.cgd.ccsm4.CESM_CAM5_BGC_LE\n"
     ]
    }
   ],
   "source": [
    "print('Run id: ucar.cgd.ccsm4.CESM_CAM5_BGC_LE')"
   ]
  },
  {
   "cell_type": "code",
   "execution_count": 3,
   "metadata": {},
   "outputs": [],
   "source": [
    "mask  = nc.Dataset('/ocean/brogalla/GEOTRACES/ariane_runs/ANHA12_Ariane_mesh.nc')\n",
    "tmask = np.array(mask.variables['tmask'])\n",
    "tmask = np.array(tmask[0,:,:,:])\n",
    "\n",
    "mesh  = nc.Dataset('/data/brogalla/old/meshmasks/ANHA12_mesh1.nc')\n",
    "mlons = np.array(mesh.variables['nav_lon'])\n",
    "mlats = np.array(mesh.variables['nav_lat'])\n",
    "mlons = np.array(mlons)\n",
    "mlats = np.array(mlats)\n",
    "\n",
    "cond = (tmask > 0.1) \n",
    "Z_masked = np.ma.masked_where(cond, tmask) "
   ]
  },
  {
   "cell_type": "code",
   "execution_count": 4,
   "metadata": {},
   "outputs": [],
   "source": [
    "def interp_np(nav_lon, nav_lat, var_in, lon_ANHA12, lat_ANHA12):\n",
    "    ''' Interpolate some field to ANHA12 grid.\n",
    "        The function is based on the bilinear interpolation in scipy, griddata \n",
    "        =======================================================================\n",
    "            nav_lon, nav_lat        : input field lon/lat\n",
    "            lon_ANHA12, lat_ANHA12  : ANHA12 defined lons/lats\n",
    "            var_in                  : 2-D model variable\n",
    "    '''\n",
    "    from scipy.interpolate import griddata\n",
    "    LatLonPair = (nav_lon.flatten(), nav_lat.flatten())\n",
    "    a = nav_lon.flatten()\n",
    "    b = nav_lat.flatten()\n",
    "    c = var_in.flatten()\n",
    "    print(a.shape, b.shape, c.shape, lon_ANHA12.shape, lat_ANHA12.shape)\n",
    "    var_out = griddata(LatLonPair, var_in.flatten(), (lon_ANHA12, lat_ANHA12), method='linear')\n",
    "    # Take nearest neighbour interpolation to fill nans\n",
    "    var_fill = griddata(LatLonPair, var_in.flatten(), (lon_ANHA12, lat_ANHA12), method='nearest')\n",
    "    \n",
    "    var_out[np.isnan(var_out)] = var_fill[np.isnan(var_out)]\n",
    "    return var_out"
   ]
  },
  {
   "cell_type": "code",
   "execution_count": 5,
   "metadata": {},
   "outputs": [],
   "source": [
    "def save_file(filename, field1, field2, field3):\n",
    "    ncd = nc.Dataset(filename, 'w', zlib=True)\n",
    "#     nc_tools.init_dataset_attrs(\n",
    "#         ncd,\n",
    "#         title='dust input field',\n",
    "#         notebook_name='',\n",
    "#         nc_filepath='./monthly_CESM_forcing.nc',\n",
    "#         comment='CESM ucar.cgd.ccsm4.CESM_CAM5_BGC_LE dust deposition field')\n",
    "\n",
    "    ncd.createDimension('x',len(mesh.dimensions['x']))\n",
    "    ncd.createDimension('y',len(mesh.dimensions['y']))\n",
    "    ncd.createDimension('time_counter',None)\n",
    "    \n",
    "    # variables\n",
    "    fine_dust             = ncd.createVariable('fdust', 'float64', ('y','x'))\n",
    "    fine_dust.units       = 'g/m2/s'\n",
    "    fine_dust.long_name   = 'Fine dust deposition flux'  \n",
    "    fine_dust.coordinates = 'nav_lon nav_lat'\n",
    "    fine_dust[:]          = field1\n",
    "    \n",
    "    coarse_dust             = ncd.createVariable('cdust', 'float64', ('y','x'))\n",
    "    coarse_dust.units       = 'g/m2/s'\n",
    "    coarse_dust.long_name   = 'Coarse dust deposition flux'  \n",
    "    coarse_dust.coordinates = 'nav_lon nav_lat'\n",
    "    coarse_dust[:]          = field2\n",
    "    \n",
    "    black_c             = ncd.createVariable('bc', 'float64', ('y','x'))\n",
    "    black_c.units       = 'g/m2/s'\n",
    "    black_c.long_name   = 'Black carbon deposition flux'  \n",
    "    black_c.coordinates = 'nav_lon nav_lat'\n",
    "    black_c[:]          = field3\n",
    "    \n",
    "    print('saved ', filename)\n",
    "\n",
    "    ncd.close()\n",
    "    return"
   ]
  },
  {
   "cell_type": "markdown",
   "metadata": {},
   "source": [
    "For Mode MAM3 (https://www.geosci-model-dev.net/5/709/2012/):\n",
    "\n",
    "- a1 --- Aitken mode --- 0.015-0.053 μm\n",
    "- a2 --- Accumulation mode --- 0.058-0.27 μm\n",
    "- a3 --- Coarse mode --- 0.80-3.65 μm\n",
    "\n",
    "Indicate year for which to create files:"
   ]
  },
  {
   "cell_type": "code",
   "execution_count": 139,
   "metadata": {},
   "outputs": [],
   "source": [
    "file_year = 2020"
   ]
  },
  {
   "cell_type": "markdown",
   "metadata": {},
   "source": [
    "Load data:"
   ]
  },
  {
   "cell_type": "code",
   "execution_count": 140,
   "metadata": {},
   "outputs": [],
   "source": [
    "folder = '/ocean/brogalla/GEOTRACES/data/NCAR/'\n",
    "dst_a1DDF_f   = 'merged_dst_a1DDF.nc'\n",
    "dst_a1SFWET_f = 'merged_dst_a1SFWET.nc'\n",
    "dst_a3DDF_f   = 'merged_dst_a3DDF.nc'\n",
    "dst_a3SFWET_f = 'merged_dst_a3SFWET.nc'\n",
    "bc_a1DDF_f    = 'merged_bc_a1DDF.nc'\n",
    "bc_a1SFWET_f  = 'merged_bc_a1SFWET.nc'\n",
    "\n",
    "dst_a1D = nc.Dataset(folder+dst_a1DDF_f)\n",
    "dst_a1S = nc.Dataset(folder+dst_a1SFWET_f)\n",
    "dst_a3D = nc.Dataset(folder+dst_a3DDF_f)\n",
    "dst_a3S = nc.Dataset(folder+dst_a3SFWET_f)\n",
    "bc_a1D  = nc.Dataset(folder+bc_a1DDF_f)\n",
    "bc_a1S  = nc.Dataset(folder+bc_a1SFWET_f)"
   ]
  },
  {
   "cell_type": "code",
   "execution_count": 141,
   "metadata": {},
   "outputs": [],
   "source": [
    "dst_a1DDF   = dst_a1D.variables['dst_a1DDF']\n",
    "dst_a1SFWET = dst_a1S.variables['dst_a1SFWET']\n",
    "dst_a3DDF   = dst_a3D.variables['dst_a3DDF']\n",
    "dst_a3SFWET = dst_a3S.variables['dst_a3SFWET']\n",
    "BC_a1DDF    = bc_a1D.variables['bc_a1DDF']\n",
    "BC_a1SFWET  = bc_a1S.variables['bc_a1SFWET']"
   ]
  },
  {
   "cell_type": "code",
   "execution_count": 142,
   "metadata": {},
   "outputs": [],
   "source": [
    "lon  = dst_a1D.variables['lon']\n",
    "lat  = dst_a1D.variables['lat']\n",
    "date = dst_a1D.variables['date']"
   ]
  },
  {
   "cell_type": "code",
   "execution_count": 143,
   "metadata": {},
   "outputs": [],
   "source": [
    "lon = np.array(lon)\n",
    "for i in range(0,len(lon)):\n",
    "    if lon[i] >= 180:\n",
    "        lon[i] = -360+lon[i]"
   ]
  },
  {
   "cell_type": "code",
   "execution_count": 144,
   "metadata": {},
   "outputs": [],
   "source": [
    "# change lons and lats array dimensions: (192x288)\n",
    "lons, lats = np.meshgrid(lon,lat)\n",
    "lons=np.array(lons)\n",
    "lats=np.array(lats)"
   ]
  },
  {
   "cell_type": "markdown",
   "metadata": {},
   "source": [
    "identify array indices corresponding to start and end of file_year:"
   ]
  },
  {
   "cell_type": "code",
   "execution_count": 145,
   "metadata": {},
   "outputs": [],
   "source": [
    "file_date_start = file_year*10000 + 101\n",
    "file_date_end = file_year*10000 + 1201"
   ]
  },
  {
   "cell_type": "code",
   "execution_count": 146,
   "metadata": {},
   "outputs": [
    {
     "name": "stdout",
     "output_type": "stream",
     "text": [
      "start index:  2039\n",
      "end index:  2050\n"
     ]
    }
   ],
   "source": [
    "start_index = []\n",
    "end_index = []\n",
    "\n",
    "for i in range(0,len(date)):\n",
    "    if date[i] == file_date_start:\n",
    "        start_index = i\n",
    "    elif date[i] == file_date_end:\n",
    "        end_index = i\n",
    "        \n",
    "print('start index: ', start_index)\n",
    "print('end index: ', end_index)"
   ]
  },
  {
   "cell_type": "code",
   "execution_count": 147,
   "metadata": {},
   "outputs": [
    {
     "name": "stdout",
     "output_type": "stream",
     "text": [
      "20200101 20201201\n"
     ]
    }
   ],
   "source": [
    "print(date[start_index], date[end_index])"
   ]
  },
  {
   "cell_type": "markdown",
   "metadata": {},
   "source": [
    "Sum wet and dry deposition fields & zero any negative deposition fluxes:"
   ]
  },
  {
   "cell_type": "code",
   "execution_count": 148,
   "metadata": {},
   "outputs": [],
   "source": [
    "dst_a1DDF = np.array(dst_a1DDF)\n",
    "dst_a1SFWET = np.array(dst_a1SFWET)\n",
    "dst_a3DDF = np.array(dst_a3DDF)\n",
    "dst_a3SFWET = np.array(dst_a3SFWET)\n",
    "BC_a1DDF = np.array(BC_a1DDF)\n",
    "BC_a1SFWET = np.array(BC_a1SFWET)"
   ]
  },
  {
   "cell_type": "code",
   "execution_count": 149,
   "metadata": {},
   "outputs": [],
   "source": [
    "# zero negative deposition fluxes:\n",
    "dst_a1DDF[dst_a1DDF < 0] = 0\n",
    "dst_a1SFWET[dst_a1SFWET < 0] = 0\n",
    "dst_a3DDF[dst_a3DDF < 0] = 0\n",
    "dst_a3SFWET[dst_a3SFWET < 0] = 0\n",
    "BC_a1DDF[BC_a1DDF < 0] = 0\n",
    "BC_a1SFWET[BC_a1SFWET < 0] = 0"
   ]
  },
  {
   "cell_type": "markdown",
   "metadata": {},
   "source": [
    "Convert kg/m2/s to g/m2/s"
   ]
  },
  {
   "cell_type": "code",
   "execution_count": 150,
   "metadata": {},
   "outputs": [],
   "source": [
    "dst_a1 = np.add(dst_a1DDF[start_index:end_index+1,:,:]*10**3, dst_a1SFWET[start_index:end_index+1, :,:]*10**3)\n",
    "dst_a3 = np.add(dst_a3DDF[start_index:end_index+1,:,:]*10**3, dst_a3SFWET[start_index:end_index+1, :,:]*10**3)\n",
    "bc_a1 = np.add(BC_a1DDF[start_index:end_index+1,:,:]*10**3, BC_a1SFWET[start_index:end_index+1, :,:]*10**3)"
   ]
  },
  {
   "cell_type": "code",
   "execution_count": 151,
   "metadata": {},
   "outputs": [
    {
     "name": "stdout",
     "output_type": "stream",
     "text": [
      "Check that output is of the correct dimensions:  (12, 192, 288) (12, 192, 288) (12, 192, 288)\n"
     ]
    }
   ],
   "source": [
    "print('Check that output is of the correct dimensions: ', dst_a1.shape, dst_a3.shape, bc_a1.shape)"
   ]
  },
  {
   "cell_type": "code",
   "execution_count": 152,
   "metadata": {},
   "outputs": [],
   "source": [
    "dst_a1_flat = np.reshape(dst_a1, (12, 55296))\n",
    "dst_a3_flat = np.reshape(dst_a3, (12, 55296))\n",
    "bc_a1_flat = np.reshape(bc_a1, (12, 55296))"
   ]
  },
  {
   "cell_type": "code",
   "execution_count": 153,
   "metadata": {},
   "outputs": [
    {
     "name": "stdout",
     "output_type": "stream",
     "text": [
      "dust a1:\n",
      "6.392681e-07\n",
      "5.5163804e-16\n",
      "dust a3:\n",
      "0.00016161492\n",
      "2.5886011e-14\n",
      "bc a1:\n",
      "6.8735084e-09\n",
      "9.667789e-17\n"
     ]
    }
   ],
   "source": [
    "print('dust a1:')\n",
    "print(np.max(np.nanmax(dst_a1_flat, axis = 1)))\n",
    "print(np.min(np.nanmin(dst_a1_flat, axis = 1)))\n",
    "print('dust a3:')\n",
    "print(np.max(np.nanmax(dst_a3_flat, axis = 1)))\n",
    "print(np.min(np.nanmin(dst_a3_flat, axis = 1)))\n",
    "print('bc a1:')\n",
    "print(np.max(np.nanmax(bc_a1_flat, axis = 1)))\n",
    "print(np.min(np.nanmin(bc_a1_flat, axis = 1)))"
   ]
  },
  {
   "cell_type": "markdown",
   "metadata": {},
   "source": [
    "Interpolate to ANHA12 grid:"
   ]
  },
  {
   "cell_type": "code",
   "execution_count": 154,
   "metadata": {},
   "outputs": [],
   "source": [
    "dst_a1 = np.array(dst_a1)\n",
    "dst_a3 = np.array(dst_a3)\n",
    "bc_a1 = np.array(bc_a1)"
   ]
  },
  {
   "cell_type": "code",
   "execution_count": 155,
   "metadata": {},
   "outputs": [
    {
     "name": "stdout",
     "output_type": "stream",
     "text": [
      "(55296,) (55296,) (55296,) (2400, 1632) (2400, 1632)\n",
      "(55296,) (55296,) (55296,) (2400, 1632) (2400, 1632)\n",
      "(55296,) (55296,) (55296,) (2400, 1632) (2400, 1632)\n",
      "(55296,) (55296,) (55296,) (2400, 1632) (2400, 1632)\n",
      "(55296,) (55296,) (55296,) (2400, 1632) (2400, 1632)\n",
      "(55296,) (55296,) (55296,) (2400, 1632) (2400, 1632)\n",
      "(55296,) (55296,) (55296,) (2400, 1632) (2400, 1632)\n",
      "(55296,) (55296,) (55296,) (2400, 1632) (2400, 1632)\n",
      "(55296,) (55296,) (55296,) (2400, 1632) (2400, 1632)\n",
      "(55296,) (55296,) (55296,) (2400, 1632) (2400, 1632)\n",
      "(55296,) (55296,) (55296,) (2400, 1632) (2400, 1632)\n",
      "(55296,) (55296,) (55296,) (2400, 1632) (2400, 1632)\n",
      "(55296,) (55296,) (55296,) (2400, 1632) (2400, 1632)\n",
      "(55296,) (55296,) (55296,) (2400, 1632) (2400, 1632)\n",
      "(55296,) (55296,) (55296,) (2400, 1632) (2400, 1632)\n",
      "(55296,) (55296,) (55296,) (2400, 1632) (2400, 1632)\n",
      "(55296,) (55296,) (55296,) (2400, 1632) (2400, 1632)\n",
      "(55296,) (55296,) (55296,) (2400, 1632) (2400, 1632)\n",
      "(55296,) (55296,) (55296,) (2400, 1632) (2400, 1632)\n",
      "(55296,) (55296,) (55296,) (2400, 1632) (2400, 1632)\n",
      "(55296,) (55296,) (55296,) (2400, 1632) (2400, 1632)\n",
      "(55296,) (55296,) (55296,) (2400, 1632) (2400, 1632)\n",
      "(55296,) (55296,) (55296,) (2400, 1632) (2400, 1632)\n",
      "(55296,) (55296,) (55296,) (2400, 1632) (2400, 1632)\n",
      "(55296,) (55296,) (55296,) (2400, 1632) (2400, 1632)\n",
      "(55296,) (55296,) (55296,) (2400, 1632) (2400, 1632)\n",
      "(55296,) (55296,) (55296,) (2400, 1632) (2400, 1632)\n",
      "(55296,) (55296,) (55296,) (2400, 1632) (2400, 1632)\n",
      "(55296,) (55296,) (55296,) (2400, 1632) (2400, 1632)\n",
      "(55296,) (55296,) (55296,) (2400, 1632) (2400, 1632)\n",
      "(55296,) (55296,) (55296,) (2400, 1632) (2400, 1632)\n",
      "(55296,) (55296,) (55296,) (2400, 1632) (2400, 1632)\n",
      "(55296,) (55296,) (55296,) (2400, 1632) (2400, 1632)\n",
      "(55296,) (55296,) (55296,) (2400, 1632) (2400, 1632)\n",
      "(55296,) (55296,) (55296,) (2400, 1632) (2400, 1632)\n",
      "(55296,) (55296,) (55296,) (2400, 1632) (2400, 1632)\n"
     ]
    }
   ],
   "source": [
    "interp_dst_a1 = np.empty((12, 2400, 1632))\n",
    "interp_dst_a3 = np.empty((12, 2400, 1632))\n",
    "interp_bc_a1  = np.empty((12, 2400, 1632))\n",
    "\n",
    "# loop over the months:\n",
    "for i in range(0,12):\n",
    "    interp_dst_a1[i,:,:] = interp_np(lons, lats, dst_a1[i,:,:], mlons, mlats)\n",
    "    interp_dst_a3[i,:,:] = interp_np(lons, lats, dst_a3[i,:,:], mlons, mlats)\n",
    "    interp_bc_a1[i,:,:]  = interp_np(lons, lats, bc_a1[i,:,:], mlons, mlats)"
   ]
  },
  {
   "cell_type": "markdown",
   "metadata": {},
   "source": [
    "### Write to NetCDF files:"
   ]
  },
  {
   "cell_type": "code",
   "execution_count": 156,
   "metadata": {},
   "outputs": [],
   "source": [
    "location = '/data/brogalla/atmospheric_forcing/'"
   ]
  },
  {
   "cell_type": "code",
   "execution_count": 157,
   "metadata": {},
   "outputs": [
    {
     "name": "stdout",
     "output_type": "stream",
     "text": [
      "saved  /data/brogalla/atmospheric_forcing/atm_flux_y2020m01.nc\n",
      "saved  /data/brogalla/atmospheric_forcing/atm_flux_y2020m02.nc\n",
      "saved  /data/brogalla/atmospheric_forcing/atm_flux_y2020m03.nc\n",
      "saved  /data/brogalla/atmospheric_forcing/atm_flux_y2020m04.nc\n",
      "saved  /data/brogalla/atmospheric_forcing/atm_flux_y2020m05.nc\n",
      "saved  /data/brogalla/atmospheric_forcing/atm_flux_y2020m06.nc\n",
      "saved  /data/brogalla/atmospheric_forcing/atm_flux_y2020m07.nc\n",
      "saved  /data/brogalla/atmospheric_forcing/atm_flux_y2020m08.nc\n",
      "saved  /data/brogalla/atmospheric_forcing/atm_flux_y2020m09.nc\n",
      "saved  /data/brogalla/atmospheric_forcing/atm_flux_y2020m10.nc\n",
      "saved  /data/brogalla/atmospheric_forcing/atm_flux_y2020m11.nc\n",
      "saved  /data/brogalla/atmospheric_forcing/atm_flux_y2020m12.nc\n"
     ]
    }
   ],
   "source": [
    "for i in range(1,13):\n",
    "    if i < 10:\n",
    "        save_file(location+'atm_flux_y'+str(file_year)+'m0'+str(i)+'.nc',interp_dst_a1[i-1,:,:],\\\n",
    "                  interp_dst_a3[i-1,:,:], interp_bc_a1[i-1,:,:])\n",
    "    else:\n",
    "        save_file(location+'atm_flux_y'+str(file_year)+'m'+str(i)+'.nc',interp_dst_a1[i-1,:,:],\\\n",
    "                  interp_dst_a3[i-1,:,:], interp_bc_a1[i-1,:,:])"
   ]
  },
  {
   "cell_type": "code",
   "execution_count": null,
   "metadata": {},
   "outputs": [],
   "source": []
  },
  {
   "cell_type": "code",
   "execution_count": null,
   "metadata": {},
   "outputs": [],
   "source": []
  }
 ],
 "metadata": {
  "kernelspec": {
   "display_name": "Python 3",
   "language": "python",
   "name": "python3"
  },
  "language_info": {
   "codemirror_mode": {
    "name": "ipython",
    "version": 3
   },
   "file_extension": ".py",
   "mimetype": "text/x-python",
   "name": "python",
   "nbconvert_exporter": "python",
   "pygments_lexer": "ipython3",
   "version": "3.7.3"
  }
 },
 "nbformat": 4,
 "nbformat_minor": 2
}
