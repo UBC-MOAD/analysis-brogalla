{
 "cells": [
  {
   "cell_type": "markdown",
   "metadata": {},
   "source": [
    "# CanOE Nitrate\n",
    "\n",
    "Output from recent CanOE run provided by Hakase and Nadja. "
   ]
  },
  {
   "cell_type": "code",
   "execution_count": 1,
   "metadata": {
    "collapsed": false
   },
   "outputs": [
    {
     "name": "stderr",
     "output_type": "stream",
     "text": [
      "/ocean/brogalla/GEOTRACES/analysis-birgit/cmocean-master/cmocean/tools.py:76: MatplotlibDeprecationWarning: The is_string_like function was deprecated in version 2.1.\n",
      "  if not mpl.cbook.is_string_like(rgbin[0]):\n"
     ]
    }
   ],
   "source": [
    "%matplotlib inline\n",
    "import matplotlib.pyplot as plt\n",
    "import numpy as np\n",
    "import netCDF4 as nc\n",
    "from salishsea_tools import nc_tools, viz_tools\n",
    "import datetime\n",
    "from mpl_toolkits.basemap import Basemap, cm\n",
    "import cmocean"
   ]
  },
  {
   "cell_type": "markdown",
   "metadata": {},
   "source": [
    "Load ANHA12 coordinate file:"
   ]
  },
  {
   "cell_type": "code",
   "execution_count": 2,
   "metadata": {
    "collapsed": false
   },
   "outputs": [],
   "source": [
    "mesh = '/data/brogalla/ANHA12/ANHA12-EXH006_5d_gridT_y2002m01d05.nc'\n",
    "m = nc.Dataset(mesh)\n",
    "mdepth = m.variables['deptht']\n",
    "mlons = m.variables['nav_lon']\n",
    "mlats = m.variables['nav_lat']\n",
    "mdepth = np.array(mdepth)\n",
    "mlons = np.array(mlons)\n",
    "mlats = np.array(mlats)\n",
    "# Mask:\n",
    "mask = nc.Dataset('/ocean/brogalla/GEOTRACES/data/ANHA12_mask.nc')\n",
    "tmask = mask.variables['tmask']\n",
    "tmask = np.array(tmask[0,:,:,:])\n",
    "cond = (tmask > 0.1) \n",
    "Z_masked = np.ma.masked_where(cond, tmask) "
   ]
  },
  {
   "cell_type": "code",
   "execution_count": 4,
   "metadata": {
    "collapsed": true
   },
   "outputs": [],
   "source": [
    "b = load_data(2002,1)"
   ]
  },
  {
   "cell_type": "code",
   "execution_count": 5,
   "metadata": {
    "collapsed": false
   },
   "outputs": [
    {
     "name": "stdout",
     "output_type": "stream",
     "text": [
      "60.688379026\n",
      "0.0\n",
      "1.36341745755\n"
     ]
    }
   ],
   "source": [
    "print(np.amax(b))\n",
    "print(np.amin(b))\n",
    "print(np.average(b))"
   ]
  },
  {
   "cell_type": "markdown",
   "metadata": {},
   "source": [
    "### Functions:"
   ]
  },
  {
   "cell_type": "code",
   "execution_count": 3,
   "metadata": {
    "collapsed": true
   },
   "outputs": [],
   "source": [
    "def load_data(year, month):\n",
    "    folder = '/ocean/brogalla/GEOTRACES/analysis-birgit/notebooks/bio/'\n",
    "    filename = 'NO3_y'+str(year)+'m'+str(month)+'.nc'\n",
    "    \n",
    "    data  = nc.Dataset(folder+filename)\n",
    "    NO3   = np.array(data.variables['NO3'])\n",
    "    return NO3"
   ]
  },
  {
   "cell_type": "code",
   "execution_count": 35,
   "metadata": {
    "collapsed": true
   },
   "outputs": [],
   "source": [
    "def deriv(year, month):\n",
    "    NO3_1 = load_data(year, month)\n",
    "    if month < 12:\n",
    "        NO3_2 = load_data(year, month+1)\n",
    "    else:\n",
    "        NO3_2 = load_data(year+1, 1)\n",
    "        \n",
    "    diff = np.subtract(NO3_2, NO3_1) / (30*24*60*60)\n",
    "    return diff"
   ]
  },
  {
   "cell_type": "code",
   "execution_count": 18,
   "metadata": {
    "collapsed": true
   },
   "outputs": [],
   "source": [
    "def save_NO3(filename, field):\n",
    "    c = nc.Dataset('/data/brogalla/ANHA12/ANHA12-EXH006_5d_gridT_y2002m01d05.nc','r')\n",
    "\n",
    "    # Load structure from sample dataset:\n",
    "    deptht = c.variables['deptht']\n",
    "    BX = c.dimensions['x']\n",
    "    BY = c.dimensions['y']\n",
    "    \n",
    "    ncd = nc.Dataset(filename, 'w', zlib=True)\n",
    "    nc_tools.init_dataset_attrs(\n",
    "        ncd,\n",
    "        title='NO3 input field',\n",
    "        notebook_name='IC',\n",
    "        nc_filepath='./NO3_input.nc',\n",
    "        comment='CanOE NO3 deposition field')\n",
    "\n",
    "    ncd.createDimension('x',len(BX))\n",
    "    ncd.createDimension('y',len(BY))\n",
    "    ncd.createDimension('deptht', len(deptht))\n",
    "    \n",
    "    # variables\n",
    "    NO3_var = ncd.createVariable('dNO3', 'float64', ('deptht','y','x'))\n",
    "    NO3_var.units = ''\n",
    "    NO3_var.long_name = 'Nitrate concentration'  \n",
    "    NO3_var.coordinates = 'nav_lon nav_lat deptht'\n",
    "    NO3_var[:] = field[:,:,:]\n",
    "    \n",
    "    nc_tools.check_dataset_attrs(ncd)\n",
    "    ncd.close()\n",
    "    return"
   ]
  },
  {
   "cell_type": "code",
   "execution_count": 6,
   "metadata": {
    "collapsed": true
   },
   "outputs": [],
   "source": [
    "def plot_sample(NO3, mlons=mlons, mlats=mlats):\n",
    "    fig,ax = plt.subplots(figsize=(15,15))\n",
    "    proj=Basemap(projection='eqdc',lat_0 = 77.5, lon_0 = -93, resolution='i', width=3.5e6, height=2.68e6)\n",
    "    proj.drawcoastlines(linestyle='-', color=[0.35, 0.35, 0.35], linewidth=1, zorder=1);\n",
    "\n",
    "    # model:\n",
    "    x, y = proj(mlons, mlats)\n",
    "\n",
    "    # plot all together:\n",
    "    CS = proj.pcolor(x, y, NO3[0,0,:,:], cmap=cmocean.cm.deep)\n",
    "    CBar = plt.colorbar(CS, shrink=0.6)\n",
    "    CBar.ax.tick_params(axis='y', length=0)\n",
    "    CBar.set_label('Interpolated NO3', fontsize=12)\n",
    "    ax.set_xlabel('Longitude')\n",
    "    ax.set_ylabel('Latitude')\n",
    "    plt.title('ANHA12 interpolation from CanOE model output')\n",
    "    return"
   ]
  },
  {
   "cell_type": "markdown",
   "metadata": {},
   "source": [
    "## Run:"
   ]
  },
  {
   "cell_type": "markdown",
   "metadata": {},
   "source": [
    "##### Choose year:"
   ]
  },
  {
   "cell_type": "code",
   "execution_count": 7,
   "metadata": {
    "collapsed": true
   },
   "outputs": [],
   "source": [
    "year = 2002 "
   ]
  },
  {
   "cell_type": "markdown",
   "metadata": {},
   "source": [
    "Calculate derivative:"
   ]
  },
  {
   "cell_type": "markdown",
   "metadata": {},
   "source": [
    "Final result has to be in units of [NO_3]/s\n",
    "\n",
    "\\begin{equation*}\n",
    "\\frac{\\partial{NO_{3}(i)}}{\\partial{t}} \\approxeq \\frac{NO_{3}(i+1) - NO_{3}(i) }{\\Delta t} = \n",
    "\\frac{NO_{3}(2002m2)-NO_{3}(2002m1)}{(30*24*60*60)} \n",
    "\\end{equation*}"
   ]
  },
  {
   "cell_type": "code",
   "execution_count": 36,
   "metadata": {
    "collapsed": true
   },
   "outputs": [],
   "source": [
    "def joblib_solver(deriv, year, month):\n",
    "    dNO3 = deriv(year, month) \n",
    "    return dNO3"
   ]
  },
  {
   "cell_type": "code",
   "execution_count": 37,
   "metadata": {
    "collapsed": true
   },
   "outputs": [],
   "source": [
    "months=np.arange(1,13)\n",
    "joblist=[]\n",
    "for month in months:\n",
    "    positional_args=[deriv,year,month]\n",
    "    keyword_args={}\n",
    "    joblist.append((joblib_solver,positional_args,keyword_args))"
   ]
  },
  {
   "cell_type": "code",
   "execution_count": 38,
   "metadata": {
    "collapsed": false
   },
   "outputs": [],
   "source": [
    "from joblib import Parallel\n",
    "ncores=8\n",
    "with Parallel(n_jobs=ncores,backend='threading') as parallel:\n",
    "    results=parallel(joblist)"
   ]
  },
  {
   "cell_type": "code",
   "execution_count": 39,
   "metadata": {
    "collapsed": false
   },
   "outputs": [
    {
     "data": {
      "text/plain": [
       "(12, 50, 2400, 1632)"
      ]
     },
     "execution_count": 39,
     "metadata": {},
     "output_type": "execute_result"
    }
   ],
   "source": [
    "a = np.array(results)\n",
    "a.shape"
   ]
  },
  {
   "cell_type": "markdown",
   "metadata": {},
   "source": [
    "Check that there are no NaN values:"
   ]
  },
  {
   "cell_type": "code",
   "execution_count": 40,
   "metadata": {
    "collapsed": false
   },
   "outputs": [
    {
     "name": "stdout",
     "output_type": "stream",
     "text": [
      "0\n"
     ]
    }
   ],
   "source": [
    "print(np.count_nonzero(np.isnan(a)))"
   ]
  },
  {
   "cell_type": "code",
   "execution_count": 41,
   "metadata": {
    "collapsed": false
   },
   "outputs": [
    {
     "name": "stdout",
     "output_type": "stream",
     "text": [
      "8.31980946882e-06\n",
      "-1.45165734169e-10\n",
      "-1.19999793556e-05\n"
     ]
    }
   ],
   "source": [
    "print(np.amax(a))\n",
    "print(np.average(a))\n",
    "print(np.amin(a))"
   ]
  },
  {
   "cell_type": "markdown",
   "metadata": {},
   "source": [
    "save to NetCDF file: collapse shape from (t,z,y,x) to (t,z,xy)"
   ]
  },
  {
   "cell_type": "code",
   "execution_count": null,
   "metadata": {
    "collapsed": true
   },
   "outputs": [],
   "source": [
    "time_dim=1\n",
    "bound_dimE=len(boundaryE_lats)"
   ]
  },
  {
   "cell_type": "code",
   "execution_count": null,
   "metadata": {
    "collapsed": true
   },
   "outputs": [],
   "source": [
    "# final dimensions should be\n",
    "rimwidth = 20\n",
    "len(boundaryE_lats)*rimwidth"
   ]
  },
  {
   "cell_type": "code",
   "execution_count": null,
   "metadata": {
    "collapsed": true
   },
   "outputs": [],
   "source": [
    "# function to stack input for boundaries:\n",
    "def stack_input(var, time_dim, bound_dim, rimwidth):\n",
    "    a = var\n",
    "    b = np.hstack((var,var))\n",
    "    for i in range(0,rimwidth-2):\n",
    "        b = np.hstack((b,a))\n",
    "#     c = np.dstack((b, b))\n",
    "#     for i in range(0,time_dim-2):\n",
    "#         c = np.dstack((c, b))\n",
    "    d = np.moveaxis(b,-1,0)\n",
    "    return d"
   ]
  },
  {
   "cell_type": "code",
   "execution_count": null,
   "metadata": {
    "collapsed": true
   },
   "outputs": [],
   "source": [
    "# Eastern boundary:\n",
    "dMnE_O = stack_input(boundaryE_dMn, time_dim, bound_dimE, rimwidth)\n",
    "oMnE_O = stack_input(boundaryE_oMn, time_dim, bound_dimE, rimwidth)\n",
    "print(oMnE_O.shape)\n",
    "print(dMnE_O.shape)"
   ]
  },
  {
   "cell_type": "code",
   "execution_count": null,
   "metadata": {
    "collapsed": true
   },
   "outputs": [],
   "source": [
    "def flatten_input(var):\n",
    "    b = var[0,:,:].flatten()\n",
    "    for i in range(1,len(var)):\n",
    "        a = var[i,:,:].flatten()\n",
    "        b = np.vstack((b,a))\n",
    "    return b"
   ]
  },
  {
   "cell_type": "code",
   "execution_count": null,
   "metadata": {
    "collapsed": true
   },
   "outputs": [],
   "source": [
    "dMnE_O = flatten_input(boundaryE_dMn)\n",
    "oMnE_O = flatten_input(boundaryE_oMn)\n",
    "print(dMnE_O.shape)\n",
    "print(oMnE_O.shape)"
   ]
  },
  {
   "cell_type": "code",
   "execution_count": null,
   "metadata": {
    "collapsed": true
   },
   "outputs": [],
   "source": [
    "dMn_EOBC = np.reshape(dMnE_O, (1,50,1,bound_dimE*rimwidth))\n",
    "oMn_EOBC = np.reshape(oMnE_O, (1,50,1,bound_dimE*rimwidth))\n",
    "print(dMn_EOBC.shape)\n",
    "print(oMn_EOBC.shape)"
   ]
  },
  {
   "cell_type": "code",
   "execution_count": 43,
   "metadata": {
    "collapsed": false
   },
   "outputs": [
    {
     "name": "stdout",
     "output_type": "stream",
     "text": [
      "file format: NETCDF4\n",
      "Conventions: CF-1.6\n",
      "title: NO3 input field\n",
      "institution: Dept of Earth, Ocean & Atmospheric Sciences, University of British Columbia\n",
      "source: https://bitbucket.org/ccar-modeling/analysis-birgit/src/tip/notebooks/bio/IC.ipynb\n",
      "references: REQUIRED\n",
      "history: [2018-08-17 10:09:33] Created netCDF4 zlib=True dataset.\n",
      "comment: CanOE NO3 deposition field\n",
      "1.43318257348e-08\n",
      "Missing value for dataset attribute: references\n",
      "Missing value for variable attribute for dNO3: units\n",
      "file format: NETCDF4\n",
      "Conventions: CF-1.6\n",
      "title: NO3 input field\n",
      "institution: Dept of Earth, Ocean & Atmospheric Sciences, University of British Columbia\n",
      "source: https://bitbucket.org/ccar-modeling/analysis-birgit/src/tip/notebooks/bio/IC.ipynb\n",
      "references: REQUIRED\n",
      "history: [2018-08-17 10:09:50] Created netCDF4 zlib=True dataset.\n",
      "comment: CanOE NO3 deposition field\n",
      "6.58032858745e-09\n",
      "Missing value for dataset attribute: references\n",
      "Missing value for variable attribute for dNO3: units\n",
      "file format: NETCDF4\n",
      "Conventions: CF-1.6\n",
      "title: NO3 input field\n",
      "institution: Dept of Earth, Ocean & Atmospheric Sciences, University of British Columbia\n",
      "source: https://bitbucket.org/ccar-modeling/analysis-birgit/src/tip/notebooks/bio/IC.ipynb\n",
      "references: REQUIRED\n",
      "history: [2018-08-17 10:10:07] Created netCDF4 zlib=True dataset.\n",
      "comment: CanOE NO3 deposition field\n",
      "-1.01558252845e-08\n",
      "Missing value for dataset attribute: references\n",
      "Missing value for variable attribute for dNO3: units\n",
      "file format: NETCDF4\n",
      "Conventions: CF-1.6\n",
      "title: NO3 input field\n",
      "institution: Dept of Earth, Ocean & Atmospheric Sciences, University of British Columbia\n",
      "source: https://bitbucket.org/ccar-modeling/analysis-birgit/src/tip/notebooks/bio/IC.ipynb\n",
      "references: REQUIRED\n",
      "history: [2018-08-17 10:10:23] Created netCDF4 zlib=True dataset.\n",
      "comment: CanOE NO3 deposition field\n",
      "-3.24341848785e-08\n",
      "Missing value for dataset attribute: references\n",
      "Missing value for variable attribute for dNO3: units\n",
      "file format: NETCDF4\n",
      "Conventions: CF-1.6\n",
      "title: NO3 input field\n",
      "institution: Dept of Earth, Ocean & Atmospheric Sciences, University of British Columbia\n",
      "source: https://bitbucket.org/ccar-modeling/analysis-birgit/src/tip/notebooks/bio/IC.ipynb\n",
      "references: REQUIRED\n",
      "history: [2018-08-17 10:10:41] Created netCDF4 zlib=True dataset.\n",
      "comment: CanOE NO3 deposition field\n",
      "-4.64503562912e-08\n",
      "Missing value for dataset attribute: references\n",
      "Missing value for variable attribute for dNO3: units\n",
      "file format: NETCDF4\n",
      "Conventions: CF-1.6\n",
      "title: NO3 input field\n",
      "institution: Dept of Earth, Ocean & Atmospheric Sciences, University of British Columbia\n",
      "source: https://bitbucket.org/ccar-modeling/analysis-birgit/src/tip/notebooks/bio/IC.ipynb\n",
      "references: REQUIRED\n",
      "history: [2018-08-17 10:10:58] Created netCDF4 zlib=True dataset.\n",
      "comment: CanOE NO3 deposition field\n",
      "-4.01045255573e-08\n",
      "Missing value for dataset attribute: references\n",
      "Missing value for variable attribute for dNO3: units\n",
      "file format: NETCDF4\n",
      "Conventions: CF-1.6\n",
      "title: NO3 input field\n",
      "institution: Dept of Earth, Ocean & Atmospheric Sciences, University of British Columbia\n",
      "source: https://bitbucket.org/ccar-modeling/analysis-birgit/src/tip/notebooks/bio/IC.ipynb\n",
      "references: REQUIRED\n",
      "history: [2018-08-17 10:11:15] Created netCDF4 zlib=True dataset.\n",
      "comment: CanOE NO3 deposition field\n",
      "-1.09952014884e-08\n",
      "Missing value for dataset attribute: references\n",
      "Missing value for variable attribute for dNO3: units\n",
      "file format: NETCDF4\n",
      "Conventions: CF-1.6\n",
      "title: NO3 input field\n",
      "institution: Dept of Earth, Ocean & Atmospheric Sciences, University of British Columbia\n",
      "source: https://bitbucket.org/ccar-modeling/analysis-birgit/src/tip/notebooks/bio/IC.ipynb\n",
      "references: REQUIRED\n",
      "history: [2018-08-17 10:11:32] Created netCDF4 zlib=True dataset.\n",
      "comment: CanOE NO3 deposition field\n",
      "7.66851258536e-09\n",
      "Missing value for dataset attribute: references\n",
      "Missing value for variable attribute for dNO3: units\n",
      "file format: NETCDF4\n",
      "Conventions: CF-1.6\n",
      "title: NO3 input field\n",
      "institution: Dept of Earth, Ocean & Atmospheric Sciences, University of British Columbia\n",
      "source: https://bitbucket.org/ccar-modeling/analysis-birgit/src/tip/notebooks/bio/IC.ipynb\n",
      "references: REQUIRED\n",
      "history: [2018-08-17 10:11:49] Created netCDF4 zlib=True dataset.\n",
      "comment: CanOE NO3 deposition field\n",
      "3.16751287064e-08\n",
      "Missing value for dataset attribute: references\n",
      "Missing value for variable attribute for dNO3: units\n",
      "file format: NETCDF4\n",
      "Conventions: CF-1.6\n",
      "title: NO3 input field\n",
      "institution: Dept of Earth, Ocean & Atmospheric Sciences, University of British Columbia\n",
      "source: https://bitbucket.org/ccar-modeling/analysis-birgit/src/tip/notebooks/bio/IC.ipynb\n",
      "references: REQUIRED\n",
      "history: [2018-08-17 10:12:05] Created netCDF4 zlib=True dataset.\n",
      "comment: CanOE NO3 deposition field\n",
      "3.6041259917e-08\n",
      "Missing value for dataset attribute: references\n",
      "Missing value for variable attribute for dNO3: units\n",
      "file format: NETCDF4\n",
      "Conventions: CF-1.6\n",
      "title: NO3 input field\n",
      "institution: Dept of Earth, Ocean & Atmospheric Sciences, University of British Columbia\n",
      "source: https://bitbucket.org/ccar-modeling/analysis-birgit/src/tip/notebooks/bio/IC.ipynb\n",
      "references: REQUIRED\n",
      "history: [2018-08-17 10:12:22] Created netCDF4 zlib=True dataset.\n",
      "comment: CanOE NO3 deposition field\n",
      "2.53324894405e-08\n",
      "Missing value for dataset attribute: references\n",
      "Missing value for variable attribute for dNO3: units\n",
      "file format: NETCDF4\n",
      "Conventions: CF-1.6\n",
      "title: NO3 input field\n",
      "institution: Dept of Earth, Ocean & Atmospheric Sciences, University of British Columbia\n",
      "source: https://bitbucket.org/ccar-modeling/analysis-birgit/src/tip/notebooks/bio/IC.ipynb\n",
      "references: REQUIRED\n",
      "history: [2018-08-17 10:12:39] Created netCDF4 zlib=True dataset.\n",
      "comment: CanOE NO3 deposition field\n",
      "1.67685597184e-08\n",
      "Missing value for dataset attribute: references\n",
      "Missing value for variable attribute for dNO3: units\n"
     ]
    }
   ],
   "source": [
    "for i in range(1,13):\n",
    "    if i < 10:\n",
    "        save_NO3('dNO3_y'+str(year)+'m0'+str(i)+'.nc',a[i-1,:,:,:]) \n",
    "    else:\n",
    "        save_NO3('dNO3_y'+str(year)+'m'+str(i)+'.nc',a[i-1,:,:,:])"
   ]
  },
  {
   "cell_type": "code",
   "execution_count": 44,
   "metadata": {
    "collapsed": false
   },
   "outputs": [
    {
     "name": "stdout",
     "output_type": "stream",
     "text": [
      "1.43318257348e-08\n"
     ]
    }
   ],
   "source": [
    "m = nc.Dataset('./dNO3_y2002m01.nc')\n",
    "m1 = m.variables['dNO3']\n",
    "print(np.average(m1))"
   ]
  },
  {
   "cell_type": "markdown",
   "metadata": {},
   "source": [
    "###  In case you want to look at all input fields:"
   ]
  },
  {
   "cell_type": "code",
   "execution_count": null,
   "metadata": {
    "collapsed": false
   },
   "outputs": [],
   "source": [
    "NO3 = i_NO3\n",
    "\n",
    "fig = plt.figure(figsize=(12,12))\n",
    "ax1 = plt.subplot2grid((4, 3), (0, 0)) \n",
    "ax2 = plt.subplot2grid((4, 3), (0, 1)) \n",
    "ax3 = plt.subplot2grid((4, 3), (0, 2)) \n",
    "ax4 = plt.subplot2grid((4, 3), (1, 0)) \n",
    "ax5 = plt.subplot2grid((4, 3), (1, 1)) \n",
    "ax6 = plt.subplot2grid((4, 3), (1, 2)) \n",
    "ax7 = plt.subplot2grid((4, 3), (2, 0)) \n",
    "ax8 = plt.subplot2grid((4, 3), (2, 1)) \n",
    "ax9 = plt.subplot2grid((4, 3), (2, 2)) \n",
    "ax10 = plt.subplot2grid((4, 3), (3, 0)) \n",
    "ax11 = plt.subplot2grid((4, 3), (3, 1)) \n",
    "ax12 = plt.subplot2grid((4, 3), (3, 2)) \n",
    "\n",
    "m=Basemap(projection='eqdc',lat_0 = 77.5, lon_0 = -93, resolution='i', width=3.5e6, height=2.68e6)\n",
    "x1, y1 = m(lon,lat)\n",
    "x2, y2 = m(mlons, mlats)\n",
    "x2 = x2[::4,::4]\n",
    "y2 = y2[::4,::4]\n",
    "z2 = Z_masked[0,::4,::4]\n",
    "\n",
    "m.pcolor(x1,y1,NO3[0,0,:,:], cmap=cmocean.cm.deep, vmin=0, vmax=75, ax=ax1)\n",
    "ax1.set_title('Month 1')\n",
    "m.pcolor(x2,y2,z2, vmin=-1, vmax = 0.3, cmap=cmocean.cm.matter_r, ax=ax1)    \n",
    "m.pcolor(x1,y1,NO3[1,0,:,:], cmap=cmocean.cm.deep, vmin=0, vmax=75, ax=ax2)\n",
    "m.pcolor(x2,y2,z2, vmin=-1, vmax = 0.3, cmap=cmocean.cm.matter_r, ax=ax2)    \n",
    "ax2.set_title('Month 2')\n",
    "d=m.pcolor(x1,y1,NO3[2,0,:,:], cmap=cmocean.cm.deep, vmin=0, vmax=75, ax=ax3)\n",
    "m.pcolor(x2,y2,z2, vmin=-1, vmax = 0.3, cmap=cmocean.cm.matter_r, ax=ax3) \n",
    "ax3.set_title('Month 3')\n",
    "cbaxes = fig.add_axes([0.975, 0.15, 0.02, 0.7]) \n",
    "CBar = plt.colorbar(d, ax=ax3, cax=cbaxes) \n",
    "a = CBar.set_label('NO3', fontsize=16)\n",
    "CBar.ax.tick_params(axis='y', length=0, labelsize=16)\n",
    "\n",
    "m.pcolor(x1,y1,NO3[3,0,:,:], cmap=cmocean.cm.deep, vmin=0, vmax=75, ax=ax4)\n",
    "m.pcolor(x2,y2,z2, vmin=-1, vmax = 0.3, cmap=cmocean.cm.matter_r, ax=ax4) \n",
    "ax4.set_title('Month 4')\n",
    "m.pcolor(x1,y1,NO3[4,0,:,:], cmap=cmocean.cm.deep, vmin=0, vmax=75, ax=ax5)\n",
    "m.pcolor(x2,y2,z2, vmin=-1, vmax = 0.3, cmap=cmocean.cm.matter_r, ax=ax5) \n",
    "ax5.set_title('Month 5')\n",
    "m.pcolor(x1,y1,NO3[5,0,:,:], cmap=cmocean.cm.deep, vmin=0, vmax=75, ax=ax6)\n",
    "m.pcolor(x2,y2,z2, vmin=-1, vmax = 0.3, cmap=cmocean.cm.matter_r, ax=ax6) \n",
    "ax6.set_title('Month 6')\n",
    "m.pcolor(x1,y1,NO3[6,0,:,:], cmap=cmocean.cm.deep, vmin=0, vmax=75, ax=ax7)\n",
    "m.pcolor(x2,y2,z2, vmin=-1, vmax = 0.3, cmap=cmocean.cm.matter_r, ax=ax7) \n",
    "ax7.set_title('Month 7')\n",
    "m.pcolor(x1,y1,NO3[7,0,:,:], cmap=cmocean.cm.deep, vmin=0, vmax=75, ax=ax8)\n",
    "m.pcolor(x2,y2,z2, vmin=-1, vmax = 0.3, cmap=cmocean.cm.matter_r, ax=ax8) \n",
    "ax8.set_title('Month 8')\n",
    "m.pcolor(x1,y1,NO3[8,0,:,:], cmap=cmocean.cm.deep, vmin=0, vmax=75, ax=ax9)\n",
    "m.pcolor(x2,y2,z2, vmin=-1, vmax = 0.3, cmap=cmocean.cm.matter_r, ax=ax9) \n",
    "ax9.set_title('Month 9')\n",
    "m.pcolor(x1,y1,NO3[9,0,:,:], cmap=cmocean.cm.deep, vmin=0, vmax=75, ax=ax10)\n",
    "m.pcolor(x2,y2,z2, vmin=-1, vmax = 0.3, cmap=cmocean.cm.matter_r, ax=ax10) \n",
    "ax10.set_title('Month 10')\n",
    "m.pcolor(x1,y1,NO3[10,0,:,:], cmap=cmocean.cm.deep, vmin=0, vmax=75, ax=ax11)\n",
    "m.pcolor(x2,y2,z2, vmin=-1, vmax = 0.3, cmap=cmocean.cm.matter_r, ax=ax11) \n",
    "ax11.set_title('Month 11')\n",
    "m.pcolor(x1,y1,NO3[11,0,:,:], cmap=cmocean.cm.deep, vmin=0, vmax=75, ax=ax12)\n",
    "m.pcolor(x2,y2,z2, vmin=-1, vmax = 0.3, cmap=cmocean.cm.matter_r, ax=ax12) \n",
    "ax12.set_title('Month 12')"
   ]
  }
 ],
 "metadata": {
  "kernelspec": {
   "display_name": "Python 3",
   "language": "python",
   "name": "python3"
  },
  "language_info": {
   "codemirror_mode": {
    "name": "ipython",
    "version": 3
   },
   "file_extension": ".py",
   "mimetype": "text/x-python",
   "name": "python",
   "nbconvert_exporter": "python",
   "pygments_lexer": "ipython3",
   "version": "3.6.5"
  }
 },
 "nbformat": 4,
 "nbformat_minor": 2
}
