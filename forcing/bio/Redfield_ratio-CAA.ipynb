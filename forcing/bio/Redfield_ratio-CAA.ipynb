{
 "cells": [
  {
   "cell_type": "markdown",
   "metadata": {},
   "source": [
    "# Determine relation between NO3 and Mn in the CAA\n",
    "\n",
    "Use stations measured in the CAA and Canada Basin to find Redfield ratio for ratio of NO3 to Mn"
   ]
  },
  {
   "cell_type": "code",
   "execution_count": 1,
   "metadata": {},
   "outputs": [],
   "source": [
    "import numpy as np\n",
    "import matplotlib.pyplot as plt\n",
    "import csv\n",
    "from mpl_toolkits.basemap import Basemap, cm\n",
    "import netCDF4 as nc\n",
    "import cmocean\n",
    "import glob\n",
    "import pandas as pd \n",
    "from matplotlib.patches import ConnectionPatch\n",
    "import matplotlib as mpl\n",
    "import pandas as pd\n",
    "import warnings\n",
    "warnings.filterwarnings('ignore')\n",
    "\n",
    "%matplotlib inline"
   ]
  },
  {
   "cell_type": "code",
   "execution_count": 2,
   "metadata": {},
   "outputs": [],
   "source": [
    "import sys\n",
    "sys.path.insert(0, '/ocean/brogalla/GEOTRACES/analysis-brogalla/modules')\n",
    "import ariane as ar"
   ]
  },
  {
   "cell_type": "code",
   "execution_count": 3,
   "metadata": {},
   "outputs": [
    {
     "data": {
      "text/html": [
       "<script>\n",
       "code_show=true; \n",
       "function code_toggle() {\n",
       " if (code_show){\n",
       " $('div.input').hide();\n",
       " } else {\n",
       " $('div.input').show();\n",
       " }\n",
       " code_show = !code_show\n",
       "} \n",
       "$( document ).ready(code_toggle);\n",
       "</script>\n",
       "<form action=\"javascript:code_toggle()\"><input type=\"submit\" value=\"Click here to toggle on/off the raw code.\"></form>"
      ],
      "text/plain": [
       "<IPython.core.display.HTML object>"
      ]
     },
     "execution_count": 3,
     "metadata": {},
     "output_type": "execute_result"
    }
   ],
   "source": [
    "from IPython.display import HTML\n",
    "\n",
    "HTML('''<script>\n",
    "code_show=true; \n",
    "function code_toggle() {\n",
    " if (code_show){\n",
    " $('div.input').hide();\n",
    " } else {\n",
    " $('div.input').show();\n",
    " }\n",
    " code_show = !code_show\n",
    "} \n",
    "$( document ).ready(code_toggle);\n",
    "</script>\n",
    "<form action=\"javascript:code_toggle()\"><input type=\"submit\" value=\"Click here to toggle on/off the raw code.\"></form>''')\n"
   ]
  },
  {
   "cell_type": "markdown",
   "metadata": {},
   "source": [
    "Load Mn data:"
   ]
  },
  {
   "cell_type": "code",
   "execution_count": 4,
   "metadata": {},
   "outputs": [],
   "source": [
    "Mn_data = pd.read_csv('/ocean/brogalla/GEOTRACES/data/Mn_Integrated_Data_UBC-UVic_4-17-19.csv')"
   ]
  },
  {
   "cell_type": "code",
   "execution_count": 5,
   "metadata": {},
   "outputs": [],
   "source": [
    "dMn_BB1 = Mn_data['BB1'].dropna()[1:].astype('float')\n",
    "dMn_BB2 = Mn_data['BB2'].dropna()[1:].astype('float')\n",
    "dMn_BB3 = Mn_data['BB3'].dropna()[1:].astype('float')\n",
    "dMn_CB1 = Mn_data['CB1'].dropna()[1:].astype('float')\n",
    "dMn_CB2 = Mn_data['CB2'].dropna()[1:].astype('float')\n",
    "dMn_CB3 = Mn_data['CB3'].dropna()[1:].astype('float')\n",
    "dMn_CB4 = Mn_data['CB4'].dropna()[1:].astype('float')\n",
    "dMn_CAA1 = Mn_data['CAA1'].dropna()[1:].astype('float')\n",
    "dMn_CAA2 = Mn_data['CAA2'].dropna()[1:].astype('float')\n",
    "dMn_CAA3 = Mn_data['CAA3'].dropna()[1:].astype('float')\n",
    "dMn_CAA4 = Mn_data['CAA4'].dropna()[1:].astype('float')\n",
    "dMn_CAA5 = Mn_data['CAA5'].dropna()[1:].astype('float')\n",
    "dMn_CAA6 = Mn_data['CAA6'].dropna()[1:].astype('float')\n",
    "dMn_CAA7 = Mn_data['CAA7'].dropna()[1:].astype('float')\n",
    "dMn_CAA8 = Mn_data['CAA8'].dropna()[1:].astype('float')\n",
    "dMn_CAA9 = Mn_data['CAA9'].dropna()[1:].astype('float')"
   ]
  },
  {
   "cell_type": "code",
   "execution_count": 6,
   "metadata": {},
   "outputs": [],
   "source": [
    "depth_BB1 = Mn_data['Depth.2'].dropna()\n",
    "depth_BB2 = Mn_data['Depth.3'].dropna()\n",
    "depth_BB3 = Mn_data['Depth.4'].dropna()\n",
    "depth_CB1 = Mn_data['Depth.14'].dropna()\n",
    "depth_CB2 = Mn_data['Depth.15'].dropna()\n",
    "depth_CB3 = Mn_data['Depth.16'].dropna()\n",
    "depth_CB4 = Mn_data['Depth.17'].dropna()\n",
    "depth_CAA1 = Mn_data['Depth.5'].dropna()\n",
    "depth_CAA2 = Mn_data['Depth.6'].dropna()\n",
    "depth_CAA3 = Mn_data['Depth.7'].dropna()\n",
    "depth_CAA4 = Mn_data['Depth.8'].dropna()\n",
    "depth_CAA5 = Mn_data['Depth.9'].dropna()\n",
    "depth_CAA6 = Mn_data['Depth.10'].dropna()\n",
    "depth_CAA7 = Mn_data['Depth.11'].dropna()\n",
    "depth_CAA8 = Mn_data['Depth.12'].dropna()\n",
    "depth_CAA9 = Mn_data['Depth.13'].dropna()"
   ]
  },
  {
   "cell_type": "code",
   "execution_count": 7,
   "metadata": {},
   "outputs": [],
   "source": [
    "Pb_data = pd.read_csv('/ocean/brogalla/GEOTRACES/data/Pb-paper-data.csv')\n",
    "stn_names = Pb_data['Station names'].dropna().astype('str')\n",
    "lons = Pb_data['station lon'].astype('float').dropna().values\n",
    "lats = Pb_data['Station lat'].astype('float').dropna().values"
   ]
  },
  {
   "cell_type": "markdown",
   "metadata": {},
   "source": [
    "Load Nitrate data:"
   ]
  },
  {
   "cell_type": "code",
   "execution_count": 8,
   "metadata": {},
   "outputs": [],
   "source": [
    "NO3_leg2b = pd.read_csv('/ocean/brogalla/GEOTRACES/data/bio/NO3_data2.csv')\n",
    "NO3_leg3a = pd.read_csv('/ocean/brogalla/GEOTRACES/data/bio/NO3_data3.csv')"
   ]
  },
  {
   "cell_type": "code",
   "execution_count": 15,
   "metadata": {},
   "outputs": [],
   "source": [
    "lon_2b   = NO3_leg2b['Longitude [degrees_east]'].astype('float').values\n",
    "lat_2b   = NO3_leg2b['Latitude [degrees_north]'].astype('float').values\n",
    "depth_2b = NO3_leg2b['Depth [metres]'].astype('float').values\n",
    "NO3_2b   = NO3_leg2b['NTRA_01 [mmol/m**3]'].astype('float').values"
   ]
  },
  {
   "cell_type": "code",
   "execution_count": 12,
   "metadata": {},
   "outputs": [],
   "source": [
    "lon_3a   = NO3_leg3a['Longitude [degrees_east]'].astype('float').values\n",
    "lat_3a   = NO3_leg3a['Latitude [degrees_north]'].astype('float').values\n",
    "depth_3a = NO3_leg3a['Depth [metres]'].astype('float').values\n",
    "NO3_3a   = NO3_leg3a['NTRA_01 [mmol/m^3]'].astype('float').values"
   ]
  },
  {
   "cell_type": "code",
   "execution_count": 40,
   "metadata": {},
   "outputs": [],
   "source": [
    "for stn in range(2, 12):\n",
    "    # find indices associated with each station\n",
    "    min_val  = np.amin(np.abs(lon_2b - lons[stn]))\n",
    "    min_vals = [i for i, x in enumerate(np.abs(lon_2b - lons[stn])) if x == min_val]\n",
    "    \n",
    "    if stn==2:\n",
    "        NO3_BB1 = NO3_2b[min_vals]\n",
    "        dep_BB1 = depth_2b[min_vals]\n",
    "    elif stn==3:\n",
    "        NO3_BB2 = NO3_2b[min_vals]\n",
    "        dep_BB2 = depth_2b[min_vals]\n",
    "    elif stn==4:\n",
    "        NO3_BB3 = NO3_2b[min_vals]\n",
    "        dep_BB3 = depth_2b[min_vals]\n",
    "    elif stn==5:\n",
    "        NO3_CAA1 = NO3_2b[min_vals]\n",
    "        dep_CAA1 = depth_2b[min_vals]\n",
    "    elif stn==6:\n",
    "        NO3_CAA2 = NO3_2b[min_vals]\n",
    "        dep_CAA2 = depth_2b[min_vals]\n",
    "    elif stn==7:\n",
    "        NO3_CAA3 = NO3_2b[min_vals]\n",
    "        dep_CAA3 = depth_2b[min_vals]\n",
    "    elif stn==8:\n",
    "        NO3_CAA4 = NO3_2b[min_vals]\n",
    "        dep_CAA4 = depth_2b[min_vals]\n",
    "    elif stn==9:\n",
    "        NO3_CAA5 = NO3_2b[min_vals]\n",
    "        dep_CAA5 = depth_2b[min_vals]\n",
    "    elif stn==10:\n",
    "        NO3_CAA6 = NO3_2b[min_vals]\n",
    "        dep_CAA6 = depth_2b[min_vals]\n",
    "    elif stn==11:\n",
    "        NO3_CAA7 = NO3_2b[min_vals]\n",
    "        dep_CAA7 = depth_2b[min_vals]"
   ]
  },
  {
   "cell_type": "code",
   "execution_count": 41,
   "metadata": {},
   "outputs": [],
   "source": [
    "for stn in range(12, 18):\n",
    "    # find indices associated with each station\n",
    "    min_val  = np.amin(np.abs(lon_3a - lons[stn]))\n",
    "    min_vals = [i for i, x in enumerate(np.abs(lon_3a - lons[stn])) if x == min_val]\n",
    "    \n",
    "    if stn==12:\n",
    "        NO3_CAA8 = NO3_3a[min_vals]\n",
    "        dep_CAA8 = depth_3a[min_vals]\n",
    "    elif stn==13:\n",
    "        NO3_CAA9 = NO3_3a[min_vals]\n",
    "        dep_CAA9 = depth_3a[min_vals]\n",
    "    elif stn==14:\n",
    "        NO3_CB1 = NO3_3a[min_vals]\n",
    "        dep_CB1 = depth_3a[min_vals]\n",
    "    elif stn==15:\n",
    "        NO3_CB2 = NO3_3a[min_vals]\n",
    "        dep_CB2 = depth_3a[min_vals]\n",
    "    elif stn==16:\n",
    "        NO3_CB3 = NO3_3a[min_vals]\n",
    "        dep_CB3 = depth_3a[min_vals]\n",
    "    elif stn==17:\n",
    "        NO3_CB4 = NO3_3a[min_vals]\n",
    "        dep_CB4 = depth_3a[min_vals]"
   ]
  },
  {
   "cell_type": "markdown",
   "metadata": {},
   "source": [
    "For each station find similar depths:"
   ]
  },
  {
   "cell_type": "code",
   "execution_count": 65,
   "metadata": {},
   "outputs": [],
   "source": [
    "def assoc_depth(depth_stn, dep_NO3, NO3_stn):\n",
    "    depth_NO3 = np.empty_like(depth_stn)\n",
    "    stn_NO3   = np.empty_like(depth_stn)\n",
    "    i=0\n",
    "\n",
    "    for depth in depth_stn:\n",
    "        min_val  = np.argmin(np.abs(dep_NO3 - depth))\n",
    "        if np.abs(dep_NO3[min_val] - depth) > 10:\n",
    "            depth_NO3[i] = np.nan\n",
    "            stn_NO3[i]   = np.nan\n",
    "        else:\n",
    "            depth_NO3[i] = dep_NO3[min_val]\n",
    "            stn_NO3[i]   = NO3_stn[min_val]\n",
    "        i+=1\n",
    "        \n",
    "    return depth_NO3, stn_NO3"
   ]
  },
  {
   "cell_type": "code",
   "execution_count": 66,
   "metadata": {},
   "outputs": [],
   "source": [
    "depth_NO3_BB1, dNO3_BB1 = assoc_depth(depth_BB1, dep_BB1, NO3_BB1)\n",
    "depth_NO3_BB2, dNO3_BB2 = assoc_depth(depth_BB2, dep_BB2, NO3_BB2)\n",
    "depth_NO3_BB3, dNO3_BB3 = assoc_depth(depth_BB3, dep_BB3, NO3_BB3)"
   ]
  },
  {
   "cell_type": "code",
   "execution_count": 67,
   "metadata": {},
   "outputs": [],
   "source": [
    "depth_NO3_CB1, dNO3_CB1 = assoc_depth(depth_CB1, dep_CB1, NO3_CB1)\n",
    "depth_NO3_CB2, dNO3_CB2 = assoc_depth(depth_CB2, dep_CB2, NO3_CB2)\n",
    "depth_NO3_CB3, dNO3_CB3 = assoc_depth(depth_CB3, dep_CB3, NO3_CB3)"
   ]
  },
  {
   "cell_type": "code",
   "execution_count": 68,
   "metadata": {},
   "outputs": [],
   "source": [
    "depth_NO3_CAA1, dNO3_CAA1 = assoc_depth(depth_CAA1, dep_CAA1, NO3_CAA1)\n",
    "depth_NO3_CAA2, dNO3_CAA2 = assoc_depth(depth_CAA2, dep_CAA2, NO3_CAA2)\n",
    "depth_NO3_CAA3, dNO3_CAA3 = assoc_depth(depth_CAA3, dep_CAA3, NO3_CAA3)\n",
    "depth_NO3_CAA4, dNO3_CAA4 = assoc_depth(depth_CAA4, dep_CAA4, NO3_CAA4)\n",
    "depth_NO3_CAA5, dNO3_CAA5 = assoc_depth(depth_CAA5, dep_CAA5, NO3_CAA5)\n",
    "depth_NO3_CAA6, dNO3_CAA6 = assoc_depth(depth_CAA6, dep_CAA6, NO3_CAA6)\n",
    "depth_NO3_CAA7, dNO3_CAA7 = assoc_depth(depth_CAA7, dep_CAA7, NO3_CAA7)\n",
    "depth_NO3_CAA8, dNO3_CAA8 = assoc_depth(depth_CAA8, dep_CAA8, NO3_CAA8)\n",
    "depth_NO3_CAA9, dNO3_CAA9 = assoc_depth(depth_CAA9, dep_CAA9, NO3_CAA9)"
   ]
  },
  {
   "cell_type": "markdown",
   "metadata": {},
   "source": [
    "Plot relation:"
   ]
  },
  {
   "cell_type": "code",
   "execution_count": 71,
   "metadata": {},
   "outputs": [],
   "source": [
    "colors=['#124160', '#149e89', '#c4894e', '#97806d', '#541428', '#7d9964', \\\n",
    "       '#9a4571', '#8cd52f', '#ffac44', '#466b94', '#c0d6e4', '#d04538', \\\n",
    "       '#fed12d', '#d57500', '#8d1673']"
   ]
  },
  {
   "cell_type": "code",
   "execution_count": 95,
   "metadata": {},
   "outputs": [],
   "source": [
    "ratio = 0.36e-3*(1/16.) #Mn:NO3"
   ]
  },
  {
   "cell_type": "code",
   "execution_count": 97,
   "metadata": {},
   "outputs": [
    {
     "data": {
      "text/plain": [
       "<matplotlib.legend.Legend at 0x7f8949414e48>"
      ]
     },
     "execution_count": 97,
     "metadata": {},
     "output_type": "execute_result"
    },
    {
     "data": {
      "image/png": "[encoded data removed]",
      "text/plain": [
       "<Figure size 576x576 with 1 Axes>"
      ]
     },
     "metadata": {
      "needs_background": "light"
     },
     "output_type": "display_data"
    }
   ],
   "source": [
    "fig, ax = plt.subplots(1,1, figsize=(8,8))\n",
    "\n",
    "ax.plot(dNO3_CB1, dMn_CB1, '.', c=colors[9], markersize=12, label='CB1')\n",
    "ax.plot(dNO3_CB2, dMn_CB2, '.', c=colors[10], markersize=12, label='CB2')\n",
    "ax.plot(dNO3_CB3[dNO3_CB3 > 0], dMn_CB3[dNO3_CB3 > 0], '.', c=colors[11], markersize=12, label='CB3')\n",
    "\n",
    "ax.plot(dNO3_BB1, dMn_BB1, '.', c=colors[12], markersize=12, label='BB1')\n",
    "ax.plot(dNO3_BB2, dMn_BB2, '.', c=colors[13], markersize=12, label='BB2')\n",
    "ax.plot(dNO3_BB3, dMn_BB3, '.', c=colors[14], markersize=12, label='BB3')\n",
    "\n",
    "ax.plot(dNO3_CAA1, dMn_CAA1, '.', c=colors[0], markersize=12, label='CAA1')\n",
    "ax.plot(dNO3_CAA2, dMn_CAA2, '.', c=colors[1], markersize=12, label='CAA2')\n",
    "ax.plot(dNO3_CAA3, dMn_CAA3, '.', c=colors[2], markersize=12, label='CAA3')\n",
    "ax.plot(dNO3_CAA4, dMn_CAA4, '.', c=colors[3], markersize=12, label='CAA4')\n",
    "ax.plot(dNO3_CAA5, dMn_CAA5, '.', c=colors[4], markersize=12, label='CAA5')\n",
    "ax.plot(dNO3_CAA6, dMn_CAA6, '.', c=colors[5], markersize=12, label='CAA6')\n",
    "ax.plot(dNO3_CAA7, dMn_CAA7, '.', c=colors[6], markersize=12, label='CAA7')\n",
    "ax.plot(dNO3_CAA8, dMn_CAA8, '.', c=colors[7], markersize=12, label='CAA8')\n",
    "ax.plot(dNO3_CAA9, dMn_CAA9, '.', c=colors[8], markersize=12, label='CAA9')\n",
    "\n",
    "x = np.linspace(0, 20, 20)\n",
    "ax.plot(x, x*ratio*1e3, '--k')\n",
    "\n",
    "ax.set_xlabel(r'Nitrate [$\\mu$M]', fontsize=14)\n",
    "ax.set_ylabel('Mangenese [nM]', fontsize=14)\n",
    "\n",
    "ax.legend(bbox_to_anchor=(1.25, 1.00), fontsize=14)"
   ]
  },
  {
   "cell_type": "code",
   "execution_count": null,
   "metadata": {},
   "outputs": [],
   "source": []
  },
  {
   "cell_type": "code",
   "execution_count": null,
   "metadata": {},
   "outputs": [],
   "source": []
  },
  {
   "cell_type": "code",
   "execution_count": null,
   "metadata": {},
   "outputs": [],
   "source": []
  }
 ],
 "metadata": {
  "kernelspec": {
   "display_name": "Python 3",
   "language": "python",
   "name": "python3"
  },
  "language_info": {
   "codemirror_mode": {
    "name": "ipython",
    "version": 3
   },
   "file_extension": ".py",
   "mimetype": "text/x-python",
   "name": "python",
   "nbconvert_exporter": "python",
   "pygments_lexer": "ipython3",
   "version": "3.7.3"
  }
 },
 "nbformat": 4,
 "nbformat_minor": 2
}
