{
 "cells": [
  {
   "cell_type": "markdown",
   "metadata": {},
   "source": [
    "# Fix units of emp:\n",
    "\n",
    "Emp is the concentrating rate in m/s.  At one of the points where the model is going unstable (157, 32) it's 0.159 m/s. Emp might be in kg/m2/s --> to convert divide by rho."
   ]
  },
  {
   "cell_type": "code",
   "execution_count": 31,
   "metadata": {
    "collapsed": true
   },
   "outputs": [],
   "source": [
    "import matplotlib.pyplot as plt\n",
    "import netCDF4 as nc\n",
    "import numpy as np\n",
    "\n",
    "from salishsea_tools import (\n",
    "    nc_tools,\n",
    "    viz_tools,\n",
    ")\n",
    "\n",
    "%matplotlib inline"
   ]
  },
  {
   "cell_type": "code",
   "execution_count": 96,
   "metadata": {
    "collapsed": true
   },
   "outputs": [],
   "source": [
    "folder = '/ocean/brogalla/GEOTRACES/data/ANHA12/'\n",
    "file1 = 'ANHA12-EXH006_5d_icemod_y2002m01d25.nc'"
   ]
  },
  {
   "cell_type": "code",
   "execution_count": 97,
   "metadata": {
    "collapsed": true
   },
   "outputs": [],
   "source": [
    "ice = nc.Dataset(folder+file1)"
   ]
  },
  {
   "cell_type": "code",
   "execution_count": 98,
   "metadata": {
    "collapsed": false
   },
   "outputs": [
    {
     "data": {
      "text/plain": [
       "<class 'netCDF4._netCDF4.Dataset'>\n",
       "root group (NETCDF4 data model, file format HDF5):\n",
       "    Conventions: GDT 1.3\n",
       "    file_name: ANHA12-EXH006_y2002m01d25_icemod.nc\n",
       "    production: OPA9.0 beta\n",
       "    TimeStamp: 2016-APR-26 01:11:34 GMT-0600\n",
       "    dimensions(sizes): x(1632), y(2400), deptht(1), time_counter(1)\n",
       "    variables(dimensions): float32 \u001b[4mnav_lon\u001b[0m(y,x), float32 \u001b[4mnav_lat\u001b[0m(y,x), float32 \u001b[4mdeptht\u001b[0m(deptht), float32 \u001b[4mtime_counter\u001b[0m(time_counter), float32 \u001b[4misnowthi\u001b[0m(time_counter,y,x), float32 \u001b[4miicethic\u001b[0m(time_counter,y,x), float32 \u001b[4miiceprod\u001b[0m(time_counter,y,x), float32 \u001b[4mileadfra\u001b[0m(time_counter,y,x), float32 \u001b[4miicetemp\u001b[0m(time_counter,y,x), float32 \u001b[4mioceflxb\u001b[0m(time_counter,y,x), float32 \u001b[4miicevelu\u001b[0m(time_counter,y,x), float32 \u001b[4miicevelv\u001b[0m(time_counter,y,x), float32 \u001b[4misstempe\u001b[0m(time_counter,y,x), float32 \u001b[4misssalin\u001b[0m(time_counter,y,x), float32 \u001b[4miocetflx\u001b[0m(time_counter,y,x), float32 \u001b[4miocesflx\u001b[0m(time_counter,y,x), float32 \u001b[4miocwnsfl\u001b[0m(time_counter,y,x), float32 \u001b[4miocesafl\u001b[0m(time_counter,y,x), float32 \u001b[4miwinstru\u001b[0m(time_counter,y,x), float32 \u001b[4miwinstrv\u001b[0m(time_counter,y,x), float32 \u001b[4miicesflx\u001b[0m(time_counter,y,x), float32 \u001b[4miicenflx\u001b[0m(time_counter,y,x), float32 \u001b[4misnowpre\u001b[0m(time_counter,y,x)\n",
       "    groups: "
      ]
     },
     "execution_count": 98,
     "metadata": {},
     "output_type": "execute_result"
    }
   ],
   "source": [
    "ice"
   ]
  },
  {
   "cell_type": "code",
   "execution_count": 99,
   "metadata": {
    "collapsed": true
   },
   "outputs": [],
   "source": [
    "emp = ice.variables['iicesflx']\n",
    "emp = np.array(emp)"
   ]
  },
  {
   "cell_type": "code",
   "execution_count": 100,
   "metadata": {
    "collapsed": true
   },
   "outputs": [],
   "source": [
    "temp = ice.variables['isstempe']\n",
    "sali = ice.variables['isssalin']\n",
    "temp = np.array(temp)\n",
    "sali = np.array(sali)"
   ]
  },
  {
   "cell_type": "code",
   "execution_count": 101,
   "metadata": {
    "collapsed": true
   },
   "outputs": [],
   "source": [
    "sn_ice = ice.variables['ileadfra']\n",
    "sn_wnd = ice.variables['iwinstru']\n",
    "sn_ice = np.array(sn_ice)\n",
    "sn_wnd = np.array(sn_wnd)"
   ]
  },
  {
   "cell_type": "markdown",
   "metadata": {},
   "source": [
    "Convert T and S to density:"
   ]
  },
  {
   "cell_type": "code",
   "execution_count": 102,
   "metadata": {
    "collapsed": true
   },
   "outputs": [],
   "source": [
    "def calculate_density(t, s):\n",
    "    # function from salishsea psu_tools!\n",
    "    \"\"\"Calculates the density given temperature in deg C (t)\n",
    "    and salinity in psu (s). The reference for this calculation is:\n",
    "    Pond and Pickard, (1983). Introductory Dynamical Oceanography\n",
    "\n",
    "    :arg t: temperature array in deg C\n",
    "    :type t: numpy array\n",
    "\n",
    "    :arg s: salinity array in psu\n",
    "    :type s: numpy array\n",
    "\n",
    "    :returns: the density as an array (rho) in kg/m^3\n",
    "    \"\"\"\n",
    "\n",
    "    rho = (\n",
    "        999.842594 + 6.793952e-2 * t\n",
    "        - 9.095290e-3 * t*t + 1.001685e-4 * t*t*t\n",
    "        - 1.120083e-6 * t*t*t*t + 6.536332e-9 * t*t*t*t*t\n",
    "        + 8.24493e-1 * s - 4.0899e-3 * t*s\n",
    "        + 7.6438e-5 * t*t*s - 8.2467e-7 * t*t*t*s\n",
    "        + 5.3875e-9 * t*t*t*t*s - 5.72466e-3 * s**1.5\n",
    "        + 1.0227e-4 * t*s**1.5 - 1.6546e-6 * t*t*s**1.5\n",
    "        + 4.8314e-4 * s*s\n",
    "        )\n",
    "\n",
    "    return rho"
   ]
  },
  {
   "cell_type": "code",
   "execution_count": 103,
   "metadata": {
    "collapsed": true
   },
   "outputs": [],
   "source": [
    "rho = calculate_density(temp,sali)"
   ]
  },
  {
   "cell_type": "code",
   "execution_count": 104,
   "metadata": {
    "collapsed": false
   },
   "outputs": [
    {
     "name": "stdout",
     "output_type": "stream",
     "text": [
      "(1, 2400, 1632)\n",
      "(1, 2400, 1632)\n"
     ]
    }
   ],
   "source": [
    "print(rho.shape)\n",
    "print(emp.shape)"
   ]
  },
  {
   "cell_type": "code",
   "execution_count": 105,
   "metadata": {
    "collapsed": false
   },
   "outputs": [
    {
     "name": "stdout",
     "output_type": "stream",
     "text": [
      "326.873\n",
      "0.0\n",
      "30.7726\n"
     ]
    }
   ],
   "source": [
    "print(np.amax(emp))\n",
    "print(np.amin(emp))\n",
    "print(np.average(emp))"
   ]
  },
  {
   "cell_type": "code",
   "execution_count": 106,
   "metadata": {
    "collapsed": true
   },
   "outputs": [],
   "source": [
    "emp_fixed = np.divide(emp, rho)"
   ]
  },
  {
   "cell_type": "code",
   "execution_count": 107,
   "metadata": {
    "collapsed": false
   },
   "outputs": [
    {
     "name": "stdout",
     "output_type": "stream",
     "text": [
      "0.319346\n",
      "0.0\n",
      "0.0300482\n"
     ]
    }
   ],
   "source": [
    "print(np.amax(emp_fixed))\n",
    "print(np.amin(emp_fixed))\n",
    "print(np.average(emp_fixed))"
   ]
  },
  {
   "cell_type": "markdown",
   "metadata": {},
   "source": [
    "### Create NetCDF file:"
   ]
  },
  {
   "cell_type": "code",
   "execution_count": 108,
   "metadata": {
    "collapsed": false
   },
   "outputs": [],
   "source": [
    "# Load structure from sample dataset:\n",
    "BX = ice.dimensions['x']\n",
    "BY = ice.dimensions['y']"
   ]
  },
  {
   "cell_type": "code",
   "execution_count": 109,
   "metadata": {
    "collapsed": false
   },
   "outputs": [
    {
     "name": "stdout",
     "output_type": "stream",
     "text": [
      "file format: NETCDF4\n",
      "Conventions: CF-1.6\n",
      "title: ANHA12 icemod\n",
      "institution: Dept of Earth, Ocean & Atmospheric Sciences, University of British Columbia\n",
      "source: https://bitbucket.org/ccar-modeling/analysis-birgit/src/tip/notebooks/ANHA12/fix_emp_ice.ipynb\n",
      "references: REQUIRED\n",
      "history: [2018-07-16 11:05:25] Created netCDF4 zlib=True dataset.\n",
      "comment: Emp adjusted ANHA12 mesh file\n"
     ]
    },
    {
     "data": {
      "text/plain": [
       "<class 'netCDF4._netCDF4.Dimension'> (unlimited): name = 't', size = 0"
      ]
     },
     "execution_count": 109,
     "metadata": {},
     "output_type": "execute_result"
    }
   ],
   "source": [
    "# Setup the new NetCDF file:\n",
    "ncd = nc.Dataset('ANHA12-EXH006_5d_icemod_y2002m01d25-fixed.nc', 'w', zlib=True)\n",
    "nc_tools.init_dataset_attrs(\n",
    "    ncd,\n",
    "    title='ANHA12 icemod',\n",
    "    notebook_name='fix_emp_ice',\n",
    "    nc_filepath='./.nc',\n",
    "    comment='Emp adjusted ANHA12 mesh file')\n",
    "\n",
    "ncd.createDimension('x',len(BX))\n",
    "ncd.createDimension('y',len(BY))\n",
    "ncd.createDimension('t',None)"
   ]
  },
  {
   "cell_type": "code",
   "execution_count": 110,
   "metadata": {
    "collapsed": false
   },
   "outputs": [],
   "source": [
    "iicesflx = ncd.createVariable('iicesflx', 'float32', ('t','y','x'))\n",
    "iicesflx.long_name = 'Solar flux at ice/ocean surface'\n",
    "iicesflx.units = 'm/s'\n",
    "iicesflx[:] = emp_fixed\n",
    "\n",
    "ileadfra = ncd.createVariable('ileadfra', 'float32', ('t','y','x'))\n",
    "ileadfra.long_name = 'Ice concentration'\n",
    "ileadfra.units = '%'\n",
    "ileadfra[:] = sn_ice\n",
    "\n",
    "iwinstru = ncd.createVariable('iwinstru', 'float32', ('t','y','x'))\n",
    "iwinstru.long_name = 'Wind ice stress u'\n",
    "iwinstru.units = 'Pa'\n",
    "iwinstru[:] = sn_wnd"
   ]
  },
  {
   "cell_type": "code",
   "execution_count": 111,
   "metadata": {
    "collapsed": false
   },
   "outputs": [
    {
     "name": "stdout",
     "output_type": "stream",
     "text": [
      "Missing value for dataset attribute: references\n"
     ]
    }
   ],
   "source": [
    "nc_tools.check_dataset_attrs(ncd)\n",
    "ncd.close()"
   ]
  },
  {
   "cell_type": "code",
   "execution_count": null,
   "metadata": {
    "collapsed": true
   },
   "outputs": [],
   "source": []
  }
 ],
 "metadata": {
  "kernelspec": {
   "display_name": "Python 3",
   "language": "python",
   "name": "python3"
  },
  "language_info": {
   "codemirror_mode": {
    "name": "ipython",
    "version": 3
   },
   "file_extension": ".py",
   "mimetype": "text/x-python",
   "name": "python",
   "nbconvert_exporter": "python",
   "pygments_lexer": "ipython3",
   "version": "3.6.5"
  }
 },
 "nbformat": 4,
 "nbformat_minor": 2
}
