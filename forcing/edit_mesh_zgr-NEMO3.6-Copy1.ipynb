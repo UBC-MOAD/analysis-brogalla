{
 "cells": [
  {
   "cell_type": "markdown",
   "metadata": {},
   "source": [
    "# Edit mesh_zgr file\n",
    "\n",
    "mesh_zgr variables in NEMO 3.4 are different from NEMO 3.6. In this Notebook I change the ANHA12 mesh_zgr file variable names to match those for NEMO 3.6"
   ]
  },
  {
   "cell_type": "code",
   "execution_count": 1,
   "metadata": {
    "collapsed": true
   },
   "outputs": [],
   "source": [
    "import matplotlib.pyplot as plt\n",
    "import netCDF4 as nc\n",
    "import numpy as np\n",
    "\n",
    "from salishsea_tools import (\n",
    "    nc_tools,\n",
    "    viz_tools,\n",
    ")\n",
    "\n",
    "%matplotlib inline"
   ]
  },
  {
   "cell_type": "code",
   "execution_count": 2,
   "metadata": {
    "collapsed": true
   },
   "outputs": [],
   "source": [
    "folder = '/ocean/brogalla/GEOTRACES/data/'\n",
    "file1 = 'ANHA12_mesh_zgr.nc'\n",
    "file2 = 'ANHA12_mesh_zgr4.nc'"
   ]
  },
  {
   "cell_type": "code",
   "execution_count": 3,
   "metadata": {
    "collapsed": false
   },
   "outputs": [],
   "source": [
    "mesh_zgr = nc.Dataset(folder + file1)"
   ]
  },
  {
   "cell_type": "code",
   "execution_count": 4,
   "metadata": {
    "collapsed": false,
    "scrolled": true
   },
   "outputs": [
    {
     "data": {
      "text/plain": [
       "<class 'netCDF4._netCDF4.Dataset'>\n",
       "root group (NETCDF4_CLASSIC data model, file format HDF5):\n",
       "    file_name: mesh_zgr.nc\n",
       "    TimeStamp: 23/06/2016 19:52:03 -0600\n",
       "    history: Wed Jan 18 17:20:47 2017: ncks -A -v e3w /lustre/home/xianmin/TMP_RUN_ANHA12-EXH006/mesh_mask.nc ANHA12_mesh_zgr.nc\n",
       "Wed Jan 18 17:19:05 2017: ncks -A -v e3v /lustre/home/xianmin/TMP_RUN_ANHA12-EXH006/mesh_mask.nc ANHA12_mesh_zgr.nc\n",
       "Wed Jan 18 17:17:05 2017: ncks -A -v e3u /lustre/home/xianmin/TMP_RUN_ANHA12-EXH006/mesh_mask.nc ANHA12_mesh_zgr.nc\n",
       "Wed Jan 18 17:15:07 2017: ncks -A -v e3t /lustre/home/xianmin/TMP_RUN_ANHA12-EXH006/mesh_mask.nc ANHA12_mesh_zgr.nc\n",
       "Fri Jun 24 09:04:51 2016: ncks -A -v tmask ANHA12_mask.nc ANHA12_mesh_zgr.nc\n",
       "    NCO: 4.3.7\n",
       "    dimensions(sizes): x(1632), y(2400), z(50), t(1)\n",
       "    variables(dimensions): float32 \u001b[4mnav_lon\u001b[0m(y,x), float32 \u001b[4mnav_lat\u001b[0m(y,x), float32 \u001b[4mnav_lev\u001b[0m(z), float64 \u001b[4mtime_counter\u001b[0m(t), int16 \u001b[4mmbathy\u001b[0m(t,y,x), float64 \u001b[4me3t_ps\u001b[0m(t,y,x), float64 \u001b[4me3w_ps\u001b[0m(t,y,x), float32 \u001b[4mhdept\u001b[0m(t,y,x), float32 \u001b[4mhdepw\u001b[0m(t,y,x), float64 \u001b[4mgdept_0\u001b[0m(t,z), float64 \u001b[4mgdepw_0\u001b[0m(t,z), float64 \u001b[4me3t_0\u001b[0m(t,z), float64 \u001b[4me3w_0\u001b[0m(t,z), int8 \u001b[4mtmask\u001b[0m(t,z,y,x), float32 \u001b[4me3t\u001b[0m(t,z,y,x), float32 \u001b[4me3u\u001b[0m(t,z,y,x), float32 \u001b[4me3v\u001b[0m(t,z,y,x), float32 \u001b[4me3w\u001b[0m(t,z,y,x)\n",
       "    groups: "
      ]
     },
     "execution_count": 4,
     "metadata": {},
     "output_type": "execute_result"
    }
   ],
   "source": [
    "mesh_zgr"
   ]
  },
  {
   "cell_type": "code",
   "execution_count": 5,
   "metadata": {
    "collapsed": false
   },
   "outputs": [],
   "source": [
    "mesh_zgr9 = nc.Dataset('ANHA12_mesh_zgr9.nc')\n",
    "mesh_zgr11 = nc.Dataset('ANHA12_mesh_zgr11.nc')"
   ]
  },
  {
   "cell_type": "code",
   "execution_count": 6,
   "metadata": {
    "collapsed": false
   },
   "outputs": [
    {
     "data": {
      "text/plain": [
       "<class 'netCDF4._netCDF4.Dataset'>\n",
       "root group (NETCDF4 data model, file format HDF5):\n",
       "    Conventions: CF-1.6\n",
       "    title: ANHA12 mesh_zgr\n",
       "    institution: Dept of Earth, Ocean & Atmospheric Sciences, University of British Columbia\n",
       "    source: https://bitbucket.org/ccar-modeling/analysis-birgit/src/tip/notebooks/ANHA12/create_meshmask.ipynb\n",
       "    references: REQUIRED\n",
       "    history: [2017-10-27 10:00:43] Created netCDF4 zlib=True dataset.\n",
       "    comment: Edited ANHA12 mesh_zgr file\n",
       "    dimensions(sizes): x(1632), y(2400), z(50), t(1)\n",
       "    variables(dimensions): float32 \u001b[4mnav_lat\u001b[0m(y,x), float32 \u001b[4mnav_lon\u001b[0m(y,x), float32 \u001b[4mnav_lev\u001b[0m(z), float64 \u001b[4mtime_counter\u001b[0m(t), int16 \u001b[4mmbathy\u001b[0m(y,x), float64 \u001b[4me3t_ps\u001b[0m(t,y,x), float64 \u001b[4me3w_ps\u001b[0m(t,y,x), float32 \u001b[4mhdept\u001b[0m(y,x), float32 \u001b[4mhdepw\u001b[0m(y,x), float64 \u001b[4mgdept_1d\u001b[0m(z), float64 \u001b[4mgdepw_1d\u001b[0m(z), float64 \u001b[4me3t_1d\u001b[0m(z), float64 \u001b[4me3w_1d\u001b[0m(z), int8 \u001b[4mtmask\u001b[0m(t,z,y,x), float32 \u001b[4me3t_0\u001b[0m(z,y,x), float32 \u001b[4me3u_0\u001b[0m(z,y,x), float32 \u001b[4me3v_0\u001b[0m(z,y,x), float32 \u001b[4me3w_0\u001b[0m(z,y,x)\n",
       "    groups: "
      ]
     },
     "execution_count": 6,
     "metadata": {},
     "output_type": "execute_result"
    }
   ],
   "source": [
    "mesh_zgr9"
   ]
  },
  {
   "cell_type": "code",
   "execution_count": 7,
   "metadata": {
    "collapsed": false
   },
   "outputs": [],
   "source": [
    "a = mesh_zgr9.variables['e3t_0']\n",
    "a = np.array(a)"
   ]
  },
  {
   "cell_type": "code",
   "execution_count": 8,
   "metadata": {
    "collapsed": false
   },
   "outputs": [],
   "source": [
    "b = mesh_zgr11.variables['e3t_0']\n",
    "b = np.array(b)"
   ]
  },
  {
   "cell_type": "code",
   "execution_count": 9,
   "metadata": {
    "collapsed": false
   },
   "outputs": [
    {
     "data": {
      "text/plain": [
       "<class 'netCDF4._netCDF4.Variable'>\n",
       "float32 e3t(t, z, y, x)\n",
       "unlimited dimensions: t\n",
       "current shape = (1, 50, 2400, 1632)\n",
       "filling on, default _FillValue of 9.969209968386869e+36 used"
      ]
     },
     "execution_count": 9,
     "metadata": {},
     "output_type": "execute_result"
    }
   ],
   "source": [
    "c = mesh_zgr.variables['e3t']\n",
    "c"
   ]
  },
  {
   "cell_type": "code",
   "execution_count": 10,
   "metadata": {
    "collapsed": false
   },
   "outputs": [
    {
     "name": "stdout",
     "output_type": "stream",
     "text": [
      "697.526\n"
     ]
    }
   ],
   "source": [
    "c = np.array(c)\n",
    "print(np.amax(c))"
   ]
  },
  {
   "cell_type": "markdown",
   "metadata": {},
   "source": [
    "### Create new NetCDF file:"
   ]
  },
  {
   "cell_type": "code",
   "execution_count": 11,
   "metadata": {
    "collapsed": true
   },
   "outputs": [],
   "source": [
    "# Load structure from sample dataset:\n",
    "lat = mesh_zgr.variables['nav_lat']\n",
    "lon = mesh_zgr.variables['nav_lon']\n",
    "BX = mesh_zgr.dimensions['x']\n",
    "BY = mesh_zgr.dimensions['y']\n",
    "BZ = mesh_zgr.dimensions['z']\n",
    "t = mesh_zgr.dimensions['t']"
   ]
  },
  {
   "cell_type": "code",
   "execution_count": 12,
   "metadata": {
    "collapsed": false
   },
   "outputs": [
    {
     "data": {
      "text/plain": [
       "1"
      ]
     },
     "execution_count": 12,
     "metadata": {},
     "output_type": "execute_result"
    }
   ],
   "source": [
    "len(t)"
   ]
  },
  {
   "cell_type": "code",
   "execution_count": 13,
   "metadata": {
    "collapsed": false
   },
   "outputs": [
    {
     "name": "stdout",
     "output_type": "stream",
     "text": [
      "file format: NETCDF4\n",
      "Conventions: CF-1.6\n",
      "title: ANHA12 mesh_zgr\n",
      "institution: Dept of Earth, Ocean & Atmospheric Sciences, University of British Columbia\n",
      "source: https://bitbucket.org/ccar-modeling/analysis-birgit/src/tip/notebooks/ANHA12/create_meshmask.ipynb\n",
      "references: REQUIRED\n",
      "history: [2018-03-29 13:53:58] Created netCDF4 zlib=True dataset.\n",
      "comment: Edited ANHA12 mesh_zgr file\n"
     ]
    },
    {
     "data": {
      "text/plain": [
       "<class 'netCDF4._netCDF4.Dimension'> (unlimited): name = 't', size = 0"
      ]
     },
     "execution_count": 13,
     "metadata": {},
     "output_type": "execute_result"
    }
   ],
   "source": [
    "# Setup the new NetCDF file:\n",
    "ncd = nc.Dataset('ANHA12_mesh_zgr12.nc', 'w', zlib=True)\n",
    "nc_tools.init_dataset_attrs(\n",
    "    ncd,\n",
    "    title='ANHA12 mesh_zgr',\n",
    "    notebook_name='create_meshmask',\n",
    "    nc_filepath='./edit_mesh_zgr-NEMO3.6.nc',\n",
    "    comment='Edited ANHA12 mesh_zgr file')\n",
    "\n",
    "ncd.createDimension('x',len(BX))\n",
    "ncd.createDimension('y',len(BY))\n",
    "ncd.createDimension('z',len(BZ))\n",
    "ncd.createDimension('t',None)"
   ]
  },
  {
   "cell_type": "code",
   "execution_count": 14,
   "metadata": {
    "collapsed": false
   },
   "outputs": [
    {
     "name": "stdout",
     "output_type": "stream",
     "text": [
      "odict_keys(['nav_lon', 'nav_lat', 'nav_lev', 'time_counter', 'mbathy', 'e3t_ps', 'e3w_ps', 'hdept', 'hdepw', 'gdept_0', 'gdepw_0', 'e3t_0', 'e3w_0', 'tmask', 'e3t', 'e3u', 'e3v', 'e3w'])\n"
     ]
    }
   ],
   "source": [
    "nc_tools.show_variables(mesh_zgr)"
   ]
  },
  {
   "cell_type": "code",
   "execution_count": 15,
   "metadata": {
    "collapsed": false
   },
   "outputs": [
    {
     "data": {
      "text/plain": [
       "(50, 2400, 1632)"
      ]
     },
     "execution_count": 15,
     "metadata": {},
     "output_type": "execute_result"
    }
   ],
   "source": [
    "A = mesh_zgr.variables['e3t']\n",
    "A[0,:,:,:].shape"
   ]
  },
  {
   "cell_type": "code",
   "execution_count": 16,
   "metadata": {
    "collapsed": false
   },
   "outputs": [
    {
     "data": {
      "text/plain": [
       "<class 'netCDF4._netCDF4.Variable'>\n",
       "float32 e3t(t, z, y, x)\n",
       "unlimited dimensions: t\n",
       "current shape = (1, 50, 2400, 1632)\n",
       "filling on, default _FillValue of 9.969209968386869e+36 used"
      ]
     },
     "execution_count": 16,
     "metadata": {},
     "output_type": "execute_result"
    }
   ],
   "source": [
    "mesh_zgr.variables['e3t']"
   ]
  },
  {
   "cell_type": "code",
   "execution_count": 17,
   "metadata": {
    "collapsed": false
   },
   "outputs": [
    {
     "data": {
      "text/plain": [
       "<class 'netCDF4._netCDF4.Variable'>\n",
       "float32 hdepw(t, y, x)\n",
       "unlimited dimensions: t\n",
       "current shape = (1, 2400, 1632)\n",
       "filling on, default _FillValue of 9.969209968386869e+36 used"
      ]
     },
     "execution_count": 17,
     "metadata": {},
     "output_type": "execute_result"
    }
   ],
   "source": [
    "mesh_zgr.variables['hdepw']"
   ]
  },
  {
   "cell_type": "code",
   "execution_count": 18,
   "metadata": {
    "collapsed": false
   },
   "outputs": [],
   "source": [
    "#--- Mask variables -----\n",
    "nav_lat = ncd.createVariable('nav_lat', 'float32', ('y','x'))\n",
    "nav_lat.long_name = 'Latitude'\n",
    "nav_lat.units = 'degrees_north'\n",
    "nav_lat[:] = mesh_zgr.variables['nav_lat']\n",
    "\n",
    "nav_lon = ncd.createVariable('nav_lon', 'float32', ('y','x'))\n",
    "nav_lon.long_name = 'Longitude'\n",
    "nav_lon.units = 'degrees_east'\n",
    "nav_lon[:] = mesh_zgr.variables['nav_lon']\n",
    "\n",
    "nav_lev = ncd.createVariable('nav_lev', 'float32', ('z'))\n",
    "nav_lev.long_name = 'Level'\n",
    "nav_lev.units = 'metres'\n",
    "nav_lev[:] = mesh_zgr.variables['nav_lev']\n",
    "\n",
    "time_counter = ncd.createVariable('time_counter', 'float64', ('t'))\n",
    "time_counter.units = 'seconds'\n",
    "time_counter.long_name = 'Time axis'\n",
    "time_counter[:] = mesh_zgr.variables['time_counter']\n",
    "\n",
    "mbathy = ncd.createVariable('mbathy', 'int16', ('t','y','x'))\n",
    "mbathy.units = 'mbathy'\n",
    "mbathy.long_name = 'mbathy'\n",
    "mbathy[:] = mesh_zgr.variables['mbathy'][:,:,:]\n",
    "\n",
    "# e3t_ps = ncd.createVariable('e3t_ps', 'float64', ('t', 'y','x'))\n",
    "# e3t_ps.units = 'e3t_ps'\n",
    "# e3t_ps.long_name = 'e3t_ps'\n",
    "# e3t_ps[:] = mesh_zgr.variables['e3t_ps']\n",
    "\n",
    "# e3w_ps = ncd.createVariable('e3w_ps', 'float64', ('t', 'y','x'))\n",
    "# e3w_ps.units = 'e3w_ps'\n",
    "# e3w_ps.long_name = 'e3w_ps'\n",
    "# e3w_ps[:] = mesh_zgr.variables['e3w_ps']\n",
    "\n",
    "hdept = ncd.createVariable('hdept', 'float32', ('t','y','x'))\n",
    "hdept.units = 'hdept'\n",
    "hdept.long_name = 'hdept'\n",
    "hdept[:] = mesh_zgr.variables['hdept'][:,:,:]\n",
    "\n",
    "hdepw = ncd.createVariable('hdepw', 'float32', ('t','y','x'))\n",
    "hdepw.units = 'hdepw'\n",
    "hdepw.long_name = 'hdepw'\n",
    "hdepw[:] = mesh_zgr.variables['hdepw'][:,:,:]\n",
    "\n",
    "gdept_1d = ncd.createVariable('gdept_1d', 'float64', ('t','z'))\n",
    "gdept_1d.units = 'gdept_1d'\n",
    "gdept_1d.long_name = 'gdept_1d'\n",
    "gdept_1d[:] = mesh_zgr.variables['gdept_0'][:,:]\n",
    "\n",
    "gdepw_1d = ncd.createVariable('gdepw_1d', 'float64', ('t','z'))\n",
    "gdepw_1d.units = 'gdepw_1d'\n",
    "gdepw_1d.long_name = 'gdepw_1d'\n",
    "gdepw_1d[:] = mesh_zgr.variables['gdepw_0'][:,:]\n",
    "\n",
    "e3t_1d = ncd.createVariable('e3t_1d', 'float64', ('t','z'))\n",
    "e3t_1d.units = 'e3t_1d'\n",
    "e3t_1d.long_name = 'e3t_1d'\n",
    "e3t_1d[:] = mesh_zgr.variables['e3t_0'][:,:]\n",
    "\n",
    "e3w_1d = ncd.createVariable('e3w_1d', 'float64', ('t','z'))\n",
    "e3w_1d.units = 'e3w_1d'\n",
    "e3w_1d.long_name = 'e3w_1d'\n",
    "e3w_1d[:] = mesh_zgr.variables['e3w_0'][:,:]\n",
    "\n",
    "tmask = ncd.createVariable('tmask', 'int8', ('t', 'z','y','x'))\n",
    "tmask.units = 'tmask'\n",
    "tmask.long_name = 'tmask'\n",
    "tmask[:] = mesh_zgr.variables['tmask']\n",
    "\n",
    "e3t_0 = ncd.createVariable('e3t_0', 'float32', ('t','z','y','x'))\n",
    "e3t_0.units = 'e3t_0'\n",
    "e3t_0.long_name = 'e3t_0'\n",
    "e3t_0[:] = mesh_zgr.variables['e3t'][:,:,:,:]\n",
    "\n",
    "e3u_0 = ncd.createVariable('e3u_0', 'float32', ('t','z','y','x'))\n",
    "e3u_0.units = 'e3u_0'\n",
    "e3u_0.long_name = 'e3u_0'\n",
    "e3u_0[:] = mesh_zgr.variables['e3u'][:,:,:,:]\n",
    "\n",
    "e3v_0 = ncd.createVariable('e3v_0', 'float32', ('t','z','y','x'))\n",
    "e3v_0.units = 'e3v_0'\n",
    "e3v_0.long_name = 'e3v_0'\n",
    "e3v_0[:] = mesh_zgr.variables['e3v'][:,:,:,:]\n",
    "\n",
    "e3w_0 = ncd.createVariable('e3w_0', 'float32', ('t','z','y','x'))\n",
    "e3w_0.units = 'e3w_0'\n",
    "e3w_0.long_name = 'e3w_0'\n",
    "e3w_0[:] = mesh_zgr.variables['e3w'][:,:,:,:]"
   ]
  },
  {
   "cell_type": "code",
   "execution_count": 19,
   "metadata": {
    "collapsed": false
   },
   "outputs": [
    {
     "name": "stdout",
     "output_type": "stream",
     "text": [
      "Missing value for dataset attribute: references\n"
     ]
    }
   ],
   "source": [
    "nc_tools.check_dataset_attrs(ncd)\n",
    "ncd.close()"
   ]
  },
  {
   "cell_type": "code",
   "execution_count": null,
   "metadata": {
    "collapsed": true
   },
   "outputs": [],
   "source": []
  }
 ],
 "metadata": {
  "kernelspec": {
   "display_name": "Python 3",
   "language": "python",
   "name": "python3"
  },
  "language_info": {
   "codemirror_mode": {
    "name": "ipython",
    "version": 3
   },
   "file_extension": ".py",
   "mimetype": "text/x-python",
   "name": "python",
   "nbconvert_exporter": "python",
   "pygments_lexer": "ipython3",
   "version": "3.6.5"
  }
 },
 "nbformat": 4,
 "nbformat_minor": 2
}
