{
 "cells": [
  {
   "cell_type": "markdown",
   "metadata": {},
   "source": [
    "# Create a meshmask file for ANHA12"
   ]
  },
  {
   "cell_type": "code",
   "execution_count": 5,
   "metadata": {
    "collapsed": true
   },
   "outputs": [],
   "source": [
    "import matplotlib.pyplot as plt\n",
    "import netCDF4 as nc\n",
    "import numpy as np\n",
    "\n",
    "from salishsea_tools import (\n",
    "    nc_tools,\n",
    "    viz_tools,\n",
    ")\n",
    "\n",
    "%matplotlib inline"
   ]
  },
  {
   "cell_type": "code",
   "execution_count": 6,
   "metadata": {
    "collapsed": true
   },
   "outputs": [],
   "source": [
    "folder = '/ocean/brogalla/GEOTRACES/data/bathymetry/'\n",
    "file1 = 'ANHA12_mask.nc'\n",
    "file2 = 'ANHA12_mesh_hgr.nc'\n",
    "file3 = 'ANHA12_mesh_zgr10.nc'"
   ]
  },
  {
   "cell_type": "code",
   "execution_count": 7,
   "metadata": {
    "collapsed": false
   },
   "outputs": [],
   "source": [
    "mask = nc.Dataset(folder + file1)\n",
    "mesh_hgr = nc.Dataset(folder + file2)\n",
    "mesh_zgr = nc.Dataset(folder + file3)"
   ]
  },
  {
   "cell_type": "code",
   "execution_count": 8,
   "metadata": {
    "collapsed": false
   },
   "outputs": [
    {
     "name": "stdout",
     "output_type": "stream",
     "text": [
      "odict_keys(['nav_lon', 'nav_lat', 'nav_lev', 'time_counter', 'tmask', 'umask', 'vmask', 'fmask', 'tmaskutil', 'umaskutil', 'vmaskutil', 'fmaskutil'])\n",
      "odict_keys(['nav_lon', 'nav_lat', 'nav_lev', 'time_counter', 'glamt', 'glamu', 'glamv', 'glamf', 'gphit', 'gphiu', 'gphiv', 'gphif', 'e1t', 'e1u', 'e1v', 'e1f', 'e2t', 'e2u', 'e2v', 'e2f', 'ff', 'e3t_0', 'e3t_ps', 'e3w_0', 'gdept_0', 'gdepw_0', 'mbathy', 'tmask'])\n",
      "odict_keys(['nav_lat', 'nav_lon', 'nav_lev', 'time_counter', 'mbathy', 'e3t_ps', 'e3w_ps', 'hdept', 'hdepw', 'gdept_1d', 'gdepw_1d', 'e3t_1d', 'e3w_1d', 'tmask', 'e3t_0', 'e3u_0', 'e3v_0', 'e3w_0'])\n"
     ]
    }
   ],
   "source": [
    "nc_tools.show_variables(mask)\n",
    "nc_tools.show_variables(mesh_hgr)\n",
    "nc_tools.show_variables(mesh_zgr)"
   ]
  },
  {
   "cell_type": "code",
   "execution_count": null,
   "metadata": {
    "collapsed": false
   },
   "outputs": [],
   "source": [
    "a = mesh_hgr.variables['nav_lon']\n",
    "b = mesh_zgr.variables['nav_lon']"
   ]
  },
  {
   "cell_type": "code",
   "execution_count": null,
   "metadata": {
    "collapsed": true
   },
   "outputs": [],
   "source": [
    "levv = mask.variables['nav_lev']"
   ]
  },
  {
   "cell_type": "markdown",
   "metadata": {},
   "source": [
    "### Create new NetCDF file:"
   ]
  },
  {
   "cell_type": "code",
   "execution_count": 8,
   "metadata": {
    "collapsed": true
   },
   "outputs": [],
   "source": [
    "# Load structure from sample dataset:\n",
    "lat = mask.variables['nav_lat']\n",
    "lon = mask.variables['nav_lon']\n",
    "BX = mask.dimensions['x']\n",
    "BY = mask.dimensions['y']\n",
    "BZ = mask.dimensions['z']"
   ]
  },
  {
   "cell_type": "code",
   "execution_count": 9,
   "metadata": {
    "collapsed": false
   },
   "outputs": [
    {
     "name": "stdout",
     "output_type": "stream",
     "text": [
      "file format: NETCDF4\n",
      "Conventions: CF-1.6\n",
      "title: ANHA12 mesh mask file\n",
      "institution: Dept of Earth, Ocean & Atmospheric Sciences, University of British Columbia\n",
      "source: https://bitbucket.org/ccar-modeling/analysis-birgit/src/tip/notebooks/ANHA12/create_meshmask.ipynb\n",
      "references: REQUIRED\n",
      "history: [2017-09-20 17:02:43] Created netCDF4 zlib=True dataset.\n",
      "comment: Combination of ANHA12 mask and mesh files\n"
     ]
    },
    {
     "data": {
      "text/plain": [
       "<class 'netCDF4._netCDF4.Dimension'> (unlimited): name = 'time_counter', size = 0"
      ]
     },
     "execution_count": 9,
     "metadata": {},
     "output_type": "execute_result"
    }
   ],
   "source": [
    "# Setup the new NetCDF file:\n",
    "ncd = nc.Dataset('ANHA12_meshmask.nc', 'w', zlib=True)\n",
    "nc_tools.init_dataset_attrs(\n",
    "    ncd,\n",
    "    title='ANHA12 mesh mask file',\n",
    "    notebook_name='create_meshmask',\n",
    "    nc_filepath='./ANHA12_meshmask.nc',\n",
    "    comment='Combination of ANHA12 mask and mesh files')\n",
    "\n",
    "ncd.createDimension('x',len(BX))\n",
    "ncd.createDimension('y',len(BY))\n",
    "ncd.createDimension('z',len(BZ))\n",
    "ncd.createDimension('time_counter', None)"
   ]
  },
  {
   "cell_type": "code",
   "execution_count": 10,
   "metadata": {
    "collapsed": false
   },
   "outputs": [
    {
     "name": "stdout",
     "output_type": "stream",
     "text": [
      "odict_keys(['nav_lon', 'nav_lat', 'nav_lev', 'time_counter', 'tmask', 'umask', 'vmask', 'fmask', 'tmaskutil', 'umaskutil', 'vmaskutil', 'fmaskutil'])\n"
     ]
    }
   ],
   "source": [
    "nc_tools.show_variables(mask)"
   ]
  },
  {
   "cell_type": "code",
   "execution_count": 11,
   "metadata": {
    "collapsed": false
   },
   "outputs": [],
   "source": [
    "#--- Mask variables -----\n",
    "nav_lat = ncd.createVariable('nav_lat', 'float32', ('y','x'))\n",
    "nav_lat.long_name = 'Latitude'\n",
    "nav_lat.units = 'degrees_north'\n",
    "nav_lat = lat\n",
    "\n",
    "nav_lon = ncd.createVariable('nav_lon', 'float32', ('y','x'))\n",
    "nav_lon.long_name = 'Longitude'\n",
    "nav_lon.units = 'degrees_east'\n",
    "nav_lon = lon\n",
    "\n",
    "nav_lev = ncd.createVariable('nav_lev', 'float32', ('z'))\n",
    "nav_lev.long_name = 'Level'\n",
    "nav_lev.units = 'metres'\n",
    "nav_lev = mask.variables['nav_lev']\n",
    "\n",
    "time_counter = ncd.createVariable('time_counter', 'float32', ('time_counter'))\n",
    "time_counter.units = 'seconds'\n",
    "time_counter.long_name = 'Time axis'\n",
    "time_counter.calendar = 'noleap'\n",
    "\n",
    "tmask = ncd.createVariable('tmask', 'int8', ('time_counter', 'z','y','x'))\n",
    "tmask.units = 'tmask'\n",
    "tmask.long_name = 'tmask'\n",
    "tmask = mask.variables['tmask']\n",
    "\n",
    "umask = ncd.createVariable('umask', 'int8', ('time_counter', 'z','y','x'))\n",
    "umask.units = 'umask'\n",
    "umask.long_name = 'umask'\n",
    "umask = mask.variables['umask']\n",
    "\n",
    "vmask = ncd.createVariable('vmask', 'int8', ('time_counter', 'z','y','x'))\n",
    "vmask.units = 'vmask'\n",
    "vmask.long_name = 'vmask'\n",
    "vmask = mask.variables['vmask']\n",
    "\n",
    "fmask = ncd.createVariable('fmask', 'int8', ('time_counter', 'z','y','x'))\n",
    "fmask.units = 'fmask'\n",
    "fmask.long_name = 'fmask'\n",
    "fmask = mask.variables['fmask']"
   ]
  },
  {
   "cell_type": "code",
   "execution_count": 12,
   "metadata": {
    "collapsed": false
   },
   "outputs": [
    {
     "name": "stdout",
     "output_type": "stream",
     "text": [
      "odict_keys(['nav_lon', 'nav_lat', 'nav_lev', 'time_counter', 'glamt', 'glamu', 'glamv', 'glamf', 'gphit', 'gphiu', 'gphiv', 'gphif', 'e1t', 'e1u', 'e1v', 'e1f', 'e2t', 'e2u', 'e2v', 'e2f', 'ff', 'e3t_0', 'e3t_ps', 'e3w_0', 'gdept_0', 'gdepw_0', 'mbathy', 'tmask'])\n"
     ]
    }
   ],
   "source": [
    "nc_tools.show_variables(mesh_hgr)"
   ]
  },
  {
   "cell_type": "code",
   "execution_count": 13,
   "metadata": {
    "collapsed": false
   },
   "outputs": [
    {
     "data": {
      "text/plain": [
       "<class 'netCDF4._netCDF4.Variable'>\n",
       "float64 e3t_ps(t, y, x)\n",
       "unlimited dimensions: t\n",
       "current shape = (1, 2400, 1632)\n",
       "filling on, default _FillValue of 9.969209968386869e+36 used"
      ]
     },
     "execution_count": 13,
     "metadata": {},
     "output_type": "execute_result"
    }
   ],
   "source": [
    "mesh_hgr.variables['e3t_ps']"
   ]
  },
  {
   "cell_type": "code",
   "execution_count": 14,
   "metadata": {
    "collapsed": false
   },
   "outputs": [],
   "source": [
    "#--- Mesh_hgr variables -----\n",
    "glamt = ncd.createVariable('glamt', 'float32', ('time_counter', 'y','x'))\n",
    "glamt.units = 'glamt'\n",
    "glamt.long_name = 'glamt'\n",
    "glamt = mesh_hgr.variables['glamt']\n",
    "\n",
    "glamu = ncd.createVariable('glamu', 'float32', ('time_counter', 'y','x'))\n",
    "glamu.units = 'glamu'\n",
    "glamu.long_name = 'glamu'\n",
    "glamu = mesh_hgr.variables['glamu']\n",
    "\n",
    "glamv = ncd.createVariable('glamv', 'float32', ('time_counter', 'y','x'))\n",
    "glamv.units = 'glamv'\n",
    "glamv.long_name = 'glamv'\n",
    "glamv = mesh_hgr.variables['glamv']\n",
    "\n",
    "glamf = ncd.createVariable('glamf', 'float32', ('time_counter', 'y','x'))\n",
    "glamf.units = 'glamf'\n",
    "glamf.long_name = 'glamf'\n",
    "glamf = mesh_hgr.variables['glamf']\n",
    "\n",
    "gphit = ncd.createVariable('gphit', 'float32', ('time_counter', 'y','x'))\n",
    "gphit.units = 'gphit'\n",
    "gphit.long_name = 'gphit'\n",
    "gphit = mesh_hgr.variables['gphit']\n",
    "\n",
    "gphiu = ncd.createVariable('gphiu', 'float32', ('time_counter', 'y','x'))\n",
    "gphiu.units = 'gphiu'\n",
    "gphiu.long_name = 'gphiu'\n",
    "gphiu = mesh_hgr.variables['gphiu']\n",
    "\n",
    "gphiv = ncd.createVariable('gphiv', 'float32', ('time_counter', 'y','x'))\n",
    "gphiv.units = 'gphiv'\n",
    "gphiv.long_name = 'gphiv'\n",
    "gphiv = mesh_hgr.variables['gphiv']\n",
    "\n",
    "gphif = ncd.createVariable('gphif', 'float32', ('time_counter', 'y','x'))\n",
    "gphif.units = 'gphif'\n",
    "gphif.long_name = 'gphif'\n",
    "gphif = mesh_hgr.variables['gphif']\n",
    "\n",
    "e1t = ncd.createVariable('e1t', 'float64', ('time_counter', 'y','x'))\n",
    "e1t.units = 'e1t'\n",
    "e1t.long_name = 'e1t'\n",
    "e1t = mesh_hgr.variables['e1t']\n",
    "\n",
    "e1u = ncd.createVariable('e1u', 'float64', ('time_counter', 'y','x'))\n",
    "e1u.units = 'e1u'\n",
    "e1u.long_name = 'e1u'\n",
    "e1u = mesh_hgr.variables['e1u']\n",
    "\n",
    "e1v = ncd.createVariable('e1v', 'float64', ('time_counter', 'y','x'))\n",
    "e1v.units = 'e1v'\n",
    "e1v.long_name = 'e1v'\n",
    "e1v = mesh_hgr.variables['e1v']\n",
    "\n",
    "e1f = ncd.createVariable('e1f', 'float64', ('time_counter', 'y','x'))\n",
    "e1f.units = 'e1f'\n",
    "e1f.long_name = 'e1f'\n",
    "e1f = mesh_hgr.variables['e1f']\n",
    "\n",
    "e2t = ncd.createVariable('e2t', 'float64', ('time_counter', 'y','x'))\n",
    "e2t.units = 'e2t'\n",
    "e2t.long_name = 'e2t'\n",
    "e2t = mesh_hgr.variables['e2t']\n",
    "\n",
    "e2u = ncd.createVariable('e2u', 'float64', ('time_counter', 'y','x'))\n",
    "e2u.units = 'e2u'\n",
    "e2u.long_name = 'e2u'\n",
    "e2u = mesh_hgr.variables['e2u']\n",
    "\n",
    "e2v = ncd.createVariable('e2v', 'float64', ('time_counter', 'y','x'))\n",
    "e2v.units = 'e2v'\n",
    "e2v.long_name = 'e2v'\n",
    "e2v = mesh_hgr.variables['e2v']\n",
    "\n",
    "e2f = ncd.createVariable('e2f', 'float64', ('time_counter', 'y','x'))\n",
    "e2f.units = 'e2f'\n",
    "e2f.long_name = 'e2f'\n",
    "e2f = mesh_hgr.variables['e2f']\n",
    "\n",
    "ff = ncd.createVariable('ff', 'float64', ('time_counter', 'y','x'))\n",
    "ff.units = 'ff'\n",
    "ff.long_name = 'ff'\n",
    "ff = mesh_hgr.variables['ff']\n",
    "\n",
    "e3t_0 = ncd.createVariable('e3t_0', 'float64', ('time_counter', 'z'))\n",
    "e3t_0.units = 'e3t_0'\n",
    "e3t_0.long_name = 'e3t_0'\n",
    "e3t_0 = mesh_hgr.variables['e3t_0']\n",
    "\n",
    "e3t_ps = ncd.createVariable('e3t_ps', 'float64', ('time_counter', 'y','x'))\n",
    "e3t_ps.units = 'e3t_ps'\n",
    "e3t_ps.long_name = 'e3t_ps'\n",
    "e3t_ps = mesh_hgr.variables['e3t_ps']\n",
    "\n",
    "e3w_0 = ncd.createVariable('e3w_0', 'float64', ('time_counter', 'z'))\n",
    "e3w_0.units = 'e3w_0'\n",
    "e3w_0.long_name = 'e3w_0'\n",
    "e3w_0 = mesh_hgr.variables['e3w_0']\n",
    "\n",
    "gdept_0 = ncd.createVariable('gdept_0', 'float64', ('time_counter', 'z'))\n",
    "gdept_0.units = 'gdept_0'\n",
    "gdept_0.long_name = 'gdept_0'\n",
    "gdept_0 = mesh_hgr.variables['gdept_0']\n",
    "\n",
    "gdepw_0 = ncd.createVariable('gdepw_0', 'float64', ('time_counter', 'z'))\n",
    "gdepw_0.units = 'gdepw_0'\n",
    "gdepw_0.long_name = 'gdepw_0'\n",
    "gdepw_0 = mesh_hgr.variables['gdepw_0']\n",
    "\n",
    "mbathy = ncd.createVariable('mbathy', 'int16', ('time_counter', 'y','x'))\n",
    "mbathy.units = 'mbathy'\n",
    "mbathy.long_name = 'mbathy'\n",
    "mbathy = mesh_hgr.variables['mbathy']"
   ]
  },
  {
   "cell_type": "code",
   "execution_count": 15,
   "metadata": {
    "collapsed": false
   },
   "outputs": [
    {
     "name": "stdout",
     "output_type": "stream",
     "text": [
      "odict_keys(['nav_lon', 'nav_lat', 'nav_lev', 'time_counter', 'mbathy', 'e3t_ps', 'e3w_ps', 'hdept', 'hdepw', 'gdept_0', 'gdepw_0', 'e3t_0', 'e3w_0', 'tmask', 'e3t', 'e3u', 'e3v', 'e3w'])\n"
     ]
    }
   ],
   "source": [
    "nc_tools.show_variables(mesh_zgr)"
   ]
  },
  {
   "cell_type": "code",
   "execution_count": 16,
   "metadata": {
    "collapsed": false
   },
   "outputs": [
    {
     "data": {
      "text/plain": [
       "<class 'netCDF4._netCDF4.Variable'>\n",
       "float32 e3t(t, z, y, x)\n",
       "unlimited dimensions: t\n",
       "current shape = (1, 50, 2400, 1632)\n",
       "filling on, default _FillValue of 9.969209968386869e+36 used"
      ]
     },
     "execution_count": 16,
     "metadata": {},
     "output_type": "execute_result"
    }
   ],
   "source": [
    "mesh_zgr.variables['e3t']\n",
    "#mesh_hgr.variables['e3w_ps'][0,0:10]"
   ]
  },
  {
   "cell_type": "code",
   "execution_count": 17,
   "metadata": {
    "collapsed": true
   },
   "outputs": [],
   "source": [
    "#--- Mesh_hgr variables -----\n",
    "e3w_ps = ncd.createVariable('e3w_ps', 'float64', ('time_counter', 'y','x'))\n",
    "e3w_ps.units = 'e3w_ps'\n",
    "e3w_ps.long_name = 'e3w_ps'\n",
    "e3w_ps = mesh_zgr.variables['e3w_ps']\n",
    "\n",
    "hdept= ncd.createVariable('hdept', 'float32', ('time_counter', 'y','x'))\n",
    "hdept.units = 'hdept'\n",
    "hdept.long_name = 'hdept'\n",
    "hdept = mesh_zgr.variables['hdept']\n",
    "\n",
    "hdepw= ncd.createVariable('hdepw', 'float32', ('time_counter', 'y','x'))\n",
    "hdepw.units = 'hdepw'\n",
    "hdepw.long_name = 'hdepw'\n",
    "hdepw = mesh_zgr.variables['hdepw']\n",
    "\n",
    "e3t = ncd.createVariable('e3t', 'float32', ('time_counter','z', 'y','x'))\n",
    "e3t.units = 'e3t'\n",
    "e3t.long_name = 'e3t'\n",
    "e3t = mesh_zgr.variables['e3t']\n",
    "\n",
    "e3u = ncd.createVariable('e3u', 'float32', ('time_counter','z', 'y','x'))\n",
    "e3u.units = 'e3u'\n",
    "e3u.long_name = 'e3u'\n",
    "e3u = mesh_zgr.variables['e3u']\n",
    "\n",
    "e3v = ncd.createVariable('e3v', 'float32', ('time_counter','z', 'y','x'))\n",
    "e3v.units = 'e3v'\n",
    "e3v.long_name = 'e3v'\n",
    "e3v = mesh_zgr.variables['e3v']\n",
    "\n",
    "e3w = ncd.createVariable('e3w', 'float32', ('time_counter','z', 'y','x'))\n",
    "e3w.units = 'e3w'\n",
    "e3w.long_name = 'e3w'\n",
    "e3w = mesh_zgr.variables['e3w']"
   ]
  },
  {
   "cell_type": "code",
   "execution_count": 18,
   "metadata": {
    "collapsed": false
   },
   "outputs": [
    {
     "name": "stdout",
     "output_type": "stream",
     "text": [
      "Missing value for dataset attribute: references\n"
     ]
    }
   ],
   "source": [
    "nc_tools.check_dataset_attrs(ncd)\n",
    "ncd.close()"
   ]
  },
  {
   "cell_type": "code",
   "execution_count": null,
   "metadata": {
    "collapsed": true
   },
   "outputs": [],
   "source": []
  }
 ],
 "metadata": {
  "kernelspec": {
   "display_name": "Python 3",
   "language": "python",
   "name": "python3"
  },
  "language_info": {
   "codemirror_mode": {
    "name": "ipython",
    "version": 3
   },
   "file_extension": ".py",
   "mimetype": "text/x-python",
   "name": "python",
   "nbconvert_exporter": "python",
   "pygments_lexer": "ipython3",
   "version": "3.6.5"
  }
 },
 "nbformat": 4,
 "nbformat_minor": 2
}
