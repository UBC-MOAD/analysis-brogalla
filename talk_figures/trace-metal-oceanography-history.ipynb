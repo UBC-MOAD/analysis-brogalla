{
 "cells": [
  {
   "cell_type": "markdown",
   "id": "3e83d25b-cd74-4d42-bdc4-d77c34c7b8a1",
   "metadata": {},
   "source": [
    "# Ocean biogeochemistry and trace metal oceanography field history\n",
    "\n",
    "Based on searches within Web of Science."
   ]
  },
  {
   "cell_type": "code",
   "execution_count": 1,
   "id": "6fb09328-149b-48de-8927-4502e357b9f7",
   "metadata": {},
   "outputs": [],
   "source": [
    "import matplotlib.pyplot as plt\n",
    "import xarray as xr\n",
    "import numpy as np\n",
    "import pandas as pd\n",
    "import datetime as dt\n",
    "import seaborn as sns\n",
    "from collections import Counter\n",
    "\n",
    "%matplotlib inline"
   ]
  },
  {
   "cell_type": "markdown",
   "id": "cf03a44f-93bb-4cad-a84c-8cd124bcae5e",
   "metadata": {},
   "source": [
    "Parameters / folder names"
   ]
  },
  {
   "cell_type": "code",
   "execution_count": 2,
   "id": "f3a930c1-d242-4add-9896-c5365dd3b128",
   "metadata": {},
   "outputs": [],
   "source": [
    "folder_base   = '/ocean/brogalla/GEOTRACES/data/web-of-science/'"
   ]
  },
  {
   "cell_type": "markdown",
   "id": "31127880-102d-4891-906d-48391c684638",
   "metadata": {},
   "source": [
    "Load data"
   ]
  },
  {
   "cell_type": "code",
   "execution_count": 3,
   "id": "81484d03-4c6f-4151-98ae-8ef83ee990ee",
   "metadata": {},
   "outputs": [
    {
     "name": "stderr",
     "output_type": "stream",
     "text": [
      "/home/brogalla/miniconda3/envs/julab/lib/python3.6/site-packages/ipykernel_launcher.py:8: SettingWithCopyWarning: \n",
      "A value is trying to be set on a copy of a slice from a DataFrame\n",
      "\n",
      "See the caveats in the documentation: https://pandas.pydata.org/pandas-docs/stable/user_guide/indexing.html#returning-a-view-versus-a-copy\n",
      "  \n"
     ]
    }
   ],
   "source": [
    "GEOTRACES     = pd.read_csv(f'{folder_base}GEOTRACES_20220622.csv', header=10)\n",
    "GEOSECS       = pd.read_csv(f'{folder_base}GEOSECS_20220622.csv', header=10)\n",
    "JGOFS         = pd.read_csv(f'{folder_base}joint-global-ocean-flux-study_20220622.csv', header=10)\n",
    "WOCE          = pd.read_csv(f'{folder_base}world-ocean-circulation-experiment_20220622.csv', header=10)\n",
    "biochem       = pd.read_csv(f'{folder_base}ocean_biogeochemistry_20220622.csv', header=10)\n",
    "biochem_model = pd.read_csv(f'{folder_base}ocean_biogeochemistry_modelling_20220622.csv', header=10)\n",
    "\n",
    "GEOTRACES['Publication Year'][GEOTRACES['Publication Year'] == 'DEC 20 2015'] = '2015'\n",
    "GEOTRACES_publication_years = GEOTRACES['Publication Year'].astype(int).values\n",
    "GEOSECS_publication_years   = GEOSECS['Publication Year'].values\n",
    "JGOFS_publication_years     = JGOFS['Publication Year'].values\n",
    "WOCE_publication_years      = WOCE['Publication Year'].values\n",
    "biochem_publication_years   = biochem['Publication Year'].values\n",
    "biochem_model_publication_years = biochem_model['Publication Year'].values"
   ]
  },
  {
   "cell_type": "code",
   "execution_count": 4,
   "id": "f765f7a7-3eaa-4d28-95d0-c1f7b9b80cc3",
   "metadata": {},
   "outputs": [],
   "source": [
    "cGEOTRACES     = pd.DataFrame.from_dict(Counter(GEOTRACES_publication_years), orient='index').reset_index()\n",
    "cGEOSECS       = pd.DataFrame.from_dict(Counter(GEOSECS_publication_years), orient='index').reset_index()\n",
    "cJGOFS         = pd.DataFrame.from_dict(Counter(JGOFS_publication_years), orient='index').reset_index()\n",
    "cWOCE          = pd.DataFrame.from_dict(Counter(WOCE_publication_years), orient='index').reset_index()\n",
    "cbiochem       = pd.DataFrame.from_dict(Counter(biochem_publication_years), orient='index').reset_index()\n",
    "cbiochem_model = pd.DataFrame.from_dict(Counter(biochem_model_publication_years), orient='index').reset_index()\n",
    "\n",
    "cGEOTRACES     = cGEOTRACES.rename(columns={'index':'year', 0:'count'})\n",
    "cGEOSECS       = cGEOSECS.rename(columns={'index':'year', 0:'count'})\n",
    "cJGOFS         = cJGOFS.rename(columns={'index':'year', 0:'count'})\n",
    "cWOCE          = cWOCE.rename(columns={'index':'year', 0:'count'})\n",
    "cbiochem       = cbiochem.rename(columns={'index':'year', 0:'count'})\n",
    "cbiochem_model = cbiochem_model.rename(columns={'index':'year', 0:'count'})"
   ]
  },
  {
   "cell_type": "markdown",
   "id": "f3b747b3-1926-4fa6-975d-9bb3cb1128a0",
   "metadata": {},
   "source": [
    "Make figure"
   ]
  },
  {
   "cell_type": "code",
   "execution_count": 5,
   "id": "c9cbdeb2-949b-487c-bbd4-2b13d0cc37f6",
   "metadata": {},
   "outputs": [],
   "source": [
    "all_publication_years = np.concatenate((GEOTRACES_publication_years, GEOSECS_publication_years, \\\n",
    "                                      JGOFS_publication_years, WOCE_publication_years))"
   ]
  },
  {
   "cell_type": "code",
   "execution_count": 6,
   "id": "c52336e4-96bc-4aad-8378-d4678759a1fc",
   "metadata": {},
   "outputs": [
    {
     "name": "stdout",
     "output_type": "stream",
     "text": [
      "1778\n",
      "620\n",
      "154\n",
      "216\n",
      "788\n"
     ]
    }
   ],
   "source": [
    "print(len(all_publication_years))\n",
    "print(len(GEOTRACES_publication_years))\n",
    "print(len(GEOSECS_publication_years))\n",
    "print(len(JGOFS_publication_years))\n",
    "print(len(WOCE_publication_years))"
   ]
  },
  {
   "cell_type": "code",
   "execution_count": null,
   "id": "fa1a966d-11f1-4e1e-9659-9121dbcce168",
   "metadata": {},
   "outputs": [
    {
     "name": "stderr",
     "output_type": "stream",
     "text": [
      "/home/brogalla/miniconda3/envs/julab/lib/python3.6/site-packages/ipykernel_launcher.py:31: MatplotlibDeprecationWarning: \n",
      "The set_smart_bounds function was deprecated in Matplotlib 3.2 and will be removed two minor releases later.\n"
     ]
    }
   ],
   "source": [
    "fig, ax = plt.subplots(1,1, figsize=(6.4,4.0), dpi=300)\n",
    "ax2 = ax.twinx()\n",
    "ax2.invert_yaxis()\n",
    "st  = sns.axes_style(\"whitegrid\")\n",
    "# sns.set_palette(\"viridis_r\", n_colors=4)\n",
    "color_list = ['#97ccd8','#648890','#e1edef','#c0cf95']\n",
    "# color_list = ['#97ccd8','#e1edef','#c0cf95','#648890']\n",
    "sns.set_palette(sns.color_palette(color_list))\n",
    "\n",
    "with st:    \n",
    "    sns.histplot(WOCE_publication_years     , label='WOCE', ax=ax, fill=True, color=color_list[0], stat='count', \\\n",
    "                 bins=np.unique(WOCE_publication_years)[-1]+1-np.unique(WOCE_publication_years)[0], element=\"poly\")     \n",
    "    sns.histplot(JGOFS_publication_years    , label='JGOFS', ax=ax, fill=True, color=color_list[2], stat='count', \\\n",
    "                 bins=np.unique(JGOFS_publication_years)[-1]+1-np.unique(JGOFS_publication_years)[0], element=\"poly\") \n",
    "    sns.histplot(GEOTRACES_publication_years, label='GEOTRACES', ax=ax, fill=True, color=color_list[3], stat='count', \\\n",
    "                 bins=np.unique(GEOTRACES_publication_years)[-1]+1-np.unique(GEOTRACES_publication_years)[0], element=\"poly\")\n",
    "    sns.histplot(GEOSECS_publication_years  , label='GEOSECS',  ax=ax, fill=True, color=color_list[1], stat='count', \\\n",
    "                 bins=np.unique(GEOSECS_publication_years)[-1]+1-np.unique(GEOSECS_publication_years)[0], element=\"poly\")\n",
    "    \n",
    "    sns.histplot(biochem_publication_years      , label='Ocean biogeochemistry', ax=ax2, fill=True, stat='count',\\\n",
    "                 bins=np.unique(biochem_publication_years)[-1]+1-np.unique(biochem_publication_years)[0], \\\n",
    "                 color='#939798', element=\"poly\", zorder=1)\n",
    "    sns.histplot(biochem_model_publication_years      , label='Ocean biogeochemistry modelling', ax=ax2, fill=True, stat='count',\\\n",
    "                 bins=np.unique(biochem_model_publication_years)[-1]+1-np.unique(biochem_model_publication_years)[0], \\\n",
    "                 color='#d3d9da', element=\"poly\", zorder=1)\n",
    "    \n",
    "    ax.set(xlim=(1965, 2021), ylim=(-100, 100))\n",
    "    ax2.set(ylim=(300, -300))\n",
    "    ax.legend(loc=(0.1,0.65), frameon=False, fontsize=6)\n",
    "    ax.spines['bottom'].set_position('zero')\n",
    "    ax.spines['bottom'].set_smart_bounds(True)\n",
    "    for axis in [ax, ax2]:\n",
    "        axis.spines['bottom'].set_visible(False)\n",
    "        axis.spines['top'].set_visible(False)\n",
    "#         axis.spines['right'].set_visible(False)\n",
    "        axis.spines['left'].set_visible(False)\n",
    "        axis.xaxis.set_ticks_position('bottom')\n",
    "        axis.axhline(linewidth=2, color='k')\n",
    "        axis.xaxis.set_ticks_position('bottom')\n",
    "        axis.xaxis.set_ticklabels([])\n",
    "#         axis.yaxis.set_visible(False)\n",
    "    \n",
    "fig.savefig('/ocean/brogalla/GEOTRACES/figures/trace-metal-history-20220921.jpg', bbox_inches='tight', dpi=300)"
   ]
  },
  {
   "cell_type": "code",
   "execution_count": null,
   "id": "9a79abec-5443-4774-ad0a-d9d2cca3dc0d",
   "metadata": {},
   "outputs": [],
   "source": []
  }
 ],
 "metadata": {
  "kernelspec": {
   "display_name": "Python 3",
   "language": "python",
   "name": "python3"
  },
  "language_info": {
   "codemirror_mode": {
    "name": "ipython",
    "version": 3
   },
   "file_extension": ".py",
   "mimetype": "text/x-python",
   "name": "python",
   "nbconvert_exporter": "python",
   "pygments_lexer": "ipython3",
   "version": "3.6.11"
  }
 },
 "nbformat": 4,
 "nbformat_minor": 5
}
