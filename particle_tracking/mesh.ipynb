{
 "cells": [
  {
   "cell_type": "markdown",
   "metadata": {},
   "source": [
    "# Create mesh file for Ariane\n",
    "\n",
    "Need to create variable that exists in NEMO 3.6 --- gdept_0. Dimensions: (t,z,y,x)"
   ]
  },
  {
   "cell_type": "code",
   "execution_count": 78,
   "metadata": {
    "collapsed": true
   },
   "outputs": [],
   "source": [
    "import matplotlib.pyplot as plt\n",
    "import netCDF4 as nc\n",
    "import numpy as np\n",
    "\n",
    "from salishsea_tools import (\n",
    "    nc_tools,\n",
    "    viz_tools,\n",
    ")\n",
    "\n",
    "%matplotlib inline"
   ]
  },
  {
   "cell_type": "code",
   "execution_count": 79,
   "metadata": {
    "collapsed": true
   },
   "outputs": [],
   "source": [
    "folder = './'\n",
    "file1 = '../ANHA12_mesh_zgr12.nc'\n",
    "file2 = '../ANHA12_mesh_hgr10.nc'\n",
    "mask = nc.Dataset('/ocean/brogalla/GEOTRACES/data/ANHA12_mask.nc')\n",
    "mesh_zgr = nc.Dataset(file1)\n",
    "mesh_hgr = nc.Dataset(file2)"
   ]
  },
  {
   "cell_type": "code",
   "execution_count": 80,
   "metadata": {
    "collapsed": false
   },
   "outputs": [
    {
     "data": {
      "text/plain": [
       "<class 'netCDF4._netCDF4.Dataset'>\n",
       "root group (NETCDF4 data model, file format HDF5):\n",
       "    Conventions: CF-1.6\n",
       "    title: ANHA12 mesh_zgr\n",
       "    institution: Dept of Earth, Ocean & Atmospheric Sciences, University of British Columbia\n",
       "    source: https://bitbucket.org/ccar-modeling/analysis-birgit/src/tip/notebooks/ANHA12/create_meshmask.ipynb\n",
       "    references: REQUIRED\n",
       "    history: [2018-03-29 13:53:58] Created netCDF4 zlib=True dataset.\n",
       "    comment: Edited ANHA12 mesh_zgr file\n",
       "    dimensions(sizes): x(1632), y(2400), z(50), t(1)\n",
       "    variables(dimensions): float32 \u001b[4mnav_lat\u001b[0m(y,x), float32 \u001b[4mnav_lon\u001b[0m(y,x), float32 \u001b[4mnav_lev\u001b[0m(z), float64 \u001b[4mtime_counter\u001b[0m(t), int16 \u001b[4mmbathy\u001b[0m(t,y,x), float32 \u001b[4mhdept\u001b[0m(t,y,x), float32 \u001b[4mhdepw\u001b[0m(t,y,x), float64 \u001b[4mgdept_1d\u001b[0m(t,z), float64 \u001b[4mgdepw_1d\u001b[0m(t,z), float64 \u001b[4me3t_1d\u001b[0m(t,z), float64 \u001b[4me3w_1d\u001b[0m(t,z), int8 \u001b[4mtmask\u001b[0m(t,z,y,x), float32 \u001b[4me3t_0\u001b[0m(t,z,y,x), float32 \u001b[4me3u_0\u001b[0m(t,z,y,x), float32 \u001b[4me3v_0\u001b[0m(t,z,y,x), float32 \u001b[4me3w_0\u001b[0m(t,z,y,x)\n",
       "    groups: "
      ]
     },
     "execution_count": 80,
     "metadata": {},
     "output_type": "execute_result"
    }
   ],
   "source": [
    "mesh_zgr"
   ]
  },
  {
   "cell_type": "code",
   "execution_count": 81,
   "metadata": {
    "collapsed": true
   },
   "outputs": [],
   "source": [
    "hdepw = mesh_zgr.variables['hdepw']\n",
    "tmask = mesh_zgr.variables['tmask']\n",
    "mbathy = mesh_zgr.variables['mbathy']\n",
    "e3w_1d = mesh_zgr.variables['e3w_1d']\n",
    "gdepw_1d = mesh_zgr.variables['gdepw_1d']\n",
    "e3w_0 = mesh_zgr.variables['e3w_0']\n",
    "e3t_0 = mesh_zgr.variables['e3t_0']\n",
    "glamt = mesh_hgr.variables['glamt']\n",
    "glamu = mesh_hgr.variables['glamu']\n",
    "gphit = mesh_hgr.variables['gphit']\n",
    "gphiv = mesh_hgr.variables['gphiv']\n",
    "e1t = mesh_hgr.variables['e1t']\n",
    "e1v = mesh_hgr.variables['e1v']\n",
    "e2t = mesh_hgr.variables['e2t']\n",
    "e2u = mesh_hgr.variables['e2u']"
   ]
  },
  {
   "cell_type": "code",
   "execution_count": 110,
   "metadata": {
    "collapsed": true
   },
   "outputs": [],
   "source": [
    "hdepw = np.array(hdepw)\n",
    "tmask = np.array(tmask)\n",
    "mbathy = np.array(mbathy)\n",
    "e3w_1d = np.array(e3w_1d)\n",
    "gdepw_1d = np.array(gdepw_1d)\n",
    "e3w_0 = np.array(e3w_0)\n",
    "e3t_0 = np.array(e3t_0)\n",
    "glamt = np.array(glamt)\n",
    "glamu = np.array(glamu)\n",
    "gphit = np.array(gphit)\n",
    "gphiv = np.array(gphiv)\n",
    "e1t = np.array(e1t)\n",
    "e1v = np.array(e1v)\n",
    "e2t = np.array(e2t)\n",
    "e2u = np.array(e2u)"
   ]
  },
  {
   "cell_type": "markdown",
   "metadata": {},
   "source": [
    "Compare with Susan's meshmask file variables:"
   ]
  },
  {
   "cell_type": "code",
   "execution_count": 82,
   "metadata": {
    "collapsed": false
   },
   "outputs": [],
   "source": [
    "meshmask_susan = nc.Dataset('/ocean/brogalla/GEOTRACES/Ariane/mesh_mask201702.nc')"
   ]
  },
  {
   "cell_type": "code",
   "execution_count": 83,
   "metadata": {
    "collapsed": false
   },
   "outputs": [
    {
     "data": {
      "text/plain": [
       "<class 'netCDF4._netCDF4.Dataset'>\n",
       "root group (NETCDF4 data model, file format HDF5):\n",
       "    file_name: mesh_mask.nc\n",
       "    TimeStamp: 30/09/2017 16:10:02 -0700\n",
       "    dimensions(sizes): x(398), y(898), z(40), t(1)\n",
       "    variables(dimensions): float32 \u001b[4mnav_lon\u001b[0m(y,x), float32 \u001b[4mnav_lat\u001b[0m(y,x), float32 \u001b[4mnav_lev\u001b[0m(z), float64 \u001b[4mtime_counter\u001b[0m(t), int8 \u001b[4mtmask\u001b[0m(t,z,y,x), int8 \u001b[4mumask\u001b[0m(t,z,y,x), int8 \u001b[4mvmask\u001b[0m(t,z,y,x), int8 \u001b[4mfmask\u001b[0m(t,z,y,x), int8 \u001b[4mtmaskutil\u001b[0m(t,y,x), int8 \u001b[4mumaskutil\u001b[0m(t,y,x), int8 \u001b[4mvmaskutil\u001b[0m(t,y,x), int8 \u001b[4mfmaskutil\u001b[0m(t,y,x), float32 \u001b[4mglamt\u001b[0m(t,y,x), float32 \u001b[4mglamu\u001b[0m(t,y,x), float32 \u001b[4mglamv\u001b[0m(t,y,x), float32 \u001b[4mglamf\u001b[0m(t,y,x), float32 \u001b[4mgphit\u001b[0m(t,y,x), float32 \u001b[4mgphiu\u001b[0m(t,y,x), float32 \u001b[4mgphiv\u001b[0m(t,y,x), float32 \u001b[4mgphif\u001b[0m(t,y,x), float64 \u001b[4me1t\u001b[0m(t,y,x), float64 \u001b[4me1u\u001b[0m(t,y,x), float64 \u001b[4me1v\u001b[0m(t,y,x), float64 \u001b[4me1f\u001b[0m(t,y,x), float64 \u001b[4me2t\u001b[0m(t,y,x), float64 \u001b[4me2u\u001b[0m(t,y,x), float64 \u001b[4me2v\u001b[0m(t,y,x), float64 \u001b[4me2f\u001b[0m(t,y,x), float64 \u001b[4mff\u001b[0m(t,y,x), int16 \u001b[4mmbathy\u001b[0m(t,y,x), int16 \u001b[4mmisf\u001b[0m(t,y,x), float32 \u001b[4misfdraft\u001b[0m(t,y,x), float64 \u001b[4me3t_0\u001b[0m(t,z,y,x), float64 \u001b[4me3u_0\u001b[0m(t,z,y,x), float64 \u001b[4me3v_0\u001b[0m(t,z,y,x), float64 \u001b[4me3w_0\u001b[0m(t,z,y,x), float32 \u001b[4mgdept_0\u001b[0m(t,z,y,x), float32 \u001b[4mgdepu\u001b[0m(t,z,y,x), float32 \u001b[4mgdepv\u001b[0m(t,z,y,x), float32 \u001b[4mgdepw_0\u001b[0m(t,z,y,x), float64 \u001b[4mgdept_1d\u001b[0m(t,z), float64 \u001b[4mgdepw_1d\u001b[0m(t,z), float64 \u001b[4me3t_1d\u001b[0m(t,z), float64 \u001b[4me3w_1d\u001b[0m(t,z)\n",
       "    groups: "
      ]
     },
     "execution_count": 83,
     "metadata": {},
     "output_type": "execute_result"
    }
   ],
   "source": [
    "meshmask_susan"
   ]
  },
  {
   "cell_type": "code",
   "execution_count": 84,
   "metadata": {
    "collapsed": true
   },
   "outputs": [],
   "source": [
    "s_gdepw_0 = meshmask_susan.variables['gdepw_0']\n",
    "s_e3w_0 = meshmask_susan.variables['e3w_0']\n",
    "s_mbathy = meshmask_susan.variables['mbathy']\n",
    "s_gdepw_1d = meshmask_susan.variables['gdepw_1d']"
   ]
  },
  {
   "cell_type": "code",
   "execution_count": 85,
   "metadata": {
    "collapsed": false
   },
   "outputs": [
    {
     "name": "stdout",
     "output_type": "stream",
     "text": [
      "(1, 40, 898, 398)\n",
      "(1, 40, 898, 398)\n",
      "(1, 898, 398)\n",
      "(1, 40)\n"
     ]
    }
   ],
   "source": [
    "print(s_gdepw_0.shape)\n",
    "print(s_e3w_0.shape)\n",
    "print(s_mbathy.shape)\n",
    "print(s_gdepw_1d.shape)"
   ]
  },
  {
   "cell_type": "code",
   "execution_count": 86,
   "metadata": {
    "collapsed": true
   },
   "outputs": [],
   "source": [
    "s_gdepw_0 = np.array(s_gdepw_0)\n",
    "s_e3w_0 = np.array(s_e3w_0)\n",
    "s_mbathy = np.array(s_mbathy)\n",
    "s_gdepw_1d = np.array(s_gdepw_1d)"
   ]
  },
  {
   "cell_type": "code",
   "execution_count": 87,
   "metadata": {
    "collapsed": false
   },
   "outputs": [
    {
     "data": {
      "text/plain": [
       "False"
      ]
     },
     "execution_count": 87,
     "metadata": {},
     "output_type": "execute_result"
    }
   ],
   "source": [
    "np.array_equal(s_e3w_0, s_gdepw_0)"
   ]
  },
  {
   "cell_type": "code",
   "execution_count": 88,
   "metadata": {
    "collapsed": false
   },
   "outputs": [
    {
     "name": "stdout",
     "output_type": "stream",
     "text": [
      "428.0\n",
      "26.9320432476\n",
      "39\n",
      "428.0\n"
     ]
    }
   ],
   "source": [
    "print(np.amax(s_gdepw_0))\n",
    "print(np.amax(s_e3w_0))\n",
    "print(np.amax(s_mbathy))\n",
    "print(np.amax(s_gdepw_1d))"
   ]
  },
  {
   "cell_type": "code",
   "execution_count": 89,
   "metadata": {
    "collapsed": false
   },
   "outputs": [
    {
     "data": {
      "text/plain": [
       "array([[   0.        ,    1.00000123,    2.00000639,    3.00001921,\n",
       "           4.00004695,    5.00010374,    6.00021712,    7.00044072,\n",
       "           8.00087898,    9.00173537,   10.00340608,   11.00666275,\n",
       "          12.01300785,   13.02536622,   14.04942854,   15.09625559,\n",
       "          16.18730348,   17.36403385,   18.7059723 ,   20.36347338,\n",
       "          22.61306387,   25.93741305,   31.10103509,   39.1188566 ,\n",
       "          50.96323669,   67.05207424,   86.96747037,  109.73706598,\n",
       "         134.34593444,  160.02956159,  186.30527815,  212.89655735,\n",
       "         239.65304462,  266.49521437,  293.38160496,  320.29076029,\n",
       "         347.21161956,  374.1384921 ,  401.06845307,  428.        ]])"
      ]
     },
     "execution_count": 89,
     "metadata": {},
     "output_type": "execute_result"
    }
   ],
   "source": [
    "s_gdepw_1d"
   ]
  },
  {
   "cell_type": "code",
   "execution_count": 90,
   "metadata": {
    "collapsed": false
   },
   "outputs": [
    {
     "data": {
      "text/plain": [
       "8"
      ]
     },
     "execution_count": 90,
     "metadata": {},
     "output_type": "execute_result"
    }
   ],
   "source": [
    "s_mbathy[0,1,131]"
   ]
  },
  {
   "cell_type": "code",
   "execution_count": 91,
   "metadata": {
    "collapsed": false
   },
   "outputs": [
    {
     "data": {
      "text/plain": [
       "array([   0.        ,    1.00000119,    2.00000644,    3.00001931,\n",
       "          4.00004673,    5.00010395,    6.00021696,    7.0004406 ,\n",
       "          8.00087929,    9.00173569,   10.00340652,   11.00666237,\n",
       "         12.01300812,   13.02536583,   14.04942894,   15.0962553 ,\n",
       "         16.18730354,   17.36403465,   18.70597267,   20.36347389,\n",
       "         22.61306381,   25.93741226,   31.10103416,   39.11885834,\n",
       "         50.96323776,   67.05207062,   86.96746826,  109.73706818,\n",
       "        134.34593201,  160.02955627,  186.30528259,  212.89656067,\n",
       "        239.65304565,  266.49520874,  293.3815918 ,  320.29077148,\n",
       "        347.21160889,  374.13848877,  401.06845093,  428.        ], dtype=float32)"
      ]
     },
     "execution_count": 91,
     "metadata": {},
     "output_type": "execute_result"
    }
   ],
   "source": [
    "s_gdepw_0[0,:,1,131]"
   ]
  },
  {
   "cell_type": "code",
   "execution_count": 92,
   "metadata": {
    "collapsed": false
   },
   "outputs": [
    {
     "data": {
      "text/plain": [
       "array([ 0.,  0.,  0.,  0.,  0.,  0.,  0.,  0.,  0.,  0.,  0.,  0.,  0.,\n",
       "        0.,  0.,  0.,  0.,  0.,  0.,  0.,  0.,  0.,  0.,  0.,  0.,  0.,\n",
       "        0.,  0.,  0.,  0.,  0.,  0.,  0.,  0.,  0.,  0.,  0.,  0.,  0.,  0.], dtype=float32)"
      ]
     },
     "execution_count": 92,
     "metadata": {},
     "output_type": "execute_result"
    }
   ],
   "source": [
    "s_gdepw_0[0,:,0,0]"
   ]
  },
  {
   "cell_type": "markdown",
   "metadata": {},
   "source": [
    "Create new gdepw_0 for ANHA12:"
   ]
  },
  {
   "cell_type": "code",
   "execution_count": 94,
   "metadata": {
    "collapsed": false
   },
   "outputs": [
    {
     "name": "stdout",
     "output_type": "stream",
     "text": [
      "(1, 2400, 1632)\n",
      "(1, 50, 2400, 1632)\n",
      "(1, 2400, 1632)\n",
      "(1, 50)\n",
      "(1, 50)\n"
     ]
    }
   ],
   "source": [
    "print(hdepw.shape)\n",
    "print(e3w_0.shape)\n",
    "print(mbathy.shape)\n",
    "print(gdepw_1d.shape)\n",
    "print(e3w_1d.shape)"
   ]
  },
  {
   "cell_type": "code",
   "execution_count": 95,
   "metadata": {
    "collapsed": false
   },
   "outputs": [
    {
     "name": "stdout",
     "output_type": "stream",
     "text": [
      "5750.0\n",
      "697.526\n",
      "49\n",
      "5500.00159104\n",
      "453.200849538\n"
     ]
    }
   ],
   "source": [
    "print(np.amax(hdepw))\n",
    "print(np.amax(e3w_0))\n",
    "print(np.amax(mbathy))\n",
    "print(np.amax(gdepw_1d))\n",
    "print(np.amax(e3w_1d))"
   ]
  },
  {
   "cell_type": "code",
   "execution_count": 96,
   "metadata": {
    "collapsed": false
   },
   "outputs": [
    {
     "data": {
      "text/plain": [
       "array([   1.00036931,    1.04692233,    1.10377085,    1.17318881,\n",
       "          1.25795054,    1.36144078,    1.48778749,    1.64202332,\n",
       "          1.8302815 ,    2.06003332,    2.34037328,    2.68236566,\n",
       "          3.09945679,    3.60797167,    4.22770262,    4.98260689,\n",
       "          5.90162373,    7.01962519,    8.3785038 ,   10.02840137,\n",
       "         12.02905178,   14.45122623,   17.37817764,   20.9070034 ,\n",
       "         25.14973068,   30.23387527,   36.30212021,   43.51065826,\n",
       "         52.0256424 ,   62.01715088,   73.65010071,   87.0717392 ,\n",
       "        102.39587402,  119.6844635 ,  138.92852783,  160.03088379,\n",
       "        182.79438782,  206.91926575,  232.01235962,  257.60900879,\n",
       "        283.20562744,  308.29873657,  332.4236145 ,  355.18710327,\n",
       "        376.28945923,  395.53353882,  412.82211304,  428.14627075,\n",
       "        473.73760986,  512.81756592], dtype=float32)"
      ]
     },
     "execution_count": 96,
     "metadata": {},
     "output_type": "execute_result"
    }
   ],
   "source": [
    "e3w_0[0,:,0,864]"
   ]
  },
  {
   "cell_type": "code",
   "execution_count": 97,
   "metadata": {
    "collapsed": false
   },
   "outputs": [
    {
     "data": {
      "text/plain": [
       "array([   1.00036931,    1.04692233,    1.10377085,    1.17318881,\n",
       "          1.25795054,    1.36144078,    1.48778749,    1.64202332,\n",
       "          1.8302815 ,    2.06003332,    2.34037328,    2.68236566,\n",
       "          3.09945679,    3.60797167,    4.22770262,    4.98260689,\n",
       "          5.90162373,    7.01962519,    8.3785038 ,   10.02840137,\n",
       "         12.02905178,   14.45122623,   17.37817764,   16.9126873 ,\n",
       "         14.16931438,   30.23387527,   36.30212021,   43.51065826,\n",
       "         52.0256424 ,   62.01715088,   73.65010071,   87.0717392 ,\n",
       "        102.39587402,  119.6844635 ,  138.92852783,  160.03088379,\n",
       "        182.79438782,  206.91926575,  232.01235962,  257.60900879,\n",
       "        283.20562744,  308.29873657,  332.4236145 ,  355.18710327,\n",
       "        376.28945923,  395.53353882,  412.82211304,  428.14627075,\n",
       "        441.56790161,  453.20083618], dtype=float32)"
      ]
     },
     "execution_count": 97,
     "metadata": {},
     "output_type": "execute_result"
    }
   ],
   "source": [
    "e3w_0[0,:,1428,539]"
   ]
  },
  {
   "cell_type": "code",
   "execution_count": 98,
   "metadata": {
    "collapsed": false
   },
   "outputs": [
    {
     "data": {
      "text/plain": [
       "array([ 0.,  0.,  0.,  0.,  0.,  0.,  0.,  0.,  0.,  0.,  0.,  0.,  0.,\n",
       "        0.,  0.,  0.,  0.,  0.,  0.,  0.,  0.,  0.,  0.,  0.,  0.,  0.,\n",
       "        0.,  0.,  0.,  0.,  0.,  0.,  0.,  0.,  0.,  0.,  0.,  0.,  0.,\n",
       "        0.,  0.,  0.,  0.,  0.,  0.,  0.,  0.,  0.,  0.,  0.], dtype=float32)"
      ]
     },
     "execution_count": 98,
     "metadata": {},
     "output_type": "execute_result"
    }
   ],
   "source": [
    "e3w_0[0,:,0,0]"
   ]
  },
  {
   "cell_type": "code",
   "execution_count": 99,
   "metadata": {
    "collapsed": false
   },
   "outputs": [
    {
     "data": {
      "text/plain": [
       "array([  1.00036931e+00,   2.04729176e+00,   3.15106249e+00,\n",
       "         4.32425117e+00,   5.58220196e+00,   6.94364262e+00,\n",
       "         8.43142986e+00,   1.00734529e+01,   1.19037342e+01,\n",
       "         1.39637680e+01,   1.63041420e+01,   1.89865074e+01,\n",
       "         2.20859642e+01,   2.56939354e+01,   2.99216385e+01,\n",
       "         3.49042435e+01,   4.08058662e+01,   4.78254929e+01,\n",
       "         5.62039948e+01,   6.62323990e+01,   7.82614517e+01,\n",
       "         9.27126770e+01,   1.10090851e+02,   1.27003540e+02,\n",
       "         1.41172852e+02,   1.71406723e+02,   2.07708847e+02,\n",
       "         2.51219513e+02,   3.03245148e+02,   3.65262299e+02,\n",
       "         4.38912415e+02,   5.25984131e+02,   6.28380005e+02,\n",
       "         7.48064453e+02,   8.86992981e+02,   1.04702393e+03,\n",
       "         1.22981836e+03,   1.43673767e+03,   1.66875000e+03,\n",
       "         1.92635901e+03,   2.20956470e+03,   2.51786353e+03,\n",
       "         2.85028711e+03,   3.20547412e+03,   3.58176367e+03,\n",
       "         3.97729712e+03,   4.39011914e+03,   4.81826562e+03,\n",
       "         5.25983350e+03,   5.71303418e+03], dtype=float32)"
      ]
     },
     "execution_count": 99,
     "metadata": {},
     "output_type": "execute_result"
    }
   ],
   "source": [
    "np.cumsum(e3w_0[0,:,1428,539])"
   ]
  },
  {
   "cell_type": "code",
   "execution_count": 100,
   "metadata": {
    "collapsed": false
   },
   "outputs": [
    {
     "name": "stdout",
     "output_type": "stream",
     "text": [
      "(50, 2400, 1632)\n"
     ]
    }
   ],
   "source": [
    "a = np.cumsum(e3w_0[0,:,:,:],axis=0)\n",
    "print(a.shape)"
   ]
  },
  {
   "cell_type": "code",
   "execution_count": 101,
   "metadata": {
    "collapsed": false
   },
   "outputs": [
    {
     "name": "stdout",
     "output_type": "stream",
     "text": [
      "0.0\n",
      "6095.61\n"
     ]
    }
   ],
   "source": [
    "print(np.amin(a))\n",
    "print(np.amax(a))"
   ]
  },
  {
   "cell_type": "markdown",
   "metadata": {},
   "source": [
    "Check that points on land are still zeros:"
   ]
  },
  {
   "cell_type": "code",
   "execution_count": 102,
   "metadata": {
    "collapsed": false
   },
   "outputs": [
    {
     "data": {
      "text/plain": [
       "array([ 0.,  0.,  0.,  0.,  0.,  0.,  0.,  0.,  0.,  0.,  0.,  0.,  0.,\n",
       "        0.,  0.,  0.,  0.,  0.,  0.,  0.,  0.,  0.,  0.,  0.,  0.,  0.,\n",
       "        0.,  0.,  0.,  0.,  0.,  0.,  0.,  0.,  0.,  0.,  0.,  0.,  0.,\n",
       "        0.,  0.,  0.,  0.,  0.,  0.,  0.,  0.,  0.,  0.,  0.], dtype=float32)"
      ]
     },
     "execution_count": 102,
     "metadata": {},
     "output_type": "execute_result"
    }
   ],
   "source": [
    "a[:,0,0]"
   ]
  },
  {
   "cell_type": "code",
   "execution_count": 103,
   "metadata": {
    "collapsed": false
   },
   "outputs": [
    {
     "name": "stdout",
     "output_type": "stream",
     "text": [
      "(1, 50, 2400, 1632)\n"
     ]
    }
   ],
   "source": [
    "b = np.reshape(a,(1,50,2400,1632))\n",
    "print(b.shape)"
   ]
  },
  {
   "cell_type": "markdown",
   "metadata": {},
   "source": [
    "Check tmask at initial position coordinates: [1428,539], [1411,539], [1399,537]"
   ]
  },
  {
   "cell_type": "code",
   "execution_count": 118,
   "metadata": {
    "collapsed": false
   },
   "outputs": [
    {
     "data": {
      "text/plain": [
       "(1, 50, 2400, 1632)"
      ]
     },
     "execution_count": 118,
     "metadata": {},
     "output_type": "execute_result"
    }
   ],
   "source": [
    "tmask.shape"
   ]
  },
  {
   "cell_type": "code",
   "execution_count": 119,
   "metadata": {
    "collapsed": false
   },
   "outputs": [
    {
     "data": {
      "text/plain": [
       "array([1, 1, 1, 1, 1, 1, 1, 1, 1, 1, 1, 1, 1, 1, 1, 1, 1, 1, 1, 1, 1, 1, 1,\n",
       "       1, 0, 0, 0, 0, 0, 0, 0, 0, 0, 0, 0, 0, 0, 0, 0, 0, 0, 0, 0, 0, 0, 0,\n",
       "       0, 0, 0, 0], dtype=int8)"
      ]
     },
     "execution_count": 119,
     "metadata": {},
     "output_type": "execute_result"
    }
   ],
   "source": [
    "tmask[0,:,1428,539]"
   ]
  },
  {
   "cell_type": "code",
   "execution_count": 120,
   "metadata": {
    "collapsed": false
   },
   "outputs": [
    {
     "data": {
      "text/plain": [
       "array([0, 0, 0, 0, 0, 0, 0, 0, 0, 0, 0, 0, 0, 0, 0, 0, 0, 0, 0, 0, 0, 0, 0,\n",
       "       0, 0, 0, 0, 0, 0, 0, 0, 0, 0, 0, 0, 0, 0, 0, 0, 0, 0, 0, 0, 0, 0, 0,\n",
       "       0, 0, 0, 0], dtype=int8)"
      ]
     },
     "execution_count": 120,
     "metadata": {},
     "output_type": "execute_result"
    }
   ],
   "source": [
    "tmask[0,:,539,1428]"
   ]
  },
  {
   "cell_type": "code",
   "execution_count": 121,
   "metadata": {
    "collapsed": false
   },
   "outputs": [
    {
     "data": {
      "text/plain": [
       "array([1, 1, 1, 1, 1, 1, 1, 1, 1, 1, 1, 1, 1, 1, 1, 1, 1, 1, 1, 1, 1, 1, 1,\n",
       "       1, 1, 0, 0, 0, 0, 0, 0, 0, 0, 0, 0, 0, 0, 0, 0, 0, 0, 0, 0, 0, 0, 0,\n",
       "       0, 0, 0, 0], dtype=int8)"
      ]
     },
     "execution_count": 121,
     "metadata": {},
     "output_type": "execute_result"
    }
   ],
   "source": [
    "tmask[0,:,1411,539]"
   ]
  },
  {
   "cell_type": "code",
   "execution_count": 122,
   "metadata": {
    "collapsed": false
   },
   "outputs": [
    {
     "data": {
      "text/plain": [
       "array([0, 0, 0, 0, 0, 0, 0, 0, 0, 0, 0, 0, 0, 0, 0, 0, 0, 0, 0, 0, 0, 0, 0,\n",
       "       0, 0, 0, 0, 0, 0, 0, 0, 0, 0, 0, 0, 0, 0, 0, 0, 0, 0, 0, 0, 0, 0, 0,\n",
       "       0, 0, 0, 0], dtype=int8)"
      ]
     },
     "execution_count": 122,
     "metadata": {},
     "output_type": "execute_result"
    }
   ],
   "source": [
    "tmask[0,:,539,1411]"
   ]
  },
  {
   "cell_type": "code",
   "execution_count": 123,
   "metadata": {
    "collapsed": false
   },
   "outputs": [
    {
     "data": {
      "text/plain": [
       "array([1, 1, 1, 1, 1, 1, 1, 1, 1, 1, 1, 1, 1, 1, 1, 1, 1, 1, 1, 1, 1, 1, 1,\n",
       "       1, 1, 1, 1, 0, 0, 0, 0, 0, 0, 0, 0, 0, 0, 0, 0, 0, 0, 0, 0, 0, 0, 0,\n",
       "       0, 0, 0, 0], dtype=int8)"
      ]
     },
     "execution_count": 123,
     "metadata": {},
     "output_type": "execute_result"
    }
   ],
   "source": [
    "tmask[0,:,1399,537]"
   ]
  },
  {
   "cell_type": "code",
   "execution_count": 124,
   "metadata": {
    "collapsed": false
   },
   "outputs": [
    {
     "data": {
      "text/plain": [
       "array([0, 0, 0, 0, 0, 0, 0, 0, 0, 0, 0, 0, 0, 0, 0, 0, 0, 0, 0, 0, 0, 0, 0,\n",
       "       0, 0, 0, 0, 0, 0, 0, 0, 0, 0, 0, 0, 0, 0, 0, 0, 0, 0, 0, 0, 0, 0, 0,\n",
       "       0, 0, 0, 0], dtype=int8)"
      ]
     },
     "execution_count": 124,
     "metadata": {},
     "output_type": "execute_result"
    }
   ],
   "source": [
    "tmask[0,:,537,1399]"
   ]
  },
  {
   "cell_type": "markdown",
   "metadata": {},
   "source": [
    "## Create NetCDF file:"
   ]
  },
  {
   "cell_type": "code",
   "execution_count": 111,
   "metadata": {
    "collapsed": true
   },
   "outputs": [],
   "source": [
    "# Load structure from sample dataset:\n",
    "lat = mesh_zgr.variables['nav_lat']\n",
    "lon = mesh_zgr.variables['nav_lon']\n",
    "BX = mesh_zgr.dimensions['x']\n",
    "BY = mesh_zgr.dimensions['y']\n",
    "BZ = mesh_zgr.dimensions['z']\n",
    "t = mesh_zgr.dimensions['t']"
   ]
  },
  {
   "cell_type": "code",
   "execution_count": 115,
   "metadata": {
    "collapsed": false
   },
   "outputs": [
    {
     "name": "stdout",
     "output_type": "stream",
     "text": [
      "file format: NETCDF4\n",
      "Conventions: CF-1.6\n",
      "title: ANHA12 mesh\n",
      "institution: Dept of Earth, Ocean & Atmospheric Sciences, University of British Columbia\n",
      "source: https://bitbucket.org/ccar-modeling/analysis-birgit/src/tip/notebooks/ANHA12/Ariane/mesh.ipynb\n",
      "references: REQUIRED\n",
      "history: [2018-08-08 10:48:19] Created netCDF4 zlib=True dataset.\n",
      "comment: Edited ANHA12 mesh file\n"
     ]
    },
    {
     "data": {
      "text/plain": [
       "<class 'netCDF4._netCDF4.Dimension'> (unlimited): name = 't', size = 0"
      ]
     },
     "execution_count": 115,
     "metadata": {},
     "output_type": "execute_result"
    }
   ],
   "source": [
    "# Setup the new NetCDF file:\n",
    "ncd = nc.Dataset('ANHA12_Ariane_mesh.nc', 'w', zlib=True)\n",
    "nc_tools.init_dataset_attrs(\n",
    "    ncd,\n",
    "    title='ANHA12 mesh',\n",
    "    notebook_name='mesh',\n",
    "    nc_filepath='./mesh.nc',\n",
    "    comment='Edited ANHA12 mesh file')\n",
    "\n",
    "ncd.createDimension('x',len(BX))\n",
    "ncd.createDimension('y',len(BY))\n",
    "ncd.createDimension('z',len(BZ))\n",
    "ncd.createDimension('t',None)"
   ]
  },
  {
   "cell_type": "code",
   "execution_count": 116,
   "metadata": {
    "collapsed": false
   },
   "outputs": [],
   "source": [
    "gdepw_0_var = ncd.createVariable('gdepw_0', 'float32', ('t','z','y','x'))\n",
    "gdepw_0_var.units = 'gdepw_0'\n",
    "gdepw_0_var.long_name = 'gdepw_0'\n",
    "gdepw_0_var[:] = b\n",
    "\n",
    "tmask_var = ncd.createVariable('tmask', 'int8', ('t', 'z','y','x'))\n",
    "tmask_var.units = 'tmask'\n",
    "tmask_var.long_name = 'tmask'\n",
    "tmask_var[:] = tmask\n",
    "\n",
    "e3t_0_var = ncd.createVariable('e3t_0', 'float32', ('t','z','y','x'))\n",
    "e3t_0_var.units = 'e3t_0'\n",
    "e3t_0_var.long_name = 'e3t_0'\n",
    "e3t_0_var[:] = e3t_0\n",
    "\n",
    "glamt_var = ncd.createVariable('glamt', 'float32', ('t','y','x'))\n",
    "glamt_var.units = 'glamt'\n",
    "glamt_var.long_name = 'glamt'\n",
    "glamt_var[:] = glamt\n",
    "\n",
    "glamu_var = ncd.createVariable('glamu', 'float32', ('t','y','x'))\n",
    "glamu_var.units = 'glamu'\n",
    "glamu_var.long_name = 'glamu'\n",
    "glamu_var[:] = glamu\n",
    "\n",
    "gphit_var = ncd.createVariable('gphit', 'float32', ('t','y','x'))\n",
    "gphit_var.units = 'gphit'\n",
    "gphit_var.long_name = 'gphit'\n",
    "gphit_var[:] = gphit\n",
    "\n",
    "gphiv_var = ncd.createVariable('gphiv', 'float32', ('t', 'y','x'))\n",
    "gphiv_var.units = 'gphiv'\n",
    "gphiv_var.long_name = 'gphiv'\n",
    "gphiv_var[:] = gphiv\n",
    "\n",
    "e1t_var = ncd.createVariable('e1t', 'float64', ('t', 'y','x'))\n",
    "e1t_var.units = 'e1t'\n",
    "e1t_var.long_name = 'e1t'\n",
    "e1t_var[:] = e1t\n",
    "\n",
    "e1v_var = ncd.createVariable('e1v', 'float64', ('t', 'y','x'))\n",
    "e1v_var.units = 'e1v'\n",
    "e1v_var.long_name = 'e1v'\n",
    "e1v_var[:] = e1v\n",
    "\n",
    "e2t_var = ncd.createVariable('e2t', 'float64', ('t', 'y','x'))\n",
    "e2t_var.units = 'e2t'\n",
    "e2t_var.long_name = 'e2t'\n",
    "e2t_var[:] = e2t\n",
    "\n",
    "e2u_var = ncd.createVariable('e2u', 'float64', ('t', 'y','x'))\n",
    "e2u_var.units = 'e2u'\n",
    "e2u_var.long_name = 'e2u'\n",
    "e2u_var[:] = e2u"
   ]
  },
  {
   "cell_type": "code",
   "execution_count": 117,
   "metadata": {
    "collapsed": false
   },
   "outputs": [
    {
     "name": "stdout",
     "output_type": "stream",
     "text": [
      "Missing value for dataset attribute: references\n"
     ]
    }
   ],
   "source": [
    "nc_tools.check_dataset_attrs(ncd)\n",
    "ncd.close()"
   ]
  },
  {
   "cell_type": "code",
   "execution_count": null,
   "metadata": {
    "collapsed": true
   },
   "outputs": [],
   "source": []
  }
 ],
 "metadata": {
  "kernelspec": {
   "display_name": "Python 3",
   "language": "python",
   "name": "python3"
  },
  "language_info": {
   "codemirror_mode": {
    "name": "ipython",
    "version": 3
   },
   "file_extension": ".py",
   "mimetype": "text/x-python",
   "name": "python",
   "nbconvert_exporter": "python",
   "pygments_lexer": "ipython3",
   "version": "3.6.5"
  }
 },
 "nbformat": 4,
 "nbformat_minor": 2
}
