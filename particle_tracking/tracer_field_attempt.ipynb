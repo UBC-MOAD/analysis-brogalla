{
 "cells": [
  {
   "cell_type": "markdown",
   "id": "c556d9fb-d6ec-4142-b9f1-a12140850776",
   "metadata": {},
   "source": [
    "# Couple particle tracks with background tracer fields to get evolution signatures"
   ]
  },
  {
   "cell_type": "code",
   "execution_count": 103,
   "id": "b6f3c616-54be-4ab0-87dc-58d35820e7b0",
   "metadata": {},
   "outputs": [],
   "source": [
    "import numpy as np\n",
    "from datetime import timedelta as delta\n",
    "from datetime import datetime\n",
    "import netCDF4 as nc\n",
    "import matplotlib.pyplot as plt\n",
    "import xarray as xr\n",
    "from parcels import FieldSet, Variable, ParticleSet, JITParticle, AdvectionRK4_3D, ErrorCode\n",
    "import glob\n",
    "\n",
    "%matplotlib inline"
   ]
  },
  {
   "cell_type": "markdown",
   "id": "79cb177b-0260-4f5e-9784-c768caee9fc6",
   "metadata": {},
   "source": [
    "#### Parameters"
   ]
  },
  {
   "cell_type": "code",
   "execution_count": 31,
   "id": "9af4396e-a318-4808-8e01-0859b87df8b7",
   "metadata": {},
   "outputs": [],
   "source": [
    "year = 2002\n",
    "\n",
    "land_color = '#a9a7a2'"
   ]
  },
  {
   "cell_type": "markdown",
   "id": "f21afaa3-df74-4c36-acc7-ac6208d3e641",
   "metadata": {},
   "source": [
    "#### Files"
   ]
  },
  {
   "cell_type": "code",
   "execution_count": 161,
   "id": "1979e62c-2af0-4b79-9d1f-12959e1f26ca",
   "metadata": {},
   "outputs": [],
   "source": [
    "# Mesh mask\n",
    "mesh_mask = '/ocean/brogalla/GEOTRACES/data/ANHA12/ANHA12_mesh1.nc'\n",
    "\n",
    "# ANHA12 NEMO grid U,V,W files\n",
    "folder_ANHA12      = '/data/brogalla/ANHA12/'\n",
    "ANHA12_gridU_files = sorted(glob.glob(f'{folder_ANHA12}ANHA12-EXH006_y{year}m??d??_gridU.nc'))[0:20]\n",
    "ANHA12_gridV_files = sorted(glob.glob(f'{folder_ANHA12}ANHA12-EXH006_y{year}m??d??_gridV.nc'))[0:20]\n",
    "ANHA12_gridW_files = sorted(glob.glob(f'{folder_ANHA12}ANHA12-EXH006_5d_gridW_y{year}m??d??.nc'))[0:20]\n",
    "\n",
    "# ANHA12 NEMO Pb model files\n",
    "folder_Pb = f'/data/brogalla/run_storage/Pb-new-ini2-20220922/'\n",
    "files_Pb  = sorted(glob.glob(f'{folder_Pb}ANHA12_EXH006_5d_{year}0101_{year}1231_ptrc_T_{year}*'))[0:20]\n",
    "\n",
    "# Create timestamps from file dates:\n",
    "time_stamps = []\n",
    "for n, file in enumerate(ANHA12_gridU_files):\n",
    "    dateU  = datetime.strptime(file[36:47],'y%Ym%md%d')\n",
    "    dateV  = datetime.strptime(ANHA12_gridV_files[n][36:47],'y%Ym%md%d')\n",
    "    dateW  = datetime.strptime(ANHA12_gridW_files[n][45:56],'y%Ym%md%d')\n",
    "    datePb = datetime.strptime(files_Pb[n][99:107],'%Y%m%d')\n",
    "    \n",
    "    if (dateU != dateV) | (dateU != dateW) | (dateU != datePb):\n",
    "        print('Dates not equal!')\n",
    "    \n",
    "    # double-check that the date is the same for U, V, and W files\n",
    "    time_stamps.append(np.datetime64(f'{dateU.year:02}-{dateU.month:02}-{dateU.day:02}'))\n",
    "\n",
    "timestamps = np.expand_dims(np.array(time_stamps), axis=1)"
   ]
  },
  {
   "cell_type": "markdown",
   "id": "4848fdbc-b75b-4b2c-a80a-bef66ba2fb30",
   "metadata": {},
   "source": [
    "#### Create fieldset"
   ]
  },
  {
   "cell_type": "code",
   "execution_count": 164,
   "id": "c503706f-416b-40b0-b577-8ac425582d91",
   "metadata": {},
   "outputs": [],
   "source": [
    "filenames = {'U': {'lon': mesh_mask   , 'lat': mesh_mask  , 'depth': ANHA12_gridW_files[0], 'data': ANHA12_gridU_files},\n",
    "             'V': {'lon': mesh_mask   , 'lat': mesh_mask  , 'depth': ANHA12_gridW_files[0], 'data': ANHA12_gridV_files},\n",
    "             'W': {'lon': mesh_mask   , 'lat': mesh_mask  , 'depth': ANHA12_gridW_files[0], 'data': ANHA12_gridW_files},\n",
    "             'Pb': {'lon': files_Pb[0], 'lat': files_Pb[0], 'depth': files_Pb[0], 'data': files_Pb}}\n",
    "\n",
    "dimensions = {'U': {'lon': 'nav_lon', 'lat': 'nav_lat', 'depth': 'depthw'},\n",
    "              'V': {'lon': 'nav_lon', 'lat': 'nav_lat', 'depth': 'depthw'},\n",
    "              'W': {'lon': 'nav_lon', 'lat': 'nav_lat', 'depth': 'depthw'},\n",
    "              'Pb': {'lon': 'nav_lon', 'lat': 'nav_lat', 'depth': 'deptht'}}\n",
    "\n",
    "variables = {'U': 'vozocrtx',\n",
    "             'V': 'vomecrty',\n",
    "             'W': 'vovecrtz',\n",
    "             'Pb': 'dissolpb'}\n",
    "\n",
    "# needed to provide time as timestamps in order to avoid time origin type issue\n",
    "fieldset  = FieldSet.from_nemo(filenames, variables, dimensions, timestamps=timestamps, allow_time_extrapolation=True)"
   ]
  },
  {
   "cell_type": "code",
   "execution_count": 165,
   "id": "6ca3ddd7-bc37-4f61-8327-f008ed6a2850",
   "metadata": {},
   "outputs": [],
   "source": [
    "def DeleteParticle(particle, fieldset, time):\n",
    "    print(\"Particle [%d] lost !! (%g %g %g %g)\" % (particle.id, particle.lon, particle.lat, particle.depth, particle.time))\n",
    "    particle.delete()"
   ]
  },
  {
   "cell_type": "code",
   "execution_count": 166,
   "id": "9414b388-6872-4777-a79b-e2f5d93d9b94",
   "metadata": {},
   "outputs": [],
   "source": [
    "# define new particle class for Pb\n",
    "class PbParticle(JITParticle): \n",
    "    dissolvedPb = Variable('dissolpb', initial=fieldset.Pb)  # Variable 'dissolpb' initialised by sampling the dissolved Pb field"
   ]
  },
  {
   "cell_type": "code",
   "execution_count": 167,
   "id": "55087ccb-145e-4cbc-a88a-38e2fe71904a",
   "metadata": {},
   "outputs": [],
   "source": [
    "release_depth = 1\n",
    "release_lon   = -97.45 # east\n",
    "release_lat   = 74.75  # north\n",
    "release_time  = 0 # edit!!!\n",
    "\n",
    "pset = ParticleSet(fieldset=fieldset, pclass=PbParticle, lon=release_lon, lat=release_lat, time=release_time, depth=release_depth)"
   ]
  },
  {
   "cell_type": "code",
   "execution_count": 168,
   "id": "01abe347-66d4-4fc3-8cb5-43f3bd0b8bad",
   "metadata": {},
   "outputs": [],
   "source": [
    "def SamplePb(particle, fieldset, time):\n",
    "         particle.dissolpb = fieldset.Pb[time, particle.depth, particle.lat, particle.lon]\n",
    "        \n",
    "sample_kernel = pset.Kernel(SamplePb)   "
   ]
  },
  {
   "cell_type": "code",
   "execution_count": 81,
   "id": "10f46c49-2a01-4cb1-90a0-1dcb495ab747",
   "metadata": {},
   "outputs": [],
   "source": [
    "# start_time = datetime.datetime(2015,12,31)\n",
    "# end_time = timemax*6*3600 # in seconds\n",
    "# print(start_time - datetime.timedelta(seconds=end_time))"
   ]
  },
  {
   "cell_type": "code",
   "execution_count": null,
   "id": "ee1a7fac-e92f-4e64-aa4d-383afa0cdf05",
   "metadata": {},
   "outputs": [
    {
     "name": "stderr",
     "output_type": "stream",
     "text": [
      "INFO: Compiled PbParticleAdvectionRK4_3DSamplePb ==> /tmp/parcels-2672/5ba55d931cff40bc1b40a6b9658aa1eb_0.so\n",
      "INFO: Temporary output files are stored in out-GHSEKESS.\n",
      "INFO: You can use \"parcels_convert_npydir_to_netcdf out-GHSEKESS\" to convert these to a NetCDF file during the run.\n",
      " 81% (2116800.0 of 2592000.0) |########  | Elapsed Time: 0:04:19 ETA:   0:00:22"
     ]
    }
   ],
   "source": [
    "output_file = pset.ParticleFile(name=\"test1.nc\", outputdt=delta(hours=12))\n",
    "pset.execute(AdvectionRK4_3D + sample_kernel, runtime=delta(hours=24*30), dt=delta(hours=1),\n",
    "             recovery={ErrorCode.ErrorOutOfBounds: DeleteParticle},\n",
    "             output_file=output_file)\n",
    "output_file.export()\n",
    "# dt      --- the timestep of the kernel\n",
    "# runtime --- the total length of the run"
   ]
  },
  {
   "cell_type": "code",
   "execution_count": 93,
   "id": "0605964f-820f-4151-830a-8f5cca3955d3",
   "metadata": {},
   "outputs": [],
   "source": [
    "def load_tracks(filename):\n",
    "    file  = xr.open_dataset(filename)\n",
    "    traj  = file['trajectory'].values # dimensions: number of particles, tracks\n",
    "    time  = file['time'].values       # units: seconds\n",
    "    lat   = file['lat'].values        # degrees North\n",
    "    lon   = file['lon'].values        # degrees East\n",
    "    depth = file['z'].values        # degrees East\n",
    "    dPb   = file['dissolpb'].values        # degrees East\n",
    "\n",
    "    return traj, time, lon, lat, depth, dPb"
   ]
  },
  {
   "cell_type": "code",
   "execution_count": 94,
   "id": "af8a18b6-b098-4ba8-9f7b-56c4741642af",
   "metadata": {},
   "outputs": [],
   "source": [
    "traj_t1, time_t1, lon_t1, lat_t1, depth_t1, dPb_t1 = load_tracks( \\\n",
    "                                                '/ocean/brogalla/GEOTRACES/analysis-brogalla/particle_tracking/test.nc')"
   ]
  },
  {
   "cell_type": "code",
   "execution_count": 95,
   "id": "2b073c98-b343-4882-9e72-d4708a78de83",
   "metadata": {},
   "outputs": [
    {
     "data": {
      "text/plain": [
       "array([3.0014515e-12, 3.0027317e-12, 3.0041282e-12, 3.0055249e-12,\n",
       "       3.0069213e-12, 3.0083178e-12, 3.0097144e-12, 3.0111109e-12,\n",
       "       3.0125076e-12, 3.0139040e-12, 3.0153007e-12, 3.0166971e-12,\n",
       "       3.0180936e-12, 3.0194903e-12, 3.0208867e-12, 3.0222834e-12,\n",
       "       3.0157109e-12, 3.0167240e-12, 3.0177369e-12, 3.0187500e-12,\n",
       "       3.0197630e-12, 3.0207759e-12, 3.0217890e-12, 3.0228021e-12,\n",
       "       3.0238149e-12, 3.0248280e-12, 3.0258411e-12, 3.0268542e-12,\n",
       "       3.0278670e-12, 3.0288801e-12, 3.0298932e-12], dtype=float32)"
      ]
     },
     "execution_count": 95,
     "metadata": {},
     "output_type": "execute_result"
    }
   ],
   "source": [
    "dPb_t1[0,:]"
   ]
  },
  {
   "cell_type": "markdown",
   "id": "cc234649-5ee0-4c49-907d-2b2fa362ade9",
   "metadata": {},
   "source": [
    "#### Visualize"
   ]
  },
  {
   "cell_type": "code",
   "execution_count": null,
   "id": "da39013e-3394-46b2-acd0-8ccf8d0090b9",
   "metadata": {},
   "outputs": [],
   "source": [
    "import pickle\n",
    "from mpl_toolkits.basemap import Basemap"
   ]
  },
  {
   "cell_type": "code",
   "execution_count": null,
   "id": "79baefce-f8ab-49d3-8e10-27f29063c64e",
   "metadata": {},
   "outputs": [],
   "source": [
    "fig, ax1, proj1 = pickle.load(open('/ocean/brogalla/GEOTRACES/pickles/pb-surface.pickle','rb'))\n",
    "\n",
    "x,y = proj1(lon_t1, lat_t1)\n",
    "\n",
    "particle = 0\n",
    "x_plot = x[particle,:][x[particle,:] < 1e10]\n",
    "y_plot = y[particle,:][y[particle,:] < 1e10]\n",
    "    \n",
    "ax1.plot(x_plot, y_plot,'-', linewidth=0.7, color=dPb_t1[particle,:])\n",
    "ax1.plot(x_plot[-1], y_plot[-1],'.w', markersize=2, markeredgecolor='k')\n",
    "        \n",
    "# fig.colorbar(c, shrink=0.5, label='Time [hours]')"
   ]
  },
  {
   "cell_type": "code",
   "execution_count": null,
   "id": "fa7ccea5-7fbb-488d-968e-bd630c007bc6",
   "metadata": {},
   "outputs": [],
   "source": []
  },
  {
   "cell_type": "code",
   "execution_count": null,
   "id": "0a1b8326-1519-4662-8142-5eb10f8e5b4b",
   "metadata": {},
   "outputs": [],
   "source": []
  }
 ],
 "metadata": {
  "kernelspec": {
   "display_name": "Python 3",
   "language": "python",
   "name": "python3"
  },
  "language_info": {
   "codemirror_mode": {
    "name": "ipython",
    "version": 3
   },
   "file_extension": ".py",
   "mimetype": "text/x-python",
   "name": "python",
   "nbconvert_exporter": "python",
   "pygments_lexer": "ipython3",
   "version": "3.6.11"
  }
 },
 "nbformat": 4,
 "nbformat_minor": 5
}
